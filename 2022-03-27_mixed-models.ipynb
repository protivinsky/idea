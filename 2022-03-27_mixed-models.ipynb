{
 "cells": [
  {
   "cell_type": "markdown",
   "id": "cd2c6ddf-7168-4a5f-8013-e231fc4a16f4",
   "metadata": {},
   "source": [
    "# Mixed models"
   ]
  },
  {
   "cell_type": "code",
   "execution_count": 3,
   "id": "912078ed-6940-46de-91c7-92a64bf775bf",
   "metadata": {},
   "outputs": [],
   "source": [
    "sim1 <- read.csv('temp/sim1.csv')\n",
    "sim2 <- read.csv('temp/sim2.csv')"
   ]
  },
  {
   "cell_type": "code",
   "execution_count": 12,
   "id": "9c2a08d4-8716-4d1b-818a-2ae0201e0760",
   "metadata": {},
   "outputs": [],
   "source": [
    ".libPaths('rlib')"
   ]
  },
  {
   "cell_type": "code",
   "execution_count": 25,
   "id": "62cca2e0-82e8-489c-96e8-c4e3e26b171b",
   "metadata": {},
   "outputs": [
    {
     "name": "stderr",
     "output_type": "stream",
     "text": [
      "Installing packages into ‘/mnt/d/projects/idea/code/rlib’\n",
      "(as ‘lib’ is unspecified)\n",
      "\n",
      "also installing the dependencies ‘Rmpfr’, ‘WeMix’\n",
      "\n",
      "\n"
     ]
    }
   ],
   "source": [
    "install.packages(c('lmerTest', 'EdSurvey'))"
   ]
  },
  {
   "cell_type": "code",
   "execution_count": 16,
   "id": "34742d17-93a5-4425-8526-be7c52cbb538",
   "metadata": {},
   "outputs": [
    {
     "name": "stderr",
     "output_type": "stream",
     "text": [
      "Installing package into ‘/mnt/d/projects/idea/code/rlib’\n",
      "(as ‘lib’ is unspecified)\n",
      "\n",
      "also installing the dependencies ‘stringi’, ‘bit’, ‘backports’, ‘generics’, ‘stringr’, ‘tidyr’, ‘highr’, ‘yaml’, ‘xfun’, ‘bit64’, ‘plyr’, ‘broom’, ‘dplyr’, ‘knitr’, ‘sp’, ‘clipr’, ‘vroom’, ‘tzdb’, ‘purrr’, ‘rematch’, ‘prettyunits’, ‘tmvnsim’, ‘gmp’, ‘truncnorm’, ‘ellipse’, ‘fastcluster’, ‘pheatmap’, ‘reshape2’, ‘carData’, ‘abind’, ‘pbkrtest’, ‘maptools’, ‘forcats’, ‘hms’, ‘readr’, ‘tidyselect’, ‘cpp11’, ‘minqa’, ‘nloptr’, ‘RcppEigen’, ‘SparseM’, ‘MatrixModels’, ‘cellranger’, ‘progress’, ‘mnormt’, ‘RcppArmadillo’, ‘statmod’, ‘Rmpfr’, ‘NPflow’, ‘foreach’, ‘iterators’, ‘car’, ‘lfactors’, ‘data.table’, ‘Formula’, ‘glm2’, ‘haven’, ‘LaF’, ‘lme4’, ‘NAEPprimer’, ‘quantreg’, ‘readxl’, ‘wCorr’, ‘NAEPirtparams’, ‘WeMix’, ‘xtable’, ‘Dire’\n",
      "\n",
      "\n",
      "Warning message in install.packages(\"EdSurvey\"):\n",
      "“installation of package ‘tmvnsim’ had non-zero exit status”\n",
      "Warning message in install.packages(\"EdSurvey\"):\n",
      "“installation of package ‘minqa’ had non-zero exit status”\n",
      "Warning message in install.packages(\"EdSurvey\"):\n",
      "“installation of package ‘nloptr’ had non-zero exit status”\n",
      "Warning message in install.packages(\"EdSurvey\"):\n",
      "“installation of package ‘RcppEigen’ had non-zero exit status”\n",
      "Warning message in install.packages(\"EdSurvey\"):\n",
      "“installation of package ‘SparseM’ had non-zero exit status”\n",
      "Warning message in install.packages(\"EdSurvey\"):\n",
      "“installation of package ‘RcppArmadillo’ had non-zero exit status”\n",
      "Warning message in install.packages(\"EdSurvey\"):\n",
      "“installation of package ‘statmod’ had non-zero exit status”\n",
      "Warning message in install.packages(\"EdSurvey\"):\n",
      "“installation of package ‘mnormt’ had non-zero exit status”\n",
      "Warning message in install.packages(\"EdSurvey\"):\n",
      "“installation of package ‘Rmpfr’ had non-zero exit status”\n",
      "Warning message in install.packages(\"EdSurvey\"):\n",
      "“installation of package ‘lme4’ had non-zero exit status”\n",
      "Warning message in install.packages(\"EdSurvey\"):\n",
      "“installation of package ‘quantreg’ had non-zero exit status”\n",
      "Warning message in install.packages(\"EdSurvey\"):\n",
      "“installation of package ‘wCorr’ had non-zero exit status”\n",
      "Warning message in install.packages(\"EdSurvey\"):\n",
      "“installation of package ‘NPflow’ had non-zero exit status”\n",
      "Warning message in install.packages(\"EdSurvey\"):\n",
      "“installation of package ‘WeMix’ had non-zero exit status”\n",
      "Warning message in install.packages(\"EdSurvey\"):\n",
      "“installation of package ‘pbkrtest’ had non-zero exit status”\n",
      "Warning message in install.packages(\"EdSurvey\"):\n",
      "“installation of package ‘Dire’ had non-zero exit status”\n",
      "Warning message in install.packages(\"EdSurvey\"):\n",
      "“installation of package ‘car’ had non-zero exit status”\n",
      "Warning message in install.packages(\"EdSurvey\"):\n",
      "“installation of package ‘EdSurvey’ had non-zero exit status”\n"
     ]
    }
   ],
   "source": [
    "install.packages('EdSurvey')"
   ]
  },
  {
   "cell_type": "code",
   "execution_count": 26,
   "id": "e2875c5d-8742-454d-8b7b-5df445609f39",
   "metadata": {},
   "outputs": [
    {
     "name": "stderr",
     "output_type": "stream",
     "text": [
      "Loading required package: lme4\n",
      "\n",
      "Loading required package: Matrix\n",
      "\n",
      "\n",
      "Attaching package: ‘lmerTest’\n",
      "\n",
      "\n",
      "The following object is masked from ‘package:lme4’:\n",
      "\n",
      "    lmer\n",
      "\n",
      "\n",
      "The following object is masked from ‘package:stats’:\n",
      "\n",
      "    step\n",
      "\n",
      "\n"
     ]
    }
   ],
   "source": [
    "library(lmerTest)"
   ]
  },
  {
   "cell_type": "code",
   "execution_count": 15,
   "id": "2e13e623-30a8-4707-8773-79a77c108f9f",
   "metadata": {},
   "outputs": [
    {
     "name": "stdout",
     "output_type": "stream",
     "text": [
      "'data.frame':\t10000 obs. of  6 variables:\n",
      " $ X      : int  0 1 2 3 4 5 6 7 8 9 ...\n",
      " $ grade  : int  4 1 2 2 3 4 1 4 1 3 ...\n",
      " $ epsilon: num  -26.12 -6.35 -21.33 -107.63 -122.66 ...\n",
      " $ schid  : int  81 50 87 87 67 36 96 8 55 85 ...\n",
      " $ stid   : int  0 1 2 3 4 5 6 7 8 9 ...\n",
      " $ score  : num  449 544 504 417 377 ...\n"
     ]
    }
   ],
   "source": [
    "str(sim1)"
   ]
  },
  {
   "cell_type": "code",
   "execution_count": 39,
   "id": "66106995-39a2-4141-a070-2325bc84d3e0",
   "metadata": {},
   "outputs": [
    {
     "data": {
      "text/plain": [
       "Linear mixed model fit by maximum likelihood . t-tests use Satterthwaite's\n",
       "  method [lmerModLmerTest]\n",
       "Formula: score ~ grade + (1 | schid)\n",
       "   Data: sim1\n",
       "\n",
       "     AIC      BIC   logLik deviance df.resid \n",
       "120328.7 120357.5 -60160.3 120320.7     9996 \n",
       "\n",
       "Scaled residuals: \n",
       "    Min      1Q  Median      3Q     Max \n",
       "-3.9526 -0.6702  0.0000  0.6717  3.9012 \n",
       "\n",
       "Random effects:\n",
       " Groups   Name        Variance Std.Dev.\n",
       " schid    (Intercept)    7.408  2.722  \n",
       " Residual             9832.671 99.160  \n",
       "Number of obs: 10000, groups:  schid, 100\n",
       "\n",
       "Fixed effects:\n",
       "             Estimate Std. Error        df t value Pr(>|t|)    \n",
       "(Intercept)  571.0260     2.3442 1963.7970  243.59   <2e-16 ***\n",
       "grade        -23.4553     0.7041 9994.7666  -33.31   <2e-16 ***\n",
       "---\n",
       "Signif. codes:  0 ‘***’ 0.001 ‘**’ 0.01 ‘*’ 0.05 ‘.’ 0.1 ‘ ’ 1\n",
       "\n",
       "Correlation of Fixed Effects:\n",
       "      (Intr)\n",
       "grade -0.899"
      ]
     },
     "metadata": {},
     "output_type": "display_data"
    }
   ],
   "source": [
    "m1 <- lmer(score ~ grade + (1 | schid), data=sim1, REML=FALSE)\n",
    "summary(m1)"
   ]
  },
  {
   "cell_type": "code",
   "execution_count": 44,
   "id": "e50f9c82-082e-4f09-8a33-e81cce0b3657",
   "metadata": {},
   "outputs": [
    {
     "data": {
      "text/plain": [
       "\n",
       "Call:\n",
       "lm(formula = score ~ grade, data = sim1)\n",
       "\n",
       "Residuals:\n",
       "    Min      1Q  Median      3Q     Max \n",
       "-392.55  -66.28   -0.22   66.54  386.62 \n",
       "\n",
       "Coefficients:\n",
       "            Estimate Std. Error t value Pr(>|t|)    \n",
       "(Intercept) 571.0627     2.3284  245.26   <2e-16 ***\n",
       "grade       -23.4656     0.7041  -33.33   <2e-16 ***\n",
       "---\n",
       "Signif. codes:  0 ‘***’ 0.001 ‘**’ 0.01 ‘*’ 0.05 ‘.’ 0.1 ‘ ’ 1\n",
       "\n",
       "Residual standard error: 99.21 on 9998 degrees of freedom\n",
       "Multiple R-squared:  0.09999,\tAdjusted R-squared:  0.0999 \n",
       "F-statistic:  1111 on 1 and 9998 DF,  p-value: < 2.2e-16\n"
      ]
     },
     "metadata": {},
     "output_type": "display_data"
    }
   ],
   "source": [
    "mm1 <- lm(score ~ grade, data=sim1)\n",
    "summary(mm1)"
   ]
  },
  {
   "cell_type": "code",
   "execution_count": 45,
   "id": "a23860af-36f7-429f-9afa-9c50409ae8e5",
   "metadata": {},
   "outputs": [
    {
     "data": {
      "text/plain": [
       "'log Lik.' -60160.47 (df=3)"
      ]
     },
     "metadata": {},
     "output_type": "display_data"
    }
   ],
   "source": [
    "logLik(mm1)"
   ]
  },
  {
   "cell_type": "code",
   "execution_count": 38,
   "id": "cad0fc34-4fef-454b-8143-bce0dbcfa125",
   "metadata": {},
   "outputs": [
    {
     "data": {
      "text/plain": [
       "Linear mixed model fit by maximum likelihood . t-tests use Satterthwaite's\n",
       "  method [lmerModLmerTest]\n",
       "Formula: score ~ grade + (1 | schid)\n",
       "   Data: sim2\n",
       "\n",
       "     AIC      BIC   logLik deviance df.resid \n",
       "120921.4 120950.2 -60456.7 120913.4     9996 \n",
       "\n",
       "Scaled residuals: \n",
       "    Min      1Q  Median      3Q     Max \n",
       "-3.4431 -0.6556 -0.0114  0.6695  3.5183 \n",
       "\n",
       "Random effects:\n",
       " Groups   Name        Variance Std.Dev.\n",
       " schid    (Intercept)  2370     48.68  \n",
       " Residual             10113    100.56  \n",
       "Number of obs: 10000, groups:  schid, 100\n",
       "\n",
       "Fixed effects:\n",
       "             Estimate Std. Error        df t value Pr(>|t|)    \n",
       "(Intercept)  574.5393     5.4194  141.0951  106.02   <2e-16 ***\n",
       "grade        -24.7259     0.7162 9906.3517  -34.52   <2e-16 ***\n",
       "---\n",
       "Signif. codes:  0 ‘***’ 0.001 ‘**’ 0.01 ‘*’ 0.05 ‘.’ 0.1 ‘ ’ 1\n",
       "\n",
       "Correlation of Fixed Effects:\n",
       "      (Intr)\n",
       "grade -0.398"
      ]
     },
     "metadata": {},
     "output_type": "display_data"
    }
   ],
   "source": [
    "m2 <- lmer(score ~ grade + (1 | schid), data=sim2, REML=FALSE)\n",
    "summary(m2)"
   ]
  },
  {
   "cell_type": "code",
   "execution_count": 34,
   "id": "c2a2be5e-fee6-4d08-8ea8-9ee92c5e4bef",
   "metadata": {},
   "outputs": [
    {
     "ename": "ERROR",
     "evalue": "Error in eval(expr, envir, enclos): object 'm2.reml_' not found\n",
     "output_type": "error",
     "traceback": [
      "Error in eval(expr, envir, enclos): object 'm2.reml_' not found\nTraceback:\n"
     ]
    }
   ],
   "source": [
    "m2.reml_"
   ]
  },
  {
   "cell_type": "code",
   "execution_count": 40,
   "id": "13b8817a-3081-4b0e-8e5f-dc9930b996af",
   "metadata": {},
   "outputs": [
    {
     "ename": "ERROR",
     "evalue": "Error in eval(expr, envir, enclos): object 'ols' not found\n",
     "output_type": "error",
     "traceback": [
      "Error in eval(expr, envir, enclos): object 'ols' not found\nTraceback:\n"
     ]
    }
   ],
   "source": []
  },
  {
   "cell_type": "code",
   "execution_count": 41,
   "id": "213b21ef-0978-4799-894a-aa0c8ddffb53",
   "metadata": {},
   "outputs": [
    {
     "data": {
      "text/plain": [
       "\n",
       "Call:\n",
       "lm(formula = score ~ grade, data = sim2)\n",
       "\n",
       "Residuals:\n",
       "    Min      1Q  Median      3Q     Max \n",
       "-365.89  -73.95   -0.08   76.00  418.68 \n",
       "\n",
       "Coefficients:\n",
       "            Estimate Std. Error t value Pr(>|t|)    \n",
       "(Intercept) 575.5940     2.6364  218.33   <2e-16 ***\n",
       "grade       -24.9358     0.7925  -31.46   <2e-16 ***\n",
       "---\n",
       "Signif. codes:  0 ‘***’ 0.001 ‘**’ 0.01 ‘*’ 0.05 ‘.’ 0.1 ‘ ’ 1\n",
       "\n",
       "Residual standard error: 111.7 on 9998 degrees of freedom\n",
       "Multiple R-squared:  0.0901,\tAdjusted R-squared:  0.09001 \n",
       "F-statistic:   990 on 1 and 9998 DF,  p-value: < 2.2e-16\n"
      ]
     },
     "metadata": {},
     "output_type": "display_data"
    }
   ],
   "source": [
    "mm2 <- lm(score ~ grade, data=sim2)\n",
    "summary(mm2)"
   ]
  },
  {
   "cell_type": "code",
   "execution_count": 43,
   "id": "140257b3-9140-4626-bc91-c3d5d1f16a24",
   "metadata": {},
   "outputs": [
    {
     "data": {
      "text/plain": [
       "'log Lik.' -61346.05 (df=3)"
      ]
     },
     "metadata": {},
     "output_type": "display_data"
    }
   ],
   "source": [
    "logLik(mm2)"
   ]
  },
  {
   "cell_type": "code",
   "execution_count": null,
   "id": "8f84d96a-bb4e-474c-8633-98dc4f0138bf",
   "metadata": {},
   "outputs": [],
   "source": []
  }
 ],
 "metadata": {
  "kernelspec": {
   "display_name": "R",
   "language": "R",
   "name": "ir"
  },
  "language_info": {
   "codemirror_mode": "r",
   "file_extension": ".r",
   "mimetype": "text/x-r-source",
   "name": "R",
   "pygments_lexer": "r",
   "version": "4.1.3"
  }
 },
 "nbformat": 4,
 "nbformat_minor": 5
}
