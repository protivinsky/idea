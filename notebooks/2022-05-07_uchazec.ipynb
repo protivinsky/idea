{
 "cells": [
  {
   "cell_type": "code",
   "execution_count": null,
   "id": "4ca4c702-e1d7-4fe6-8543-3c8ec6db2743",
   "metadata": {},
   "outputs": [],
   "source": [
    "!pip install simpledbf"
   ]
  },
  {
   "cell_type": "code",
   "execution_count": 1,
   "id": "873652d0-ba1d-4765-9aa3-8cd917b95e16",
   "metadata": {},
   "outputs": [
    {
     "name": "stdout",
     "output_type": "stream",
     "text": [
      "The history saving thread hit an unexpected error (DatabaseError('database disk image is malformed')).History will not be written to the database.\n",
      "PyTables is not installed. No support for HDF output.\n",
      "SQLalchemy is not installed. No support for SQL output.\n"
     ]
    }
   ],
   "source": [
    "import pandas as pd\n",
    "from simpledbf import Dbf5"
   ]
  },
  {
   "cell_type": "code",
   "execution_count": null,
   "id": "a33ac4aa-0968-462f-84b5-9ac34c7c1103",
   "metadata": {},
   "outputs": [],
   "source": [
    "# nejake standardni importy\n",
    "import os\n",
    "import sys\n",
    "import pyreadstat\n",
    "import pandas as pd\n",
    "import numpy as np\n",
    "import re\n",
    "from statsmodels.stats.weightstats import DescrStatsW\n",
    "from sklearn.linear_model import LinearRegression\n",
    "import statsmodels.api as sm\n",
    "import statsmodels.formula.api as smf\n",
    "import scipy\n",
    "import seaborn as sns\n",
    "import matplotlib as mpl\n",
    "import matplotlib.pyplot as plt\n",
    "# aby grafy byly rozumně čitelné na obrazovce\n",
    "plt.rcParams['figure.dpi'] = 90\n",
    "plt.rcParams['axes.titlesize'] = 11\n",
    "plt.rcParams['figure.figsize'] = 10, 5\n",
    "#plt.ioff()\n",
    "import stata_setup\n",
    "stata_setup.config('/usr/local/stata17', 'be')\n",
    "from pystata import stata"
   ]
  },
  {
   "cell_type": "code",
   "execution_count": null,
   "id": "b996d70a-cea7-40e3-9655-cc915c56622d",
   "metadata": {},
   "outputs": [],
   "source": [
    "root = '/mnt/d/projects/idea/data'"
   ]
  },
  {
   "cell_type": "code",
   "execution_count": 1,
   "id": "3c9acc49-8b38-4ef8-915a-91e408949737",
   "metadata": {},
   "outputs": [
    {
     "name": "stdout",
     "output_type": "stream",
     "text": [
      "The history saving thread hit an unexpected error (DatabaseError('database disk image is malformed')).History will not be written to the database.\n"
     ]
    }
   ],
   "source": [
    "dbf_file = '/mnt/d/projects/idea/data/uchazec/0022MUCH21P.dbf'"
   ]
  },
  {
   "cell_type": "code",
   "execution_count": 13,
   "id": "e7adbbbb-f5fd-4cfe-9132-e79f690f7e7e",
   "metadata": {},
   "outputs": [],
   "source": [
    "dbf = Dbf5('/mnt/d/projects/idea/data/uchazec/0022MUCH21P.dbf')"
   ]
  },
  {
   "cell_type": "code",
   "execution_count": 3,
   "id": "5f5cd4e3-9a4d-43f9-b475-5e74d863bdff",
   "metadata": {},
   "outputs": [
    {
     "data": {
      "text/plain": [
       "<simpledbf.simpledbf.Dbf5 at 0x7ff62c0fc0a0>"
      ]
     },
     "execution_count": 3,
     "metadata": {},
     "output_type": "execute_result"
    }
   ],
   "source": [
    "dbf"
   ]
  },
  {
   "cell_type": "code",
   "execution_count": 4,
   "id": "9bdf80cf-57e5-4a58-a7bd-cc17bcada3ad",
   "metadata": {},
   "outputs": [
    {
     "data": {
      "text/plain": [
       "253584"
      ]
     },
     "execution_count": 4,
     "metadata": {},
     "output_type": "execute_result"
    }
   ],
   "source": [
    "dbf.numrec"
   ]
  },
  {
   "cell_type": "code",
   "execution_count": 5,
   "id": "ce6e659f-9b11-45b8-8688-f8df48e5aa87",
   "metadata": {},
   "outputs": [
    {
     "data": {
      "text/plain": [
       "[('DeletionFlag', 'C', 1),\n",
       " ('RDAT', 'C', 8),\n",
       " ('RID', 'C', 5),\n",
       " ('ROD_KOD', 'C', 10),\n",
       " ('STATB', 'C', 3),\n",
       " ('OBECB', 'C', 6),\n",
       " ('PSCB', 'C', 5),\n",
       " ('STAT', 'C', 3),\n",
       " ('ODHL', 'C', 1),\n",
       " ('IZOS', 'C', 9),\n",
       " ('OBSS', 'C', 8),\n",
       " ('RMAT', 'C', 4),\n",
       " ('TYP_ST', 'C', 1),\n",
       " ('FORMA_ST', 'C', 1),\n",
       " ('PROGRAM', 'C', 5),\n",
       " ('OBOR1', 'C', 8),\n",
       " ('OBOR2', 'C', 8),\n",
       " ('OBOR3', 'C', 8),\n",
       " ('OBOR4', 'C', 8),\n",
       " ('OBOR5', 'C', 8),\n",
       " ('APRO1', 'C', 3),\n",
       " ('APRO2', 'C', 3),\n",
       " ('APRO3', 'C', 3),\n",
       " ('DAT_REG', 'C', 8),\n",
       " ('VYPR', 'C', 2),\n",
       " ('DAT_VYPR', 'C', 8),\n",
       " ('ZAPS', 'C', 2),\n",
       " ('DAT_ZAPS', 'C', 8),\n",
       " ('CHYV', 'C', 35),\n",
       " ('\\r', '\\x00', 0),\n",
       " ('', '\\x00', 0),\n",
       " ('', '\\x00', 0),\n",
       " ('', '\\x00', 0),\n",
       " ('', '\\x00', 0),\n",
       " ('', '\\x00', 0),\n",
       " ('', '\\x00', 0),\n",
       " ('', '\\x00', 0)]"
      ]
     },
     "execution_count": 5,
     "metadata": {},
     "output_type": "execute_result"
    }
   ],
   "source": [
    "dbf.fields"
   ]
  },
  {
   "cell_type": "code",
   "execution_count": 6,
   "id": "227e78ae-0d27-4243-a321-306703cd792b",
   "metadata": {},
   "outputs": [],
   "source": [
    "df = dbf.to_dataframe()"
   ]
  },
  {
   "cell_type": "code",
   "execution_count": 7,
   "id": "32bd522f-fbcb-47da-8448-3d47224601ee",
   "metadata": {},
   "outputs": [
    {
     "data": {
      "text/html": [
       "<div>\n",
       "<style scoped>\n",
       "    .dataframe tbody tr th:only-of-type {\n",
       "        vertical-align: middle;\n",
       "    }\n",
       "\n",
       "    .dataframe tbody tr th {\n",
       "        vertical-align: top;\n",
       "    }\n",
       "\n",
       "    .dataframe thead th {\n",
       "        text-align: right;\n",
       "    }\n",
       "</style>\n",
       "<table border=\"1\" class=\"dataframe\">\n",
       "  <thead>\n",
       "    <tr style=\"text-align: right;\">\n",
       "      <th></th>\n",
       "      <th>RDAT</th>\n",
       "      <th>RID</th>\n",
       "      <th>ROD_KOD</th>\n",
       "      <th>STATB</th>\n",
       "      <th>OBECB</th>\n",
       "      <th>PSCB</th>\n",
       "      <th>STAT</th>\n",
       "      <th>ODHL</th>\n",
       "      <th>IZOS</th>\n",
       "      <th>OBSS</th>\n",
       "      <th>...</th>\n",
       "      <th>DAT_ZAPS</th>\n",
       "      <th>CHYV</th>\n",
       "      <th>\\r</th>\n",
       "      <th></th>\n",
       "      <th></th>\n",
       "      <th></th>\n",
       "      <th></th>\n",
       "      <th></th>\n",
       "      <th></th>\n",
       "      <th></th>\n",
       "    </tr>\n",
       "  </thead>\n",
       "  <tbody>\n",
       "  </tbody>\n",
       "</table>\n",
       "<p>0 rows × 36 columns</p>\n",
       "</div>"
      ],
      "text/plain": [
       "Empty DataFrame\n",
       "Columns: [RDAT, RID, ROD_KOD, STATB, OBECB, PSCB, STAT, ODHL, IZOS, OBSS, RMAT, TYP_ST, FORMA_ST, PROGRAM, OBOR1, OBOR2, OBOR3, OBOR4, OBOR5, APRO1, APRO2, APRO3, DAT_REG, VYPR, DAT_VYPR, ZAPS, DAT_ZAPS, CHYV, \n",
       ", , , , , , , ]\n",
       "Index: []\n",
       "\n",
       "[0 rows x 36 columns]"
      ]
     },
     "execution_count": 7,
     "metadata": {},
     "output_type": "execute_result"
    }
   ],
   "source": [
    "df"
   ]
  },
  {
   "cell_type": "code",
   "execution_count": null,
   "id": "df50bee9-411f-446d-9bfd-067120c81c03",
   "metadata": {},
   "outputs": [],
   "source": [
    "!ls /mnt/d/projects/idea/data/uchazec/"
   ]
  },
  {
   "cell_type": "code",
   "execution_count": null,
   "id": "68d2728d-f0f2-46a5-bdba-2ae6a3774ee5",
   "metadata": {},
   "outputs": [],
   "source": [
    "!pip install dbf"
   ]
  },
  {
   "cell_type": "code",
   "execution_count": 2,
   "id": "bdaf493b-83a0-4b4e-813c-aafa5f3d6c09",
   "metadata": {},
   "outputs": [],
   "source": [
    "import dbf"
   ]
  },
  {
   "cell_type": "code",
   "execution_count": 3,
   "id": "c7d321cb-7e83-4b2f-880f-a4be5e18f185",
   "metadata": {},
   "outputs": [],
   "source": [
    "foo = dbf.Table(dbf_file)"
   ]
  },
  {
   "cell_type": "code",
   "execution_count": 4,
   "id": "1dd23c0e-5b07-4565-8cf0-0a2912a51b30",
   "metadata": {},
   "outputs": [
    {
     "data": {
      "text/plain": [
       "dbf.Table('/mnt/d/projects/idea/data/uchazec/0022MUCH21P.dbf', status=<DbfStatus.CLOSED: 0>)"
      ]
     },
     "execution_count": 4,
     "metadata": {},
     "output_type": "execute_result"
    }
   ],
   "source": [
    "foo"
   ]
  },
  {
   "cell_type": "code",
   "execution_count": null,
   "id": "31075182-6f74-4387-a514-3395ec1ccf62",
   "metadata": {},
   "outputs": [],
   "source": []
  },
  {
   "cell_type": "code",
   "execution_count": null,
   "id": "c9fd7fe4-ee77-475b-9aad-e644b48aff34",
   "metadata": {},
   "outputs": [],
   "source": []
  },
  {
   "cell_type": "code",
   "execution_count": 5,
   "id": "2a39e93c-55c8-4e0c-9551-e5ff99e8fd46",
   "metadata": {},
   "outputs": [],
   "source": [
    "with dbf.Table(dbf_file) as table:\n",
    "    dbf.export(table, '/mnt/d/projects/idea/data/uchazec/0022MUCH21P.csv')"
   ]
  },
  {
   "cell_type": "code",
   "execution_count": 7,
   "id": "35ed90eb-fa66-48f4-a3b8-fe0411fdeb73",
   "metadata": {},
   "outputs": [],
   "source": [
    "import pandas as pd"
   ]
  },
  {
   "cell_type": "code",
   "execution_count": 9,
   "id": "e84e0724-333d-4c31-8c2e-b6834346aca7",
   "metadata": {},
   "outputs": [
    {
     "name": "stderr",
     "output_type": "stream",
     "text": [
      "/tmp/ipykernel_1174/2226496602.py:1: DtypeWarning: Columns (6) have mixed types. Specify dtype option on import or set low_memory=False.\n",
      "  df = pd.read_csv('/mnt/d/projects/idea/data/uchazec/0022MUCH17P.csv', encoding='cp1250')\n"
     ]
    }
   ],
   "source": [
    "df = pd.read_csv('/mnt/d/projects/idea/data/uchazec/0022MUCH17P.csv', encoding='cp1250')"
   ]
  },
  {
   "cell_type": "code",
   "execution_count": 10,
   "id": "98e8985f-8224-46cc-abf6-7be81f801e08",
   "metadata": {},
   "outputs": [
    {
     "data": {
      "text/html": [
       "<div>\n",
       "<style scoped>\n",
       "    .dataframe tbody tr th:only-of-type {\n",
       "        vertical-align: middle;\n",
       "    }\n",
       "\n",
       "    .dataframe tbody tr th {\n",
       "        vertical-align: top;\n",
       "    }\n",
       "\n",
       "    .dataframe thead th {\n",
       "        text-align: right;\n",
       "    }\n",
       "</style>\n",
       "<table border=\"1\" class=\"dataframe\">\n",
       "  <thead>\n",
       "    <tr style=\"text-align: right;\">\n",
       "      <th></th>\n",
       "      <th>RDAT</th>\n",
       "      <th>RID</th>\n",
       "      <th>ROD_KOD</th>\n",
       "      <th>STATB</th>\n",
       "      <th>OBECB</th>\n",
       "      <th>PSCB</th>\n",
       "      <th>STAT</th>\n",
       "      <th>ODHL</th>\n",
       "      <th>IZOS</th>\n",
       "      <th>OBSS</th>\n",
       "      <th>...</th>\n",
       "      <th>OBOR5</th>\n",
       "      <th>APRO1</th>\n",
       "      <th>APRO2</th>\n",
       "      <th>APRO3</th>\n",
       "      <th>DAT_REG</th>\n",
       "      <th>VYPR</th>\n",
       "      <th>DAT_VYPR</th>\n",
       "      <th>ZAPS</th>\n",
       "      <th>DAT_ZAPS</th>\n",
       "      <th>CHYV</th>\n",
       "    </tr>\n",
       "  </thead>\n",
       "  <tbody>\n",
       "    <tr>\n",
       "      <th>0</th>\n",
       "      <td>20171031</td>\n",
       "      <td>78900</td>\n",
       "      <td></td>\n",
       "      <td>840</td>\n",
       "      <td></td>\n",
       "      <td></td>\n",
       "      <td>840</td>\n",
       "      <td>2</td>\n",
       "      <td>999999840</td>\n",
       "      <td></td>\n",
       "      <td>...</td>\n",
       "      <td></td>\n",
       "      <td></td>\n",
       "      <td></td>\n",
       "      <td></td>\n",
       "      <td>3042017</td>\n",
       "      <td>10</td>\n",
       "      <td>03042017</td>\n",
       "      <td>2</td>\n",
       "      <td>31102017</td>\n",
       "      <td>00 01    1 00000         0000000</td>\n",
       "    </tr>\n",
       "    <tr>\n",
       "      <th>1</th>\n",
       "      <td>20171031</td>\n",
       "      <td>78900</td>\n",
       "      <td></td>\n",
       "      <td>368</td>\n",
       "      <td></td>\n",
       "      <td></td>\n",
       "      <td>368</td>\n",
       "      <td>2</td>\n",
       "      <td>999999368</td>\n",
       "      <td></td>\n",
       "      <td>...</td>\n",
       "      <td></td>\n",
       "      <td></td>\n",
       "      <td></td>\n",
       "      <td></td>\n",
       "      <td>9052017</td>\n",
       "      <td>10</td>\n",
       "      <td>09052017</td>\n",
       "      <td>2</td>\n",
       "      <td>31102017</td>\n",
       "      <td>00 01    1 00000         0000000</td>\n",
       "    </tr>\n",
       "    <tr>\n",
       "      <th>2</th>\n",
       "      <td>20171031</td>\n",
       "      <td>15110</td>\n",
       "      <td>000101</td>\n",
       "      <td>112</td>\n",
       "      <td></td>\n",
       "      <td></td>\n",
       "      <td>112</td>\n",
       "      <td>2</td>\n",
       "      <td>999999112</td>\n",
       "      <td></td>\n",
       "      <td>...</td>\n",
       "      <td></td>\n",
       "      <td></td>\n",
       "      <td></td>\n",
       "      <td></td>\n",
       "      <td>22022017</td>\n",
       "      <td>20</td>\n",
       "      <td>15062017</td>\n",
       "      <td>0</td>\n",
       "      <td></td>\n",
       "      <td>00 0 0   0000000        0000 0 0</td>\n",
       "    </tr>\n",
       "    <tr>\n",
       "      <th>3</th>\n",
       "      <td>20171031</td>\n",
       "      <td>15110</td>\n",
       "      <td>000101</td>\n",
       "      <td>112</td>\n",
       "      <td></td>\n",
       "      <td></td>\n",
       "      <td>112</td>\n",
       "      <td>2</td>\n",
       "      <td>999999112</td>\n",
       "      <td></td>\n",
       "      <td>...</td>\n",
       "      <td></td>\n",
       "      <td></td>\n",
       "      <td></td>\n",
       "      <td></td>\n",
       "      <td>22022017</td>\n",
       "      <td>20</td>\n",
       "      <td>15062017</td>\n",
       "      <td>0</td>\n",
       "      <td></td>\n",
       "      <td>00 0 0   0000000        0000 0 0</td>\n",
       "    </tr>\n",
       "    <tr>\n",
       "      <th>4</th>\n",
       "      <td>20171031</td>\n",
       "      <td>14110</td>\n",
       "      <td>000101</td>\n",
       "      <td>112</td>\n",
       "      <td></td>\n",
       "      <td>23104</td>\n",
       "      <td>112</td>\n",
       "      <td>9</td>\n",
       "      <td>999999112</td>\n",
       "      <td></td>\n",
       "      <td>...</td>\n",
       "      <td></td>\n",
       "      <td></td>\n",
       "      <td></td>\n",
       "      <td></td>\n",
       "      <td>13022017</td>\n",
       "      <td>20</td>\n",
       "      <td>20062017</td>\n",
       "      <td>0</td>\n",
       "      <td></td>\n",
       "      <td>00 0 0   0000000        0000 0 0</td>\n",
       "    </tr>\n",
       "  </tbody>\n",
       "</table>\n",
       "<p>5 rows × 28 columns</p>\n",
       "</div>"
      ],
      "text/plain": [
       "       RDAT    RID     ROD_KOD STATB   OBECB   PSCB STAT ODHL       IZOS  \\\n",
       "0  20171031  78900               840                 840    2  999999840   \n",
       "1  20171031  78900               368                 368    2  999999368   \n",
       "2  20171031  15110  000101       112                 112    2  999999112   \n",
       "3  20171031  15110  000101       112                 112    2  999999112   \n",
       "4  20171031  14110  000101       112          23104  112    9  999999112   \n",
       "\n",
       "       OBSS  ...     OBOR5 APRO1 APRO2 APRO3   DAT_REG VYPR  DAT_VYPR ZAPS  \\\n",
       "0            ...                               3042017   10  03042017    2   \n",
       "1            ...                               9052017   10  09052017    2   \n",
       "2            ...                              22022017   20  15062017    0   \n",
       "3            ...                              22022017   20  15062017    0   \n",
       "4            ...                              13022017   20  20062017    0   \n",
       "\n",
       "   DAT_ZAPS                                 CHYV  \n",
       "0  31102017     00 01    1 00000         0000000  \n",
       "1  31102017     00 01    1 00000         0000000  \n",
       "2               00 0 0   0000000        0000 0 0  \n",
       "3               00 0 0   0000000        0000 0 0  \n",
       "4               00 0 0   0000000        0000 0 0  \n",
       "\n",
       "[5 rows x 28 columns]"
      ]
     },
     "execution_count": 10,
     "metadata": {},
     "output_type": "execute_result"
    }
   ],
   "source": [
    "df.head()"
   ]
  },
  {
   "cell_type": "code",
   "execution_count": 11,
   "id": "ad8d80bc-4fbf-40b5-86a1-31e82557ce94",
   "metadata": {},
   "outputs": [
    {
     "data": {
      "text/plain": [
       "Index(['RDAT', 'RID', 'ROD_KOD', 'STATB', 'OBECB', 'PSCB', 'STAT', 'ODHL',\n",
       "       'IZOS', 'OBSS', 'RMAT', 'TYP_ST', 'FORMA_ST', 'PROGRAM', 'OBOR1',\n",
       "       'OBOR2', 'OBOR3', 'OBOR4', 'OBOR5', 'APRO1', 'APRO2', 'APRO3',\n",
       "       'DAT_REG', 'VYPR', 'DAT_VYPR', 'ZAPS', 'DAT_ZAPS', 'CHYV'],\n",
       "      dtype='object')"
      ]
     },
     "execution_count": 11,
     "metadata": {},
     "output_type": "execute_result"
    }
   ],
   "source": [
    "df.columns"
   ]
  },
  {
   "cell_type": "code",
   "execution_count": 12,
   "id": "354060d7-c068-4b23-bb99-8a9c064e26cd",
   "metadata": {},
   "outputs": [
    {
     "data": {
      "text/plain": [
       "(253584, 28)"
      ]
     },
     "execution_count": 12,
     "metadata": {},
     "output_type": "execute_result"
    }
   ],
   "source": [
    "df.shape"
   ]
  },
  {
   "cell_type": "code",
   "execution_count": 13,
   "id": "d1029ea4-6dc6-416e-96dc-d5b0d4902255",
   "metadata": {},
   "outputs": [],
   "source": [
    "df[:1000].to_csv('temp/uchazec.csv')"
   ]
  },
  {
   "cell_type": "code",
   "execution_count": null,
   "id": "2e9e3a91-65e7-4caa-9158-0aebeda5c4bc",
   "metadata": {},
   "outputs": [],
   "source": []
  },
  {
   "cell_type": "code",
   "execution_count": 8,
   "id": "016197fb-205f-4f76-998c-89790c927b5d",
   "metadata": {},
   "outputs": [
    {
     "ename": "NameError",
     "evalue": "name 'foo' is not defined",
     "output_type": "error",
     "traceback": [
      "\u001b[0;31m---------------------------------------------------------------------------\u001b[0m",
      "\u001b[0;31mNameError\u001b[0m                                 Traceback (most recent call last)",
      "Input \u001b[0;32mIn [8]\u001b[0m, in \u001b[0;36m<cell line: 1>\u001b[0;34m()\u001b[0m\n\u001b[0;32m----> 1\u001b[0m \u001b[43mfoo\u001b[49m\n",
      "\u001b[0;31mNameError\u001b[0m: name 'foo' is not defined"
     ]
    }
   ],
   "source": [
    "foo"
   ]
  },
  {
   "cell_type": "code",
   "execution_count": null,
   "id": "e51d347e-0dd8-46f4-8a78-18c11bf240b1",
   "metadata": {},
   "outputs": [],
   "source": [
    "df,"
   ]
  }
 ],
 "metadata": {
  "kernelspec": {
   "display_name": "Python 3 (ipykernel)",
   "language": "python",
   "name": "python3"
  },
  "language_info": {
   "codemirror_mode": {
    "name": "ipython",
    "version": 3
   },
   "file_extension": ".py",
   "mimetype": "text/x-python",
   "name": "python",
   "nbconvert_exporter": "python",
   "pygments_lexer": "ipython3",
   "version": "3.10.4"
  }
 },
 "nbformat": 4,
 "nbformat_minor": 5
}
