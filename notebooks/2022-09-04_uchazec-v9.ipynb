{
 "cells": [
  {
   "cell_type": "markdown",
   "id": "0cc89004-1630-4512-a1ae-fd0262ff826d",
   "metadata": {},
   "source": [
    "# Uchazeč: data o uchazečích o studium na pedagogických fakultách"
   ]
  },
  {
   "cell_type": "markdown",
   "id": "789728d2-8a92-43af-81e5-da1cf26e1880",
   "metadata": {},
   "source": [
    "- přejmenuj sloupce v datasetu, aby to mělo logičtější strukturu\n",
    "- připrav variable_labels a value_labels pro export do staty"
   ]
  },
  {
   "cell_type": "markdown",
   "id": "41b8e29f-fb42-421e-a63d-338794fa4acd",
   "metadata": {
    "incorrectly_encoded_metadata": "tags=[] jp-MarkdownHeadingCollapsed=true",
    "jp-MarkdownHeadingCollapsed": true,
    "tags": []
   },
   "source": [
    "## Importy"
   ]
  },
  {
   "cell_type": "code",
   "execution_count": 1,
   "id": "b7f9508e-98ec-4a39-abfd-d3a5efe70745",
   "metadata": {},
   "outputs": [],
   "source": [
    "# nejake standardni importy\n",
    "import os\n",
    "import sys\n",
    "import pyreadstat\n",
    "import pandas as pd\n",
    "import numpy as np\n",
    "import re\n",
    "from statsmodels.stats.weightstats import DescrStatsW\n",
    "from sklearn.linear_model import LinearRegression\n",
    "import statsmodels.api as sm\n",
    "import statsmodels.formula.api as smf\n",
    "import scipy\n",
    "import seaborn as sns\n",
    "import matplotlib as mpl\n",
    "import matplotlib.pyplot as plt\n",
    "# aby grafy byly rozumně čitelné na obrazovce\n",
    "plt.rcParams['figure.dpi'] = 90\n",
    "plt.rcParams['axes.titlesize'] = 11\n",
    "plt.rcParams['figure.figsize'] = 10, 5\n",
    "#plt.ioff()\n",
    "import dbf"
   ]
  },
  {
   "cell_type": "code",
   "execution_count": 2,
   "id": "badc5844-9f92-4b10-8bab-317f9cfa1ba5",
   "metadata": {},
   "outputs": [],
   "source": [
    "data_root = '/mnt/d/projects/idea/data'\n",
    "path17 = 'uchazec/0022MUCH17P'\n",
    "path21 = 'uchazec/0022MUCH21P'"
   ]
  },
  {
   "cell_type": "markdown",
   "id": "b1e95649-affb-4085-897e-d83e8acdd19e",
   "metadata": {
    "tags": []
   },
   "source": [
    "## Load data"
   ]
  },
  {
   "cell_type": "code",
   "execution_count": 3,
   "id": "b43afabf-60a0-428c-a5a2-7ba33ccb55d6",
   "metadata": {},
   "outputs": [],
   "source": [
    "def loader(year=21):\n",
    "    \n",
    "    # year can be 17 or 21\n",
    "    data_root = '/mnt/d/projects/idea/data'\n",
    "    path = f'uchazec/0022MUCH{year}P'\n",
    "    \n",
    "    df = pd.read_csv(f'{data_root}/{path}.csv', encoding='cp1250', low_memory=False)\n",
    "    \n",
    "    # conversion to numeric\n",
    "    for c in ['RMAT', 'STAT', 'STATB', 'IZOS', 'VYPR', 'ZAPS'] + [f'APRO{i}' for i in range(1, 4)]:\n",
    "        df[c] = pd.to_numeric(df[c], errors='coerce')\n",
    "        \n",
    "    # strip white spaces\n",
    "    for c in ['OBSS', 'RID', 'PROGRAM'] + [f'OBOR{i}' for i in range(1, 6)]:\n",
    "        df[c] = df[c].str.strip()\n",
    "    \n",
    "    to_rename = {\n",
    "        'RDAT': 'dat_sber',\n",
    "        'RID': 'fak_id',\n",
    "        'ROD_KOD': 'id',\n",
    "        'STATB': 'bydliste_stat',\n",
    "        'OBECB': 'bydliste_obec',\n",
    "        'PSCB': 'bydliste_psc',\n",
    "        'STAT': 'stat',\n",
    "        'ODHL': 'odhl',\n",
    "        'IZOS': 'ss_izo',\n",
    "        'OBSS': 'ss_obor',\n",
    "        'RMAT': 'rmat',\n",
    "        'TYP_ST': 'typ_st',\n",
    "        'FORMA_ST': 'forma_st',\n",
    "        'PROGRAM': 'program',\n",
    "        'OBOR1': 'obor1',\n",
    "        'OBOR2': 'obor2',\n",
    "        'OBOR3': 'obor3',\n",
    "        'OBOR4': 'obor4',\n",
    "        'OBOR5': 'obor5',\n",
    "        'APRO1': 'apro1',\n",
    "        'APRO2': 'apro2',\n",
    "        'APRO3': 'apro3',\n",
    "        'DAT_REG': 'dat_reg',\n",
    "        'VYPR': 'vypr',\n",
    "        'DAT_VYPR': 'dat_vypr',\n",
    "        'ZAPS': 'zaps',\n",
    "        'DAT_ZAPS': 'dat_zaps'\n",
    "    }\n",
    "\n",
    "    to_drop = ['CHYV']\n",
    "    \n",
    "    value_labels = {}\n",
    "    variable_labels = {}\n",
    "    \n",
    "    df = df.rename(columns=to_rename).drop(columns=to_drop)\n",
    "    \n",
    "    # label STAT, STATB: register AAST\n",
    "    aast_xml = 'http://stistko.uiv.cz/katalog/textdata/C21752AAST.xml'\n",
    "    aast = pd.read_xml(aast_xml, encoding='cp1250', xpath='./veta')\n",
    "    aast['IDX'] = aast.index\n",
    "    aast['ISO_ALPHA3'] = aast['SPC'].str[2:5]\n",
    "    df = pd.merge(df.rename(columns={'stat': 'KOD'}), aast[['KOD', 'IDX']].rename(columns={'IDX': 'stat'}), \n",
    "                  how='left').drop(columns=['KOD'])\n",
    "    df['stat_iso'] = df['stat']\n",
    "    df = pd.merge(df.rename(columns={'bydliste_stat': 'KOD'}), aast[['KOD', 'IDX']].rename(columns={'IDX': 'bydliste_stat'}), \n",
    "                  how='left').drop(columns=['KOD'])\n",
    "    df['bydliste_stat_iso'] = df['bydliste_stat']\n",
    "    \n",
    "    aast_dict = aast[['IDX', 'ZKR']].set_index('IDX')['ZKR'].to_dict()\n",
    "    aast_iso_dict = aast[['IDX', 'ISO_ALPHA3']].set_index('IDX')['ISO_ALPHA3'].to_dict()\n",
    "    value_labels['stat'] = aast_dict\n",
    "    value_labels['stat_iso'] = aast_iso_dict\n",
    "    value_labels['bydliste_stat'] = aast_dict\n",
    "    value_labels['bydliste_stat_iso'] = aast_iso_dict\n",
    "    \n",
    "    # registers for ODHL, TYP_ST, FORMA_ST, VYPR, ZAPS\n",
    "    # http://stistko.uiv.cz/dsia/cisel.html -- might be needed to update urls\n",
    "    registers = {\n",
    "        'odhl': 'http://stistko.uiv.cz/katalog/textdata/C21820MCPP.xml',\n",
    "        'typ_st': 'http://stistko.uiv.cz/katalog/textdata/C21845PASP.xml',\n",
    "        'forma_st' : 'http://stistko.uiv.cz/katalog/textdata/C2196PAFS.xml',\n",
    "        'vypr': 'http://stistko.uiv.cz/katalog/textdata/C21925MCPR.xml',\n",
    "        'zaps': 'http://stistko.uiv.cz/katalog/textdata/C21939MCZR.xml',\n",
    "        # 'OBSS': 'http://stistko.uiv.cz/katalog/textdata/C113922AKSO.xml'\n",
    "    }\n",
    "    \n",
    "    for c, url in registers.items():\n",
    "        rg = pd.read_xml(url, encoding='cp1250', xpath='./veta')\n",
    "        rg['IDX'] = rg.index\n",
    "        df = pd.merge(df.rename(columns={c: 'KOD'}), rg[['KOD', 'IDX']].rename(columns={'IDX': c}), \n",
    "                      how='left').drop(columns=['KOD'])        \n",
    "        rg_dict = rg[['IDX', 'TXT']].set_index('IDX')['TXT'].to_dict()\n",
    "        value_labels[c] = rg_dict\n",
    "    \n",
    "    # gender etc.\n",
    "    value_labels['gender'] = {0: 'Dívka', 1: 'Chlapec', 2: 'Neznámé'}\n",
    "    df['je_rc'] = df['id'].str[4:6] == 'QQ'\n",
    "    df['rc1'] = np.where(df['je_rc'], pd.to_numeric(df['id'].str[:2], errors='coerce'), np.nan)\n",
    "    df['rc2'] = np.where(df['je_rc'], pd.to_numeric(df['id'].str[2:4], errors='coerce'), np.nan)\n",
    "    df['gender'] = np.where(df['je_rc'], np.where(df['rc2'] > 50, 0, 1), 2)\n",
    "    df['nar_rok'] = np.where(df['je_rc'], np.where(df['rc1'] < year - 5, 2000 + df['rc1'], 1900 + df['rc1']), np.nan)\n",
    "    df['nar_mesic'] = np.where(df['je_rc'], np.where(df['rc2'] > 50, df['rc2'] - 50, df['rc2']), np.nan)\n",
    "    df = df.drop(columns=['je_rc', 'rc1', 'rc2'])\n",
    "    df['vek'] = 2000 + year - df['nar_rok'] + (9 - df['nar_mesic']) / 12\n",
    "    \n",
    "    # label OBSS - I am not including full school info\n",
    "    #   -> actually, this give me slightly better match - probably because I am including also specializations that are not valid anymore\n",
    "    li = []\n",
    "    for y in range(1999, 2023):\n",
    "        pdf = pd.read_csv(f'{data_root}/uchazec/stredni-skoly/m{y}.csv', encoding='cp1250')\n",
    "        pdf['year'] = y\n",
    "        li.append(pdf)\n",
    "    ss = pd.concat(li, axis=0, ignore_index=True).drop_duplicates().reset_index(drop=True)\n",
    "    ss = ss.sort_values('year', ascending=False).drop_duplicates('IZO').sort_index()\n",
    "    ss['OBOR'] = ss['OBOR'].str.strip()\n",
    "\n",
    "    sss = ss[['IZO', 'VUSC']].drop_duplicates().reset_index(drop=True)       \n",
    "    # SS is complicated -> too lengthy for stata value labels...\n",
    "    # df['ss'] = df['ss_izo']\n",
    "    df = pd.merge(df, sss[['IZO', 'VUSC']].rename(columns={'IZO': 'ss_izo', 'VUSC': 'ss_nuts'}), how='left')\n",
    "    # df['ss_nuts'] = df['ss_izo']\n",
    "    # value_labels['ss'] = sss[['IZO', 'ZAR_PLN']].set_index('IZO')['ZAR_PLN'].to_dict()\n",
    "    # value_labels['ss_nuts'] = sss[['IZO', 'VUSC']].set_index('IZO')['VUSC'].to_dict()\n",
    "    \n",
    "    odhl_ss = {v: k for k, v in value_labels['odhl'].items()}['Střední škola']\n",
    "    value_labels['ss_typ'] = {9: 'Není SŠ', 0: 'SOŠ', 1: 'Gymnázium', 2: 'Jiné'}\n",
    "    df['ss_typ'] = np.where(df['odhl'] != odhl_ss, 9, np.where(df['ss_obor'] == '', 2,\n",
    "                                                               np.where(df['ss_obor'].str.startswith('794'), 1, 0)))\n",
    "    df['ss_gym_delka'] = np.where(df['ss_typ'] == 1, pd.to_numeric(df['ss_obor'].str[5], errors='coerce'), np.nan)\n",
    "\n",
    "    regpro = pd.read_csv(f'{data_root}/uchazec/uch3-03-6/cisel/regpro.csv', encoding='cp1250')\n",
    "    regpro['RID'] = regpro['RID'].str.strip()\n",
    "    regpro = regpro[['RID', 'ZAR_PLN', 'VS_PLN', 'UZEMI']]\n",
    "    regpro['IDX'] = regpro.index\n",
    "    regpro['FAK_S_VS'] = regpro['VS_PLN'] + ', ' + regpro['ZAR_PLN']\n",
    "    \n",
    "    vs = regpro[['VS_PLN']].drop_duplicates().sort_values('VS_PLN').reset_index(drop=True)\n",
    "    vs['VS_IDX'] = vs.index\n",
    "    \n",
    "    regpro = pd.merge(regpro, vs)\n",
    "    df = pd.merge(df, regpro[['IDX', 'RID', 'VS_IDX', 'UZEMI']]\n",
    "                  .rename(columns={'IDX': 'fak_nazev', 'VS_IDX': 'vs_nazev', 'RID': 'fak_id', 'UZEMI': 'fak_nuts'}),\n",
    "                  how='left')\n",
    "    \n",
    "    # df['fak_plny'] = df['fak_nazev']\n",
    "    value_labels['fak_nazev'] = regpro[['IDX', 'ZAR_PLN']].set_index('IDX')['ZAR_PLN'].str.strip().to_dict()\n",
    "    # value_labels['fak_plny'] = regpro[['IDX', 'FAK_S_VS']].set_index('IDX')['FAK_S_VS'].to_dict()\n",
    "    value_labels['vs_nazev'] = vs[['VS_IDX', 'VS_PLN']].set_index('VS_IDX')['VS_PLN'].str.strip().to_dict()    \n",
    "    \n",
    "    # this is sensible only for 2017 data...\n",
    "#     akko_xml = 'http://stistko.uiv.cz/katalog/textdata/C11240AKKO.xml'\n",
    "#     akko = pd.read_xml(akko_xml, encoding='cp1250', xpath='./veta')\n",
    "#     for i in [1, 2, 5]:\n",
    "#         df[f'obor1_{i}'] = df['obor1'].str[:i]\n",
    "    \n",
    "#     akko1 = akko[akko['KOD'].str.len() == 1].copy()\n",
    "#     akko1['KOD'] = pd.to_numeric(akko1['KOD'])\n",
    "#     value_labels['obor1_1'] = akko1[['KOD', 'TXT']].set_index('KOD')['TXT'].to_dict()\n",
    "    \n",
    "#     akko2 = akko[akko['KOD'].str.len() == 2].copy()\n",
    "#     akko2['KOD'] = pd.to_numeric(akko2['KOD'])\n",
    "#     value_labels['obor1_2'] = akko2[['KOD', 'TXT']].set_index('KOD')['TXT'].to_dict()\n",
    "    \n",
    "#     akko5 = akko[akko['KOD'].str.len() == 5].copy().reset_index(drop=True)\n",
    "#     akko5['IDX'] = akko5.index\n",
    "\n",
    "#     df = pd.merge(df.rename(columns={'obor1_5': 'KOD'}), akko5[['KOD', 'IDX']].rename(columns={'IDX': 'obor1_5'}), \n",
    "#                   how='left').drop(columns=['KOD'])\n",
    "#     value_labels['obor1_5'] = akko5[['IDX', 'TXT']].set_index('IDX')['TXT'].to_dict()    \n",
    "    \n",
    "    # program = pd.read_csv(f'{data_root}/uchazec/uch3-03-6/cisel/program.csv', encoding='cp1250')\n",
    "    # program['IDX'] = program.index\n",
    "    # df = pd.merge(df.rename(columns={'program': 'KOD'}), program[['KOD', 'IDX']].rename(columns={'IDX': 'program'}), \n",
    "    #               how='left').drop(columns=['KOD'])    \n",
    "    # value_labels['program'] = program[['IDX', 'NAZEV']].set_index('IDX')['NAZEV'].to_dict()\n",
    "    \n",
    "#     akvo_xml = 'http://stistko.uiv.cz/katalog/textdata/C214117AKVO.xml'\n",
    "#     akvo = pd.read_xml(akvo_xml, encoding='cp1250', xpath='./veta')\n",
    "#     akvo['IDX'] = akvo.index\n",
    "#     akvo_dict = akvo[['IDX', 'TXT']].set_index('IDX')['TXT'].to_dict()\n",
    "        \n",
    "#     for i in range(1, 6):\n",
    "#         df = pd.merge(df.rename(columns={f'obor{i}': 'KOD'}), akvo[['KOD', 'IDX']].rename(columns={'IDX': f'obor{i}'}), \n",
    "#                       how='left').drop(columns=['KOD'])        \n",
    "#         value_labels[f'obor{i}'] = akvo_dict\n",
    "    \n",
    "    variable_labels = {\n",
    "        'id': 'Identifikátor uchazeče (kódované rodné číslo)',\n",
    "        'gender': 'Pohlaví uchazeče',\n",
    "        'nar_rok': 'Rok narození',\n",
    "        'nar_mesic': 'Měsíc narození',\n",
    "        'vek': 'Přibližný věk uchazeče',\n",
    "        'stat': 'Státní příslušnost uchazeče',\n",
    "        'stat_iso': 'Státní příslušnost uchazeče (ISO)',\n",
    "        'bydliste_stat': 'Stát trvalého pobytu',\n",
    "        'bydliste_stat_iso': 'Stát trvalého pobytu (ISO)',\n",
    "        'bydliste_obec': 'Obec trvalého pobytu',\n",
    "        'bydliste_psc': 'PSČ trvalého pobytu',\n",
    "        'fak_id': 'Identifikátor fakulty',\n",
    "        'fak_nazev': 'Název fakulty',\n",
    "        # 'fak_plny': 'Název fakulty včetně VŠ',\n",
    "        'fak_nuts': 'Lokalita fakulty',\n",
    "        'vs_nazev': 'Název vysoké školy',\n",
    "        'odhl': 'Odkud se uchazeč hlásí',\n",
    "        'ss_izo': 'Identifikátor střední školy',\n",
    "        # 'ss': 'Střední škola',\n",
    "        'ss_nuts': 'NUTS region střední školy',\n",
    "        'ss_obor': 'Obor studia střední školy',\n",
    "        'ss_typ': 'Typ střední školy',\n",
    "        'ss_gym_delka': 'Délka studia gymnázia',\n",
    "        'rmat': 'Rok maturity',\n",
    "        'typ_st': 'Typ studia',\n",
    "        'forma_st': 'Forma studia',\n",
    "        'vypr': 'Výsledek přijímacího řízení',\n",
    "        'zaps': 'Výsledek zápisu',\n",
    "        'program': 'Studijní program',\n",
    "        'obor1': 'Studijní obor',\n",
    "        'obor2': 'Studijní obor',\n",
    "        'obor3': 'Studijní obor',\n",
    "        'obor4': 'Studijní obor',\n",
    "        'obor5': 'Studijní obor',\n",
    "        'apro1': 'Aprobace',\n",
    "        'apro2': 'Aprobace',\n",
    "        'apro3': 'Aprobace',\n",
    "        # 'obor1_1': 'Skupina programů podle prvního oboru',\n",
    "        # 'obor1_2': 'Podskupina programů podle prvního oboru',\n",
    "        # 'obor1_5': 'Program podle prvního oboru',\n",
    "        'dat_sber': 'Rozhodné datum sběru',\n",
    "        'dat_reg': 'Datum podání (registrace) přihlášky',\n",
    "        'dat_vypr': 'Datum rozhodnutí o výsledku přijímacího řízení',\n",
    "        'dat_zaps': 'Datum zápisu',\n",
    "    }\n",
    "\n",
    "    df = df[variable_labels.keys()]\n",
    "    \n",
    "    return df, variable_labels, value_labels\n",
    "    \n"
   ]
  },
  {
   "cell_type": "code",
   "execution_count": 4,
   "id": "f7d4c72f-6de5-414d-8cf6-dfc9d316ed88",
   "metadata": {},
   "outputs": [
    {
     "name": "stdout",
     "output_type": "stream",
     "text": [
      "loading 2017\n",
      "loading 2021\n"
     ]
    }
   ],
   "source": [
    "for year in [17, 21]:\n",
    "    print(f'loading 20{year}')\n",
    "    df, variable_labels, value_labels = loader(year=year)\n",
    "    df.to_stata(f'{data_root}/uchazec/uch{year}.dta', write_index=False, version=118, variable_labels=variable_labels, value_labels=value_labels)"
   ]
  },
  {
   "cell_type": "code",
   "execution_count": 7,
   "id": "a7ce75e5-e6ac-4d89-af44-b73869dcc4b1",
   "metadata": {},
   "outputs": [],
   "source": [
    "df, variable_labels, value_labels = loader()"
   ]
  },
  {
   "cell_type": "code",
   "execution_count": 5,
   "id": "66c28549-0db9-4387-a95c-d37b9758e753",
   "metadata": {},
   "outputs": [
    {
     "data": {
      "text/plain": [
       "(284201, 39)"
      ]
     },
     "execution_count": 5,
     "metadata": {},
     "output_type": "execute_result"
    }
   ],
   "source": [
    "df.shape"
   ]
  },
  {
   "cell_type": "code",
   "execution_count": 6,
   "id": "45b26c7d-24e2-4c85-91f3-8e74d205c0f7",
   "metadata": {},
   "outputs": [
    {
     "data": {
      "text/plain": [
       "{'id': 'Identifikátor uchazeče (kódované rodné číslo)',\n",
       " 'gender': 'Pohlaví uchazeče',\n",
       " 'nar_rok': 'Rok narození',\n",
       " 'nar_mesic': 'Měsíc narození',\n",
       " 'vek': 'Přibližný věk uchazeče',\n",
       " 'stat': 'Státní příslušnost uchazeče',\n",
       " 'stat_iso': 'Státní příslušnost uchazeče (ISO)',\n",
       " 'bydliste_stat': 'Stát trvalého pobytu',\n",
       " 'bydliste_stat_iso': 'Stát trvalého pobytu (ISO)',\n",
       " 'bydliste_obec': 'Obec trvalého pobytu',\n",
       " 'bydliste_psc': 'PSČ trvalého pobytu',\n",
       " 'fak_id': 'Identifikátor fakulty',\n",
       " 'fak_nazev': 'Název fakulty',\n",
       " 'fak_nuts': 'Lokalita fakulty',\n",
       " 'vs_nazev': 'Název vysoké školy',\n",
       " 'odhl': 'Odkud se uchazeč hlásí',\n",
       " 'ss_izo': 'Identifikátor střední školy',\n",
       " 'ss_nuts': 'NUTS region střední školy',\n",
       " 'ss_obor': 'Obor studia střední školy',\n",
       " 'ss_typ': 'Typ střední školy',\n",
       " 'ss_gym_delka': 'Délka studia gymnázia',\n",
       " 'rmat': 'Rok maturity',\n",
       " 'typ_st': 'Typ studia',\n",
       " 'forma_st': 'Forma studia',\n",
       " 'vypr': 'Výsledek přijímacího řízení',\n",
       " 'zaps': 'Výsledek zápisu',\n",
       " 'program': 'Studijní program',\n",
       " 'obor1': 'Studijní obor',\n",
       " 'obor2': 'Studijní obor',\n",
       " 'obor3': 'Studijní obor',\n",
       " 'obor4': 'Studijní obor',\n",
       " 'obor5': 'Studijní obor',\n",
       " 'apro1': 'Aprobace',\n",
       " 'apro2': 'Aprobace',\n",
       " 'apro3': 'Aprobace',\n",
       " 'dat_sber': 'Rozhodné datum sběru',\n",
       " 'dat_reg': 'Datum podání (registrace) přihlášky',\n",
       " 'dat_vypr': 'Datum rozhodnutí o výsledku přijímacího řízení',\n",
       " 'dat_zaps': 'Datum zápisu'}"
      ]
     },
     "execution_count": 6,
     "metadata": {},
     "output_type": "execute_result"
    }
   ],
   "source": [
    "variable_labels"
   ]
  },
  {
   "cell_type": "code",
   "execution_count": 7,
   "id": "edf219ed-5823-46bc-a764-42887d92a98a",
   "metadata": {},
   "outputs": [],
   "source": [
    "for c in df.columns:\n",
    "    if c in value_labels.keys():\n",
    "        df[c] = df[c].map(value_labels[c]).astype('category')"
   ]
  },
  {
   "cell_type": "code",
   "execution_count": 8,
   "id": "de34dad6-7d6e-4967-8d83-13b7a4abae39",
   "metadata": {},
   "outputs": [],
   "source": [
    "df.to_parquet('temp/uchazec/uch21.parquet')"
   ]
  },
  {
   "cell_type": "code",
   "execution_count": 9,
   "id": "6f201006-d314-4e87-aa91-70b6ccf2b983",
   "metadata": {},
   "outputs": [
    {
     "data": {
      "text/html": [
       "<div>\n",
       "<style scoped>\n",
       "    .dataframe tbody tr th:only-of-type {\n",
       "        vertical-align: middle;\n",
       "    }\n",
       "\n",
       "    .dataframe tbody tr th {\n",
       "        vertical-align: top;\n",
       "    }\n",
       "\n",
       "    .dataframe thead th {\n",
       "        text-align: right;\n",
       "    }\n",
       "</style>\n",
       "<table border=\"1\" class=\"dataframe\">\n",
       "  <thead>\n",
       "    <tr style=\"text-align: right;\">\n",
       "      <th></th>\n",
       "      <th>id</th>\n",
       "      <th>gender</th>\n",
       "      <th>nar_rok</th>\n",
       "      <th>nar_mesic</th>\n",
       "      <th>vek</th>\n",
       "      <th>stat</th>\n",
       "      <th>stat_iso</th>\n",
       "      <th>bydliste_stat</th>\n",
       "      <th>bydliste_stat_iso</th>\n",
       "      <th>bydliste_obec</th>\n",
       "      <th>...</th>\n",
       "      <th>obor3</th>\n",
       "      <th>obor4</th>\n",
       "      <th>obor5</th>\n",
       "      <th>apro1</th>\n",
       "      <th>apro2</th>\n",
       "      <th>apro3</th>\n",
       "      <th>dat_sber</th>\n",
       "      <th>dat_reg</th>\n",
       "      <th>dat_vypr</th>\n",
       "      <th>dat_zaps</th>\n",
       "    </tr>\n",
       "  </thead>\n",
       "  <tbody>\n",
       "    <tr>\n",
       "      <th>0</th>\n",
       "      <td></td>\n",
       "      <td>Neznámé</td>\n",
       "      <td>NaN</td>\n",
       "      <td>NaN</td>\n",
       "      <td>NaN</td>\n",
       "      <td>Slovensko</td>\n",
       "      <td>SVK</td>\n",
       "      <td>Slovensko</td>\n",
       "      <td>SVK</td>\n",
       "      <td></td>\n",
       "      <td>...</td>\n",
       "      <td></td>\n",
       "      <td></td>\n",
       "      <td></td>\n",
       "      <td>NaN</td>\n",
       "      <td>NaN</td>\n",
       "      <td>NaN</td>\n",
       "      <td>20211031</td>\n",
       "      <td>8072021</td>\n",
       "      <td>08072021</td>\n",
       "      <td>08072021</td>\n",
       "    </tr>\n",
       "    <tr>\n",
       "      <th>1</th>\n",
       "      <td></td>\n",
       "      <td>Neznámé</td>\n",
       "      <td>NaN</td>\n",
       "      <td>NaN</td>\n",
       "      <td>NaN</td>\n",
       "      <td>Slovensko</td>\n",
       "      <td>SVK</td>\n",
       "      <td>Slovensko</td>\n",
       "      <td>SVK</td>\n",
       "      <td></td>\n",
       "      <td>...</td>\n",
       "      <td></td>\n",
       "      <td></td>\n",
       "      <td></td>\n",
       "      <td>NaN</td>\n",
       "      <td>NaN</td>\n",
       "      <td>NaN</td>\n",
       "      <td>20211031</td>\n",
       "      <td>23062021</td>\n",
       "      <td>23062021</td>\n",
       "      <td>23062021</td>\n",
       "    </tr>\n",
       "    <tr>\n",
       "      <th>2</th>\n",
       "      <td></td>\n",
       "      <td>Neznámé</td>\n",
       "      <td>NaN</td>\n",
       "      <td>NaN</td>\n",
       "      <td>NaN</td>\n",
       "      <td>Slovensko</td>\n",
       "      <td>SVK</td>\n",
       "      <td>Slovensko</td>\n",
       "      <td>SVK</td>\n",
       "      <td></td>\n",
       "      <td>...</td>\n",
       "      <td></td>\n",
       "      <td></td>\n",
       "      <td></td>\n",
       "      <td>NaN</td>\n",
       "      <td>NaN</td>\n",
       "      <td>NaN</td>\n",
       "      <td>20211031</td>\n",
       "      <td>28072021</td>\n",
       "      <td>28072021</td>\n",
       "      <td>28072021</td>\n",
       "    </tr>\n",
       "    <tr>\n",
       "      <th>3</th>\n",
       "      <td></td>\n",
       "      <td>Neznámé</td>\n",
       "      <td>NaN</td>\n",
       "      <td>NaN</td>\n",
       "      <td>NaN</td>\n",
       "      <td>Slovensko</td>\n",
       "      <td>SVK</td>\n",
       "      <td>Slovensko</td>\n",
       "      <td>SVK</td>\n",
       "      <td></td>\n",
       "      <td>...</td>\n",
       "      <td></td>\n",
       "      <td></td>\n",
       "      <td></td>\n",
       "      <td>NaN</td>\n",
       "      <td>NaN</td>\n",
       "      <td>NaN</td>\n",
       "      <td>20211031</td>\n",
       "      <td>8072021</td>\n",
       "      <td>08072021</td>\n",
       "      <td>08072021</td>\n",
       "    </tr>\n",
       "    <tr>\n",
       "      <th>4</th>\n",
       "      <td></td>\n",
       "      <td>Neznámé</td>\n",
       "      <td>NaN</td>\n",
       "      <td>NaN</td>\n",
       "      <td>NaN</td>\n",
       "      <td>Nigérie</td>\n",
       "      <td>NGA</td>\n",
       "      <td>Nigérie</td>\n",
       "      <td>NGA</td>\n",
       "      <td></td>\n",
       "      <td>...</td>\n",
       "      <td></td>\n",
       "      <td></td>\n",
       "      <td></td>\n",
       "      <td>NaN</td>\n",
       "      <td>NaN</td>\n",
       "      <td>NaN</td>\n",
       "      <td>20211031</td>\n",
       "      <td>10112020</td>\n",
       "      <td>10112020</td>\n",
       "      <td></td>\n",
       "    </tr>\n",
       "  </tbody>\n",
       "</table>\n",
       "<p>5 rows × 39 columns</p>\n",
       "</div>"
      ],
      "text/plain": [
       "           id   gender  nar_rok  nar_mesic  vek       stat stat_iso  \\\n",
       "0              Neznámé      NaN        NaN  NaN  Slovensko      SVK   \n",
       "1              Neznámé      NaN        NaN  NaN  Slovensko      SVK   \n",
       "2              Neznámé      NaN        NaN  NaN  Slovensko      SVK   \n",
       "3              Neznámé      NaN        NaN  NaN  Slovensko      SVK   \n",
       "4              Neznámé      NaN        NaN  NaN    Nigérie      NGA   \n",
       "\n",
       "  bydliste_stat bydliste_stat_iso bydliste_obec  ... obor3 obor4 obor5 apro1  \\\n",
       "0     Slovensko               SVK                ...                     NaN   \n",
       "1     Slovensko               SVK                ...                     NaN   \n",
       "2     Slovensko               SVK                ...                     NaN   \n",
       "3     Slovensko               SVK                ...                     NaN   \n",
       "4       Nigérie               NGA                ...                     NaN   \n",
       "\n",
       "  apro2 apro3  dat_sber   dat_reg  dat_vypr  dat_zaps  \n",
       "0   NaN   NaN  20211031   8072021  08072021  08072021  \n",
       "1   NaN   NaN  20211031  23062021  23062021  23062021  \n",
       "2   NaN   NaN  20211031  28072021  28072021  28072021  \n",
       "3   NaN   NaN  20211031   8072021  08072021  08072021  \n",
       "4   NaN   NaN  20211031  10112020  10112020            \n",
       "\n",
       "[5 rows x 39 columns]"
      ]
     },
     "execution_count": 9,
     "metadata": {},
     "output_type": "execute_result"
    }
   ],
   "source": [
    "df.head()"
   ]
  },
  {
   "cell_type": "code",
   "execution_count": null,
   "id": "858b2c9a-c4d8-4fc7-a185-8da81e9399bb",
   "metadata": {},
   "outputs": [],
   "source": []
  },
  {
   "cell_type": "code",
   "execution_count": null,
   "id": "a297d50e-a208-4e45-a9bd-56556b5d1c96",
   "metadata": {},
   "outputs": [],
   "source": [
    "for year in [17, 21]:\n",
    "    df, variable_labels, value_labels = loader(year=year)\n",
    "    for c in df.columns:\n",
    "        if c in value_labels.keys():\n",
    "            df[c] = df[c].map(value_labels[c]).astype('category')\n",
    "    df.to_parquet(f'temp/uchazec/uch{year}.parquet')\n",
    "\n",
    "df17 = pd.read_parquet('temp/uchazec/uch17.parquet')\n",
    "df21 = pd.read_parquet('temp/uchazec/uch21.parquet')\n",
    "df = df21"
   ]
  },
  {
   "cell_type": "markdown",
   "id": "b6f6268a-3c8a-421a-aa5e-bf0ceffbba17",
   "metadata": {
    "incorrectly_encoded_metadata": "tags=[] jp-MarkdownHeadingCollapsed=true"
   },
   "source": [
    "## Read data"
   ]
  },
  {
   "cell_type": "code",
   "execution_count": 15,
   "id": "7d2b82fd-ed11-41f6-8473-024281138800",
   "metadata": {},
   "outputs": [],
   "source": [
    "variable_labels = {'id': 'Identifikátor uchazeče (kódované rodné číslo)',\n",
    " 'gender': 'Pohlaví uchazeče',\n",
    " 'nar_rok': 'Rok narození',\n",
    " 'nar_mesic': 'Měsíc narození',\n",
    " 'vek': 'Přibližný věk uchazeče',\n",
    " 'stat': 'Státní příslušnost uchazeče',\n",
    " 'stat_iso': 'Státní příslušnost uchazeče (ISO)',\n",
    " 'bydliste_stat': 'Stát trvalého pobytu',\n",
    " 'bydliste_stat_iso': 'Stát trvalého pobytu (ISO)',\n",
    " 'bydliste_obec': 'Obec trvalého pobytu',\n",
    " 'bydliste_psc': 'PSČ trvalého pobytu',\n",
    " 'fak_id': 'Identifikátor fakulty',\n",
    " 'fak_nazev': 'Název fakulty',\n",
    " 'fak_nuts': 'Lokalita fakulty',\n",
    " 'vs_nazev': 'Název vysoké školy',\n",
    " 'odhl': 'Odkud se uchazeč hlásí',\n",
    " 'ss_izo': 'Identifikátor střední školy',\n",
    " 'ss_nuts': 'NUTS region střední školy',\n",
    " 'ss_obor': 'Obor studia střední školy',\n",
    " 'ss_typ': 'Typ střední školy',\n",
    " 'ss_gym_delka': 'Délka studia gymnázia',\n",
    " 'rmat': 'Rok maturity',\n",
    " 'typ_st': 'Typ studia',\n",
    " 'forma_st': 'Forma studia',\n",
    " 'vypr': 'Výsledek přijímacího řízení',\n",
    " 'zaps': 'Výsledek zápisu',\n",
    " 'program': 'Studijní program',\n",
    " 'obor1': 'Studijní obor',\n",
    " 'obor2': 'Studijní obor',\n",
    " 'obor3': 'Studijní obor',\n",
    " 'obor4': 'Studijní obor',\n",
    " 'obor5': 'Studijní obor',\n",
    " 'apro1': 'Aprobace',\n",
    " 'apro2': 'Aprobace',\n",
    " 'apro3': 'Aprobace',\n",
    " 'dat_sber': 'Rozhodné datum sběru',\n",
    " 'dat_reg': 'Datum podání (registrace) přihlášky',\n",
    " 'dat_vypr': 'Datum rozhodnutí o výsledku přijímacího řízení',\n",
    " 'dat_zaps': 'Datum zápisu'}"
   ]
  },
  {
   "cell_type": "code",
   "execution_count": 106,
   "id": "d290e027-c7b8-4280-9756-f3c0e83ca726",
   "metadata": {},
   "outputs": [],
   "source": [
    "df = pd.read_parquet('temp/uchazec/uch21.parquet')"
   ]
  },
  {
   "cell_type": "markdown",
   "id": "c1f220ee-447f-428d-9ab5-1b9b2d7d1948",
   "metadata": {},
   "source": [
    "## Filtrování dat"
   ]
  },
  {
   "cell_type": "code",
   "execution_count": 18,
   "id": "cbe8337a-f51f-4fa9-9465-081a83c67f46",
   "metadata": {},
   "outputs": [
    {
     "data": {
      "text/plain": [
       "(284201, 39)"
      ]
     },
     "execution_count": 18,
     "metadata": {},
     "output_type": "execute_result"
    }
   ],
   "source": [
    "df.shape"
   ]
  },
  {
   "cell_type": "markdown",
   "id": "70d864e2-f470-42a7-aaf2-41a602917b08",
   "metadata": {},
   "source": [
    "- QQ v id, pak zkontroluj kolik je opakovaných záznamů; tím bych měl mít také jenom českou národnost\n",
    "- Hlásí se ze střední školy\n",
    "\n",
    "Kolik žáků tím vyřadím?"
   ]
  },
  {
   "cell_type": "markdown",
   "id": "7db73fe4-96aa-4ea9-bdef-63355ad7378a",
   "metadata": {},
   "source": [
    "- podíl úspěšných uchazečů podle krajů, typu školy\n",
    "- k tomu ale potřebuji rozlišit \"nepřijat kvůli zkoušce\" a \"přijímací řízení zrušeno\"\n",
    "    - možná jít až na úroveň jednotlivých kategorií vypr?"
   ]
  },
  {
   "cell_type": "code",
   "execution_count": 15,
   "id": "999bb904-d7ad-4baa-bcc9-48336948fbe2",
   "metadata": {},
   "outputs": [
    {
     "data": {
      "text/plain": [
       "True     240372\n",
       "False     43829\n",
       "Name: id, dtype: int64"
      ]
     },
     "execution_count": 15,
     "metadata": {},
     "output_type": "execute_result"
    }
   ],
   "source": [
    "# QQ v id\n",
    "(df['id'].str[4:6] == 'QQ').value_counts()"
   ]
  },
  {
   "cell_type": "code",
   "execution_count": 130,
   "id": "38b6ddc4-ab43-4b12-ba96-0a978628b723",
   "metadata": {},
   "outputs": [],
   "source": [
    "df = df[df['id'].str[4:6] == 'QQ']\n",
    "df = df[df['stat_iso'] == 'CZE']\n",
    "# df = df[df['ss_typ'].isin(['Gymnázium', 'SOŠ'])]\n",
    "# jen žáci co letos maturují\n",
    "df = df[df['rmat'] == 2021]\n",
    "df = df.dropna(subset=['vypr'])\n",
    "unused_cat = ['gender', 'stat_iso', 'ss_typ']\n",
    "for uc in unused_cat:\n",
    "    df[uc] = df[uc].cat.remove_unused_categories()\n",
    "df = df.reset_index(drop=True)"
   ]
  },
  {
   "cell_type": "code",
   "execution_count": 108,
   "id": "e4cd4f72-3ec7-4b08-a6a5-8eb49456202b",
   "metadata": {},
   "outputs": [],
   "source": [
    "url = 'http://stistko.uiv.cz/katalog/textdata/C213145AKEN.xml'\n",
    "rg = pd.read_xml(url, encoding='cp1250', xpath='./veta')\n",
    "nuts_dict = rg.set_index('KOD')['ZKR'].to_dict()\n",
    "df['ss_kraj'] = df['ss_nuts'].str[:5].map(nuts_dict).astype('category')"
   ]
  },
  {
   "cell_type": "code",
   "execution_count": 124,
   "id": "1e63e38b-fb40-4f5d-8fd8-c524da62a5f5",
   "metadata": {},
   "outputs": [
    {
     "data": {
      "text/plain": [
       "0               Nepřijat pro neprospěch u přijímací zkoušky\n",
       "1                              Přijat bez přijímací zkoušky\n",
       "2         Nepřijat pro nedostačující kapacitu oboru/stud...\n",
       "3         Nepřijat pro nedostačující kapacitu oboru/stud...\n",
       "4         Nepřijat pro nedostačující kapacitu oboru/stud...\n",
       "                                ...                        \n",
       "144556          Nepřijat pro neprospěch u přijímací zkoušky\n",
       "144557                   Nedostavil se k přijímacímu řízení\n",
       "144558                   Nedostavil se k přijímacímu řízení\n",
       "144559          Nepřijat pro neprospěch u přijímací zkoušky\n",
       "144560          Nepřijat pro neprospěch u přijímací zkoušky\n",
       "Name: vypr, Length: 144561, dtype: category\n",
       "Categories (12, object): ['Nedostavil se k přijímacímu řízení', 'Nepřijat pro nedoložení požadovaného předchoz..., 'Nepřijat pro nedostačující kapacitu oboru/stu..., 'Nepřijat pro neprospěch u přijímací zkoušky', ..., 'Přijat z kurzů celoživotního vzdělávání', 'Přijat z předchozího vysokoškolského studia (..., 'Přijímací řízení zrušeno pro nedostatek uchaz..., 'Přijímací řízení zrušeno z administrativních ...]"
      ]
     },
     "execution_count": 124,
     "metadata": {},
     "output_type": "execute_result"
    }
   ],
   "source": [
    "df['vypr']"
   ]
  },
  {
   "cell_type": "code",
   "execution_count": 131,
   "id": "a2d03bf0-4666-4032-9ef8-ef7350e416a4",
   "metadata": {},
   "outputs": [
    {
     "data": {
      "text/plain": [
       "False    78633\n",
       "True     65485\n",
       "Name: vypr, dtype: int64"
      ]
     },
     "execution_count": 131,
     "metadata": {},
     "output_type": "execute_result"
    }
   ],
   "source": [
    "df['vypr'].str.startswith('Přijat').value_counts(dropna=False)"
   ]
  },
  {
   "cell_type": "code",
   "execution_count": 132,
   "id": "5e25ec4a-16df-46e2-984d-96c5f3bd154e",
   "metadata": {},
   "outputs": [
    {
     "data": {
      "text/plain": [
       "Přijat na základě přijímací zkoušky                              32206\n",
       "Přijat bez přijímací zkoušky                                     31507\n",
       "Nepřijat pro nedostačující kapacitu oboru/studijního programu    24496\n",
       "Nepřijat pro neprospěch u přijímací zkoušky                      23961\n",
       "Nedostavil se k přijímacímu řízení                               14976\n",
       "Nepřijat pro nedoložení požadovaného předchozího vzdělání        11523\n",
       "Nepřijat pro nesplnění dalších podmínek přijetí                   2116\n",
       "Přijat dodatečně (po odvolání, po přezkumném řízení, apod.)       1734\n",
       "Přijímací řízení zrušeno z administrativních důvodů               1553\n",
       "Přijat z předchozího vysokoškolského studia (přestup)               38\n",
       "Přijímací řízení zrušeno pro nedostatek uchazečů                     8\n",
       "Přijat z kurzů celoživotního vzdělávání                              0\n",
       "Name: vypr, dtype: int64"
      ]
     },
     "execution_count": 132,
     "metadata": {},
     "output_type": "execute_result"
    }
   ],
   "source": [
    "df['vypr'].value_counts(dropna=False)"
   ]
  },
  {
   "cell_type": "code",
   "execution_count": 127,
   "id": "3dd710ba-036b-4c3e-9d30-deae4feea96a",
   "metadata": {},
   "outputs": [
    {
     "data": {
      "text/plain": [
       "(144561,)"
      ]
     },
     "execution_count": 127,
     "metadata": {},
     "output_type": "execute_result"
    }
   ],
   "source": [
    "df['vypr'].shape"
   ]
  },
  {
   "cell_type": "code",
   "execution_count": 133,
   "id": "c4ee97ad-09e2-4cbf-a3c2-7e1b88eb2b8d",
   "metadata": {},
   "outputs": [],
   "source": [
    "df['vypr_flag'] = df['vypr'].str.startswith('Přijat')\n",
    "df['zaps_neprijat'] = df['zaps'] == 'Uchazeč nebyl přijat'\n",
    "df['zaps_zapsal'] = df['zaps'] == 'Uchazeč se zapsal'\n",
    "df['zaps_nezapsal'] = df['zaps'] == 'Uchazeč se nezapsal'"
   ]
  },
  {
   "cell_type": "code",
   "execution_count": 147,
   "id": "2933eb95-75ae-4152-8f53-07d2ae28722d",
   "metadata": {},
   "outputs": [],
   "source": [
    "other_keys = ['gender', 'ss_kraj', 'ss_typ', 'ss_gym_delka']\n",
    "df_ids = df.groupby('id')[other_keys].first().reset_index()"
   ]
  },
  {
   "cell_type": "code",
   "execution_count": 111,
   "id": "fb5331b5-065b-4bec-9d01-6f3303b80f39",
   "metadata": {},
   "outputs": [
    {
     "data": {
      "text/html": [
       "<div>\n",
       "<style scoped>\n",
       "    .dataframe tbody tr th:only-of-type {\n",
       "        vertical-align: middle;\n",
       "    }\n",
       "\n",
       "    .dataframe tbody tr th {\n",
       "        vertical-align: top;\n",
       "    }\n",
       "\n",
       "    .dataframe thead th {\n",
       "        text-align: right;\n",
       "    }\n",
       "</style>\n",
       "<table border=\"1\" class=\"dataframe\">\n",
       "  <thead>\n",
       "    <tr style=\"text-align: right;\">\n",
       "      <th></th>\n",
       "      <th>id</th>\n",
       "      <th>gender</th>\n",
       "      <th>ss_kraj</th>\n",
       "      <th>ss_typ</th>\n",
       "      <th>ss_gym_delka</th>\n",
       "    </tr>\n",
       "  </thead>\n",
       "  <tbody>\n",
       "    <tr>\n",
       "      <th>0</th>\n",
       "      <td>0001QQ0455</td>\n",
       "      <td>Chlapec</td>\n",
       "      <td>Liberecký kraj</td>\n",
       "      <td>SOŠ</td>\n",
       "      <td>NaN</td>\n",
       "    </tr>\n",
       "    <tr>\n",
       "      <th>1</th>\n",
       "      <td>0001QQ0461</td>\n",
       "      <td>Chlapec</td>\n",
       "      <td>Hlavní město Praha</td>\n",
       "      <td>Není SŠ</td>\n",
       "      <td>NaN</td>\n",
       "    </tr>\n",
       "    <tr>\n",
       "      <th>2</th>\n",
       "      <td>0001QQ3490</td>\n",
       "      <td>Chlapec</td>\n",
       "      <td>Hlavní město Praha</td>\n",
       "      <td>SOŠ</td>\n",
       "      <td>NaN</td>\n",
       "    </tr>\n",
       "    <tr>\n",
       "      <th>3</th>\n",
       "      <td>0001QQ3964</td>\n",
       "      <td>Chlapec</td>\n",
       "      <td>Středočeský kraj</td>\n",
       "      <td>SOŠ</td>\n",
       "      <td>NaN</td>\n",
       "    </tr>\n",
       "    <tr>\n",
       "      <th>4</th>\n",
       "      <td>0001QQ6105</td>\n",
       "      <td>Chlapec</td>\n",
       "      <td>Plzeňský kraj</td>\n",
       "      <td>SOŠ</td>\n",
       "      <td>NaN</td>\n",
       "    </tr>\n",
       "  </tbody>\n",
       "</table>\n",
       "</div>"
      ],
      "text/plain": [
       "           id   gender             ss_kraj   ss_typ  ss_gym_delka\n",
       "0  0001QQ0455  Chlapec      Liberecký kraj      SOŠ           NaN\n",
       "1  0001QQ0461  Chlapec  Hlavní město Praha  Není SŠ           NaN\n",
       "2  0001QQ3490  Chlapec  Hlavní město Praha      SOŠ           NaN\n",
       "3  0001QQ3964  Chlapec    Středočeský kraj      SOŠ           NaN\n",
       "4  0001QQ6105  Chlapec       Plzeňský kraj      SOŠ           NaN"
      ]
     },
     "execution_count": 111,
     "metadata": {},
     "output_type": "execute_result"
    }
   ],
   "source": [
    "df_ids.head()"
   ]
  },
  {
   "cell_type": "code",
   "execution_count": 113,
   "id": "4b6f2dda-6049-47fc-9e1a-2210e4eed85f",
   "metadata": {},
   "outputs": [],
   "source": [
    "pedf_list = ['Pedagogická fakulta', 'Fakulta pedagogická']\n",
    "df['pedf'] = df['fak_nazev'].isin(pedf_list)\n",
    "df['ones'] = 1"
   ]
  },
  {
   "cell_type": "code",
   "execution_count": 144,
   "id": "b475f359-c5a6-4f0d-95c6-825a28dbc1d9",
   "metadata": {},
   "outputs": [],
   "source": [
    "variables = ['ones', 'vypr_flag', 'zaps_zapsal']\n",
    "cols = ['prihl_nepedf', 'prihl_pedf', 'prijat_nepedf', 'prijat_pedf', 'zapis_nepedf', 'zapis_pedf']\n",
    "foo = df.groupby(['id', 'pedf'])[variables].sum().unstack('pedf')\n",
    "foo.columns = cols\n",
    "foo = foo.fillna(0).reset_index()"
   ]
  },
  {
   "cell_type": "code",
   "execution_count": 150,
   "id": "747c7d4b-d15e-40db-94a2-8168be773f8e",
   "metadata": {},
   "outputs": [],
   "source": [
    "ff = pd.merge(df_ids, foo)"
   ]
  },
  {
   "cell_type": "code",
   "execution_count": 152,
   "id": "d1d00379-c99d-42cb-867b-a55d2390a148",
   "metadata": {},
   "outputs": [],
   "source": [
    "ff.to_parquet('temp/uchazec/ff21.parquet')"
   ]
  },
  {
   "cell_type": "code",
   "execution_count": 154,
   "id": "6afb06dc-8dfb-4d49-8e69-822818d6584b",
   "metadata": {},
   "outputs": [
    {
     "data": {
      "text/html": [
       "<div>\n",
       "<style scoped>\n",
       "    .dataframe tbody tr th:only-of-type {\n",
       "        vertical-align: middle;\n",
       "    }\n",
       "\n",
       "    .dataframe tbody tr th {\n",
       "        vertical-align: top;\n",
       "    }\n",
       "\n",
       "    .dataframe thead th {\n",
       "        text-align: right;\n",
       "    }\n",
       "</style>\n",
       "<table border=\"1\" class=\"dataframe\">\n",
       "  <thead>\n",
       "    <tr style=\"text-align: right;\">\n",
       "      <th></th>\n",
       "      <th>id</th>\n",
       "      <th>gender</th>\n",
       "      <th>ss_kraj</th>\n",
       "      <th>ss_typ</th>\n",
       "      <th>ss_gym_delka</th>\n",
       "      <th>prihl_nepedf</th>\n",
       "      <th>prihl_pedf</th>\n",
       "      <th>prijat_nepedf</th>\n",
       "      <th>prijat_pedf</th>\n",
       "      <th>zapis_nepedf</th>\n",
       "      <th>zapis_pedf</th>\n",
       "    </tr>\n",
       "  </thead>\n",
       "  <tbody>\n",
       "    <tr>\n",
       "      <th>0</th>\n",
       "      <td>0001QQ0455</td>\n",
       "      <td>Chlapec</td>\n",
       "      <td>Liberecký kraj</td>\n",
       "      <td>SOŠ</td>\n",
       "      <td>NaN</td>\n",
       "      <td>1.0</td>\n",
       "      <td>0.0</td>\n",
       "      <td>1.0</td>\n",
       "      <td>0.0</td>\n",
       "      <td>1.0</td>\n",
       "      <td>0.0</td>\n",
       "    </tr>\n",
       "    <tr>\n",
       "      <th>1</th>\n",
       "      <td>0001QQ0461</td>\n",
       "      <td>Chlapec</td>\n",
       "      <td>Hlavní město Praha</td>\n",
       "      <td>Není SŠ</td>\n",
       "      <td>NaN</td>\n",
       "      <td>2.0</td>\n",
       "      <td>0.0</td>\n",
       "      <td>2.0</td>\n",
       "      <td>0.0</td>\n",
       "      <td>2.0</td>\n",
       "      <td>0.0</td>\n",
       "    </tr>\n",
       "    <tr>\n",
       "      <th>2</th>\n",
       "      <td>0001QQ3490</td>\n",
       "      <td>Chlapec</td>\n",
       "      <td>Hlavní město Praha</td>\n",
       "      <td>SOŠ</td>\n",
       "      <td>NaN</td>\n",
       "      <td>1.0</td>\n",
       "      <td>1.0</td>\n",
       "      <td>0.0</td>\n",
       "      <td>0.0</td>\n",
       "      <td>0.0</td>\n",
       "      <td>0.0</td>\n",
       "    </tr>\n",
       "    <tr>\n",
       "      <th>3</th>\n",
       "      <td>0001QQ3964</td>\n",
       "      <td>Chlapec</td>\n",
       "      <td>Středočeský kraj</td>\n",
       "      <td>SOŠ</td>\n",
       "      <td>NaN</td>\n",
       "      <td>1.0</td>\n",
       "      <td>0.0</td>\n",
       "      <td>0.0</td>\n",
       "      <td>0.0</td>\n",
       "      <td>0.0</td>\n",
       "      <td>0.0</td>\n",
       "    </tr>\n",
       "    <tr>\n",
       "      <th>4</th>\n",
       "      <td>0001QQ6105</td>\n",
       "      <td>Chlapec</td>\n",
       "      <td>Plzeňský kraj</td>\n",
       "      <td>SOŠ</td>\n",
       "      <td>NaN</td>\n",
       "      <td>1.0</td>\n",
       "      <td>0.0</td>\n",
       "      <td>1.0</td>\n",
       "      <td>0.0</td>\n",
       "      <td>1.0</td>\n",
       "      <td>0.0</td>\n",
       "    </tr>\n",
       "  </tbody>\n",
       "</table>\n",
       "</div>"
      ],
      "text/plain": [
       "           id   gender             ss_kraj   ss_typ  ss_gym_delka  \\\n",
       "0  0001QQ0455  Chlapec      Liberecký kraj      SOŠ           NaN   \n",
       "1  0001QQ0461  Chlapec  Hlavní město Praha  Není SŠ           NaN   \n",
       "2  0001QQ3490  Chlapec  Hlavní město Praha      SOŠ           NaN   \n",
       "3  0001QQ3964  Chlapec    Středočeský kraj      SOŠ           NaN   \n",
       "4  0001QQ6105  Chlapec       Plzeňský kraj      SOŠ           NaN   \n",
       "\n",
       "   prihl_nepedf  prihl_pedf  prijat_nepedf  prijat_pedf  zapis_nepedf  \\\n",
       "0           1.0         0.0            1.0          0.0           1.0   \n",
       "1           2.0         0.0            2.0          0.0           2.0   \n",
       "2           1.0         1.0            0.0          0.0           0.0   \n",
       "3           1.0         0.0            0.0          0.0           0.0   \n",
       "4           1.0         0.0            1.0          0.0           1.0   \n",
       "\n",
       "   zapis_pedf  \n",
       "0         0.0  \n",
       "1         0.0  \n",
       "2         0.0  \n",
       "3         0.0  \n",
       "4         0.0  "
      ]
     },
     "execution_count": 154,
     "metadata": {},
     "output_type": "execute_result"
    }
   ],
   "source": [
    "ff.head()"
   ]
  },
  {
   "cell_type": "code",
   "execution_count": null,
   "id": "6d9338b3-0129-4383-8472-8fd00c7be5f8",
   "metadata": {},
   "outputs": [],
   "source": []
  },
  {
   "cell_type": "code",
   "execution_count": 161,
   "id": "b8c98eb7-960b-45ae-8a25-a39001e80d37",
   "metadata": {},
   "outputs": [],
   "source": [
    "ff[['prihl_nepedf', 'prihl_pedf']].value_counts().rename('count').reset_index().to_parquet('temp/uchazec/foo.parquet')"
   ]
  },
  {
   "cell_type": "code",
   "execution_count": 165,
   "id": "4305b44f-d5aa-476e-88da-39c00bee1af2",
   "metadata": {},
   "outputs": [],
   "source": [
    "(ff[cols] > 0).value_counts().rename('count').reset_index().to_parquet('temp/uchazec/bools.parquet')"
   ]
  },
  {
   "cell_type": "code",
   "execution_count": null,
   "id": "fdbbdc8f-889a-42aa-84fd-9296c13bdc58",
   "metadata": {},
   "outputs": [],
   "source": []
  },
  {
   "cell_type": "code",
   "execution_count": 119,
   "id": "6fcd543a-eb6f-4658-9625-d38e067de6a4",
   "metadata": {},
   "outputs": [],
   "source": [
    "foo.columns = range(8)"
   ]
  },
  {
   "cell_type": "code",
   "execution_count": 145,
   "id": "21ca46ee-0a27-41be-b926-1c7c15e1f737",
   "metadata": {},
   "outputs": [
    {
     "data": {
      "text/html": [
       "<div>\n",
       "<style scoped>\n",
       "    .dataframe tbody tr th:only-of-type {\n",
       "        vertical-align: middle;\n",
       "    }\n",
       "\n",
       "    .dataframe tbody tr th {\n",
       "        vertical-align: top;\n",
       "    }\n",
       "\n",
       "    .dataframe thead th {\n",
       "        text-align: right;\n",
       "    }\n",
       "</style>\n",
       "<table border=\"1\" class=\"dataframe\">\n",
       "  <thead>\n",
       "    <tr style=\"text-align: right;\">\n",
       "      <th></th>\n",
       "      <th>id</th>\n",
       "      <th>prihl_nepedf</th>\n",
       "      <th>prihl_pedf</th>\n",
       "      <th>prijat_nepedf</th>\n",
       "      <th>prijat_pedf</th>\n",
       "      <th>zapis_nepedf</th>\n",
       "      <th>zapis_pedf</th>\n",
       "    </tr>\n",
       "  </thead>\n",
       "  <tbody>\n",
       "    <tr>\n",
       "      <th>0</th>\n",
       "      <td>0001QQ0455</td>\n",
       "      <td>1.0</td>\n",
       "      <td>0.0</td>\n",
       "      <td>1.0</td>\n",
       "      <td>0.0</td>\n",
       "      <td>1.0</td>\n",
       "      <td>0.0</td>\n",
       "    </tr>\n",
       "    <tr>\n",
       "      <th>1</th>\n",
       "      <td>0001QQ0461</td>\n",
       "      <td>2.0</td>\n",
       "      <td>0.0</td>\n",
       "      <td>2.0</td>\n",
       "      <td>0.0</td>\n",
       "      <td>2.0</td>\n",
       "      <td>0.0</td>\n",
       "    </tr>\n",
       "    <tr>\n",
       "      <th>2</th>\n",
       "      <td>0001QQ3490</td>\n",
       "      <td>1.0</td>\n",
       "      <td>1.0</td>\n",
       "      <td>0.0</td>\n",
       "      <td>0.0</td>\n",
       "      <td>0.0</td>\n",
       "      <td>0.0</td>\n",
       "    </tr>\n",
       "    <tr>\n",
       "      <th>3</th>\n",
       "      <td>0001QQ3964</td>\n",
       "      <td>1.0</td>\n",
       "      <td>0.0</td>\n",
       "      <td>0.0</td>\n",
       "      <td>0.0</td>\n",
       "      <td>0.0</td>\n",
       "      <td>0.0</td>\n",
       "    </tr>\n",
       "    <tr>\n",
       "      <th>4</th>\n",
       "      <td>0001QQ6105</td>\n",
       "      <td>1.0</td>\n",
       "      <td>0.0</td>\n",
       "      <td>1.0</td>\n",
       "      <td>0.0</td>\n",
       "      <td>1.0</td>\n",
       "      <td>0.0</td>\n",
       "    </tr>\n",
       "    <tr>\n",
       "      <th>...</th>\n",
       "      <td>...</td>\n",
       "      <td>...</td>\n",
       "      <td>...</td>\n",
       "      <td>...</td>\n",
       "      <td>...</td>\n",
       "      <td>...</td>\n",
       "      <td>...</td>\n",
       "    </tr>\n",
       "    <tr>\n",
       "      <th>50470</th>\n",
       "      <td>9962QQ9751</td>\n",
       "      <td>1.0</td>\n",
       "      <td>1.0</td>\n",
       "      <td>0.0</td>\n",
       "      <td>0.0</td>\n",
       "      <td>0.0</td>\n",
       "      <td>0.0</td>\n",
       "    </tr>\n",
       "    <tr>\n",
       "      <th>50471</th>\n",
       "      <td>9962QQ9759</td>\n",
       "      <td>3.0</td>\n",
       "      <td>0.0</td>\n",
       "      <td>2.0</td>\n",
       "      <td>0.0</td>\n",
       "      <td>1.0</td>\n",
       "      <td>0.0</td>\n",
       "    </tr>\n",
       "    <tr>\n",
       "      <th>50472</th>\n",
       "      <td>9962QQ9780</td>\n",
       "      <td>1.0</td>\n",
       "      <td>3.0</td>\n",
       "      <td>1.0</td>\n",
       "      <td>1.0</td>\n",
       "      <td>1.0</td>\n",
       "      <td>1.0</td>\n",
       "    </tr>\n",
       "    <tr>\n",
       "      <th>50473</th>\n",
       "      <td>9962QQ9790</td>\n",
       "      <td>1.0</td>\n",
       "      <td>0.0</td>\n",
       "      <td>1.0</td>\n",
       "      <td>0.0</td>\n",
       "      <td>1.0</td>\n",
       "      <td>0.0</td>\n",
       "    </tr>\n",
       "    <tr>\n",
       "      <th>50474</th>\n",
       "      <td>9962QQ9791</td>\n",
       "      <td>2.0</td>\n",
       "      <td>0.0</td>\n",
       "      <td>0.0</td>\n",
       "      <td>0.0</td>\n",
       "      <td>0.0</td>\n",
       "      <td>0.0</td>\n",
       "    </tr>\n",
       "  </tbody>\n",
       "</table>\n",
       "<p>50475 rows × 7 columns</p>\n",
       "</div>"
      ],
      "text/plain": [
       "               id  prihl_nepedf  prihl_pedf  prijat_nepedf  prijat_pedf  \\\n",
       "0      0001QQ0455           1.0         0.0            1.0          0.0   \n",
       "1      0001QQ0461           2.0         0.0            2.0          0.0   \n",
       "2      0001QQ3490           1.0         1.0            0.0          0.0   \n",
       "3      0001QQ3964           1.0         0.0            0.0          0.0   \n",
       "4      0001QQ6105           1.0         0.0            1.0          0.0   \n",
       "...           ...           ...         ...            ...          ...   \n",
       "50470  9962QQ9751           1.0         1.0            0.0          0.0   \n",
       "50471  9962QQ9759           3.0         0.0            2.0          0.0   \n",
       "50472  9962QQ9780           1.0         3.0            1.0          1.0   \n",
       "50473  9962QQ9790           1.0         0.0            1.0          0.0   \n",
       "50474  9962QQ9791           2.0         0.0            0.0          0.0   \n",
       "\n",
       "       zapis_nepedf  zapis_pedf  \n",
       "0               1.0         0.0  \n",
       "1               2.0         0.0  \n",
       "2               0.0         0.0  \n",
       "3               0.0         0.0  \n",
       "4               1.0         0.0  \n",
       "...             ...         ...  \n",
       "50470           0.0         0.0  \n",
       "50471           1.0         0.0  \n",
       "50472           1.0         1.0  \n",
       "50473           1.0         0.0  \n",
       "50474           0.0         0.0  \n",
       "\n",
       "[50475 rows x 7 columns]"
      ]
     },
     "execution_count": 145,
     "metadata": {},
     "output_type": "execute_result"
    }
   ],
   "source": [
    "foo"
   ]
  },
  {
   "cell_type": "code",
   "execution_count": 94,
   "id": "a62e8a7a-440f-48ee-a640-ad23baa20bf8",
   "metadata": {},
   "outputs": [
    {
     "data": {
      "text/plain": [
       "(141055, 45)"
      ]
     },
     "execution_count": 94,
     "metadata": {},
     "output_type": "execute_result"
    }
   ],
   "source": [
    "df.shape"
   ]
  },
  {
   "cell_type": "code",
   "execution_count": 57,
   "id": "61d6ae1a-4c88-4e8a-9f58-26f3016fe8a5",
   "metadata": {
    "tags": []
   },
   "outputs": [],
   "source": [
    "df['ss_kraj'] = df['ss_nuts'].str[:5].map(nuts_dict).astype('category')"
   ]
  },
  {
   "cell_type": "code",
   "execution_count": 58,
   "id": "37a74c2f-ea95-42ba-965f-63b761c0d17d",
   "metadata": {},
   "outputs": [
    {
     "data": {
      "text/plain": [
       "0      Středočeský kraj\n",
       "1       Pardubický kraj\n",
       "2       Pardubický kraj\n",
       "3       Pardubický kraj\n",
       "4       Pardubický kraj\n",
       "5       Pardubický kraj\n",
       "6       Pardubický kraj\n",
       "7     Jihomoravský kraj\n",
       "8    Hlavní město Praha\n",
       "9        Liberecký kraj\n",
       "Name: ss_kraj, dtype: category\n",
       "Categories (14, object): ['Hlavní město Praha', 'Jihomoravský kraj', 'Jihočeský kraj', 'Karlovarský kraj', ..., 'Plzeňský kraj', 'Středočeský kraj', 'Zlínský kraj', 'Ústecký kraj']"
      ]
     },
     "execution_count": 58,
     "metadata": {},
     "output_type": "execute_result"
    }
   ],
   "source": [
    "df['ss_kraj'].head(10)"
   ]
  },
  {
   "cell_type": "code",
   "execution_count": 60,
   "id": "8458e9b1-212a-4333-8e6b-365c82312f1f",
   "metadata": {},
   "outputs": [
    {
     "data": {
      "text/plain": [
       "50519"
      ]
     },
     "execution_count": 60,
     "metadata": {},
     "output_type": "execute_result"
    }
   ],
   "source": [
    "len(df['id'].unique())"
   ]
  },
  {
   "cell_type": "code",
   "execution_count": 63,
   "id": "0bf5563f-2b91-4b25-8b92-6e19e329e71e",
   "metadata": {},
   "outputs": [
    {
     "data": {
      "text/plain": [
       "Bakalářský     123452\n",
       "Magisterský     21109\n",
       "Name: typ_st, dtype: int64"
      ]
     },
     "execution_count": 63,
     "metadata": {},
     "output_type": "execute_result"
    }
   ],
   "source": [
    "df['typ_st'].value_counts()"
   ]
  },
  {
   "cell_type": "code",
   "execution_count": 64,
   "id": "b893ea8f-9405-4547-b7b9-43a78c303c37",
   "metadata": {},
   "outputs": [
    {
     "data": {
      "text/plain": [
       "Prezenční      138310\n",
       "Kombinované      6176\n",
       "Distanční          75\n",
       "Name: forma_st, dtype: int64"
      ]
     },
     "execution_count": 64,
     "metadata": {},
     "output_type": "execute_result"
    }
   ],
   "source": [
    "# ok, seems to be ok to restrict on Prezenční\n",
    "df['forma_st'].value_counts()"
   ]
  },
  {
   "cell_type": "code",
   "execution_count": 65,
   "id": "83f67d24-26cb-4dd7-9f97-ffdfeb958fa4",
   "metadata": {},
   "outputs": [
    {
     "data": {
      "text/plain": [
       "Přijat na základě přijímací zkoušky                              32206\n",
       "Přijat bez přijímací zkoušky                                     31507\n",
       "Nepřijat pro nedostačující kapacitu oboru/studijního programu    24496\n",
       "Nepřijat pro neprospěch u přijímací zkoušky                      23961\n",
       "Nedostavil se k přijímacímu řízení                               14976\n",
       "Nepřijat pro nedoložení požadovaného předchozího vzdělání        11523\n",
       "Nepřijat pro nesplnění dalších podmínek přijetí                   2116\n",
       "Přijat dodatečně (po odvolání, po přezkumném řízení, apod.)       1734\n",
       "Přijímací řízení zrušeno z administrativních důvodů               1553\n",
       "Přijat z předchozího vysokoškolského studia (přestup)               38\n",
       "Přijímací řízení zrušeno pro nedostatek uchazečů                     8\n",
       "Přijat z kurzů celoživotního vzdělávání                              0\n",
       "Name: vypr, dtype: int64"
      ]
     },
     "execution_count": 65,
     "metadata": {},
     "output_type": "execute_result"
    }
   ],
   "source": [
    "df['vypr'].value_counts()"
   ]
  },
  {
   "cell_type": "code",
   "execution_count": 67,
   "id": "83f3cbab-7397-4a88-828f-01d3bf4fb4c3",
   "metadata": {},
   "outputs": [],
   "source": [
    "df['vypr_flag'] = df['vypr'].str.startswith('Přijat')"
   ]
  },
  {
   "cell_type": "code",
   "execution_count": 68,
   "id": "b8c44aeb-fa27-4477-b16f-3f8dcd983e8d",
   "metadata": {
    "tags": []
   },
   "outputs": [
    {
     "data": {
      "text/plain": [
       "Uchazeč nebyl přijat    79075\n",
       "Uchazeč se zapsal       44115\n",
       "Uchazeč se nezapsal     21370\n",
       "Name: zaps, dtype: int64"
      ]
     },
     "execution_count": 68,
     "metadata": {},
     "output_type": "execute_result"
    }
   ],
   "source": [
    "df['zaps'].value_counts()"
   ]
  },
  {
   "cell_type": "code",
   "execution_count": 69,
   "id": "2b9cfe6b-cccc-4772-8039-24b772177d08",
   "metadata": {},
   "outputs": [],
   "source": [
    "df['zaps_neprijat'] = df['zaps'] == 'Uchazeč nebyl přijat'\n",
    "df['zaps_zapsal'] = df['zaps'] == 'Uchazeč se zapsal'\n",
    "df['zaps_nezapsal'] = df['zaps'] == 'Uchazeč se nezapsal'"
   ]
  },
  {
   "cell_type": "code",
   "execution_count": 70,
   "id": "b1e42587-1fd9-490e-a0ad-590924bb499f",
   "metadata": {},
   "outputs": [
    {
     "data": {
      "text/plain": [
       "zaps_neprijat    79075\n",
       "zaps_zapsal      44115\n",
       "zaps_nezapsal    21370\n",
       "dtype: int64"
      ]
     },
     "execution_count": 70,
     "metadata": {},
     "output_type": "execute_result"
    }
   ],
   "source": [
    "df[['zaps_neprijat', 'zaps_zapsal', 'zaps_nezapsal']].sum(axis=0)"
   ]
  },
  {
   "cell_type": "code",
   "execution_count": 102,
   "id": "6598896b-d0e6-4371-95c9-03946107fc2d",
   "metadata": {},
   "outputs": [],
   "source": [
    "other_keys = ['gender', 'ss_kraj', 'ss_typ', 'ss_gym_delka']"
   ]
  },
  {
   "cell_type": "code",
   "execution_count": 103,
   "id": "e03c432d-8482-4456-835a-aaf6ea04e5de",
   "metadata": {},
   "outputs": [
    {
     "data": {
      "text/html": [
       "<div>\n",
       "<style scoped>\n",
       "    .dataframe tbody tr th:only-of-type {\n",
       "        vertical-align: middle;\n",
       "    }\n",
       "\n",
       "    .dataframe tbody tr th {\n",
       "        vertical-align: top;\n",
       "    }\n",
       "\n",
       "    .dataframe thead th {\n",
       "        text-align: right;\n",
       "    }\n",
       "</style>\n",
       "<table border=\"1\" class=\"dataframe\">\n",
       "  <thead>\n",
       "    <tr style=\"text-align: right;\">\n",
       "      <th></th>\n",
       "      <th>gender</th>\n",
       "      <th>ss_kraj</th>\n",
       "      <th>ss_typ</th>\n",
       "      <th>ss_gym_delka</th>\n",
       "    </tr>\n",
       "    <tr>\n",
       "      <th>id</th>\n",
       "      <th></th>\n",
       "      <th></th>\n",
       "      <th></th>\n",
       "      <th></th>\n",
       "    </tr>\n",
       "  </thead>\n",
       "  <tbody>\n",
       "    <tr>\n",
       "      <th>0001QQ0455</th>\n",
       "      <td>Chlapec</td>\n",
       "      <td>Liberecký kraj</td>\n",
       "      <td>SOŠ</td>\n",
       "      <td>NaN</td>\n",
       "    </tr>\n",
       "    <tr>\n",
       "      <th>0001QQ3490</th>\n",
       "      <td>Chlapec</td>\n",
       "      <td>Hlavní město Praha</td>\n",
       "      <td>SOŠ</td>\n",
       "      <td>NaN</td>\n",
       "    </tr>\n",
       "    <tr>\n",
       "      <th>0001QQ3964</th>\n",
       "      <td>Chlapec</td>\n",
       "      <td>Středočeský kraj</td>\n",
       "      <td>SOŠ</td>\n",
       "      <td>NaN</td>\n",
       "    </tr>\n",
       "    <tr>\n",
       "      <th>0001QQ6105</th>\n",
       "      <td>Chlapec</td>\n",
       "      <td>Plzeňský kraj</td>\n",
       "      <td>SOŠ</td>\n",
       "      <td>NaN</td>\n",
       "    </tr>\n",
       "    <tr>\n",
       "      <th>0001QQ6723</th>\n",
       "      <td>Chlapec</td>\n",
       "      <td>Moravskoslezský kraj</td>\n",
       "      <td>SOŠ</td>\n",
       "      <td>NaN</td>\n",
       "    </tr>\n",
       "    <tr>\n",
       "      <th>...</th>\n",
       "      <td>...</td>\n",
       "      <td>...</td>\n",
       "      <td>...</td>\n",
       "      <td>...</td>\n",
       "    </tr>\n",
       "    <tr>\n",
       "      <th>9962QQ9751</th>\n",
       "      <td>Dívka</td>\n",
       "      <td>Ústecký kraj</td>\n",
       "      <td>SOŠ</td>\n",
       "      <td>NaN</td>\n",
       "    </tr>\n",
       "    <tr>\n",
       "      <th>9962QQ9759</th>\n",
       "      <td>Dívka</td>\n",
       "      <td>Liberecký kraj</td>\n",
       "      <td>SOŠ</td>\n",
       "      <td>NaN</td>\n",
       "    </tr>\n",
       "    <tr>\n",
       "      <th>9962QQ9780</th>\n",
       "      <td>Dívka</td>\n",
       "      <td>Moravskoslezský kraj</td>\n",
       "      <td>SOŠ</td>\n",
       "      <td>NaN</td>\n",
       "    </tr>\n",
       "    <tr>\n",
       "      <th>9962QQ9790</th>\n",
       "      <td>Dívka</td>\n",
       "      <td>Ústecký kraj</td>\n",
       "      <td>SOŠ</td>\n",
       "      <td>NaN</td>\n",
       "    </tr>\n",
       "    <tr>\n",
       "      <th>9962QQ9791</th>\n",
       "      <td>Dívka</td>\n",
       "      <td>Liberecký kraj</td>\n",
       "      <td>SOŠ</td>\n",
       "      <td>NaN</td>\n",
       "    </tr>\n",
       "  </tbody>\n",
       "</table>\n",
       "<p>48931 rows × 4 columns</p>\n",
       "</div>"
      ],
      "text/plain": [
       "             gender               ss_kraj ss_typ  ss_gym_delka\n",
       "id                                                            \n",
       "0001QQ0455  Chlapec        Liberecký kraj    SOŠ           NaN\n",
       "0001QQ3490  Chlapec    Hlavní město Praha    SOŠ           NaN\n",
       "0001QQ3964  Chlapec      Středočeský kraj    SOŠ           NaN\n",
       "0001QQ6105  Chlapec         Plzeňský kraj    SOŠ           NaN\n",
       "0001QQ6723  Chlapec  Moravskoslezský kraj    SOŠ           NaN\n",
       "...             ...                   ...    ...           ...\n",
       "9962QQ9751    Dívka          Ústecký kraj    SOŠ           NaN\n",
       "9962QQ9759    Dívka        Liberecký kraj    SOŠ           NaN\n",
       "9962QQ9780    Dívka  Moravskoslezský kraj    SOŠ           NaN\n",
       "9962QQ9790    Dívka          Ústecký kraj    SOŠ           NaN\n",
       "9962QQ9791    Dívka        Liberecký kraj    SOŠ           NaN\n",
       "\n",
       "[48931 rows x 4 columns]"
      ]
     },
     "execution_count": 103,
     "metadata": {},
     "output_type": "execute_result"
    }
   ],
   "source": [
    "df.groupby('id')[other_keys].first()"
   ]
  },
  {
   "cell_type": "code",
   "execution_count": 95,
   "id": "cc31512b-46f0-4d0a-aa5f-7d51a74074c4",
   "metadata": {},
   "outputs": [],
   "source": [
    "keys = ['id', 'gender', 'ss_kraj', 'ss_typ', 'ss_gym_delka']"
   ]
  },
  {
   "cell_type": "code",
   "execution_count": 96,
   "id": "cab88cc8-6b5f-4fe4-9a85-ad1aa221d3bf",
   "metadata": {},
   "outputs": [
    {
     "data": {
      "text/plain": [
       "(48931, 1)"
      ]
     },
     "execution_count": 96,
     "metadata": {},
     "output_type": "execute_result"
    }
   ],
   "source": [
    "df[['id']].drop_duplicates().shape"
   ]
  },
  {
   "cell_type": "code",
   "execution_count": 97,
   "id": "746c3329-b3ee-4f7b-bf61-b84ab6b52ce9",
   "metadata": {},
   "outputs": [
    {
     "data": {
      "text/plain": [
       "(49029, 5)"
      ]
     },
     "execution_count": 97,
     "metadata": {},
     "output_type": "execute_result"
    }
   ],
   "source": [
    "df[keys].drop_duplicates().shape"
   ]
  },
  {
   "cell_type": "code",
   "execution_count": 98,
   "id": "035d7497-9502-48f7-b276-5dfc9389e75b",
   "metadata": {},
   "outputs": [],
   "source": [
    "foo = df[keys].drop_duplicates()['id'].value_counts()"
   ]
  },
  {
   "cell_type": "code",
   "execution_count": 99,
   "id": "d934c5f7-c0fa-4a4f-b8e9-e38a8957f7df",
   "metadata": {},
   "outputs": [],
   "source": [
    "dup_ids = foo[foo > 1].index"
   ]
  },
  {
   "cell_type": "code",
   "execution_count": 100,
   "id": "a38b6906-c1ac-49eb-a35b-bf10201ee24c",
   "metadata": {},
   "outputs": [],
   "source": [
    "foo = df[keys].drop_duplicates()"
   ]
  },
  {
   "cell_type": "code",
   "execution_count": 101,
   "id": "cae676ab-dc7b-4e8c-be2f-ada23aacffde",
   "metadata": {},
   "outputs": [
    {
     "data": {
      "text/html": [
       "<div>\n",
       "<style scoped>\n",
       "    .dataframe tbody tr th:only-of-type {\n",
       "        vertical-align: middle;\n",
       "    }\n",
       "\n",
       "    .dataframe tbody tr th {\n",
       "        vertical-align: top;\n",
       "    }\n",
       "\n",
       "    .dataframe thead th {\n",
       "        text-align: right;\n",
       "    }\n",
       "</style>\n",
       "<table border=\"1\" class=\"dataframe\">\n",
       "  <thead>\n",
       "    <tr style=\"text-align: right;\">\n",
       "      <th></th>\n",
       "      <th>id</th>\n",
       "      <th>gender</th>\n",
       "      <th>ss_kraj</th>\n",
       "      <th>ss_typ</th>\n",
       "      <th>ss_gym_delka</th>\n",
       "    </tr>\n",
       "  </thead>\n",
       "  <tbody>\n",
       "    <tr>\n",
       "      <th>511</th>\n",
       "      <td>0006QQ6740</td>\n",
       "      <td>Chlapec</td>\n",
       "      <td>Královéhradecký kraj</td>\n",
       "      <td>Gymnázium</td>\n",
       "      <td>4.0</td>\n",
       "    </tr>\n",
       "    <tr>\n",
       "      <th>513</th>\n",
       "      <td>0006QQ6740</td>\n",
       "      <td>Chlapec</td>\n",
       "      <td>Královéhradecký kraj</td>\n",
       "      <td>Gymnázium</td>\n",
       "      <td>8.0</td>\n",
       "    </tr>\n",
       "    <tr>\n",
       "      <th>993</th>\n",
       "      <td>0009QQ3968</td>\n",
       "      <td>Chlapec</td>\n",
       "      <td>Kraj Vysočina</td>\n",
       "      <td>SOŠ</td>\n",
       "      <td>NaN</td>\n",
       "    </tr>\n",
       "    <tr>\n",
       "      <th>994</th>\n",
       "      <td>0009QQ3968</td>\n",
       "      <td>Chlapec</td>\n",
       "      <td>NaN</td>\n",
       "      <td>SOŠ</td>\n",
       "      <td>NaN</td>\n",
       "    </tr>\n",
       "    <tr>\n",
       "      <th>1329</th>\n",
       "      <td>0010QQ9674</td>\n",
       "      <td>Chlapec</td>\n",
       "      <td>Hlavní město Praha</td>\n",
       "      <td>SOŠ</td>\n",
       "      <td>NaN</td>\n",
       "    </tr>\n",
       "    <tr>\n",
       "      <th>...</th>\n",
       "      <td>...</td>\n",
       "      <td>...</td>\n",
       "      <td>...</td>\n",
       "      <td>...</td>\n",
       "      <td>...</td>\n",
       "    </tr>\n",
       "    <tr>\n",
       "      <th>140585</th>\n",
       "      <td>9954QQ9682</td>\n",
       "      <td>Dívka</td>\n",
       "      <td>Jihočeský kraj</td>\n",
       "      <td>SOŠ</td>\n",
       "      <td>NaN</td>\n",
       "    </tr>\n",
       "    <tr>\n",
       "      <th>140601</th>\n",
       "      <td>9955QQ0461</td>\n",
       "      <td>Dívka</td>\n",
       "      <td>Hlavní město Praha</td>\n",
       "      <td>Gymnázium</td>\n",
       "      <td>4.0</td>\n",
       "    </tr>\n",
       "    <tr>\n",
       "      <th>140602</th>\n",
       "      <td>9955QQ0461</td>\n",
       "      <td>Dívka</td>\n",
       "      <td>Hlavní město Praha</td>\n",
       "      <td>Gymnázium</td>\n",
       "      <td>8.0</td>\n",
       "    </tr>\n",
       "    <tr>\n",
       "      <th>140893</th>\n",
       "      <td>9961QQ7203</td>\n",
       "      <td>Dívka</td>\n",
       "      <td>NaN</td>\n",
       "      <td>SOŠ</td>\n",
       "      <td>NaN</td>\n",
       "    </tr>\n",
       "    <tr>\n",
       "      <th>140894</th>\n",
       "      <td>9961QQ7203</td>\n",
       "      <td>Dívka</td>\n",
       "      <td>Královéhradecký kraj</td>\n",
       "      <td>SOŠ</td>\n",
       "      <td>NaN</td>\n",
       "    </tr>\n",
       "  </tbody>\n",
       "</table>\n",
       "<p>190 rows × 5 columns</p>\n",
       "</div>"
      ],
      "text/plain": [
       "                id   gender               ss_kraj     ss_typ  ss_gym_delka\n",
       "511     0006QQ6740  Chlapec  Královéhradecký kraj  Gymnázium           4.0\n",
       "513     0006QQ6740  Chlapec  Královéhradecký kraj  Gymnázium           8.0\n",
       "993     0009QQ3968  Chlapec         Kraj Vysočina        SOŠ           NaN\n",
       "994     0009QQ3968  Chlapec                   NaN        SOŠ           NaN\n",
       "1329    0010QQ9674  Chlapec    Hlavní město Praha        SOŠ           NaN\n",
       "...            ...      ...                   ...        ...           ...\n",
       "140585  9954QQ9682    Dívka        Jihočeský kraj        SOŠ           NaN\n",
       "140601  9955QQ0461    Dívka    Hlavní město Praha  Gymnázium           4.0\n",
       "140602  9955QQ0461    Dívka    Hlavní město Praha  Gymnázium           8.0\n",
       "140893  9961QQ7203    Dívka                   NaN        SOŠ           NaN\n",
       "140894  9961QQ7203    Dívka  Královéhradecký kraj        SOŠ           NaN\n",
       "\n",
       "[190 rows x 5 columns]"
      ]
     },
     "execution_count": 101,
     "metadata": {},
     "output_type": "execute_result"
    }
   ],
   "source": [
    "foo[foo['id'].isin(dup_ids)].sort_values('id')"
   ]
  },
  {
   "cell_type": "code",
   "execution_count": 89,
   "id": "aecc9067-fb51-45b1-b63d-0588736c40ba",
   "metadata": {},
   "outputs": [
    {
     "data": {
      "text/plain": [
       "Gymnázium    74685\n",
       "SOŠ          66370\n",
       "Není SŠ       2914\n",
       "Jiné           592\n",
       "Name: ss_typ, dtype: int64"
      ]
     },
     "execution_count": 89,
     "metadata": {},
     "output_type": "execute_result"
    }
   ],
   "source": [
    "df['ss_typ'].value_counts()"
   ]
  },
  {
   "cell_type": "code",
   "execution_count": 45,
   "id": "8b002f92-3e61-4376-89c7-f6e00bd4e6aa",
   "metadata": {},
   "outputs": [
    {
     "data": {
      "text/plain": [
       "106       None\n",
       "189       None\n",
       "266       None\n",
       "329       None\n",
       "336       None\n",
       "          ... \n",
       "144192    None\n",
       "144193    None\n",
       "144242    None\n",
       "144390    None\n",
       "144478    None\n",
       "Name: ss_nuts, Length: 861, dtype: object"
      ]
     },
     "execution_count": 45,
     "metadata": {},
     "output_type": "execute_result"
    }
   ],
   "source": [
    "df['ss_nuts'][df['ss_nuts'].str.len() != 6]"
   ]
  },
  {
   "cell_type": "code",
   "execution_count": 47,
   "id": "921ffc32-a36a-400e-a2a9-44da997fda62",
   "metadata": {},
   "outputs": [
    {
     "data": {
      "text/plain": [
       "106          Jiné\n",
       "189           SOŠ\n",
       "266          Jiné\n",
       "329       Není SŠ\n",
       "336           SOŠ\n",
       "           ...   \n",
       "144192       Jiné\n",
       "144193       Jiné\n",
       "144242        SOŠ\n",
       "144390        SOŠ\n",
       "144478        SOŠ\n",
       "Name: ss_typ, Length: 861, dtype: category\n",
       "Categories (4, object): ['Gymnázium', 'Jiné', 'Není SŠ', 'SOŠ']"
      ]
     },
     "execution_count": 47,
     "metadata": {},
     "output_type": "execute_result"
    }
   ],
   "source": [
    "df['ss_typ'][df['ss_nuts'].str.len() != 6]"
   ]
  },
  {
   "cell_type": "code",
   "execution_count": 38,
   "id": "bbead662-3e20-422e-823b-d44254276f16",
   "metadata": {},
   "outputs": [
    {
     "data": {
      "text/plain": [
       "0         CZE\n",
       "1         CZE\n",
       "2         CZE\n",
       "3         CZE\n",
       "4         CZE\n",
       "         ... \n",
       "144556    CZE\n",
       "144557    CZE\n",
       "144558    CZE\n",
       "144559    CZE\n",
       "144560    CZE\n",
       "Name: stat_iso, Length: 144561, dtype: category\n",
       "Categories (1, object): ['CZE']"
      ]
     },
     "execution_count": 38,
     "metadata": {},
     "output_type": "execute_result"
    }
   ],
   "source": [
    "df['stat_iso']"
   ]
  },
  {
   "cell_type": "code",
   "execution_count": 28,
   "id": "90529c79-8434-4486-9dee-8301356724a6",
   "metadata": {},
   "outputs": [
    {
     "data": {
      "text/plain": [
       "0                 Celoškolská pracoviště\n",
       "1         Fakulta chemicko-technologická\n",
       "2             Fakulta ekonomicko-správní\n",
       "3                    Fakulta filozofická\n",
       "4                    Fakulta filozofická\n",
       "                       ...              \n",
       "144556               Filozofická fakulta\n",
       "144557               Filozofická fakulta\n",
       "144558               Pedagogická fakulta\n",
       "144559               Filozofická fakulta\n",
       "144560               Filozofická fakulta\n",
       "Name: fak_nazev, Length: 144561, dtype: category\n",
       "Categories (104, object): ['1. lékařská fakulta', '2. lékařská fakulta', '3. lékařská fakulta', 'Agronomická fakulta', ..., 'Teologická fakulta', 'Zahradnická fakulta', 'Zdravotně sociální fakulta', 'Zemědělská fakulta']"
      ]
     },
     "execution_count": 28,
     "metadata": {},
     "output_type": "execute_result"
    }
   ],
   "source": [
    "df['fak_nazev']"
   ]
  },
  {
   "cell_type": "code",
   "execution_count": 29,
   "id": "bec02e34-c929-4822-860c-64e7d636762d",
   "metadata": {},
   "outputs": [],
   "source": [
    "pedf_list = ['Pedagogická fakulta', 'Fakulta pedagogická']"
   ]
  },
  {
   "cell_type": "code",
   "execution_count": 30,
   "id": "b6649afd-3266-4fcf-9828-690cb189c664",
   "metadata": {},
   "outputs": [],
   "source": [
    "df['pedf'] = df['fak_nazev'].isin(pedf_list)"
   ]
  },
  {
   "cell_type": "code",
   "execution_count": 31,
   "id": "06484616-5585-4ce6-b617-7d62f5c02ab6",
   "metadata": {},
   "outputs": [
    {
     "data": {
      "text/plain": [
       "False    126800\n",
       "True      17761\n",
       "Name: pedf, dtype: int64"
      ]
     },
     "execution_count": 31,
     "metadata": {},
     "output_type": "execute_result"
    }
   ],
   "source": [
    "df['pedf'].value_counts()"
   ]
  },
  {
   "cell_type": "code",
   "execution_count": 39,
   "id": "d418dacd-f413-483b-b253-9beeac711c6b",
   "metadata": {},
   "outputs": [
    {
     "data": {
      "text/plain": [
       "Dívka      90625\n",
       "Chlapec    53936\n",
       "Name: gender, dtype: int64"
      ]
     },
     "execution_count": 39,
     "metadata": {},
     "output_type": "execute_result"
    }
   ],
   "source": [
    "df['gender'].value_counts()"
   ]
  },
  {
   "cell_type": "code",
   "execution_count": 60,
   "id": "1045665f-af9b-470c-83f7-0b57d8368e65",
   "metadata": {},
   "outputs": [
    {
     "data": {
      "text/plain": [
       "{0: 'Dívka', 1: 'Chlapec', 2: 'Neznámé'}"
      ]
     },
     "execution_count": 60,
     "metadata": {},
     "output_type": "execute_result"
    }
   ],
   "source": [
    "value_labels['gender']"
   ]
  },
  {
   "cell_type": "code",
   "execution_count": 61,
   "id": "735e819f-3894-4074-ab32-7cbe244873cf",
   "metadata": {},
   "outputs": [],
   "source": [
    "df.to_parquet('temp/uchazec/uch21.parquet')"
   ]
  },
  {
   "cell_type": "code",
   "execution_count": 35,
   "id": "a1239040-9873-41b0-9381-669ad533a53b",
   "metadata": {},
   "outputs": [
    {
     "data": {
      "text/plain": [
       "Dívka      0.571092\n",
       "Chlapec    0.428908\n",
       "Neznámé    0.000000\n",
       "Name: gender, dtype: float64"
      ]
     },
     "execution_count": 35,
     "metadata": {},
     "output_type": "execute_result"
    }
   ],
   "source": [
    "# celkové zastoupení dívek a chlapců\n",
    "foo = df[['id', 'gender']].drop_duplicates()['gender']\n",
    "foo.value_counts() / len(foo)"
   ]
  },
  {
   "cell_type": "code",
   "execution_count": 72,
   "id": "5b35c097-c66a-4678-815c-454459ca019c",
   "metadata": {},
   "outputs": [
    {
     "data": {
      "text/plain": [
       "Dívka      0.771531\n",
       "Chlapec    0.228469\n",
       "Name: gender, dtype: float64"
      ]
     },
     "execution_count": 72,
     "metadata": {},
     "output_type": "execute_result"
    }
   ],
   "source": [
    "# ale na pedf je poměr výrazně odlišný, dívek se hlásí násobně více\n",
    "foo = df[df['pedf']][['id', 'gender']].drop_duplicates()['gender']\n",
    "foo.map(value_labels['gender']).value_counts() / len(foo)"
   ]
  },
  {
   "cell_type": "code",
   "execution_count": 75,
   "id": "b063fbaa-1789-49e5-b34c-575b3e7394d9",
   "metadata": {},
   "outputs": [
    {
     "data": {
      "text/plain": [
       "SOŠ          0.550914\n",
       "Gymnázium    0.405088\n",
       "Není SŠ      0.038137\n",
       "Jiné         0.005861\n",
       "Name: ss_typ, dtype: float64"
      ]
     },
     "execution_count": 75,
     "metadata": {},
     "output_type": "execute_result"
    }
   ],
   "source": [
    "# celkové zastoupení dívek a chlapců\n",
    "foo = df[['id', 'ss_typ']].drop_duplicates()['ss_typ']\n",
    "foo.map(value_labels['ss_typ']).value_counts() / len(foo)"
   ]
  },
  {
   "cell_type": "code",
   "execution_count": 76,
   "id": "e24a1e45-e43a-416e-914f-cf5951ce3810",
   "metadata": {},
   "outputs": [
    {
     "data": {
      "text/plain": [
       "SOŠ          0.503004\n",
       "Gymnázium    0.473068\n",
       "Není SŠ      0.023012\n",
       "Jiné         0.000916\n",
       "Name: ss_typ, dtype: float64"
      ]
     },
     "execution_count": 76,
     "metadata": {},
     "output_type": "execute_result"
    }
   ],
   "source": [
    "# celkové zastoupení dívek a chlapců\n",
    "foo = df[df['pedf']][['id', 'ss_typ']].drop_duplicates()['ss_typ']\n",
    "foo.map(value_labels['ss_typ']).value_counts() / len(foo)"
   ]
  },
  {
   "cell_type": "code",
   "execution_count": null,
   "id": "439ad0e3-0bdf-4460-8dea-de147e32952d",
   "metadata": {},
   "outputs": [],
   "source": [
    "# zvláštní -- je tam podíl těch, kteří letos maturovali"
   ]
  },
  {
   "cell_type": "code",
   "execution_count": 77,
   "id": "21e21cd2-be51-4fcc-852e-a6f3768ef41e",
   "metadata": {},
   "outputs": [
    {
     "data": {
      "text/plain": [
       "{0: 'Přijat na základě přijímací zkoušky',\n",
       " 1: 'Přijat bez přijímací zkoušky',\n",
       " 2: 'Přijat dodatečně (po odvolání, po přezkumném řízení, apod.)',\n",
       " 3: 'Přijat z předchozího vysokoškolského studia (přestup)',\n",
       " 4: 'Přijat z kurzů celoživotního vzdělávání',\n",
       " 5: 'Nepřijat pro neprospěch u přijímací zkoušky',\n",
       " 6: 'Nepřijat pro nedostačující kapacitu oboru/studijního programu',\n",
       " 7: 'Nepřijat pro nedoložení požadovaného předchozího vzdělání',\n",
       " 8: 'Nepřijat pro nesplnění dalších podmínek přijetí',\n",
       " 9: 'Přijímací řízení zrušeno pro nedostatek uchazečů',\n",
       " 10: 'Přijímací řízení zrušeno z administrativních důvodů',\n",
       " 11: 'Nedostavil se k přijímacímu řízení'}"
      ]
     },
     "execution_count": 77,
     "metadata": {},
     "output_type": "execute_result"
    }
   ],
   "source": [
    "value_labels['vypr']"
   ]
  },
  {
   "cell_type": "code",
   "execution_count": 86,
   "id": "e4ac0898-ecad-46c0-b3ee-02b98cce6d83",
   "metadata": {},
   "outputs": [
    {
     "data": {
      "text/plain": [
       "{0: 'Dívka', 1: 'Chlapec', 2: 'Neznámé'}"
      ]
     },
     "execution_count": 86,
     "metadata": {},
     "output_type": "execute_result"
    }
   ],
   "source": [
    "value_labels['gender']"
   ]
  },
  {
   "cell_type": "code",
   "execution_count": 78,
   "id": "0342d1a4-4930-43d8-ae04-021e4d1d3ce0",
   "metadata": {},
   "outputs": [
    {
     "data": {
      "text/plain": [
       "{0: 'Uchazeč nebyl přijat', 1: 'Uchazeč se zapsal', 2: 'Uchazeč se nezapsal'}"
      ]
     },
     "execution_count": 78,
     "metadata": {},
     "output_type": "execute_result"
    }
   ],
   "source": [
    "value_labels['zaps']"
   ]
  },
  {
   "cell_type": "code",
   "execution_count": 79,
   "id": "c8fc601e-a841-4e00-a1d2-b501c915d315",
   "metadata": {},
   "outputs": [],
   "source": [
    "df['prj'] = df['vypr'] < 5\n",
    "df['zps'] = df['zaps'] == 1"
   ]
  },
  {
   "cell_type": "code",
   "execution_count": null,
   "id": "69935dfa-3910-4e06-8d6f-8d18b9c9137c",
   "metadata": {},
   "outputs": [],
   "source": []
  },
  {
   "cell_type": "code",
   "execution_count": 82,
   "id": "3a0de971-b8f6-4e3a-b5e3-6bd7622dd6f7",
   "metadata": {},
   "outputs": [],
   "source": [
    "foo = df.groupby(['id', 'gender', 'pedf'])[['prj', 'zps']].any().reset_index()"
   ]
  },
  {
   "cell_type": "code",
   "execution_count": 87,
   "id": "be43845a-7c62-47cd-afaf-c9401fba0bca",
   "metadata": {},
   "outputs": [
    {
     "data": {
      "text/plain": [
       "gender  pedf \n",
       "0       False    0.809422\n",
       "        True     0.415686\n",
       "1       False    0.893261\n",
       "        True     0.394372\n",
       "Name: prj, dtype: float64"
      ]
     },
     "execution_count": 87,
     "metadata": {},
     "output_type": "execute_result"
    }
   ],
   "source": [
    "foo.groupby(['gender', 'pedf'])['prj'].mean()"
   ]
  },
  {
   "cell_type": "code",
   "execution_count": 89,
   "id": "0e038a47-e76d-4284-81fc-863b1e50e9f7",
   "metadata": {},
   "outputs": [
    {
     "data": {
      "text/plain": [
       "gender  pedf   prj  \n",
       "0       False  False    0.000000\n",
       "               True     0.943307\n",
       "        True   False    0.000000\n",
       "               True     0.833598\n",
       "1       False  False    0.000000\n",
       "               True     0.965128\n",
       "        True   False    0.000000\n",
       "               True     0.783692\n",
       "Name: zps, dtype: float64"
      ]
     },
     "execution_count": 89,
     "metadata": {},
     "output_type": "execute_result"
    }
   ],
   "source": [
    "foo.groupby(['gender', 'pedf', 'prj'])['zps'].mean()"
   ]
  },
  {
   "cell_type": "code",
   "execution_count": 88,
   "id": "85a4bfe1-2eba-4b5b-8381-bda2a08402a8",
   "metadata": {},
   "outputs": [
    {
     "data": {
      "text/plain": [
       "(58064, 5)"
      ]
     },
     "execution_count": 88,
     "metadata": {},
     "output_type": "execute_result"
    }
   ],
   "source": [
    "foo.shape"
   ]
  },
  {
   "cell_type": "code",
   "execution_count": 48,
   "id": "c8054819-7c33-4a0b-960a-8929c2f9e0dc",
   "metadata": {},
   "outputs": [
    {
     "data": {
      "text/plain": [
       "30        False\n",
       "46        False\n",
       "47        False\n",
       "48        False\n",
       "49        False\n",
       "          ...  \n",
       "284185    False\n",
       "284186    False\n",
       "284187    False\n",
       "284190    False\n",
       "284191    False\n",
       "Name: pedf, Length: 144561, dtype: bool"
      ]
     },
     "execution_count": 48,
     "metadata": {},
     "output_type": "execute_result"
    }
   ],
   "source": [
    "df['pedf']"
   ]
  },
  {
   "cell_type": "code",
   "execution_count": 49,
   "id": "db9c2dcb-b939-4d82-8591-193b28e100f7",
   "metadata": {},
   "outputs": [
    {
     "data": {
      "text/plain": [
       "30        Celoškolská pracoviště                        ...\n",
       "46        Fakulta chemicko-technologická                ...\n",
       "47        Fakulta ekonomicko-správní                    ...\n",
       "48        Fakulta filozofická                           ...\n",
       "49        Fakulta filozofická                           ...\n",
       "                                ...                        \n",
       "284185    Filozofická fakulta                           ...\n",
       "284186    Filozofická fakulta                           ...\n",
       "284187    Pedagogická fakulta                           ...\n",
       "284190    Filozofická fakulta                           ...\n",
       "284191    Filozofická fakulta                           ...\n",
       "Name: fak_nazev, Length: 144561, dtype: object"
      ]
     },
     "execution_count": 49,
     "metadata": {},
     "output_type": "execute_result"
    }
   ],
   "source": [
    "df['fak_nazev'].map(value_labels['fak_nazev'])"
   ]
  },
  {
   "cell_type": "code",
   "execution_count": 50,
   "id": "ae18d7b6-39a1-4c49-bb81-db3cf0d3040c",
   "metadata": {},
   "outputs": [
    {
     "data": {
      "text/plain": [
       "'Pedagogická fakulta                                                             '"
      ]
     },
     "execution_count": 50,
     "metadata": {},
     "output_type": "execute_result"
    }
   ],
   "source": [
    "df['fak_nazev'].map(value_labels['fak_nazev'])[284187]"
   ]
  },
  {
   "cell_type": "code",
   "execution_count": null,
   "id": "276b7ae9-9695-4e26-89cc-b8c6f357d898",
   "metadata": {},
   "outputs": [],
   "source": []
  },
  {
   "cell_type": "code",
   "execution_count": 36,
   "id": "121dcce5-6374-4545-9354-f8e97fca1709",
   "metadata": {},
   "outputs": [
    {
     "data": {
      "text/plain": [
       "(144561, 39)"
      ]
     },
     "execution_count": 36,
     "metadata": {},
     "output_type": "execute_result"
    }
   ],
   "source": [
    "df.shape"
   ]
  },
  {
   "cell_type": "code",
   "execution_count": 25,
   "id": "f84ff171-447c-40ee-9ab0-40cc8f103a48",
   "metadata": {},
   "outputs": [
    {
     "data": {
      "text/plain": [
       "0158QQ2454    24\n",
       "0159QQ9608    19\n",
       "0107QQ6193    18\n",
       "0208QQ8498    17\n",
       "0206QQ8532    16\n",
       "              ..\n",
       "0157QQ9271     1\n",
       "0157QQ9275     1\n",
       "0157QQ9284     1\n",
       "0157QQ9288     1\n",
       "0001QQ3964     1\n",
       "Name: id, Length: 50519, dtype: int64"
      ]
     },
     "execution_count": 25,
     "metadata": {},
     "output_type": "execute_result"
    }
   ],
   "source": [
    "df['id'].value_counts()"
   ]
  },
  {
   "cell_type": "code",
   "execution_count": 28,
   "id": "5102d642-7b5c-461d-a914-288561d7e4a9",
   "metadata": {},
   "outputs": [
    {
     "data": {
      "text/plain": [
       "2     13509\n",
       "1     11984\n",
       "3     10463\n",
       "4      6760\n",
       "5      3884\n",
       "6      1929\n",
       "7       985\n",
       "8       464\n",
       "9       253\n",
       "10      133\n",
       "11       61\n",
       "12       42\n",
       "13       21\n",
       "14       12\n",
       "15       12\n",
       "16        3\n",
       "19        1\n",
       "17        1\n",
       "18        1\n",
       "24        1\n",
       "Name: id, dtype: int64"
      ]
     },
     "execution_count": 28,
     "metadata": {},
     "output_type": "execute_result"
    }
   ],
   "source": [
    "df['id'].value_counts().value_counts()"
   ]
  },
  {
   "cell_type": "code",
   "execution_count": 33,
   "id": "abac26e0-dab1-4897-b531-eb055f50be05",
   "metadata": {},
   "outputs": [],
   "source": [
    "df['fak_nazev'].map(value_labels['fak_nazev']).value_counts().reset_index().to_parquet(f'temp/uchazec/fak_nazev.parquet')"
   ]
  },
  {
   "cell_type": "code",
   "execution_count": null,
   "id": "2205544a-af33-494f-95ce-2c145247d5d4",
   "metadata": {},
   "outputs": [],
   "source": [
    "df['fak_nazev'].map(value_labels['fak_nazev']).value_counts().reset_index().to_parquet(f'temp/uchazec/fak_nazev.parquet')"
   ]
  },
  {
   "cell_type": "code",
   "execution_count": 34,
   "id": "cb3e28ad-421b-478b-a936-919c9df6ff10",
   "metadata": {},
   "outputs": [],
   "source": [
    "df['vs_nazev'].map(value_labels['vs_nazev']).value_counts().reset_index().to_parquet(f'temp/uchazec/vs_nazev.parquet')"
   ]
  },
  {
   "cell_type": "code",
   "execution_count": null,
   "id": "ff11bf66-ac6f-4a12-9073-1e5360b6a7ed",
   "metadata": {},
   "outputs": [],
   "source": []
  },
  {
   "cell_type": "code",
   "execution_count": 35,
   "id": "a95e2a7e-8c23-4767-9b55-07efff553108",
   "metadata": {},
   "outputs": [],
   "source": [
    "vs_list = ['Univerzita Karlova', 'Masarykova univerzita']"
   ]
  },
  {
   "cell_type": "code",
   "execution_count": null,
   "id": "7ad800db-ad09-4176-8185-57964699f268",
   "metadata": {},
   "outputs": [],
   "source": []
  },
  {
   "cell_type": "code",
   "execution_count": null,
   "id": "3ba00b7d-e0ca-42a9-ae86-a3dc91b166a7",
   "metadata": {},
   "outputs": [],
   "source": []
  },
  {
   "cell_type": "code",
   "execution_count": null,
   "id": "2e6e26c6-6b52-497a-8922-b2d70e0b927d",
   "metadata": {},
   "outputs": [],
   "source": []
  },
  {
   "cell_type": "code",
   "execution_count": 20,
   "id": "f0f5222a-99db-4a11-8dbb-c069f81fa9a9",
   "metadata": {},
   "outputs": [
    {
     "data": {
      "text/plain": [
       "(231074, 39)"
      ]
     },
     "execution_count": 20,
     "metadata": {},
     "output_type": "execute_result"
    }
   ],
   "source": [
    "df.shape"
   ]
  },
  {
   "cell_type": "code",
   "execution_count": 22,
   "id": "6f8952d7-8c19-4298-80e5-ce5a738dcde0",
   "metadata": {},
   "outputs": [
    {
     "data": {
      "text/plain": [
       "7808QQ3962    44\n",
       "0056QQ9720    26\n",
       "0158QQ2454    24\n",
       "0051QQ9591    19\n",
       "0159QQ9608    19\n",
       "              ..\n",
       "7154QQ3968     1\n",
       "7154QQ7212     1\n",
       "7154QQ7211     1\n",
       "7154QQ7213     1\n",
       "0001QQ3964     1\n",
       "Name: id, Length: 102733, dtype: int64"
      ]
     },
     "execution_count": 22,
     "metadata": {},
     "output_type": "execute_result"
    }
   ],
   "source": [
    "df['id'].value_counts()"
   ]
  },
  {
   "cell_type": "code",
   "execution_count": 23,
   "id": "7fcaba96-59a8-4b70-ae6a-68766f2e7743",
   "metadata": {},
   "outputs": [
    {
     "data": {
      "text/plain": [
       "2021.0    144561\n",
       "2020.0     33613\n",
       "2019.0     12375\n",
       "2018.0      7931\n",
       "2017.0      5289\n",
       "2016.0      4420\n",
       "2015.0      2845\n",
       "2013.0      1725\n",
       "2014.0      1697\n",
       "2012.0      1526\n",
       "2011.0      1232\n",
       "2010.0      1199\n",
       "2009.0      1091\n",
       "2007.0       886\n",
       "2008.0       819\n",
       "2006.0       804\n",
       "2004.0       797\n",
       "2005.0       785\n",
       "2003.0       697\n",
       "1998.0       675\n",
       "1997.0       671\n",
       "1999.0       661\n",
       "2002.0       623\n",
       "2001.0       576\n",
       "1996.0       524\n",
       "1995.0       423\n",
       "1994.0       410\n",
       "2000.0       324\n",
       "1992.0       322\n",
       "1993.0       310\n",
       "1991.0       262\n",
       "1990.0       218\n",
       "1989.0       156\n",
       "1988.0       116\n",
       "1987.0       104\n",
       "1986.0        74\n",
       "1985.0        39\n",
       "1983.0        38\n",
       "1984.0        37\n",
       "1980.0        26\n",
       "1981.0        23\n",
       "1982.0        23\n",
       "2022.0        15\n",
       "1979.0        12\n",
       "1974.0         8\n",
       "1973.0         8\n",
       "1977.0         4\n",
       "1976.0         3\n",
       "1969.0         3\n",
       "1975.0         3\n",
       "1971.0         2\n",
       "1972.0         2\n",
       "1970.0         1\n",
       "1968.0         1\n",
       "1966.0         1\n",
       "1967.0         1\n",
       "1965.0         1\n",
       "1962.0         1\n",
       "2024.0         1\n",
       "1978.0         1\n",
       "Name: rmat, dtype: int64"
      ]
     },
     "execution_count": 23,
     "metadata": {},
     "output_type": "execute_result"
    }
   ],
   "source": [
    "df['rmat'].value_counts()"
   ]
  },
  {
   "cell_type": "code",
   "execution_count": null,
   "id": "b81cdd12-b486-4102-8fa5-417c00a15ae9",
   "metadata": {},
   "outputs": [],
   "source": []
  },
  {
   "cell_type": "code",
   "execution_count": null,
   "id": "381cb914-d541-4af5-a810-bab3f0e54064",
   "metadata": {},
   "outputs": [],
   "source": []
  },
  {
   "cell_type": "code",
   "execution_count": 17,
   "id": "c412a1f2-8708-4cb5-93ce-acf5da65ae16",
   "metadata": {},
   "outputs": [
    {
     "data": {
      "text/plain": [
       "CZE    231074\n",
       "SVK      6271\n",
       "UKR       862\n",
       "RUS       602\n",
       "***       463\n",
       "        ...  \n",
       "NGA         1\n",
       "FIN         1\n",
       "TUN         1\n",
       "PHL         1\n",
       "AGO         1\n",
       "Name: stat_iso, Length: 88, dtype: int64"
      ]
     },
     "execution_count": 17,
     "metadata": {},
     "output_type": "execute_result"
    }
   ],
   "source": [
    "df['stat_iso'].map(value_labels['stat_iso']).value_counts()"
   ]
  },
  {
   "cell_type": "code",
   "execution_count": 18,
   "id": "dcc31035-9d27-43ef-a5f3-f3c44af5f922",
   "metadata": {},
   "outputs": [
    {
     "data": {
      "text/plain": [
       "CZE    233303\n",
       "SVK      5913\n",
       "RUS       270\n",
       "***       225\n",
       "UKR       203\n",
       "        ...  \n",
       "TUR         1\n",
       "ETH         1\n",
       "BGD         1\n",
       "ATA         1\n",
       "POL         1\n",
       "Name: bydliste_stat_iso, Length: 70, dtype: int64"
      ]
     },
     "execution_count": 18,
     "metadata": {},
     "output_type": "execute_result"
    }
   ],
   "source": [
    "df['bydliste_stat_iso'].map(value_labels['bydliste_stat_iso']).value_counts()"
   ]
  },
  {
   "cell_type": "code",
   "execution_count": null,
   "id": "14154d6b-b605-4d1a-98b7-3fde649807db",
   "metadata": {},
   "outputs": [],
   "source": []
  },
  {
   "cell_type": "code",
   "execution_count": 119,
   "id": "3671fbc3-70b4-4908-a14a-9fdc5a99ed61",
   "metadata": {},
   "outputs": [
    {
     "name": "stderr",
     "output_type": "stream",
     "text": [
      "/tmp/ipykernel_401/221791032.py:7: DtypeWarning: Columns (6) have mixed types. Specify dtype option on import or set low_memory=False.\n",
      "  df = pd.read_csv(f'{data_root}/{path}.csv', encoding='cp1250')\n"
     ]
    }
   ],
   "source": [
    "df, variable_labels, value_labels = loader(year=17)\n",
    "df.to_stata(f'{data_root}/uchazec/uch17.dta', write_index=False, version=118, variable_labels=variable_labels, value_labels=value_labels)"
   ]
  },
  {
   "cell_type": "code",
   "execution_count": null,
   "id": "dca21915-0609-4b2d-9d7d-bc6d4c79efe1",
   "metadata": {},
   "outputs": [],
   "source": []
  },
  {
   "cell_type": "code",
   "execution_count": null,
   "id": "cab1f29c-ecf5-406f-9544-d5064e09c70b",
   "metadata": {},
   "outputs": [],
   "source": []
  },
  {
   "cell_type": "code",
   "execution_count": null,
   "id": "f16a9b62-cf11-443f-a0e6-616ab37934e7",
   "metadata": {},
   "outputs": [],
   "source": []
  },
  {
   "cell_type": "code",
   "execution_count": null,
   "id": "d2bdb7f3-4b0a-4afa-80e2-45ed7c1da50b",
   "metadata": {},
   "outputs": [],
   "source": []
  },
  {
   "cell_type": "code",
   "execution_count": 56,
   "id": "631a0075-a5e0-45c9-a110-9de2620d439b",
   "metadata": {},
   "outputs": [
    {
     "data": {
      "text/html": [
       "<div>\n",
       "<style scoped>\n",
       "    .dataframe tbody tr th:only-of-type {\n",
       "        vertical-align: middle;\n",
       "    }\n",
       "\n",
       "    .dataframe tbody tr th {\n",
       "        vertical-align: top;\n",
       "    }\n",
       "\n",
       "    .dataframe thead th {\n",
       "        text-align: right;\n",
       "    }\n",
       "</style>\n",
       "<table border=\"1\" class=\"dataframe\">\n",
       "  <thead>\n",
       "    <tr style=\"text-align: right;\">\n",
       "      <th></th>\n",
       "      <th>IDC</th>\n",
       "      <th>KOD</th>\n",
       "      <th>ZKR</th>\n",
       "      <th>TXT</th>\n",
       "      <th>DATZP</th>\n",
       "      <th>DATKP</th>\n",
       "      <th>SPC</th>\n",
       "      <th>POZN</th>\n",
       "    </tr>\n",
       "  </thead>\n",
       "  <tbody>\n",
       "    <tr>\n",
       "      <th>0</th>\n",
       "      <td>AKVO</td>\n",
       "      <td>1101R006</td>\n",
       "      <td>Deskriptivní geometrie</td>\n",
       "      <td>Deskriptivní geometrie</td>\n",
       "      <td>1.1.2003</td>\n",
       "      <td>31.12.2999</td>\n",
       "      <td>None</td>\n",
       "      <td>None</td>\n",
       "    </tr>\n",
       "    <tr>\n",
       "      <th>1</th>\n",
       "      <td>AKVO</td>\n",
       "      <td>1101R008</td>\n",
       "      <td>Diskrétní matematika</td>\n",
       "      <td>Diskrétní matematika</td>\n",
       "      <td>1.1.2003</td>\n",
       "      <td>31.12.2999</td>\n",
       "      <td>None</td>\n",
       "      <td>None</td>\n",
       "    </tr>\n",
       "    <tr>\n",
       "      <th>2</th>\n",
       "      <td>AKVO</td>\n",
       "      <td>1101R014</td>\n",
       "      <td>Matematická analýza</td>\n",
       "      <td>Matematická analýza</td>\n",
       "      <td>1.1.2003</td>\n",
       "      <td>31.12.2999</td>\n",
       "      <td>11047</td>\n",
       "      <td>None</td>\n",
       "    </tr>\n",
       "    <tr>\n",
       "      <th>3</th>\n",
       "      <td>AKVO</td>\n",
       "      <td>1101R016</td>\n",
       "      <td>Matematika</td>\n",
       "      <td>Matematika</td>\n",
       "      <td>1.1.2003</td>\n",
       "      <td>31.12.2999</td>\n",
       "      <td>11617</td>\n",
       "      <td>None</td>\n",
       "    </tr>\n",
       "    <tr>\n",
       "      <th>4</th>\n",
       "      <td>AKVO</td>\n",
       "      <td>1101R018</td>\n",
       "      <td>Matem.,aplikace(analýza)</td>\n",
       "      <td>Matematika a její aplikace (zaměření matematic...</td>\n",
       "      <td>1.1.2003</td>\n",
       "      <td>31.12.2999</td>\n",
       "      <td>None</td>\n",
       "      <td>None</td>\n",
       "    </tr>\n",
       "  </tbody>\n",
       "</table>\n",
       "</div>"
      ],
      "text/plain": [
       "    IDC       KOD                       ZKR  \\\n",
       "0  AKVO  1101R006    Deskriptivní geometrie   \n",
       "1  AKVO  1101R008      Diskrétní matematika   \n",
       "2  AKVO  1101R014       Matematická analýza   \n",
       "3  AKVO  1101R016                Matematika   \n",
       "4  AKVO  1101R018  Matem.,aplikace(analýza)   \n",
       "\n",
       "                                                 TXT     DATZP       DATKP  \\\n",
       "0                             Deskriptivní geometrie  1.1.2003  31.12.2999   \n",
       "1                               Diskrétní matematika  1.1.2003  31.12.2999   \n",
       "2                                Matematická analýza  1.1.2003  31.12.2999   \n",
       "3                                         Matematika  1.1.2003  31.12.2999   \n",
       "4  Matematika a její aplikace (zaměření matematic...  1.1.2003  31.12.2999   \n",
       "\n",
       "     SPC  POZN  \n",
       "0   None  None  \n",
       "1   None  None  \n",
       "2  11047  None  \n",
       "3  11617  None  \n",
       "4   None  None  "
      ]
     },
     "execution_count": 56,
     "metadata": {},
     "output_type": "execute_result"
    }
   ],
   "source": [
    "akvo_xml = 'http://stistko.uiv.cz/katalog/textdata/C214117AKVO.xml'\n",
    "akvo = pd.read_xml(akvo_xml, encoding='cp1250', xpath='./veta')\n",
    "akvo.head()"
   ]
  },
  {
   "cell_type": "code",
   "execution_count": null,
   "id": "a9218ece-8eed-4601-b914-535f1ce1d0d3",
   "metadata": {},
   "outputs": [],
   "source": []
  },
  {
   "cell_type": "code",
   "execution_count": null,
   "id": "c46f006c-124f-4bce-ab0c-6a2fc1fcbf12",
   "metadata": {},
   "outputs": [],
   "source": []
  },
  {
   "cell_type": "code",
   "execution_count": 66,
   "id": "246f0873-906c-40f9-bf93-e5c4d55a9940",
   "metadata": {},
   "outputs": [
    {
     "name": "stderr",
     "output_type": "stream",
     "text": [
      "/tmp/ipykernel_401/367580044.py:2: DtypeWarning: Columns (3,6,23,25) have mixed types. Specify dtype option on import or set low_memory=False.\n",
      "  df = pd.read_csv(f'{data_root}/{path21}.csv', encoding='cp1250')\n"
     ]
    }
   ],
   "source": [
    "# načti data z roku 2021\n",
    "df = pd.read_csv(f'{data_root}/{path21}.csv', encoding='cp1250')"
   ]
  },
  {
   "cell_type": "code",
   "execution_count": 67,
   "id": "fbcd1962-ed2c-4c5f-8abc-42171ed0e06b",
   "metadata": {},
   "outputs": [],
   "source": [
    "df[:1000].to_csv('temp/uchazec21.csv')"
   ]
  },
  {
   "cell_type": "code",
   "execution_count": null,
   "id": "c7eecf21-7492-479f-940e-d5529b06c9b1",
   "metadata": {},
   "outputs": [],
   "source": []
  },
  {
   "cell_type": "code",
   "execution_count": 79,
   "id": "f0a9d435-0efd-4584-a270-f416a3cc628a",
   "metadata": {},
   "outputs": [],
   "source": [
    "program = pd.read_csv(f'{data_root}/uchazec/uch3-03-6/cisel/program.csv', encoding='cp1250')\n",
    "program.to_csv('temp/uchazec/program.csv')"
   ]
  },
  {
   "cell_type": "code",
   "execution_count": 80,
   "id": "3485d0b3-283b-4e24-a040-c33f361ddda9",
   "metadata": {},
   "outputs": [],
   "source": [
    "akvo_xml = 'http://stistko.uiv.cz/katalog/textdata/C214117AKVO.xml'\n",
    "akvo = pd.read_xml(akvo_xml, encoding='cp1250', xpath='./veta')\n",
    "akvo.to_csv('temp/uchazec/akvo.csv')"
   ]
  },
  {
   "cell_type": "code",
   "execution_count": 84,
   "id": "4b5ace3a-da88-42bd-9e93-219c432d1a13",
   "metadata": {},
   "outputs": [],
   "source": [
    "akko_xml = 'http://stistko.uiv.cz/katalog/textdata/C11240AKKO.xml'\n",
    "akko = pd.read_xml(akko_xml, encoding='cp1250', xpath='./veta')\n",
    "akko.to_csv('temp/uchazec/akko2.csv')"
   ]
  },
  {
   "cell_type": "code",
   "execution_count": 85,
   "id": "8ff52dbe-90b1-4d5e-b64d-b7254c0908dc",
   "metadata": {},
   "outputs": [],
   "source": [
    "regpro = pd.read_csv(f'{data_root}/uchazec/uch3-03-6/cisel/regpro.csv', encoding='cp1250')\n",
    "regpro.to_csv('temp/uchazec/regpro.csv')"
   ]
  },
  {
   "cell_type": "code",
   "execution_count": 88,
   "id": "103c1b43-7e53-4708-8740-0cfd7f1a2adf",
   "metadata": {},
   "outputs": [
    {
     "ename": "ValueError",
     "evalue": "Unable to parse string \"6N900\" at position 20",
     "output_type": "error",
     "traceback": [
      "\u001b[0;31m---------------------------------------------------------------------------\u001b[0m",
      "\u001b[0;31mValueError\u001b[0m                                Traceback (most recent call last)",
      "File \u001b[0;32m/mnt/d/projects/idea/code/venv/lib/python3.10/site-packages/pandas/_libs/lib.pyx:2315\u001b[0m, in \u001b[0;36mpandas._libs.lib.maybe_convert_numeric\u001b[0;34m()\u001b[0m\n",
      "\u001b[0;31mValueError\u001b[0m: Unable to parse string \"6N900\"",
      "\nDuring handling of the above exception, another exception occurred:\n",
      "\u001b[0;31mValueError\u001b[0m                                Traceback (most recent call last)",
      "Input \u001b[0;32mIn [88]\u001b[0m, in \u001b[0;36m<cell line: 1>\u001b[0;34m()\u001b[0m\n\u001b[0;32m----> 1\u001b[0m \u001b[43mpd\u001b[49m\u001b[38;5;241;43m.\u001b[39;49m\u001b[43mto_numeric\u001b[49m\u001b[43m(\u001b[49m\u001b[43mdf\u001b[49m\u001b[43m[\u001b[49m\u001b[38;5;124;43m'\u001b[39;49m\u001b[38;5;124;43mfak_id\u001b[39;49m\u001b[38;5;124;43m'\u001b[39;49m\u001b[43m]\u001b[49m\u001b[43m)\u001b[49m\n",
      "File \u001b[0;32m/mnt/d/projects/idea/code/venv/lib/python3.10/site-packages/pandas/core/tools/numeric.py:184\u001b[0m, in \u001b[0;36mto_numeric\u001b[0;34m(arg, errors, downcast)\u001b[0m\n\u001b[1;32m    182\u001b[0m coerce_numeric \u001b[38;5;241m=\u001b[39m errors \u001b[38;5;129;01mnot\u001b[39;00m \u001b[38;5;129;01min\u001b[39;00m (\u001b[38;5;124m\"\u001b[39m\u001b[38;5;124mignore\u001b[39m\u001b[38;5;124m\"\u001b[39m, \u001b[38;5;124m\"\u001b[39m\u001b[38;5;124mraise\u001b[39m\u001b[38;5;124m\"\u001b[39m)\n\u001b[1;32m    183\u001b[0m \u001b[38;5;28;01mtry\u001b[39;00m:\n\u001b[0;32m--> 184\u001b[0m     values, _ \u001b[38;5;241m=\u001b[39m \u001b[43mlib\u001b[49m\u001b[38;5;241;43m.\u001b[39;49m\u001b[43mmaybe_convert_numeric\u001b[49m\u001b[43m(\u001b[49m\n\u001b[1;32m    185\u001b[0m \u001b[43m        \u001b[49m\u001b[43mvalues\u001b[49m\u001b[43m,\u001b[49m\u001b[43m \u001b[49m\u001b[38;5;28;43mset\u001b[39;49m\u001b[43m(\u001b[49m\u001b[43m)\u001b[49m\u001b[43m,\u001b[49m\u001b[43m \u001b[49m\u001b[43mcoerce_numeric\u001b[49m\u001b[38;5;241;43m=\u001b[39;49m\u001b[43mcoerce_numeric\u001b[49m\n\u001b[1;32m    186\u001b[0m \u001b[43m    \u001b[49m\u001b[43m)\u001b[49m\n\u001b[1;32m    187\u001b[0m \u001b[38;5;28;01mexcept\u001b[39;00m (\u001b[38;5;167;01mValueError\u001b[39;00m, \u001b[38;5;167;01mTypeError\u001b[39;00m):\n\u001b[1;32m    188\u001b[0m     \u001b[38;5;28;01mif\u001b[39;00m errors \u001b[38;5;241m==\u001b[39m \u001b[38;5;124m\"\u001b[39m\u001b[38;5;124mraise\u001b[39m\u001b[38;5;124m\"\u001b[39m:\n",
      "File \u001b[0;32m/mnt/d/projects/idea/code/venv/lib/python3.10/site-packages/pandas/_libs/lib.pyx:2357\u001b[0m, in \u001b[0;36mpandas._libs.lib.maybe_convert_numeric\u001b[0;34m()\u001b[0m\n",
      "\u001b[0;31mValueError\u001b[0m: Unable to parse string \"6N900\" at position 20"
     ]
    }
   ],
   "source": [
    "pd.to_numeric(df['fak_id'])"
   ]
  },
  {
   "cell_type": "code",
   "execution_count": 109,
   "id": "ee78d257-591b-431a-be77-3ad63b461899",
   "metadata": {},
   "outputs": [
    {
     "data": {
      "text/plain": [
       "0      Jihočeská univerzita v Českých Budějovicích   ...\n",
       "1      Slezská univerzita v Opavě                    ...\n",
       "2      Česká zemědělská univerzita v Praze           ...\n",
       "3      Univerzita Palackého v Olomouci               ...\n",
       "4      Západočeská univerzita v Plzni                ...\n",
       "                             ...                        \n",
       "205    Vysoká škola podnikání a práva, a.s.          ...\n",
       "206    Vysoká škola kreativní komunikace             ...\n",
       "207    Vysoká škola finanční a správní, a.s.         ...\n",
       "208    Technická univerzita v Liberci                ...\n",
       "209    Vysoká škola ekonomie a managementu, a.s.     ...\n",
       "Length: 210, dtype: object"
      ]
     },
     "execution_count": 109,
     "metadata": {},
     "output_type": "execute_result"
    }
   ],
   "source": [
    "regpro['VS_PLN'] + '___' + regpro['ZAR_PLN']"
   ]
  },
  {
   "cell_type": "code",
   "execution_count": null,
   "id": "01f14703-f664-4a02-b978-4b729f80ac60",
   "metadata": {},
   "outputs": [],
   "source": []
  },
  {
   "cell_type": "code",
   "execution_count": 68,
   "id": "550d1e47-4aee-4d52-8f5d-27f9f8a18a2c",
   "metadata": {},
   "outputs": [
    {
     "data": {
      "text/html": [
       "<div>\n",
       "<style scoped>\n",
       "    .dataframe tbody tr th:only-of-type {\n",
       "        vertical-align: middle;\n",
       "    }\n",
       "\n",
       "    .dataframe tbody tr th {\n",
       "        vertical-align: top;\n",
       "    }\n",
       "\n",
       "    .dataframe thead th {\n",
       "        text-align: right;\n",
       "    }\n",
       "</style>\n",
       "<table border=\"1\" class=\"dataframe\">\n",
       "  <thead>\n",
       "    <tr style=\"text-align: right;\">\n",
       "      <th></th>\n",
       "      <th>KOD</th>\n",
       "      <th>NAZEV</th>\n",
       "      <th>RID</th>\n",
       "    </tr>\n",
       "  </thead>\n",
       "  <tbody>\n",
       "    <tr>\n",
       "      <th>0</th>\n",
       "      <td>B0111A190001</td>\n",
       "      <td>Pedagogika                                    ...</td>\n",
       "      <td>14210</td>\n",
       "    </tr>\n",
       "    <tr>\n",
       "      <th>1</th>\n",
       "      <td>B0111A190002</td>\n",
       "      <td>Sociální pedagogika a volný čas               ...</td>\n",
       "      <td>14410</td>\n",
       "    </tr>\n",
       "    <tr>\n",
       "      <th>2</th>\n",
       "      <td>B0111A190003</td>\n",
       "      <td>Andragogika                                   ...</td>\n",
       "      <td>15210</td>\n",
       "    </tr>\n",
       "    <tr>\n",
       "      <th>3</th>\n",
       "      <td>B0111A190004</td>\n",
       "      <td>Andragogika a personální řízení               ...</td>\n",
       "      <td>11210</td>\n",
       "    </tr>\n",
       "    <tr>\n",
       "      <th>4</th>\n",
       "      <td>B0111A190005</td>\n",
       "      <td>Sociální pedagogika a poradenství             ...</td>\n",
       "      <td>14210</td>\n",
       "    </tr>\n",
       "  </tbody>\n",
       "</table>\n",
       "</div>"
      ],
      "text/plain": [
       "            KOD                                              NAZEV    RID\n",
       "0  B0111A190001  Pedagogika                                    ...  14210\n",
       "1  B0111A190002  Sociální pedagogika a volný čas               ...  14410\n",
       "2  B0111A190003  Andragogika                                   ...  15210\n",
       "3  B0111A190004  Andragogika a personální řízení               ...  11210\n",
       "4  B0111A190005  Sociální pedagogika a poradenství             ...  14210"
      ]
     },
     "execution_count": 68,
     "metadata": {},
     "output_type": "execute_result"
    }
   ],
   "source": [
    "program = pd.read_csv(f'{data_root}/uchazec/uch3-03-6/cisel/program.csv', encoding='cp1250')\n",
    "program.head()"
   ]
  },
  {
   "cell_type": "code",
   "execution_count": 65,
   "id": "822a1cc5-ed5a-4d61-a4b4-c9a7f134d6b9",
   "metadata": {},
   "outputs": [
    {
     "data": {
      "text/plain": [
       "0         M0421A220001\n",
       "1         B0321A180002\n",
       "2                M5103\n",
       "3         M0421A220001\n",
       "4         B0413P050025\n",
       "              ...     \n",
       "284196    B0411P050002\n",
       "284197    B0111A190023\n",
       "284198    B0923A240005\n",
       "284199    B0923A240005\n",
       "284200           B6739\n",
       "Name: program, Length: 284201, dtype: object"
      ]
     },
     "execution_count": 65,
     "metadata": {},
     "output_type": "execute_result"
    }
   ],
   "source": [
    "df['program']"
   ]
  },
  {
   "cell_type": "code",
   "execution_count": 60,
   "id": "3057305b-6ae9-4ea0-ba01-80522ed8ff2e",
   "metadata": {},
   "outputs": [
    {
     "data": {
      "text/plain": [
       "{1: 'PŘÍRODNÍ VĚDY A NAUKY',\n",
       " 2: 'TECHNICKÉ VĚDY A NAUKY (1. část)',\n",
       " 3: 'TECHNICKÉ VĚDY A NAUKY (2. část)',\n",
       " 4: 'ZEMĚDĚLSKO-LESNICKÉ A VETERINÁRNÍ VĚDY A NAUKY',\n",
       " 5: 'ZDRAVOTNICTVÍ, LÉKAŘSKÉ A FARMACEUTICKÉ VĚDY A NAUKY',\n",
       " 6: 'SPOLEČENSKÉ VĚDY, NAUKY A SLUŽBY (1. část)',\n",
       " 7: 'SPOLEČENSKÉ VĚDY, NAUKY A SLUŽBY (2. část)',\n",
       " 8: 'VĚDY A NAUKY O KULTUŘE A UMĚNÍ',\n",
       " 9: 'VOJENSKÉ VĚDY A NAUKY'}"
      ]
     },
     "execution_count": 60,
     "metadata": {},
     "output_type": "execute_result"
    }
   ],
   "source": [
    "value_labels['obor1_1']"
   ]
  },
  {
   "cell_type": "code",
   "execution_count": 62,
   "id": "ba32bf0b-5a06-40cf-8703-eee1fe59f575",
   "metadata": {},
   "outputs": [
    {
     "data": {
      "text/plain": [
       "''"
      ]
     },
     "execution_count": 62,
     "metadata": {},
     "output_type": "execute_result"
    }
   ],
   "source": [
    "df['obor1_1'].iloc[1]"
   ]
  },
  {
   "cell_type": "code",
   "execution_count": null,
   "id": "10a80e8d-cbbd-4d84-9ce2-cb81f014ca39",
   "metadata": {},
   "outputs": [],
   "source": []
  },
  {
   "cell_type": "code",
   "execution_count": 42,
   "id": "1a30dd82-90de-4a32-8201-83344c0c5124",
   "metadata": {},
   "outputs": [
    {
     "ename": "UnicodeEncodeError",
     "evalue": "'latin-1' codec can't encode character '\\u0161' in position 11: ordinal not in range(256)",
     "output_type": "error",
     "traceback": [
      "\u001b[0;31m---------------------------------------------------------------------------\u001b[0m",
      "\u001b[0;31mUnicodeEncodeError\u001b[0m                        Traceback (most recent call last)",
      "Input \u001b[0;32mIn [42]\u001b[0m, in \u001b[0;36m<cell line: 1>\u001b[0;34m()\u001b[0m\n\u001b[0;32m----> 1\u001b[0m w \u001b[38;5;241m=\u001b[39m \u001b[43mpd\u001b[49m\u001b[38;5;241;43m.\u001b[39;49m\u001b[43mio\u001b[49m\u001b[38;5;241;43m.\u001b[39;49m\u001b[43mstata\u001b[49m\u001b[38;5;241;43m.\u001b[39;49m\u001b[43mStataWriterUTF8\u001b[49m\u001b[43m(\u001b[49m\u001b[38;5;124;43mf\u001b[39;49m\u001b[38;5;124;43m'\u001b[39;49m\u001b[38;5;132;43;01m{\u001b[39;49;00m\u001b[43mdata_root\u001b[49m\u001b[38;5;132;43;01m}\u001b[39;49;00m\u001b[38;5;124;43m/uchazec/uch21.dta\u001b[39;49m\u001b[38;5;124;43m'\u001b[39;49m\u001b[43m,\u001b[49m\u001b[43m \u001b[49m\u001b[43mdf\u001b[49m\u001b[43m,\u001b[49m\u001b[43m \u001b[49m\u001b[43mwrite_index\u001b[49m\u001b[38;5;241;43m=\u001b[39;49m\u001b[38;5;28;43;01mFalse\u001b[39;49;00m\u001b[43m,\u001b[49m\u001b[43m \u001b[49m\u001b[43mversion\u001b[49m\u001b[38;5;241;43m=\u001b[39;49m\u001b[38;5;241;43m118\u001b[39;49m\u001b[43m,\u001b[49m\n\u001b[1;32m      2\u001b[0m \u001b[43m                                \u001b[49m\u001b[43mvariable_labels\u001b[49m\u001b[38;5;241;43m=\u001b[39;49m\u001b[43mvariable_labels\u001b[49m\u001b[43m,\u001b[49m\u001b[43m \u001b[49m\u001b[43mvalue_labels\u001b[49m\u001b[38;5;241;43m=\u001b[39;49m\u001b[43mvalue_labels\u001b[49m\u001b[43m)\u001b[49m\n\u001b[1;32m      3\u001b[0m w\u001b[38;5;241m.\u001b[39mwrite_file()\n",
      "File \u001b[0;32m/mnt/d/projects/idea/code/venv/lib/python3.10/site-packages/pandas/io/stata.py:3604\u001b[0m, in \u001b[0;36mStataWriterUTF8.__init__\u001b[0;34m(self, fname, data, convert_dates, write_index, byteorder, time_stamp, data_label, variable_labels, convert_strl, version, compression, storage_options, value_labels)\u001b[0m\n\u001b[1;32m   3598\u001b[0m \u001b[38;5;28;01melif\u001b[39;00m version \u001b[38;5;241m==\u001b[39m \u001b[38;5;241m118\u001b[39m \u001b[38;5;129;01mand\u001b[39;00m data\u001b[38;5;241m.\u001b[39mshape[\u001b[38;5;241m1\u001b[39m] \u001b[38;5;241m>\u001b[39m \u001b[38;5;241m32767\u001b[39m:\n\u001b[1;32m   3599\u001b[0m     \u001b[38;5;28;01mraise\u001b[39;00m \u001b[38;5;167;01mValueError\u001b[39;00m(\n\u001b[1;32m   3600\u001b[0m         \u001b[38;5;124m\"\u001b[39m\u001b[38;5;124mYou must use version 119 for data sets containing more than\u001b[39m\u001b[38;5;124m\"\u001b[39m\n\u001b[1;32m   3601\u001b[0m         \u001b[38;5;124m\"\u001b[39m\u001b[38;5;124m32,767 variables\u001b[39m\u001b[38;5;124m\"\u001b[39m\n\u001b[1;32m   3602\u001b[0m     )\n\u001b[0;32m-> 3604\u001b[0m \u001b[38;5;28;43msuper\u001b[39;49m\u001b[43m(\u001b[49m\u001b[43m)\u001b[49m\u001b[38;5;241;43m.\u001b[39;49m\u001b[38;5;21;43m__init__\u001b[39;49m\u001b[43m(\u001b[49m\n\u001b[1;32m   3605\u001b[0m \u001b[43m    \u001b[49m\u001b[43mfname\u001b[49m\u001b[43m,\u001b[49m\n\u001b[1;32m   3606\u001b[0m \u001b[43m    \u001b[49m\u001b[43mdata\u001b[49m\u001b[43m,\u001b[49m\n\u001b[1;32m   3607\u001b[0m \u001b[43m    \u001b[49m\u001b[43mconvert_dates\u001b[49m\u001b[38;5;241;43m=\u001b[39;49m\u001b[43mconvert_dates\u001b[49m\u001b[43m,\u001b[49m\n\u001b[1;32m   3608\u001b[0m \u001b[43m    \u001b[49m\u001b[43mwrite_index\u001b[49m\u001b[38;5;241;43m=\u001b[39;49m\u001b[43mwrite_index\u001b[49m\u001b[43m,\u001b[49m\n\u001b[1;32m   3609\u001b[0m \u001b[43m    \u001b[49m\u001b[43mbyteorder\u001b[49m\u001b[38;5;241;43m=\u001b[39;49m\u001b[43mbyteorder\u001b[49m\u001b[43m,\u001b[49m\n\u001b[1;32m   3610\u001b[0m \u001b[43m    \u001b[49m\u001b[43mtime_stamp\u001b[49m\u001b[38;5;241;43m=\u001b[39;49m\u001b[43mtime_stamp\u001b[49m\u001b[43m,\u001b[49m\n\u001b[1;32m   3611\u001b[0m \u001b[43m    \u001b[49m\u001b[43mdata_label\u001b[49m\u001b[38;5;241;43m=\u001b[39;49m\u001b[43mdata_label\u001b[49m\u001b[43m,\u001b[49m\n\u001b[1;32m   3612\u001b[0m \u001b[43m    \u001b[49m\u001b[43mvariable_labels\u001b[49m\u001b[38;5;241;43m=\u001b[39;49m\u001b[43mvariable_labels\u001b[49m\u001b[43m,\u001b[49m\n\u001b[1;32m   3613\u001b[0m \u001b[43m    \u001b[49m\u001b[43mvalue_labels\u001b[49m\u001b[38;5;241;43m=\u001b[39;49m\u001b[43mvalue_labels\u001b[49m\u001b[43m,\u001b[49m\n\u001b[1;32m   3614\u001b[0m \u001b[43m    \u001b[49m\u001b[43mconvert_strl\u001b[49m\u001b[38;5;241;43m=\u001b[39;49m\u001b[43mconvert_strl\u001b[49m\u001b[43m,\u001b[49m\n\u001b[1;32m   3615\u001b[0m \u001b[43m    \u001b[49m\u001b[43mcompression\u001b[49m\u001b[38;5;241;43m=\u001b[39;49m\u001b[43mcompression\u001b[49m\u001b[43m,\u001b[49m\n\u001b[1;32m   3616\u001b[0m \u001b[43m    \u001b[49m\u001b[43mstorage_options\u001b[49m\u001b[38;5;241;43m=\u001b[39;49m\u001b[43mstorage_options\u001b[49m\u001b[43m,\u001b[49m\n\u001b[1;32m   3617\u001b[0m \u001b[43m\u001b[49m\u001b[43m)\u001b[49m\n\u001b[1;32m   3618\u001b[0m \u001b[38;5;66;03m# Override version set in StataWriter117 init\u001b[39;00m\n\u001b[1;32m   3619\u001b[0m \u001b[38;5;28mself\u001b[39m\u001b[38;5;241m.\u001b[39m_dta_version \u001b[38;5;241m=\u001b[39m version\n",
      "File \u001b[0;32m/mnt/d/projects/idea/code/venv/lib/python3.10/site-packages/pandas/io/stata.py:3202\u001b[0m, in \u001b[0;36mStataWriter117.__init__\u001b[0;34m(self, fname, data, convert_dates, write_index, byteorder, time_stamp, data_label, variable_labels, convert_strl, compression, storage_options, value_labels)\u001b[0m\n\u001b[1;32m   3199\u001b[0m \u001b[38;5;28;01mif\u001b[39;00m convert_strl \u001b[38;5;129;01mis\u001b[39;00m \u001b[38;5;129;01mnot\u001b[39;00m \u001b[38;5;28;01mNone\u001b[39;00m:\n\u001b[1;32m   3200\u001b[0m     \u001b[38;5;28mself\u001b[39m\u001b[38;5;241m.\u001b[39m_convert_strl\u001b[38;5;241m.\u001b[39mextend(convert_strl)\n\u001b[0;32m-> 3202\u001b[0m \u001b[38;5;28;43msuper\u001b[39;49m\u001b[43m(\u001b[49m\u001b[43m)\u001b[49m\u001b[38;5;241;43m.\u001b[39;49m\u001b[38;5;21;43m__init__\u001b[39;49m\u001b[43m(\u001b[49m\n\u001b[1;32m   3203\u001b[0m \u001b[43m    \u001b[49m\u001b[43mfname\u001b[49m\u001b[43m,\u001b[49m\n\u001b[1;32m   3204\u001b[0m \u001b[43m    \u001b[49m\u001b[43mdata\u001b[49m\u001b[43m,\u001b[49m\n\u001b[1;32m   3205\u001b[0m \u001b[43m    \u001b[49m\u001b[43mconvert_dates\u001b[49m\u001b[43m,\u001b[49m\n\u001b[1;32m   3206\u001b[0m \u001b[43m    \u001b[49m\u001b[43mwrite_index\u001b[49m\u001b[43m,\u001b[49m\n\u001b[1;32m   3207\u001b[0m \u001b[43m    \u001b[49m\u001b[43mbyteorder\u001b[49m\u001b[38;5;241;43m=\u001b[39;49m\u001b[43mbyteorder\u001b[49m\u001b[43m,\u001b[49m\n\u001b[1;32m   3208\u001b[0m \u001b[43m    \u001b[49m\u001b[43mtime_stamp\u001b[49m\u001b[38;5;241;43m=\u001b[39;49m\u001b[43mtime_stamp\u001b[49m\u001b[43m,\u001b[49m\n\u001b[1;32m   3209\u001b[0m \u001b[43m    \u001b[49m\u001b[43mdata_label\u001b[49m\u001b[38;5;241;43m=\u001b[39;49m\u001b[43mdata_label\u001b[49m\u001b[43m,\u001b[49m\n\u001b[1;32m   3210\u001b[0m \u001b[43m    \u001b[49m\u001b[43mvariable_labels\u001b[49m\u001b[38;5;241;43m=\u001b[39;49m\u001b[43mvariable_labels\u001b[49m\u001b[43m,\u001b[49m\n\u001b[1;32m   3211\u001b[0m \u001b[43m    \u001b[49m\u001b[43mvalue_labels\u001b[49m\u001b[38;5;241;43m=\u001b[39;49m\u001b[43mvalue_labels\u001b[49m\u001b[43m,\u001b[49m\n\u001b[1;32m   3212\u001b[0m \u001b[43m    \u001b[49m\u001b[43mcompression\u001b[49m\u001b[38;5;241;43m=\u001b[39;49m\u001b[43mcompression\u001b[49m\u001b[43m,\u001b[49m\n\u001b[1;32m   3213\u001b[0m \u001b[43m    \u001b[49m\u001b[43mstorage_options\u001b[49m\u001b[38;5;241;43m=\u001b[39;49m\u001b[43mstorage_options\u001b[49m\u001b[43m,\u001b[49m\n\u001b[1;32m   3214\u001b[0m \u001b[43m\u001b[49m\u001b[43m)\u001b[49m\n\u001b[1;32m   3215\u001b[0m \u001b[38;5;28mself\u001b[39m\u001b[38;5;241m.\u001b[39m_map: \u001b[38;5;28mdict\u001b[39m[\u001b[38;5;28mstr\u001b[39m, \u001b[38;5;28mint\u001b[39m] \u001b[38;5;241m=\u001b[39m {}\n\u001b[1;32m   3216\u001b[0m \u001b[38;5;28mself\u001b[39m\u001b[38;5;241m.\u001b[39m_strl_blob \u001b[38;5;241m=\u001b[39m \u001b[38;5;124mb\u001b[39m\u001b[38;5;124m\"\u001b[39m\u001b[38;5;124m\"\u001b[39m\n",
      "File \u001b[0;32m/mnt/d/projects/idea/code/venv/lib/python3.10/site-packages/pandas/io/stata.py:2282\u001b[0m, in \u001b[0;36mStataWriter.__init__\u001b[0;34m(self, fname, data, convert_dates, write_index, byteorder, time_stamp, data_label, variable_labels, compression, storage_options, value_labels)\u001b[0m\n\u001b[1;32m   2280\u001b[0m \u001b[38;5;28mself\u001b[39m\u001b[38;5;241m.\u001b[39m_converted_names: \u001b[38;5;28mdict\u001b[39m[Hashable, \u001b[38;5;28mstr\u001b[39m] \u001b[38;5;241m=\u001b[39m {}\n\u001b[1;32m   2281\u001b[0m \u001b[38;5;66;03m# attach nobs, nvars, data, varlist, typlist\u001b[39;00m\n\u001b[0;32m-> 2282\u001b[0m \u001b[38;5;28;43mself\u001b[39;49m\u001b[38;5;241;43m.\u001b[39;49m\u001b[43m_prepare_pandas\u001b[49m\u001b[43m(\u001b[49m\u001b[43mdata\u001b[49m\u001b[43m)\u001b[49m\n\u001b[1;32m   2283\u001b[0m \u001b[38;5;28mself\u001b[39m\u001b[38;5;241m.\u001b[39mstorage_options \u001b[38;5;241m=\u001b[39m storage_options\n\u001b[1;32m   2285\u001b[0m \u001b[38;5;28;01mif\u001b[39;00m byteorder \u001b[38;5;129;01mis\u001b[39;00m \u001b[38;5;28;01mNone\u001b[39;00m:\n",
      "File \u001b[0;32m/mnt/d/projects/idea/code/venv/lib/python3.10/site-packages/pandas/io/stata.py:2530\u001b[0m, in \u001b[0;36mStataWriter._prepare_pandas\u001b[0;34m(self, data)\u001b[0m\n\u001b[1;32m   2527\u001b[0m \u001b[38;5;28mself\u001b[39m\u001b[38;5;241m.\u001b[39m_has_value_labels \u001b[38;5;241m=\u001b[39m np\u001b[38;5;241m.\u001b[39mrepeat(\u001b[38;5;28;01mFalse\u001b[39;00m, data\u001b[38;5;241m.\u001b[39mshape[\u001b[38;5;241m1\u001b[39m])\n\u001b[1;32m   2529\u001b[0m \u001b[38;5;66;03m# Create value labels for non-categorical data\u001b[39;00m\n\u001b[0;32m-> 2530\u001b[0m non_cat_value_labels \u001b[38;5;241m=\u001b[39m \u001b[38;5;28;43mself\u001b[39;49m\u001b[38;5;241;43m.\u001b[39;49m\u001b[43m_prepare_non_cat_value_labels\u001b[49m\u001b[43m(\u001b[49m\u001b[43mdata\u001b[49m\u001b[43m)\u001b[49m\n\u001b[1;32m   2532\u001b[0m non_cat_columns \u001b[38;5;241m=\u001b[39m [svl\u001b[38;5;241m.\u001b[39mlabname \u001b[38;5;28;01mfor\u001b[39;00m svl \u001b[38;5;129;01min\u001b[39;00m non_cat_value_labels]\n\u001b[1;32m   2533\u001b[0m has_non_cat_val_labels \u001b[38;5;241m=\u001b[39m data\u001b[38;5;241m.\u001b[39mcolumns\u001b[38;5;241m.\u001b[39misin(non_cat_columns)\n",
      "File \u001b[0;32m/mnt/d/projects/idea/code/venv/lib/python3.10/site-packages/pandas/io/stata.py:2332\u001b[0m, in \u001b[0;36mStataWriter._prepare_non_cat_value_labels\u001b[0;34m(self, data)\u001b[0m\n\u001b[1;32m   2325\u001b[0m     \u001b[38;5;28;01mif\u001b[39;00m \u001b[38;5;129;01mnot\u001b[39;00m is_numeric_dtype(data[colname]\u001b[38;5;241m.\u001b[39mdtype):\n\u001b[1;32m   2326\u001b[0m         \u001b[38;5;66;03m# Labels should not be passed explicitly for categorical\u001b[39;00m\n\u001b[1;32m   2327\u001b[0m         \u001b[38;5;66;03m# columns that will be converted to int\u001b[39;00m\n\u001b[1;32m   2328\u001b[0m         \u001b[38;5;28;01mraise\u001b[39;00m \u001b[38;5;167;01mValueError\u001b[39;00m(\n\u001b[1;32m   2329\u001b[0m             \u001b[38;5;124mf\u001b[39m\u001b[38;5;124m\"\u001b[39m\u001b[38;5;124mCan\u001b[39m\u001b[38;5;124m'\u001b[39m\u001b[38;5;124mt create value labels for \u001b[39m\u001b[38;5;132;01m{\u001b[39;00mlabname\u001b[38;5;132;01m}\u001b[39;00m\u001b[38;5;124m, value labels \u001b[39m\u001b[38;5;124m\"\u001b[39m\n\u001b[1;32m   2330\u001b[0m             \u001b[38;5;124m\"\u001b[39m\u001b[38;5;124mcan only be applied to numeric columns.\u001b[39m\u001b[38;5;124m\"\u001b[39m\n\u001b[1;32m   2331\u001b[0m         )\n\u001b[0;32m-> 2332\u001b[0m     svl \u001b[38;5;241m=\u001b[39m \u001b[43mStataNonCatValueLabel\u001b[49m\u001b[43m(\u001b[49m\u001b[43mcolname\u001b[49m\u001b[43m,\u001b[49m\u001b[43m \u001b[49m\u001b[43mlabels\u001b[49m\u001b[43m)\u001b[49m\n\u001b[1;32m   2333\u001b[0m     non_cat_value_labels\u001b[38;5;241m.\u001b[39mappend(svl)\n\u001b[1;32m   2334\u001b[0m \u001b[38;5;28;01mreturn\u001b[39;00m non_cat_value_labels\n",
      "File \u001b[0;32m/mnt/d/projects/idea/code/venv/lib/python3.10/site-packages/pandas/io/stata.py:804\u001b[0m, in \u001b[0;36mStataNonCatValueLabel.__init__\u001b[0;34m(self, labname, value_labels, encoding)\u001b[0m\n\u001b[1;32m    800\u001b[0m \u001b[38;5;28mself\u001b[39m\u001b[38;5;241m.\u001b[39m_encoding \u001b[38;5;241m=\u001b[39m encoding\n\u001b[1;32m    801\u001b[0m \u001b[38;5;28mself\u001b[39m\u001b[38;5;241m.\u001b[39mvalue_labels: \u001b[38;5;28mlist\u001b[39m[\u001b[38;5;28mtuple\u001b[39m[\u001b[38;5;28mint\u001b[39m \u001b[38;5;241m|\u001b[39m \u001b[38;5;28mfloat\u001b[39m, \u001b[38;5;28mstr\u001b[39m]] \u001b[38;5;241m=\u001b[39m \u001b[38;5;28msorted\u001b[39m(\n\u001b[1;32m    802\u001b[0m     value_labels\u001b[38;5;241m.\u001b[39mitems(), key\u001b[38;5;241m=\u001b[39m\u001b[38;5;28;01mlambda\u001b[39;00m x: x[\u001b[38;5;241m0\u001b[39m]\n\u001b[1;32m    803\u001b[0m )\n\u001b[0;32m--> 804\u001b[0m \u001b[38;5;28;43mself\u001b[39;49m\u001b[38;5;241;43m.\u001b[39;49m\u001b[43m_prepare_value_labels\u001b[49m\u001b[43m(\u001b[49m\u001b[43m)\u001b[49m\n",
      "File \u001b[0;32m/mnt/d/projects/idea/code/venv/lib/python3.10/site-packages/pandas/io/stata.py:702\u001b[0m, in \u001b[0;36mStataValueLabel._prepare_value_labels\u001b[0;34m(self)\u001b[0m\n\u001b[1;32m    697\u001b[0m     category \u001b[38;5;241m=\u001b[39m \u001b[38;5;28mstr\u001b[39m(category)\n\u001b[1;32m    698\u001b[0m     warnings\u001b[38;5;241m.\u001b[39mwarn(\n\u001b[1;32m    699\u001b[0m         value_label_mismatch_doc\u001b[38;5;241m.\u001b[39mformat(\u001b[38;5;28mself\u001b[39m\u001b[38;5;241m.\u001b[39mlabname),\n\u001b[1;32m    700\u001b[0m         ValueLabelTypeMismatch,\n\u001b[1;32m    701\u001b[0m     )\n\u001b[0;32m--> 702\u001b[0m category \u001b[38;5;241m=\u001b[39m \u001b[43mcategory\u001b[49m\u001b[38;5;241;43m.\u001b[39;49m\u001b[43mencode\u001b[49m\u001b[43m(\u001b[49m\u001b[38;5;28;43mself\u001b[39;49m\u001b[38;5;241;43m.\u001b[39;49m\u001b[43m_encoding\u001b[49m\u001b[43m)\u001b[49m\n\u001b[1;32m    703\u001b[0m offsets\u001b[38;5;241m.\u001b[39mappend(\u001b[38;5;28mself\u001b[39m\u001b[38;5;241m.\u001b[39mtext_len)\n\u001b[1;32m    704\u001b[0m \u001b[38;5;28mself\u001b[39m\u001b[38;5;241m.\u001b[39mtext_len \u001b[38;5;241m+\u001b[39m\u001b[38;5;241m=\u001b[39m \u001b[38;5;28mlen\u001b[39m(category) \u001b[38;5;241m+\u001b[39m \u001b[38;5;241m1\u001b[39m  \u001b[38;5;66;03m# +1 for the padding\u001b[39;00m\n",
      "\u001b[0;31mUnicodeEncodeError\u001b[0m: 'latin-1' codec can't encode character '\\u0161' in position 11: ordinal not in range(256)"
     ]
    }
   ],
   "source": [
    "w = pd.io.stata.StataWriterUTF8(f'{data_root}/uchazec/uch21.dta', df, write_index=False, version=118,\n",
    "                                variable_labels=variable_labels, value_labels=value_labels)\n",
    "w.write_file()"
   ]
  },
  {
   "cell_type": "code",
   "execution_count": null,
   "id": "a7b3edeb-b4d4-4532-a4e8-4bb73c48e531",
   "metadata": {},
   "outputs": [],
   "source": []
  },
  {
   "cell_type": "code",
   "execution_count": null,
   "id": "fea99c1e-4853-439f-b413-1a8c2c89b13b",
   "metadata": {},
   "outputs": [],
   "source": []
  },
  {
   "cell_type": "code",
   "execution_count": 43,
   "id": "c1a64782-2c6a-4b18-ae00-e63f64df3e27",
   "metadata": {},
   "outputs": [],
   "source": [
    "df.to_stata(f'{data_root}/uchazec/uch21.dta', write_index=False, version=118, variable_labels=variable_labels) #, value_labels=value_labels)"
   ]
  },
  {
   "cell_type": "code",
   "execution_count": null,
   "id": "9ededa09-7937-48b9-940f-612c7beadfd7",
   "metadata": {},
   "outputs": [],
   "source": [
    "w = pd.io.stata.StataWriterUTF8('foo.dta', df_master)\n",
    "w.write_file()"
   ]
  },
  {
   "cell_type": "code",
   "execution_count": null,
   "id": "446e8327-51ff-48cb-8a02-a01845284b5b",
   "metadata": {},
   "outputs": [],
   "source": []
  },
  {
   "cell_type": "code",
   "execution_count": 16,
   "id": "97fbb40f-1c00-4b92-b86e-8cfd25d4d5f2",
   "metadata": {},
   "outputs": [
    {
     "data": {
      "text/html": [
       "<div>\n",
       "<style scoped>\n",
       "    .dataframe tbody tr th:only-of-type {\n",
       "        vertical-align: middle;\n",
       "    }\n",
       "\n",
       "    .dataframe tbody tr th {\n",
       "        vertical-align: top;\n",
       "    }\n",
       "\n",
       "    .dataframe thead th {\n",
       "        text-align: right;\n",
       "    }\n",
       "</style>\n",
       "<table border=\"1\" class=\"dataframe\">\n",
       "  <thead>\n",
       "    <tr style=\"text-align: right;\">\n",
       "      <th></th>\n",
       "      <th>RDAT</th>\n",
       "      <th>RID</th>\n",
       "      <th>ROD_KOD</th>\n",
       "      <th>STATB</th>\n",
       "      <th>OBECB</th>\n",
       "      <th>PSCB</th>\n",
       "      <th>STAT</th>\n",
       "      <th>ODHL</th>\n",
       "      <th>IZOS</th>\n",
       "      <th>OBSS</th>\n",
       "      <th>...</th>\n",
       "      <th>OBOR5</th>\n",
       "      <th>APRO1</th>\n",
       "      <th>APRO2</th>\n",
       "      <th>APRO3</th>\n",
       "      <th>DAT_REG</th>\n",
       "      <th>VYPR</th>\n",
       "      <th>DAT_VYPR</th>\n",
       "      <th>ZAPS</th>\n",
       "      <th>DAT_ZAPS</th>\n",
       "      <th>CHYV</th>\n",
       "    </tr>\n",
       "  </thead>\n",
       "  <tbody>\n",
       "    <tr>\n",
       "      <th>0</th>\n",
       "      <td>20211031</td>\n",
       "      <td>1422</td>\n",
       "      <td></td>\n",
       "      <td>703.0</td>\n",
       "      <td></td>\n",
       "      <td>91108</td>\n",
       "      <td>703.0</td>\n",
       "      <td>2</td>\n",
       "      <td>999999703.0</td>\n",
       "      <td></td>\n",
       "      <td>...</td>\n",
       "      <td></td>\n",
       "      <td>NaN</td>\n",
       "      <td>NaN</td>\n",
       "      <td>NaN</td>\n",
       "      <td>8072021</td>\n",
       "      <td>15</td>\n",
       "      <td>08072021</td>\n",
       "      <td>1</td>\n",
       "      <td>08072021</td>\n",
       "      <td>1  00 0 0   000000          0000000</td>\n",
       "    </tr>\n",
       "    <tr>\n",
       "      <th>1</th>\n",
       "      <td>20211031</td>\n",
       "      <td>1423</td>\n",
       "      <td></td>\n",
       "      <td>703.0</td>\n",
       "      <td></td>\n",
       "      <td>83107</td>\n",
       "      <td>703.0</td>\n",
       "      <td>2</td>\n",
       "      <td>999999703.0</td>\n",
       "      <td></td>\n",
       "      <td>...</td>\n",
       "      <td></td>\n",
       "      <td>NaN</td>\n",
       "      <td>NaN</td>\n",
       "      <td>NaN</td>\n",
       "      <td>23062021</td>\n",
       "      <td>15</td>\n",
       "      <td>23062021</td>\n",
       "      <td>1</td>\n",
       "      <td>23062021</td>\n",
       "      <td>1  00 0 0   000000          0000000</td>\n",
       "    </tr>\n",
       "    <tr>\n",
       "      <th>2</th>\n",
       "      <td>20211031</td>\n",
       "      <td>1411</td>\n",
       "      <td></td>\n",
       "      <td>703.0</td>\n",
       "      <td></td>\n",
       "      <td>91624</td>\n",
       "      <td>703.0</td>\n",
       "      <td>2</td>\n",
       "      <td>999999703.0</td>\n",
       "      <td></td>\n",
       "      <td>...</td>\n",
       "      <td></td>\n",
       "      <td>NaN</td>\n",
       "      <td>NaN</td>\n",
       "      <td>NaN</td>\n",
       "      <td>28072021</td>\n",
       "      <td>15</td>\n",
       "      <td>28072021</td>\n",
       "      <td>1</td>\n",
       "      <td>28072021</td>\n",
       "      <td>1  00 0 0   000000          0000000</td>\n",
       "    </tr>\n",
       "    <tr>\n",
       "      <th>3</th>\n",
       "      <td>20211031</td>\n",
       "      <td>1422</td>\n",
       "      <td></td>\n",
       "      <td>703.0</td>\n",
       "      <td></td>\n",
       "      <td>91108</td>\n",
       "      <td>703.0</td>\n",
       "      <td>2</td>\n",
       "      <td>999999703.0</td>\n",
       "      <td></td>\n",
       "      <td>...</td>\n",
       "      <td></td>\n",
       "      <td>NaN</td>\n",
       "      <td>NaN</td>\n",
       "      <td>NaN</td>\n",
       "      <td>8072021</td>\n",
       "      <td>15</td>\n",
       "      <td>08072021</td>\n",
       "      <td>1</td>\n",
       "      <td>08072021</td>\n",
       "      <td>1  00 0 0   000000          0000000</td>\n",
       "    </tr>\n",
       "    <tr>\n",
       "      <th>4</th>\n",
       "      <td>20211031</td>\n",
       "      <td>78900</td>\n",
       "      <td></td>\n",
       "      <td>566.0</td>\n",
       "      <td></td>\n",
       "      <td></td>\n",
       "      <td>566.0</td>\n",
       "      <td>2</td>\n",
       "      <td>999999566.0</td>\n",
       "      <td></td>\n",
       "      <td>...</td>\n",
       "      <td></td>\n",
       "      <td>NaN</td>\n",
       "      <td>NaN</td>\n",
       "      <td>NaN</td>\n",
       "      <td>10112020</td>\n",
       "      <td>20</td>\n",
       "      <td>10112020</td>\n",
       "      <td>0</td>\n",
       "      <td></td>\n",
       "      <td>00 01    1 0000         0000 0 0</td>\n",
       "    </tr>\n",
       "  </tbody>\n",
       "</table>\n",
       "<p>5 rows × 28 columns</p>\n",
       "</div>"
      ],
      "text/plain": [
       "       RDAT    RID     ROD_KOD  STATB   OBECB   PSCB   STAT ODHL         IZOS  \\\n",
       "0  20211031   1422              703.0          91108  703.0    2  999999703.0   \n",
       "1  20211031   1423              703.0          83107  703.0    2  999999703.0   \n",
       "2  20211031   1411              703.0          91624  703.0    2  999999703.0   \n",
       "3  20211031   1422              703.0          91108  703.0    2  999999703.0   \n",
       "4  20211031  78900              566.0                 566.0    2  999999566.0   \n",
       "\n",
       "  OBSS  ...  OBOR5 APRO1 APRO2 APRO3   DAT_REG VYPR  DAT_VYPR ZAPS  DAT_ZAPS  \\\n",
       "0       ...          NaN   NaN   NaN   8072021   15  08072021    1  08072021   \n",
       "1       ...          NaN   NaN   NaN  23062021   15  23062021    1  23062021   \n",
       "2       ...          NaN   NaN   NaN  28072021   15  28072021    1  28072021   \n",
       "3       ...          NaN   NaN   NaN   8072021   15  08072021    1  08072021   \n",
       "4       ...          NaN   NaN   NaN  10112020   20  10112020    0             \n",
       "\n",
       "                                  CHYV  \n",
       "0  1  00 0 0   000000          0000000  \n",
       "1  1  00 0 0   000000          0000000  \n",
       "2  1  00 0 0   000000          0000000  \n",
       "3  1  00 0 0   000000          0000000  \n",
       "4     00 01    1 0000         0000 0 0  \n",
       "\n",
       "[5 rows x 28 columns]"
      ]
     },
     "execution_count": 16,
     "metadata": {},
     "output_type": "execute_result"
    }
   ],
   "source": [
    "df.head()"
   ]
  },
  {
   "cell_type": "code",
   "execution_count": null,
   "id": "6197f8b8-3078-4b0c-aa7d-6885bb198122",
   "metadata": {},
   "outputs": [],
   "source": []
  },
  {
   "cell_type": "code",
   "execution_count": 44,
   "id": "a6dcf141-ad44-40c3-92d4-c9da5352321e",
   "metadata": {},
   "outputs": [
    {
     "data": {
      "text/plain": [
       "'1.4.3'"
      ]
     },
     "execution_count": 44,
     "metadata": {},
     "output_type": "execute_result"
    }
   ],
   "source": [
    "pd.__version__"
   ]
  },
  {
   "cell_type": "code",
   "execution_count": 17,
   "id": "d6ccee7b-a877-45eb-a1aa-4dd745e33926",
   "metadata": {
    "lines_to_next_cell": 2
   },
   "outputs": [],
   "source": [
    "aast_xml = 'http://stistko.uiv.cz/katalog/textdata/C213436AAST.xml'\n",
    "aast = pd.read_xml(aast_xml, encoding='cp1250', xpath='./veta')"
   ]
  },
  {
   "cell_type": "code",
   "execution_count": 18,
   "id": "26718484-035f-436b-b257-7e0edbe005d4",
   "metadata": {},
   "outputs": [
    {
     "data": {
      "text/html": [
       "<div>\n",
       "<style scoped>\n",
       "    .dataframe tbody tr th:only-of-type {\n",
       "        vertical-align: middle;\n",
       "    }\n",
       "\n",
       "    .dataframe tbody tr th {\n",
       "        vertical-align: top;\n",
       "    }\n",
       "\n",
       "    .dataframe thead th {\n",
       "        text-align: right;\n",
       "    }\n",
       "</style>\n",
       "<table border=\"1\" class=\"dataframe\">\n",
       "  <thead>\n",
       "    <tr style=\"text-align: right;\">\n",
       "      <th></th>\n",
       "      <th>IDC</th>\n",
       "      <th>KOD</th>\n",
       "      <th>ZKR</th>\n",
       "      <th>TXT</th>\n",
       "      <th>DATZP</th>\n",
       "      <th>DATKP</th>\n",
       "      <th>SPC</th>\n",
       "      <th>POZN</th>\n",
       "    </tr>\n",
       "  </thead>\n",
       "  <tbody>\n",
       "    <tr>\n",
       "      <th>0</th>\n",
       "      <td>AAST</td>\n",
       "      <td>0</td>\n",
       "      <td>Zatím nezjištěno</td>\n",
       "      <td>Zatím nezjištěno</td>\n",
       "      <td>1.1.2000</td>\n",
       "      <td>31.12.2999</td>\n",
       "      <td>***************</td>\n",
       "      <td>pouze pro prezentaci</td>\n",
       "    </tr>\n",
       "    <tr>\n",
       "      <th>1</th>\n",
       "      <td>AAST</td>\n",
       "      <td>4</td>\n",
       "      <td>Afghánistán</td>\n",
       "      <td>Afghánská islámská republika</td>\n",
       "      <td>1.7.2014</td>\n",
       "      <td>31.12.2999</td>\n",
       "      <td>AFAFG601  5166020</td>\n",
       "      <td>None</td>\n",
       "    </tr>\n",
       "    <tr>\n",
       "      <th>2</th>\n",
       "      <td>AAST</td>\n",
       "      <td>8</td>\n",
       "      <td>Albánie</td>\n",
       "      <td>Albánská republika</td>\n",
       "      <td>5.5.2005</td>\n",
       "      <td>31.12.2999</td>\n",
       "      <td>ALALB111  4107015</td>\n",
       "      <td>None</td>\n",
       "    </tr>\n",
       "    <tr>\n",
       "      <th>3</th>\n",
       "      <td>AAST</td>\n",
       "      <td>10</td>\n",
       "      <td>Antarktida</td>\n",
       "      <td>Antarktida</td>\n",
       "      <td>5.5.2005</td>\n",
       "      <td>31.12.2999</td>\n",
       "      <td>AQATA961  5089150</td>\n",
       "      <td>None</td>\n",
       "    </tr>\n",
       "    <tr>\n",
       "      <th>4</th>\n",
       "      <td>AAST</td>\n",
       "      <td>12</td>\n",
       "      <td>Alžírsko</td>\n",
       "      <td>Alžírská demokratická a lidová republika</td>\n",
       "      <td>1.1.2011</td>\n",
       "      <td>31.12.2999</td>\n",
       "      <td>DZDZA701  5120830</td>\n",
       "      <td>None</td>\n",
       "    </tr>\n",
       "    <tr>\n",
       "      <th>...</th>\n",
       "      <td>...</td>\n",
       "      <td>...</td>\n",
       "      <td>...</td>\n",
       "      <td>...</td>\n",
       "      <td>...</td>\n",
       "      <td>...</td>\n",
       "      <td>...</td>\n",
       "      <td>...</td>\n",
       "    </tr>\n",
       "    <tr>\n",
       "      <th>247</th>\n",
       "      <td>AAST</td>\n",
       "      <td>876</td>\n",
       "      <td>Wallis a Futuna</td>\n",
       "      <td>Teritorium Wallisovy ostrovy a Futuna</td>\n",
       "      <td>1.7.2014</td>\n",
       "      <td>31.12.2999</td>\n",
       "      <td>WFWLF9933 5081150</td>\n",
       "      <td>None</td>\n",
       "    </tr>\n",
       "    <tr>\n",
       "      <th>248</th>\n",
       "      <td>AAST</td>\n",
       "      <td>882</td>\n",
       "      <td>Samoa</td>\n",
       "      <td>Nezávislý stát Samoa</td>\n",
       "      <td>5.5.2005</td>\n",
       "      <td>31.12.2999</td>\n",
       "      <td>WSWSM931  5081950</td>\n",
       "      <td>None</td>\n",
       "    </tr>\n",
       "    <tr>\n",
       "      <th>249</th>\n",
       "      <td>AAST</td>\n",
       "      <td>887</td>\n",
       "      <td>Jemen</td>\n",
       "      <td>Jemenská republika</td>\n",
       "      <td>5.5.2005</td>\n",
       "      <td>31.12.2999</td>\n",
       "      <td>YEYEM623  5165320</td>\n",
       "      <td>None</td>\n",
       "    </tr>\n",
       "    <tr>\n",
       "      <th>250</th>\n",
       "      <td>AAST</td>\n",
       "      <td>894</td>\n",
       "      <td>Zambie</td>\n",
       "      <td>Zambijská republika</td>\n",
       "      <td>5.5.2005</td>\n",
       "      <td>31.12.2999</td>\n",
       "      <td>ZMZMB785  5137830</td>\n",
       "      <td>None</td>\n",
       "    </tr>\n",
       "    <tr>\n",
       "      <th>251</th>\n",
       "      <td>AAST</td>\n",
       "      <td>999</td>\n",
       "      <td>Ostatní</td>\n",
       "      <td>Ostatní</td>\n",
       "      <td>19.10.2006</td>\n",
       "      <td>31.12.2999</td>\n",
       "      <td>**********51***90</td>\n",
       "      <td>None</td>\n",
       "    </tr>\n",
       "  </tbody>\n",
       "</table>\n",
       "<p>252 rows × 8 columns</p>\n",
       "</div>"
      ],
      "text/plain": [
       "      IDC  KOD               ZKR                                       TXT  \\\n",
       "0    AAST    0  Zatím nezjištěno                          Zatím nezjištěno   \n",
       "1    AAST    4       Afghánistán              Afghánská islámská republika   \n",
       "2    AAST    8           Albánie                        Albánská republika   \n",
       "3    AAST   10        Antarktida                                Antarktida   \n",
       "4    AAST   12          Alžírsko  Alžírská demokratická a lidová republika   \n",
       "..    ...  ...               ...                                       ...   \n",
       "247  AAST  876   Wallis a Futuna     Teritorium Wallisovy ostrovy a Futuna   \n",
       "248  AAST  882             Samoa                      Nezávislý stát Samoa   \n",
       "249  AAST  887             Jemen                        Jemenská republika   \n",
       "250  AAST  894            Zambie                       Zambijská republika   \n",
       "251  AAST  999           Ostatní                                   Ostatní   \n",
       "\n",
       "          DATZP       DATKP                SPC                  POZN  \n",
       "0      1.1.2000  31.12.2999    ***************  pouze pro prezentaci  \n",
       "1      1.7.2014  31.12.2999  AFAFG601  5166020                  None  \n",
       "2      5.5.2005  31.12.2999  ALALB111  4107015                  None  \n",
       "3      5.5.2005  31.12.2999  AQATA961  5089150                  None  \n",
       "4      1.1.2011  31.12.2999  DZDZA701  5120830                  None  \n",
       "..          ...         ...                ...                   ...  \n",
       "247    1.7.2014  31.12.2999  WFWLF9933 5081150                  None  \n",
       "248    5.5.2005  31.12.2999  WSWSM931  5081950                  None  \n",
       "249    5.5.2005  31.12.2999  YEYEM623  5165320                  None  \n",
       "250    5.5.2005  31.12.2999  ZMZMB785  5137830                  None  \n",
       "251  19.10.2006  31.12.2999  **********51***90                  None  \n",
       "\n",
       "[252 rows x 8 columns]"
      ]
     },
     "execution_count": 18,
     "metadata": {},
     "output_type": "execute_result"
    }
   ],
   "source": [
    "aast"
   ]
  },
  {
   "cell_type": "code",
   "execution_count": 21,
   "id": "1ad7035c-486a-4de5-8793-a5e4472c35f2",
   "metadata": {},
   "outputs": [
    {
     "data": {
      "text/plain": [
       "{0: 'Zatím nezjištěno',\n",
       " 4: 'Afghánistán',\n",
       " 8: 'Albánie',\n",
       " 10: 'Antarktida',\n",
       " 12: 'Alžírsko',\n",
       " 16: 'Americká Samoa',\n",
       " 20: 'Andorra',\n",
       " 24: 'Angola',\n",
       " 28: 'Antigua a Barbuda',\n",
       " 31: 'Ázerbájdžán',\n",
       " 32: 'Argentina',\n",
       " 36: 'Austrálie',\n",
       " 40: 'Rakousko',\n",
       " 44: 'Bahamy',\n",
       " 48: 'Bahrajn',\n",
       " 50: 'Bangladéš',\n",
       " 51: 'Arménie',\n",
       " 52: 'Barbados',\n",
       " 56: 'Belgie',\n",
       " 60: 'Bermudy',\n",
       " 64: 'Bhútán',\n",
       " 68: 'Bolívie',\n",
       " 70: 'Bosna a Hercegovina',\n",
       " 72: 'Botswana',\n",
       " 74: 'Bouvetův ostrov',\n",
       " 76: 'Brazílie',\n",
       " 84: 'Belize',\n",
       " 86: 'Britské indickooc.území',\n",
       " 90: 'Šalomounovy ostrovy',\n",
       " 92: 'Britské Panenské ostr.',\n",
       " 95: 'Kosovo',\n",
       " 96: 'Brunej',\n",
       " 100: 'Bulharsko',\n",
       " 104: 'Myanmar',\n",
       " 108: 'Burundi',\n",
       " 112: 'Bělorusko',\n",
       " 116: 'Kambodža',\n",
       " 120: 'Kamerun',\n",
       " 124: 'Kanada',\n",
       " 132: 'Kapverdy',\n",
       " 136: 'Kajmanské ostrovy',\n",
       " 140: 'Středoafrická republika',\n",
       " 144: 'Šrí Lanka',\n",
       " 148: 'Čad',\n",
       " 152: 'Chile',\n",
       " 156: 'Čína',\n",
       " 158: 'Tchaj-wan',\n",
       " 162: 'Vánoční ostrov',\n",
       " 166: 'Kokosové (Keeling.) ostr.',\n",
       " 170: 'Kolumbie',\n",
       " 174: 'Komory',\n",
       " 175: 'Mayotte',\n",
       " 178: 'Konžská republika',\n",
       " 180: 'Konžská demokrat.rep.',\n",
       " 184: 'Cookovy ostrovy',\n",
       " 188: 'Kostarika',\n",
       " 191: 'Chorvatsko',\n",
       " 192: 'Kuba',\n",
       " 196: 'Kypr',\n",
       " 203: 'Česko',\n",
       " 204: 'Benin',\n",
       " 208: 'Dánsko',\n",
       " 212: 'Dominika',\n",
       " 214: 'Dominikánská republika',\n",
       " 218: 'Ekvádor',\n",
       " 222: 'Salvador',\n",
       " 226: 'Rovníková Guinea',\n",
       " 231: 'Etiopie',\n",
       " 232: 'Eritrea',\n",
       " 233: 'Estonsko',\n",
       " 234: 'Faerské ostrovy',\n",
       " 238: 'Falklandy (Malvíny)',\n",
       " 239: 'J.Georgie a J.Sandw.os.',\n",
       " 242: 'Fidži',\n",
       " 246: 'Finsko',\n",
       " 248: 'Alandy',\n",
       " 250: 'Francie',\n",
       " 254: 'Francouzská Guyana',\n",
       " 258: 'Francouzská Polynésie',\n",
       " 260: 'Fr.jižní a antarkt.území',\n",
       " 262: 'Džibutsko',\n",
       " 266: 'Gabon',\n",
       " 268: 'Gruzie',\n",
       " 270: 'Gambie',\n",
       " 275: 'Palestina',\n",
       " 276: 'Německo',\n",
       " 288: 'Ghana',\n",
       " 292: 'Gibraltar',\n",
       " 296: 'Kiribati',\n",
       " 300: 'Řecko',\n",
       " 304: 'Grónsko',\n",
       " 308: 'Grenada',\n",
       " 312: 'Guadeloupe',\n",
       " 316: 'Guam',\n",
       " 320: 'Guatemala',\n",
       " 324: 'Guinea',\n",
       " 328: 'Guyana',\n",
       " 332: 'Haiti',\n",
       " 334: 'Heardův o.a MacDonald. o.',\n",
       " 336: 'Vatikán',\n",
       " 340: 'Honduras',\n",
       " 344: 'Hongkong',\n",
       " 348: 'Maďarsko',\n",
       " 352: 'Island',\n",
       " 356: 'Indie',\n",
       " 360: 'Indonésie',\n",
       " 364: 'Írán',\n",
       " 368: 'Irák',\n",
       " 372: 'Irsko',\n",
       " 376: 'Izrael',\n",
       " 380: 'Itálie',\n",
       " 384: 'Pobřeží slonoviny',\n",
       " 388: 'Jamajka',\n",
       " 392: 'Japonsko',\n",
       " 398: 'Kazachstán',\n",
       " 400: 'Jordánsko',\n",
       " 404: 'Keňa',\n",
       " 408: 'Korejská lid.dem.rep.',\n",
       " 410: 'Korejská republika',\n",
       " 414: 'Kuvajt',\n",
       " 417: 'Kyrgyzstán',\n",
       " 418: 'Laos',\n",
       " 422: 'Libanon',\n",
       " 426: 'Lesotho',\n",
       " 428: 'Lotyšsko',\n",
       " 430: 'Libérie',\n",
       " 434: 'Libye',\n",
       " 438: 'Lichtenštejnsko',\n",
       " 440: 'Litva',\n",
       " 442: 'Lucembursko',\n",
       " 446: 'Macao',\n",
       " 450: 'Madagaskar',\n",
       " 454: 'Malawi',\n",
       " 458: 'Malajsie',\n",
       " 462: 'Maledivy',\n",
       " 466: 'Mali',\n",
       " 470: 'Malta',\n",
       " 474: 'Martinik',\n",
       " 478: 'Mauritánie',\n",
       " 480: 'Mauricius',\n",
       " 484: 'Mexiko',\n",
       " 492: 'Monako',\n",
       " 496: 'Mongolsko',\n",
       " 498: 'Moldavsko',\n",
       " 499: 'Černá Hora',\n",
       " 500: 'Montserrat',\n",
       " 504: 'Maroko',\n",
       " 508: 'Mosambik',\n",
       " 512: 'Omán',\n",
       " 516: 'Namibie',\n",
       " 520: 'Nauru',\n",
       " 524: 'Nepál',\n",
       " 528: 'Nizozemsko',\n",
       " 531: 'Curaçao',\n",
       " 533: 'Aruba',\n",
       " 534: 'Svatý Martin (NL)',\n",
       " 535: 'Bonaire,Sv.Eustach,Saba',\n",
       " 540: 'Nová Kaledonie',\n",
       " 548: 'Vanuatu',\n",
       " 554: 'Nový Zéland',\n",
       " 558: 'Nikaragua',\n",
       " 562: 'Niger',\n",
       " 566: 'Nigérie',\n",
       " 570: 'Niue',\n",
       " 574: 'Norfolk',\n",
       " 578: 'Norsko',\n",
       " 580: 'Severní Mariany',\n",
       " 581: 'Menší odleh.ostrovy USA',\n",
       " 583: 'Mikronésie',\n",
       " 584: 'Marshallovy ostrovy',\n",
       " 585: 'Palau',\n",
       " 586: 'Pákistán',\n",
       " 591: 'Panama',\n",
       " 598: 'Papua Nová Guinea',\n",
       " 600: 'Paraguay',\n",
       " 604: 'Peru',\n",
       " 608: 'Filipíny',\n",
       " 612: 'Pitcairn',\n",
       " 616: 'Polsko',\n",
       " 620: 'Portugalsko',\n",
       " 624: 'Guinea-Bissau',\n",
       " 626: 'Východní Timor',\n",
       " 630: 'Portoriko',\n",
       " 634: 'Katar',\n",
       " 638: 'Réunion',\n",
       " 642: 'Rumunsko',\n",
       " 643: 'Rusko',\n",
       " 646: 'Rwanda',\n",
       " 652: 'Svatý Bartoloměj',\n",
       " 654: 'Svatá Helena',\n",
       " 659: 'Svatý Kryštof a Nevis',\n",
       " 660: 'Anguilla',\n",
       " 662: 'Svatá Lucie',\n",
       " 663: 'Svatý Martin (FR)',\n",
       " 666: 'Saint Pierre a Miquelon',\n",
       " 670: 'Sv.Vincenc a Grenadiny',\n",
       " 674: 'San Marino',\n",
       " 678: 'Sv.Tomáš a Princův ostrov',\n",
       " 682: 'Saúdská Arábie',\n",
       " 686: 'Senegal',\n",
       " 688: 'Srbsko',\n",
       " 690: 'Seychely',\n",
       " 694: 'Sierra Leone',\n",
       " 702: 'Singapur',\n",
       " 703: 'Slovensko',\n",
       " 704: 'Vietnam',\n",
       " 705: 'Slovinsko',\n",
       " 706: 'Somálsko',\n",
       " 710: 'Jižní Afrika',\n",
       " 716: 'Zimbabwe',\n",
       " 724: 'Španělsko',\n",
       " 728: 'Jižní Súdán',\n",
       " 729: 'Súdán',\n",
       " 732: 'Západní Sahara',\n",
       " 740: 'Surinam',\n",
       " 744: 'Špicberky a Jan Mayen',\n",
       " 748: 'Svazijsko',\n",
       " 752: 'Švédsko',\n",
       " 756: 'Švýcarsko',\n",
       " 760: 'Sýrie',\n",
       " 762: 'Tádžikistán',\n",
       " 764: 'Thajsko',\n",
       " 768: 'Togo',\n",
       " 772: 'Tokelau',\n",
       " 776: 'Tonga',\n",
       " 780: 'Trinidad a Tobago',\n",
       " 784: 'Spojené arabské emiráty',\n",
       " 788: 'Tunisko',\n",
       " 792: 'Turecko',\n",
       " 795: 'Turkmenistán',\n",
       " 796: 'Turks a Caicos',\n",
       " 798: 'Tuvalu',\n",
       " 800: 'Uganda',\n",
       " 804: 'Ukrajina',\n",
       " 807: 'Severní Makedonie',\n",
       " 818: 'Egypt',\n",
       " 826: 'Velká Británie',\n",
       " 831: 'Guernsey',\n",
       " 832: 'Jersey',\n",
       " 833: 'Man',\n",
       " 834: 'Tanzanie',\n",
       " 840: 'Spojené státy',\n",
       " 850: 'Americké Panenské ostr.',\n",
       " 854: 'Burkina Faso',\n",
       " 858: 'Uruguay',\n",
       " 860: 'Uzbekistán',\n",
       " 862: 'Venezuela',\n",
       " 876: 'Wallis a Futuna',\n",
       " 882: 'Samoa',\n",
       " 887: 'Jemen',\n",
       " 894: 'Zambie',\n",
       " 999: 'Ostatní'}"
      ]
     },
     "execution_count": 21,
     "metadata": {},
     "output_type": "execute_result"
    }
   ],
   "source": [
    "aast[['KOD', 'ZKR']].set_index('KOD')['ZKR'].to_dict()"
   ]
  },
  {
   "cell_type": "code",
   "execution_count": null,
   "id": "ac6ed408-e80f-4d93-b4d9-b2e8c877304a",
   "metadata": {},
   "outputs": [],
   "source": []
  },
  {
   "cell_type": "code",
   "execution_count": 7,
   "id": "f9c0250f-d148-42b1-901c-e9d81c16723e",
   "metadata": {},
   "outputs": [],
   "source": [
    "to_rename = {\n",
    "    'RDAT': 'dat_sber',\n",
    "    'RID': 'fak_id',\n",
    "    'ROD_KOD': 'id',\n",
    "    'STATB': 'bydliste_stat',\n",
    "    'OBECB': 'bydliste_obec',\n",
    "    'PSCB': 'bydliste_psc',\n",
    "    'STAT': 'stat',\n",
    "    'ODHL': 'odhl',\n",
    "    'IZOS': 'ss_izo',\n",
    "    'OBSS': 'ss_obor',\n",
    "    'RMAT': 'rmat',\n",
    "    'TYP_ST': 'typ_st',\n",
    "    'FORMA_ST': 'forma_st',\n",
    "    'PROGRAM': 'program',\n",
    "    'OBOR1': 'obor1',\n",
    "    'OBOR2': 'obor2',\n",
    "    'OBOR3': 'obor3',\n",
    "    'OBOR4': 'obor4',\n",
    "    'OBOR5': 'obor5',\n",
    "    'APRO1': 'apro1',\n",
    "    'APRO2': 'apro2',\n",
    "    'APRO3': 'apro3',\n",
    "    'DAT_REG': 'dat_reg',\n",
    "    'VYPR': 'vypr',\n",
    "    'DAT_VYPR': 'dat_vypr',\n",
    "    'ZAPS': 'zaps',\n",
    "    'DAT_ZAPS': 'dat_zaps'\n",
    "}\n",
    "\n",
    "to_drop = ['CHYV']"
   ]
  },
  {
   "cell_type": "code",
   "execution_count": 12,
   "id": "28597da6-c966-41bb-8aa3-81b9848f9d12",
   "metadata": {},
   "outputs": [],
   "source": [
    "# conversion to numeric\n",
    "for c in ['RMAT', 'STAT', 'STATB', 'IZOS'] + [f'APRO{i}' for i in range(1, 4)]:\n",
    "    df[c] = pd.to_numeric(df[c], errors='coerce')\n",
    "\n",
    "# strip white spaces\n",
    "for c in ['OBSS', 'RID', 'PROGRAM'] + [f'OBOR{i}' for i in range(1, 6)]:\n",
    "    df[c] = df[c].str.strip()\n",
    "\n",
    "df = df.rename(columns=to_rename).drop(columns=to_drop)"
   ]
  },
  {
   "cell_type": "code",
   "execution_count": 13,
   "id": "eaccd72a-aac2-4fc5-a563-12855cb4b001",
   "metadata": {},
   "outputs": [
    {
     "data": {
      "text/html": [
       "<div>\n",
       "<style scoped>\n",
       "    .dataframe tbody tr th:only-of-type {\n",
       "        vertical-align: middle;\n",
       "    }\n",
       "\n",
       "    .dataframe tbody tr th {\n",
       "        vertical-align: top;\n",
       "    }\n",
       "\n",
       "    .dataframe thead th {\n",
       "        text-align: right;\n",
       "    }\n",
       "</style>\n",
       "<table border=\"1\" class=\"dataframe\">\n",
       "  <thead>\n",
       "    <tr style=\"text-align: right;\">\n",
       "      <th></th>\n",
       "      <th>dat_sber</th>\n",
       "      <th>fak_id</th>\n",
       "      <th>id</th>\n",
       "      <th>bydliste_stat</th>\n",
       "      <th>bydliste_obec</th>\n",
       "      <th>bydliste_psc</th>\n",
       "      <th>stat</th>\n",
       "      <th>odhl</th>\n",
       "      <th>ss_izo</th>\n",
       "      <th>ss_obor</th>\n",
       "      <th>...</th>\n",
       "      <th>obor4</th>\n",
       "      <th>obor5</th>\n",
       "      <th>apro1</th>\n",
       "      <th>apro2</th>\n",
       "      <th>apro3</th>\n",
       "      <th>dat_reg</th>\n",
       "      <th>vypr</th>\n",
       "      <th>dat_vypr</th>\n",
       "      <th>zaps</th>\n",
       "      <th>dat_zaps</th>\n",
       "    </tr>\n",
       "  </thead>\n",
       "  <tbody>\n",
       "    <tr>\n",
       "      <th>0</th>\n",
       "      <td>20211031</td>\n",
       "      <td>1422</td>\n",
       "      <td></td>\n",
       "      <td>703.0</td>\n",
       "      <td></td>\n",
       "      <td>91108</td>\n",
       "      <td>703.0</td>\n",
       "      <td>2</td>\n",
       "      <td>999999703.0</td>\n",
       "      <td></td>\n",
       "      <td>...</td>\n",
       "      <td></td>\n",
       "      <td></td>\n",
       "      <td>NaN</td>\n",
       "      <td>NaN</td>\n",
       "      <td>NaN</td>\n",
       "      <td>8072021</td>\n",
       "      <td>15</td>\n",
       "      <td>08072021</td>\n",
       "      <td>1</td>\n",
       "      <td>08072021</td>\n",
       "    </tr>\n",
       "    <tr>\n",
       "      <th>1</th>\n",
       "      <td>20211031</td>\n",
       "      <td>1423</td>\n",
       "      <td></td>\n",
       "      <td>703.0</td>\n",
       "      <td></td>\n",
       "      <td>83107</td>\n",
       "      <td>703.0</td>\n",
       "      <td>2</td>\n",
       "      <td>999999703.0</td>\n",
       "      <td></td>\n",
       "      <td>...</td>\n",
       "      <td></td>\n",
       "      <td></td>\n",
       "      <td>NaN</td>\n",
       "      <td>NaN</td>\n",
       "      <td>NaN</td>\n",
       "      <td>23062021</td>\n",
       "      <td>15</td>\n",
       "      <td>23062021</td>\n",
       "      <td>1</td>\n",
       "      <td>23062021</td>\n",
       "    </tr>\n",
       "    <tr>\n",
       "      <th>2</th>\n",
       "      <td>20211031</td>\n",
       "      <td>1411</td>\n",
       "      <td></td>\n",
       "      <td>703.0</td>\n",
       "      <td></td>\n",
       "      <td>91624</td>\n",
       "      <td>703.0</td>\n",
       "      <td>2</td>\n",
       "      <td>999999703.0</td>\n",
       "      <td></td>\n",
       "      <td>...</td>\n",
       "      <td></td>\n",
       "      <td></td>\n",
       "      <td>NaN</td>\n",
       "      <td>NaN</td>\n",
       "      <td>NaN</td>\n",
       "      <td>28072021</td>\n",
       "      <td>15</td>\n",
       "      <td>28072021</td>\n",
       "      <td>1</td>\n",
       "      <td>28072021</td>\n",
       "    </tr>\n",
       "    <tr>\n",
       "      <th>3</th>\n",
       "      <td>20211031</td>\n",
       "      <td>1422</td>\n",
       "      <td></td>\n",
       "      <td>703.0</td>\n",
       "      <td></td>\n",
       "      <td>91108</td>\n",
       "      <td>703.0</td>\n",
       "      <td>2</td>\n",
       "      <td>999999703.0</td>\n",
       "      <td></td>\n",
       "      <td>...</td>\n",
       "      <td></td>\n",
       "      <td></td>\n",
       "      <td>NaN</td>\n",
       "      <td>NaN</td>\n",
       "      <td>NaN</td>\n",
       "      <td>8072021</td>\n",
       "      <td>15</td>\n",
       "      <td>08072021</td>\n",
       "      <td>1</td>\n",
       "      <td>08072021</td>\n",
       "    </tr>\n",
       "    <tr>\n",
       "      <th>4</th>\n",
       "      <td>20211031</td>\n",
       "      <td>78900</td>\n",
       "      <td></td>\n",
       "      <td>566.0</td>\n",
       "      <td></td>\n",
       "      <td></td>\n",
       "      <td>566.0</td>\n",
       "      <td>2</td>\n",
       "      <td>999999566.0</td>\n",
       "      <td></td>\n",
       "      <td>...</td>\n",
       "      <td></td>\n",
       "      <td></td>\n",
       "      <td>NaN</td>\n",
       "      <td>NaN</td>\n",
       "      <td>NaN</td>\n",
       "      <td>10112020</td>\n",
       "      <td>20</td>\n",
       "      <td>10112020</td>\n",
       "      <td>0</td>\n",
       "      <td></td>\n",
       "    </tr>\n",
       "  </tbody>\n",
       "</table>\n",
       "<p>5 rows × 27 columns</p>\n",
       "</div>"
      ],
      "text/plain": [
       "   dat_sber fak_id          id  bydliste_stat bydliste_obec bydliste_psc  \\\n",
       "0  20211031   1422                      703.0                      91108   \n",
       "1  20211031   1423                      703.0                      83107   \n",
       "2  20211031   1411                      703.0                      91624   \n",
       "3  20211031   1422                      703.0                      91108   \n",
       "4  20211031  78900                      566.0                              \n",
       "\n",
       "    stat odhl       ss_izo ss_obor  ...  obor4 obor5 apro1 apro2 apro3  \\\n",
       "0  703.0    2  999999703.0          ...                NaN   NaN   NaN   \n",
       "1  703.0    2  999999703.0          ...                NaN   NaN   NaN   \n",
       "2  703.0    2  999999703.0          ...                NaN   NaN   NaN   \n",
       "3  703.0    2  999999703.0          ...                NaN   NaN   NaN   \n",
       "4  566.0    2  999999566.0          ...                NaN   NaN   NaN   \n",
       "\n",
       "    dat_reg vypr  dat_vypr zaps  dat_zaps  \n",
       "0   8072021   15  08072021    1  08072021  \n",
       "1  23062021   15  23062021    1  23062021  \n",
       "2  28072021   15  28072021    1  28072021  \n",
       "3   8072021   15  08072021    1  08072021  \n",
       "4  10112020   20  10112020    0            \n",
       "\n",
       "[5 rows x 27 columns]"
      ]
     },
     "execution_count": 13,
     "metadata": {},
     "output_type": "execute_result"
    }
   ],
   "source": [
    "df.head()"
   ]
  },
  {
   "cell_type": "code",
   "execution_count": null,
   "id": "51b9a3a0-3e8c-417a-accd-600bad32f186",
   "metadata": {},
   "outputs": [],
   "source": []
  },
  {
   "cell_type": "markdown",
   "id": "d5cd6a82-9dbf-44e4-aaca-3f9577c68ec0",
   "metadata": {},
   "source": [
    "## Loader"
   ]
  },
  {
   "cell_type": "code",
   "execution_count": 303,
   "id": "efa19170-336e-4f74-aba8-46b65f7031cb",
   "metadata": {},
   "outputs": [],
   "source": [
    "def loader(year=17):\n",
    "    # year can be 17 or 21\n",
    "    data_root = '/mnt/d/projects/idea/data'\n",
    "    path = f'uchazec/0022MUCH{year}P'\n",
    "    \n",
    "    df = pd.read_csv(f'{data_root}/{path}.csv', encoding='cp1250')\n",
    "\n",
    "    # conversion to numeric\n",
    "    for c in ['RMAT', 'STAT', 'STATB', 'IZOS'] + [f'APRO{i}' for i in range(1, 4)]:\n",
    "        df[c] = pd.to_numeric(df[c], errors='coerce')\n",
    "        \n",
    "    # strip white spaces\n",
    "    for c in ['OBSS', 'RID', 'PROGRAM'] + [f'OBOR{i}' for i in range(1, 6)]:\n",
    "        df[c] = df[c].str.strip()\n",
    "    \n",
    "    # label STAT, STATB: register AAST\n",
    "    aast_xml = 'http://stistko.uiv.cz/katalog/textdata/C213436AAST.xml'\n",
    "    aast = pd.read_xml(aast_xml, encoding='cp1250', xpath='./veta')\n",
    "    aast['ISO_ALPHA3'] = aast['SPC'].str[2:5]\n",
    "    df = pd.merge(df, aast[['KOD', 'ZKR', 'ISO_ALPHA3']].rename(columns={'KOD': 'STAT', 'ZKR': 'STAT_LABEL', 'ISO_ALPHA3': 'STAT_ISO'}), \n",
    "              how='left')\n",
    "    df = pd.merge(df, aast[['KOD', 'ZKR', 'ISO_ALPHA3']].rename(columns={'KOD': 'STATB', 'ZKR': 'STATB_LABEL', 'ISO_ALPHA3': 'STATB_ISO'}), \n",
    "              how='left')\n",
    "    \n",
    "    # label OBSS - I am not including full school info\n",
    "    #   -> actually, this give me slightly better match - probably because I am including also specializations that are not valid anymore\n",
    "    li = []\n",
    "    for y in range(1999, 2023):\n",
    "        pdf = pd.read_csv(f'{data_root}/uchazec/stredni-skoly/m{y}.csv', encoding='cp1250')\n",
    "        li.append(pdf)\n",
    "    ss = pd.concat(li, axis=0, ignore_index=True).drop_duplicates().reset_index(drop=True)\n",
    "    \n",
    "    def selector(frame):\n",
    "        # just use the longest one - the shorter ones typically use abbreviations\n",
    "        frame['len'] = frame['PLN_NAZ'].str.strip().str.len()\n",
    "        return frame.sort_values('len', ascending=False)['PLN_NAZ'].iloc[0]\n",
    "\n",
    "    ss['OBOR'] = ss['OBOR'].str.strip()\n",
    "    obory = ss[['OBOR', 'PLN_NAZ']].drop_duplicates()\n",
    "    obory_uni = obory.groupby('OBOR')[['PLN_NAZ']].apply(selector).reset_index()\n",
    "    df = pd.merge(df, obory_uni.rename(columns={'OBOR': 'OBSS', 0: 'OBSS_LABEL'}), how='left')\n",
    "    \n",
    "    sss = ss[['IZO', 'ZAR_PLN', 'VUSC']].drop_duplicates()\n",
    "    df = pd.merge(df, sss.rename(columns={'IZO': 'IZOS', 'ZAR_PLN': 'IZOS_LABEL', 'VUSC': 'IZOS_NUTS'}), how='left')\n",
    "    \n",
    "    registers = {\n",
    "        'ODHL': 'http://stistko.uiv.cz/katalog/textdata/C213729MCPP.xml',\n",
    "        'TYP_ST': 'http://stistko.uiv.cz/katalog/textdata/C214019PASP.xml',\n",
    "        'FORMA_ST' : 'http://stistko.uiv.cz/katalog/textdata/C214048PAFS.xml',\n",
    "        'VYPR': 'http://stistko.uiv.cz/katalog/textdata/C214147MCPR.xml',\n",
    "        'ZAPS': 'http://stistko.uiv.cz/katalog/textdata/C21427MCZR.xml',\n",
    "        # 'OBSS': 'http://stistko.uiv.cz/katalog/textdata/C113922AKSO.xml'\n",
    "    }\n",
    "    \n",
    "    for c, url in registers.items():\n",
    "        rg = pd.read_xml(url, encoding='cp1250', xpath='./veta')\n",
    "        df = pd.merge(df, rg[['KOD', 'TXT']].rename(columns={'KOD': c, 'TXT': f'{c}_LABEL'}), how='left')\n",
    "\n",
    "    regpro = pd.read_csv(f'{data_root}/uchazec/uch3-03-6/cisel/regpro.csv', encoding='cp1250')\n",
    "    regpro['RID'] = regpro['RID'].str.strip()\n",
    "    regpro_cols = ['ZAR_PLN', 'VS_PLN', 'ZAR_NAZ', 'UZEMI']\n",
    "    regpro = regpro[['RID'] + regpro_cols].rename(columns={x: f'RID_{x}' for x in regpro_cols})\n",
    "    df = pd.merge(df, regpro.rename(columns={'RID_UZEMI': 'RID_NUTS'}), how='left')\n",
    "    \n",
    "    program = pd.read_csv(f'{data_root}/uchazec/uch3-03-6/cisel/program.csv', encoding='cp1250')\n",
    "    df = pd.merge(df, program.rename(columns={'KOD': 'PROGRAM', 'NAZEV': 'PROGRAM_LABEL'}), how='left')\n",
    "    \n",
    "    # plné obory\n",
    "    akvo_xml = 'http://stistko.uiv.cz/katalog/textdata/C214117AKVO.xml'\n",
    "    akvo = pd.read_xml(akvo_xml, encoding='cp1250', xpath='./veta')\n",
    "    for i in range(1, 6):\n",
    "        df = pd.merge(df, akvo[['KOD', 'TXT']].rename(columns={'KOD': f'OBOR{i}', 'TXT': f'OBOR{i}_LABEL'}), how='left')\n",
    "        \n",
    "    # aprobace\n",
    "    aaap_xml = 'http://stistko.uiv.cz/katalog/textdata/C214234AAAP.xml'\n",
    "    aaap = pd.read_xml(aaap_xml, encoding='cp1250', xpath='./veta')\n",
    "    for i in range(1, 4):\n",
    "        df = pd.merge(df, aaap[['KOD', 'TXT']].rename(columns={'KOD': f'APRO{i}', 'TXT': f'APRO{i}_LABEL'}), how='left')\n",
    "        \n",
    "    # studijní obory podle skupin\n",
    "    akko_xml = 'http://stistko.uiv.cz/katalog/textdata/C11240AKKO.xml'\n",
    "    akko = pd.read_xml(akko_xml, encoding='cp1250', xpath='./veta')\n",
    "    for i in [1, 2, 5]:\n",
    "        df[f'OBOR1_{i}'] = df['OBOR1'].str[:i]\n",
    "        df = pd.merge(df, akko[['KOD', 'TXT']].rename(columns={'KOD': f'OBOR1_{i}', 'TXT': f'OBOR1_{i}_LABEL'}), how='left')\n",
    "    \n",
    "    df['TYP_SS'] = np.where(df['OBSS'] == '', 'JINE', np.where(df['OBSS'].str.startswith('794'), 'G', 'SOS'))\n",
    "    df['TYP_G'] = np.where(df['TYP_SS'] != 'G', np.nan, df['OBSS'].str[5])\n",
    "    \n",
    "    # fillna in some columns\n",
    "    for c in ['PROGRAM_LABEL'] + [f'OBOR{i}_LABEL' for i in range(1, 6)] + [f'APRO{i}_LABEL' for i in range(1, 4)]:\n",
    "        df[c] = df[c].fillna('')\n",
    "    \n",
    "    return df"
   ]
  },
  {
   "cell_type": "code",
   "execution_count": null,
   "id": "bbee12e7-c1b4-4518-b3a7-dec9c3ef12ac",
   "metadata": {},
   "outputs": [],
   "source": []
  },
  {
   "cell_type": "code",
   "execution_count": null,
   "id": "84e82ada-b62c-42e7-8fb0-ed46f3267071",
   "metadata": {},
   "outputs": [],
   "source": []
  },
  {
   "cell_type": "code",
   "execution_count": null,
   "id": "0f344196-6a37-48c8-b1cb-6c4e3e0e9be0",
   "metadata": {},
   "outputs": [],
   "source": []
  },
  {
   "cell_type": "code",
   "execution_count": null,
   "id": "9e3388f8-b8c9-44a1-b200-cedb9d25d066",
   "metadata": {},
   "outputs": [],
   "source": []
  }
 ],
 "metadata": {
  "jupytext": {
   "formats": "ipynb,py:percent"
  },
  "kernelspec": {
   "display_name": "Python 3 (ipykernel)",
   "language": "python",
   "name": "python3"
  },
  "language_info": {
   "codemirror_mode": {
    "name": "ipython",
    "version": 3
   },
   "file_extension": ".py",
   "mimetype": "text/x-python",
   "name": "python",
   "nbconvert_exporter": "python",
   "pygments_lexer": "ipython3",
   "version": "3.10.4"
  }
 },
 "nbformat": 4,
 "nbformat_minor": 5
}
