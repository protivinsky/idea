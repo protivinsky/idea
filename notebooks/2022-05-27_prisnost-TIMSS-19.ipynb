{
 "cells": [
  {
   "cell_type": "markdown",
   "id": "68065260-14b1-4532-b981-aeb681685f83",
   "metadata": {},
   "source": [
    "# Přísnost známkování na TIMSS 2019"
   ]
  },
  {
   "cell_type": "markdown",
   "id": "ba2bc342-c576-4b89-a374-b5da079cdc6e",
   "metadata": {},
   "source": [
    "Chci jen ověřit, jak vypadá distribuce známek a zdali v dotazníku jsou také nějaké relevantní otázky (ačkoli u desetiletých to asi nemá tolik smysl)."
   ]
  },
  {
   "cell_type": "code",
   "execution_count": 19,
   "id": "162d3415-ba8e-4316-9984-0a130825cde5",
   "metadata": {},
   "outputs": [],
   "source": [
    "# nejake standardni importy\n",
    "import os\n",
    "import sys\n",
    "import pyreadstat\n",
    "import pandas as pd\n",
    "import numpy as np\n",
    "from statsmodels.stats.weightstats import DescrStatsW\n",
    "from sklearn.linear_model import LinearRegression\n",
    "import statsmodels.api as sm\n",
    "import statsmodels.formula.api as smf\n",
    "import seaborn as sns\n",
    "import matplotlib as mpl\n",
    "#mpl.use('Agg')\n",
    "import matplotlib.pyplot as plt\n",
    "# aby grafy byly rozumně čitelné na obrazovce\n",
    "plt.rcParams['figure.dpi'] = 90\n",
    "plt.rcParams['axes.titlesize'] = 11\n",
    "plt.rcParams['figure.figsize'] = 10, 5\n",
    "#plt.ioff()"
   ]
  },
  {
   "cell_type": "code",
   "execution_count": 2,
   "id": "4d9867cf-f941-427f-8bd9-a94d3ad21ec0",
   "metadata": {},
   "outputs": [],
   "source": [
    "# cesta k datum\n",
    "data_root = '/mnt/d/projects/idea/data'"
   ]
  },
  {
   "cell_type": "code",
   "execution_count": 3,
   "id": "ad61b40c-297b-4d11-b8bd-80b255a6366f",
   "metadata": {},
   "outputs": [],
   "source": [
    "sg19, sg19_meta = pyreadstat.read_sav(f'{data_root}/TIMSS/2019/CZ/asgczem7.sav')"
   ]
  },
  {
   "cell_type": "code",
   "execution_count": 4,
   "id": "84b428ad-ca4a-4518-8d9d-50771ef3cb21",
   "metadata": {
    "collapsed": true,
    "jupyter": {
     "outputs_hidden": true
    },
    "tags": []
   },
   "outputs": [
    {
     "data": {
      "text/plain": [
       "{'IDCNTRY': 'Country ID - Numeric ISO Code',\n",
       " 'IDPOP': 'Population ID',\n",
       " 'IDGRADER': 'Standardized Grade ID',\n",
       " 'IDGRADE': 'Grade ID',\n",
       " 'IDBOOK': 'Student Test Booklet',\n",
       " 'IDSCHOOL': 'School ID',\n",
       " 'IDCLASS': 'Class ID',\n",
       " 'IDSTUD': 'Student ID',\n",
       " 'ASBG01': 'GEN\\\\SEX OF STUDENT',\n",
       " 'ASBG02A': 'GEN\\\\DATE OF BIRTH\\\\MONTH',\n",
       " 'ASBG02B': 'GEN\\\\DATE OF BIRTH\\\\YEAR',\n",
       " 'ASBG03': 'GEN\\\\OFTEN SPEAK <LANG OF TEST> AT HOME',\n",
       " 'ASBG04': 'GEN\\\\AMOUNT OF BOOKS IN YOUR HOME',\n",
       " 'ASBG05A': 'GEN\\\\HOME POSSESS\\\\COMPUTER TABLET',\n",
       " 'ASBG05B': 'GEN\\\\HOME POSSESS\\\\STUDY DESK',\n",
       " 'ASBG05C': 'GEN\\\\HOME POSSESS\\\\OWN ROOM',\n",
       " 'ASBG05D': 'GEN\\\\HOME POSSESS\\\\INTERNET CONNECTION',\n",
       " 'ASBG05E': 'GEN\\\\HOME POSSESS\\\\MOBILE OWN',\n",
       " 'ASBG05F': 'GEN\\\\HOME POSSESS\\\\<COUNTRY SPECIFIC>',\n",
       " 'ASBG05G': 'GEN\\\\HOME POSSESS\\\\<COUNTRY SPECIFIC>',\n",
       " 'ASBG05H': 'GEN\\\\HOME POSSESS\\\\<COUNTRY SPECIFIC>',\n",
       " 'ASBG05I': 'GEN\\\\HOME POSSESS\\\\<COUNTRY SPECIFIC>',\n",
       " 'ASBG06A': 'GEN\\\\WERE YOUR <PARENTS/GUARDIAN A> BORN IN <COUNTRY>',\n",
       " 'ASBG06B': 'GEN\\\\WERE YOUR <PARENTS/GUARDIAN B> BORN IN <COUNTRY>',\n",
       " 'ASBG07': 'GEN\\\\WERE YOU BORN IN <COUNTRY>',\n",
       " 'ASBG08': 'GEN\\\\ABOUT HOW OFTEN ABSENT FROM SCHOOL',\n",
       " 'ASBG09A': 'GEN\\\\HOW OFTEN\\\\TIRED',\n",
       " 'ASBG09B': 'GEN\\\\HOW OFTEN\\\\HUNGRY',\n",
       " 'ASBG10A': 'GEN\\\\AGREE\\\\BEING IN SCHOOL',\n",
       " 'ASBG10B': 'GEN\\\\AGREE\\\\SAFE AT SCHOOL',\n",
       " 'ASBG10C': 'GEN\\\\AGREE\\\\BELONG AT SCHOOL',\n",
       " 'ASBG10D': 'GEN\\\\AGREE\\\\TEACHERS FAIR',\n",
       " 'ASBG10E': 'GEN\\\\AGREE\\\\PROUD TO GO TO THIS SCHOOL',\n",
       " 'ASBG11A': 'GEN\\\\HOW OFTEN\\\\MADE FUN OF',\n",
       " 'ASBG11B': 'GEN\\\\HOW OFTEN\\\\LEFT OUT OF GAMES',\n",
       " 'ASBG11C': 'GEN\\\\HOW OFTEN\\\\SPREADING LIES ABOUT ME',\n",
       " 'ASBG11D': 'GEN\\\\HOW OFTEN\\\\STEALING STH FROM ME',\n",
       " 'ASBG11E': 'GEN\\\\HOW OFTEN\\\\DAMAGING STH OF MINE',\n",
       " 'ASBG11F': 'GEN\\\\HOW OFTEN\\\\HURT BY OTHERS',\n",
       " 'ASBG11G': 'GEN\\\\HOW OFTEN\\\\FORCE TO DO STH',\n",
       " 'ASBG11H': 'GEN\\\\HOW OFTEN\\\\SENT HURTFUL MESSAGES',\n",
       " 'ASBG11I': 'GEN\\\\HOW OFTEN\\\\SHARED THINGS ONLINE',\n",
       " 'ASBG11J': 'GEN\\\\HOW OFTEN\\\\SHARED PHOTOS ONLINE',\n",
       " 'ASBG11K': 'GEN\\\\HOW OFTEN\\\\THREATENED',\n",
       " 'ASBM01': 'MAT\\\\HOW OFTEN\\\\WORK ON YOUR OWN',\n",
       " 'ASBM02A': 'MAT\\\\AGREE\\\\ENJOY LEARNING MATHEMATICS',\n",
       " 'ASBM02B': 'MAT\\\\AGREE\\\\WISH HAVE NOT TO STUDY MATH',\n",
       " 'ASBM02C': 'MAT\\\\AGREE\\\\MATH IS BORING',\n",
       " 'ASBM02D': 'MAT\\\\AGREE\\\\LEARN INTERESTING THINGS',\n",
       " 'ASBM02E': 'MAT\\\\AGREE\\\\LIKE MATHEMATICS',\n",
       " 'ASBM02F': 'MAT\\\\AGREE\\\\SCHOOLWORK INVOLVES NUMBERS',\n",
       " 'ASBM02G': 'MAT\\\\AGREE\\\\LIKE MATH PROBLEMS',\n",
       " 'ASBM02H': 'MAT\\\\AGREE\\\\LOOK FORWARD TO MATH LESSONS',\n",
       " 'ASBM02I': 'MAT\\\\AGREE\\\\MATH FAVORITE SUBJECT',\n",
       " 'ASBM03A': 'MAT\\\\AGREE\\\\TEACHER EXPECTS TO DO',\n",
       " 'ASBM03B': 'MAT\\\\AGREE\\\\TEACHER IS EASY TO UNDERSTAND',\n",
       " 'ASBM03C': 'MAT\\\\AGREE\\\\CLEAR ANSWERS',\n",
       " 'ASBM03D': 'MAT\\\\AGREE\\\\TEACHER EXPLAINS GOOD',\n",
       " 'ASBM03E': 'MAT\\\\AGREE\\\\TEACHER DOES A VARIETY',\n",
       " 'ASBM03F': 'MAT\\\\AGREE\\\\TEACHER EXPLAINS AGAIN',\n",
       " 'ASBM04A': 'MAT\\\\HOW OFTEN\\\\STUDENTS NOT LISTEN',\n",
       " 'ASBM04B': 'MAT\\\\HOW OFTEN\\\\DISRUPTIVE NOISE',\n",
       " 'ASBM04C': 'MAT\\\\HOW OFTEN\\\\TOO DISORDERLY TO WORK',\n",
       " 'ASBM04D': 'MAT\\\\HOW OFTEN\\\\WAIT LONG TIME TO QUIET',\n",
       " 'ASBM04E': 'MAT\\\\HOW OFTEN\\\\STUDENTS INTERRUPT TCH',\n",
       " 'ASBM04F': 'MAT\\\\HOW OFTEN\\\\KEEP TELLING RULES',\n",
       " 'ASBM05A': 'MAT\\\\AGREE\\\\USUALLY DO WELL IN MATH',\n",
       " 'ASBM05B': 'MAT\\\\AGREE\\\\HARDER FOR ME THAN FOR OTHERS',\n",
       " 'ASBM05C': 'MAT\\\\AGREE\\\\JUST NOT GOOD IN MATH',\n",
       " 'ASBM05D': 'MAT\\\\AGREE\\\\LEARN QUICKLY IN MATHEMATICS',\n",
       " 'ASBM05E': 'MAT\\\\AGREE\\\\MATH MAKES ME NERVOUS',\n",
       " 'ASBM05F': 'MAT\\\\AGREE\\\\GOOD AT WORKING OUT PROBLEMS',\n",
       " 'ASBM05G': 'MAT\\\\AGREE\\\\I AM GOOD AT MATHEMATICS',\n",
       " 'ASBM05H': 'MAT\\\\AGREE\\\\MATHEMATICS HARDER FOR ME',\n",
       " 'ASBM05I': 'MAT\\\\AGREE\\\\MATH MAKES ME CONFUSED',\n",
       " 'ASBS06': 'SCI\\\\HOW OFTEN CONDUCT EXPERIMENTS',\n",
       " 'ASBS07A': 'SCI\\\\AGREE\\\\ENJOY LEARNING SCIENCE',\n",
       " 'ASBS07B': 'SCI\\\\AGREE\\\\WISH HAVE NOT TO STUDY SCIENCE',\n",
       " 'ASBS07C': 'SCI\\\\AGREE\\\\SCIENCE IS BORING',\n",
       " 'ASBS07D': 'SCI\\\\AGREE\\\\LEARN INTERESTING THINGS',\n",
       " 'ASBS07E': 'SCI\\\\AGREE\\\\LIKE SCIENCE',\n",
       " 'ASBS07F': 'SCI\\\\AGREE\\\\LOOK FORWARD TO LEARN',\n",
       " 'ASBS07G': 'SCI\\\\AGREE\\\\SCIENCE TEACHES ME',\n",
       " 'ASBS07H': 'SCI\\\\AGREE\\\\SCIENCE EXPERIMENTS',\n",
       " 'ASBS07I': 'SCI\\\\AGREE\\\\FAVORITE SUBJECT',\n",
       " 'ASBS08A': 'SCI\\\\AGREE\\\\TEACHER EXPECTS TO DO',\n",
       " 'ASBS08B': 'SCI\\\\AGREE\\\\TEACHER EASY TO UNDERSTAND',\n",
       " 'ASBS08C': 'SCI\\\\AGREE\\\\CLEAR ANSWERS',\n",
       " 'ASBS08D': 'SCI\\\\AGREE\\\\TEACHER EXPLAINS GOOD',\n",
       " 'ASBS08E': 'SCI\\\\AGREE\\\\TEACHER DOES A VARIETY',\n",
       " 'ASBS08F': 'SCI\\\\AGREE\\\\TEACHER EXPLAINS AGAIN',\n",
       " 'ASBS09A': 'SCI\\\\AGREE\\\\USUALLY DO WELL IN SCIENCE',\n",
       " 'ASBS09B': 'SCI\\\\AGREE\\\\HARDER FOR ME THAN FOR OTHERS',\n",
       " 'ASBS09C': 'SCI\\\\AGREE\\\\JUST NOT GOOD AT SCIENCE',\n",
       " 'ASBS09D': 'SCI\\\\AGREE\\\\LEARN QUICKLY IN SCIENCE',\n",
       " 'ASBS09E': 'SCI\\\\AGREE\\\\I AM GOOD AT SCIENCE',\n",
       " 'ASBS09F': 'SCI\\\\AGREE\\\\SCIENCE IS HARDER FOR ME',\n",
       " 'ASBS09G': 'SCI\\\\AGREE\\\\SCIENCE MAKES ME CONFUSED',\n",
       " 'ASBE01A': 'GEN\\\\LIKE TEST ON COMPUTER TABLET',\n",
       " 'ASBE01BA': 'GEN\\\\DIFFICULTIES\\\\HARD TO TYPE',\n",
       " 'ASBE01BB': 'GEN\\\\DIFFICULTIES\\\\TROUBLE WITH NUMBERPAD',\n",
       " 'ASBE01BC': 'GEN\\\\DIFFICULTIES\\\\OBJECTS HARD TO DRAG',\n",
       " 'ASBE01BD': 'GEN\\\\DIFFICULTIES\\\\NO GOOD PLACE FOR ANSWERS',\n",
       " 'ASBE01BE': 'GEN\\\\DIFFICULTIES\\\\SLOW COMPUTER OR TABLET',\n",
       " 'ASBE01BF': 'GEN\\\\DIFFICULTIES\\\\PROBLEM WITH COPMPUTER OR TABLET',\n",
       " 'ASBE02A': 'GEN\\\\USE COMPUTER TABLET\\\\HOW OFTEN\\\\SCHOOL ASSIGNMENT',\n",
       " 'ASBE02B': 'GEN\\\\USE COMPUTER TABLET\\\\HOW OFTEN\\\\MATHEMATICS SCHOOLWORK',\n",
       " 'ASBE02C': 'GEN\\\\USE COMPUTER TABLET\\\\HOW OFTEN\\\\SCIENCE SCHOOLWORK',\n",
       " 'ASBE02D': 'GEN\\\\USE COMPUTER TABLET\\\\HOW OFTEN\\\\TEST OR QUIZ',\n",
       " 'ASBE03A': 'GEN\\\\FAMILIARITY COMPUTER TABLET\\\\AGREE\\\\GOOD USING COMPUTER',\n",
       " 'ASBE03B': 'GEN\\\\FAMILIARITY COMPUTER TABLET\\\\AGREE\\\\GOOD AT TYPING',\n",
       " 'ASBE03C': 'GEN\\\\FAMILIARITY COMPUTER TABLET\\\\AGREE\\\\USE TOUCHSCREEN',\n",
       " 'ASBE03D': 'GEN\\\\FAMILIARITY COMPUTER TABLET\\\\AGREE\\\\EASY INFORMATION INTERNET',\n",
       " 'ASBE03E': 'GEN\\\\FAMILIARITY COMPUTER TABLET\\\\AGREE\\\\LOOK UP MEANING OF WORDS ON INTERNET',\n",
       " 'ASBE03F': 'GEN\\\\FAMILIARITY COMPUTER TABLET\\\\AGREE\\\\WRITE SENTENCES AND PARAGRAPHS',\n",
       " 'ASBE03G': 'GEN\\\\FAMILIARITY COMPUTER TABLET\\\\AGREE\\\\EDIT TEXT ON COMPUTER',\n",
       " 'ITPART': 'Student Participation Status Indicator',\n",
       " 'ITPART1': 'Student Participation Achievement Session',\n",
       " 'ITPART2': 'Student Participation Questionnaire Session',\n",
       " 'ITSEX': 'Sex of Students',\n",
       " 'ITBIRTHM': 'Date of  Student Birth\\\\Month',\n",
       " 'ITBIRTHY': 'Date of  Student Birth\\\\Year',\n",
       " 'ITDATE': 'Date of Testing',\n",
       " 'ASDAGE': 'Students Age',\n",
       " 'ITADMINI': 'Test Administrator Position',\n",
       " 'ITACCOMM1': 'Special Accommodation\\\\Achievement Session',\n",
       " 'ITACCOMM2': 'Special Accommodation\\\\Background Session',\n",
       " 'ITEXCLUD': 'Student Exclusion Status',\n",
       " 'ILRELIAB': 'Reliability Coding Status',\n",
       " 'CONDVAR1': 'Conditioning Variable',\n",
       " 'ITMODE_SA': 'ADMINISTRATION MODE/DATA SOURCE STUDENT TEST',\n",
       " 'ITLANG_SA': 'Language of Student Achievement Test',\n",
       " 'LCID_SA': 'Locale ID of Student Achievement Test',\n",
       " 'ITLANG_SQ': 'Language of Student Context Questionnaire',\n",
       " 'LCID_SQ': 'Locale ID of Student Context Questionnaire',\n",
       " 'IDSTRATE': 'EXPLICIT STRATUM CODE',\n",
       " 'IDSTRATI': 'IMPLICIT STRATUM CODE',\n",
       " 'JKREP': 'STUDENT-LEVEL JACKKNIFE REPLICATE',\n",
       " 'JKZONE': 'STUDENT-LEVEL JACKKNIFE ZONE',\n",
       " 'TOTWGT': 'OVERALL WEIGHT',\n",
       " 'HOUWGT': 'HOUSE WEIGHT',\n",
       " 'SENWGT': 'SENATE WEIGHT',\n",
       " 'WGTADJ1': 'SCHOOL RESPONSE ADJUSTMENT',\n",
       " 'WGTADJ2': 'CLASS RESPONSE ADJUSTMENT',\n",
       " 'WGTADJ3': 'STUDENT RESPONSE ADJUSTMENT',\n",
       " 'WGTFAC1': 'SCHOOL WEIGHTING FACTOR',\n",
       " 'WGTFAC2': 'CLASS WEIGHTING FACTOR',\n",
       " 'WGTFAC3': 'STUDENT WEIGHTING FACTOR',\n",
       " 'ASMMAT01': '1ST PLAUSIBLE VALUE MATHEMATICS',\n",
       " 'ASMMAT02': '2ND PLAUSIBLE VALUE MATHEMATICS',\n",
       " 'ASMMAT03': '3RD PLAUSIBLE VALUE MATHEMATICS',\n",
       " 'ASMMAT04': '4TH PLAUSIBLE VALUE MATHEMATICS',\n",
       " 'ASMMAT05': '5TH PLAUSIBLE VALUE MATHEMATICS',\n",
       " 'ASSSCI01': '1ST PLAUSIBLE VALUE SCIENCE',\n",
       " 'ASSSCI02': '2ND PLAUSIBLE VALUE SCIENCE',\n",
       " 'ASSSCI03': '3RD PLAUSIBLE VALUE SCIENCE',\n",
       " 'ASSSCI04': '4TH PLAUSIBLE VALUE SCIENCE',\n",
       " 'ASSSCI05': '5TH PLAUSIBLE VALUE SCIENCE',\n",
       " 'ASMAPP01': '1ST PV MATH APPLYING',\n",
       " 'ASMAPP02': '2ND PV MATH APPLYING',\n",
       " 'ASMAPP03': '3RD PV MATH APPLYING',\n",
       " 'ASMAPP04': '4TH PV MATH APPLYING',\n",
       " 'ASMAPP05': '5TH PV MATH APPLYING',\n",
       " 'ASMDAT01': '1ST PV DATA DISPLAY',\n",
       " 'ASMDAT02': '2ND PV DATA DISPLAY',\n",
       " 'ASMDAT03': '3RD PV DATA DISPLAY',\n",
       " 'ASMDAT04': '4TH PV DATA DISPLAY',\n",
       " 'ASMDAT05': '5TH PV DATA DISPLAY',\n",
       " 'ASMGEO01': '1ST PV GEOMETRY',\n",
       " 'ASMGEO02': '2ND PV GEOMETRY',\n",
       " 'ASMGEO03': '3RD PV GEOMETRY',\n",
       " 'ASMGEO04': '4TH PV GEOMETRY',\n",
       " 'ASMGEO05': '5TH PV GEOMETRY',\n",
       " 'ASMKNO01': '1ST PV MATH KNOWING',\n",
       " 'ASMKNO02': '2ND PV MATH KNOWING',\n",
       " 'ASMKNO03': '3RD PV MATH KNOWING',\n",
       " 'ASMKNO04': '4TH PV MATH KNOWING',\n",
       " 'ASMKNO05': '5TH PV MATH KNOWING',\n",
       " 'ASMNUM01': '1ST PV NUMBER',\n",
       " 'ASMNUM02': '2ND PV NUMBER',\n",
       " 'ASMNUM03': '3RD PV NUMBER',\n",
       " 'ASMNUM04': '4TH PV NUMBER',\n",
       " 'ASMNUM05': '5TH PV NUMBER',\n",
       " 'ASMREA01': '1ST PV MATH REASONING',\n",
       " 'ASMREA02': '2ND PV MATH REASONING',\n",
       " 'ASMREA03': '3RD PV MATH REASONING',\n",
       " 'ASMREA04': '4TH PV MATH REASONING',\n",
       " 'ASMREA05': '5TH PV MATH REASONING',\n",
       " 'ASSAPP01': '1ST PV SCIENCE APPLYING',\n",
       " 'ASSAPP02': '2ND PV SCIENCE APPLYING',\n",
       " 'ASSAPP03': '3RD PV SCIENCE APPLYING',\n",
       " 'ASSAPP04': '4TH PV SCIENCE APPLYING',\n",
       " 'ASSAPP05': '5TH PV SCIENCE APPLYING',\n",
       " 'ASSEAR01': '1ST PV EARTH SCIENCE',\n",
       " 'ASSEAR02': '2ND PV EARTH SCIENCE',\n",
       " 'ASSEAR03': '3RD PV EARTH SCIENCE',\n",
       " 'ASSEAR04': '4TH PV EARTH SCIENCE',\n",
       " 'ASSEAR05': '5TH PV EARTH SCIENCE',\n",
       " 'ASSKNO01': '1ST PV SCIENCE KNOWING',\n",
       " 'ASSKNO02': '2ND PV SCIENCE KNOWING',\n",
       " 'ASSKNO03': '3RD PV SCIENCE KNOWING',\n",
       " 'ASSKNO04': '4TH PV SCIENCE KNOWING',\n",
       " 'ASSKNO05': '5TH PV SCIENCE KNOWING',\n",
       " 'ASSLIF01': '1ST PV LIFE SCIENCE',\n",
       " 'ASSLIF02': '2ND PV LIFE SCIENCE',\n",
       " 'ASSLIF03': '3RD PV LIFE SCIENCE',\n",
       " 'ASSLIF04': '4TH PV LIFE SCIENCE',\n",
       " 'ASSLIF05': '5TH PV LIFE SCIENCE',\n",
       " 'ASSPHY01': '1ST PV PHYSICS',\n",
       " 'ASSPHY02': '2ND PV PHYSICS',\n",
       " 'ASSPHY03': '3RD PV PHYSICS',\n",
       " 'ASSPHY04': '4TH PV PHYSICS',\n",
       " 'ASSPHY05': '5TH PV PHYSICS',\n",
       " 'ASSREA01': '1ST PV SCIENCE REASONING',\n",
       " 'ASSREA02': '2ND PV SCIENCE REASONING',\n",
       " 'ASSREA03': '3RD PV SCIENCE REASONING',\n",
       " 'ASSREA04': '4TH PV SCIENCE REASONING',\n",
       " 'ASSREA05': '5TH PV SCIENCE REASONING',\n",
       " 'ASMIBM01': 'INTERN. MATH BENCH REACHED WITH 1ST PV',\n",
       " 'ASMIBM02': 'INTERN. MATH BENCH REACHED WITH 2ND PV',\n",
       " 'ASMIBM03': 'INTERN. MATH BENCH REACHED WITH 3RD PV',\n",
       " 'ASMIBM04': 'INTERN. MATH BENCH REACHED WITH 4TH PV',\n",
       " 'ASMIBM05': 'INTERN. MATH BENCH REACHED WITH 5TH PV',\n",
       " 'ASSIBM01': 'INTERN. SCI BENCH REACHED WITH 1ST PV',\n",
       " 'ASSIBM02': 'INTERN. SCI BENCH REACHED WITH 2ND PV',\n",
       " 'ASSIBM03': 'INTERN. SCI BENCH REACHED WITH 3RD PV',\n",
       " 'ASSIBM04': 'INTERN. SCI BENCH REACHED WITH 4TH PV',\n",
       " 'ASSIBM05': 'INTERN. SCI BENCH REACHED WITH 5TH PV',\n",
       " 'ASBGSSB': 'Students Sense of School Belonging/SCL',\n",
       " 'ASDGSSB': 'Students Sense of School Belonging/IDX',\n",
       " 'ASBGSB': 'Student Bullying/SCL',\n",
       " 'ASDGSB': 'Student Bullying/IDX',\n",
       " 'ASBGSLM': 'Students Like Learning Mathematics/SCL',\n",
       " 'ASDGSLM': 'Students Like Learning Mathematics/IDX',\n",
       " 'ASBGICS': 'Instructional Clarity in Science Lessons/SCL',\n",
       " 'ASDGICS': 'Instructional Clarity in Science Lessons/IDX',\n",
       " 'ASBGSCM': 'Students Confident in Mathematics/SCL',\n",
       " 'ASDGSCM': 'Students Confident in Mathematics/IDX',\n",
       " 'ASBGSLS': 'Students Like Learning Science/SCL',\n",
       " 'ASDGSLS': 'Students Like Learning Science/IDX',\n",
       " 'ASBGSEC': 'Self-Efficacy for Computer Use/SCL',\n",
       " 'ASDGSEC': 'Self-Efficacy for Computer Use/IDX',\n",
       " 'ASBGSCS': 'Students Confident in Science/SCL',\n",
       " 'ASDGSCS': 'Students Confident in Science/IDX',\n",
       " 'ASBHELA': 'Early Literacy Activities Before School/SCL',\n",
       " 'ASDHELA': 'Early Literacy Activities Before School/IDX',\n",
       " 'ASBHENA': 'Early Numeracy Activities Before School/SCL',\n",
       " 'ASDHENA': 'Early Numeracy Activities Before School/IDX',\n",
       " 'ASBHELN': 'Early Literacy and Numeracy Activities Before School/SCL',\n",
       " 'ASDHELN': 'Early Literacy and Numeracy Activities Before School/IDX',\n",
       " 'ASBHELT': 'Early Literacy Tasks Beginning School/SCL',\n",
       " 'ASDHELT': 'Early Literacy Tasks Beginning School/IDX',\n",
       " 'ASBHENT': 'Early Numeracy Tasks Beginning School/SCL',\n",
       " 'ASDHENT': 'Early Numeracy Tasks Beginning  School/IDX',\n",
       " 'ASBHLNT': 'Early Literacy and NumeracyTasks Beginning School/SCL',\n",
       " 'ASDHLNT': 'Early Literacy and NumeracyTasks Beginning School/IDX',\n",
       " 'ASBHPSP': 'Parents Perceptions of Their Child School/SCL',\n",
       " 'ASDHPSP': 'Parents Perceptions of Their Child School/IDX',\n",
       " 'ASBGHRL': 'Home Resources for Learning/SCL',\n",
       " 'ASDGHRL': 'Home Resources for Learning/IDX',\n",
       " 'ASDGICM': 'Instructional Clarity in Mathematics Lessons/IDX',\n",
       " 'ASBGDML': 'Disorderly Behavior during Math Lessons/SCL',\n",
       " 'ASBGICM': 'Instructional Clarity in Mathematics Lessons/SCL',\n",
       " 'ASDGDML': 'Disorderly Behavior during Math Lessons/IDX',\n",
       " 'ASDG05S': 'Number of Home Study Supports',\n",
       " 'ASDMLOWP': 'Mathematics Ach Too Low for Estimation',\n",
       " 'ASDSLOWP': 'Science Ach Too Low for Estimation',\n",
       " 'ASXG21a': 'GEN\\\\ZNAMKA\\\\CESKY JAZYK',\n",
       " 'ASXG21b': 'GEN\\\\ZNAMKA\\\\ANGLICTINA',\n",
       " 'ASXG21c': 'GEN\\\\ZNAMKA\\\\MATEMATIKA',\n",
       " 'ASXG21d': 'GEN\\\\ZNAMKA\\\\PRIRODOVEDA',\n",
       " 'ASXG21e': 'GEN\\\\ZNAMKA\\\\VLASTIVEDA',\n",
       " 'ASXG21f': 'GEN\\\\ZNAMKA\\\\NAS SVET'}"
      ]
     },
     "execution_count": 4,
     "metadata": {},
     "output_type": "execute_result"
    }
   ],
   "source": [
    "sg19_meta.column_names_to_labels"
   ]
  },
  {
   "cell_type": "code",
   "execution_count": 8,
   "id": "45d98cc9-6453-4482-9734-5f3a4ee21310",
   "metadata": {},
   "outputs": [
    {
     "data": {
      "text/plain": [
       "1.0    2289\n",
       "2.0    1446\n",
       "3.0     424\n",
       "4.0      93\n",
       "6.0      67\n",
       "5.0      28\n",
       "7.0       7\n",
       "Name: ASXG21c, dtype: int64"
      ]
     },
     "execution_count": 8,
     "metadata": {},
     "output_type": "execute_result"
    }
   ],
   "source": [
    "sg19['ASXG21c'].value_counts()"
   ]
  },
  {
   "cell_type": "code",
   "execution_count": 9,
   "id": "bf94a13b-c3b7-476d-8062-36e1c4298c81",
   "metadata": {},
   "outputs": [
    {
     "data": {
      "text/plain": [
       "{1.0: '1',\n",
       " 2.0: '2',\n",
       " 3.0: '3',\n",
       " 4.0: '4',\n",
       " 5.0: '5',\n",
       " 6.0: 'Verbal evaluation',\n",
       " 7.0: 'We do not have this subject',\n",
       " 9.0: 'Omitted'}"
      ]
     },
     "execution_count": 9,
     "metadata": {},
     "output_type": "execute_result"
    }
   ],
   "source": [
    "sg19_meta.variable_value_labels['ASXG21c']"
   ]
  },
  {
   "cell_type": "code",
   "execution_count": 10,
   "id": "fc04bc3e-911c-4b18-aaba-f6b1bbfc661e",
   "metadata": {},
   "outputs": [],
   "source": [
    "sg19['gr_matematika'] = np.where(sg19['ASXG21c'] < 5.5, sg19['ASXG21c'], np.nan)"
   ]
  },
  {
   "cell_type": "code",
   "execution_count": 13,
   "id": "71c9ef4c-084c-4ea4-8c2e-8a2ce5de2f62",
   "metadata": {},
   "outputs": [],
   "source": [
    "foo = sg19[['gr_matematika', 'TOTWGT']].dropna()"
   ]
  },
  {
   "cell_type": "code",
   "execution_count": 14,
   "id": "563b1ffd-50ef-4ef0-b933-09f339390595",
   "metadata": {},
   "outputs": [],
   "source": [
    "dsw = DescrStatsW(foo['gr_matematika'], weights=foo['TOTWGT'])"
   ]
  },
  {
   "cell_type": "code",
   "execution_count": 15,
   "id": "1834a65b-2c86-4cf8-bcf9-2f03030dd2a8",
   "metadata": {},
   "outputs": [
    {
     "data": {
      "text/plain": [
       "0.8023978846030939"
      ]
     },
     "execution_count": 15,
     "metadata": {},
     "output_type": "execute_result"
    }
   ],
   "source": [
    "dsw.std"
   ]
  },
  {
   "cell_type": "code",
   "execution_count": 20,
   "id": "e9aa8ad9-b256-4465-bee9-5b8006e5ae00",
   "metadata": {},
   "outputs": [
    {
     "data": {
      "text/plain": [
       "[Text(0.5, 0, 'Známka'), Text(0, 0.5, 'Relativní četnost')]"
      ]
     },
     "execution_count": 20,
     "metadata": {},
     "output_type": "execute_result"
    },
    {
     "data": {
      "image/png": "[encoded data removed]",
      "text/plain": [
       "<Figure size 900x450 with 1 Axes>"
      ]
     },
     "metadata": {
      "needs_background": "light"
     },
     "output_type": "display_data"
    },
    {
     "name": "stderr",
     "output_type": "stream",
     "text": [
      "Exception ignored in atexit callback: <bound method InteractiveShell.atexit_operations of <ipykernel.zmqshell.ZMQInteractiveShell object at 0x7ff0b47202b0>>\n",
      "Traceback (most recent call last):\n",
      "  File \"/mnt/d/projects/idea/code/venv/lib/python3.10/site-packages/IPython/core/interactiveshell.py\", line 3731, in atexit_operations\n",
      "    self._atexit_once()\n",
      "  File \"/mnt/d/projects/idea/code/venv/lib/python3.10/site-packages/IPython/core/interactiveshell.py\", line 3714, in _atexit_once\n",
      "    self.history_manager.end_session()\n",
      "  File \"/mnt/d/projects/idea/code/venv/lib/python3.10/site-packages/IPython/core/history.py\", line 577, in end_session\n",
      "    self.writeout_cache()\n",
      "  File \"/mnt/d/projects/idea/code/venv/lib/python3.10/site-packages/decorator.py\", line 232, in fun\n",
      "    return caller(func, *(extras + args), **kw)\n",
      "  File \"/mnt/d/projects/idea/code/venv/lib/python3.10/site-packages/IPython/core/history.py\", line 60, in only_when_enabled\n",
      "    return f(self, *a, **kw)\n",
      "  File \"/mnt/d/projects/idea/code/venv/lib/python3.10/site-packages/IPython/core/history.py\", line 779, in writeout_cache\n",
      "    self._writeout_input_cache(conn)\n",
      "  File \"/mnt/d/projects/idea/code/venv/lib/python3.10/site-packages/IPython/core/history.py\", line 762, in _writeout_input_cache\n",
      "    conn.execute(\"INSERT INTO history VALUES (?, ?, ?, ?)\",\n",
      "sqlite3.DatabaseError: database disk image is malformed\n"
     ]
    }
   ],
   "source": [
    "foo = foo.groupby('gr_matematika')['TOTWGT'].sum().reset_index()\n",
    "totwgt_total = foo['TOTWGT'].sum()\n",
    "foo['rel_weight'] = 100 * foo['TOTWGT'] / totwgt_total\n",
    "ax = sns.barplot(x='gr_matematika', y='rel_weight', data=foo)\n",
    "ax.yaxis.set_major_formatter(mpl.ticker.PercentFormatter(decimals=0, symbol=' %'))\n",
    "ax.set_title('TIMSS 2019: Relativní četnosti známek z matematiky')\n",
    "ax.set(xlabel='Známka', ylabel='Relativní četnost')"
   ]
  },
  {
   "cell_type": "code",
   "execution_count": null,
   "id": "c46fa7da-ea8a-4b43-ab74-9fc53267bd2d",
   "metadata": {},
   "outputs": [],
   "source": []
  }
 ],
 "metadata": {
  "kernelspec": {
   "display_name": "Python 3 (ipykernel)",
   "language": "python",
   "name": "python3"
  },
  "language_info": {
   "codemirror_mode": {
    "name": "ipython",
    "version": 3
   },
   "file_extension": ".py",
   "mimetype": "text/x-python",
   "name": "python",
   "nbconvert_exporter": "python",
   "pygments_lexer": "ipython3",
   "version": "3.10.4"
  }
 },
 "nbformat": 4,
 "nbformat_minor": 5
}
