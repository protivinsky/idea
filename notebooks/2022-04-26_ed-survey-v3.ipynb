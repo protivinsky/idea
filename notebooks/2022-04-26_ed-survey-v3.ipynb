{
 "cells": [
  {
   "cell_type": "markdown",
   "id": "4f2517d1-7765-4c92-b81f-7ea1c7817bed",
   "metadata": {},
   "source": [
    "# EdSurvey package"
   ]
  },
  {
   "cell_type": "markdown",
   "id": "b3cb6ae4-470d-4445-9736-8460d7b433d4",
   "metadata": {},
   "source": [
    "- https://rdrr.io/cran/EdSurvey/\n",
    "- https://rdrr.io/cran/EdSurvey/man/mixed.sdf.html"
   ]
  },
  {
   "cell_type": "code",
   "execution_count": 1,
   "id": "a8b2754a-d7ab-42c0-8719-d6a4f449af85",
   "metadata": {},
   "outputs": [],
   "source": [
    ".libPaths('rlib')"
   ]
  },
  {
   "cell_type": "code",
   "execution_count": 2,
   "id": "f2225a47-6901-43c1-8c7c-411629d7ebe9",
   "metadata": {},
   "outputs": [
    {
     "name": "stderr",
     "output_type": "stream",
     "text": [
      "\n",
      "Attaching package: ‘dplyr’\n",
      "\n",
      "\n",
      "The following objects are masked from ‘package:stats’:\n",
      "\n",
      "    filter, lag\n",
      "\n",
      "\n",
      "The following objects are masked from ‘package:base’:\n",
      "\n",
      "    intersect, setdiff, setequal, union\n",
      "\n",
      "\n",
      "Loading required package: lme4\n",
      "\n",
      "Loading required package: Matrix\n",
      "\n",
      "WeMix v3.2.1.9000\n",
      "\n",
      "\n",
      "Loading required package: car\n",
      "\n",
      "Loading required package: carData\n",
      "\n",
      "\n",
      "Attaching package: ‘car’\n",
      "\n",
      "\n",
      "The following object is masked from ‘package:dplyr’:\n",
      "\n",
      "    recode\n",
      "\n",
      "\n",
      "Loading required package: lfactors\n",
      "\n",
      "lfactors v1.0.4\n",
      "\n",
      "\n",
      "EdSurvey v2.7.1\n",
      "\n",
      "\n",
      "\n",
      "Attaching package: ‘EdSurvey’\n",
      "\n",
      "\n",
      "The following object is masked from ‘package:WeMix’:\n",
      "\n",
      "    waldTest\n",
      "\n",
      "\n",
      "The following object is masked from ‘package:lme4’:\n",
      "\n",
      "    getData\n",
      "\n",
      "\n",
      "The following objects are masked from ‘package:base’:\n",
      "\n",
      "    cbind, rbind\n",
      "\n",
      "\n"
     ]
    }
   ],
   "source": [
    "library(dplyr)\n",
    "library(WeMix)\n",
    "library(EdSurvey)"
   ]
  },
  {
   "cell_type": "code",
   "execution_count": 3,
   "id": "a97d239a-d8f7-4f0f-b10d-cf94dc27230b",
   "metadata": {},
   "outputs": [],
   "source": [
    "# downloadPISA('temp', years=2018, database='INT', verbose=TRUE)"
   ]
  },
  {
   "cell_type": "code",
   "execution_count": 3,
   "id": "39e70155-b976-4b03-a0ac-9c2a9b55071d",
   "metadata": {},
   "outputs": [
    {
     "name": "stdout",
     "output_type": "stream",
     "text": [
      "Found cached data for country code “cze”\n"
     ]
    }
   ],
   "source": [
    "cze <- readPISA('temp/PISA/2018', database='INT', countries='cze')"
   ]
  },
  {
   "cell_type": "code",
   "execution_count": 5,
   "id": "30b1f11d-7fd8-45ab-b16b-d4f38b881e4d",
   "metadata": {},
   "outputs": [
    {
     "name": "stdout",
     "output_type": "stream",
     "text": [
      "Found cached data for country code “cze”\n"
     ]
    }
   ],
   "source": [
    "cze <- readPISA('temp/PISA/2018', countries='cze')"
   ]
  },
  {
   "cell_type": "code",
   "execution_count": 4,
   "id": "6c7f9988-8b62-4d85-89ef-396349c75767",
   "metadata": {},
   "outputs": [
    {
     "data": {
      "text/plain": [
       "edsurvey.data.frame for 2018 PISA (Mathematics, Reading, and Science)\n",
       "  in CZECH REPUBLIC\n",
       "Dimensions: 7019 rows and 5044 columns.\n",
       "\n",
       "There is 1 full sample weight in this edsurvey.data.frame:\n",
       "  ‘w_fstuwt’ with 80 JK replicate weights (the default).\n",
       "\n",
       "\n",
       "There are 9 subject scale(s) or subscale(s) in this\n",
       "  edsurvey.data.frame:\n",
       "‘math’ subject scale or subscale with 10 plausible values.\n",
       "\n",
       "‘read’ subject scale or subscale with 10 plausible values (the\n",
       "  default).\n",
       "\n",
       "‘scie’ subject scale or subscale with 10 plausible values.\n",
       "\n",
       "‘glcm’ subject scale or subscale with 10 plausible values.\n",
       "\n",
       "‘rcli’ subject scale or subscale with 10 plausible values.\n",
       "\n",
       "‘rcun’ subject scale or subscale with 10 plausible values.\n",
       "\n",
       "‘rcer’ subject scale or subscale with 10 plausible values.\n",
       "\n",
       "‘rtsn’ subject scale or subscale with 10 plausible values.\n",
       "\n",
       "‘rtml’ subject scale or subscale with 10 plausible values.\n",
       "\n",
       "\n",
       "Omitted Levels: ‘Invalid’, ‘N/A’, ‘Missing’, ‘Miss’, ‘NA’, ‘(Missing)’,\n",
       "                ‘NO RESPONSE’, ‘INVALID’, ‘VALID SKIP’, ‘NOT\n",
       "                APPLICABLE’, ‘MISSING’, and ‘NOT REACHED’\n",
       "Achievement Levels:\n",
       "Mathematics:\n",
       "Proficiency Level 1: 357.77\n",
       "Proficiency Level 2: 420.07\n",
       "Proficiency Level 3: 482.38\n",
       "Proficiency Level 4: 544.68\n",
       "Proficiency Level 5: 606.99\n",
       "Proficiency Level 6: 669.30\n",
       "Achievement Levels:\n",
       "Reading:\n",
       "Proficiency Level 1c: 189.33\n",
       "Proficiency Level 1b: 262.04\n",
       "Proficiency Level 1a: 334.75\n",
       "Proficiency Level 2: 407.47\n",
       "Proficiency Level 3: 480.18\n",
       "Proficiency Level 4: 552.89\n",
       "Proficiency Level 5: 625.61\n",
       "Proficiency Level 6: 698.32\n",
       "Achievement Levels:\n",
       "Science:\n",
       "Proficiency Level 1b: 260.54\n",
       "Proficiency Level 1a: 334.94\n",
       "Proficiency Level 2: 409.54\n",
       "Proficiency Level 3: 484.14\n",
       "Proficiency Level 4: 558.73\n",
       "Proficiency Level 5: 633.33\n",
       "Proficiency Level 6: 707.93"
      ]
     },
     "metadata": {},
     "output_type": "display_data"
    }
   ],
   "source": [
    "cze"
   ]
  },
  {
   "cell_type": "code",
   "execution_count": 7,
   "id": "cca6daad-cdac-4a87-969d-0ee0c5d030ef",
   "metadata": {},
   "outputs": [
    {
     "data": {
      "text/html": [
       "<style>\n",
       ".list-inline {list-style: none; margin:0; padding: 0}\n",
       ".list-inline>li {display: inline-block}\n",
       ".list-inline>li:not(:last-child)::after {content: \"\\00b7\"; padding: 0 .5ex}\n",
       "</style>\n",
       "<ol class=list-inline><li>7019</li><li>5044</li></ol>\n"
      ],
      "text/latex": [
       "\\begin{enumerate*}\n",
       "\\item 7019\n",
       "\\item 5044\n",
       "\\end{enumerate*}\n"
      ],
      "text/markdown": [
       "1. 7019\n",
       "2. 5044\n",
       "\n",
       "\n"
      ],
      "text/plain": [
       "[1] 7019 5044"
      ]
     },
     "metadata": {},
     "output_type": "display_data"
    }
   ],
   "source": [
    "dim(cze)"
   ]
  },
  {
   "cell_type": "code",
   "execution_count": 8,
   "id": "7908947c-9afd-4c31-a9f5-8e479fb77cfa",
   "metadata": {},
   "outputs": [
    {
     "data": {
      "text/html": [
       "<table class=\"dataframe\">\n",
       "<caption>A data.frame: 2 × 2</caption>\n",
       "<thead>\n",
       "\t<tr><th></th><th scope=col>variableName</th><th scope=col>Labels</th></tr>\n",
       "\t<tr><th></th><th scope=col>&lt;chr&gt;</th><th scope=col>&lt;chr&gt;</th></tr>\n",
       "</thead>\n",
       "<tbody>\n",
       "\t<tr><th scope=row>1</th><td>w_schgrnrabwt   </td><td>GRADE NONRESPONSE ADJUSTED SCHOOL BASE WEIGHT</td></tr>\n",
       "\t<tr><th scope=row>2</th><td>w_fstuwt_sch_sum</td><td>Sum of W_FSTUWT                              </td></tr>\n",
       "</tbody>\n",
       "</table>\n"
      ],
      "text/latex": [
       "A data.frame: 2 × 2\n",
       "\\begin{tabular}{r|ll}\n",
       "  & variableName & Labels\\\\\n",
       "  & <chr> & <chr>\\\\\n",
       "\\hline\n",
       "\t1 & w\\_schgrnrabwt    & GRADE NONRESPONSE ADJUSTED SCHOOL BASE WEIGHT\\\\\n",
       "\t2 & w\\_fstuwt\\_sch\\_sum & Sum of W\\_FSTUWT                              \\\\\n",
       "\\end{tabular}\n"
      ],
      "text/markdown": [
       "\n",
       "A data.frame: 2 × 2\n",
       "\n",
       "| <!--/--> | variableName &lt;chr&gt; | Labels &lt;chr&gt; |\n",
       "|---|---|---|\n",
       "| 1 | w_schgrnrabwt    | GRADE NONRESPONSE ADJUSTED SCHOOL BASE WEIGHT |\n",
       "| 2 | w_fstuwt_sch_sum | Sum of W_FSTUWT                               |\n",
       "\n"
      ],
      "text/plain": [
       "  variableName     Labels                                       \n",
       "1 w_schgrnrabwt    GRADE NONRESPONSE ADJUSTED SCHOOL BASE WEIGHT\n",
       "2 w_fstuwt_sch_sum Sum of W_FSTUWT                              "
      ]
     },
     "metadata": {},
     "output_type": "display_data"
    }
   ],
   "source": [
    "searchSDF('_sch', cze)"
   ]
  },
  {
   "cell_type": "code",
   "execution_count": 9,
   "id": "60e1d38b-65d5-418e-a50a-40e7186f9a5f",
   "metadata": {},
   "outputs": [
    {
     "data": {
      "text/html": [
       "<table class=\"dataframe\">\n",
       "<caption>A data.frame: 1 × 2</caption>\n",
       "<thead>\n",
       "\t<tr><th></th><th scope=col>variableName</th><th scope=col>Labels</th></tr>\n",
       "\t<tr><th></th><th scope=col>&lt;chr&gt;</th><th scope=col>&lt;chr&gt;</th></tr>\n",
       "</thead>\n",
       "<tbody>\n",
       "\t<tr><th scope=row>1</th><td>escs</td><td>Index of economic, social and cultural status</td></tr>\n",
       "</tbody>\n",
       "</table>\n"
      ],
      "text/latex": [
       "A data.frame: 1 × 2\n",
       "\\begin{tabular}{r|ll}\n",
       "  & variableName & Labels\\\\\n",
       "  & <chr> & <chr>\\\\\n",
       "\\hline\n",
       "\t1 & escs & Index of economic, social and cultural status\\\\\n",
       "\\end{tabular}\n"
      ],
      "text/markdown": [
       "\n",
       "A data.frame: 1 × 2\n",
       "\n",
       "| <!--/--> | variableName &lt;chr&gt; | Labels &lt;chr&gt; |\n",
       "|---|---|---|\n",
       "| 1 | escs | Index of economic, social and cultural status |\n",
       "\n"
      ],
      "text/plain": [
       "  variableName Labels                                       \n",
       "1 escs         Index of economic, social and cultural status"
      ]
     },
     "metadata": {},
     "output_type": "display_data"
    }
   ],
   "source": [
    "searchSDF('escs', cze)"
   ]
  },
  {
   "cell_type": "code",
   "execution_count": 10,
   "id": "f99bda5c-d4d3-4fd6-abdd-a330387fcb86",
   "metadata": {},
   "outputs": [],
   "source": [
    "vars = c('cntstuid', 'cntschid', 'math', 'read', 'scie', 'w_fstuwt', 'w_fstuwt_sch_sum', 'w_schgrnrabwt', 'escs')"
   ]
  },
  {
   "cell_type": "code",
   "execution_count": 11,
   "id": "e1da20e9-b0ed-4690-9684-2b23621dc532",
   "metadata": {},
   "outputs": [],
   "source": [
    "df <- getData(cze, varnames=vars)"
   ]
  },
  {
   "cell_type": "code",
   "execution_count": 12,
   "id": "95a12e77-eac1-4eb3-b553-f61cdd644567",
   "metadata": {},
   "outputs": [
    {
     "data": {
      "text/html": [
       "<table class=\"dataframe\">\n",
       "<caption>A data.frame: 6 × 116</caption>\n",
       "<thead>\n",
       "\t<tr><th></th><th scope=col>cntstuid</th><th scope=col>cntschid</th><th scope=col>w_fstuwt_sch_sum</th><th scope=col>w_schgrnrabwt</th><th scope=col>escs</th><th scope=col>pv1math</th><th scope=col>pv2math</th><th scope=col>pv3math</th><th scope=col>pv4math</th><th scope=col>pv5math</th><th scope=col>⋯</th><th scope=col>w_fsturwt72</th><th scope=col>w_fsturwt73</th><th scope=col>w_fsturwt74</th><th scope=col>w_fsturwt75</th><th scope=col>w_fsturwt76</th><th scope=col>w_fsturwt77</th><th scope=col>w_fsturwt78</th><th scope=col>w_fsturwt79</th><th scope=col>w_fsturwt80</th><th scope=col>w_fstuwt</th></tr>\n",
       "\t<tr><th></th><th scope=col>&lt;int&gt;</th><th scope=col>&lt;int&gt;</th><th scope=col>&lt;dbl&gt;</th><th scope=col>&lt;dbl&gt;</th><th scope=col>&lt;dbl&gt;</th><th scope=col>&lt;dbl&gt;</th><th scope=col>&lt;dbl&gt;</th><th scope=col>&lt;dbl&gt;</th><th scope=col>&lt;dbl&gt;</th><th scope=col>&lt;dbl&gt;</th><th scope=col>⋯</th><th scope=col>&lt;dbl&gt;</th><th scope=col>&lt;dbl&gt;</th><th scope=col>&lt;dbl&gt;</th><th scope=col>&lt;dbl&gt;</th><th scope=col>&lt;dbl&gt;</th><th scope=col>&lt;dbl&gt;</th><th scope=col>&lt;dbl&gt;</th><th scope=col>&lt;dbl&gt;</th><th scope=col>&lt;dbl&gt;</th><th scope=col>&lt;dbl&gt;</th></tr>\n",
       "</thead>\n",
       "<tbody>\n",
       "\t<tr><th scope=row>1</th><td>20305448</td><td>20300001</td><td>480.1996</td><td>4.58468</td><td>-0.0323</td><td>444.939</td><td>519.100</td><td>517.274</td><td>460.562</td><td>435.193</td><td>⋯</td><td>6.96348</td><td>6.94490</td><td>21.36235</td><td>21.29438</td><td>20.69771</td><td>21.13392</td><td>7.21359</td><td>20.70555</td><td>6.92955</td><td>14.04717</td></tr>\n",
       "\t<tr><th scope=row>2</th><td>20306303</td><td>20300001</td><td>480.1996</td><td>4.58468</td><td> 0.3792</td><td>545.612</td><td>532.694</td><td>549.586</td><td>577.063</td><td>558.176</td><td>⋯</td><td>7.07351</td><td>7.07351</td><td>21.22052</td><td>21.22052</td><td>21.22052</td><td>21.22052</td><td>7.07351</td><td>21.22052</td><td>7.07351</td><td>14.14701</td></tr>\n",
       "\t<tr><th scope=row>3</th><td>20301481</td><td>20300001</td><td>480.1996</td><td>4.58468</td><td>-1.4330</td><td>579.260</td><td>551.230</td><td>542.779</td><td>511.371</td><td>560.627</td><td>⋯</td><td>7.07351</td><td>7.07351</td><td>21.22052</td><td>21.22052</td><td>21.22052</td><td>21.22052</td><td>7.07351</td><td>21.22052</td><td>7.07351</td><td>14.14701</td></tr>\n",
       "\t<tr><th scope=row>4</th><td>20307054</td><td>20300001</td><td>480.1996</td><td>4.58468</td><td>-0.0494</td><td>408.832</td><td>530.820</td><td>442.457</td><td>478.312</td><td>497.864</td><td>⋯</td><td>7.07351</td><td>7.07351</td><td>21.22052</td><td>21.22052</td><td>21.22052</td><td>21.22052</td><td>7.07351</td><td>21.22052</td><td>7.07351</td><td>14.14701</td></tr>\n",
       "\t<tr><th scope=row>5</th><td>20306741</td><td>20300001</td><td>480.1996</td><td>4.58468</td><td> 0.5287</td><td>630.666</td><td>571.289</td><td>653.830</td><td>536.718</td><td>622.360</td><td>⋯</td><td>7.07351</td><td>7.07351</td><td>21.22052</td><td>21.22052</td><td>21.22052</td><td>21.22052</td><td>7.07351</td><td>21.22052</td><td>7.07351</td><td>14.14701</td></tr>\n",
       "\t<tr><th scope=row>6</th><td>20304495</td><td>20300001</td><td>480.1996</td><td>4.58468</td><td>-0.4548</td><td>652.657</td><td>625.186</td><td>601.027</td><td>599.939</td><td>576.879</td><td>⋯</td><td>7.07351</td><td>7.07351</td><td>21.22052</td><td>21.22052</td><td>21.22052</td><td>21.22052</td><td>7.07351</td><td>21.22052</td><td>7.07351</td><td>14.14701</td></tr>\n",
       "</tbody>\n",
       "</table>\n"
      ],
      "text/latex": [
       "A data.frame: 6 × 116\n",
       "\\begin{tabular}{r|lllllllllllllllllllll}\n",
       "  & cntstuid & cntschid & w\\_fstuwt\\_sch\\_sum & w\\_schgrnrabwt & escs & pv1math & pv2math & pv3math & pv4math & pv5math & ⋯ & w\\_fsturwt72 & w\\_fsturwt73 & w\\_fsturwt74 & w\\_fsturwt75 & w\\_fsturwt76 & w\\_fsturwt77 & w\\_fsturwt78 & w\\_fsturwt79 & w\\_fsturwt80 & w\\_fstuwt\\\\\n",
       "  & <int> & <int> & <dbl> & <dbl> & <dbl> & <dbl> & <dbl> & <dbl> & <dbl> & <dbl> & ⋯ & <dbl> & <dbl> & <dbl> & <dbl> & <dbl> & <dbl> & <dbl> & <dbl> & <dbl> & <dbl>\\\\\n",
       "\\hline\n",
       "\t1 & 20305448 & 20300001 & 480.1996 & 4.58468 & -0.0323 & 444.939 & 519.100 & 517.274 & 460.562 & 435.193 & ⋯ & 6.96348 & 6.94490 & 21.36235 & 21.29438 & 20.69771 & 21.13392 & 7.21359 & 20.70555 & 6.92955 & 14.04717\\\\\n",
       "\t2 & 20306303 & 20300001 & 480.1996 & 4.58468 &  0.3792 & 545.612 & 532.694 & 549.586 & 577.063 & 558.176 & ⋯ & 7.07351 & 7.07351 & 21.22052 & 21.22052 & 21.22052 & 21.22052 & 7.07351 & 21.22052 & 7.07351 & 14.14701\\\\\n",
       "\t3 & 20301481 & 20300001 & 480.1996 & 4.58468 & -1.4330 & 579.260 & 551.230 & 542.779 & 511.371 & 560.627 & ⋯ & 7.07351 & 7.07351 & 21.22052 & 21.22052 & 21.22052 & 21.22052 & 7.07351 & 21.22052 & 7.07351 & 14.14701\\\\\n",
       "\t4 & 20307054 & 20300001 & 480.1996 & 4.58468 & -0.0494 & 408.832 & 530.820 & 442.457 & 478.312 & 497.864 & ⋯ & 7.07351 & 7.07351 & 21.22052 & 21.22052 & 21.22052 & 21.22052 & 7.07351 & 21.22052 & 7.07351 & 14.14701\\\\\n",
       "\t5 & 20306741 & 20300001 & 480.1996 & 4.58468 &  0.5287 & 630.666 & 571.289 & 653.830 & 536.718 & 622.360 & ⋯ & 7.07351 & 7.07351 & 21.22052 & 21.22052 & 21.22052 & 21.22052 & 7.07351 & 21.22052 & 7.07351 & 14.14701\\\\\n",
       "\t6 & 20304495 & 20300001 & 480.1996 & 4.58468 & -0.4548 & 652.657 & 625.186 & 601.027 & 599.939 & 576.879 & ⋯ & 7.07351 & 7.07351 & 21.22052 & 21.22052 & 21.22052 & 21.22052 & 7.07351 & 21.22052 & 7.07351 & 14.14701\\\\\n",
       "\\end{tabular}\n"
      ],
      "text/markdown": [
       "\n",
       "A data.frame: 6 × 116\n",
       "\n",
       "| <!--/--> | cntstuid &lt;int&gt; | cntschid &lt;int&gt; | w_fstuwt_sch_sum &lt;dbl&gt; | w_schgrnrabwt &lt;dbl&gt; | escs &lt;dbl&gt; | pv1math &lt;dbl&gt; | pv2math &lt;dbl&gt; | pv3math &lt;dbl&gt; | pv4math &lt;dbl&gt; | pv5math &lt;dbl&gt; | ⋯ ⋯ | w_fsturwt72 &lt;dbl&gt; | w_fsturwt73 &lt;dbl&gt; | w_fsturwt74 &lt;dbl&gt; | w_fsturwt75 &lt;dbl&gt; | w_fsturwt76 &lt;dbl&gt; | w_fsturwt77 &lt;dbl&gt; | w_fsturwt78 &lt;dbl&gt; | w_fsturwt79 &lt;dbl&gt; | w_fsturwt80 &lt;dbl&gt; | w_fstuwt &lt;dbl&gt; |\n",
       "|---|---|---|---|---|---|---|---|---|---|---|---|---|---|---|---|---|---|---|---|---|---|\n",
       "| 1 | 20305448 | 20300001 | 480.1996 | 4.58468 | -0.0323 | 444.939 | 519.100 | 517.274 | 460.562 | 435.193 | ⋯ | 6.96348 | 6.94490 | 21.36235 | 21.29438 | 20.69771 | 21.13392 | 7.21359 | 20.70555 | 6.92955 | 14.04717 |\n",
       "| 2 | 20306303 | 20300001 | 480.1996 | 4.58468 |  0.3792 | 545.612 | 532.694 | 549.586 | 577.063 | 558.176 | ⋯ | 7.07351 | 7.07351 | 21.22052 | 21.22052 | 21.22052 | 21.22052 | 7.07351 | 21.22052 | 7.07351 | 14.14701 |\n",
       "| 3 | 20301481 | 20300001 | 480.1996 | 4.58468 | -1.4330 | 579.260 | 551.230 | 542.779 | 511.371 | 560.627 | ⋯ | 7.07351 | 7.07351 | 21.22052 | 21.22052 | 21.22052 | 21.22052 | 7.07351 | 21.22052 | 7.07351 | 14.14701 |\n",
       "| 4 | 20307054 | 20300001 | 480.1996 | 4.58468 | -0.0494 | 408.832 | 530.820 | 442.457 | 478.312 | 497.864 | ⋯ | 7.07351 | 7.07351 | 21.22052 | 21.22052 | 21.22052 | 21.22052 | 7.07351 | 21.22052 | 7.07351 | 14.14701 |\n",
       "| 5 | 20306741 | 20300001 | 480.1996 | 4.58468 |  0.5287 | 630.666 | 571.289 | 653.830 | 536.718 | 622.360 | ⋯ | 7.07351 | 7.07351 | 21.22052 | 21.22052 | 21.22052 | 21.22052 | 7.07351 | 21.22052 | 7.07351 | 14.14701 |\n",
       "| 6 | 20304495 | 20300001 | 480.1996 | 4.58468 | -0.4548 | 652.657 | 625.186 | 601.027 | 599.939 | 576.879 | ⋯ | 7.07351 | 7.07351 | 21.22052 | 21.22052 | 21.22052 | 21.22052 | 7.07351 | 21.22052 | 7.07351 | 14.14701 |\n",
       "\n"
      ],
      "text/plain": [
       "  cntstuid cntschid w_fstuwt_sch_sum w_schgrnrabwt escs    pv1math pv2math\n",
       "1 20305448 20300001 480.1996         4.58468       -0.0323 444.939 519.100\n",
       "2 20306303 20300001 480.1996         4.58468        0.3792 545.612 532.694\n",
       "3 20301481 20300001 480.1996         4.58468       -1.4330 579.260 551.230\n",
       "4 20307054 20300001 480.1996         4.58468       -0.0494 408.832 530.820\n",
       "5 20306741 20300001 480.1996         4.58468        0.5287 630.666 571.289\n",
       "6 20304495 20300001 480.1996         4.58468       -0.4548 652.657 625.186\n",
       "  pv3math pv4math pv5math ⋯ w_fsturwt72 w_fsturwt73 w_fsturwt74 w_fsturwt75\n",
       "1 517.274 460.562 435.193 ⋯ 6.96348     6.94490     21.36235    21.29438   \n",
       "2 549.586 577.063 558.176 ⋯ 7.07351     7.07351     21.22052    21.22052   \n",
       "3 542.779 511.371 560.627 ⋯ 7.07351     7.07351     21.22052    21.22052   \n",
       "4 442.457 478.312 497.864 ⋯ 7.07351     7.07351     21.22052    21.22052   \n",
       "5 653.830 536.718 622.360 ⋯ 7.07351     7.07351     21.22052    21.22052   \n",
       "6 601.027 599.939 576.879 ⋯ 7.07351     7.07351     21.22052    21.22052   \n",
       "  w_fsturwt76 w_fsturwt77 w_fsturwt78 w_fsturwt79 w_fsturwt80 w_fstuwt\n",
       "1 20.69771    21.13392    7.21359     20.70555    6.92955     14.04717\n",
       "2 21.22052    21.22052    7.07351     21.22052    7.07351     14.14701\n",
       "3 21.22052    21.22052    7.07351     21.22052    7.07351     14.14701\n",
       "4 21.22052    21.22052    7.07351     21.22052    7.07351     14.14701\n",
       "5 21.22052    21.22052    7.07351     21.22052    7.07351     14.14701\n",
       "6 21.22052    21.22052    7.07351     21.22052    7.07351     14.14701"
      ]
     },
     "metadata": {},
     "output_type": "display_data"
    }
   ],
   "source": [
    "head(df)"
   ]
  },
  {
   "cell_type": "code",
   "execution_count": 13,
   "id": "b0218fc4-af7e-4209-8a0d-e81121c30823",
   "metadata": {},
   "outputs": [],
   "source": [
    "dfr <- read.csv('temp/pisa18_r.csv')"
   ]
  },
  {
   "cell_type": "code",
   "execution_count": 14,
   "id": "8a924ec9-3d8d-47e4-b944-6d2754ccdf0d",
   "metadata": {},
   "outputs": [],
   "source": [
    "dfr$to_keep <- as.logical(dfr$to_keep)\n",
    "dfr$girl <- as.double(as.logical(dfr$girl))"
   ]
  },
  {
   "cell_type": "code",
   "execution_count": 15,
   "id": "10a9f288-9f76-409c-8da3-7a0bda162bc0",
   "metadata": {},
   "outputs": [
    {
     "data": {
      "text/html": [
       "<table class=\"dataframe\">\n",
       "<caption>A data.frame: 6 × 13</caption>\n",
       "<thead>\n",
       "\t<tr><th></th><th scope=col>cntstuid</th><th scope=col>to_keep</th><th scope=col>gr</th><th scope=col>girl</th><th scope=col>sch_type</th><th scope=col>reg</th><th scope=col>gr_matematika</th><th scope=col>gr_ceskyjazyk</th><th scope=col>gr_cizijazyk</th><th scope=col>gr_fyzika</th><th scope=col>gr_chemie</th><th scope=col>gr_prirodopis</th><th scope=col>gr_zemepis</th></tr>\n",
       "\t<tr><th></th><th scope=col>&lt;int&gt;</th><th scope=col>&lt;lgl&gt;</th><th scope=col>&lt;dbl&gt;</th><th scope=col>&lt;dbl&gt;</th><th scope=col>&lt;chr&gt;</th><th scope=col>&lt;chr&gt;</th><th scope=col>&lt;dbl&gt;</th><th scope=col>&lt;dbl&gt;</th><th scope=col>&lt;dbl&gt;</th><th scope=col>&lt;dbl&gt;</th><th scope=col>&lt;dbl&gt;</th><th scope=col>&lt;dbl&gt;</th><th scope=col>&lt;dbl&gt;</th></tr>\n",
       "</thead>\n",
       "<tbody>\n",
       "\t<tr><th scope=row>1</th><td>20300001</td><td>FALSE</td><td>10</td><td>0</td><td>sos </td><td>   </td><td>4</td><td>3</td><td>1</td><td>3</td><td> 4</td><td>NA</td><td>NA</td></tr>\n",
       "\t<tr><th scope=row>2</th><td>20300002</td><td>FALSE</td><td>10</td><td>0</td><td>sou </td><td>   </td><td>5</td><td>2</td><td>2</td><td>3</td><td> 3</td><td>NA</td><td>NA</td></tr>\n",
       "\t<tr><th scope=row>3</th><td>20300003</td><td>FALSE</td><td>10</td><td>0</td><td>gym4</td><td>   </td><td>2</td><td>1</td><td>2</td><td>1</td><td> 2</td><td> 1</td><td> 1</td></tr>\n",
       "\t<tr><th scope=row>4</th><td>20300004</td><td> TRUE</td><td> 9</td><td>0</td><td>zs  </td><td>LBK</td><td>2</td><td>3</td><td>3</td><td>2</td><td> 2</td><td> 2</td><td> 1</td></tr>\n",
       "\t<tr><th scope=row>5</th><td>20300005</td><td>FALSE</td><td> 9</td><td>0</td><td>gym </td><td>VYS</td><td>5</td><td>3</td><td>2</td><td>1</td><td> 3</td><td> 2</td><td> 2</td></tr>\n",
       "\t<tr><th scope=row>6</th><td>20300006</td><td>FALSE</td><td>10</td><td>0</td><td>sou </td><td>   </td><td>2</td><td>3</td><td>2</td><td>3</td><td>NA</td><td> 1</td><td>NA</td></tr>\n",
       "</tbody>\n",
       "</table>\n"
      ],
      "text/latex": [
       "A data.frame: 6 × 13\n",
       "\\begin{tabular}{r|lllllllllllll}\n",
       "  & cntstuid & to\\_keep & gr & girl & sch\\_type & reg & gr\\_matematika & gr\\_ceskyjazyk & gr\\_cizijazyk & gr\\_fyzika & gr\\_chemie & gr\\_prirodopis & gr\\_zemepis\\\\\n",
       "  & <int> & <lgl> & <dbl> & <dbl> & <chr> & <chr> & <dbl> & <dbl> & <dbl> & <dbl> & <dbl> & <dbl> & <dbl>\\\\\n",
       "\\hline\n",
       "\t1 & 20300001 & FALSE & 10 & 0 & sos  &     & 4 & 3 & 1 & 3 &  4 & NA & NA\\\\\n",
       "\t2 & 20300002 & FALSE & 10 & 0 & sou  &     & 5 & 2 & 2 & 3 &  3 & NA & NA\\\\\n",
       "\t3 & 20300003 & FALSE & 10 & 0 & gym4 &     & 2 & 1 & 2 & 1 &  2 &  1 &  1\\\\\n",
       "\t4 & 20300004 &  TRUE &  9 & 0 & zs   & LBK & 2 & 3 & 3 & 2 &  2 &  2 &  1\\\\\n",
       "\t5 & 20300005 & FALSE &  9 & 0 & gym  & VYS & 5 & 3 & 2 & 1 &  3 &  2 &  2\\\\\n",
       "\t6 & 20300006 & FALSE & 10 & 0 & sou  &     & 2 & 3 & 2 & 3 & NA &  1 & NA\\\\\n",
       "\\end{tabular}\n"
      ],
      "text/markdown": [
       "\n",
       "A data.frame: 6 × 13\n",
       "\n",
       "| <!--/--> | cntstuid &lt;int&gt; | to_keep &lt;lgl&gt; | gr &lt;dbl&gt; | girl &lt;dbl&gt; | sch_type &lt;chr&gt; | reg &lt;chr&gt; | gr_matematika &lt;dbl&gt; | gr_ceskyjazyk &lt;dbl&gt; | gr_cizijazyk &lt;dbl&gt; | gr_fyzika &lt;dbl&gt; | gr_chemie &lt;dbl&gt; | gr_prirodopis &lt;dbl&gt; | gr_zemepis &lt;dbl&gt; |\n",
       "|---|---|---|---|---|---|---|---|---|---|---|---|---|---|\n",
       "| 1 | 20300001 | FALSE | 10 | 0 | sos  | <!----> | 4 | 3 | 1 | 3 |  4 | NA | NA |\n",
       "| 2 | 20300002 | FALSE | 10 | 0 | sou  | <!----> | 5 | 2 | 2 | 3 |  3 | NA | NA |\n",
       "| 3 | 20300003 | FALSE | 10 | 0 | gym4 | <!----> | 2 | 1 | 2 | 1 |  2 |  1 |  1 |\n",
       "| 4 | 20300004 |  TRUE |  9 | 0 | zs   | LBK | 2 | 3 | 3 | 2 |  2 |  2 |  1 |\n",
       "| 5 | 20300005 | FALSE |  9 | 0 | gym  | VYS | 5 | 3 | 2 | 1 |  3 |  2 |  2 |\n",
       "| 6 | 20300006 | FALSE | 10 | 0 | sou  | <!----> | 2 | 3 | 2 | 3 | NA |  1 | NA |\n",
       "\n"
      ],
      "text/plain": [
       "  cntstuid to_keep gr girl sch_type reg gr_matematika gr_ceskyjazyk\n",
       "1 20300001 FALSE   10 0    sos          4             3            \n",
       "2 20300002 FALSE   10 0    sou          5             2            \n",
       "3 20300003 FALSE   10 0    gym4         2             1            \n",
       "4 20300004  TRUE    9 0    zs       LBK 2             3            \n",
       "5 20300005 FALSE    9 0    gym      VYS 5             3            \n",
       "6 20300006 FALSE   10 0    sou          2             3            \n",
       "  gr_cizijazyk gr_fyzika gr_chemie gr_prirodopis gr_zemepis\n",
       "1 1            3          4        NA            NA        \n",
       "2 2            3          3        NA            NA        \n",
       "3 2            1          2         1             1        \n",
       "4 3            2          2         2             1        \n",
       "5 2            1          3         2             2        \n",
       "6 2            3         NA         1            NA        "
      ]
     },
     "metadata": {},
     "output_type": "display_data"
    }
   ],
   "source": [
    "head(dfr)"
   ]
  },
  {
   "cell_type": "code",
   "execution_count": 16,
   "id": "bc3c2d9c-1a01-495c-a2f7-40dc10ea8fad",
   "metadata": {},
   "outputs": [],
   "source": [
    "dfall1 = merge(df, dfr, by='cntstuid')"
   ]
  },
  {
   "cell_type": "code",
   "execution_count": 17,
   "id": "5f5cc555-5781-4455-830c-9d83c043918c",
   "metadata": {},
   "outputs": [
    {
     "data": {
      "text/html": [
       "<table class=\"dataframe\">\n",
       "<caption>A data.frame: 6 × 128</caption>\n",
       "<thead>\n",
       "\t<tr><th></th><th scope=col>cntstuid</th><th scope=col>cntschid</th><th scope=col>w_fstuwt_sch_sum</th><th scope=col>w_schgrnrabwt</th><th scope=col>escs</th><th scope=col>pv1math</th><th scope=col>pv2math</th><th scope=col>pv3math</th><th scope=col>pv4math</th><th scope=col>pv5math</th><th scope=col>⋯</th><th scope=col>girl</th><th scope=col>sch_type</th><th scope=col>reg</th><th scope=col>gr_matematika</th><th scope=col>gr_ceskyjazyk</th><th scope=col>gr_cizijazyk</th><th scope=col>gr_fyzika</th><th scope=col>gr_chemie</th><th scope=col>gr_prirodopis</th><th scope=col>gr_zemepis</th></tr>\n",
       "\t<tr><th></th><th scope=col>&lt;int&gt;</th><th scope=col>&lt;int&gt;</th><th scope=col>&lt;dbl&gt;</th><th scope=col>&lt;dbl&gt;</th><th scope=col>&lt;dbl&gt;</th><th scope=col>&lt;dbl&gt;</th><th scope=col>&lt;dbl&gt;</th><th scope=col>&lt;dbl&gt;</th><th scope=col>&lt;dbl&gt;</th><th scope=col>&lt;dbl&gt;</th><th scope=col>⋯</th><th scope=col>&lt;dbl&gt;</th><th scope=col>&lt;chr&gt;</th><th scope=col>&lt;chr&gt;</th><th scope=col>&lt;dbl&gt;</th><th scope=col>&lt;dbl&gt;</th><th scope=col>&lt;dbl&gt;</th><th scope=col>&lt;dbl&gt;</th><th scope=col>&lt;dbl&gt;</th><th scope=col>&lt;dbl&gt;</th><th scope=col>&lt;dbl&gt;</th></tr>\n",
       "</thead>\n",
       "<tbody>\n",
       "\t<tr><th scope=row>1</th><td>20300001</td><td>20300228</td><td>347.61709</td><td>10.52392</td><td>-0.4348</td><td>555.846</td><td>480.724</td><td>490.465</td><td>512.846</td><td>520.996</td><td>⋯</td><td>0</td><td>sos </td><td>   </td><td>4</td><td>3</td><td>1</td><td>3</td><td> 4</td><td>NA</td><td>NA</td></tr>\n",
       "\t<tr><th scope=row>2</th><td>20300002</td><td>20300238</td><td> 60.42496</td><td>12.47580</td><td>-1.0793</td><td>387.224</td><td>396.351</td><td>415.541</td><td>476.688</td><td>464.081</td><td>⋯</td><td>0</td><td>sou </td><td>   </td><td>5</td><td>2</td><td>2</td><td>3</td><td> 3</td><td>NA</td><td>NA</td></tr>\n",
       "\t<tr><th scope=row>3</th><td>20300003</td><td>20300211</td><td>120.98717</td><td> 6.17729</td><td> 0.6770</td><td>683.703</td><td>608.639</td><td>681.749</td><td>602.769</td><td>669.194</td><td>⋯</td><td>0</td><td>gym4</td><td>   </td><td>2</td><td>1</td><td>2</td><td>1</td><td> 2</td><td> 1</td><td> 1</td></tr>\n",
       "\t<tr><th scope=row>4</th><td>20300004</td><td>20300080</td><td>316.85779</td><td>22.01021</td><td>-1.9476</td><td>400.912</td><td>408.581</td><td>363.288</td><td>346.352</td><td>329.641</td><td>⋯</td><td>0</td><td>zs  </td><td>LBK</td><td>2</td><td>3</td><td>3</td><td>2</td><td> 2</td><td> 2</td><td> 1</td></tr>\n",
       "\t<tr><th scope=row>5</th><td>20300005</td><td>20300127</td><td> 98.79969</td><td> 4.06786</td><td>-0.1955</td><td>559.856</td><td>529.630</td><td>542.214</td><td>538.468</td><td>555.868</td><td>⋯</td><td>0</td><td>gym </td><td>VYS</td><td>5</td><td>3</td><td>2</td><td>1</td><td> 3</td><td> 2</td><td> 2</td></tr>\n",
       "\t<tr><th scope=row>6</th><td>20300006</td><td>20300096</td><td>214.96763</td><td>12.47580</td><td>-1.0292</td><td>344.651</td><td>344.219</td><td>347.269</td><td>371.802</td><td>365.934</td><td>⋯</td><td>0</td><td>sou </td><td>   </td><td>2</td><td>3</td><td>2</td><td>3</td><td>NA</td><td> 1</td><td>NA</td></tr>\n",
       "</tbody>\n",
       "</table>\n"
      ],
      "text/latex": [
       "A data.frame: 6 × 128\n",
       "\\begin{tabular}{r|lllllllllllllllllllll}\n",
       "  & cntstuid & cntschid & w\\_fstuwt\\_sch\\_sum & w\\_schgrnrabwt & escs & pv1math & pv2math & pv3math & pv4math & pv5math & ⋯ & girl & sch\\_type & reg & gr\\_matematika & gr\\_ceskyjazyk & gr\\_cizijazyk & gr\\_fyzika & gr\\_chemie & gr\\_prirodopis & gr\\_zemepis\\\\\n",
       "  & <int> & <int> & <dbl> & <dbl> & <dbl> & <dbl> & <dbl> & <dbl> & <dbl> & <dbl> & ⋯ & <dbl> & <chr> & <chr> & <dbl> & <dbl> & <dbl> & <dbl> & <dbl> & <dbl> & <dbl>\\\\\n",
       "\\hline\n",
       "\t1 & 20300001 & 20300228 & 347.61709 & 10.52392 & -0.4348 & 555.846 & 480.724 & 490.465 & 512.846 & 520.996 & ⋯ & 0 & sos  &     & 4 & 3 & 1 & 3 &  4 & NA & NA\\\\\n",
       "\t2 & 20300002 & 20300238 &  60.42496 & 12.47580 & -1.0793 & 387.224 & 396.351 & 415.541 & 476.688 & 464.081 & ⋯ & 0 & sou  &     & 5 & 2 & 2 & 3 &  3 & NA & NA\\\\\n",
       "\t3 & 20300003 & 20300211 & 120.98717 &  6.17729 &  0.6770 & 683.703 & 608.639 & 681.749 & 602.769 & 669.194 & ⋯ & 0 & gym4 &     & 2 & 1 & 2 & 1 &  2 &  1 &  1\\\\\n",
       "\t4 & 20300004 & 20300080 & 316.85779 & 22.01021 & -1.9476 & 400.912 & 408.581 & 363.288 & 346.352 & 329.641 & ⋯ & 0 & zs   & LBK & 2 & 3 & 3 & 2 &  2 &  2 &  1\\\\\n",
       "\t5 & 20300005 & 20300127 &  98.79969 &  4.06786 & -0.1955 & 559.856 & 529.630 & 542.214 & 538.468 & 555.868 & ⋯ & 0 & gym  & VYS & 5 & 3 & 2 & 1 &  3 &  2 &  2\\\\\n",
       "\t6 & 20300006 & 20300096 & 214.96763 & 12.47580 & -1.0292 & 344.651 & 344.219 & 347.269 & 371.802 & 365.934 & ⋯ & 0 & sou  &     & 2 & 3 & 2 & 3 & NA &  1 & NA\\\\\n",
       "\\end{tabular}\n"
      ],
      "text/markdown": [
       "\n",
       "A data.frame: 6 × 128\n",
       "\n",
       "| <!--/--> | cntstuid &lt;int&gt; | cntschid &lt;int&gt; | w_fstuwt_sch_sum &lt;dbl&gt; | w_schgrnrabwt &lt;dbl&gt; | escs &lt;dbl&gt; | pv1math &lt;dbl&gt; | pv2math &lt;dbl&gt; | pv3math &lt;dbl&gt; | pv4math &lt;dbl&gt; | pv5math &lt;dbl&gt; | ⋯ ⋯ | girl &lt;dbl&gt; | sch_type &lt;chr&gt; | reg &lt;chr&gt; | gr_matematika &lt;dbl&gt; | gr_ceskyjazyk &lt;dbl&gt; | gr_cizijazyk &lt;dbl&gt; | gr_fyzika &lt;dbl&gt; | gr_chemie &lt;dbl&gt; | gr_prirodopis &lt;dbl&gt; | gr_zemepis &lt;dbl&gt; |\n",
       "|---|---|---|---|---|---|---|---|---|---|---|---|---|---|---|---|---|---|---|---|---|---|\n",
       "| 1 | 20300001 | 20300228 | 347.61709 | 10.52392 | -0.4348 | 555.846 | 480.724 | 490.465 | 512.846 | 520.996 | ⋯ | 0 | sos  | <!----> | 4 | 3 | 1 | 3 |  4 | NA | NA |\n",
       "| 2 | 20300002 | 20300238 |  60.42496 | 12.47580 | -1.0793 | 387.224 | 396.351 | 415.541 | 476.688 | 464.081 | ⋯ | 0 | sou  | <!----> | 5 | 2 | 2 | 3 |  3 | NA | NA |\n",
       "| 3 | 20300003 | 20300211 | 120.98717 |  6.17729 |  0.6770 | 683.703 | 608.639 | 681.749 | 602.769 | 669.194 | ⋯ | 0 | gym4 | <!----> | 2 | 1 | 2 | 1 |  2 |  1 |  1 |\n",
       "| 4 | 20300004 | 20300080 | 316.85779 | 22.01021 | -1.9476 | 400.912 | 408.581 | 363.288 | 346.352 | 329.641 | ⋯ | 0 | zs   | LBK | 2 | 3 | 3 | 2 |  2 |  2 |  1 |\n",
       "| 5 | 20300005 | 20300127 |  98.79969 |  4.06786 | -0.1955 | 559.856 | 529.630 | 542.214 | 538.468 | 555.868 | ⋯ | 0 | gym  | VYS | 5 | 3 | 2 | 1 |  3 |  2 |  2 |\n",
       "| 6 | 20300006 | 20300096 | 214.96763 | 12.47580 | -1.0292 | 344.651 | 344.219 | 347.269 | 371.802 | 365.934 | ⋯ | 0 | sou  | <!----> | 2 | 3 | 2 | 3 | NA |  1 | NA |\n",
       "\n"
      ],
      "text/plain": [
       "  cntstuid cntschid w_fstuwt_sch_sum w_schgrnrabwt escs    pv1math pv2math\n",
       "1 20300001 20300228 347.61709        10.52392      -0.4348 555.846 480.724\n",
       "2 20300002 20300238  60.42496        12.47580      -1.0793 387.224 396.351\n",
       "3 20300003 20300211 120.98717         6.17729       0.6770 683.703 608.639\n",
       "4 20300004 20300080 316.85779        22.01021      -1.9476 400.912 408.581\n",
       "5 20300005 20300127  98.79969         4.06786      -0.1955 559.856 529.630\n",
       "6 20300006 20300096 214.96763        12.47580      -1.0292 344.651 344.219\n",
       "  pv3math pv4math pv5math ⋯ girl sch_type reg gr_matematika gr_ceskyjazyk\n",
       "1 490.465 512.846 520.996 ⋯ 0    sos          4             3            \n",
       "2 415.541 476.688 464.081 ⋯ 0    sou          5             2            \n",
       "3 681.749 602.769 669.194 ⋯ 0    gym4         2             1            \n",
       "4 363.288 346.352 329.641 ⋯ 0    zs       LBK 2             3            \n",
       "5 542.214 538.468 555.868 ⋯ 0    gym      VYS 5             3            \n",
       "6 347.269 371.802 365.934 ⋯ 0    sou          2             3            \n",
       "  gr_cizijazyk gr_fyzika gr_chemie gr_prirodopis gr_zemepis\n",
       "1 1            3          4        NA            NA        \n",
       "2 2            3          3        NA            NA        \n",
       "3 2            1          2         1             1        \n",
       "4 3            2          2         2             1        \n",
       "5 2            1          3         2             2        \n",
       "6 2            3         NA         1            NA        "
      ]
     },
     "metadata": {},
     "output_type": "display_data"
    }
   ],
   "source": [
    "head(dfall1)"
   ]
  },
  {
   "cell_type": "code",
   "execution_count": 18,
   "id": "fc84a863-65d3-451f-9071-62e8ca35f9d0",
   "metadata": {},
   "outputs": [],
   "source": [
    "schall1 <- dfall1 %>% filter(!is.na(gr_matematika)) %>% group_by(cntschid) %>% summarise(w_schgrnrabwt = mean(w_schgrnrabwt), n = n())"
   ]
  },
  {
   "cell_type": "code",
   "execution_count": 19,
   "id": "aca86f88-c24a-49aa-8447-16eac3ad107c",
   "metadata": {},
   "outputs": [],
   "source": [
    "schall1$w_schwt_norm <- schall1$w_schgrnrabwt * nrow(schall1) / sum(schall1$w_schgrnrabwt)"
   ]
  },
  {
   "cell_type": "code",
   "execution_count": 20,
   "id": "ed31fbc4-8020-4995-9411-9d20dcc485d6",
   "metadata": {},
   "outputs": [],
   "source": [
    "schall1$w_schgrnrabwt <- NULL"
   ]
  },
  {
   "cell_type": "code",
   "execution_count": 21,
   "id": "1e3cef87-1443-4968-823b-571516218f3c",
   "metadata": {},
   "outputs": [],
   "source": [
    "dfall = merge(dfall1, schall1, by='cntschid', all=TRUE)"
   ]
  },
  {
   "cell_type": "code",
   "execution_count": 22,
   "id": "671d402a-b840-402a-a7c3-d39aa70e96a7",
   "metadata": {},
   "outputs": [
    {
     "data": {
      "text/html": [
       "<table class=\"dataframe\">\n",
       "<caption>A data.frame: 6 × 130</caption>\n",
       "<thead>\n",
       "\t<tr><th></th><th scope=col>cntschid</th><th scope=col>cntstuid</th><th scope=col>w_fstuwt_sch_sum</th><th scope=col>w_schgrnrabwt</th><th scope=col>escs</th><th scope=col>pv1math</th><th scope=col>pv2math</th><th scope=col>pv3math</th><th scope=col>pv4math</th><th scope=col>pv5math</th><th scope=col>⋯</th><th scope=col>reg</th><th scope=col>gr_matematika</th><th scope=col>gr_ceskyjazyk</th><th scope=col>gr_cizijazyk</th><th scope=col>gr_fyzika</th><th scope=col>gr_chemie</th><th scope=col>gr_prirodopis</th><th scope=col>gr_zemepis</th><th scope=col>n</th><th scope=col>w_schwt_norm</th></tr>\n",
       "\t<tr><th></th><th scope=col>&lt;int&gt;</th><th scope=col>&lt;int&gt;</th><th scope=col>&lt;dbl&gt;</th><th scope=col>&lt;dbl&gt;</th><th scope=col>&lt;dbl&gt;</th><th scope=col>&lt;dbl&gt;</th><th scope=col>&lt;dbl&gt;</th><th scope=col>&lt;dbl&gt;</th><th scope=col>&lt;dbl&gt;</th><th scope=col>&lt;dbl&gt;</th><th scope=col>⋯</th><th scope=col>&lt;chr&gt;</th><th scope=col>&lt;dbl&gt;</th><th scope=col>&lt;dbl&gt;</th><th scope=col>&lt;dbl&gt;</th><th scope=col>&lt;dbl&gt;</th><th scope=col>&lt;dbl&gt;</th><th scope=col>&lt;dbl&gt;</th><th scope=col>&lt;dbl&gt;</th><th scope=col>&lt;int&gt;</th><th scope=col>&lt;dbl&gt;</th></tr>\n",
       "</thead>\n",
       "<tbody>\n",
       "\t<tr><th scope=row>1</th><td>20300001</td><td>20305448</td><td>480.1996</td><td>4.58468</td><td>-0.0323</td><td>444.939</td><td>519.100</td><td>517.274</td><td>460.562</td><td>435.193</td><td>⋯</td><td></td><td>4</td><td>2</td><td>3</td><td>3</td><td>3</td><td>NA</td><td> 2</td><td>32</td><td>0.370565</td></tr>\n",
       "\t<tr><th scope=row>2</th><td>20300001</td><td>20307592</td><td>480.1996</td><td>4.58468</td><td> 1.2537</td><td>628.543</td><td>655.678</td><td>641.547</td><td>640.243</td><td>685.596</td><td>⋯</td><td></td><td>4</td><td>4</td><td>1</td><td>2</td><td>2</td><td>NA</td><td>NA</td><td>32</td><td>0.370565</td></tr>\n",
       "\t<tr><th scope=row>3</th><td>20300001</td><td>20306303</td><td>480.1996</td><td>4.58468</td><td> 0.3792</td><td>545.612</td><td>532.694</td><td>549.586</td><td>577.063</td><td>558.176</td><td>⋯</td><td></td><td>5</td><td>1</td><td>2</td><td>1</td><td>1</td><td>NA</td><td>NA</td><td>32</td><td>0.370565</td></tr>\n",
       "\t<tr><th scope=row>4</th><td>20300001</td><td>20300696</td><td>480.1996</td><td>4.58468</td><td> 0.7895</td><td>587.654</td><td>638.306</td><td>599.610</td><td>591.750</td><td>606.197</td><td>⋯</td><td></td><td>4</td><td>4</td><td>2</td><td>3</td><td>1</td><td> 3</td><td>NA</td><td>32</td><td>0.370565</td></tr>\n",
       "\t<tr><th scope=row>5</th><td>20300001</td><td>20306775</td><td>480.1996</td><td>4.58468</td><td>-0.8975</td><td>586.817</td><td>649.771</td><td>684.948</td><td>606.826</td><td>692.791</td><td>⋯</td><td></td><td>2</td><td>1</td><td>2</td><td>1</td><td>1</td><td>NA</td><td>NA</td><td>32</td><td>0.370565</td></tr>\n",
       "\t<tr><th scope=row>6</th><td>20300001</td><td>20300105</td><td>480.1996</td><td>4.58468</td><td> 0.1950</td><td>554.640</td><td>540.376</td><td>599.626</td><td>565.301</td><td>571.120</td><td>⋯</td><td></td><td>5</td><td>3</td><td>1</td><td>2</td><td>3</td><td>NA</td><td>NA</td><td>32</td><td>0.370565</td></tr>\n",
       "</tbody>\n",
       "</table>\n"
      ],
      "text/latex": [
       "A data.frame: 6 × 130\n",
       "\\begin{tabular}{r|lllllllllllllllllllll}\n",
       "  & cntschid & cntstuid & w\\_fstuwt\\_sch\\_sum & w\\_schgrnrabwt & escs & pv1math & pv2math & pv3math & pv4math & pv5math & ⋯ & reg & gr\\_matematika & gr\\_ceskyjazyk & gr\\_cizijazyk & gr\\_fyzika & gr\\_chemie & gr\\_prirodopis & gr\\_zemepis & n & w\\_schwt\\_norm\\\\\n",
       "  & <int> & <int> & <dbl> & <dbl> & <dbl> & <dbl> & <dbl> & <dbl> & <dbl> & <dbl> & ⋯ & <chr> & <dbl> & <dbl> & <dbl> & <dbl> & <dbl> & <dbl> & <dbl> & <int> & <dbl>\\\\\n",
       "\\hline\n",
       "\t1 & 20300001 & 20305448 & 480.1996 & 4.58468 & -0.0323 & 444.939 & 519.100 & 517.274 & 460.562 & 435.193 & ⋯ &  & 4 & 2 & 3 & 3 & 3 & NA &  2 & 32 & 0.370565\\\\\n",
       "\t2 & 20300001 & 20307592 & 480.1996 & 4.58468 &  1.2537 & 628.543 & 655.678 & 641.547 & 640.243 & 685.596 & ⋯ &  & 4 & 4 & 1 & 2 & 2 & NA & NA & 32 & 0.370565\\\\\n",
       "\t3 & 20300001 & 20306303 & 480.1996 & 4.58468 &  0.3792 & 545.612 & 532.694 & 549.586 & 577.063 & 558.176 & ⋯ &  & 5 & 1 & 2 & 1 & 1 & NA & NA & 32 & 0.370565\\\\\n",
       "\t4 & 20300001 & 20300696 & 480.1996 & 4.58468 &  0.7895 & 587.654 & 638.306 & 599.610 & 591.750 & 606.197 & ⋯ &  & 4 & 4 & 2 & 3 & 1 &  3 & NA & 32 & 0.370565\\\\\n",
       "\t5 & 20300001 & 20306775 & 480.1996 & 4.58468 & -0.8975 & 586.817 & 649.771 & 684.948 & 606.826 & 692.791 & ⋯ &  & 2 & 1 & 2 & 1 & 1 & NA & NA & 32 & 0.370565\\\\\n",
       "\t6 & 20300001 & 20300105 & 480.1996 & 4.58468 &  0.1950 & 554.640 & 540.376 & 599.626 & 565.301 & 571.120 & ⋯ &  & 5 & 3 & 1 & 2 & 3 & NA & NA & 32 & 0.370565\\\\\n",
       "\\end{tabular}\n"
      ],
      "text/markdown": [
       "\n",
       "A data.frame: 6 × 130\n",
       "\n",
       "| <!--/--> | cntschid &lt;int&gt; | cntstuid &lt;int&gt; | w_fstuwt_sch_sum &lt;dbl&gt; | w_schgrnrabwt &lt;dbl&gt; | escs &lt;dbl&gt; | pv1math &lt;dbl&gt; | pv2math &lt;dbl&gt; | pv3math &lt;dbl&gt; | pv4math &lt;dbl&gt; | pv5math &lt;dbl&gt; | ⋯ ⋯ | reg &lt;chr&gt; | gr_matematika &lt;dbl&gt; | gr_ceskyjazyk &lt;dbl&gt; | gr_cizijazyk &lt;dbl&gt; | gr_fyzika &lt;dbl&gt; | gr_chemie &lt;dbl&gt; | gr_prirodopis &lt;dbl&gt; | gr_zemepis &lt;dbl&gt; | n &lt;int&gt; | w_schwt_norm &lt;dbl&gt; |\n",
       "|---|---|---|---|---|---|---|---|---|---|---|---|---|---|---|---|---|---|---|---|---|---|\n",
       "| 1 | 20300001 | 20305448 | 480.1996 | 4.58468 | -0.0323 | 444.939 | 519.100 | 517.274 | 460.562 | 435.193 | ⋯ | <!----> | 4 | 2 | 3 | 3 | 3 | NA |  2 | 32 | 0.370565 |\n",
       "| 2 | 20300001 | 20307592 | 480.1996 | 4.58468 |  1.2537 | 628.543 | 655.678 | 641.547 | 640.243 | 685.596 | ⋯ | <!----> | 4 | 4 | 1 | 2 | 2 | NA | NA | 32 | 0.370565 |\n",
       "| 3 | 20300001 | 20306303 | 480.1996 | 4.58468 |  0.3792 | 545.612 | 532.694 | 549.586 | 577.063 | 558.176 | ⋯ | <!----> | 5 | 1 | 2 | 1 | 1 | NA | NA | 32 | 0.370565 |\n",
       "| 4 | 20300001 | 20300696 | 480.1996 | 4.58468 |  0.7895 | 587.654 | 638.306 | 599.610 | 591.750 | 606.197 | ⋯ | <!----> | 4 | 4 | 2 | 3 | 1 |  3 | NA | 32 | 0.370565 |\n",
       "| 5 | 20300001 | 20306775 | 480.1996 | 4.58468 | -0.8975 | 586.817 | 649.771 | 684.948 | 606.826 | 692.791 | ⋯ | <!----> | 2 | 1 | 2 | 1 | 1 | NA | NA | 32 | 0.370565 |\n",
       "| 6 | 20300001 | 20300105 | 480.1996 | 4.58468 |  0.1950 | 554.640 | 540.376 | 599.626 | 565.301 | 571.120 | ⋯ | <!----> | 5 | 3 | 1 | 2 | 3 | NA | NA | 32 | 0.370565 |\n",
       "\n"
      ],
      "text/plain": [
       "  cntschid cntstuid w_fstuwt_sch_sum w_schgrnrabwt escs    pv1math pv2math\n",
       "1 20300001 20305448 480.1996         4.58468       -0.0323 444.939 519.100\n",
       "2 20300001 20307592 480.1996         4.58468        1.2537 628.543 655.678\n",
       "3 20300001 20306303 480.1996         4.58468        0.3792 545.612 532.694\n",
       "4 20300001 20300696 480.1996         4.58468        0.7895 587.654 638.306\n",
       "5 20300001 20306775 480.1996         4.58468       -0.8975 586.817 649.771\n",
       "6 20300001 20300105 480.1996         4.58468        0.1950 554.640 540.376\n",
       "  pv3math pv4math pv5math ⋯ reg gr_matematika gr_ceskyjazyk gr_cizijazyk\n",
       "1 517.274 460.562 435.193 ⋯     4             2             3           \n",
       "2 641.547 640.243 685.596 ⋯     4             4             1           \n",
       "3 549.586 577.063 558.176 ⋯     5             1             2           \n",
       "4 599.610 591.750 606.197 ⋯     4             4             2           \n",
       "5 684.948 606.826 692.791 ⋯     2             1             2           \n",
       "6 599.626 565.301 571.120 ⋯     5             3             1           \n",
       "  gr_fyzika gr_chemie gr_prirodopis gr_zemepis n  w_schwt_norm\n",
       "1 3         3         NA             2         32 0.370565    \n",
       "2 2         2         NA            NA         32 0.370565    \n",
       "3 1         1         NA            NA         32 0.370565    \n",
       "4 3         1          3            NA         32 0.370565    \n",
       "5 1         1         NA            NA         32 0.370565    \n",
       "6 2         3         NA            NA         32 0.370565    "
      ]
     },
     "metadata": {},
     "output_type": "display_data"
    }
   ],
   "source": [
    "head(dfall)"
   ]
  },
  {
   "cell_type": "code",
   "execution_count": 23,
   "id": "1ae600fe-8649-4c82-bb01-c8064bef92da",
   "metadata": {},
   "outputs": [
    {
     "data": {
      "text/html": [
       "<style>\n",
       ".list-inline {list-style: none; margin:0; padding: 0}\n",
       ".list-inline>li {display: inline-block}\n",
       ".list-inline>li:not(:last-child)::after {content: \"\\00b7\"; padding: 0 .5ex}\n",
       "</style>\n",
       "<ol class=list-inline><li>'cntschid'</li><li>'cntstuid'</li><li>'w_fstuwt_sch_sum'</li><li>'w_schgrnrabwt'</li><li>'escs'</li><li>'pv1math'</li><li>'pv2math'</li><li>'pv3math'</li><li>'pv4math'</li><li>'pv5math'</li><li>'pv6math'</li><li>'pv7math'</li><li>'pv8math'</li><li>'pv9math'</li><li>'pv10math'</li><li>'pv1read'</li><li>'pv2read'</li><li>'pv3read'</li><li>'pv4read'</li><li>'pv5read'</li><li>'pv6read'</li><li>'pv7read'</li><li>'pv8read'</li><li>'pv9read'</li><li>'pv10read'</li><li>'pv1scie'</li><li>'pv2scie'</li><li>'pv3scie'</li><li>'pv4scie'</li><li>'pv5scie'</li><li>'pv6scie'</li><li>'pv7scie'</li><li>'pv8scie'</li><li>'pv9scie'</li><li>'pv10scie'</li><li>'w_fsturwt1'</li><li>'w_fsturwt2'</li><li>'w_fsturwt3'</li><li>'w_fsturwt4'</li><li>'w_fsturwt5'</li><li>'w_fsturwt6'</li><li>'w_fsturwt7'</li><li>'w_fsturwt8'</li><li>'w_fsturwt9'</li><li>'w_fsturwt10'</li><li>'w_fsturwt11'</li><li>'w_fsturwt12'</li><li>'w_fsturwt13'</li><li>'w_fsturwt14'</li><li>'w_fsturwt15'</li><li>'w_fsturwt16'</li><li>'w_fsturwt17'</li><li>'w_fsturwt18'</li><li>'w_fsturwt19'</li><li>'w_fsturwt20'</li><li>'w_fsturwt21'</li><li>'w_fsturwt22'</li><li>'w_fsturwt23'</li><li>'w_fsturwt24'</li><li>'w_fsturwt25'</li><li>'w_fsturwt26'</li><li>'w_fsturwt27'</li><li>'w_fsturwt28'</li><li>'w_fsturwt29'</li><li>'w_fsturwt30'</li><li>'w_fsturwt31'</li><li>'w_fsturwt32'</li><li>'w_fsturwt33'</li><li>'w_fsturwt34'</li><li>'w_fsturwt35'</li><li>'w_fsturwt36'</li><li>'w_fsturwt37'</li><li>'w_fsturwt38'</li><li>'w_fsturwt39'</li><li>'w_fsturwt40'</li><li>'w_fsturwt41'</li><li>'w_fsturwt42'</li><li>'w_fsturwt43'</li><li>'w_fsturwt44'</li><li>'w_fsturwt45'</li><li>'w_fsturwt46'</li><li>'w_fsturwt47'</li><li>'w_fsturwt48'</li><li>'w_fsturwt49'</li><li>'w_fsturwt50'</li><li>'w_fsturwt51'</li><li>'w_fsturwt52'</li><li>'w_fsturwt53'</li><li>'w_fsturwt54'</li><li>'w_fsturwt55'</li><li>'w_fsturwt56'</li><li>'w_fsturwt57'</li><li>'w_fsturwt58'</li><li>'w_fsturwt59'</li><li>'w_fsturwt60'</li><li>'w_fsturwt61'</li><li>'w_fsturwt62'</li><li>'w_fsturwt63'</li><li>'w_fsturwt64'</li><li>'w_fsturwt65'</li><li>'w_fsturwt66'</li><li>'w_fsturwt67'</li><li>'w_fsturwt68'</li><li>'w_fsturwt69'</li><li>'w_fsturwt70'</li><li>'w_fsturwt71'</li><li>'w_fsturwt72'</li><li>'w_fsturwt73'</li><li>'w_fsturwt74'</li><li>'w_fsturwt75'</li><li>'w_fsturwt76'</li><li>'w_fsturwt77'</li><li>'w_fsturwt78'</li><li>'w_fsturwt79'</li><li>'w_fsturwt80'</li><li>'w_fstuwt'</li><li>'to_keep'</li><li>'gr'</li><li>'girl'</li><li>'sch_type'</li><li>'reg'</li><li>'gr_matematika'</li><li>'gr_ceskyjazyk'</li><li>'gr_cizijazyk'</li><li>'gr_fyzika'</li><li>'gr_chemie'</li><li>'gr_prirodopis'</li><li>'gr_zemepis'</li><li>'n'</li><li>'w_schwt_norm'</li></ol>\n"
      ],
      "text/latex": [
       "\\begin{enumerate*}\n",
       "\\item 'cntschid'\n",
       "\\item 'cntstuid'\n",
       "\\item 'w\\_fstuwt\\_sch\\_sum'\n",
       "\\item 'w\\_schgrnrabwt'\n",
       "\\item 'escs'\n",
       "\\item 'pv1math'\n",
       "\\item 'pv2math'\n",
       "\\item 'pv3math'\n",
       "\\item 'pv4math'\n",
       "\\item 'pv5math'\n",
       "\\item 'pv6math'\n",
       "\\item 'pv7math'\n",
       "\\item 'pv8math'\n",
       "\\item 'pv9math'\n",
       "\\item 'pv10math'\n",
       "\\item 'pv1read'\n",
       "\\item 'pv2read'\n",
       "\\item 'pv3read'\n",
       "\\item 'pv4read'\n",
       "\\item 'pv5read'\n",
       "\\item 'pv6read'\n",
       "\\item 'pv7read'\n",
       "\\item 'pv8read'\n",
       "\\item 'pv9read'\n",
       "\\item 'pv10read'\n",
       "\\item 'pv1scie'\n",
       "\\item 'pv2scie'\n",
       "\\item 'pv3scie'\n",
       "\\item 'pv4scie'\n",
       "\\item 'pv5scie'\n",
       "\\item 'pv6scie'\n",
       "\\item 'pv7scie'\n",
       "\\item 'pv8scie'\n",
       "\\item 'pv9scie'\n",
       "\\item 'pv10scie'\n",
       "\\item 'w\\_fsturwt1'\n",
       "\\item 'w\\_fsturwt2'\n",
       "\\item 'w\\_fsturwt3'\n",
       "\\item 'w\\_fsturwt4'\n",
       "\\item 'w\\_fsturwt5'\n",
       "\\item 'w\\_fsturwt6'\n",
       "\\item 'w\\_fsturwt7'\n",
       "\\item 'w\\_fsturwt8'\n",
       "\\item 'w\\_fsturwt9'\n",
       "\\item 'w\\_fsturwt10'\n",
       "\\item 'w\\_fsturwt11'\n",
       "\\item 'w\\_fsturwt12'\n",
       "\\item 'w\\_fsturwt13'\n",
       "\\item 'w\\_fsturwt14'\n",
       "\\item 'w\\_fsturwt15'\n",
       "\\item 'w\\_fsturwt16'\n",
       "\\item 'w\\_fsturwt17'\n",
       "\\item 'w\\_fsturwt18'\n",
       "\\item 'w\\_fsturwt19'\n",
       "\\item 'w\\_fsturwt20'\n",
       "\\item 'w\\_fsturwt21'\n",
       "\\item 'w\\_fsturwt22'\n",
       "\\item 'w\\_fsturwt23'\n",
       "\\item 'w\\_fsturwt24'\n",
       "\\item 'w\\_fsturwt25'\n",
       "\\item 'w\\_fsturwt26'\n",
       "\\item 'w\\_fsturwt27'\n",
       "\\item 'w\\_fsturwt28'\n",
       "\\item 'w\\_fsturwt29'\n",
       "\\item 'w\\_fsturwt30'\n",
       "\\item 'w\\_fsturwt31'\n",
       "\\item 'w\\_fsturwt32'\n",
       "\\item 'w\\_fsturwt33'\n",
       "\\item 'w\\_fsturwt34'\n",
       "\\item 'w\\_fsturwt35'\n",
       "\\item 'w\\_fsturwt36'\n",
       "\\item 'w\\_fsturwt37'\n",
       "\\item 'w\\_fsturwt38'\n",
       "\\item 'w\\_fsturwt39'\n",
       "\\item 'w\\_fsturwt40'\n",
       "\\item 'w\\_fsturwt41'\n",
       "\\item 'w\\_fsturwt42'\n",
       "\\item 'w\\_fsturwt43'\n",
       "\\item 'w\\_fsturwt44'\n",
       "\\item 'w\\_fsturwt45'\n",
       "\\item 'w\\_fsturwt46'\n",
       "\\item 'w\\_fsturwt47'\n",
       "\\item 'w\\_fsturwt48'\n",
       "\\item 'w\\_fsturwt49'\n",
       "\\item 'w\\_fsturwt50'\n",
       "\\item 'w\\_fsturwt51'\n",
       "\\item 'w\\_fsturwt52'\n",
       "\\item 'w\\_fsturwt53'\n",
       "\\item 'w\\_fsturwt54'\n",
       "\\item 'w\\_fsturwt55'\n",
       "\\item 'w\\_fsturwt56'\n",
       "\\item 'w\\_fsturwt57'\n",
       "\\item 'w\\_fsturwt58'\n",
       "\\item 'w\\_fsturwt59'\n",
       "\\item 'w\\_fsturwt60'\n",
       "\\item 'w\\_fsturwt61'\n",
       "\\item 'w\\_fsturwt62'\n",
       "\\item 'w\\_fsturwt63'\n",
       "\\item 'w\\_fsturwt64'\n",
       "\\item 'w\\_fsturwt65'\n",
       "\\item 'w\\_fsturwt66'\n",
       "\\item 'w\\_fsturwt67'\n",
       "\\item 'w\\_fsturwt68'\n",
       "\\item 'w\\_fsturwt69'\n",
       "\\item 'w\\_fsturwt70'\n",
       "\\item 'w\\_fsturwt71'\n",
       "\\item 'w\\_fsturwt72'\n",
       "\\item 'w\\_fsturwt73'\n",
       "\\item 'w\\_fsturwt74'\n",
       "\\item 'w\\_fsturwt75'\n",
       "\\item 'w\\_fsturwt76'\n",
       "\\item 'w\\_fsturwt77'\n",
       "\\item 'w\\_fsturwt78'\n",
       "\\item 'w\\_fsturwt79'\n",
       "\\item 'w\\_fsturwt80'\n",
       "\\item 'w\\_fstuwt'\n",
       "\\item 'to\\_keep'\n",
       "\\item 'gr'\n",
       "\\item 'girl'\n",
       "\\item 'sch\\_type'\n",
       "\\item 'reg'\n",
       "\\item 'gr\\_matematika'\n",
       "\\item 'gr\\_ceskyjazyk'\n",
       "\\item 'gr\\_cizijazyk'\n",
       "\\item 'gr\\_fyzika'\n",
       "\\item 'gr\\_chemie'\n",
       "\\item 'gr\\_prirodopis'\n",
       "\\item 'gr\\_zemepis'\n",
       "\\item 'n'\n",
       "\\item 'w\\_schwt\\_norm'\n",
       "\\end{enumerate*}\n"
      ],
      "text/markdown": [
       "1. 'cntschid'\n",
       "2. 'cntstuid'\n",
       "3. 'w_fstuwt_sch_sum'\n",
       "4. 'w_schgrnrabwt'\n",
       "5. 'escs'\n",
       "6. 'pv1math'\n",
       "7. 'pv2math'\n",
       "8. 'pv3math'\n",
       "9. 'pv4math'\n",
       "10. 'pv5math'\n",
       "11. 'pv6math'\n",
       "12. 'pv7math'\n",
       "13. 'pv8math'\n",
       "14. 'pv9math'\n",
       "15. 'pv10math'\n",
       "16. 'pv1read'\n",
       "17. 'pv2read'\n",
       "18. 'pv3read'\n",
       "19. 'pv4read'\n",
       "20. 'pv5read'\n",
       "21. 'pv6read'\n",
       "22. 'pv7read'\n",
       "23. 'pv8read'\n",
       "24. 'pv9read'\n",
       "25. 'pv10read'\n",
       "26. 'pv1scie'\n",
       "27. 'pv2scie'\n",
       "28. 'pv3scie'\n",
       "29. 'pv4scie'\n",
       "30. 'pv5scie'\n",
       "31. 'pv6scie'\n",
       "32. 'pv7scie'\n",
       "33. 'pv8scie'\n",
       "34. 'pv9scie'\n",
       "35. 'pv10scie'\n",
       "36. 'w_fsturwt1'\n",
       "37. 'w_fsturwt2'\n",
       "38. 'w_fsturwt3'\n",
       "39. 'w_fsturwt4'\n",
       "40. 'w_fsturwt5'\n",
       "41. 'w_fsturwt6'\n",
       "42. 'w_fsturwt7'\n",
       "43. 'w_fsturwt8'\n",
       "44. 'w_fsturwt9'\n",
       "45. 'w_fsturwt10'\n",
       "46. 'w_fsturwt11'\n",
       "47. 'w_fsturwt12'\n",
       "48. 'w_fsturwt13'\n",
       "49. 'w_fsturwt14'\n",
       "50. 'w_fsturwt15'\n",
       "51. 'w_fsturwt16'\n",
       "52. 'w_fsturwt17'\n",
       "53. 'w_fsturwt18'\n",
       "54. 'w_fsturwt19'\n",
       "55. 'w_fsturwt20'\n",
       "56. 'w_fsturwt21'\n",
       "57. 'w_fsturwt22'\n",
       "58. 'w_fsturwt23'\n",
       "59. 'w_fsturwt24'\n",
       "60. 'w_fsturwt25'\n",
       "61. 'w_fsturwt26'\n",
       "62. 'w_fsturwt27'\n",
       "63. 'w_fsturwt28'\n",
       "64. 'w_fsturwt29'\n",
       "65. 'w_fsturwt30'\n",
       "66. 'w_fsturwt31'\n",
       "67. 'w_fsturwt32'\n",
       "68. 'w_fsturwt33'\n",
       "69. 'w_fsturwt34'\n",
       "70. 'w_fsturwt35'\n",
       "71. 'w_fsturwt36'\n",
       "72. 'w_fsturwt37'\n",
       "73. 'w_fsturwt38'\n",
       "74. 'w_fsturwt39'\n",
       "75. 'w_fsturwt40'\n",
       "76. 'w_fsturwt41'\n",
       "77. 'w_fsturwt42'\n",
       "78. 'w_fsturwt43'\n",
       "79. 'w_fsturwt44'\n",
       "80. 'w_fsturwt45'\n",
       "81. 'w_fsturwt46'\n",
       "82. 'w_fsturwt47'\n",
       "83. 'w_fsturwt48'\n",
       "84. 'w_fsturwt49'\n",
       "85. 'w_fsturwt50'\n",
       "86. 'w_fsturwt51'\n",
       "87. 'w_fsturwt52'\n",
       "88. 'w_fsturwt53'\n",
       "89. 'w_fsturwt54'\n",
       "90. 'w_fsturwt55'\n",
       "91. 'w_fsturwt56'\n",
       "92. 'w_fsturwt57'\n",
       "93. 'w_fsturwt58'\n",
       "94. 'w_fsturwt59'\n",
       "95. 'w_fsturwt60'\n",
       "96. 'w_fsturwt61'\n",
       "97. 'w_fsturwt62'\n",
       "98. 'w_fsturwt63'\n",
       "99. 'w_fsturwt64'\n",
       "100. 'w_fsturwt65'\n",
       "101. 'w_fsturwt66'\n",
       "102. 'w_fsturwt67'\n",
       "103. 'w_fsturwt68'\n",
       "104. 'w_fsturwt69'\n",
       "105. 'w_fsturwt70'\n",
       "106. 'w_fsturwt71'\n",
       "107. 'w_fsturwt72'\n",
       "108. 'w_fsturwt73'\n",
       "109. 'w_fsturwt74'\n",
       "110. 'w_fsturwt75'\n",
       "111. 'w_fsturwt76'\n",
       "112. 'w_fsturwt77'\n",
       "113. 'w_fsturwt78'\n",
       "114. 'w_fsturwt79'\n",
       "115. 'w_fsturwt80'\n",
       "116. 'w_fstuwt'\n",
       "117. 'to_keep'\n",
       "118. 'gr'\n",
       "119. 'girl'\n",
       "120. 'sch_type'\n",
       "121. 'reg'\n",
       "122. 'gr_matematika'\n",
       "123. 'gr_ceskyjazyk'\n",
       "124. 'gr_cizijazyk'\n",
       "125. 'gr_fyzika'\n",
       "126. 'gr_chemie'\n",
       "127. 'gr_prirodopis'\n",
       "128. 'gr_zemepis'\n",
       "129. 'n'\n",
       "130. 'w_schwt_norm'\n",
       "\n",
       "\n"
      ],
      "text/plain": [
       "  [1] \"cntschid\"         \"cntstuid\"         \"w_fstuwt_sch_sum\"\n",
       "  [4] \"w_schgrnrabwt\"    \"escs\"             \"pv1math\"         \n",
       "  [7] \"pv2math\"          \"pv3math\"          \"pv4math\"         \n",
       " [10] \"pv5math\"          \"pv6math\"          \"pv7math\"         \n",
       " [13] \"pv8math\"          \"pv9math\"          \"pv10math\"        \n",
       " [16] \"pv1read\"          \"pv2read\"          \"pv3read\"         \n",
       " [19] \"pv4read\"          \"pv5read\"          \"pv6read\"         \n",
       " [22] \"pv7read\"          \"pv8read\"          \"pv9read\"         \n",
       " [25] \"pv10read\"         \"pv1scie\"          \"pv2scie\"         \n",
       " [28] \"pv3scie\"          \"pv4scie\"          \"pv5scie\"         \n",
       " [31] \"pv6scie\"          \"pv7scie\"          \"pv8scie\"         \n",
       " [34] \"pv9scie\"          \"pv10scie\"         \"w_fsturwt1\"      \n",
       " [37] \"w_fsturwt2\"       \"w_fsturwt3\"       \"w_fsturwt4\"      \n",
       " [40] \"w_fsturwt5\"       \"w_fsturwt6\"       \"w_fsturwt7\"      \n",
       " [43] \"w_fsturwt8\"       \"w_fsturwt9\"       \"w_fsturwt10\"     \n",
       " [46] \"w_fsturwt11\"      \"w_fsturwt12\"      \"w_fsturwt13\"     \n",
       " [49] \"w_fsturwt14\"      \"w_fsturwt15\"      \"w_fsturwt16\"     \n",
       " [52] \"w_fsturwt17\"      \"w_fsturwt18\"      \"w_fsturwt19\"     \n",
       " [55] \"w_fsturwt20\"      \"w_fsturwt21\"      \"w_fsturwt22\"     \n",
       " [58] \"w_fsturwt23\"      \"w_fsturwt24\"      \"w_fsturwt25\"     \n",
       " [61] \"w_fsturwt26\"      \"w_fsturwt27\"      \"w_fsturwt28\"     \n",
       " [64] \"w_fsturwt29\"      \"w_fsturwt30\"      \"w_fsturwt31\"     \n",
       " [67] \"w_fsturwt32\"      \"w_fsturwt33\"      \"w_fsturwt34\"     \n",
       " [70] \"w_fsturwt35\"      \"w_fsturwt36\"      \"w_fsturwt37\"     \n",
       " [73] \"w_fsturwt38\"      \"w_fsturwt39\"      \"w_fsturwt40\"     \n",
       " [76] \"w_fsturwt41\"      \"w_fsturwt42\"      \"w_fsturwt43\"     \n",
       " [79] \"w_fsturwt44\"      \"w_fsturwt45\"      \"w_fsturwt46\"     \n",
       " [82] \"w_fsturwt47\"      \"w_fsturwt48\"      \"w_fsturwt49\"     \n",
       " [85] \"w_fsturwt50\"      \"w_fsturwt51\"      \"w_fsturwt52\"     \n",
       " [88] \"w_fsturwt53\"      \"w_fsturwt54\"      \"w_fsturwt55\"     \n",
       " [91] \"w_fsturwt56\"      \"w_fsturwt57\"      \"w_fsturwt58\"     \n",
       " [94] \"w_fsturwt59\"      \"w_fsturwt60\"      \"w_fsturwt61\"     \n",
       " [97] \"w_fsturwt62\"      \"w_fsturwt63\"      \"w_fsturwt64\"     \n",
       "[100] \"w_fsturwt65\"      \"w_fsturwt66\"      \"w_fsturwt67\"     \n",
       "[103] \"w_fsturwt68\"      \"w_fsturwt69\"      \"w_fsturwt70\"     \n",
       "[106] \"w_fsturwt71\"      \"w_fsturwt72\"      \"w_fsturwt73\"     \n",
       "[109] \"w_fsturwt74\"      \"w_fsturwt75\"      \"w_fsturwt76\"     \n",
       "[112] \"w_fsturwt77\"      \"w_fsturwt78\"      \"w_fsturwt79\"     \n",
       "[115] \"w_fsturwt80\"      \"w_fstuwt\"         \"to_keep\"         \n",
       "[118] \"gr\"               \"girl\"             \"sch_type\"        \n",
       "[121] \"reg\"              \"gr_matematika\"    \"gr_ceskyjazyk\"   \n",
       "[124] \"gr_cizijazyk\"     \"gr_fyzika\"        \"gr_chemie\"       \n",
       "[127] \"gr_prirodopis\"    \"gr_zemepis\"       \"n\"               \n",
       "[130] \"w_schwt_norm\"    "
      ]
     },
     "metadata": {},
     "output_type": "display_data"
    }
   ],
   "source": [
    "names(dfall)"
   ]
  },
  {
   "cell_type": "code",
   "execution_count": 24,
   "id": "7452dac8-5a17-4393-96d8-7ee1d9cfda19",
   "metadata": {},
   "outputs": [],
   "source": [
    "cze2 <- rebindAttributes(dfall, cze)"
   ]
  },
  {
   "cell_type": "code",
   "execution_count": 25,
   "id": "5579c70d-6feb-4ed5-8832-db8645069ec2",
   "metadata": {},
   "outputs": [
    {
     "data": {
      "text/html": [
       "<table class=\"dataframe\">\n",
       "<caption>A light.edsurvey.data.frame: 6 × 130</caption>\n",
       "<thead>\n",
       "\t<tr><th></th><th scope=col>cntschid</th><th scope=col>cntstuid</th><th scope=col>w_fstuwt_sch_sum</th><th scope=col>w_schgrnrabwt</th><th scope=col>escs</th><th scope=col>pv1math</th><th scope=col>pv2math</th><th scope=col>pv3math</th><th scope=col>pv4math</th><th scope=col>pv5math</th><th scope=col>⋯</th><th scope=col>reg</th><th scope=col>gr_matematika</th><th scope=col>gr_ceskyjazyk</th><th scope=col>gr_cizijazyk</th><th scope=col>gr_fyzika</th><th scope=col>gr_chemie</th><th scope=col>gr_prirodopis</th><th scope=col>gr_zemepis</th><th scope=col>n</th><th scope=col>w_schwt_norm</th></tr>\n",
       "\t<tr><th></th><th scope=col>&lt;int&gt;</th><th scope=col>&lt;int&gt;</th><th scope=col>&lt;dbl&gt;</th><th scope=col>&lt;dbl&gt;</th><th scope=col>&lt;dbl&gt;</th><th scope=col>&lt;dbl&gt;</th><th scope=col>&lt;dbl&gt;</th><th scope=col>&lt;dbl&gt;</th><th scope=col>&lt;dbl&gt;</th><th scope=col>&lt;dbl&gt;</th><th scope=col>⋯</th><th scope=col>&lt;chr&gt;</th><th scope=col>&lt;dbl&gt;</th><th scope=col>&lt;dbl&gt;</th><th scope=col>&lt;dbl&gt;</th><th scope=col>&lt;dbl&gt;</th><th scope=col>&lt;dbl&gt;</th><th scope=col>&lt;dbl&gt;</th><th scope=col>&lt;dbl&gt;</th><th scope=col>&lt;int&gt;</th><th scope=col>&lt;dbl&gt;</th></tr>\n",
       "</thead>\n",
       "<tbody>\n",
       "\t<tr><th scope=row>1</th><td>20300001</td><td>20305448</td><td>480.1996</td><td>4.58468</td><td>-0.0323</td><td>444.939</td><td>519.100</td><td>517.274</td><td>460.562</td><td>435.193</td><td>⋯</td><td></td><td>4</td><td>2</td><td>3</td><td>3</td><td>3</td><td>NA</td><td> 2</td><td>32</td><td>0.370565</td></tr>\n",
       "\t<tr><th scope=row>2</th><td>20300001</td><td>20307592</td><td>480.1996</td><td>4.58468</td><td> 1.2537</td><td>628.543</td><td>655.678</td><td>641.547</td><td>640.243</td><td>685.596</td><td>⋯</td><td></td><td>4</td><td>4</td><td>1</td><td>2</td><td>2</td><td>NA</td><td>NA</td><td>32</td><td>0.370565</td></tr>\n",
       "\t<tr><th scope=row>3</th><td>20300001</td><td>20306303</td><td>480.1996</td><td>4.58468</td><td> 0.3792</td><td>545.612</td><td>532.694</td><td>549.586</td><td>577.063</td><td>558.176</td><td>⋯</td><td></td><td>5</td><td>1</td><td>2</td><td>1</td><td>1</td><td>NA</td><td>NA</td><td>32</td><td>0.370565</td></tr>\n",
       "\t<tr><th scope=row>4</th><td>20300001</td><td>20300696</td><td>480.1996</td><td>4.58468</td><td> 0.7895</td><td>587.654</td><td>638.306</td><td>599.610</td><td>591.750</td><td>606.197</td><td>⋯</td><td></td><td>4</td><td>4</td><td>2</td><td>3</td><td>1</td><td> 3</td><td>NA</td><td>32</td><td>0.370565</td></tr>\n",
       "\t<tr><th scope=row>5</th><td>20300001</td><td>20306775</td><td>480.1996</td><td>4.58468</td><td>-0.8975</td><td>586.817</td><td>649.771</td><td>684.948</td><td>606.826</td><td>692.791</td><td>⋯</td><td></td><td>2</td><td>1</td><td>2</td><td>1</td><td>1</td><td>NA</td><td>NA</td><td>32</td><td>0.370565</td></tr>\n",
       "\t<tr><th scope=row>6</th><td>20300001</td><td>20300105</td><td>480.1996</td><td>4.58468</td><td> 0.1950</td><td>554.640</td><td>540.376</td><td>599.626</td><td>565.301</td><td>571.120</td><td>⋯</td><td></td><td>5</td><td>3</td><td>1</td><td>2</td><td>3</td><td>NA</td><td>NA</td><td>32</td><td>0.370565</td></tr>\n",
       "</tbody>\n",
       "</table>\n"
      ],
      "text/latex": [
       "A light.edsurvey.data.frame: 6 × 130\n",
       "\\begin{tabular}{r|lllllllllllllllllllll}\n",
       "  & cntschid & cntstuid & w\\_fstuwt\\_sch\\_sum & w\\_schgrnrabwt & escs & pv1math & pv2math & pv3math & pv4math & pv5math & ⋯ & reg & gr\\_matematika & gr\\_ceskyjazyk & gr\\_cizijazyk & gr\\_fyzika & gr\\_chemie & gr\\_prirodopis & gr\\_zemepis & n & w\\_schwt\\_norm\\\\\n",
       "  & <int> & <int> & <dbl> & <dbl> & <dbl> & <dbl> & <dbl> & <dbl> & <dbl> & <dbl> & ⋯ & <chr> & <dbl> & <dbl> & <dbl> & <dbl> & <dbl> & <dbl> & <dbl> & <int> & <dbl>\\\\\n",
       "\\hline\n",
       "\t1 & 20300001 & 20305448 & 480.1996 & 4.58468 & -0.0323 & 444.939 & 519.100 & 517.274 & 460.562 & 435.193 & ⋯ &  & 4 & 2 & 3 & 3 & 3 & NA &  2 & 32 & 0.370565\\\\\n",
       "\t2 & 20300001 & 20307592 & 480.1996 & 4.58468 &  1.2537 & 628.543 & 655.678 & 641.547 & 640.243 & 685.596 & ⋯ &  & 4 & 4 & 1 & 2 & 2 & NA & NA & 32 & 0.370565\\\\\n",
       "\t3 & 20300001 & 20306303 & 480.1996 & 4.58468 &  0.3792 & 545.612 & 532.694 & 549.586 & 577.063 & 558.176 & ⋯ &  & 5 & 1 & 2 & 1 & 1 & NA & NA & 32 & 0.370565\\\\\n",
       "\t4 & 20300001 & 20300696 & 480.1996 & 4.58468 &  0.7895 & 587.654 & 638.306 & 599.610 & 591.750 & 606.197 & ⋯ &  & 4 & 4 & 2 & 3 & 1 &  3 & NA & 32 & 0.370565\\\\\n",
       "\t5 & 20300001 & 20306775 & 480.1996 & 4.58468 & -0.8975 & 586.817 & 649.771 & 684.948 & 606.826 & 692.791 & ⋯ &  & 2 & 1 & 2 & 1 & 1 & NA & NA & 32 & 0.370565\\\\\n",
       "\t6 & 20300001 & 20300105 & 480.1996 & 4.58468 &  0.1950 & 554.640 & 540.376 & 599.626 & 565.301 & 571.120 & ⋯ &  & 5 & 3 & 1 & 2 & 3 & NA & NA & 32 & 0.370565\\\\\n",
       "\\end{tabular}\n"
      ],
      "text/markdown": [
       "\n",
       "A light.edsurvey.data.frame: 6 × 130\n",
       "\n",
       "| <!--/--> | cntschid &lt;int&gt; | cntstuid &lt;int&gt; | w_fstuwt_sch_sum &lt;dbl&gt; | w_schgrnrabwt &lt;dbl&gt; | escs &lt;dbl&gt; | pv1math &lt;dbl&gt; | pv2math &lt;dbl&gt; | pv3math &lt;dbl&gt; | pv4math &lt;dbl&gt; | pv5math &lt;dbl&gt; | ⋯ ⋯ | reg &lt;chr&gt; | gr_matematika &lt;dbl&gt; | gr_ceskyjazyk &lt;dbl&gt; | gr_cizijazyk &lt;dbl&gt; | gr_fyzika &lt;dbl&gt; | gr_chemie &lt;dbl&gt; | gr_prirodopis &lt;dbl&gt; | gr_zemepis &lt;dbl&gt; | n &lt;int&gt; | w_schwt_norm &lt;dbl&gt; |\n",
       "|---|---|---|---|---|---|---|---|---|---|---|---|---|---|---|---|---|---|---|---|---|---|\n",
       "| 1 | 20300001 | 20305448 | 480.1996 | 4.58468 | -0.0323 | 444.939 | 519.100 | 517.274 | 460.562 | 435.193 | ⋯ | <!----> | 4 | 2 | 3 | 3 | 3 | NA |  2 | 32 | 0.370565 |\n",
       "| 2 | 20300001 | 20307592 | 480.1996 | 4.58468 |  1.2537 | 628.543 | 655.678 | 641.547 | 640.243 | 685.596 | ⋯ | <!----> | 4 | 4 | 1 | 2 | 2 | NA | NA | 32 | 0.370565 |\n",
       "| 3 | 20300001 | 20306303 | 480.1996 | 4.58468 |  0.3792 | 545.612 | 532.694 | 549.586 | 577.063 | 558.176 | ⋯ | <!----> | 5 | 1 | 2 | 1 | 1 | NA | NA | 32 | 0.370565 |\n",
       "| 4 | 20300001 | 20300696 | 480.1996 | 4.58468 |  0.7895 | 587.654 | 638.306 | 599.610 | 591.750 | 606.197 | ⋯ | <!----> | 4 | 4 | 2 | 3 | 1 |  3 | NA | 32 | 0.370565 |\n",
       "| 5 | 20300001 | 20306775 | 480.1996 | 4.58468 | -0.8975 | 586.817 | 649.771 | 684.948 | 606.826 | 692.791 | ⋯ | <!----> | 2 | 1 | 2 | 1 | 1 | NA | NA | 32 | 0.370565 |\n",
       "| 6 | 20300001 | 20300105 | 480.1996 | 4.58468 |  0.1950 | 554.640 | 540.376 | 599.626 | 565.301 | 571.120 | ⋯ | <!----> | 5 | 3 | 1 | 2 | 3 | NA | NA | 32 | 0.370565 |\n",
       "\n"
      ],
      "text/plain": [
       "  cntschid cntstuid w_fstuwt_sch_sum w_schgrnrabwt escs    pv1math pv2math\n",
       "1 20300001 20305448 480.1996         4.58468       -0.0323 444.939 519.100\n",
       "2 20300001 20307592 480.1996         4.58468        1.2537 628.543 655.678\n",
       "3 20300001 20306303 480.1996         4.58468        0.3792 545.612 532.694\n",
       "4 20300001 20300696 480.1996         4.58468        0.7895 587.654 638.306\n",
       "5 20300001 20306775 480.1996         4.58468       -0.8975 586.817 649.771\n",
       "6 20300001 20300105 480.1996         4.58468        0.1950 554.640 540.376\n",
       "  pv3math pv4math pv5math ⋯ reg gr_matematika gr_ceskyjazyk gr_cizijazyk\n",
       "1 517.274 460.562 435.193 ⋯     4             2             3           \n",
       "2 641.547 640.243 685.596 ⋯     4             4             1           \n",
       "3 549.586 577.063 558.176 ⋯     5             1             2           \n",
       "4 599.610 591.750 606.197 ⋯     4             4             2           \n",
       "5 684.948 606.826 692.791 ⋯     2             1             2           \n",
       "6 599.626 565.301 571.120 ⋯     5             3             1           \n",
       "  gr_fyzika gr_chemie gr_prirodopis gr_zemepis n  w_schwt_norm\n",
       "1 3         3         NA             2         32 0.370565    \n",
       "2 2         2         NA            NA         32 0.370565    \n",
       "3 1         1         NA            NA         32 0.370565    \n",
       "4 3         1          3            NA         32 0.370565    \n",
       "5 1         1         NA            NA         32 0.370565    \n",
       "6 2         3         NA            NA         32 0.370565    "
      ]
     },
     "metadata": {},
     "output_type": "display_data"
    }
   ],
   "source": [
    "head(cze2)"
   ]
  },
  {
   "cell_type": "code",
   "execution_count": 26,
   "id": "6b6ca5c4-8bec-4417-9499-79024239f8d2",
   "metadata": {},
   "outputs": [
    {
     "data": {
      "text/html": [
       "<style>\n",
       ".list-inline {list-style: none; margin:0; padding: 0}\n",
       ".list-inline>li {display: inline-block}\n",
       ".list-inline>li:not(:last-child)::after {content: \"\\00b7\"; padding: 0 .5ex}\n",
       "</style>\n",
       "<ol class=list-inline><li>6911</li><li>130</li></ol>\n"
      ],
      "text/latex": [
       "\\begin{enumerate*}\n",
       "\\item 6911\n",
       "\\item 130\n",
       "\\end{enumerate*}\n"
      ],
      "text/markdown": [
       "1. 6911\n",
       "2. 130\n",
       "\n",
       "\n"
      ],
      "text/plain": [
       "[1] 6911  130"
      ]
     },
     "metadata": {},
     "output_type": "display_data"
    }
   ],
   "source": [
    "dim(cze2)"
   ]
  },
  {
   "cell_type": "code",
   "execution_count": 27,
   "id": "f69d7bcd-c041-41e8-ba74-b2e89f593725",
   "metadata": {},
   "outputs": [],
   "source": [
    "cze3 = subset(x=cze2, subset= (to_keep == TRUE) & (!is.na(gr_matematika)))"
   ]
  },
  {
   "cell_type": "code",
   "execution_count": 28,
   "id": "a04c784c-21a1-4898-8c9d-cca00ec5bb70",
   "metadata": {},
   "outputs": [],
   "source": [
    "cze3$ones <- 1"
   ]
  },
  {
   "cell_type": "code",
   "execution_count": 29,
   "id": "e6e15919-e47e-4321-830d-926ee408e57b",
   "metadata": {},
   "outputs": [],
   "source": [
    "cze3$w_fstuwt_norm <- cze3$w_fstuwt * cze3$n / cze3$w_fstuwt_sch_sum"
   ]
  },
  {
   "cell_type": "code",
   "execution_count": null,
   "id": "4bce8fb5-cb92-4b6c-96f8-4de159fecb58",
   "metadata": {},
   "outputs": [],
   "source": []
  },
  {
   "cell_type": "code",
   "execution_count": 40,
   "id": "b47d4600-3a6b-41df-b76b-a1ca6c84486c",
   "metadata": {},
   "outputs": [
    {
     "data": {
      "text/html": [
       "<style>\n",
       ".list-inline {list-style: none; margin:0; padding: 0}\n",
       ".list-inline>li {display: inline-block}\n",
       ".list-inline>li:not(:last-child)::after {content: \"\\00b7\"; padding: 0 .5ex}\n",
       "</style>\n",
       "<ol class=list-inline><li>1871</li><li>132</li></ol>\n"
      ],
      "text/latex": [
       "\\begin{enumerate*}\n",
       "\\item 1871\n",
       "\\item 132\n",
       "\\end{enumerate*}\n"
      ],
      "text/markdown": [
       "1. 1871\n",
       "2. 132\n",
       "\n",
       "\n"
      ],
      "text/plain": [
       "[1] 1871  132"
      ]
     },
     "metadata": {},
     "output_type": "display_data"
    }
   ],
   "source": [
    "dim(cze3)"
   ]
  },
  {
   "cell_type": "code",
   "execution_count": 34,
   "id": "81b89f8a-5610-4540-9e44-34a122b99899",
   "metadata": {},
   "outputs": [
    {
     "data": {
      "text/plain": [
       "\n",
       "  1   2   3   4   5 \n",
       "327 617  21 352 554 "
      ]
     },
     "metadata": {},
     "output_type": "display_data"
    }
   ],
   "source": [
    "table(cze3$gr_matematika)"
   ]
  },
  {
   "cell_type": "code",
   "execution_count": 37,
   "id": "e44cf0f5-87ef-442f-8bb0-1b91f0c5af97",
   "metadata": {},
   "outputs": [],
   "source": [
    "cze3$gr_matematika <- ifelse(cze3$gr_matematika > 2.5, 8 - cze3$gr_matematika, cze3$gr_matematika)"
   ]
  },
  {
   "cell_type": "code",
   "execution_count": 38,
   "id": "f6704a78-21e4-409d-8e6a-f327e007b455",
   "metadata": {},
   "outputs": [
    {
     "data": {
      "text/plain": [
       "\n",
       "  1   2   3   4   5 \n",
       "327 617 554 352  21 "
      ]
     },
     "metadata": {},
     "output_type": "display_data"
    }
   ],
   "source": [
    "table(cze3$gr_matematika)"
   ]
  },
  {
   "cell_type": "code",
   "execution_count": null,
   "id": "8a02f88c-a1a0-4fd0-821f-63c95bb21079",
   "metadata": {},
   "outputs": [],
   "source": []
  },
  {
   "cell_type": "code",
   "execution_count": 39,
   "id": "058ff523-2fcd-4597-a331-f3915ac867d8",
   "metadata": {},
   "outputs": [
    {
     "name": "stdout",
     "output_type": "stream",
     "text": [
      "Estimating mixed model with pv1math as the outcome.\n",
      "Estimating mixed model with pv2math as the outcome.\n",
      "Estimating mixed model with pv3math as the outcome.\n",
      "Estimating mixed model with pv4math as the outcome.\n",
      "Estimating mixed model with pv5math as the outcome.\n",
      "Estimating mixed model with pv6math as the outcome.\n",
      "Estimating mixed model with pv7math as the outcome.\n",
      "Estimating mixed model with pv8math as the outcome.\n",
      "Estimating mixed model with pv9math as the outcome.\n",
      "Estimating mixed model with pv10math as the outcome.\n"
     ]
    },
    {
     "data": {
      "text/plain": [
       "Call:\n",
       "mixed.sdf(formula = math ~ gr_matematika + girl + escs + (1 | \n",
       "    cntschid), data = cze3, weightVars = c(\"w_fstuwt\", \"w_schgrnrabwt\"), \n",
       "    verbose = 1, cWeights = TRUE)\n",
       "\n",
       "Formula: math ~ gr_matematika + girl + escs + (1 | cntschid)\n",
       "\n",
       "Plausible Values: 10\n",
       "Number of Groups:\n",
       " Level    Group n size mean wgt sum wgt\n",
       "     2 cntschid    128    17.52    2243\n",
       "     1      Obs   1871    15.10   28247\n",
       "\n",
       "Variance terms:\n",
       " Level    Group        Name Variance Std. Error Std.Dev.\n",
       "     2 cntschid (Intercept)    843.2      302.5    29.04\n",
       "     1 Residual               3917.9      160.1    62.59\n",
       "\n",
       "Fixed Effects:\n",
       "              Estimate Std. Error t value\n",
       "(Intercept)    585.784      7.218  81.155\n",
       "gr_matematika  -37.802      2.015 -18.764\n",
       "girl           -19.502      4.504  -4.330\n",
       "escs            12.905      2.765   4.667\n",
       "\n",
       "Intraclass Correlation= 0.177"
      ]
     },
     "metadata": {},
     "output_type": "display_data"
    }
   ],
   "source": [
    "mixfit <- mixed.sdf(math ~ gr_matematika + girl + escs + (1|cntschid), data=cze3, verbose=1, weightVars=c('w_fstuwt', 'w_schgrnrabwt'), cWeights=TRUE)\n",
    "summary(mixfit)"
   ]
  },
  {
   "cell_type": "code",
   "execution_count": 41,
   "id": "8190ef03-9beb-4374-a368-9d5a2da4aacc",
   "metadata": {},
   "outputs": [
    {
     "ename": "ERROR",
     "evalue": "Error in eval(predvars, data, env): object 'math' not found\n",
     "output_type": "error",
     "traceback": [
      "Error in eval(predvars, data, env): object 'math' not found\nTraceback:\n",
      "1. mixed.sdf(gr_matematika ~ math + girl + escs + (1 | cntschid), \n .     data = cze3, verbose = 1, weightVars = c(\"w_fstuwt\", \"w_schgrnrabwt\"), \n .     cWeights = TRUE)",
      "2. lFormula(formula = formula, data = edf)",
      "3. eval(mf, parent.frame())",
      "4. eval(mf, parent.frame())",
      "5. stats::model.frame(data = edf, drop.unused.levels = TRUE, formula = yvar ~ \n .     math + girl + escs + (1 + cntschid))",
      "6. model.frame.default(data = edf, drop.unused.levels = TRUE, formula = yvar ~ \n .     math + girl + escs + (1 + cntschid))",
      "7. eval(predvars, data, env)",
      "8. eval(predvars, data, env)"
     ]
    }
   ],
   "source": [
    "mixfit2 <- mixed.sdf(gr_matematika ~ math + girl + escs + (1|cntschid), data=cze3, verbose=1, weightVars=c('w_fstuwt', 'w_schgrnrabwt'), cWeights=TRUE)\n",
    "summary(mixfit2)"
   ]
  },
  {
   "cell_type": "code",
   "execution_count": null,
   "id": "84ab60c9-f7d8-417a-b399-c5a82d8df9e6",
   "metadata": {},
   "outputs": [],
   "source": []
  },
  {
   "cell_type": "code",
   "execution_count": 34,
   "id": "d57d32bc-088f-49ad-bc15-4b1b8d5b12c3",
   "metadata": {},
   "outputs": [
    {
     "name": "stdout",
     "output_type": "stream",
     "text": [
      "Estimating mixed model with pv1math as the outcome.\n",
      "Estimating mixed model with pv2math as the outcome.\n",
      "Estimating mixed model with pv3math as the outcome.\n",
      "Estimating mixed model with pv4math as the outcome.\n",
      "Estimating mixed model with pv5math as the outcome.\n",
      "Estimating mixed model with pv6math as the outcome.\n",
      "Estimating mixed model with pv7math as the outcome.\n",
      "Estimating mixed model with pv8math as the outcome.\n",
      "Estimating mixed model with pv9math as the outcome.\n",
      "Estimating mixed model with pv10math as the outcome.\n"
     ]
    },
    {
     "data": {
      "text/plain": [
       "Call:\n",
       "mixed.sdf(formula = math ~ gr_matematika + girl + (1 | cntschid), \n",
       "    data = cze3, weightVars = c(\"w_fstuwt_norm\", \"ones\"), verbose = 1)\n",
       "\n",
       "Formula: math ~ gr_matematika + girl + (1 | cntschid)\n",
       "\n",
       "Plausible Values: 10\n",
       "Number of Groups:\n",
       " Level    Group n size mean wgt sum wgt\n",
       "     2 cntschid    128   1.0000     128\n",
       "     1      Obs   1881   0.9982    1878\n",
       "\n",
       "Variance terms:\n",
       " Level    Group        Name Variance Std. Error Std.Dev.\n",
       "     2 cntschid (Intercept)    875.3      213.9    29.59\n",
       "     1 Residual               4420.8      151.0    66.49\n",
       "\n",
       "Fixed Effects:\n",
       "              Estimate Std. Error t value\n",
       "(Intercept)    557.141      6.029  92.405\n",
       "gr_matematika  -23.161      1.284 -18.037\n",
       "girl           -18.016      4.087  -4.408\n",
       "\n",
       "Intraclass Correlation= 0.165"
      ]
     },
     "metadata": {},
     "output_type": "display_data"
    }
   ],
   "source": [
    "mx1 <- mixed.sdf(math ~ gr_matematika + girl + (1|cntschid), data=cze3, verbose=1, weightVars=c('w_fstuwt_norm', 'ones'))\n",
    "summary(mx1)"
   ]
  },
  {
   "cell_type": "code",
   "execution_count": 31,
   "id": "c79ccac1-4ea7-44ca-ac1f-bdcf8d48164e",
   "metadata": {},
   "outputs": [
    {
     "ename": "ERROR",
     "evalue": "Error in eval(expr, envir, enclos): object 'rdf' not found\n",
     "output_type": "error",
     "traceback": [
      "Error in eval(expr, envir, enclos): object 'rdf' not found\nTraceback:\n"
     ]
    }
   ],
   "source": [
    "rdf"
   ]
  },
  {
   "cell_type": "code",
   "execution_count": 32,
   "id": "9bfe60bd-3e89-4d89-a5c6-a60de1c865e1",
   "metadata": {},
   "outputs": [],
   "source": [
    "rdf <- dfall %>% filter((to_keep == TRUE) & (!is.na(gr_matematika)))"
   ]
  },
  {
   "cell_type": "code",
   "execution_count": 33,
   "id": "41dd25e7-59d9-4ad3-bb53-7b3c2536b57f",
   "metadata": {},
   "outputs": [],
   "source": [
    "rdf$ones <- 1\n",
    "rdf$w_fstuwt_norm <- rdf$w_fstuwt * rdf$n / rdf$w_fstuwt_sch_sum"
   ]
  },
  {
   "cell_type": "code",
   "execution_count": 34,
   "id": "68f9ce97-7067-4f9d-8d20-84321a89b8fa",
   "metadata": {},
   "outputs": [
    {
     "data": {
      "text/html": [
       "<style>\n",
       ".list-inline {list-style: none; margin:0; padding: 0}\n",
       ".list-inline>li {display: inline-block}\n",
       ".list-inline>li:not(:last-child)::after {content: \"\\00b7\"; padding: 0 .5ex}\n",
       "</style>\n",
       "<ol class=list-inline><li>1881</li><li>131</li></ol>\n"
      ],
      "text/latex": [
       "\\begin{enumerate*}\n",
       "\\item 1881\n",
       "\\item 131\n",
       "\\end{enumerate*}\n"
      ],
      "text/markdown": [
       "1. 1881\n",
       "2. 131\n",
       "\n",
       "\n"
      ],
      "text/plain": [
       "[1] 1881  131"
      ]
     },
     "metadata": {},
     "output_type": "display_data"
    }
   ],
   "source": [
    "dim(rdf)"
   ]
  },
  {
   "cell_type": "code",
   "execution_count": 35,
   "id": "a3b13a6d-8337-4091-91f7-f34ba02d025b",
   "metadata": {},
   "outputs": [],
   "source": [
    "write.csv(rdf, 'temp/r_to_stata.csv')"
   ]
  },
  {
   "cell_type": "code",
   "execution_count": 46,
   "id": "51a39eec-e683-4841-a531-1816b9b57195",
   "metadata": {},
   "outputs": [],
   "source": [
    "library(WeMix)"
   ]
  },
  {
   "cell_type": "code",
   "execution_count": null,
   "id": "8f289ad0-b2be-468e-8821-30ff6998437f",
   "metadata": {},
   "outputs": [],
   "source": []
  },
  {
   "cell_type": "code",
   "execution_count": 47,
   "id": "2a3764e7-f74c-42b6-8748-fccb789d4429",
   "metadata": {},
   "outputs": [
    {
     "data": {
      "text/plain": [
       "Call:\n",
       "mix(formula = pv1math ~ gr_matematika + girl + (1 | cntschid), \n",
       "    data = rdf, weights = c(\"w_fstuwt_norm\", \"ones\"))\n",
       "\n",
       "Variance terms:\n",
       " Level    Group        Name Variance Std. Error Std.Dev.\n",
       "     2 cntschid (Intercept)    723.3      189.1    26.89\n",
       "     1 Residual               4533.6      148.5    67.33\n",
       "Groups:\n",
       " Level    Group n size mean wgt sum wgt\n",
       "     2 cntschid    128   1.0000     128\n",
       "     1      Obs   1881   0.9085    1709\n",
       "\n",
       "Fixed Effects:\n",
       "              Estimate Std. Error t value\n",
       "(Intercept)    560.969      5.313 105.576\n",
       "gr_matematika  -23.660      1.129 -20.954\n",
       "girl           -20.627      3.149  -6.551\n",
       "\n",
       "lnl= -9685.984 \n",
       "Intraclass Correlation= 0.1376 "
      ]
     },
     "metadata": {},
     "output_type": "display_data"
    }
   ],
   "source": [
    "wmx1 <- mix(pv1math ~ gr_matematika + girl + (1|cntschid), data=rdf, weights=c('w_fstuwt_norm', 'ones'))\n",
    "summary(wmx1)"
   ]
  },
  {
   "cell_type": "code",
   "execution_count": 48,
   "id": "0568fc53-cdbf-4d55-a2ff-0f3c120b2e51",
   "metadata": {},
   "outputs": [
    {
     "data": {
      "text/plain": [
       "Call:\n",
       "mix(formula = pv1math ~ gr_matematika + girl + (1 | cntschid), \n",
       "    data = rdf, weights = c(\"w_fstuwt_norm\", \"w_schgrnrabwt\"))\n",
       "\n",
       "Variance terms:\n",
       " Level    Group        Name  Variance Std. Error  Std.Dev.\n",
       "     2 cntschid (Intercept) 3.853e-17   4.02e-16 6.207e-09\n",
       "     1 Residual             5.210e+03   2.02e+02 7.218e+01\n",
       "Groups:\n",
       " Level    Group n size mean wgt sum wgt\n",
       "     2 cntschid    128  17.5202    2243\n",
       "     1      Obs   1881   0.9085    1709\n",
       "\n",
       "Fixed Effects:\n",
       "              Estimate Std. Error t value\n",
       "(Intercept)    567.148      5.368 105.647\n",
       "gr_matematika  -24.743      1.166 -21.229\n",
       "girl           -21.075      3.490  -6.038\n",
       "\n",
       "lnl= -9737.703 \n",
       "Intraclass Correlation= 7.395e-21 "
      ]
     },
     "metadata": {},
     "output_type": "display_data"
    }
   ],
   "source": [
    "wmx2 <- mix(pv1math ~ gr_matematika + girl + (1|cntschid), data=rdf, weights=c('w_fstuwt_norm', 'w_schgrnrabwt'))\n",
    "summary(wmx2)"
   ]
  },
  {
   "cell_type": "code",
   "execution_count": 49,
   "id": "d5a80404-cc93-4a70-a8f5-f7658a0b7330",
   "metadata": {},
   "outputs": [],
   "source": [
    "rdf$w_schgrnrabwt_hack <- rdf$w_schgrnrabwt / 2"
   ]
  },
  {
   "cell_type": "code",
   "execution_count": 51,
   "id": "8fa0bfd0-01e0-4e92-b242-3a7b5069f067",
   "metadata": {},
   "outputs": [
    {
     "data": {
      "text/plain": [
       "Call:\n",
       "mix(formula = pv1math ~ gr_matematika + girl + (1 | cntschid), \n",
       "    data = rdf, weights = c(\"w_fstuwt_norm\", \"w_schgrnrabwt_hack\"))\n",
       "\n",
       "Variance terms:\n",
       " Level    Group        Name  Variance Std. Error  Std.Dev.\n",
       "     2 cntschid (Intercept) 1.723e-12  5.521e-13 1.313e-06\n",
       "     1 Residual             5.210e+03  2.020e+02 7.218e+01\n",
       "Groups:\n",
       " Level    Group n size mean wgt sum wgt\n",
       "     2 cntschid    128   8.7601    1121\n",
       "     1      Obs   1881   0.9085    1709\n",
       "\n",
       "Fixed Effects:\n",
       "              Estimate Std. Error t value\n",
       "(Intercept)    567.148      5.368 105.647\n",
       "gr_matematika  -24.743      1.166 -21.229\n",
       "girl           -21.075      3.490  -6.038\n",
       "\n",
       "lnl= -9737.703 \n",
       "Intraclass Correlation= 3.306e-16 "
      ]
     },
     "metadata": {},
     "output_type": "display_data"
    }
   ],
   "source": [
    "wmx3 <- mix(pv1math ~ gr_matematika + girl + (1|cntschid), data=rdf, weights=c('w_fstuwt_norm', 'w_schgrnrabwt_hack'))\n",
    "summary(wmx3)"
   ]
  },
  {
   "cell_type": "code",
   "execution_count": 62,
   "id": "8fd10e21-7eb4-4fa9-a496-1504754dca74",
   "metadata": {},
   "outputs": [
    {
     "ename": "ERROR",
     "evalue": "Error in eval(expr, envir, enclos): object 'wmx2.vars' not found\n",
     "output_type": "error",
     "traceback": [
      "Error in eval(expr, envir, enclos): object 'wmx2.vars' not found\nTraceback:\n"
     ]
    }
   ],
   "source": [
    "wmx2.vars"
   ]
  },
  {
   "cell_type": "code",
   "execution_count": 64,
   "id": "0a1ce4ab-89d9-45fe-a27b-daed5ec14e07",
   "metadata": {},
   "outputs": [],
   "source": [
    "rdf$w_fstuwt_cond = rdf$w_fstuwt / rdf$w_schgrnrabwt"
   ]
  },
  {
   "cell_type": "code",
   "execution_count": 54,
   "id": "47cfade3-c567-464f-abd1-c5082c3ff456",
   "metadata": {},
   "outputs": [
    {
     "data": {
      "text/plain": [
       "Call:\n",
       "mix(formula = pv1math ~ gr_matematika + girl + (1 | cntschid), \n",
       "    data = rdf, weights = c(\"w_fstuwt_norm\", \"w_schgrnrabwt\"), \n",
       "    max_iteration = 100)\n",
       "\n",
       "Variance terms:\n",
       " Level    Group        Name  Variance Std. Error  Std.Dev.\n",
       "     2 cntschid (Intercept) 3.853e-17   4.02e-16 6.207e-09\n",
       "     1 Residual             5.210e+03   2.02e+02 7.218e+01\n",
       "Groups:\n",
       " Level    Group n size mean wgt sum wgt\n",
       "     2 cntschid    128  17.5202    2243\n",
       "     1      Obs   1881   0.9085    1709\n",
       "\n",
       "Fixed Effects:\n",
       "              Estimate Std. Error t value\n",
       "(Intercept)    567.148      5.368 105.647\n",
       "gr_matematika  -24.743      1.166 -21.229\n",
       "girl           -21.075      3.490  -6.038\n",
       "\n",
       "lnl= -9737.703 \n",
       "Intraclass Correlation= 7.395e-21 "
      ]
     },
     "metadata": {},
     "output_type": "display_data"
    }
   ],
   "source": [
    "wmx4 <- mix(pv1math ~ gr_matematika + girl + (1|cntschid), data=rdf, weights=c('w_fstuwt_norm', 'w_schgrnrabwt'), max_iteration=100)\n",
    "summary(wmx4)"
   ]
  },
  {
   "cell_type": "code",
   "execution_count": 65,
   "id": "c2c4dca9-7e19-4ada-845c-2feb7c858223",
   "metadata": {},
   "outputs": [
    {
     "data": {
      "text/plain": [
       "Call:\n",
       "mix(formula = pv1math ~ gr_matematika + girl + (1 | cntschid), \n",
       "    data = rdf, weights = c(\"w_fstuwt_cond\", \"w_schgrnrabwt\"), \n",
       "    cWeights = TRUE)\n",
       "\n",
       "Variance terms:\n",
       " Level    Group        Name Variance Std. Error Std.Dev.\n",
       "     2 cntschid (Intercept)    993.4      299.0    31.52\n",
       "     1 Residual               4404.4      158.1    66.37\n",
       "Groups:\n",
       " Level    Group n size mean wgt sum wgt\n",
       "     2 cntschid    128    17.52    2243\n",
       "     1      Obs   1881    16.91   31813\n",
       "\n",
       "Fixed Effects:\n",
       "              Estimate Std. Error t value\n",
       "(Intercept)    555.920      5.688  97.732\n",
       "gr_matematika  -23.101      1.144 -20.194\n",
       "girl           -20.404      3.437  -5.937\n",
       "\n",
       "lnl= -180075.99 \n",
       "Intraclass Correlation= 0.184 "
      ]
     },
     "metadata": {},
     "output_type": "display_data"
    }
   ],
   "source": [
    "wmx5 <- mix(pv1math ~ gr_matematika + girl + (1|cntschid), data=rdf, weights=c('w_fstuwt_cond', 'w_schgrnrabwt'), cWeights=TRUE)\n",
    "summary(wmx5)"
   ]
  },
  {
   "cell_type": "code",
   "execution_count": 66,
   "id": "08579c53-f9d3-4785-8dc2-cb7dade271cb",
   "metadata": {},
   "outputs": [
    {
     "data": {
      "text/plain": [
       "Call:\n",
       "mix(formula = pv1math ~ gr_matematika + girl + (1 | cntschid), \n",
       "    data = rdf, weights = c(\"w_fstuwt\", \"w_schgrnrabwt\"))\n",
       "\n",
       "Variance terms:\n",
       " Level    Group        Name Variance Std. Error Std.Dev.\n",
       "     2 cntschid (Intercept)    993.4      299.0    31.52\n",
       "     1 Residual               4404.4      158.1    66.37\n",
       "Groups:\n",
       " Level    Group n size mean wgt sum wgt\n",
       "     2 cntschid    128    17.52    2243\n",
       "     1      Obs   1881    16.91   31813\n",
       "\n",
       "Fixed Effects:\n",
       "              Estimate Std. Error t value\n",
       "(Intercept)    555.920      5.688  97.732\n",
       "gr_matematika  -23.101      1.144 -20.194\n",
       "girl           -20.404      3.437  -5.937\n",
       "\n",
       "lnl= -180075.99 \n",
       "Intraclass Correlation= 0.184 "
      ]
     },
     "metadata": {},
     "output_type": "display_data"
    }
   ],
   "source": [
    "wmx6 <- mix(pv1math ~ gr_matematika + girl + (1|cntschid), data=rdf, weights=c('w_fstuwt', 'w_schgrnrabwt'))\n",
    "summary(wmx6)"
   ]
  },
  {
   "cell_type": "code",
   "execution_count": 67,
   "id": "2c40769d-e979-4efd-83c3-878ec8150e55",
   "metadata": {},
   "outputs": [
    {
     "data": {
      "text/plain": [
       "Call:\n",
       "mix(formula = pv1math ~ gr_matematika + girl + (1 | cntschid), \n",
       "    data = rdf, weights = c(\"w_fstuwt_norm\", \"w_schwt_norm\"))\n",
       "\n",
       "Variance terms:\n",
       " Level    Group        Name Variance Std. Error Std.Dev.\n",
       "     2 cntschid (Intercept)    560.6      154.5    23.68\n",
       "     1 Residual               4644.3      155.2    68.15\n",
       "Groups:\n",
       " Level    Group n size mean wgt sum wgt\n",
       "     2 cntschid    128   1.4161   181.3\n",
       "     1      Obs   1881   0.9085  1708.9\n",
       "\n",
       "Fixed Effects:\n",
       "              Estimate Std. Error t value\n",
       "(Intercept)    561.118      5.222 107.459\n",
       "gr_matematika  -23.789      1.129 -21.070\n",
       "girl           -20.864      3.169  -6.583\n",
       "\n",
       "lnl= -9698.531 \n",
       "Intraclass Correlation= 0.1077 "
      ]
     },
     "metadata": {},
     "output_type": "display_data"
    }
   ],
   "source": [
    "wmx7 <- mix(pv1math ~ gr_matematika + girl + (1|cntschid), data=rdf, weights=c('w_fstuwt_norm', 'w_schwt_norm'))\n",
    "summary(wmx7)"
   ]
  },
  {
   "cell_type": "code",
   "execution_count": 43,
   "id": "5a81d797-671d-49ca-ac8e-b870702c759c",
   "metadata": {},
   "outputs": [
    {
     "data": {
      "text/plain": [
       "Call:\n",
       "mix(formula = pv1math ~ gr_matematika + girl + (1 | cntschid), \n",
       "    data = rdf, weights = c(\"w_fstuwt_norm\", \"ones\"))\n",
       "\n",
       "Variance terms:\n",
       " Level    Group        Name Variance Std. Error Std.Dev.\n",
       "     2 cntschid (Intercept)    723.3      189.1    26.89\n",
       "     1 Residual               4533.6      148.5    67.33\n",
       "Groups:\n",
       " Level    Group n size mean wgt sum wgt\n",
       "     2 cntschid    128   1.0000     128\n",
       "     1      Obs   1881   0.9085    1709\n",
       "\n",
       "Fixed Effects:\n",
       "              Estimate Std. Error t value\n",
       "(Intercept)    560.969      5.313 105.576\n",
       "gr_matematika  -23.660      1.129 -20.954\n",
       "girl           -20.627      3.149  -6.551\n",
       "\n",
       "lnl= -9685.984 \n",
       "Intraclass Correlation= 0.1376 "
      ]
     },
     "metadata": {},
     "output_type": "display_data"
    }
   ],
   "source": [
    "wmx8 <- mix(pv1math ~ gr_matematika + girl + (1|cntschid), data=rdf, weights=c('w_fstuwt_norm', 'ones'))\n",
    "summary(wmx8)"
   ]
  },
  {
   "cell_type": "code",
   "execution_count": 70,
   "id": "a1adbf4e-574e-4c43-b614-5d573fc1bc87",
   "metadata": {},
   "outputs": [
    {
     "data": {
      "text/plain": [
       "Call:\n",
       "mix(formula = pv1math ~ gr_matematika + girl + (1 | cntschid), \n",
       "    data = rdf, weights = c(\"ones\", \"w_schgrnrabwt\"))\n",
       "\n",
       "Variance terms:\n",
       " Level    Group        Name  Variance Std. Error  Std.Dev.\n",
       "     2 cntschid (Intercept) 4.258e-20  4.167e-19 2.063e-10\n",
       "     1 Residual             5.288e+03  2.130e+02 7.272e+01\n",
       "Groups:\n",
       " Level    Group n size mean wgt sum wgt\n",
       "     2 cntschid    128    17.52    2243\n",
       "     1      Obs   1881     1.00    1881\n",
       "\n",
       "Fixed Effects:\n",
       "              Estimate Std. Error t value\n",
       "(Intercept)    566.120      5.435 104.168\n",
       "gr_matematika  -24.580      1.154 -21.302\n",
       "girl           -21.438      3.496  -6.133\n",
       "\n",
       "lnl= -10732.08 \n",
       "Intraclass Correlation= 8.052e-24 "
      ]
     },
     "metadata": {},
     "output_type": "display_data"
    }
   ],
   "source": [
    "wmx9 <- mix(pv1math ~ gr_matematika + girl + (1|cntschid), data=rdf, weights=c('ones', 'w_schgrnrabwt'))\n",
    "summary(wmx9)"
   ]
  },
  {
   "cell_type": "code",
   "execution_count": 73,
   "id": "0fb1b329-a9d4-4d2c-88fa-d20ff94677de",
   "metadata": {},
   "outputs": [
    {
     "data": {
      "text/plain": [
       "Call:\n",
       "mix(formula = pv10math ~ gr_matematika + girl + (1 | cntschid), \n",
       "    data = rdf, weights = c(\"ones\", \"w_schgrnrabwt\"))\n",
       "\n",
       "Variance terms:\n",
       " Level    Group        Name  Variance Std. Error  Std.Dev.\n",
       "     2 cntschid (Intercept) 3.182e-17  2.330e-17 5.641e-09\n",
       "     1 Residual             5.275e+03  2.139e+02 7.263e+01\n",
       "Groups:\n",
       " Level    Group n size mean wgt sum wgt\n",
       "     2 cntschid    128    17.52    2243\n",
       "     1      Obs   1881     1.00    1881\n",
       "\n",
       "Fixed Effects:\n",
       "              Estimate Std. Error t value\n",
       "(Intercept)    562.340      5.430 103.556\n",
       "gr_matematika  -23.889      1.118 -21.362\n",
       "girl           -15.477      3.557  -4.352\n",
       "\n",
       "lnl= -10729.74 \n",
       "Intraclass Correlation= 6.033e-21 "
      ]
     },
     "metadata": {},
     "output_type": "display_data"
    }
   ],
   "source": [
    "wmx10 <- mix(pv10math ~ gr_matematika + girl + (1|cntschid), data=rdf, weights=c('ones', 'w_schgrnrabwt'))\n",
    "summary(wmx10)"
   ]
  },
  {
   "cell_type": "code",
   "execution_count": null,
   "id": "dccb288a-a707-475a-a81c-da8b462b3d75",
   "metadata": {},
   "outputs": [],
   "source": []
  },
  {
   "cell_type": "code",
   "execution_count": 65,
   "id": "504f7da0-4f86-4bf6-8557-43f35b21ce46",
   "metadata": {},
   "outputs": [
    {
     "data": {
      "text/plain": [
       "Call:\n",
       "mix(formula = pv1math ~ gr_matematika + girl + (1 | cntschid), \n",
       "    data = rdf, weights = c(\"w_fstuwt_norm\", \"w_schgrnrabwt\"), \n",
       "    cWeights = TRUE)\n",
       "\n",
       "Variance terms:\n",
       " Level    Group        Name Variance Std. Error Std.Dev.\n",
       "     2 cntschid (Intercept)    829.4      253.6    28.80\n",
       "     1 Residual               4430.1      160.1    66.56\n",
       "Groups:\n",
       " Level    Group n size mean wgt sum wgt\n",
       "     2 cntschid    128    17.52    2243\n",
       "     1      Obs   1881    13.68   25730\n",
       "\n",
       "Fixed Effects:\n",
       "              Estimate Std. Error t value\n",
       "(Intercept)    558.277      5.396 103.465\n",
       "gr_matematika  -23.505      1.163 -20.217\n",
       "girl           -20.389      3.512  -5.806\n",
       "\n",
       "lnl= -145691.68 \n",
       "Intraclass Correlation= 0.1577 "
      ]
     },
     "metadata": {},
     "output_type": "display_data"
    }
   ],
   "source": [
    "cwm1 <- mix(pv1math ~ gr_matematika + girl + (1|cntschid), data=rdf, weights=c('w_fstuwt_norm', 'w_schgrnrabwt'), cWeights=TRUE)\n",
    "summary(cwm1)"
   ]
  },
  {
   "cell_type": "code",
   "execution_count": 66,
   "id": "0d477911-1617-4f1c-a868-c665ea61d405",
   "metadata": {},
   "outputs": [
    {
     "data": {
      "text/plain": [
       "Call:\n",
       "mix(formula = pv1math ~ gr_matematika + girl + (1 | cntschid), \n",
       "    data = rdf, weights = c(\"w_fstuwt\", \"w_schgrnrabwt\"), cWeights = TRUE)\n",
       "\n",
       "Variance terms:\n",
       " Level    Group        Name Variance Std. Error Std.Dev.\n",
       "     2 cntschid (Intercept)     1930      467.2    43.93\n",
       "     1 Residual                 3827      205.9    61.86\n",
       "Groups:\n",
       " Level    Group n size mean wgt sum wgt\n",
       "     2 cntschid    128    17.52    2243\n",
       "     1      Obs   1881   293.76  552557\n",
       "\n",
       "Fixed Effects:\n",
       "              Estimate Std. Error t value\n",
       "(Intercept)    551.109      7.003  78.701\n",
       "gr_matematika  -22.689      1.340 -16.931\n",
       "girl           -19.068      4.108  -4.642\n",
       "\n",
       "lnl= -3068546.08 \n",
       "Intraclass Correlation= 0.3352 "
      ]
     },
     "metadata": {},
     "output_type": "display_data"
    }
   ],
   "source": [
    "cwm2 <- mix(pv1math ~ gr_matematika + girl + (1|cntschid), data=rdf, weights=c('w_fstuwt', 'w_schgrnrabwt'), cWeights=TRUE)\n",
    "summary(cwm2)"
   ]
  },
  {
   "cell_type": "code",
   "execution_count": 67,
   "id": "de439a27-ab03-49f7-894e-a4565ea4a66e",
   "metadata": {},
   "outputs": [
    {
     "data": {
      "text/plain": [
       "Call:\n",
       "mix(formula = pv1math ~ gr_matematika + girl + (1 | cntschid), \n",
       "    data = rdf, weights = c(\"w_fstuwt_cond\", \"w_schgrnrabwt\"), \n",
       "    cWeights = TRUE)\n",
       "\n",
       "Variance terms:\n",
       " Level    Group        Name Variance Std. Error Std.Dev.\n",
       "     2 cntschid (Intercept)    993.4      299.0    31.52\n",
       "     1 Residual               4404.4      158.1    66.37\n",
       "Groups:\n",
       " Level    Group n size mean wgt sum wgt\n",
       "     2 cntschid    128    17.52    2243\n",
       "     1      Obs   1881    16.91   31813\n",
       "\n",
       "Fixed Effects:\n",
       "              Estimate Std. Error t value\n",
       "(Intercept)    555.920      5.688  97.732\n",
       "gr_matematika  -23.101      1.144 -20.194\n",
       "girl           -20.404      3.437  -5.937\n",
       "\n",
       "lnl= -180075.99 \n",
       "Intraclass Correlation= 0.184 "
      ]
     },
     "metadata": {},
     "output_type": "display_data"
    }
   ],
   "source": [
    "rdf$w_fstuwt_cond = rdf$w_fstuwt / rdf$w_schgrnrabwt\n",
    "cwm3 <- mix(pv1math ~ gr_matematika + girl + (1|cntschid), data=rdf, weights=c('w_fstuwt_cond', 'w_schgrnrabwt'), cWeights=TRUE)\n",
    "summary(cwm3)"
   ]
  },
  {
   "cell_type": "code",
   "execution_count": 68,
   "id": "968656d6-c2ea-4f55-969f-aa4be22c6d25",
   "metadata": {},
   "outputs": [
    {
     "data": {
      "text/plain": [
       "Call:\n",
       "mix(formula = pv1math ~ gr_matematika + girl + (1 | cntschid), \n",
       "    data = rdf, weights = c(\"w_fstuwt\", \"w_schgrnrabwt\"))\n",
       "\n",
       "Variance terms:\n",
       " Level    Group        Name Variance Std. Error Std.Dev.\n",
       "     2 cntschid (Intercept)    993.4      299.0    31.52\n",
       "     1 Residual               4404.4      158.1    66.37\n",
       "Groups:\n",
       " Level    Group n size mean wgt sum wgt\n",
       "     2 cntschid    128    17.52    2243\n",
       "     1      Obs   1881    16.91   31813\n",
       "\n",
       "Fixed Effects:\n",
       "              Estimate Std. Error t value\n",
       "(Intercept)    555.920      5.688  97.732\n",
       "gr_matematika  -23.101      1.144 -20.194\n",
       "girl           -20.404      3.437  -5.937\n",
       "\n",
       "lnl= -180075.99 \n",
       "Intraclass Correlation= 0.184 "
      ]
     },
     "metadata": {},
     "output_type": "display_data"
    }
   ],
   "source": [
    "cwm4 <- mix(pv1math ~ gr_matematika + girl + (1|cntschid), data=rdf, weights=c('w_fstuwt', 'w_schgrnrabwt'))\n",
    "summary(cwm4)"
   ]
  },
  {
   "cell_type": "code",
   "execution_count": 69,
   "id": "e45c29f0-6db5-423a-b6f7-e84c1aee688f",
   "metadata": {},
   "outputs": [
    {
     "data": {
      "text/plain": [
       "Call:\n",
       "mix(formula = pv1math ~ gr_matematika + girl + (1 | cntschid), \n",
       "    data = rdf, weights = c(\"w_fstuwt_norm\", \"w_schgrnrabwt\"))\n",
       "\n",
       "Variance terms:\n",
       " Level    Group        Name  Variance Std. Error  Std.Dev.\n",
       "     2 cntschid (Intercept) 3.853e-17   4.02e-16 6.207e-09\n",
       "     1 Residual             5.210e+03   2.02e+02 7.218e+01\n",
       "Groups:\n",
       " Level    Group n size mean wgt sum wgt\n",
       "     2 cntschid    128  17.5202    2243\n",
       "     1      Obs   1881   0.9085    1709\n",
       "\n",
       "Fixed Effects:\n",
       "              Estimate Std. Error t value\n",
       "(Intercept)    567.148      5.368 105.647\n",
       "gr_matematika  -24.743      1.166 -21.229\n",
       "girl           -21.075      3.490  -6.038\n",
       "\n",
       "lnl= -9737.703 \n",
       "Intraclass Correlation= 7.395e-21 "
      ]
     },
     "metadata": {},
     "output_type": "display_data"
    }
   ],
   "source": [
    "cwm5 <- mix(pv1math ~ gr_matematika + girl + (1|cntschid), data=rdf, weights=c('w_fstuwt_norm', 'w_schgrnrabwt'))\n",
    "summary(cwm5)"
   ]
  },
  {
   "cell_type": "code",
   "execution_count": 78,
   "id": "177a94a2-4ef7-4fb2-9c74-83f6285fee4d",
   "metadata": {},
   "outputs": [],
   "source": []
  },
  {
   "cell_type": "code",
   "execution_count": 70,
   "id": "57d66ae8-449f-47b6-acfb-13f13f8a87e8",
   "metadata": {},
   "outputs": [],
   "source": [
    "rdf_sch <- rdf %>% group_by(cntschid) %>% summarise(w_fstuwt_cond_mean = mean(w_fstuwt_cond))"
   ]
  },
  {
   "cell_type": "code",
   "execution_count": 79,
   "id": "22618d18-49e1-46c8-b8ba-32c993ff5eb0",
   "metadata": {},
   "outputs": [],
   "source": [
    "rdf <- merge(rdf, rdf_sch, by=\"cntschid\")\n",
    "rdf$w_fstuwt_cond_norm <- rdf$w_fstuwt_cond / rdf$w_fstuwt_cond_mean"
   ]
  },
  {
   "cell_type": "code",
   "execution_count": 80,
   "id": "a7d4a206-9663-4ed6-b5ea-3eddd2573b36",
   "metadata": {},
   "outputs": [
    {
     "data": {
      "text/plain": [
       "Call:\n",
       "mix(formula = pv1math ~ gr_matematika + girl + (1 | cntschid), \n",
       "    data = rdf, weights = c(\"w_fstuwt_cond_norm\", \"w_schgrnrabwt\"), \n",
       "    cWeights = TRUE)\n",
       "\n",
       "Variance terms:\n",
       " Level    Group        Name Variance Std. Error Std.Dev.\n",
       "     2 cntschid (Intercept)    954.2      298.5    30.89\n",
       "     1 Residual               4424.9      161.9    66.52\n",
       "Groups:\n",
       " Level    Group n size mean wgt sum wgt\n",
       "     2 cntschid    128    17.52    2243\n",
       "     1      Obs   1881    15.13   28455\n",
       "\n",
       "Fixed Effects:\n",
       "              Estimate Std. Error t value\n",
       "(Intercept)    556.097      5.674  98.004\n",
       "gr_matematika  -23.168      1.153 -20.086\n",
       "girl           -20.399      3.517  -5.799\n",
       "\n",
       "lnl= -161179.67 \n",
       "Intraclass Correlation= 0.1774 "
      ]
     },
     "metadata": {},
     "output_type": "display_data"
    }
   ],
   "source": [
    "cwm6 <- mix(pv1math ~ gr_matematika + girl + (1|cntschid), data=rdf, weights=c('w_fstuwt_cond_norm', 'w_schgrnrabwt'), cWeights=TRUE)\n",
    "summary(cwm6)"
   ]
  },
  {
   "cell_type": "code",
   "execution_count": 81,
   "id": "b9d41c2b-0277-4506-a423-b232f09cd20a",
   "metadata": {},
   "outputs": [
    {
     "data": {
      "text/plain": [
       "Call:\n",
       "mix(formula = pv1math ~ gr_matematika + girl + (1 | cntschid), \n",
       "    data = rdf, weights = c(\"w_fstuwt_cond_norm\", \"w_schgrnrabwt_hack3\"), \n",
       "    cWeights = TRUE)\n",
       "\n",
       "Variance terms:\n",
       " Level    Group        Name Variance Std. Error Std.Dev.\n",
       "     2 cntschid (Intercept)    954.2      298.5    30.89\n",
       "     1 Residual               4424.9      161.9    66.52\n",
       "Groups:\n",
       " Level    Group n size mean wgt sum wgt\n",
       "     2 cntschid    128   0.3504   44.85\n",
       "     1      Obs   1881   0.3026  569.10\n",
       "\n",
       "Fixed Effects:\n",
       "              Estimate Std. Error t value\n",
       "(Intercept)    556.097      5.674  98.004\n",
       "gr_matematika  -23.168      1.153 -20.086\n",
       "girl           -20.399      3.517  -5.799\n",
       "\n",
       "lnl= -3223.593 \n",
       "Intraclass Correlation= 0.1774 "
      ]
     },
     "metadata": {},
     "output_type": "display_data"
    }
   ],
   "source": [
    "rdf$w_schgrnrabwt_hack3 <- rdf$w_schgrnrabwt / 50\n",
    "cwm7 <- mix(pv1math ~ gr_matematika + girl + (1|cntschid), data=rdf, weights=c('w_fstuwt_cond_norm', 'w_schgrnrabwt_hack3'), cWeights=TRUE)\n",
    "summary(cwm7)"
   ]
  },
  {
   "cell_type": "code",
   "execution_count": 82,
   "id": "c36e4bab-f511-4585-95a0-6d7dcbe057ab",
   "metadata": {},
   "outputs": [
    {
     "data": {
      "text/plain": [
       "Call:\n",
       "mix(formula = pv1math ~ gr_matematika + girl + (1 | cntschid), \n",
       "    data = rdf, weights = c(\"w_fstuwt_norm\", \"w_schgrnrabwt\"), \n",
       "    cWeights = TRUE)\n",
       "\n",
       "Variance terms:\n",
       " Level    Group        Name Variance Std. Error Std.Dev.\n",
       "     2 cntschid (Intercept)    829.4      253.6    28.80\n",
       "     1 Residual               4430.1      160.1    66.56\n",
       "Groups:\n",
       " Level    Group n size mean wgt sum wgt\n",
       "     2 cntschid    128    17.52    2243\n",
       "     1      Obs   1881    13.68   25730\n",
       "\n",
       "Fixed Effects:\n",
       "              Estimate Std. Error t value\n",
       "(Intercept)    558.277      5.396 103.465\n",
       "gr_matematika  -23.505      1.163 -20.217\n",
       "girl           -20.389      3.512  -5.806\n",
       "\n",
       "lnl= -145691.68 \n",
       "Intraclass Correlation= 0.1577 "
      ]
     },
     "metadata": {},
     "output_type": "display_data"
    }
   ],
   "source": [
    "cwm8 <- mix(pv1math ~ gr_matematika + girl + (1|cntschid), data=rdf, weights=c('w_fstuwt_norm', 'w_schgrnrabwt'), cWeights=TRUE)\n",
    "summary(cwm8)"
   ]
  },
  {
   "cell_type": "code",
   "execution_count": null,
   "id": "13b5a6f6-2468-4560-8325-a2dded5a4ae1",
   "metadata": {},
   "outputs": [],
   "source": []
  },
  {
   "cell_type": "code",
   "execution_count": 72,
   "id": "a8134893-e121-4228-aa62-529f4152649a",
   "metadata": {},
   "outputs": [
    {
     "data": {
      "text/html": [
       "<table class=\"dataframe\">\n",
       "<caption>A tibble: 128 × 2</caption>\n",
       "<thead>\n",
       "\t<tr><th scope=col>cntschid</th><th scope=col>w_fstuwt_cond_mean</th></tr>\n",
       "\t<tr><th scope=col>&lt;int&gt;</th><th scope=col>&lt;dbl&gt;</th></tr>\n",
       "</thead>\n",
       "<tbody>\n",
       "\t<tr><td>20300002</td><td>1.133904</td></tr>\n",
       "\t<tr><td>20300005</td><td>1.031746</td></tr>\n",
       "\t<tr><td>20300006</td><td>1.019231</td></tr>\n",
       "\t<tr><td>20300010</td><td>1.140709</td></tr>\n",
       "\t<tr><td>20300018</td><td>1.305844</td></tr>\n",
       "\t<tr><td>20300019</td><td>1.000000</td></tr>\n",
       "\t<tr><td>20300022</td><td>1.143807</td></tr>\n",
       "\t<tr><td>20300024</td><td>1.000000</td></tr>\n",
       "\t<tr><td>20300026</td><td>1.072222</td></tr>\n",
       "\t<tr><td>20300027</td><td>1.149285</td></tr>\n",
       "\t<tr><td>20300028</td><td>1.111111</td></tr>\n",
       "\t<tr><td>20300031</td><td>1.044321</td></tr>\n",
       "\t<tr><td>20300037</td><td>1.147059</td></tr>\n",
       "\t<tr><td>20300043</td><td>1.089012</td></tr>\n",
       "\t<tr><td>20300044</td><td>1.068966</td></tr>\n",
       "\t<tr><td>20300051</td><td>1.067822</td></tr>\n",
       "\t<tr><td>20300052</td><td>1.112249</td></tr>\n",
       "\t<tr><td>20300054</td><td>1.163347</td></tr>\n",
       "\t<tr><td>20300064</td><td>1.031746</td></tr>\n",
       "\t<tr><td>20300066</td><td>1.017713</td></tr>\n",
       "\t<tr><td>20300068</td><td>1.015078</td></tr>\n",
       "\t<tr><td>20300071</td><td>1.119643</td></tr>\n",
       "\t<tr><td>20300074</td><td>1.000000</td></tr>\n",
       "\t<tr><td>20300075</td><td>1.843751</td></tr>\n",
       "\t<tr><td>20300079</td><td>1.014815</td></tr>\n",
       "\t<tr><td>20300080</td><td>1.028282</td></tr>\n",
       "\t<tr><td>20300082</td><td>1.067228</td></tr>\n",
       "\t<tr><td>20300084</td><td>1.000000</td></tr>\n",
       "\t<tr><td>20300087</td><td>1.016667</td></tr>\n",
       "\t<tr><td>20300088</td><td>1.093627</td></tr>\n",
       "\t<tr><td>⋮</td><td>⋮</td></tr>\n",
       "\t<tr><td>20300257</td><td>1.147059</td></tr>\n",
       "\t<tr><td>20300259</td><td>1.054415</td></tr>\n",
       "\t<tr><td>20300262</td><td>1.115942</td></tr>\n",
       "\t<tr><td>20300264</td><td>1.063232</td></tr>\n",
       "\t<tr><td>20300265</td><td>1.172455</td></tr>\n",
       "\t<tr><td>20300267</td><td>1.064739</td></tr>\n",
       "\t<tr><td>20300269</td><td>1.020816</td></tr>\n",
       "\t<tr><td>20300272</td><td>1.723838</td></tr>\n",
       "\t<tr><td>20300273</td><td>1.113190</td></tr>\n",
       "\t<tr><td>20300274</td><td>1.057692</td></tr>\n",
       "\t<tr><td>20300275</td><td>1.196923</td></tr>\n",
       "\t<tr><td>20300277</td><td>1.155080</td></tr>\n",
       "\t<tr><td>20300281</td><td>1.027754</td></tr>\n",
       "\t<tr><td>20300285</td><td>1.155080</td></tr>\n",
       "\t<tr><td>20300286</td><td>1.027272</td></tr>\n",
       "\t<tr><td>20300290</td><td>1.021368</td></tr>\n",
       "\t<tr><td>20300294</td><td>1.196231</td></tr>\n",
       "\t<tr><td>20300298</td><td>1.050000</td></tr>\n",
       "\t<tr><td>20300300</td><td>1.090189</td></tr>\n",
       "\t<tr><td>20300307</td><td>1.117063</td></tr>\n",
       "\t<tr><td>20300308</td><td>1.023810</td></tr>\n",
       "\t<tr><td>20300309</td><td>1.091954</td></tr>\n",
       "\t<tr><td>20300315</td><td>1.130000</td></tr>\n",
       "\t<tr><td>20300316</td><td>1.130909</td></tr>\n",
       "\t<tr><td>20300317</td><td>1.033911</td></tr>\n",
       "\t<tr><td>20300322</td><td>1.133110</td></tr>\n",
       "\t<tr><td>20300323</td><td>1.000000</td></tr>\n",
       "\t<tr><td>20300326</td><td>1.092067</td></tr>\n",
       "\t<tr><td>20300329</td><td>1.217593</td></tr>\n",
       "\t<tr><td>20300330</td><td>1.012500</td></tr>\n",
       "</tbody>\n",
       "</table>\n"
      ],
      "text/latex": [
       "A tibble: 128 × 2\n",
       "\\begin{tabular}{ll}\n",
       " cntschid & w\\_fstuwt\\_cond\\_mean\\\\\n",
       " <int> & <dbl>\\\\\n",
       "\\hline\n",
       "\t 20300002 & 1.133904\\\\\n",
       "\t 20300005 & 1.031746\\\\\n",
       "\t 20300006 & 1.019231\\\\\n",
       "\t 20300010 & 1.140709\\\\\n",
       "\t 20300018 & 1.305844\\\\\n",
       "\t 20300019 & 1.000000\\\\\n",
       "\t 20300022 & 1.143807\\\\\n",
       "\t 20300024 & 1.000000\\\\\n",
       "\t 20300026 & 1.072222\\\\\n",
       "\t 20300027 & 1.149285\\\\\n",
       "\t 20300028 & 1.111111\\\\\n",
       "\t 20300031 & 1.044321\\\\\n",
       "\t 20300037 & 1.147059\\\\\n",
       "\t 20300043 & 1.089012\\\\\n",
       "\t 20300044 & 1.068966\\\\\n",
       "\t 20300051 & 1.067822\\\\\n",
       "\t 20300052 & 1.112249\\\\\n",
       "\t 20300054 & 1.163347\\\\\n",
       "\t 20300064 & 1.031746\\\\\n",
       "\t 20300066 & 1.017713\\\\\n",
       "\t 20300068 & 1.015078\\\\\n",
       "\t 20300071 & 1.119643\\\\\n",
       "\t 20300074 & 1.000000\\\\\n",
       "\t 20300075 & 1.843751\\\\\n",
       "\t 20300079 & 1.014815\\\\\n",
       "\t 20300080 & 1.028282\\\\\n",
       "\t 20300082 & 1.067228\\\\\n",
       "\t 20300084 & 1.000000\\\\\n",
       "\t 20300087 & 1.016667\\\\\n",
       "\t 20300088 & 1.093627\\\\\n",
       "\t ⋮ & ⋮\\\\\n",
       "\t 20300257 & 1.147059\\\\\n",
       "\t 20300259 & 1.054415\\\\\n",
       "\t 20300262 & 1.115942\\\\\n",
       "\t 20300264 & 1.063232\\\\\n",
       "\t 20300265 & 1.172455\\\\\n",
       "\t 20300267 & 1.064739\\\\\n",
       "\t 20300269 & 1.020816\\\\\n",
       "\t 20300272 & 1.723838\\\\\n",
       "\t 20300273 & 1.113190\\\\\n",
       "\t 20300274 & 1.057692\\\\\n",
       "\t 20300275 & 1.196923\\\\\n",
       "\t 20300277 & 1.155080\\\\\n",
       "\t 20300281 & 1.027754\\\\\n",
       "\t 20300285 & 1.155080\\\\\n",
       "\t 20300286 & 1.027272\\\\\n",
       "\t 20300290 & 1.021368\\\\\n",
       "\t 20300294 & 1.196231\\\\\n",
       "\t 20300298 & 1.050000\\\\\n",
       "\t 20300300 & 1.090189\\\\\n",
       "\t 20300307 & 1.117063\\\\\n",
       "\t 20300308 & 1.023810\\\\\n",
       "\t 20300309 & 1.091954\\\\\n",
       "\t 20300315 & 1.130000\\\\\n",
       "\t 20300316 & 1.130909\\\\\n",
       "\t 20300317 & 1.033911\\\\\n",
       "\t 20300322 & 1.133110\\\\\n",
       "\t 20300323 & 1.000000\\\\\n",
       "\t 20300326 & 1.092067\\\\\n",
       "\t 20300329 & 1.217593\\\\\n",
       "\t 20300330 & 1.012500\\\\\n",
       "\\end{tabular}\n"
      ],
      "text/markdown": [
       "\n",
       "A tibble: 128 × 2\n",
       "\n",
       "| cntschid &lt;int&gt; | w_fstuwt_cond_mean &lt;dbl&gt; |\n",
       "|---|---|\n",
       "| 20300002 | 1.133904 |\n",
       "| 20300005 | 1.031746 |\n",
       "| 20300006 | 1.019231 |\n",
       "| 20300010 | 1.140709 |\n",
       "| 20300018 | 1.305844 |\n",
       "| 20300019 | 1.000000 |\n",
       "| 20300022 | 1.143807 |\n",
       "| 20300024 | 1.000000 |\n",
       "| 20300026 | 1.072222 |\n",
       "| 20300027 | 1.149285 |\n",
       "| 20300028 | 1.111111 |\n",
       "| 20300031 | 1.044321 |\n",
       "| 20300037 | 1.147059 |\n",
       "| 20300043 | 1.089012 |\n",
       "| 20300044 | 1.068966 |\n",
       "| 20300051 | 1.067822 |\n",
       "| 20300052 | 1.112249 |\n",
       "| 20300054 | 1.163347 |\n",
       "| 20300064 | 1.031746 |\n",
       "| 20300066 | 1.017713 |\n",
       "| 20300068 | 1.015078 |\n",
       "| 20300071 | 1.119643 |\n",
       "| 20300074 | 1.000000 |\n",
       "| 20300075 | 1.843751 |\n",
       "| 20300079 | 1.014815 |\n",
       "| 20300080 | 1.028282 |\n",
       "| 20300082 | 1.067228 |\n",
       "| 20300084 | 1.000000 |\n",
       "| 20300087 | 1.016667 |\n",
       "| 20300088 | 1.093627 |\n",
       "| ⋮ | ⋮ |\n",
       "| 20300257 | 1.147059 |\n",
       "| 20300259 | 1.054415 |\n",
       "| 20300262 | 1.115942 |\n",
       "| 20300264 | 1.063232 |\n",
       "| 20300265 | 1.172455 |\n",
       "| 20300267 | 1.064739 |\n",
       "| 20300269 | 1.020816 |\n",
       "| 20300272 | 1.723838 |\n",
       "| 20300273 | 1.113190 |\n",
       "| 20300274 | 1.057692 |\n",
       "| 20300275 | 1.196923 |\n",
       "| 20300277 | 1.155080 |\n",
       "| 20300281 | 1.027754 |\n",
       "| 20300285 | 1.155080 |\n",
       "| 20300286 | 1.027272 |\n",
       "| 20300290 | 1.021368 |\n",
       "| 20300294 | 1.196231 |\n",
       "| 20300298 | 1.050000 |\n",
       "| 20300300 | 1.090189 |\n",
       "| 20300307 | 1.117063 |\n",
       "| 20300308 | 1.023810 |\n",
       "| 20300309 | 1.091954 |\n",
       "| 20300315 | 1.130000 |\n",
       "| 20300316 | 1.130909 |\n",
       "| 20300317 | 1.033911 |\n",
       "| 20300322 | 1.133110 |\n",
       "| 20300323 | 1.000000 |\n",
       "| 20300326 | 1.092067 |\n",
       "| 20300329 | 1.217593 |\n",
       "| 20300330 | 1.012500 |\n",
       "\n"
      ],
      "text/plain": [
       "    cntschid w_fstuwt_cond_mean\n",
       "1   20300002 1.133904          \n",
       "2   20300005 1.031746          \n",
       "3   20300006 1.019231          \n",
       "4   20300010 1.140709          \n",
       "5   20300018 1.305844          \n",
       "6   20300019 1.000000          \n",
       "7   20300022 1.143807          \n",
       "8   20300024 1.000000          \n",
       "9   20300026 1.072222          \n",
       "10  20300027 1.149285          \n",
       "11  20300028 1.111111          \n",
       "12  20300031 1.044321          \n",
       "13  20300037 1.147059          \n",
       "14  20300043 1.089012          \n",
       "15  20300044 1.068966          \n",
       "16  20300051 1.067822          \n",
       "17  20300052 1.112249          \n",
       "18  20300054 1.163347          \n",
       "19  20300064 1.031746          \n",
       "20  20300066 1.017713          \n",
       "21  20300068 1.015078          \n",
       "22  20300071 1.119643          \n",
       "23  20300074 1.000000          \n",
       "24  20300075 1.843751          \n",
       "25  20300079 1.014815          \n",
       "26  20300080 1.028282          \n",
       "27  20300082 1.067228          \n",
       "28  20300084 1.000000          \n",
       "29  20300087 1.016667          \n",
       "30  20300088 1.093627          \n",
       "⋮   ⋮        ⋮                 \n",
       "99  20300257 1.147059          \n",
       "100 20300259 1.054415          \n",
       "101 20300262 1.115942          \n",
       "102 20300264 1.063232          \n",
       "103 20300265 1.172455          \n",
       "104 20300267 1.064739          \n",
       "105 20300269 1.020816          \n",
       "106 20300272 1.723838          \n",
       "107 20300273 1.113190          \n",
       "108 20300274 1.057692          \n",
       "109 20300275 1.196923          \n",
       "110 20300277 1.155080          \n",
       "111 20300281 1.027754          \n",
       "112 20300285 1.155080          \n",
       "113 20300286 1.027272          \n",
       "114 20300290 1.021368          \n",
       "115 20300294 1.196231          \n",
       "116 20300298 1.050000          \n",
       "117 20300300 1.090189          \n",
       "118 20300307 1.117063          \n",
       "119 20300308 1.023810          \n",
       "120 20300309 1.091954          \n",
       "121 20300315 1.130000          \n",
       "122 20300316 1.130909          \n",
       "123 20300317 1.033911          \n",
       "124 20300322 1.133110          \n",
       "125 20300323 1.000000          \n",
       "126 20300326 1.092067          \n",
       "127 20300329 1.217593          \n",
       "128 20300330 1.012500          "
      ]
     },
     "metadata": {},
     "output_type": "display_data"
    }
   ],
   "source": [
    "rdf_sch"
   ]
  },
  {
   "cell_type": "code",
   "execution_count": null,
   "id": "f21e6ba8-fb4e-4d9c-9798-384d76133f8c",
   "metadata": {},
   "outputs": [],
   "source": []
  },
  {
   "cell_type": "code",
   "execution_count": 37,
   "id": "ec5e4f52-7398-4751-8523-88fbaa358942",
   "metadata": {},
   "outputs": [
    {
     "data": {
      "text/plain": [
       "Call:\n",
       "mix(formula = pv1math ~ gr_matematika + girl + (1 | cntschid), \n",
       "    data = rdf, weights = c(\"w_fstuwt_norm\", \"w_schgrnrabwt\"))\n",
       "\n",
       "Variance terms:\n",
       " Level    Group        Name  Variance Std. Error  Std.Dev.\n",
       "     2 cntschid (Intercept) 3.853e-17   4.02e-16 6.207e-09\n",
       "     1 Residual             5.210e+03   2.02e+02 7.218e+01\n",
       "Groups:\n",
       " Level    Group n size mean wgt sum wgt\n",
       "     2 cntschid    128  17.5202    2243\n",
       "     1      Obs   1881   0.9085    1709\n",
       "\n",
       "Fixed Effects:\n",
       "              Estimate Std. Error t value\n",
       "(Intercept)    567.148      5.368 105.647\n",
       "gr_matematika  -24.743      1.166 -21.229\n",
       "girl           -21.075      3.490  -6.038\n",
       "\n",
       "lnl= -9737.703 \n",
       "Intraclass Correlation= 7.395e-21 "
      ]
     },
     "metadata": {},
     "output_type": "display_data"
    }
   ],
   "source": [
    "wmx11 <- mix(pv1math ~ gr_matematika + girl + (1|cntschid), data=rdf, weights=c('w_fstuwt_norm', 'w_schgrnrabwt'))\n",
    "summary(wmx11)"
   ]
  },
  {
   "cell_type": "code",
   "execution_count": 38,
   "id": "7f9270c5-31e2-41e0-b7b6-cc9e2e00ed42",
   "metadata": {},
   "outputs": [],
   "source": [
    "rdf$w_schgrnrabwt_hack <- rdf$w_schgrnrabwt / 10"
   ]
  },
  {
   "cell_type": "code",
   "execution_count": 39,
   "id": "5b150525-00de-4495-b7ad-c284aba5b49c",
   "metadata": {},
   "outputs": [
    {
     "data": {
      "text/plain": [
       "Call:\n",
       "mix(formula = pv1math ~ gr_matematika + girl + (1 | cntschid), \n",
       "    data = rdf, weights = c(\"w_fstuwt_norm\", \"w_schgrnrabwt_hack\"))\n",
       "\n",
       "Variance terms:\n",
       " Level    Group        Name Variance Std. Error Std.Dev.\n",
       "     2 cntschid (Intercept)    460.5      140.1    21.46\n",
       "     1 Residual               4736.4      160.9    68.82\n",
       "Groups:\n",
       " Level    Group n size mean wgt sum wgt\n",
       "     2 cntschid    128   1.7520   224.3\n",
       "     1      Obs   1881   0.9085  1708.9\n",
       "\n",
       "Fixed Effects:\n",
       "              Estimate Std. Error t value\n",
       "(Intercept)    562.262      5.182 108.504\n",
       "gr_matematika  -23.944      1.129 -21.216\n",
       "girl           -20.936      3.197  -6.549\n",
       "\n",
       "lnl= -9710.665 \n",
       "Intraclass Correlation= 0.08861 "
      ]
     },
     "metadata": {},
     "output_type": "display_data"
    }
   ],
   "source": [
    "wmx12 <- mix(pv1math ~ gr_matematika + girl + (1|cntschid), data=rdf, weights=c('w_fstuwt_norm', 'w_schgrnrabwt_hack'))\n",
    "summary(wmx12)"
   ]
  },
  {
   "cell_type": "code",
   "execution_count": 40,
   "id": "63390e04-482a-4c4b-aaa7-ea8c56fb8737",
   "metadata": {},
   "outputs": [],
   "source": [
    "rdf$w_schgrnrabwt_hack2 <- rdf$w_schgrnrabwt / 20"
   ]
  },
  {
   "cell_type": "code",
   "execution_count": 41,
   "id": "87f3c74e-d2de-4e7f-ad47-d4f83c6f3082",
   "metadata": {},
   "outputs": [
    {
     "data": {
      "text/plain": [
       "Call:\n",
       "mix(formula = pv1math ~ gr_matematika + girl + (1 | cntschid), \n",
       "    data = rdf, weights = c(\"w_fstuwt_norm\", \"w_schgrnrabwt_hack2\"))\n",
       "\n",
       "Variance terms:\n",
       " Level    Group        Name Variance Std. Error Std.Dev.\n",
       "     2 cntschid (Intercept)      777      199.6    27.88\n",
       "     1 Residual                 4480      146.3    66.94\n",
       "Groups:\n",
       " Level    Group n size mean wgt sum wgt\n",
       "     2 cntschid    128   0.8760   112.1\n",
       "     1      Obs   1881   0.9085  1708.9\n",
       "\n",
       "Fixed Effects:\n",
       "              Estimate Std. Error t value\n",
       "(Intercept)    558.862      5.390 103.684\n",
       "gr_matematika  -23.526      1.136 -20.714\n",
       "girl           -20.676      3.145  -6.575\n",
       "\n",
       "lnl= -9669.358 \n",
       "Intraclass Correlation= 0.1478 "
      ]
     },
     "metadata": {},
     "output_type": "display_data"
    }
   ],
   "source": [
    "wmx13 <- mix(pv1math ~ gr_matematika + girl + (1|cntschid), data=rdf, weights=c('w_fstuwt_norm', 'w_schgrnrabwt_hack2'))\n",
    "summary(wmx13)"
   ]
  },
  {
   "cell_type": "code",
   "execution_count": 42,
   "id": "bc56c92d-6704-47f7-8029-951165afa5c1",
   "metadata": {},
   "outputs": [
    {
     "data": {
      "text/plain": [
       "Call:\n",
       "mix(formula = pv1math ~ gr_matematika + girl + (1 | cntschid), \n",
       "    data = rdf, weights = c(\"w_fstuwt_norm\", \"w_schgrnrabwt_hack3\"))\n",
       "\n",
       "Variance terms:\n",
       " Level    Group        Name Variance Std. Error Std.Dev.\n",
       "     2 cntschid (Intercept)     1127      285.3    33.57\n",
       "     1 Residual                 4306      140.0    65.62\n",
       "Groups:\n",
       " Level    Group n size mean wgt sum wgt\n",
       "     2 cntschid    128   0.3504   44.85\n",
       "     1      Obs   1881   0.9085 1708.93\n",
       "\n",
       "Fixed Effects:\n",
       "              Estimate Std. Error t value\n",
       "(Intercept)    556.113      5.779  96.222\n",
       "gr_matematika  -23.274      1.151 -20.222\n",
       "girl           -20.369      3.152  -6.462\n",
       "\n",
       "lnl= -9619.962 \n",
       "Intraclass Correlation= 0.2075 "
      ]
     },
     "metadata": {},
     "output_type": "display_data"
    }
   ],
   "source": [
    "rdf$w_schgrnrabwt_hack3 <- rdf$w_schgrnrabwt / 50\n",
    "wmx14 <- mix(pv1math ~ gr_matematika + girl + (1|cntschid), data=rdf, weights=c('w_fstuwt_norm', 'w_schgrnrabwt_hack3'))\n",
    "summary(wmx14)"
   ]
  },
  {
   "cell_type": "code",
   "execution_count": null,
   "id": "2551741b-e023-44c8-a6ca-de09fbaaa475",
   "metadata": {},
   "outputs": [],
   "source": []
  },
  {
   "cell_type": "code",
   "execution_count": 69,
   "id": "03bd3790-945c-47e7-b9d6-86d24af7c9a0",
   "metadata": {},
   "outputs": [
    {
     "data": {
      "text/plain": [
       "   Min. 1st Qu.  Median    Mean 3rd Qu.    Max. \n",
       "  6.039  11.775  12.826  15.128  15.380  61.519 "
      ]
     },
     "metadata": {},
     "output_type": "display_data"
    }
   ],
   "source": [
    "summary(rdf$w_schgrnrabwt)"
   ]
  },
  {
   "cell_type": "code",
   "execution_count": null,
   "id": "53cb4ffa-611b-48ed-a907-4660f9d1f233",
   "metadata": {},
   "outputs": [],
   "source": []
  },
  {
   "cell_type": "code",
   "execution_count": null,
   "id": "3de287a5-149f-4277-bb7e-8a58268ad4a0",
   "metadata": {},
   "outputs": [],
   "source": [
    "rdf$w_schgrnrabwt_hack3 <- rdf$w_schgrnrabwt / 50\n",
    "wmx14 <- mix(pv1math ~ gr_matematika + girl + (1|cntschid), data=rdf, weights=c('w_fstuwt_norm', 'w_schgrnrabwt_hack3'))\n",
    "summary(wmx14)"
   ]
  },
  {
   "cell_type": "code",
   "execution_count": 44,
   "id": "744e3273-58bd-47b5-914d-a49b2e758b16",
   "metadata": {},
   "outputs": [
    {
     "name": "stdout",
     "output_type": "stream",
     "text": [
      "Estimating mixed model with pv1math as the outcome.\n",
      "Estimating mixed model with pv2math as the outcome.\n",
      "Estimating mixed model with pv3math as the outcome.\n",
      "Estimating mixed model with pv4math as the outcome.\n",
      "Estimating mixed model with pv5math as the outcome.\n",
      "Estimating mixed model with pv6math as the outcome.\n",
      "Estimating mixed model with pv7math as the outcome.\n",
      "Estimating mixed model with pv8math as the outcome.\n",
      "Estimating mixed model with pv9math as the outcome.\n",
      "Estimating mixed model with pv10math as the outcome.\n"
     ]
    },
    {
     "data": {
      "text/plain": [
       "Call:\n",
       "mixed.sdf(formula = math ~ gr_matematika + girl + (1 | cntschid), \n",
       "    data = cze3, weightVars = c(\"w_fstuwt_norm\", \"ones\"), weightTransformation = FALSE, \n",
       "    verbose = 1)\n",
       "\n",
       "Formula: math ~ gr_matematika + girl + (1 | cntschid)\n",
       "\n",
       "Plausible Values: 10\n",
       "Number of Groups:\n",
       " Level    Group n size mean wgt sum wgt\n",
       "     2 cntschid    128   1.0000     128\n",
       "     1      Obs   1881   0.9085    1709\n",
       "\n",
       "Variance terms:\n",
       " Level    Group        Name Variance Std. Error Std.Dev.\n",
       "     2 cntschid (Intercept)    772.2      189.1    27.79\n",
       "     1 Residual               4422.3      148.5    66.50\n",
       "\n",
       "Fixed Effects:\n",
       "              Estimate Std. Error t value\n",
       "(Intercept)    558.482      5.960  93.710\n",
       "gr_matematika  -23.298      1.297 -17.961\n",
       "girl           -18.022      4.055  -4.444\n",
       "\n",
       "Intraclass Correlation= 0.149"
      ]
     },
     "metadata": {},
     "output_type": "display_data"
    }
   ],
   "source": [
    "es1 <- mixed.sdf(math ~ gr_matematika + girl + (1|cntschid), data=cze3, verbose=1, weightVars=c('w_fstuwt_norm', 'ones'), weightTransformation=FALSE)\n",
    "summary(es1)"
   ]
  },
  {
   "cell_type": "code",
   "execution_count": 48,
   "id": "a6dcd52c-2ff7-48a0-9310-97e3fde82704",
   "metadata": {},
   "outputs": [
    {
     "name": "stdout",
     "output_type": "stream",
     "text": [
      "Estimating mixed model with pv1math as the outcome.\n",
      "Estimating mixed model with pv2math as the outcome.\n",
      "Estimating mixed model with pv3math as the outcome.\n",
      "Estimating mixed model with pv4math as the outcome.\n",
      "Estimating mixed model with pv5math as the outcome.\n",
      "Estimating mixed model with pv6math as the outcome.\n",
      "Estimating mixed model with pv7math as the outcome.\n",
      "Estimating mixed model with pv8math as the outcome.\n",
      "Estimating mixed model with pv9math as the outcome.\n",
      "Estimating mixed model with pv10math as the outcome.\n"
     ]
    },
    {
     "data": {
      "text/plain": [
       "Call:\n",
       "mixed.sdf(formula = math ~ gr_matematika + girl + (1 | cntschid), \n",
       "    data = cze3, weightVars = c(\"w_fstuwt_norm\", \"w_schgrnrabwt\"), \n",
       "    weightTransformation = FALSE, verbose = 1)\n",
       "\n",
       "Formula: math ~ gr_matematika + girl + (1 | cntschid)\n",
       "\n",
       "Plausible Values: 10\n",
       "Number of Groups:\n",
       " Level    Group n size mean wgt sum wgt\n",
       "     2 cntschid    128  17.5202    2243\n",
       "     1      Obs   1881   0.9085    1709\n",
       "\n",
       "Variance terms:\n",
       " Level    Group        Name  Variance Std. Error  Std.Dev.\n",
       "     2 cntschid (Intercept) 7.224e-13   4.02e-16 8.499e-07\n",
       "     1 Residual             5.148e+03   2.02e+02 7.175e+01\n",
       "\n",
       "Fixed Effects:\n",
       "              Estimate Std. Error t value\n",
       "(Intercept)    564.877      6.012  93.956\n",
       "gr_matematika  -24.388      1.363 -17.888\n",
       "girl           -18.295      4.263  -4.292\n",
       "\n",
       "Intraclass Correlation= 1.38e-16"
      ]
     },
     "metadata": {},
     "output_type": "display_data"
    }
   ],
   "source": [
    "es2 <- mixed.sdf(math ~ gr_matematika + girl + (1|cntschid), data=cze3, verbose=1, weightVars=c('w_fstuwt_norm', 'w_schgrnrabwt'), weightTransformation=FALSE)\n",
    "summary(es2)"
   ]
  },
  {
   "cell_type": "code",
   "execution_count": null,
   "id": "ab27be67-b7a9-4659-b6bf-d5f565ea02eb",
   "metadata": {},
   "outputs": [],
   "source": []
  },
  {
   "cell_type": "code",
   "execution_count": 46,
   "id": "4babcbc6-ebec-4b2d-bcb1-d0a25a536ff0",
   "metadata": {},
   "outputs": [
    {
     "data": {
      "text/html": [
       "27.7884868245826"
      ],
      "text/latex": [
       "27.7884868245826"
      ],
      "text/markdown": [
       "27.7884868245826"
      ],
      "text/plain": [
       "[1] 27.78849"
      ]
     },
     "metadata": {},
     "output_type": "display_data"
    }
   ],
   "source": [
    "sqrt(772.2)"
   ]
  },
  {
   "cell_type": "code",
   "execution_count": 47,
   "id": "169f4ccb-e450-4d5b-b0b8-f7868d50d74c",
   "metadata": {},
   "outputs": [
    {
     "data": {
      "text/html": [
       "66.500375938787"
      ],
      "text/latex": [
       "66.500375938787"
      ],
      "text/markdown": [
       "66.500375938787"
      ],
      "text/plain": [
       "[1] 66.50038"
      ]
     },
     "metadata": {},
     "output_type": "display_data"
    }
   ],
   "source": [
    "sqrt(4422.3)"
   ]
  },
  {
   "cell_type": "code",
   "execution_count": null,
   "id": "f9b0c4e5-0427-4e1a-9cb9-85ff42fba39d",
   "metadata": {},
   "outputs": [],
   "source": []
  },
  {
   "cell_type": "code",
   "execution_count": 83,
   "id": "99736914-376b-4b39-aa6a-80e2287b5c67",
   "metadata": {},
   "outputs": [
    {
     "name": "stdout",
     "output_type": "stream",
     "text": [
      "Estimating mixed model with pv1math as the outcome.\n",
      "Estimating mixed model with pv2math as the outcome.\n",
      "Estimating mixed model with pv3math as the outcome.\n",
      "Estimating mixed model with pv4math as the outcome.\n",
      "Estimating mixed model with pv5math as the outcome.\n",
      "Estimating mixed model with pv6math as the outcome.\n",
      "Estimating mixed model with pv7math as the outcome.\n",
      "Estimating mixed model with pv8math as the outcome.\n",
      "Estimating mixed model with pv9math as the outcome.\n",
      "Estimating mixed model with pv10math as the outcome.\n"
     ]
    }
   ],
   "source": [
    "mix1 <- mixed.sdf(math ~ gr_matematika + (1|cntschid), data=cze3, verbose=1)"
   ]
  },
  {
   "cell_type": "code",
   "execution_count": 84,
   "id": "d587a276-0303-496c-b92b-a3425f26d6b6",
   "metadata": {},
   "outputs": [
    {
     "data": {
      "text/plain": [
       "Call:\n",
       "mixed.sdf(formula = math ~ gr_matematika + (1 | cntschid), data = cze3, \n",
       "    verbose = 1, weightVars = c(\"w_fstuwt\", \"w_fschwt\"))\n",
       "\n",
       "Formula: math ~ gr_matematika + (1 | cntschid)\n",
       "\n",
       "Plausible Values: 10\n",
       "Number of Groups:\n",
       " Level    Group n size mean wgt sum wgt\n",
       "     2 cntschid    128  315.186   40344\n",
       "     1      Obs   1881    0.998    1877\n",
       "\n",
       "Variance terms:\n",
       " Level    Group        Name  Variance Std. Error  Std.Dev.\n",
       "     2 cntschid (Intercept) 4.052e-13  1.164e-14 6.366e-07\n",
       "     1 Residual             5.299e+03  2.162e+02 7.279e+01\n",
       "\n",
       "Fixed Effects:\n",
       "              Estimate Std. Error t value\n",
       "(Intercept)    553.598      5.772   95.92\n",
       "gr_matematika  -23.673      1.334  -17.75\n",
       "\n",
       "Intraclass Correlation= 7.73e-17"
      ]
     },
     "metadata": {},
     "output_type": "display_data"
    }
   ],
   "source": [
    "summary(mix1)"
   ]
  },
  {
   "cell_type": "code",
   "execution_count": 103,
   "id": "c6530fdd-8ae8-4b98-8a56-e3edd92d578a",
   "metadata": {},
   "outputs": [
    {
     "name": "stdout",
     "output_type": "stream",
     "text": [
      "Estimating mixed model with pv1math as the outcome.\n",
      "Estimating mixed model with pv2math as the outcome.\n",
      "Estimating mixed model with pv3math as the outcome.\n",
      "Estimating mixed model with pv4math as the outcome.\n",
      "Estimating mixed model with pv5math as the outcome.\n",
      "Estimating mixed model with pv6math as the outcome.\n",
      "Estimating mixed model with pv7math as the outcome.\n",
      "Estimating mixed model with pv8math as the outcome.\n",
      "Estimating mixed model with pv9math as the outcome.\n",
      "Estimating mixed model with pv10math as the outcome.\n"
     ]
    },
    {
     "data": {
      "text/plain": [
       "Call:\n",
       "mixed.sdf(formula = math ~ gr_matematika + (1 | cntschid), data = cze3, \n",
       "    weightVars = c(\"ones\", \"ones\"), weightTransformation = FALSE, \n",
       "    verbose = 1)\n",
       "\n",
       "Formula: math ~ gr_matematika + (1 | cntschid)\n",
       "\n",
       "Plausible Values: 10\n",
       "Number of Groups:\n",
       " Level    Group n size mean wgt sum wgt\n",
       "     2 cntschid    128        1     128\n",
       "     1      Obs   1881        1    1881\n",
       "\n",
       "Variance terms:\n",
       " Level    Group        Name Variance Std. Error Std.Dev.\n",
       "     2 cntschid (Intercept)    893.3      224.5    29.89\n",
       "     1 Residual               4505.6      153.4    67.12\n",
       "\n",
       "Fixed Effects:\n",
       "              Estimate Std. Error t value\n",
       "(Intercept)    546.985      5.848   93.54\n",
       "gr_matematika  -22.510      1.287  -17.48\n",
       "\n",
       "Intraclass Correlation= 0.165"
      ]
     },
     "metadata": {},
     "output_type": "display_data"
    }
   ],
   "source": [
    "mix1nw <- mixed.sdf(math ~ gr_matematika + (1|cntschid), data=cze3, verbose=1, weightVars=c('ones', 'ones'), weightTransformation=FALSE)\n",
    "summary(mix1nw)"
   ]
  },
  {
   "cell_type": "code",
   "execution_count": 28,
   "id": "db03e747-4c75-4fe6-83f9-326b85b933e2",
   "metadata": {},
   "outputs": [
    {
     "name": "stdout",
     "output_type": "stream",
     "text": [
      "Estimating mixed model with pv1math as the outcome.\n",
      "Estimating mixed model with pv2math as the outcome.\n",
      "Estimating mixed model with pv3math as the outcome.\n",
      "Estimating mixed model with pv4math as the outcome.\n",
      "Estimating mixed model with pv5math as the outcome.\n",
      "Estimating mixed model with pv6math as the outcome.\n",
      "Estimating mixed model with pv7math as the outcome.\n",
      "Estimating mixed model with pv8math as the outcome.\n",
      "Estimating mixed model with pv9math as the outcome.\n",
      "Estimating mixed model with pv10math as the outcome.\n"
     ]
    },
    {
     "data": {
      "text/plain": [
       "Call:\n",
       "mixed.sdf(formula = math ~ gr_matematika + (1 | cntschid), data = cze3, \n",
       "    weightVars = c(\"w_fstuwt\", \"w_schgrnrabwt\"), weightTransformation = TRUE, \n",
       "    verbose = 1)\n",
       "\n",
       "Formula: math ~ gr_matematika + (1 | cntschid)\n",
       "\n",
       "Plausible Values: 10\n",
       "Number of Groups:\n",
       " Level    Group n size mean wgt sum wgt\n",
       "     2 cntschid    128   17.520    2243\n",
       "     1      Obs   1881    0.998    1877\n",
       "\n",
       "Variance terms:\n",
       " Level    Group        Name  Variance Std. Error  Std.Dev.\n",
       "     2 cntschid (Intercept) 9.909e-16  2.718e-19 3.148e-08\n",
       "     1 Residual             5.299e+03  2.162e+02 7.279e+01\n",
       "\n",
       "Fixed Effects:\n",
       "              Estimate Std. Error t value\n",
       "(Intercept)    553.598      5.772   95.92\n",
       "gr_matematika  -23.673      1.334  -17.75\n",
       "\n",
       "Intraclass Correlation= 1.85e-19"
      ]
     },
     "metadata": {},
     "output_type": "display_data"
    }
   ],
   "source": [
    "mix1w <- mixed.sdf(math ~ gr_matematika + (1|cntschid), data=cze3, verbose=1, weightVars=c('w_fstuwt', 'w_schgrnrabwt'), weightTransformation=TRUE)\n",
    "summary(mix1w)"
   ]
  },
  {
   "cell_type": "code",
   "execution_count": 29,
   "id": "99f522a1-5b7e-477f-a543-5f0dae93e521",
   "metadata": {},
   "outputs": [
    {
     "name": "stdout",
     "output_type": "stream",
     "text": [
      "Estimating mixed model with pv1math as the outcome.\n",
      "Estimating mixed model with pv2math as the outcome.\n",
      "Estimating mixed model with pv3math as the outcome.\n",
      "Estimating mixed model with pv4math as the outcome.\n",
      "Estimating mixed model with pv5math as the outcome.\n",
      "Estimating mixed model with pv6math as the outcome.\n",
      "Estimating mixed model with pv7math as the outcome.\n",
      "Estimating mixed model with pv8math as the outcome.\n",
      "Estimating mixed model with pv9math as the outcome.\n",
      "Estimating mixed model with pv10math as the outcome.\n"
     ]
    },
    {
     "data": {
      "text/plain": [
       "Call:\n",
       "mixed.sdf(formula = math ~ gr_matematika + (1 | cntschid), data = cze3, \n",
       "    weightVars = c(\"ones\", \"w_schgrnrabwt\"), weightTransformation = FALSE, \n",
       "    verbose = 1)\n",
       "\n",
       "Formula: math ~ gr_matematika + (1 | cntschid)\n",
       "\n",
       "Plausible Values: 10\n",
       "Number of Groups:\n",
       " Level    Group n size mean wgt sum wgt\n",
       "     2 cntschid    128    17.52    2243\n",
       "     1      Obs   1881     1.00    1881\n",
       "\n",
       "Variance terms:\n",
       " Level    Group        Name  Variance Std. Error  Std.Dev.\n",
       "     2 cntschid (Intercept) 1.241e-13  1.856e-16 3.522e-07\n",
       "     1 Residual             5.308e+03  2.165e+02 7.286e+01\n",
       "\n",
       "Fixed Effects:\n",
       "              Estimate Std. Error t value\n",
       "(Intercept)    553.753      5.796   95.55\n",
       "gr_matematika  -23.700      1.342  -17.66\n",
       "\n",
       "Intraclass Correlation= 2.32e-17"
      ]
     },
     "metadata": {},
     "output_type": "display_data"
    }
   ],
   "source": [
    "mix1w <- mixed.sdf(math ~ gr_matematika + (1|cntschid), data=cze3, verbose=1, weightVars=c('ones', 'w_schgrnrabwt'), weightTransformation=FALSE)\n",
    "summary(mix1w)"
   ]
  },
  {
   "cell_type": "code",
   "execution_count": 30,
   "id": "2300e47b-648c-439f-987f-26ae2fc31bde",
   "metadata": {},
   "outputs": [
    {
     "name": "stdout",
     "output_type": "stream",
     "text": [
      "Estimating mixed model with pv1math as the outcome.\n",
      "Estimating mixed model with pv2math as the outcome.\n",
      "Estimating mixed model with pv3math as the outcome.\n",
      "Estimating mixed model with pv4math as the outcome.\n",
      "Estimating mixed model with pv5math as the outcome.\n",
      "Estimating mixed model with pv6math as the outcome.\n",
      "Estimating mixed model with pv7math as the outcome.\n",
      "Estimating mixed model with pv8math as the outcome.\n",
      "Estimating mixed model with pv9math as the outcome.\n",
      "Estimating mixed model with pv10math as the outcome.\n"
     ]
    },
    {
     "data": {
      "text/plain": [
       "Call:\n",
       "mixed.sdf(formula = math ~ gr_matematika + (1 | cntschid), data = cze3, \n",
       "    weightVars = c(\"w_fstuwt\", \"w_schgrnrabwt\"), weightTransformation = FALSE, \n",
       "    verbose = 1)\n",
       "\n",
       "Formula: math ~ gr_matematika + (1 | cntschid)\n",
       "\n",
       "Plausible Values: 10\n",
       "Number of Groups:\n",
       " Level    Group n size mean wgt sum wgt\n",
       "     2 cntschid    128    17.52    2243\n",
       "     1      Obs   1881    16.91   31813\n",
       "\n",
       "Variance terms:\n",
       " Level    Group        Name Variance Std. Error Std.Dev.\n",
       "     2 cntschid (Intercept)     1048      319.4    32.37\n",
       "     1 Residual                 4472      159.0    66.87\n",
       "\n",
       "Fixed Effects:\n",
       "              Estimate Std. Error t value\n",
       "(Intercept)    543.922      6.289   86.48\n",
       "gr_matematika  -22.115      1.343  -16.47\n",
       "\n",
       "Intraclass Correlation= 0.190"
      ]
     },
     "metadata": {},
     "output_type": "display_data"
    }
   ],
   "source": [
    "mix1nww <- mixed.sdf(math ~ gr_matematika + (1|cntschid), data=cze3, verbose=1, weightVars=c('w_fstuwt', 'w_schgrnrabwt'), weightTransformation=FALSE)\n",
    "summary(mix1nww)"
   ]
  },
  {
   "cell_type": "code",
   "execution_count": 31,
   "id": "45b0e9ff-ad5f-43a2-81ba-aed4de2c5aa9",
   "metadata": {},
   "outputs": [
    {
     "name": "stdout",
     "output_type": "stream",
     "text": [
      "Estimating mixed model with pv1math as the outcome.\n",
      "Estimating mixed model with pv2math as the outcome.\n",
      "Estimating mixed model with pv3math as the outcome.\n",
      "Estimating mixed model with pv4math as the outcome.\n",
      "Estimating mixed model with pv5math as the outcome.\n",
      "Estimating mixed model with pv6math as the outcome.\n",
      "Estimating mixed model with pv7math as the outcome.\n",
      "Estimating mixed model with pv8math as the outcome.\n",
      "Estimating mixed model with pv9math as the outcome.\n",
      "Estimating mixed model with pv10math as the outcome.\n"
     ]
    },
    {
     "data": {
      "text/plain": [
       "Call:\n",
       "mixed.sdf(formula = math ~ gr_matematika + girl + (1 | cntschid), \n",
       "    data = cze3, weightVars = c(\"w_fstuwt\", \"w_schgrnrabwt\"), \n",
       "    weightTransformation = FALSE, verbose = 1)\n",
       "\n",
       "Formula: math ~ gr_matematika + girl + (1 | cntschid)\n",
       "\n",
       "Plausible Values: 10\n",
       "Number of Groups:\n",
       " Level    Group n size mean wgt sum wgt\n",
       "     2 cntschid    128    17.52    2243\n",
       "     1      Obs   1881    16.91   31813\n",
       "\n",
       "Variance terms:\n",
       " Level    Group        Name Variance Std. Error Std.Dev.\n",
       "     2 cntschid (Intercept)     1024      299.0    32.01\n",
       "     1 Residual                 4402      158.1    66.35\n",
       "\n",
       "Fixed Effects:\n",
       "              Estimate Std. Error t value\n",
       "(Intercept)    553.586      6.433  86.051\n",
       "gr_matematika  -22.726      1.351 -16.825\n",
       "girl           -17.323      4.585  -3.778\n",
       "\n",
       "Intraclass Correlation= 0.189"
      ]
     },
     "metadata": {},
     "output_type": "display_data"
    }
   ],
   "source": [
    "mix1nww <- mixed.sdf(math ~ gr_matematika + girl + (1|cntschid), data=cze3, verbose=1, weightVars=c('w_fstuwt', 'w_schgrnrabwt'), weightTransformation=FALSE)\n",
    "summary(mix1nww)"
   ]
  },
  {
   "cell_type": "code",
   "execution_count": 62,
   "id": "c496b4ba-9ace-47ed-a91b-02942caeb670",
   "metadata": {},
   "outputs": [
    {
     "name": "stdout",
     "output_type": "stream",
     "text": [
      "Estimating mixed model with pv1math as the outcome.\n",
      "Estimating mixed model with pv2math as the outcome.\n",
      "Estimating mixed model with pv3math as the outcome.\n",
      "Estimating mixed model with pv4math as the outcome.\n",
      "Estimating mixed model with pv5math as the outcome.\n",
      "Estimating mixed model with pv6math as the outcome.\n",
      "Estimating mixed model with pv7math as the outcome.\n",
      "Estimating mixed model with pv8math as the outcome.\n",
      "Estimating mixed model with pv9math as the outcome.\n",
      "Estimating mixed model with pv10math as the outcome.\n"
     ]
    },
    {
     "data": {
      "text/plain": [
       "Call:\n",
       "mixed.sdf(formula = math ~ gr_matematika + girl + (1 | cntschid), \n",
       "    data = cze3, weightVars = c(\"w_fstuwt_norm\", \"w_schgrnrabwt\"), \n",
       "    weightTransformation = FALSE, verbose = 1)\n",
       "\n",
       "Formula: math ~ gr_matematika + girl + (1 | cntschid)\n",
       "\n",
       "Plausible Values: 10\n",
       "Number of Groups:\n",
       " Level    Group n size mean wgt sum wgt\n",
       "     2 cntschid    128  17.5202    2243\n",
       "     1      Obs   1881   0.9951    1872\n",
       "\n",
       "Variance terms:\n",
       " Level    Group        Name  Variance Std. Error  Std.Dev.\n",
       "     2 cntschid (Intercept) 4.335e-14  4.530e-16 2.082e-07\n",
       "     1 Residual             5.204e+03  2.094e+02 7.214e+01\n",
       "\n",
       "Fixed Effects:\n",
       "              Estimate Std. Error t value\n",
       "(Intercept)    564.111      5.982  94.306\n",
       "gr_matematika  -24.300      1.340 -18.134\n",
       "girl           -18.789      4.297  -4.372\n",
       "\n",
       "Intraclass Correlation= 8.54e-18"
      ]
     },
     "metadata": {},
     "output_type": "display_data"
    }
   ],
   "source": [
    "mix12 <- mixed.sdf(math ~ gr_matematika + girl + (1|cntschid), data=cze3, verbose=1, weightVars=c('w_fstuwt_norm', 'w_schgrnrabwt'), weightTransformation=FALSE)\n",
    "summary(mix12)"
   ]
  },
  {
   "cell_type": "code",
   "execution_count": 120,
   "id": "64a6b891-0b00-4b3e-82f7-caeaf3503ea1",
   "metadata": {},
   "outputs": [
    {
     "name": "stdout",
     "output_type": "stream",
     "text": [
      "Estimating mixed model with pv1math as the outcome.\n",
      "Estimating mixed model with pv2math as the outcome.\n",
      "Estimating mixed model with pv3math as the outcome.\n",
      "Estimating mixed model with pv4math as the outcome.\n",
      "Estimating mixed model with pv5math as the outcome.\n",
      "Estimating mixed model with pv6math as the outcome.\n",
      "Estimating mixed model with pv7math as the outcome.\n",
      "Estimating mixed model with pv8math as the outcome.\n",
      "Estimating mixed model with pv9math as the outcome.\n",
      "Estimating mixed model with pv10math as the outcome.\n"
     ]
    }
   ],
   "source": [
    "mix13 <- mixed.sdf(math ~ gr_matematika + girl + (1|cntschid), data=cze3, verbose=1, weightVars=c('w_fstuwt_norm', 'w_schwt_norm'), weightTransformation=FALSE)\n",
    "summary(mix13)"
   ]
  },
  {
   "cell_type": "code",
   "execution_count": 118,
   "id": "853c7962-6ec7-4ff4-9981-b6ddb12f8e4e",
   "metadata": {},
   "outputs": [
    {
     "name": "stdout",
     "output_type": "stream",
     "text": [
      "Estimating mixed model with pv1math as the outcome.\n",
      "Estimating mixed model with pv2math as the outcome.\n",
      "Estimating mixed model with pv3math as the outcome.\n",
      "Estimating mixed model with pv4math as the outcome.\n",
      "Estimating mixed model with pv5math as the outcome.\n",
      "Estimating mixed model with pv6math as the outcome.\n",
      "Estimating mixed model with pv7math as the outcome.\n",
      "Estimating mixed model with pv8math as the outcome.\n",
      "Estimating mixed model with pv9math as the outcome.\n",
      "Estimating mixed model with pv10math as the outcome.\n"
     ]
    },
    {
     "data": {
      "text/plain": [
       "Call:\n",
       "mixed.sdf(formula = math ~ gr_matematika + girl + (1 | cntschid), \n",
       "    data = cze3, weightVars = c(\"w_fstuwt\", \"w_schwt_norm\"), \n",
       "    weightTransformation = TRUE, verbose = 1)\n",
       "\n",
       "Formula: math ~ gr_matematika + girl + (1 | cntschid)\n",
       "\n",
       "Plausible Values: 10\n",
       "Number of Groups:\n",
       " Level    Group n size mean wgt sum wgt\n",
       "     2 cntschid    128   1.4161   181.3\n",
       "     1      Obs   1881   0.9982  1877.6\n",
       "\n",
       "Variance terms:\n",
       " Level    Group        Name Variance Std. Error Std.Dev.\n",
       "     2 cntschid (Intercept)    687.3      177.3    26.22\n",
       "     1 Residual               4532.4      157.1    67.32\n",
       "\n",
       "Fixed Effects:\n",
       "              Estimate Std. Error t value\n",
       "(Intercept)    557.255      6.022  92.533\n",
       "gr_matematika  -23.274      1.289 -18.050\n",
       "girl           -18.269      4.085  -4.472\n",
       "\n",
       "Intraclass Correlation= 0.132"
      ]
     },
     "metadata": {},
     "output_type": "display_data"
    }
   ],
   "source": [
    "mix14 <- mixed.sdf(math ~ gr_matematika + girl + (1|cntschid), data=cze3, verbose=1, weightVars=c('w_fstuwt', 'w_schwt_norm'), weightTransformation=TRUE)\n",
    "summary(mix14)"
   ]
  },
  {
   "cell_type": "code",
   "execution_count": 100,
   "id": "38db475d-a30f-4ce8-b79d-99bf1748b3e9",
   "metadata": {},
   "outputs": [
    {
     "name": "stdout",
     "output_type": "stream",
     "text": [
      "Estimating mixed model with pv1math as the outcome.\n",
      "Estimating mixed model with pv2math as the outcome.\n",
      "Estimating mixed model with pv3math as the outcome.\n",
      "Estimating mixed model with pv4math as the outcome.\n",
      "Estimating mixed model with pv5math as the outcome.\n",
      "Estimating mixed model with pv6math as the outcome.\n",
      "Estimating mixed model with pv7math as the outcome.\n",
      "Estimating mixed model with pv8math as the outcome.\n",
      "Estimating mixed model with pv9math as the outcome.\n",
      "Estimating mixed model with pv10math as the outcome.\n"
     ]
    },
    {
     "data": {
      "text/plain": [
       "Call:\n",
       "mixed.sdf(formula = math ~ gr_matematika + girl + (1 | cntschid), \n",
       "    data = cze3, weightVars = c(\"w_fstuwt\", \"ones\"), weightTransformation = TRUE, \n",
       "    verbose = 1)\n",
       "\n",
       "Formula: math ~ gr_matematika + girl + (1 | cntschid)\n",
       "\n",
       "Plausible Values: 10\n",
       "Number of Groups:\n",
       " Level    Group n size mean wgt sum wgt\n",
       "     2 cntschid    128    1.000     128\n",
       "     1      Obs   1881    0.998    1877\n",
       "\n",
       "Variance terms:\n",
       " Level    Group        Name Variance Std. Error Std.Dev.\n",
       "     2 cntschid (Intercept)    876.1      214.4    29.60\n",
       "     1 Residual               4420.8      151.0    66.49\n",
       "\n",
       "Fixed Effects:\n",
       "              Estimate Std. Error t value\n",
       "(Intercept)    557.099      6.027  92.441\n",
       "gr_matematika  -23.154      1.283 -18.042\n",
       "girl           -18.009      4.087  -4.406\n",
       "\n",
       "Intraclass Correlation= 0.165"
      ]
     },
     "metadata": {},
     "output_type": "display_data"
    }
   ],
   "source": [
    "mix15 <- mixed.sdf(math ~ gr_matematika + girl + (1|cntschid), data=cze3, verbose=1, weightVars=c('w_fstuwt', 'ones'), weightTransformation=TRUE)\n",
    "summary(mix15)"
   ]
  },
  {
   "cell_type": "markdown",
   "id": "24d4fc45-dc88-4849-8985-6f4f04af0d9c",
   "metadata": {},
   "source": [
    "## Stata"
   ]
  },
  {
   "cell_type": "markdown",
   "id": "81d88270-092a-4444-8900-985e495b7a86",
   "metadata": {},
   "source": [
    "- exportuj data pro statu\n",
    "- spust na nich jednoduchy mixed model v R a ve State a porovnej"
   ]
  },
  {
   "cell_type": "code",
   "execution_count": 124,
   "id": "617a16a3-bb1e-4213-a063-62f50be2ceb8",
   "metadata": {},
   "outputs": [
    {
     "data": {
      "text/html": [
       "<table class=\"dataframe\">\n",
       "<caption>A data.frame: 7019 × 129</caption>\n",
       "<thead>\n",
       "\t<tr><th scope=col>cntschid</th><th scope=col>cntstuid</th><th scope=col>w_fstuwt_sch_sum</th><th scope=col>w_schgrnrabwt</th><th scope=col>pv1math</th><th scope=col>pv2math</th><th scope=col>pv3math</th><th scope=col>pv4math</th><th scope=col>pv5math</th><th scope=col>pv6math</th><th scope=col>⋯</th><th scope=col>reg</th><th scope=col>gr_matematika</th><th scope=col>gr_ceskyjazyk</th><th scope=col>gr_cizijazyk</th><th scope=col>gr_fyzika</th><th scope=col>gr_chemie</th><th scope=col>gr_prirodopis</th><th scope=col>gr_zemepis</th><th scope=col>n</th><th scope=col>w_schwt_norm</th></tr>\n",
       "\t<tr><th scope=col>&lt;int&gt;</th><th scope=col>&lt;int&gt;</th><th scope=col>&lt;dbl&gt;</th><th scope=col>&lt;dbl&gt;</th><th scope=col>&lt;dbl&gt;</th><th scope=col>&lt;dbl&gt;</th><th scope=col>&lt;dbl&gt;</th><th scope=col>&lt;dbl&gt;</th><th scope=col>&lt;dbl&gt;</th><th scope=col>&lt;dbl&gt;</th><th scope=col>⋯</th><th scope=col>&lt;chr&gt;</th><th scope=col>&lt;dbl&gt;</th><th scope=col>&lt;dbl&gt;</th><th scope=col>&lt;dbl&gt;</th><th scope=col>&lt;dbl&gt;</th><th scope=col>&lt;dbl&gt;</th><th scope=col>&lt;dbl&gt;</th><th scope=col>&lt;dbl&gt;</th><th scope=col>&lt;int&gt;</th><th scope=col>&lt;dbl&gt;</th></tr>\n",
       "</thead>\n",
       "<tbody>\n",
       "\t<tr><td>20300001</td><td>20304495</td><td>480.1996</td><td>4.58468</td><td>652.657</td><td>625.186</td><td>601.027</td><td>599.939</td><td>576.879</td><td>585.896</td><td>⋯</td><td></td><td> 2</td><td> 3</td><td> 2</td><td> 3</td><td> 3</td><td>NA</td><td>NA</td><td>32</td><td>0.370565</td></tr>\n",
       "\t<tr><td>20300001</td><td>20301852</td><td>480.1996</td><td>4.58468</td><td>602.815</td><td>631.751</td><td>665.633</td><td>655.193</td><td>749.348</td><td>659.440</td><td>⋯</td><td></td><td> 5</td><td> 2</td><td> 1</td><td> 3</td><td> 2</td><td>NA</td><td>NA</td><td>32</td><td>0.370565</td></tr>\n",
       "\t<tr><td>20300001</td><td>20302893</td><td>480.1996</td><td>4.58468</td><td>493.302</td><td>492.828</td><td>484.775</td><td>496.377</td><td>493.627</td><td>499.849</td><td>⋯</td><td></td><td> 4</td><td> 4</td><td> 2</td><td> 3</td><td> 4</td><td>NA</td><td> 4</td><td>32</td><td>0.370565</td></tr>\n",
       "\t<tr><td>20300001</td><td>20303731</td><td>480.1996</td><td>4.58468</td><td>524.064</td><td>598.300</td><td>569.218</td><td>576.854</td><td>592.050</td><td>550.885</td><td>⋯</td><td></td><td> 5</td><td> 2</td><td> 2</td><td> 1</td><td> 2</td><td> 2</td><td>NA</td><td>32</td><td>0.370565</td></tr>\n",
       "\t<tr><td>20300001</td><td>20307054</td><td>480.1996</td><td>4.58468</td><td>408.832</td><td>530.820</td><td>442.457</td><td>478.312</td><td>497.864</td><td>513.142</td><td>⋯</td><td></td><td> 5</td><td> 4</td><td> 3</td><td> 2</td><td> 3</td><td>NA</td><td>NA</td><td>32</td><td>0.370565</td></tr>\n",
       "\t<tr><td>20300001</td><td>20301837</td><td>480.1996</td><td>4.58468</td><td>556.229</td><td>563.303</td><td>577.080</td><td>597.120</td><td>672.897</td><td>617.531</td><td>⋯</td><td></td><td> 2</td><td> 2</td><td> 3</td><td> 2</td><td> 2</td><td>NA</td><td>NA</td><td>32</td><td>0.370565</td></tr>\n",
       "\t<tr><td>20300001</td><td>20301481</td><td>480.1996</td><td>4.58468</td><td>579.260</td><td>551.230</td><td>542.779</td><td>511.371</td><td>560.627</td><td>584.955</td><td>⋯</td><td></td><td> 5</td><td> 2</td><td> 2</td><td> 3</td><td> 2</td><td>NA</td><td>NA</td><td>32</td><td>0.370565</td></tr>\n",
       "\t<tr><td>20300001</td><td>20300010</td><td>480.1996</td><td>4.58468</td><td>470.842</td><td>481.401</td><td>401.570</td><td>494.746</td><td>442.594</td><td>503.626</td><td>⋯</td><td></td><td> 4</td><td> 3</td><td> 2</td><td> 2</td><td> 3</td><td>NA</td><td> 4</td><td>32</td><td>0.370565</td></tr>\n",
       "\t<tr><td>20300001</td><td>20304688</td><td>480.1996</td><td>4.58468</td><td>551.157</td><td>626.912</td><td>545.767</td><td>666.105</td><td>565.691</td><td>581.697</td><td>⋯</td><td></td><td> 5</td><td> 2</td><td> 3</td><td> 1</td><td> 2</td><td>NA</td><td>NA</td><td>32</td><td>0.370565</td></tr>\n",
       "\t<tr><td>20300001</td><td>20306730</td><td>480.1996</td><td>4.58468</td><td>519.621</td><td>522.114</td><td>515.305</td><td>511.012</td><td>553.884</td><td>536.436</td><td>⋯</td><td></td><td> 5</td><td> 2</td><td> 2</td><td> 1</td><td> 1</td><td>NA</td><td>NA</td><td>32</td><td>0.370565</td></tr>\n",
       "\t<tr><td>20300001</td><td>20306194</td><td>480.1996</td><td>4.58468</td><td>514.675</td><td>575.455</td><td>531.947</td><td>537.579</td><td>476.632</td><td>553.133</td><td>⋯</td><td></td><td> 2</td><td> 4</td><td> 2</td><td> 2</td><td> 1</td><td>NA</td><td>NA</td><td>32</td><td>0.370565</td></tr>\n",
       "\t<tr><td>20300001</td><td>20302544</td><td>480.1996</td><td>4.58468</td><td>553.983</td><td>511.892</td><td>492.773</td><td>557.718</td><td>485.287</td><td>515.644</td><td>⋯</td><td></td><td> 4</td><td> 2</td><td> 3</td><td> 1</td><td> 2</td><td>NA</td><td>NA</td><td>32</td><td>0.370565</td></tr>\n",
       "\t<tr><td>20300001</td><td>20301261</td><td>480.1996</td><td>4.58468</td><td>526.627</td><td>575.721</td><td>580.500</td><td>557.318</td><td>580.176</td><td>591.545</td><td>⋯</td><td></td><td> 2</td><td> 2</td><td> 1</td><td> 1</td><td> 1</td><td>NA</td><td> 1</td><td>32</td><td>0.370565</td></tr>\n",
       "\t<tr><td>20300001</td><td>20306748</td><td>480.1996</td><td>4.58468</td><td>560.501</td><td>531.434</td><td>523.925</td><td>498.815</td><td>495.930</td><td>519.759</td><td>⋯</td><td></td><td> 2</td><td> 2</td><td> 1</td><td> 1</td><td> 1</td><td>NA</td><td>NA</td><td>32</td><td>0.370565</td></tr>\n",
       "\t<tr><td>20300001</td><td>20304813</td><td>480.1996</td><td>4.58468</td><td>657.184</td><td>745.807</td><td>690.186</td><td>706.679</td><td>740.911</td><td>695.950</td><td>⋯</td><td></td><td> 2</td><td> 3</td><td> 2</td><td> 2</td><td> 1</td><td>NA</td><td>NA</td><td>32</td><td>0.370565</td></tr>\n",
       "\t<tr><td>20300001</td><td>20307190</td><td>480.1996</td><td>4.58468</td><td>598.372</td><td>579.370</td><td>552.862</td><td>518.501</td><td>531.281</td><td>575.686</td><td>⋯</td><td></td><td> 2</td><td> 2</td><td> 2</td><td> 2</td><td> 2</td><td>NA</td><td>NA</td><td>32</td><td>0.370565</td></tr>\n",
       "\t<tr><td>20300001</td><td>20307358</td><td>480.1996</td><td>4.58468</td><td>481.422</td><td>515.262</td><td>507.236</td><td>474.398</td><td>501.736</td><td>572.215</td><td>⋯</td><td></td><td> 4</td><td> 5</td><td> 5</td><td> 4</td><td> 5</td><td>NA</td><td>NA</td><td>32</td><td>0.370565</td></tr>\n",
       "\t<tr><td>20300001</td><td>20300342</td><td>480.1996</td><td>4.58468</td><td>624.130</td><td>625.846</td><td>569.142</td><td>581.054</td><td>619.147</td><td>609.689</td><td>⋯</td><td></td><td> 2</td><td> 3</td><td> 3</td><td> 2</td><td> 2</td><td>NA</td><td>NA</td><td>32</td><td>0.370565</td></tr>\n",
       "\t<tr><td>20300001</td><td>20307592</td><td>480.1996</td><td>4.58468</td><td>628.543</td><td>655.678</td><td>641.547</td><td>640.243</td><td>685.596</td><td>626.933</td><td>⋯</td><td></td><td> 4</td><td> 4</td><td> 1</td><td> 2</td><td> 2</td><td>NA</td><td>NA</td><td>32</td><td>0.370565</td></tr>\n",
       "\t<tr><td>20300001</td><td>20301920</td><td>480.1996</td><td>4.58468</td><td>516.675</td><td>510.498</td><td>485.327</td><td>484.835</td><td>546.335</td><td>472.862</td><td>⋯</td><td></td><td> 5</td><td> 3</td><td> 2</td><td> 3</td><td> 3</td><td>NA</td><td>NA</td><td>32</td><td>0.370565</td></tr>\n",
       "\t<tr><td>20300001</td><td>20305448</td><td>480.1996</td><td>4.58468</td><td>444.939</td><td>519.100</td><td>517.274</td><td>460.562</td><td>435.193</td><td>490.457</td><td>⋯</td><td></td><td> 4</td><td> 2</td><td> 3</td><td> 3</td><td> 3</td><td>NA</td><td> 2</td><td>32</td><td>0.370565</td></tr>\n",
       "\t<tr><td>20300001</td><td>20302049</td><td>480.1996</td><td>4.58468</td><td>640.169</td><td>647.763</td><td>632.621</td><td>591.719</td><td>714.135</td><td>656.844</td><td>⋯</td><td></td><td>NA</td><td>NA</td><td>NA</td><td>NA</td><td>NA</td><td>NA</td><td>NA</td><td>32</td><td>0.370565</td></tr>\n",
       "\t<tr><td>20300001</td><td>20301097</td><td>480.1996</td><td>4.58468</td><td>578.502</td><td>529.819</td><td>487.158</td><td>499.284</td><td>533.544</td><td>517.468</td><td>⋯</td><td></td><td> 5</td><td> 1</td><td> 1</td><td> 2</td><td> 2</td><td>NA</td><td> 1</td><td>32</td><td>0.370565</td></tr>\n",
       "\t<tr><td>20300001</td><td>20306303</td><td>480.1996</td><td>4.58468</td><td>545.612</td><td>532.694</td><td>549.586</td><td>577.063</td><td>558.176</td><td>557.789</td><td>⋯</td><td></td><td> 5</td><td> 1</td><td> 2</td><td> 1</td><td> 1</td><td>NA</td><td>NA</td><td>32</td><td>0.370565</td></tr>\n",
       "\t<tr><td>20300001</td><td>20306741</td><td>480.1996</td><td>4.58468</td><td>630.666</td><td>571.289</td><td>653.830</td><td>536.718</td><td>622.360</td><td>622.464</td><td>⋯</td><td></td><td> 1</td><td> 3</td><td> 1</td><td> 1</td><td> 2</td><td>NA</td><td>NA</td><td>32</td><td>0.370565</td></tr>\n",
       "\t<tr><td>20300001</td><td>20306775</td><td>480.1996</td><td>4.58468</td><td>586.817</td><td>649.771</td><td>684.948</td><td>606.826</td><td>692.791</td><td>682.341</td><td>⋯</td><td></td><td> 2</td><td> 1</td><td> 2</td><td> 1</td><td> 1</td><td>NA</td><td>NA</td><td>32</td><td>0.370565</td></tr>\n",
       "\t<tr><td>20300001</td><td>20305469</td><td>480.1996</td><td>4.58468</td><td>613.542</td><td>667.348</td><td>606.497</td><td>620.013</td><td>605.865</td><td>640.059</td><td>⋯</td><td></td><td> 2</td><td> 2</td><td> 1</td><td> 2</td><td> 3</td><td>NA</td><td>NA</td><td>32</td><td>0.370565</td></tr>\n",
       "\t<tr><td>20300001</td><td>20302496</td><td>480.1996</td><td>4.58468</td><td>749.317</td><td>676.825</td><td>577.296</td><td>606.537</td><td>535.206</td><td>675.783</td><td>⋯</td><td></td><td>NA</td><td>NA</td><td>NA</td><td>NA</td><td>NA</td><td>NA</td><td>NA</td><td>32</td><td>0.370565</td></tr>\n",
       "\t<tr><td>20300001</td><td>20300655</td><td>480.1996</td><td>4.58468</td><td>482.498</td><td>525.341</td><td>508.436</td><td>501.341</td><td>522.071</td><td>514.112</td><td>⋯</td><td></td><td> 4</td><td> 3</td><td> 3</td><td> 4</td><td> 4</td><td>NA</td><td>NA</td><td>32</td><td>0.370565</td></tr>\n",
       "\t<tr><td>20300001</td><td>20300696</td><td>480.1996</td><td>4.58468</td><td>587.654</td><td>638.306</td><td>599.610</td><td>591.750</td><td>606.197</td><td>674.412</td><td>⋯</td><td></td><td> 4</td><td> 4</td><td> 2</td><td> 3</td><td> 1</td><td> 3</td><td>NA</td><td>32</td><td>0.370565</td></tr>\n",
       "\t<tr><td>⋮</td><td>⋮</td><td>⋮</td><td>⋮</td><td>⋮</td><td>⋮</td><td>⋮</td><td>⋮</td><td>⋮</td><td>⋮</td><td>⋱</td><td>⋮</td><td>⋮</td><td>⋮</td><td>⋮</td><td>⋮</td><td>⋮</td><td>⋮</td><td>⋮</td><td>⋮</td><td>⋮</td></tr>\n",
       "\t<tr><td>20300333</td><td>20301627</td><td>169.5977</td><td>1.99709</td><td>674.864</td><td>603.346</td><td>619.321</td><td>654.096</td><td>600.658</td><td>658.638</td><td>⋯</td><td>HKK</td><td>5</td><td>2</td><td>2</td><td>2</td><td>2</td><td>3</td><td>1</td><td>32</td><td>0.1614184</td></tr>\n",
       "\t<tr><td>20300333</td><td>20305120</td><td>169.5977</td><td>1.99709</td><td>610.562</td><td>571.850</td><td>512.108</td><td>561.713</td><td>576.547</td><td>621.061</td><td>⋯</td><td>HKK</td><td>1</td><td>1</td><td>2</td><td>1</td><td>2</td><td>1</td><td>2</td><td>32</td><td>0.1614184</td></tr>\n",
       "\t<tr><td>20300333</td><td>20302759</td><td>169.5977</td><td>1.99709</td><td>619.583</td><td>632.841</td><td>663.948</td><td>691.136</td><td>699.043</td><td>597.689</td><td>⋯</td><td>HKK</td><td>1</td><td>1</td><td>1</td><td>1</td><td>1</td><td>1</td><td>1</td><td>32</td><td>0.1614184</td></tr>\n",
       "\t<tr><td>20300333</td><td>20301706</td><td>169.5977</td><td>1.99709</td><td>574.588</td><td>649.458</td><td>618.177</td><td>598.567</td><td>669.427</td><td>606.708</td><td>⋯</td><td>HKK</td><td>1</td><td>1</td><td>2</td><td>2</td><td>1</td><td>1</td><td>1</td><td>32</td><td>0.1614184</td></tr>\n",
       "\t<tr><td>20300333</td><td>20306814</td><td>169.5977</td><td>1.99709</td><td>580.582</td><td>432.376</td><td>486.072</td><td>529.869</td><td>523.789</td><td>536.091</td><td>⋯</td><td>HKK</td><td>1</td><td>1</td><td>1</td><td>1</td><td>1</td><td>1</td><td>1</td><td>32</td><td>0.1614184</td></tr>\n",
       "\t<tr><td>20300333</td><td>20303034</td><td>169.5977</td><td>1.99709</td><td>634.780</td><td>669.847</td><td>656.479</td><td>571.988</td><td>718.105</td><td>617.039</td><td>⋯</td><td>HKK</td><td>1</td><td>1</td><td>1</td><td>1</td><td>1</td><td>1</td><td>2</td><td>32</td><td>0.1614184</td></tr>\n",
       "\t<tr><td>20300333</td><td>20302777</td><td>169.5977</td><td>1.99709</td><td>647.701</td><td>743.111</td><td>652.132</td><td>659.414</td><td>751.717</td><td>662.944</td><td>⋯</td><td>HKK</td><td>1</td><td>2</td><td>2</td><td>1</td><td>2</td><td>2</td><td>2</td><td>32</td><td>0.1614184</td></tr>\n",
       "\t<tr><td>20300333</td><td>20303914</td><td>169.5977</td><td>1.99709</td><td>611.412</td><td>636.721</td><td>658.827</td><td>678.739</td><td>616.197</td><td>586.513</td><td>⋯</td><td>HKK</td><td>2</td><td>2</td><td>1</td><td>1</td><td>2</td><td>2</td><td>3</td><td>32</td><td>0.1614184</td></tr>\n",
       "\t<tr><td>20300333</td><td>20304471</td><td>169.5977</td><td>1.99709</td><td>569.260</td><td>548.633</td><td>579.345</td><td>615.322</td><td>593.479</td><td>622.504</td><td>⋯</td><td>HKK</td><td>5</td><td>2</td><td>2</td><td>3</td><td>3</td><td>2</td><td>3</td><td>32</td><td>0.1614184</td></tr>\n",
       "\t<tr><td>20300333</td><td>20300764</td><td>169.5977</td><td>1.99709</td><td>665.292</td><td>657.919</td><td>651.394</td><td>635.443</td><td>701.023</td><td>671.969</td><td>⋯</td><td>HKK</td><td>1</td><td>2</td><td>2</td><td>1</td><td>1</td><td>1</td><td>1</td><td>32</td><td>0.1614184</td></tr>\n",
       "\t<tr><td>20300333</td><td>20307235</td><td>169.5977</td><td>1.99709</td><td>495.562</td><td>544.778</td><td>530.406</td><td>556.709</td><td>549.612</td><td>549.698</td><td>⋯</td><td>HKK</td><td>2</td><td>2</td><td>3</td><td>3</td><td>2</td><td>2</td><td>3</td><td>32</td><td>0.1614184</td></tr>\n",
       "\t<tr><td>20300333</td><td>20305718</td><td>169.5977</td><td>1.99709</td><td>621.941</td><td>589.885</td><td>676.048</td><td>637.606</td><td>622.398</td><td>688.570</td><td>⋯</td><td>HKK</td><td>2</td><td>2</td><td>2</td><td>2</td><td>1</td><td>1</td><td>2</td><td>32</td><td>0.1614184</td></tr>\n",
       "\t<tr><td>20300333</td><td>20300345</td><td>169.5977</td><td>1.99709</td><td>651.646</td><td>683.738</td><td>706.028</td><td>691.537</td><td>753.834</td><td>745.834</td><td>⋯</td><td>HKK</td><td>2</td><td>3</td><td>2</td><td>1</td><td>2</td><td>2</td><td>2</td><td>32</td><td>0.1614184</td></tr>\n",
       "\t<tr><td>20300333</td><td>20307407</td><td>169.5977</td><td>1.99709</td><td>627.688</td><td>585.004</td><td>588.691</td><td>597.963</td><td>577.161</td><td>598.105</td><td>⋯</td><td>HKK</td><td>2</td><td>3</td><td>2</td><td>2</td><td>3</td><td>2</td><td>2</td><td>32</td><td>0.1614184</td></tr>\n",
       "\t<tr><td>20300333</td><td>20305772</td><td>169.5977</td><td>1.99709</td><td>597.925</td><td>634.441</td><td>612.640</td><td>607.605</td><td>649.582</td><td>676.022</td><td>⋯</td><td>HKK</td><td>2</td><td>1</td><td>2</td><td>2</td><td>2</td><td>1</td><td>1</td><td>32</td><td>0.1614184</td></tr>\n",
       "\t<tr><td>20300333</td><td>20302028</td><td>169.5977</td><td>1.99709</td><td>623.547</td><td>586.601</td><td>604.207</td><td>604.803</td><td>613.148</td><td>604.720</td><td>⋯</td><td>HKK</td><td>1</td><td>1</td><td>1</td><td>1</td><td>1</td><td>1</td><td>1</td><td>32</td><td>0.1614184</td></tr>\n",
       "\t<tr><td>20300333</td><td>20301053</td><td>169.5977</td><td>1.99709</td><td>687.106</td><td>642.734</td><td>578.400</td><td>628.937</td><td>629.971</td><td>657.672</td><td>⋯</td><td>HKK</td><td>1</td><td>1</td><td>2</td><td>2</td><td>1</td><td>1</td><td>1</td><td>32</td><td>0.1614184</td></tr>\n",
       "\t<tr><td>20300333</td><td>20303325</td><td>169.5977</td><td>1.99709</td><td>608.652</td><td>591.355</td><td>656.759</td><td>631.805</td><td>629.986</td><td>705.541</td><td>⋯</td><td>HKK</td><td>1</td><td>2</td><td>2</td><td>1</td><td>2</td><td>1</td><td>1</td><td>32</td><td>0.1614184</td></tr>\n",
       "\t<tr><td>20300333</td><td>20306774</td><td>169.5977</td><td>1.99709</td><td>583.739</td><td>575.056</td><td>555.059</td><td>533.453</td><td>575.049</td><td>565.806</td><td>⋯</td><td>HKK</td><td>2</td><td>1</td><td>1</td><td>1</td><td>2</td><td>3</td><td>3</td><td>32</td><td>0.1614184</td></tr>\n",
       "\t<tr><td>20300333</td><td>20306739</td><td>169.5977</td><td>1.99709</td><td>624.810</td><td>647.041</td><td>625.711</td><td>594.575</td><td>608.553</td><td>615.931</td><td>⋯</td><td>HKK</td><td>1</td><td>1</td><td>2</td><td>1</td><td>1</td><td>2</td><td>2</td><td>32</td><td>0.1614184</td></tr>\n",
       "\t<tr><td>20300333</td><td>20306126</td><td>169.5977</td><td>1.99709</td><td>602.818</td><td>624.724</td><td>641.427</td><td>662.486</td><td>627.166</td><td>616.585</td><td>⋯</td><td>HKK</td><td>1</td><td>1</td><td>2</td><td>1</td><td>3</td><td>2</td><td>2</td><td>32</td><td>0.1614184</td></tr>\n",
       "\t<tr><td>20300333</td><td>20306119</td><td>169.5977</td><td>1.99709</td><td>691.185</td><td>652.022</td><td>663.603</td><td>708.827</td><td>696.028</td><td>626.040</td><td>⋯</td><td>HKK</td><td>1</td><td>2</td><td>2</td><td>2</td><td>2</td><td>2</td><td>2</td><td>32</td><td>0.1614184</td></tr>\n",
       "\t<tr><td>20300333</td><td>20303693</td><td>169.5977</td><td>1.99709</td><td>609.310</td><td>548.536</td><td>532.324</td><td>628.708</td><td>489.074</td><td>576.470</td><td>⋯</td><td>HKK</td><td>2</td><td>1</td><td>1</td><td>1</td><td>2</td><td>1</td><td>1</td><td>32</td><td>0.1614184</td></tr>\n",
       "\t<tr><td>20300333</td><td>20303042</td><td>169.5977</td><td>1.99709</td><td>597.136</td><td>578.700</td><td>601.320</td><td>581.546</td><td>603.200</td><td>607.384</td><td>⋯</td><td>HKK</td><td>1</td><td>3</td><td>3</td><td>1</td><td>3</td><td>2</td><td>1</td><td>32</td><td>0.1614184</td></tr>\n",
       "\t<tr><td>20300333</td><td>20307430</td><td>169.5977</td><td>1.99709</td><td>628.982</td><td>660.675</td><td>628.532</td><td>638.521</td><td>671.798</td><td>681.548</td><td>⋯</td><td>HKK</td><td>2</td><td>2</td><td>2</td><td>1</td><td>2</td><td>2</td><td>2</td><td>32</td><td>0.1614184</td></tr>\n",
       "\t<tr><td>20300333</td><td>20301381</td><td>169.5977</td><td>1.99709</td><td>583.379</td><td>601.033</td><td>661.598</td><td>591.576</td><td>638.447</td><td>610.863</td><td>⋯</td><td>HKK</td><td>5</td><td>2</td><td>2</td><td>1</td><td>3</td><td>1</td><td>2</td><td>32</td><td>0.1614184</td></tr>\n",
       "\t<tr><td>20300333</td><td>20304132</td><td>169.5977</td><td>1.99709</td><td>627.663</td><td>614.165</td><td>581.385</td><td>643.359</td><td>558.543</td><td>557.178</td><td>⋯</td><td>HKK</td><td>1</td><td>2</td><td>2</td><td>2</td><td>3</td><td>3</td><td>2</td><td>32</td><td>0.1614184</td></tr>\n",
       "\t<tr><td>20300333</td><td>20307542</td><td>169.5977</td><td>1.99709</td><td>638.007</td><td>629.381</td><td>615.493</td><td>648.151</td><td>576.641</td><td>658.875</td><td>⋯</td><td>HKK</td><td>1</td><td>1</td><td>1</td><td>1</td><td>1</td><td>1</td><td>1</td><td>32</td><td>0.1614184</td></tr>\n",
       "\t<tr><td>20300333</td><td>20302366</td><td>169.5977</td><td>1.99709</td><td>659.066</td><td>599.527</td><td>602.182</td><td>602.684</td><td>608.269</td><td>598.091</td><td>⋯</td><td>HKK</td><td>1</td><td>2</td><td>2</td><td>1</td><td>2</td><td>1</td><td>1</td><td>32</td><td>0.1614184</td></tr>\n",
       "\t<tr><td>20300333</td><td>20300084</td><td>169.5977</td><td>1.99709</td><td>608.765</td><td>623.539</td><td>639.710</td><td>567.581</td><td>575.365</td><td>593.190</td><td>⋯</td><td>HKK</td><td>2</td><td>3</td><td>1</td><td>2</td><td>2</td><td>2</td><td>2</td><td>32</td><td>0.1614184</td></tr>\n",
       "</tbody>\n",
       "</table>\n"
      ],
      "text/latex": [
       "A data.frame: 7019 × 129\n",
       "\\begin{tabular}{lllllllllllllllllllll}\n",
       " cntschid & cntstuid & w\\_fstuwt\\_sch\\_sum & w\\_schgrnrabwt & pv1math & pv2math & pv3math & pv4math & pv5math & pv6math & ⋯ & reg & gr\\_matematika & gr\\_ceskyjazyk & gr\\_cizijazyk & gr\\_fyzika & gr\\_chemie & gr\\_prirodopis & gr\\_zemepis & n & w\\_schwt\\_norm\\\\\n",
       " <int> & <int> & <dbl> & <dbl> & <dbl> & <dbl> & <dbl> & <dbl> & <dbl> & <dbl> & ⋯ & <chr> & <dbl> & <dbl> & <dbl> & <dbl> & <dbl> & <dbl> & <dbl> & <int> & <dbl>\\\\\n",
       "\\hline\n",
       "\t 20300001 & 20304495 & 480.1996 & 4.58468 & 652.657 & 625.186 & 601.027 & 599.939 & 576.879 & 585.896 & ⋯ &  &  2 &  3 &  2 &  3 &  3 & NA & NA & 32 & 0.370565\\\\\n",
       "\t 20300001 & 20301852 & 480.1996 & 4.58468 & 602.815 & 631.751 & 665.633 & 655.193 & 749.348 & 659.440 & ⋯ &  &  5 &  2 &  1 &  3 &  2 & NA & NA & 32 & 0.370565\\\\\n",
       "\t 20300001 & 20302893 & 480.1996 & 4.58468 & 493.302 & 492.828 & 484.775 & 496.377 & 493.627 & 499.849 & ⋯ &  &  4 &  4 &  2 &  3 &  4 & NA &  4 & 32 & 0.370565\\\\\n",
       "\t 20300001 & 20303731 & 480.1996 & 4.58468 & 524.064 & 598.300 & 569.218 & 576.854 & 592.050 & 550.885 & ⋯ &  &  5 &  2 &  2 &  1 &  2 &  2 & NA & 32 & 0.370565\\\\\n",
       "\t 20300001 & 20307054 & 480.1996 & 4.58468 & 408.832 & 530.820 & 442.457 & 478.312 & 497.864 & 513.142 & ⋯ &  &  5 &  4 &  3 &  2 &  3 & NA & NA & 32 & 0.370565\\\\\n",
       "\t 20300001 & 20301837 & 480.1996 & 4.58468 & 556.229 & 563.303 & 577.080 & 597.120 & 672.897 & 617.531 & ⋯ &  &  2 &  2 &  3 &  2 &  2 & NA & NA & 32 & 0.370565\\\\\n",
       "\t 20300001 & 20301481 & 480.1996 & 4.58468 & 579.260 & 551.230 & 542.779 & 511.371 & 560.627 & 584.955 & ⋯ &  &  5 &  2 &  2 &  3 &  2 & NA & NA & 32 & 0.370565\\\\\n",
       "\t 20300001 & 20300010 & 480.1996 & 4.58468 & 470.842 & 481.401 & 401.570 & 494.746 & 442.594 & 503.626 & ⋯ &  &  4 &  3 &  2 &  2 &  3 & NA &  4 & 32 & 0.370565\\\\\n",
       "\t 20300001 & 20304688 & 480.1996 & 4.58468 & 551.157 & 626.912 & 545.767 & 666.105 & 565.691 & 581.697 & ⋯ &  &  5 &  2 &  3 &  1 &  2 & NA & NA & 32 & 0.370565\\\\\n",
       "\t 20300001 & 20306730 & 480.1996 & 4.58468 & 519.621 & 522.114 & 515.305 & 511.012 & 553.884 & 536.436 & ⋯ &  &  5 &  2 &  2 &  1 &  1 & NA & NA & 32 & 0.370565\\\\\n",
       "\t 20300001 & 20306194 & 480.1996 & 4.58468 & 514.675 & 575.455 & 531.947 & 537.579 & 476.632 & 553.133 & ⋯ &  &  2 &  4 &  2 &  2 &  1 & NA & NA & 32 & 0.370565\\\\\n",
       "\t 20300001 & 20302544 & 480.1996 & 4.58468 & 553.983 & 511.892 & 492.773 & 557.718 & 485.287 & 515.644 & ⋯ &  &  4 &  2 &  3 &  1 &  2 & NA & NA & 32 & 0.370565\\\\\n",
       "\t 20300001 & 20301261 & 480.1996 & 4.58468 & 526.627 & 575.721 & 580.500 & 557.318 & 580.176 & 591.545 & ⋯ &  &  2 &  2 &  1 &  1 &  1 & NA &  1 & 32 & 0.370565\\\\\n",
       "\t 20300001 & 20306748 & 480.1996 & 4.58468 & 560.501 & 531.434 & 523.925 & 498.815 & 495.930 & 519.759 & ⋯ &  &  2 &  2 &  1 &  1 &  1 & NA & NA & 32 & 0.370565\\\\\n",
       "\t 20300001 & 20304813 & 480.1996 & 4.58468 & 657.184 & 745.807 & 690.186 & 706.679 & 740.911 & 695.950 & ⋯ &  &  2 &  3 &  2 &  2 &  1 & NA & NA & 32 & 0.370565\\\\\n",
       "\t 20300001 & 20307190 & 480.1996 & 4.58468 & 598.372 & 579.370 & 552.862 & 518.501 & 531.281 & 575.686 & ⋯ &  &  2 &  2 &  2 &  2 &  2 & NA & NA & 32 & 0.370565\\\\\n",
       "\t 20300001 & 20307358 & 480.1996 & 4.58468 & 481.422 & 515.262 & 507.236 & 474.398 & 501.736 & 572.215 & ⋯ &  &  4 &  5 &  5 &  4 &  5 & NA & NA & 32 & 0.370565\\\\\n",
       "\t 20300001 & 20300342 & 480.1996 & 4.58468 & 624.130 & 625.846 & 569.142 & 581.054 & 619.147 & 609.689 & ⋯ &  &  2 &  3 &  3 &  2 &  2 & NA & NA & 32 & 0.370565\\\\\n",
       "\t 20300001 & 20307592 & 480.1996 & 4.58468 & 628.543 & 655.678 & 641.547 & 640.243 & 685.596 & 626.933 & ⋯ &  &  4 &  4 &  1 &  2 &  2 & NA & NA & 32 & 0.370565\\\\\n",
       "\t 20300001 & 20301920 & 480.1996 & 4.58468 & 516.675 & 510.498 & 485.327 & 484.835 & 546.335 & 472.862 & ⋯ &  &  5 &  3 &  2 &  3 &  3 & NA & NA & 32 & 0.370565\\\\\n",
       "\t 20300001 & 20305448 & 480.1996 & 4.58468 & 444.939 & 519.100 & 517.274 & 460.562 & 435.193 & 490.457 & ⋯ &  &  4 &  2 &  3 &  3 &  3 & NA &  2 & 32 & 0.370565\\\\\n",
       "\t 20300001 & 20302049 & 480.1996 & 4.58468 & 640.169 & 647.763 & 632.621 & 591.719 & 714.135 & 656.844 & ⋯ &  & NA & NA & NA & NA & NA & NA & NA & 32 & 0.370565\\\\\n",
       "\t 20300001 & 20301097 & 480.1996 & 4.58468 & 578.502 & 529.819 & 487.158 & 499.284 & 533.544 & 517.468 & ⋯ &  &  5 &  1 &  1 &  2 &  2 & NA &  1 & 32 & 0.370565\\\\\n",
       "\t 20300001 & 20306303 & 480.1996 & 4.58468 & 545.612 & 532.694 & 549.586 & 577.063 & 558.176 & 557.789 & ⋯ &  &  5 &  1 &  2 &  1 &  1 & NA & NA & 32 & 0.370565\\\\\n",
       "\t 20300001 & 20306741 & 480.1996 & 4.58468 & 630.666 & 571.289 & 653.830 & 536.718 & 622.360 & 622.464 & ⋯ &  &  1 &  3 &  1 &  1 &  2 & NA & NA & 32 & 0.370565\\\\\n",
       "\t 20300001 & 20306775 & 480.1996 & 4.58468 & 586.817 & 649.771 & 684.948 & 606.826 & 692.791 & 682.341 & ⋯ &  &  2 &  1 &  2 &  1 &  1 & NA & NA & 32 & 0.370565\\\\\n",
       "\t 20300001 & 20305469 & 480.1996 & 4.58468 & 613.542 & 667.348 & 606.497 & 620.013 & 605.865 & 640.059 & ⋯ &  &  2 &  2 &  1 &  2 &  3 & NA & NA & 32 & 0.370565\\\\\n",
       "\t 20300001 & 20302496 & 480.1996 & 4.58468 & 749.317 & 676.825 & 577.296 & 606.537 & 535.206 & 675.783 & ⋯ &  & NA & NA & NA & NA & NA & NA & NA & 32 & 0.370565\\\\\n",
       "\t 20300001 & 20300655 & 480.1996 & 4.58468 & 482.498 & 525.341 & 508.436 & 501.341 & 522.071 & 514.112 & ⋯ &  &  4 &  3 &  3 &  4 &  4 & NA & NA & 32 & 0.370565\\\\\n",
       "\t 20300001 & 20300696 & 480.1996 & 4.58468 & 587.654 & 638.306 & 599.610 & 591.750 & 606.197 & 674.412 & ⋯ &  &  4 &  4 &  2 &  3 &  1 &  3 & NA & 32 & 0.370565\\\\\n",
       "\t ⋮ & ⋮ & ⋮ & ⋮ & ⋮ & ⋮ & ⋮ & ⋮ & ⋮ & ⋮ & ⋱ & ⋮ & ⋮ & ⋮ & ⋮ & ⋮ & ⋮ & ⋮ & ⋮ & ⋮ & ⋮\\\\\n",
       "\t 20300333 & 20301627 & 169.5977 & 1.99709 & 674.864 & 603.346 & 619.321 & 654.096 & 600.658 & 658.638 & ⋯ & HKK & 5 & 2 & 2 & 2 & 2 & 3 & 1 & 32 & 0.1614184\\\\\n",
       "\t 20300333 & 20305120 & 169.5977 & 1.99709 & 610.562 & 571.850 & 512.108 & 561.713 & 576.547 & 621.061 & ⋯ & HKK & 1 & 1 & 2 & 1 & 2 & 1 & 2 & 32 & 0.1614184\\\\\n",
       "\t 20300333 & 20302759 & 169.5977 & 1.99709 & 619.583 & 632.841 & 663.948 & 691.136 & 699.043 & 597.689 & ⋯ & HKK & 1 & 1 & 1 & 1 & 1 & 1 & 1 & 32 & 0.1614184\\\\\n",
       "\t 20300333 & 20301706 & 169.5977 & 1.99709 & 574.588 & 649.458 & 618.177 & 598.567 & 669.427 & 606.708 & ⋯ & HKK & 1 & 1 & 2 & 2 & 1 & 1 & 1 & 32 & 0.1614184\\\\\n",
       "\t 20300333 & 20306814 & 169.5977 & 1.99709 & 580.582 & 432.376 & 486.072 & 529.869 & 523.789 & 536.091 & ⋯ & HKK & 1 & 1 & 1 & 1 & 1 & 1 & 1 & 32 & 0.1614184\\\\\n",
       "\t 20300333 & 20303034 & 169.5977 & 1.99709 & 634.780 & 669.847 & 656.479 & 571.988 & 718.105 & 617.039 & ⋯ & HKK & 1 & 1 & 1 & 1 & 1 & 1 & 2 & 32 & 0.1614184\\\\\n",
       "\t 20300333 & 20302777 & 169.5977 & 1.99709 & 647.701 & 743.111 & 652.132 & 659.414 & 751.717 & 662.944 & ⋯ & HKK & 1 & 2 & 2 & 1 & 2 & 2 & 2 & 32 & 0.1614184\\\\\n",
       "\t 20300333 & 20303914 & 169.5977 & 1.99709 & 611.412 & 636.721 & 658.827 & 678.739 & 616.197 & 586.513 & ⋯ & HKK & 2 & 2 & 1 & 1 & 2 & 2 & 3 & 32 & 0.1614184\\\\\n",
       "\t 20300333 & 20304471 & 169.5977 & 1.99709 & 569.260 & 548.633 & 579.345 & 615.322 & 593.479 & 622.504 & ⋯ & HKK & 5 & 2 & 2 & 3 & 3 & 2 & 3 & 32 & 0.1614184\\\\\n",
       "\t 20300333 & 20300764 & 169.5977 & 1.99709 & 665.292 & 657.919 & 651.394 & 635.443 & 701.023 & 671.969 & ⋯ & HKK & 1 & 2 & 2 & 1 & 1 & 1 & 1 & 32 & 0.1614184\\\\\n",
       "\t 20300333 & 20307235 & 169.5977 & 1.99709 & 495.562 & 544.778 & 530.406 & 556.709 & 549.612 & 549.698 & ⋯ & HKK & 2 & 2 & 3 & 3 & 2 & 2 & 3 & 32 & 0.1614184\\\\\n",
       "\t 20300333 & 20305718 & 169.5977 & 1.99709 & 621.941 & 589.885 & 676.048 & 637.606 & 622.398 & 688.570 & ⋯ & HKK & 2 & 2 & 2 & 2 & 1 & 1 & 2 & 32 & 0.1614184\\\\\n",
       "\t 20300333 & 20300345 & 169.5977 & 1.99709 & 651.646 & 683.738 & 706.028 & 691.537 & 753.834 & 745.834 & ⋯ & HKK & 2 & 3 & 2 & 1 & 2 & 2 & 2 & 32 & 0.1614184\\\\\n",
       "\t 20300333 & 20307407 & 169.5977 & 1.99709 & 627.688 & 585.004 & 588.691 & 597.963 & 577.161 & 598.105 & ⋯ & HKK & 2 & 3 & 2 & 2 & 3 & 2 & 2 & 32 & 0.1614184\\\\\n",
       "\t 20300333 & 20305772 & 169.5977 & 1.99709 & 597.925 & 634.441 & 612.640 & 607.605 & 649.582 & 676.022 & ⋯ & HKK & 2 & 1 & 2 & 2 & 2 & 1 & 1 & 32 & 0.1614184\\\\\n",
       "\t 20300333 & 20302028 & 169.5977 & 1.99709 & 623.547 & 586.601 & 604.207 & 604.803 & 613.148 & 604.720 & ⋯ & HKK & 1 & 1 & 1 & 1 & 1 & 1 & 1 & 32 & 0.1614184\\\\\n",
       "\t 20300333 & 20301053 & 169.5977 & 1.99709 & 687.106 & 642.734 & 578.400 & 628.937 & 629.971 & 657.672 & ⋯ & HKK & 1 & 1 & 2 & 2 & 1 & 1 & 1 & 32 & 0.1614184\\\\\n",
       "\t 20300333 & 20303325 & 169.5977 & 1.99709 & 608.652 & 591.355 & 656.759 & 631.805 & 629.986 & 705.541 & ⋯ & HKK & 1 & 2 & 2 & 1 & 2 & 1 & 1 & 32 & 0.1614184\\\\\n",
       "\t 20300333 & 20306774 & 169.5977 & 1.99709 & 583.739 & 575.056 & 555.059 & 533.453 & 575.049 & 565.806 & ⋯ & HKK & 2 & 1 & 1 & 1 & 2 & 3 & 3 & 32 & 0.1614184\\\\\n",
       "\t 20300333 & 20306739 & 169.5977 & 1.99709 & 624.810 & 647.041 & 625.711 & 594.575 & 608.553 & 615.931 & ⋯ & HKK & 1 & 1 & 2 & 1 & 1 & 2 & 2 & 32 & 0.1614184\\\\\n",
       "\t 20300333 & 20306126 & 169.5977 & 1.99709 & 602.818 & 624.724 & 641.427 & 662.486 & 627.166 & 616.585 & ⋯ & HKK & 1 & 1 & 2 & 1 & 3 & 2 & 2 & 32 & 0.1614184\\\\\n",
       "\t 20300333 & 20306119 & 169.5977 & 1.99709 & 691.185 & 652.022 & 663.603 & 708.827 & 696.028 & 626.040 & ⋯ & HKK & 1 & 2 & 2 & 2 & 2 & 2 & 2 & 32 & 0.1614184\\\\\n",
       "\t 20300333 & 20303693 & 169.5977 & 1.99709 & 609.310 & 548.536 & 532.324 & 628.708 & 489.074 & 576.470 & ⋯ & HKK & 2 & 1 & 1 & 1 & 2 & 1 & 1 & 32 & 0.1614184\\\\\n",
       "\t 20300333 & 20303042 & 169.5977 & 1.99709 & 597.136 & 578.700 & 601.320 & 581.546 & 603.200 & 607.384 & ⋯ & HKK & 1 & 3 & 3 & 1 & 3 & 2 & 1 & 32 & 0.1614184\\\\\n",
       "\t 20300333 & 20307430 & 169.5977 & 1.99709 & 628.982 & 660.675 & 628.532 & 638.521 & 671.798 & 681.548 & ⋯ & HKK & 2 & 2 & 2 & 1 & 2 & 2 & 2 & 32 & 0.1614184\\\\\n",
       "\t 20300333 & 20301381 & 169.5977 & 1.99709 & 583.379 & 601.033 & 661.598 & 591.576 & 638.447 & 610.863 & ⋯ & HKK & 5 & 2 & 2 & 1 & 3 & 1 & 2 & 32 & 0.1614184\\\\\n",
       "\t 20300333 & 20304132 & 169.5977 & 1.99709 & 627.663 & 614.165 & 581.385 & 643.359 & 558.543 & 557.178 & ⋯ & HKK & 1 & 2 & 2 & 2 & 3 & 3 & 2 & 32 & 0.1614184\\\\\n",
       "\t 20300333 & 20307542 & 169.5977 & 1.99709 & 638.007 & 629.381 & 615.493 & 648.151 & 576.641 & 658.875 & ⋯ & HKK & 1 & 1 & 1 & 1 & 1 & 1 & 1 & 32 & 0.1614184\\\\\n",
       "\t 20300333 & 20302366 & 169.5977 & 1.99709 & 659.066 & 599.527 & 602.182 & 602.684 & 608.269 & 598.091 & ⋯ & HKK & 1 & 2 & 2 & 1 & 2 & 1 & 1 & 32 & 0.1614184\\\\\n",
       "\t 20300333 & 20300084 & 169.5977 & 1.99709 & 608.765 & 623.539 & 639.710 & 567.581 & 575.365 & 593.190 & ⋯ & HKK & 2 & 3 & 1 & 2 & 2 & 2 & 2 & 32 & 0.1614184\\\\\n",
       "\\end{tabular}\n"
      ],
      "text/markdown": [
       "\n",
       "A data.frame: 7019 × 129\n",
       "\n",
       "| cntschid &lt;int&gt; | cntstuid &lt;int&gt; | w_fstuwt_sch_sum &lt;dbl&gt; | w_schgrnrabwt &lt;dbl&gt; | pv1math &lt;dbl&gt; | pv2math &lt;dbl&gt; | pv3math &lt;dbl&gt; | pv4math &lt;dbl&gt; | pv5math &lt;dbl&gt; | pv6math &lt;dbl&gt; | ⋯ ⋯ | reg &lt;chr&gt; | gr_matematika &lt;dbl&gt; | gr_ceskyjazyk &lt;dbl&gt; | gr_cizijazyk &lt;dbl&gt; | gr_fyzika &lt;dbl&gt; | gr_chemie &lt;dbl&gt; | gr_prirodopis &lt;dbl&gt; | gr_zemepis &lt;dbl&gt; | n &lt;int&gt; | w_schwt_norm &lt;dbl&gt; |\n",
       "|---|---|---|---|---|---|---|---|---|---|---|---|---|---|---|---|---|---|---|---|---|\n",
       "| 20300001 | 20304495 | 480.1996 | 4.58468 | 652.657 | 625.186 | 601.027 | 599.939 | 576.879 | 585.896 | ⋯ | <!----> |  2 |  3 |  2 |  3 |  3 | NA | NA | 32 | 0.370565 |\n",
       "| 20300001 | 20301852 | 480.1996 | 4.58468 | 602.815 | 631.751 | 665.633 | 655.193 | 749.348 | 659.440 | ⋯ | <!----> |  5 |  2 |  1 |  3 |  2 | NA | NA | 32 | 0.370565 |\n",
       "| 20300001 | 20302893 | 480.1996 | 4.58468 | 493.302 | 492.828 | 484.775 | 496.377 | 493.627 | 499.849 | ⋯ | <!----> |  4 |  4 |  2 |  3 |  4 | NA |  4 | 32 | 0.370565 |\n",
       "| 20300001 | 20303731 | 480.1996 | 4.58468 | 524.064 | 598.300 | 569.218 | 576.854 | 592.050 | 550.885 | ⋯ | <!----> |  5 |  2 |  2 |  1 |  2 |  2 | NA | 32 | 0.370565 |\n",
       "| 20300001 | 20307054 | 480.1996 | 4.58468 | 408.832 | 530.820 | 442.457 | 478.312 | 497.864 | 513.142 | ⋯ | <!----> |  5 |  4 |  3 |  2 |  3 | NA | NA | 32 | 0.370565 |\n",
       "| 20300001 | 20301837 | 480.1996 | 4.58468 | 556.229 | 563.303 | 577.080 | 597.120 | 672.897 | 617.531 | ⋯ | <!----> |  2 |  2 |  3 |  2 |  2 | NA | NA | 32 | 0.370565 |\n",
       "| 20300001 | 20301481 | 480.1996 | 4.58468 | 579.260 | 551.230 | 542.779 | 511.371 | 560.627 | 584.955 | ⋯ | <!----> |  5 |  2 |  2 |  3 |  2 | NA | NA | 32 | 0.370565 |\n",
       "| 20300001 | 20300010 | 480.1996 | 4.58468 | 470.842 | 481.401 | 401.570 | 494.746 | 442.594 | 503.626 | ⋯ | <!----> |  4 |  3 |  2 |  2 |  3 | NA |  4 | 32 | 0.370565 |\n",
       "| 20300001 | 20304688 | 480.1996 | 4.58468 | 551.157 | 626.912 | 545.767 | 666.105 | 565.691 | 581.697 | ⋯ | <!----> |  5 |  2 |  3 |  1 |  2 | NA | NA | 32 | 0.370565 |\n",
       "| 20300001 | 20306730 | 480.1996 | 4.58468 | 519.621 | 522.114 | 515.305 | 511.012 | 553.884 | 536.436 | ⋯ | <!----> |  5 |  2 |  2 |  1 |  1 | NA | NA | 32 | 0.370565 |\n",
       "| 20300001 | 20306194 | 480.1996 | 4.58468 | 514.675 | 575.455 | 531.947 | 537.579 | 476.632 | 553.133 | ⋯ | <!----> |  2 |  4 |  2 |  2 |  1 | NA | NA | 32 | 0.370565 |\n",
       "| 20300001 | 20302544 | 480.1996 | 4.58468 | 553.983 | 511.892 | 492.773 | 557.718 | 485.287 | 515.644 | ⋯ | <!----> |  4 |  2 |  3 |  1 |  2 | NA | NA | 32 | 0.370565 |\n",
       "| 20300001 | 20301261 | 480.1996 | 4.58468 | 526.627 | 575.721 | 580.500 | 557.318 | 580.176 | 591.545 | ⋯ | <!----> |  2 |  2 |  1 |  1 |  1 | NA |  1 | 32 | 0.370565 |\n",
       "| 20300001 | 20306748 | 480.1996 | 4.58468 | 560.501 | 531.434 | 523.925 | 498.815 | 495.930 | 519.759 | ⋯ | <!----> |  2 |  2 |  1 |  1 |  1 | NA | NA | 32 | 0.370565 |\n",
       "| 20300001 | 20304813 | 480.1996 | 4.58468 | 657.184 | 745.807 | 690.186 | 706.679 | 740.911 | 695.950 | ⋯ | <!----> |  2 |  3 |  2 |  2 |  1 | NA | NA | 32 | 0.370565 |\n",
       "| 20300001 | 20307190 | 480.1996 | 4.58468 | 598.372 | 579.370 | 552.862 | 518.501 | 531.281 | 575.686 | ⋯ | <!----> |  2 |  2 |  2 |  2 |  2 | NA | NA | 32 | 0.370565 |\n",
       "| 20300001 | 20307358 | 480.1996 | 4.58468 | 481.422 | 515.262 | 507.236 | 474.398 | 501.736 | 572.215 | ⋯ | <!----> |  4 |  5 |  5 |  4 |  5 | NA | NA | 32 | 0.370565 |\n",
       "| 20300001 | 20300342 | 480.1996 | 4.58468 | 624.130 | 625.846 | 569.142 | 581.054 | 619.147 | 609.689 | ⋯ | <!----> |  2 |  3 |  3 |  2 |  2 | NA | NA | 32 | 0.370565 |\n",
       "| 20300001 | 20307592 | 480.1996 | 4.58468 | 628.543 | 655.678 | 641.547 | 640.243 | 685.596 | 626.933 | ⋯ | <!----> |  4 |  4 |  1 |  2 |  2 | NA | NA | 32 | 0.370565 |\n",
       "| 20300001 | 20301920 | 480.1996 | 4.58468 | 516.675 | 510.498 | 485.327 | 484.835 | 546.335 | 472.862 | ⋯ | <!----> |  5 |  3 |  2 |  3 |  3 | NA | NA | 32 | 0.370565 |\n",
       "| 20300001 | 20305448 | 480.1996 | 4.58468 | 444.939 | 519.100 | 517.274 | 460.562 | 435.193 | 490.457 | ⋯ | <!----> |  4 |  2 |  3 |  3 |  3 | NA |  2 | 32 | 0.370565 |\n",
       "| 20300001 | 20302049 | 480.1996 | 4.58468 | 640.169 | 647.763 | 632.621 | 591.719 | 714.135 | 656.844 | ⋯ | <!----> | NA | NA | NA | NA | NA | NA | NA | 32 | 0.370565 |\n",
       "| 20300001 | 20301097 | 480.1996 | 4.58468 | 578.502 | 529.819 | 487.158 | 499.284 | 533.544 | 517.468 | ⋯ | <!----> |  5 |  1 |  1 |  2 |  2 | NA |  1 | 32 | 0.370565 |\n",
       "| 20300001 | 20306303 | 480.1996 | 4.58468 | 545.612 | 532.694 | 549.586 | 577.063 | 558.176 | 557.789 | ⋯ | <!----> |  5 |  1 |  2 |  1 |  1 | NA | NA | 32 | 0.370565 |\n",
       "| 20300001 | 20306741 | 480.1996 | 4.58468 | 630.666 | 571.289 | 653.830 | 536.718 | 622.360 | 622.464 | ⋯ | <!----> |  1 |  3 |  1 |  1 |  2 | NA | NA | 32 | 0.370565 |\n",
       "| 20300001 | 20306775 | 480.1996 | 4.58468 | 586.817 | 649.771 | 684.948 | 606.826 | 692.791 | 682.341 | ⋯ | <!----> |  2 |  1 |  2 |  1 |  1 | NA | NA | 32 | 0.370565 |\n",
       "| 20300001 | 20305469 | 480.1996 | 4.58468 | 613.542 | 667.348 | 606.497 | 620.013 | 605.865 | 640.059 | ⋯ | <!----> |  2 |  2 |  1 |  2 |  3 | NA | NA | 32 | 0.370565 |\n",
       "| 20300001 | 20302496 | 480.1996 | 4.58468 | 749.317 | 676.825 | 577.296 | 606.537 | 535.206 | 675.783 | ⋯ | <!----> | NA | NA | NA | NA | NA | NA | NA | 32 | 0.370565 |\n",
       "| 20300001 | 20300655 | 480.1996 | 4.58468 | 482.498 | 525.341 | 508.436 | 501.341 | 522.071 | 514.112 | ⋯ | <!----> |  4 |  3 |  3 |  4 |  4 | NA | NA | 32 | 0.370565 |\n",
       "| 20300001 | 20300696 | 480.1996 | 4.58468 | 587.654 | 638.306 | 599.610 | 591.750 | 606.197 | 674.412 | ⋯ | <!----> |  4 |  4 |  2 |  3 |  1 |  3 | NA | 32 | 0.370565 |\n",
       "| ⋮ | ⋮ | ⋮ | ⋮ | ⋮ | ⋮ | ⋮ | ⋮ | ⋮ | ⋮ | ⋱ | ⋮ | ⋮ | ⋮ | ⋮ | ⋮ | ⋮ | ⋮ | ⋮ | ⋮ | ⋮ |\n",
       "| 20300333 | 20301627 | 169.5977 | 1.99709 | 674.864 | 603.346 | 619.321 | 654.096 | 600.658 | 658.638 | ⋯ | HKK | 5 | 2 | 2 | 2 | 2 | 3 | 1 | 32 | 0.1614184 |\n",
       "| 20300333 | 20305120 | 169.5977 | 1.99709 | 610.562 | 571.850 | 512.108 | 561.713 | 576.547 | 621.061 | ⋯ | HKK | 1 | 1 | 2 | 1 | 2 | 1 | 2 | 32 | 0.1614184 |\n",
       "| 20300333 | 20302759 | 169.5977 | 1.99709 | 619.583 | 632.841 | 663.948 | 691.136 | 699.043 | 597.689 | ⋯ | HKK | 1 | 1 | 1 | 1 | 1 | 1 | 1 | 32 | 0.1614184 |\n",
       "| 20300333 | 20301706 | 169.5977 | 1.99709 | 574.588 | 649.458 | 618.177 | 598.567 | 669.427 | 606.708 | ⋯ | HKK | 1 | 1 | 2 | 2 | 1 | 1 | 1 | 32 | 0.1614184 |\n",
       "| 20300333 | 20306814 | 169.5977 | 1.99709 | 580.582 | 432.376 | 486.072 | 529.869 | 523.789 | 536.091 | ⋯ | HKK | 1 | 1 | 1 | 1 | 1 | 1 | 1 | 32 | 0.1614184 |\n",
       "| 20300333 | 20303034 | 169.5977 | 1.99709 | 634.780 | 669.847 | 656.479 | 571.988 | 718.105 | 617.039 | ⋯ | HKK | 1 | 1 | 1 | 1 | 1 | 1 | 2 | 32 | 0.1614184 |\n",
       "| 20300333 | 20302777 | 169.5977 | 1.99709 | 647.701 | 743.111 | 652.132 | 659.414 | 751.717 | 662.944 | ⋯ | HKK | 1 | 2 | 2 | 1 | 2 | 2 | 2 | 32 | 0.1614184 |\n",
       "| 20300333 | 20303914 | 169.5977 | 1.99709 | 611.412 | 636.721 | 658.827 | 678.739 | 616.197 | 586.513 | ⋯ | HKK | 2 | 2 | 1 | 1 | 2 | 2 | 3 | 32 | 0.1614184 |\n",
       "| 20300333 | 20304471 | 169.5977 | 1.99709 | 569.260 | 548.633 | 579.345 | 615.322 | 593.479 | 622.504 | ⋯ | HKK | 5 | 2 | 2 | 3 | 3 | 2 | 3 | 32 | 0.1614184 |\n",
       "| 20300333 | 20300764 | 169.5977 | 1.99709 | 665.292 | 657.919 | 651.394 | 635.443 | 701.023 | 671.969 | ⋯ | HKK | 1 | 2 | 2 | 1 | 1 | 1 | 1 | 32 | 0.1614184 |\n",
       "| 20300333 | 20307235 | 169.5977 | 1.99709 | 495.562 | 544.778 | 530.406 | 556.709 | 549.612 | 549.698 | ⋯ | HKK | 2 | 2 | 3 | 3 | 2 | 2 | 3 | 32 | 0.1614184 |\n",
       "| 20300333 | 20305718 | 169.5977 | 1.99709 | 621.941 | 589.885 | 676.048 | 637.606 | 622.398 | 688.570 | ⋯ | HKK | 2 | 2 | 2 | 2 | 1 | 1 | 2 | 32 | 0.1614184 |\n",
       "| 20300333 | 20300345 | 169.5977 | 1.99709 | 651.646 | 683.738 | 706.028 | 691.537 | 753.834 | 745.834 | ⋯ | HKK | 2 | 3 | 2 | 1 | 2 | 2 | 2 | 32 | 0.1614184 |\n",
       "| 20300333 | 20307407 | 169.5977 | 1.99709 | 627.688 | 585.004 | 588.691 | 597.963 | 577.161 | 598.105 | ⋯ | HKK | 2 | 3 | 2 | 2 | 3 | 2 | 2 | 32 | 0.1614184 |\n",
       "| 20300333 | 20305772 | 169.5977 | 1.99709 | 597.925 | 634.441 | 612.640 | 607.605 | 649.582 | 676.022 | ⋯ | HKK | 2 | 1 | 2 | 2 | 2 | 1 | 1 | 32 | 0.1614184 |\n",
       "| 20300333 | 20302028 | 169.5977 | 1.99709 | 623.547 | 586.601 | 604.207 | 604.803 | 613.148 | 604.720 | ⋯ | HKK | 1 | 1 | 1 | 1 | 1 | 1 | 1 | 32 | 0.1614184 |\n",
       "| 20300333 | 20301053 | 169.5977 | 1.99709 | 687.106 | 642.734 | 578.400 | 628.937 | 629.971 | 657.672 | ⋯ | HKK | 1 | 1 | 2 | 2 | 1 | 1 | 1 | 32 | 0.1614184 |\n",
       "| 20300333 | 20303325 | 169.5977 | 1.99709 | 608.652 | 591.355 | 656.759 | 631.805 | 629.986 | 705.541 | ⋯ | HKK | 1 | 2 | 2 | 1 | 2 | 1 | 1 | 32 | 0.1614184 |\n",
       "| 20300333 | 20306774 | 169.5977 | 1.99709 | 583.739 | 575.056 | 555.059 | 533.453 | 575.049 | 565.806 | ⋯ | HKK | 2 | 1 | 1 | 1 | 2 | 3 | 3 | 32 | 0.1614184 |\n",
       "| 20300333 | 20306739 | 169.5977 | 1.99709 | 624.810 | 647.041 | 625.711 | 594.575 | 608.553 | 615.931 | ⋯ | HKK | 1 | 1 | 2 | 1 | 1 | 2 | 2 | 32 | 0.1614184 |\n",
       "| 20300333 | 20306126 | 169.5977 | 1.99709 | 602.818 | 624.724 | 641.427 | 662.486 | 627.166 | 616.585 | ⋯ | HKK | 1 | 1 | 2 | 1 | 3 | 2 | 2 | 32 | 0.1614184 |\n",
       "| 20300333 | 20306119 | 169.5977 | 1.99709 | 691.185 | 652.022 | 663.603 | 708.827 | 696.028 | 626.040 | ⋯ | HKK | 1 | 2 | 2 | 2 | 2 | 2 | 2 | 32 | 0.1614184 |\n",
       "| 20300333 | 20303693 | 169.5977 | 1.99709 | 609.310 | 548.536 | 532.324 | 628.708 | 489.074 | 576.470 | ⋯ | HKK | 2 | 1 | 1 | 1 | 2 | 1 | 1 | 32 | 0.1614184 |\n",
       "| 20300333 | 20303042 | 169.5977 | 1.99709 | 597.136 | 578.700 | 601.320 | 581.546 | 603.200 | 607.384 | ⋯ | HKK | 1 | 3 | 3 | 1 | 3 | 2 | 1 | 32 | 0.1614184 |\n",
       "| 20300333 | 20307430 | 169.5977 | 1.99709 | 628.982 | 660.675 | 628.532 | 638.521 | 671.798 | 681.548 | ⋯ | HKK | 2 | 2 | 2 | 1 | 2 | 2 | 2 | 32 | 0.1614184 |\n",
       "| 20300333 | 20301381 | 169.5977 | 1.99709 | 583.379 | 601.033 | 661.598 | 591.576 | 638.447 | 610.863 | ⋯ | HKK | 5 | 2 | 2 | 1 | 3 | 1 | 2 | 32 | 0.1614184 |\n",
       "| 20300333 | 20304132 | 169.5977 | 1.99709 | 627.663 | 614.165 | 581.385 | 643.359 | 558.543 | 557.178 | ⋯ | HKK | 1 | 2 | 2 | 2 | 3 | 3 | 2 | 32 | 0.1614184 |\n",
       "| 20300333 | 20307542 | 169.5977 | 1.99709 | 638.007 | 629.381 | 615.493 | 648.151 | 576.641 | 658.875 | ⋯ | HKK | 1 | 1 | 1 | 1 | 1 | 1 | 1 | 32 | 0.1614184 |\n",
       "| 20300333 | 20302366 | 169.5977 | 1.99709 | 659.066 | 599.527 | 602.182 | 602.684 | 608.269 | 598.091 | ⋯ | HKK | 1 | 2 | 2 | 1 | 2 | 1 | 1 | 32 | 0.1614184 |\n",
       "| 20300333 | 20300084 | 169.5977 | 1.99709 | 608.765 | 623.539 | 639.710 | 567.581 | 575.365 | 593.190 | ⋯ | HKK | 2 | 3 | 1 | 2 | 2 | 2 | 2 | 32 | 0.1614184 |\n",
       "\n"
      ],
      "text/plain": [
       "     cntschid cntstuid w_fstuwt_sch_sum w_schgrnrabwt pv1math pv2math pv3math\n",
       "1    20300001 20304495 480.1996         4.58468       652.657 625.186 601.027\n",
       "2    20300001 20301852 480.1996         4.58468       602.815 631.751 665.633\n",
       "3    20300001 20302893 480.1996         4.58468       493.302 492.828 484.775\n",
       "4    20300001 20303731 480.1996         4.58468       524.064 598.300 569.218\n",
       "5    20300001 20307054 480.1996         4.58468       408.832 530.820 442.457\n",
       "6    20300001 20301837 480.1996         4.58468       556.229 563.303 577.080\n",
       "7    20300001 20301481 480.1996         4.58468       579.260 551.230 542.779\n",
       "8    20300001 20300010 480.1996         4.58468       470.842 481.401 401.570\n",
       "9    20300001 20304688 480.1996         4.58468       551.157 626.912 545.767\n",
       "10   20300001 20306730 480.1996         4.58468       519.621 522.114 515.305\n",
       "11   20300001 20306194 480.1996         4.58468       514.675 575.455 531.947\n",
       "12   20300001 20302544 480.1996         4.58468       553.983 511.892 492.773\n",
       "13   20300001 20301261 480.1996         4.58468       526.627 575.721 580.500\n",
       "14   20300001 20306748 480.1996         4.58468       560.501 531.434 523.925\n",
       "15   20300001 20304813 480.1996         4.58468       657.184 745.807 690.186\n",
       "16   20300001 20307190 480.1996         4.58468       598.372 579.370 552.862\n",
       "17   20300001 20307358 480.1996         4.58468       481.422 515.262 507.236\n",
       "18   20300001 20300342 480.1996         4.58468       624.130 625.846 569.142\n",
       "19   20300001 20307592 480.1996         4.58468       628.543 655.678 641.547\n",
       "20   20300001 20301920 480.1996         4.58468       516.675 510.498 485.327\n",
       "21   20300001 20305448 480.1996         4.58468       444.939 519.100 517.274\n",
       "22   20300001 20302049 480.1996         4.58468       640.169 647.763 632.621\n",
       "23   20300001 20301097 480.1996         4.58468       578.502 529.819 487.158\n",
       "24   20300001 20306303 480.1996         4.58468       545.612 532.694 549.586\n",
       "25   20300001 20306741 480.1996         4.58468       630.666 571.289 653.830\n",
       "26   20300001 20306775 480.1996         4.58468       586.817 649.771 684.948\n",
       "27   20300001 20305469 480.1996         4.58468       613.542 667.348 606.497\n",
       "28   20300001 20302496 480.1996         4.58468       749.317 676.825 577.296\n",
       "29   20300001 20300655 480.1996         4.58468       482.498 525.341 508.436\n",
       "30   20300001 20300696 480.1996         4.58468       587.654 638.306 599.610\n",
       "⋮    ⋮        ⋮        ⋮                ⋮             ⋮       ⋮       ⋮      \n",
       "6990 20300333 20301627 169.5977         1.99709       674.864 603.346 619.321\n",
       "6991 20300333 20305120 169.5977         1.99709       610.562 571.850 512.108\n",
       "6992 20300333 20302759 169.5977         1.99709       619.583 632.841 663.948\n",
       "6993 20300333 20301706 169.5977         1.99709       574.588 649.458 618.177\n",
       "6994 20300333 20306814 169.5977         1.99709       580.582 432.376 486.072\n",
       "6995 20300333 20303034 169.5977         1.99709       634.780 669.847 656.479\n",
       "6996 20300333 20302777 169.5977         1.99709       647.701 743.111 652.132\n",
       "6997 20300333 20303914 169.5977         1.99709       611.412 636.721 658.827\n",
       "6998 20300333 20304471 169.5977         1.99709       569.260 548.633 579.345\n",
       "6999 20300333 20300764 169.5977         1.99709       665.292 657.919 651.394\n",
       "7000 20300333 20307235 169.5977         1.99709       495.562 544.778 530.406\n",
       "7001 20300333 20305718 169.5977         1.99709       621.941 589.885 676.048\n",
       "7002 20300333 20300345 169.5977         1.99709       651.646 683.738 706.028\n",
       "7003 20300333 20307407 169.5977         1.99709       627.688 585.004 588.691\n",
       "7004 20300333 20305772 169.5977         1.99709       597.925 634.441 612.640\n",
       "7005 20300333 20302028 169.5977         1.99709       623.547 586.601 604.207\n",
       "7006 20300333 20301053 169.5977         1.99709       687.106 642.734 578.400\n",
       "7007 20300333 20303325 169.5977         1.99709       608.652 591.355 656.759\n",
       "7008 20300333 20306774 169.5977         1.99709       583.739 575.056 555.059\n",
       "7009 20300333 20306739 169.5977         1.99709       624.810 647.041 625.711\n",
       "7010 20300333 20306126 169.5977         1.99709       602.818 624.724 641.427\n",
       "7011 20300333 20306119 169.5977         1.99709       691.185 652.022 663.603\n",
       "7012 20300333 20303693 169.5977         1.99709       609.310 548.536 532.324\n",
       "7013 20300333 20303042 169.5977         1.99709       597.136 578.700 601.320\n",
       "7014 20300333 20307430 169.5977         1.99709       628.982 660.675 628.532\n",
       "7015 20300333 20301381 169.5977         1.99709       583.379 601.033 661.598\n",
       "7016 20300333 20304132 169.5977         1.99709       627.663 614.165 581.385\n",
       "7017 20300333 20307542 169.5977         1.99709       638.007 629.381 615.493\n",
       "7018 20300333 20302366 169.5977         1.99709       659.066 599.527 602.182\n",
       "7019 20300333 20300084 169.5977         1.99709       608.765 623.539 639.710\n",
       "     pv4math pv5math pv6math ⋯ reg gr_matematika gr_ceskyjazyk gr_cizijazyk\n",
       "1    599.939 576.879 585.896 ⋯      2             3             2          \n",
       "2    655.193 749.348 659.440 ⋯      5             2             1          \n",
       "3    496.377 493.627 499.849 ⋯      4             4             2          \n",
       "4    576.854 592.050 550.885 ⋯      5             2             2          \n",
       "5    478.312 497.864 513.142 ⋯      5             4             3          \n",
       "6    597.120 672.897 617.531 ⋯      2             2             3          \n",
       "7    511.371 560.627 584.955 ⋯      5             2             2          \n",
       "8    494.746 442.594 503.626 ⋯      4             3             2          \n",
       "9    666.105 565.691 581.697 ⋯      5             2             3          \n",
       "10   511.012 553.884 536.436 ⋯      5             2             2          \n",
       "11   537.579 476.632 553.133 ⋯      2             4             2          \n",
       "12   557.718 485.287 515.644 ⋯      4             2             3          \n",
       "13   557.318 580.176 591.545 ⋯      2             2             1          \n",
       "14   498.815 495.930 519.759 ⋯      2             2             1          \n",
       "15   706.679 740.911 695.950 ⋯      2             3             2          \n",
       "16   518.501 531.281 575.686 ⋯      2             2             2          \n",
       "17   474.398 501.736 572.215 ⋯      4             5             5          \n",
       "18   581.054 619.147 609.689 ⋯      2             3             3          \n",
       "19   640.243 685.596 626.933 ⋯      4             4             1          \n",
       "20   484.835 546.335 472.862 ⋯      5             3             2          \n",
       "21   460.562 435.193 490.457 ⋯      4             2             3          \n",
       "22   591.719 714.135 656.844 ⋯     NA            NA            NA          \n",
       "23   499.284 533.544 517.468 ⋯      5             1             1          \n",
       "24   577.063 558.176 557.789 ⋯      5             1             2          \n",
       "25   536.718 622.360 622.464 ⋯      1             3             1          \n",
       "26   606.826 692.791 682.341 ⋯      2             1             2          \n",
       "27   620.013 605.865 640.059 ⋯      2             2             1          \n",
       "28   606.537 535.206 675.783 ⋯     NA            NA            NA          \n",
       "29   501.341 522.071 514.112 ⋯      4             3             3          \n",
       "30   591.750 606.197 674.412 ⋯      4             4             2          \n",
       "⋮    ⋮       ⋮       ⋮       ⋱ ⋮   ⋮             ⋮             ⋮           \n",
       "6990 654.096 600.658 658.638 ⋯ HKK 5             2             2           \n",
       "6991 561.713 576.547 621.061 ⋯ HKK 1             1             2           \n",
       "6992 691.136 699.043 597.689 ⋯ HKK 1             1             1           \n",
       "6993 598.567 669.427 606.708 ⋯ HKK 1             1             2           \n",
       "6994 529.869 523.789 536.091 ⋯ HKK 1             1             1           \n",
       "6995 571.988 718.105 617.039 ⋯ HKK 1             1             1           \n",
       "6996 659.414 751.717 662.944 ⋯ HKK 1             2             2           \n",
       "6997 678.739 616.197 586.513 ⋯ HKK 2             2             1           \n",
       "6998 615.322 593.479 622.504 ⋯ HKK 5             2             2           \n",
       "6999 635.443 701.023 671.969 ⋯ HKK 1             2             2           \n",
       "7000 556.709 549.612 549.698 ⋯ HKK 2             2             3           \n",
       "7001 637.606 622.398 688.570 ⋯ HKK 2             2             2           \n",
       "7002 691.537 753.834 745.834 ⋯ HKK 2             3             2           \n",
       "7003 597.963 577.161 598.105 ⋯ HKK 2             3             2           \n",
       "7004 607.605 649.582 676.022 ⋯ HKK 2             1             2           \n",
       "7005 604.803 613.148 604.720 ⋯ HKK 1             1             1           \n",
       "7006 628.937 629.971 657.672 ⋯ HKK 1             1             2           \n",
       "7007 631.805 629.986 705.541 ⋯ HKK 1             2             2           \n",
       "7008 533.453 575.049 565.806 ⋯ HKK 2             1             1           \n",
       "7009 594.575 608.553 615.931 ⋯ HKK 1             1             2           \n",
       "7010 662.486 627.166 616.585 ⋯ HKK 1             1             2           \n",
       "7011 708.827 696.028 626.040 ⋯ HKK 1             2             2           \n",
       "7012 628.708 489.074 576.470 ⋯ HKK 2             1             1           \n",
       "7013 581.546 603.200 607.384 ⋯ HKK 1             3             3           \n",
       "7014 638.521 671.798 681.548 ⋯ HKK 2             2             2           \n",
       "7015 591.576 638.447 610.863 ⋯ HKK 5             2             2           \n",
       "7016 643.359 558.543 557.178 ⋯ HKK 1             2             2           \n",
       "7017 648.151 576.641 658.875 ⋯ HKK 1             1             1           \n",
       "7018 602.684 608.269 598.091 ⋯ HKK 1             2             2           \n",
       "7019 567.581 575.365 593.190 ⋯ HKK 2             3             1           \n",
       "     gr_fyzika gr_chemie gr_prirodopis gr_zemepis n  w_schwt_norm\n",
       "1     3         3        NA            NA         32 0.370565    \n",
       "2     3         2        NA            NA         32 0.370565    \n",
       "3     3         4        NA             4         32 0.370565    \n",
       "4     1         2         2            NA         32 0.370565    \n",
       "5     2         3        NA            NA         32 0.370565    \n",
       "6     2         2        NA            NA         32 0.370565    \n",
       "7     3         2        NA            NA         32 0.370565    \n",
       "8     2         3        NA             4         32 0.370565    \n",
       "9     1         2        NA            NA         32 0.370565    \n",
       "10    1         1        NA            NA         32 0.370565    \n",
       "11    2         1        NA            NA         32 0.370565    \n",
       "12    1         2        NA            NA         32 0.370565    \n",
       "13    1         1        NA             1         32 0.370565    \n",
       "14    1         1        NA            NA         32 0.370565    \n",
       "15    2         1        NA            NA         32 0.370565    \n",
       "16    2         2        NA            NA         32 0.370565    \n",
       "17    4         5        NA            NA         32 0.370565    \n",
       "18    2         2        NA            NA         32 0.370565    \n",
       "19    2         2        NA            NA         32 0.370565    \n",
       "20    3         3        NA            NA         32 0.370565    \n",
       "21    3         3        NA             2         32 0.370565    \n",
       "22   NA        NA        NA            NA         32 0.370565    \n",
       "23    2         2        NA             1         32 0.370565    \n",
       "24    1         1        NA            NA         32 0.370565    \n",
       "25    1         2        NA            NA         32 0.370565    \n",
       "26    1         1        NA            NA         32 0.370565    \n",
       "27    2         3        NA            NA         32 0.370565    \n",
       "28   NA        NA        NA            NA         32 0.370565    \n",
       "29    4         4        NA            NA         32 0.370565    \n",
       "30    3         1         3            NA         32 0.370565    \n",
       "⋮    ⋮         ⋮         ⋮             ⋮          ⋮  ⋮           \n",
       "6990 2         2         3             1          32 0.1614184   \n",
       "6991 1         2         1             2          32 0.1614184   \n",
       "6992 1         1         1             1          32 0.1614184   \n",
       "6993 2         1         1             1          32 0.1614184   \n",
       "6994 1         1         1             1          32 0.1614184   \n",
       "6995 1         1         1             2          32 0.1614184   \n",
       "6996 1         2         2             2          32 0.1614184   \n",
       "6997 1         2         2             3          32 0.1614184   \n",
       "6998 3         3         2             3          32 0.1614184   \n",
       "6999 1         1         1             1          32 0.1614184   \n",
       "7000 3         2         2             3          32 0.1614184   \n",
       "7001 2         1         1             2          32 0.1614184   \n",
       "7002 1         2         2             2          32 0.1614184   \n",
       "7003 2         3         2             2          32 0.1614184   \n",
       "7004 2         2         1             1          32 0.1614184   \n",
       "7005 1         1         1             1          32 0.1614184   \n",
       "7006 2         1         1             1          32 0.1614184   \n",
       "7007 1         2         1             1          32 0.1614184   \n",
       "7008 1         2         3             3          32 0.1614184   \n",
       "7009 1         1         2             2          32 0.1614184   \n",
       "7010 1         3         2             2          32 0.1614184   \n",
       "7011 2         2         2             2          32 0.1614184   \n",
       "7012 1         2         1             1          32 0.1614184   \n",
       "7013 1         3         2             1          32 0.1614184   \n",
       "7014 1         2         2             2          32 0.1614184   \n",
       "7015 1         3         1             2          32 0.1614184   \n",
       "7016 2         3         3             2          32 0.1614184   \n",
       "7017 1         1         1             1          32 0.1614184   \n",
       "7018 1         2         1             1          32 0.1614184   \n",
       "7019 2         2         2             2          32 0.1614184   "
      ]
     },
     "metadata": {},
     "output_type": "display_data"
    }
   ],
   "source": [
    "dfall"
   ]
  },
  {
   "cell_type": "code",
   "execution_count": null,
   "id": "45fcac06-84ee-4303-85f8-569780940096",
   "metadata": {},
   "outputs": [],
   "source": []
  },
  {
   "cell_type": "code",
   "execution_count": 123,
   "id": "b0a9715a-6838-4e8a-8032-5087f8ad753c",
   "metadata": {},
   "outputs": [
    {
     "data": {
      "text/html": [
       "<table class=\"dataframe\">\n",
       "<caption>A light.edsurvey.data.frame: 1881 × 131</caption>\n",
       "<thead>\n",
       "\t<tr><th></th><th scope=col>cntschid</th><th scope=col>cntstuid</th><th scope=col>w_fstuwt_sch_sum</th><th scope=col>w_schgrnrabwt</th><th scope=col>pv1math</th><th scope=col>pv2math</th><th scope=col>pv3math</th><th scope=col>pv4math</th><th scope=col>pv5math</th><th scope=col>pv6math</th><th scope=col>⋯</th><th scope=col>gr_ceskyjazyk</th><th scope=col>gr_cizijazyk</th><th scope=col>gr_fyzika</th><th scope=col>gr_chemie</th><th scope=col>gr_prirodopis</th><th scope=col>gr_zemepis</th><th scope=col>n</th><th scope=col>w_schwt_norm</th><th scope=col>ones</th><th scope=col>w_fstuwt_norm</th></tr>\n",
       "\t<tr><th></th><th scope=col>&lt;int&gt;</th><th scope=col>&lt;int&gt;</th><th scope=col>&lt;dbl&gt;</th><th scope=col>&lt;dbl&gt;</th><th scope=col>&lt;dbl&gt;</th><th scope=col>&lt;dbl&gt;</th><th scope=col>&lt;dbl&gt;</th><th scope=col>&lt;dbl&gt;</th><th scope=col>&lt;dbl&gt;</th><th scope=col>&lt;dbl&gt;</th><th scope=col>⋯</th><th scope=col>&lt;dbl&gt;</th><th scope=col>&lt;dbl&gt;</th><th scope=col>&lt;dbl&gt;</th><th scope=col>&lt;dbl&gt;</th><th scope=col>&lt;dbl&gt;</th><th scope=col>&lt;dbl&gt;</th><th scope=col>&lt;int&gt;</th><th scope=col>&lt;dbl&gt;</th><th scope=col>&lt;dbl&gt;</th><th scope=col>&lt;dbl&gt;</th></tr>\n",
       "</thead>\n",
       "<tbody>\n",
       "\t<tr><th scope=row>36</th><td>20300002</td><td>20307546</td><td>680.7528</td><td>24.29682</td><td>528.088</td><td>602.703</td><td>579.379</td><td>560.838</td><td>554.008</td><td>527.534</td><td>⋯</td><td>1</td><td> 2</td><td>1</td><td>1</td><td>1</td><td>1</td><td>20</td><td>1.963834</td><td>1</td><td>0.7709280</td></tr>\n",
       "\t<tr><th scope=row>37</th><td>20300002</td><td>20301154</td><td>680.7528</td><td>24.29682</td><td>527.499</td><td>515.207</td><td>529.720</td><td>449.174</td><td>486.160</td><td>564.528</td><td>⋯</td><td>1</td><td> 1</td><td>2</td><td>2</td><td>2</td><td>1</td><td>20</td><td>1.963834</td><td>1</td><td>0.8436081</td></tr>\n",
       "\t<tr><th scope=row>38</th><td>20300002</td><td>20306751</td><td>680.7528</td><td>24.29682</td><td>518.657</td><td>503.951</td><td>542.977</td><td>507.236</td><td>552.238</td><td>499.343</td><td>⋯</td><td>1</td><td> 1</td><td>1</td><td>1</td><td>1</td><td>1</td><td>20</td><td>1.963834</td><td>1</td><td>0.7709280</td></tr>\n",
       "\t<tr><th scope=row>39</th><td>20300002</td><td>20306750</td><td>680.7528</td><td>24.29682</td><td>480.852</td><td>566.543</td><td>469.897</td><td>521.546</td><td>464.686</td><td>569.811</td><td>⋯</td><td>5</td><td> 1</td><td>2</td><td>4</td><td>4</td><td>1</td><td>20</td><td>1.963834</td><td>1</td><td>0.7709280</td></tr>\n",
       "\t<tr><th scope=row>40</th><td>20300002</td><td>20304210</td><td>680.7528</td><td>24.29682</td><td>356.695</td><td>391.486</td><td>407.770</td><td>324.412</td><td>347.838</td><td>413.606</td><td>⋯</td><td>4</td><td> 4</td><td>4</td><td>4</td><td>4</td><td>2</td><td>20</td><td>1.963834</td><td>1</td><td>0.7709280</td></tr>\n",
       "\t<tr><th scope=row>42</th><td>20300002</td><td>20304325</td><td>680.7528</td><td>24.29682</td><td>323.134</td><td>408.466</td><td>373.614</td><td>403.918</td><td>328.141</td><td>366.868</td><td>⋯</td><td>4</td><td> 3</td><td>4</td><td>5</td><td>4</td><td>3</td><td>20</td><td>1.963834</td><td>1</td><td>0.8436081</td></tr>\n",
       "\t<tr><th scope=row>43</th><td>20300002</td><td>20301624</td><td>680.7528</td><td>24.29682</td><td>320.861</td><td>330.534</td><td>364.795</td><td>435.075</td><td>382.970</td><td>408.828</td><td>⋯</td><td>4</td><td> 4</td><td>4</td><td>5</td><td>3</td><td>2</td><td>20</td><td>1.963834</td><td>1</td><td>0.7709280</td></tr>\n",
       "\t<tr><th scope=row>44</th><td>20300002</td><td>20300029</td><td>680.7528</td><td>24.29682</td><td>441.738</td><td>321.561</td><td>403.152</td><td>463.515</td><td>437.194</td><td>370.671</td><td>⋯</td><td>2</td><td>NA</td><td>2</td><td>2</td><td>2</td><td>1</td><td>20</td><td>1.963834</td><td>1</td><td>0.7709280</td></tr>\n",
       "\t<tr><th scope=row>45</th><td>20300002</td><td>20305517</td><td>680.7528</td><td>24.29682</td><td>395.750</td><td>443.252</td><td>443.987</td><td>455.610</td><td>443.194</td><td>445.008</td><td>⋯</td><td>4</td><td> 3</td><td>4</td><td>4</td><td>3</td><td>3</td><td>20</td><td>1.963834</td><td>1</td><td>0.8436081</td></tr>\n",
       "\t<tr><th scope=row>48</th><td>20300002</td><td>20307274</td><td>680.7528</td><td>24.29682</td><td>423.909</td><td>502.231</td><td>433.365</td><td>464.155</td><td>441.623</td><td>531.185</td><td>⋯</td><td>2</td><td> 2</td><td>3</td><td>3</td><td>3</td><td>1</td><td>20</td><td>1.963834</td><td>1</td><td>0.8436081</td></tr>\n",
       "\t<tr><th scope=row>49</th><td>20300002</td><td>20301012</td><td>680.7528</td><td>24.29682</td><td>506.421</td><td>544.268</td><td>529.403</td><td>554.132</td><td>560.064</td><td>531.830</td><td>⋯</td><td>4</td><td> 3</td><td>4</td><td>5</td><td>3</td><td>3</td><td>20</td><td>1.963834</td><td>1</td><td>0.8436081</td></tr>\n",
       "\t<tr><th scope=row>50</th><td>20300002</td><td>20306363</td><td>680.7528</td><td>24.29682</td><td>472.081</td><td>474.995</td><td>439.024</td><td>471.867</td><td>496.175</td><td>487.164</td><td>⋯</td><td>3</td><td> 3</td><td>3</td><td>4</td><td>3</td><td>2</td><td>20</td><td>1.963834</td><td>1</td><td>0.8436081</td></tr>\n",
       "\t<tr><th scope=row>51</th><td>20300002</td><td>20307698</td><td>680.7528</td><td>24.29682</td><td>448.326</td><td>467.449</td><td>461.996</td><td>482.813</td><td>474.960</td><td>449.667</td><td>⋯</td><td>2</td><td> 2</td><td>3</td><td>4</td><td>4</td><td>3</td><td>20</td><td>1.963834</td><td>1</td><td>0.7709280</td></tr>\n",
       "\t<tr><th scope=row>52</th><td>20300002</td><td>20300521</td><td>680.7528</td><td>24.29682</td><td>450.704</td><td>505.256</td><td>482.443</td><td>524.667</td><td>523.310</td><td>488.492</td><td>⋯</td><td>1</td><td> 1</td><td>1</td><td>1</td><td>1</td><td>1</td><td>20</td><td>1.963834</td><td>1</td><td>0.8436081</td></tr>\n",
       "\t<tr><th scope=row>53</th><td>20300002</td><td>20304307</td><td>680.7528</td><td>24.29682</td><td>484.924</td><td>455.489</td><td>368.334</td><td>422.220</td><td>426.966</td><td>419.310</td><td>⋯</td><td>3</td><td> 2</td><td>3</td><td>3</td><td>2</td><td>1</td><td>20</td><td>1.963834</td><td>1</td><td>0.8436081</td></tr>\n",
       "\t<tr><th scope=row>56</th><td>20300002</td><td>20301159</td><td>680.7528</td><td>24.29682</td><td>415.832</td><td>415.735</td><td>446.192</td><td>469.982</td><td>469.005</td><td>480.107</td><td>⋯</td><td>3</td><td> 2</td><td>3</td><td>4</td><td>4</td><td>1</td><td>20</td><td>1.963834</td><td>1</td><td>0.8436081</td></tr>\n",
       "\t<tr><th scope=row>57</th><td>20300002</td><td>20304622</td><td>680.7528</td><td>24.29682</td><td>415.054</td><td>448.371</td><td>474.116</td><td>464.793</td><td>452.333</td><td>497.501</td><td>⋯</td><td>2</td><td> 1</td><td>3</td><td>2</td><td>2</td><td>2</td><td>20</td><td>1.963834</td><td>1</td><td>0.7709280</td></tr>\n",
       "\t<tr><th scope=row>107</th><td>20300005</td><td>20300409</td><td>430.6977</td><td>26.19107</td><td>408.974</td><td>443.748</td><td>354.228</td><td>470.672</td><td>441.497</td><td>484.695</td><td>⋯</td><td>2</td><td> 1</td><td>2</td><td>1</td><td>1</td><td>1</td><td>16</td><td>2.116940</td><td>1</td><td>1.0270269</td></tr>\n",
       "\t<tr><th scope=row>109</th><td>20300005</td><td>20306703</td><td>430.6977</td><td>26.19107</td><td>452.684</td><td>416.512</td><td>467.204</td><td>387.355</td><td>473.623</td><td>496.453</td><td>⋯</td><td>4</td><td> 3</td><td>3</td><td>4</td><td>3</td><td>2</td><td>16</td><td>2.116940</td><td>1</td><td>0.9729728</td></tr>\n",
       "\t<tr><th scope=row>110</th><td>20300005</td><td>20306682</td><td>430.6977</td><td>26.19107</td><td>447.147</td><td>379.475</td><td>415.334</td><td>440.282</td><td>425.980</td><td>346.047</td><td>⋯</td><td>3</td><td> 3</td><td>3</td><td>2</td><td>2</td><td>3</td><td>16</td><td>2.116940</td><td>1</td><td>1.0270269</td></tr>\n",
       "\t<tr><th scope=row>111</th><td>20300005</td><td>20301455</td><td>430.6977</td><td>26.19107</td><td>425.234</td><td>411.305</td><td>453.992</td><td>354.508</td><td>387.558</td><td>431.585</td><td>⋯</td><td>3</td><td> 2</td><td>2</td><td>2</td><td>3</td><td>1</td><td>16</td><td>2.116940</td><td>1</td><td>1.0270269</td></tr>\n",
       "\t<tr><th scope=row>112</th><td>20300005</td><td>20304521</td><td>430.6977</td><td>26.19107</td><td>518.790</td><td>516.235</td><td>530.350</td><td>524.128</td><td>520.170</td><td>480.256</td><td>⋯</td><td>3</td><td> 2</td><td>2</td><td>1</td><td>2</td><td>2</td><td>16</td><td>2.116940</td><td>1</td><td>0.9729728</td></tr>\n",
       "\t<tr><th scope=row>113</th><td>20300005</td><td>20305689</td><td>430.6977</td><td>26.19107</td><td>368.754</td><td>365.148</td><td>422.034</td><td>419.482</td><td>444.519</td><td>398.081</td><td>⋯</td><td>3</td><td> 1</td><td>2</td><td>2</td><td>2</td><td>2</td><td>16</td><td>2.116940</td><td>1</td><td>1.0270269</td></tr>\n",
       "\t<tr><th scope=row>114</th><td>20300005</td><td>20302792</td><td>430.6977</td><td>26.19107</td><td>567.901</td><td>610.994</td><td>564.835</td><td>606.401</td><td>592.503</td><td>634.901</td><td>⋯</td><td>1</td><td> 1</td><td>1</td><td>1</td><td>1</td><td>1</td><td>16</td><td>2.116940</td><td>1</td><td>1.0270269</td></tr>\n",
       "\t<tr><th scope=row>115</th><td>20300005</td><td>20305323</td><td>430.6977</td><td>26.19107</td><td>477.402</td><td>479.891</td><td>457.933</td><td>460.891</td><td>477.054</td><td>502.946</td><td>⋯</td><td>3</td><td> 3</td><td>3</td><td>3</td><td>3</td><td>3</td><td>16</td><td>2.116940</td><td>1</td><td>1.0270269</td></tr>\n",
       "\t<tr><th scope=row>117</th><td>20300005</td><td>20304582</td><td>430.6977</td><td>26.19107</td><td>367.614</td><td>490.383</td><td>408.437</td><td>443.409</td><td>391.804</td><td>451.536</td><td>⋯</td><td>4</td><td> 3</td><td>3</td><td>3</td><td>3</td><td>4</td><td>16</td><td>2.116940</td><td>1</td><td>0.9729728</td></tr>\n",
       "\t<tr><th scope=row>118</th><td>20300005</td><td>20304547</td><td>430.6977</td><td>26.19107</td><td>509.984</td><td>469.159</td><td>502.385</td><td>466.284</td><td>499.004</td><td>531.722</td><td>⋯</td><td>1</td><td> 1</td><td>1</td><td>1</td><td>1</td><td>1</td><td>16</td><td>2.116940</td><td>1</td><td>1.0270269</td></tr>\n",
       "\t<tr><th scope=row>119</th><td>20300005</td><td>20304853</td><td>430.6977</td><td>26.19107</td><td>437.009</td><td>502.426</td><td>468.533</td><td>550.869</td><td>554.576</td><td>471.710</td><td>⋯</td><td>3</td><td> 3</td><td>1</td><td>2</td><td>1</td><td>2</td><td>16</td><td>2.116940</td><td>1</td><td>0.9729728</td></tr>\n",
       "\t<tr><th scope=row>120</th><td>20300005</td><td>20305556</td><td>430.6977</td><td>26.19107</td><td>452.085</td><td>521.372</td><td>484.040</td><td>434.299</td><td>524.517</td><td>459.182</td><td>⋯</td><td>4</td><td> 3</td><td>3</td><td>3</td><td>2</td><td>2</td><td>16</td><td>2.116940</td><td>1</td><td>0.9729728</td></tr>\n",
       "\t<tr><th scope=row>121</th><td>20300005</td><td>20304050</td><td>430.6977</td><td>26.19107</td><td>588.038</td><td>600.999</td><td>626.487</td><td>553.607</td><td>572.256</td><td>560.831</td><td>⋯</td><td>3</td><td> 3</td><td>1</td><td>2</td><td>1</td><td>1</td><td>16</td><td>2.116940</td><td>1</td><td>0.9729728</td></tr>\n",
       "\t<tr><th scope=row>⋮</th><td>⋮</td><td>⋮</td><td>⋮</td><td>⋮</td><td>⋮</td><td>⋮</td><td>⋮</td><td>⋮</td><td>⋮</td><td>⋮</td><td>⋱</td><td>⋮</td><td>⋮</td><td>⋮</td><td>⋮</td><td>⋮</td><td>⋮</td><td>⋮</td><td>⋮</td><td>⋮</td><td>⋮</td></tr>\n",
       "\t<tr><th scope=row>6795</th><td>20300323</td><td>20306437</td><td>146.7041</td><td>13.33673</td><td>541.004</td><td>530.641</td><td>512.933</td><td>559.324</td><td>461.780</td><td>505.634</td><td>⋯</td><td>2</td><td>2</td><td>3</td><td>4</td><td>3</td><td>1</td><td>10</td><td>1.0779652</td><td>1</td><td>0.9090906</td></tr>\n",
       "\t<tr><th scope=row>6796</th><td>20300323</td><td>20303922</td><td>146.7041</td><td>13.33673</td><td>469.263</td><td>481.638</td><td>463.408</td><td>543.445</td><td>526.239</td><td>552.085</td><td>⋯</td><td>3</td><td>1</td><td>3</td><td>4</td><td>4</td><td>1</td><td>10</td><td>1.0779652</td><td>1</td><td>0.9090906</td></tr>\n",
       "\t<tr><th scope=row>6797</th><td>20300323</td><td>20305140</td><td>146.7041</td><td>13.33673</td><td>435.174</td><td>377.991</td><td>407.662</td><td>457.934</td><td>366.751</td><td>471.871</td><td>⋯</td><td>1</td><td>1</td><td>2</td><td>2</td><td>2</td><td>1</td><td>10</td><td>1.0779652</td><td>1</td><td>0.9090906</td></tr>\n",
       "\t<tr><th scope=row>6798</th><td>20300323</td><td>20305533</td><td>146.7041</td><td>13.33673</td><td>451.757</td><td>353.276</td><td>508.231</td><td>382.276</td><td>451.985</td><td>472.620</td><td>⋯</td><td>4</td><td>2</td><td>3</td><td>3</td><td>3</td><td>3</td><td>10</td><td>1.0779652</td><td>1</td><td>0.9090906</td></tr>\n",
       "\t<tr><th scope=row>6799</th><td>20300323</td><td>20307239</td><td>146.7041</td><td>13.33673</td><td>555.644</td><td>507.783</td><td>516.802</td><td>499.344</td><td>580.309</td><td>491.284</td><td>⋯</td><td>2</td><td>1</td><td>3</td><td>3</td><td>2</td><td>2</td><td>10</td><td>1.0779652</td><td>1</td><td>0.9090906</td></tr>\n",
       "\t<tr><th scope=row>6837</th><td>20300326</td><td>20300048</td><td>284.2761</td><td> 9.97579</td><td>371.946</td><td>473.209</td><td>414.562</td><td>275.307</td><td>359.728</td><td>419.392</td><td>⋯</td><td>3</td><td>3</td><td>2</td><td>3</td><td>2</td><td>2</td><td>12</td><td>0.8063112</td><td>1</td><td>0.4490433</td></tr>\n",
       "\t<tr><th scope=row>6839</th><td>20300326</td><td>20304926</td><td>284.2761</td><td> 9.97579</td><td>729.285</td><td>676.289</td><td>712.422</td><td>703.679</td><td>692.348</td><td>635.581</td><td>⋯</td><td>1</td><td>1</td><td>1</td><td>1</td><td>1</td><td>1</td><td>12</td><td>0.8063112</td><td>1</td><td>0.4815305</td></tr>\n",
       "\t<tr><th scope=row>6842</th><td>20300326</td><td>20302287</td><td>284.2761</td><td> 9.97579</td><td>460.623</td><td>463.812</td><td>456.721</td><td>400.586</td><td>400.088</td><td>392.886</td><td>⋯</td><td>2</td><td>1</td><td>1</td><td>3</td><td>1</td><td>1</td><td>12</td><td>0.8063112</td><td>1</td><td>0.4490433</td></tr>\n",
       "\t<tr><th scope=row>6843</th><td>20300326</td><td>20300885</td><td>284.2761</td><td> 9.97579</td><td>498.092</td><td>458.457</td><td>477.510</td><td>487.054</td><td>465.278</td><td>461.688</td><td>⋯</td><td>2</td><td>2</td><td>2</td><td>3</td><td>1</td><td>1</td><td>12</td><td>0.8063112</td><td>1</td><td>0.4490433</td></tr>\n",
       "\t<tr><th scope=row>6845</th><td>20300326</td><td>20302554</td><td>284.2761</td><td> 9.97579</td><td>456.691</td><td>489.133</td><td>460.651</td><td>542.388</td><td>403.321</td><td>471.708</td><td>⋯</td><td>1</td><td>1</td><td>1</td><td>1</td><td>1</td><td>1</td><td>12</td><td>0.8063112</td><td>1</td><td>0.4490433</td></tr>\n",
       "\t<tr><th scope=row>6847</th><td>20300326</td><td>20303057</td><td>284.2761</td><td> 9.97579</td><td>521.886</td><td>478.266</td><td>494.841</td><td>440.481</td><td>475.311</td><td>446.657</td><td>⋯</td><td>2</td><td>2</td><td>3</td><td>3</td><td>1</td><td>2</td><td>12</td><td>0.8063112</td><td>1</td><td>0.4490433</td></tr>\n",
       "\t<tr><th scope=row>6849</th><td>20300326</td><td>20301887</td><td>284.2761</td><td> 9.97579</td><td>599.274</td><td>596.924</td><td>543.970</td><td>527.985</td><td>562.703</td><td>559.846</td><td>⋯</td><td>1</td><td>1</td><td>1</td><td>1</td><td>1</td><td>1</td><td>12</td><td>0.8063112</td><td>1</td><td>0.4815305</td></tr>\n",
       "\t<tr><th scope=row>6851</th><td>20300326</td><td>20302354</td><td>284.2761</td><td> 9.97579</td><td>451.071</td><td>364.034</td><td>355.449</td><td>390.367</td><td>320.508</td><td>279.340</td><td>⋯</td><td>2</td><td>2</td><td>1</td><td>3</td><td>1</td><td>2</td><td>12</td><td>0.8063112</td><td>1</td><td>0.4490433</td></tr>\n",
       "\t<tr><th scope=row>6857</th><td>20300326</td><td>20305367</td><td>284.2761</td><td> 9.97579</td><td>359.007</td><td>367.247</td><td>390.676</td><td>381.468</td><td>407.498</td><td>328.512</td><td>⋯</td><td>3</td><td>3</td><td>3</td><td>3</td><td>2</td><td>2</td><td>12</td><td>0.8063112</td><td>1</td><td>0.4815305</td></tr>\n",
       "\t<tr><th scope=row>6858</th><td>20300326</td><td>20300840</td><td>284.2761</td><td> 9.97579</td><td>448.694</td><td>439.445</td><td>514.539</td><td>470.788</td><td>492.270</td><td>429.309</td><td>⋯</td><td>4</td><td>3</td><td>3</td><td>3</td><td>2</td><td>4</td><td>12</td><td>0.8063112</td><td>1</td><td>0.4815305</td></tr>\n",
       "\t<tr><th scope=row>6859</th><td>20300326</td><td>20305372</td><td>284.2761</td><td> 9.97579</td><td>578.180</td><td>557.577</td><td>546.866</td><td>543.044</td><td>583.625</td><td>547.634</td><td>⋯</td><td>2</td><td>2</td><td>2</td><td>2</td><td>1</td><td>1</td><td>12</td><td>0.8063112</td><td>1</td><td>0.4490433</td></tr>\n",
       "\t<tr><th scope=row>6862</th><td>20300326</td><td>20307320</td><td>284.2761</td><td> 9.97579</td><td>428.683</td><td>391.019</td><td>419.132</td><td>455.671</td><td>428.014</td><td>395.665</td><td>⋯</td><td>1</td><td>2</td><td>1</td><td>2</td><td>1</td><td>1</td><td>12</td><td>0.8063112</td><td>1</td><td>0.4490433</td></tr>\n",
       "\t<tr><th scope=row>6901</th><td>20300329</td><td>20305911</td><td>146.2729</td><td>13.34809</td><td>516.094</td><td>527.811</td><td>496.712</td><td>455.866</td><td>517.285</td><td>505.622</td><td>⋯</td><td>3</td><td>2</td><td>3</td><td>2</td><td>2</td><td>2</td><td> 9</td><td>1.0788834</td><td>1</td><td>1.0494297</td></tr>\n",
       "\t<tr><th scope=row>6902</th><td>20300329</td><td>20307643</td><td>146.2729</td><td>13.34809</td><td>538.448</td><td>621.049</td><td>549.190</td><td>566.571</td><td>571.157</td><td>523.327</td><td>⋯</td><td>1</td><td>1</td><td>1</td><td>1</td><td>1</td><td>1</td><td> 9</td><td>1.0788834</td><td>1</td><td>0.9752850</td></tr>\n",
       "\t<tr><th scope=row>6903</th><td>20300329</td><td>20307748</td><td>146.2729</td><td>13.34809</td><td>572.965</td><td>491.839</td><td>636.316</td><td>518.741</td><td>434.458</td><td>474.677</td><td>⋯</td><td>2</td><td>2</td><td>2</td><td>1</td><td>1</td><td>2</td><td> 9</td><td>1.0788834</td><td>1</td><td>0.9752850</td></tr>\n",
       "\t<tr><th scope=row>6904</th><td>20300329</td><td>20306589</td><td>146.2729</td><td>13.34809</td><td>483.599</td><td>381.171</td><td>563.445</td><td>445.798</td><td>512.391</td><td>497.693</td><td>⋯</td><td>4</td><td>4</td><td>3</td><td>3</td><td>4</td><td>2</td><td> 9</td><td>1.0788834</td><td>1</td><td>1.0494297</td></tr>\n",
       "\t<tr><th scope=row>6905</th><td>20300329</td><td>20300051</td><td>146.2729</td><td>13.34809</td><td>656.568</td><td>649.147</td><td>685.402</td><td>646.644</td><td>622.583</td><td>643.779</td><td>⋯</td><td>1</td><td>1</td><td>1</td><td>1</td><td>1</td><td>1</td><td> 9</td><td>1.0788834</td><td>1</td><td>1.0494297</td></tr>\n",
       "\t<tr><th scope=row>6906</th><td>20300329</td><td>20303515</td><td>146.2729</td><td>13.34809</td><td>512.676</td><td>534.338</td><td>505.220</td><td>468.499</td><td>537.967</td><td>506.458</td><td>⋯</td><td>4</td><td>4</td><td>3</td><td>3</td><td>2</td><td>3</td><td> 9</td><td>1.0788834</td><td>1</td><td>0.9752850</td></tr>\n",
       "\t<tr><th scope=row>6907</th><td>20300329</td><td>20306167</td><td>146.2729</td><td>13.34809</td><td>342.684</td><td>273.659</td><td>309.454</td><td>325.993</td><td>372.607</td><td>402.881</td><td>⋯</td><td>4</td><td>4</td><td>4</td><td>3</td><td>3</td><td>3</td><td> 9</td><td>1.0788834</td><td>1</td><td>0.9752850</td></tr>\n",
       "\t<tr><th scope=row>6908</th><td>20300329</td><td>20300691</td><td>146.2729</td><td>13.34809</td><td>453.690</td><td>546.338</td><td>491.588</td><td>477.807</td><td>502.182</td><td>522.826</td><td>⋯</td><td>2</td><td>2</td><td>2</td><td>1</td><td>2</td><td>2</td><td> 9</td><td>1.0788834</td><td>1</td><td>0.9752850</td></tr>\n",
       "\t<tr><th scope=row>6909</th><td>20300329</td><td>20301545</td><td>146.2729</td><td>13.34809</td><td>498.462</td><td>585.943</td><td>519.089</td><td>543.072</td><td>521.008</td><td>530.078</td><td>⋯</td><td>2</td><td>2</td><td>2</td><td>1</td><td>1</td><td>1</td><td> 9</td><td>1.0788834</td><td>1</td><td>0.9752850</td></tr>\n",
       "\t<tr><th scope=row>6912</th><td>20300330</td><td>20306606</td><td>340.1036</td><td>25.19286</td><td>611.329</td><td>594.386</td><td>537.736</td><td>588.418</td><td>630.010</td><td>618.271</td><td>⋯</td><td>1</td><td>1</td><td>1</td><td>1</td><td>1</td><td>1</td><td> 5</td><td>2.0362583</td><td>1</td><td>0.3888889</td></tr>\n",
       "\t<tr><th scope=row>6916</th><td>20300330</td><td>20305848</td><td>340.1036</td><td>25.19286</td><td>493.570</td><td>596.691</td><td>554.302</td><td>555.987</td><td>457.146</td><td>632.316</td><td>⋯</td><td>1</td><td>1</td><td>1</td><td>1</td><td>1</td><td>1</td><td> 5</td><td>2.0362583</td><td>1</td><td>0.3703704</td></tr>\n",
       "\t<tr><th scope=row>6921</th><td>20300330</td><td>20306604</td><td>340.1036</td><td>25.19286</td><td>472.649</td><td>489.407</td><td>470.550</td><td>443.889</td><td>527.957</td><td>442.437</td><td>⋯</td><td>1</td><td>1</td><td>1</td><td>1</td><td>1</td><td>1</td><td> 5</td><td>2.0362583</td><td>1</td><td>0.3703704</td></tr>\n",
       "\t<tr><th scope=row>6922</th><td>20300330</td><td>20300657</td><td>340.1036</td><td>25.19286</td><td>472.112</td><td>467.346</td><td>518.795</td><td>430.645</td><td>468.834</td><td>460.816</td><td>⋯</td><td>3</td><td>3</td><td>3</td><td>3</td><td>3</td><td>3</td><td> 5</td><td>2.0362583</td><td>1</td><td>0.3703704</td></tr>\n",
       "</tbody>\n",
       "</table>\n"
      ],
      "text/latex": [
       "A light.edsurvey.data.frame: 1881 × 131\n",
       "\\begin{tabular}{r|lllllllllllllllllllll}\n",
       "  & cntschid & cntstuid & w\\_fstuwt\\_sch\\_sum & w\\_schgrnrabwt & pv1math & pv2math & pv3math & pv4math & pv5math & pv6math & ⋯ & gr\\_ceskyjazyk & gr\\_cizijazyk & gr\\_fyzika & gr\\_chemie & gr\\_prirodopis & gr\\_zemepis & n & w\\_schwt\\_norm & ones & w\\_fstuwt\\_norm\\\\\n",
       "  & <int> & <int> & <dbl> & <dbl> & <dbl> & <dbl> & <dbl> & <dbl> & <dbl> & <dbl> & ⋯ & <dbl> & <dbl> & <dbl> & <dbl> & <dbl> & <dbl> & <int> & <dbl> & <dbl> & <dbl>\\\\\n",
       "\\hline\n",
       "\t36 & 20300002 & 20307546 & 680.7528 & 24.29682 & 528.088 & 602.703 & 579.379 & 560.838 & 554.008 & 527.534 & ⋯ & 1 &  2 & 1 & 1 & 1 & 1 & 20 & 1.963834 & 1 & 0.7709280\\\\\n",
       "\t37 & 20300002 & 20301154 & 680.7528 & 24.29682 & 527.499 & 515.207 & 529.720 & 449.174 & 486.160 & 564.528 & ⋯ & 1 &  1 & 2 & 2 & 2 & 1 & 20 & 1.963834 & 1 & 0.8436081\\\\\n",
       "\t38 & 20300002 & 20306751 & 680.7528 & 24.29682 & 518.657 & 503.951 & 542.977 & 507.236 & 552.238 & 499.343 & ⋯ & 1 &  1 & 1 & 1 & 1 & 1 & 20 & 1.963834 & 1 & 0.7709280\\\\\n",
       "\t39 & 20300002 & 20306750 & 680.7528 & 24.29682 & 480.852 & 566.543 & 469.897 & 521.546 & 464.686 & 569.811 & ⋯ & 5 &  1 & 2 & 4 & 4 & 1 & 20 & 1.963834 & 1 & 0.7709280\\\\\n",
       "\t40 & 20300002 & 20304210 & 680.7528 & 24.29682 & 356.695 & 391.486 & 407.770 & 324.412 & 347.838 & 413.606 & ⋯ & 4 &  4 & 4 & 4 & 4 & 2 & 20 & 1.963834 & 1 & 0.7709280\\\\\n",
       "\t42 & 20300002 & 20304325 & 680.7528 & 24.29682 & 323.134 & 408.466 & 373.614 & 403.918 & 328.141 & 366.868 & ⋯ & 4 &  3 & 4 & 5 & 4 & 3 & 20 & 1.963834 & 1 & 0.8436081\\\\\n",
       "\t43 & 20300002 & 20301624 & 680.7528 & 24.29682 & 320.861 & 330.534 & 364.795 & 435.075 & 382.970 & 408.828 & ⋯ & 4 &  4 & 4 & 5 & 3 & 2 & 20 & 1.963834 & 1 & 0.7709280\\\\\n",
       "\t44 & 20300002 & 20300029 & 680.7528 & 24.29682 & 441.738 & 321.561 & 403.152 & 463.515 & 437.194 & 370.671 & ⋯ & 2 & NA & 2 & 2 & 2 & 1 & 20 & 1.963834 & 1 & 0.7709280\\\\\n",
       "\t45 & 20300002 & 20305517 & 680.7528 & 24.29682 & 395.750 & 443.252 & 443.987 & 455.610 & 443.194 & 445.008 & ⋯ & 4 &  3 & 4 & 4 & 3 & 3 & 20 & 1.963834 & 1 & 0.8436081\\\\\n",
       "\t48 & 20300002 & 20307274 & 680.7528 & 24.29682 & 423.909 & 502.231 & 433.365 & 464.155 & 441.623 & 531.185 & ⋯ & 2 &  2 & 3 & 3 & 3 & 1 & 20 & 1.963834 & 1 & 0.8436081\\\\\n",
       "\t49 & 20300002 & 20301012 & 680.7528 & 24.29682 & 506.421 & 544.268 & 529.403 & 554.132 & 560.064 & 531.830 & ⋯ & 4 &  3 & 4 & 5 & 3 & 3 & 20 & 1.963834 & 1 & 0.8436081\\\\\n",
       "\t50 & 20300002 & 20306363 & 680.7528 & 24.29682 & 472.081 & 474.995 & 439.024 & 471.867 & 496.175 & 487.164 & ⋯ & 3 &  3 & 3 & 4 & 3 & 2 & 20 & 1.963834 & 1 & 0.8436081\\\\\n",
       "\t51 & 20300002 & 20307698 & 680.7528 & 24.29682 & 448.326 & 467.449 & 461.996 & 482.813 & 474.960 & 449.667 & ⋯ & 2 &  2 & 3 & 4 & 4 & 3 & 20 & 1.963834 & 1 & 0.7709280\\\\\n",
       "\t52 & 20300002 & 20300521 & 680.7528 & 24.29682 & 450.704 & 505.256 & 482.443 & 524.667 & 523.310 & 488.492 & ⋯ & 1 &  1 & 1 & 1 & 1 & 1 & 20 & 1.963834 & 1 & 0.8436081\\\\\n",
       "\t53 & 20300002 & 20304307 & 680.7528 & 24.29682 & 484.924 & 455.489 & 368.334 & 422.220 & 426.966 & 419.310 & ⋯ & 3 &  2 & 3 & 3 & 2 & 1 & 20 & 1.963834 & 1 & 0.8436081\\\\\n",
       "\t56 & 20300002 & 20301159 & 680.7528 & 24.29682 & 415.832 & 415.735 & 446.192 & 469.982 & 469.005 & 480.107 & ⋯ & 3 &  2 & 3 & 4 & 4 & 1 & 20 & 1.963834 & 1 & 0.8436081\\\\\n",
       "\t57 & 20300002 & 20304622 & 680.7528 & 24.29682 & 415.054 & 448.371 & 474.116 & 464.793 & 452.333 & 497.501 & ⋯ & 2 &  1 & 3 & 2 & 2 & 2 & 20 & 1.963834 & 1 & 0.7709280\\\\\n",
       "\t107 & 20300005 & 20300409 & 430.6977 & 26.19107 & 408.974 & 443.748 & 354.228 & 470.672 & 441.497 & 484.695 & ⋯ & 2 &  1 & 2 & 1 & 1 & 1 & 16 & 2.116940 & 1 & 1.0270269\\\\\n",
       "\t109 & 20300005 & 20306703 & 430.6977 & 26.19107 & 452.684 & 416.512 & 467.204 & 387.355 & 473.623 & 496.453 & ⋯ & 4 &  3 & 3 & 4 & 3 & 2 & 16 & 2.116940 & 1 & 0.9729728\\\\\n",
       "\t110 & 20300005 & 20306682 & 430.6977 & 26.19107 & 447.147 & 379.475 & 415.334 & 440.282 & 425.980 & 346.047 & ⋯ & 3 &  3 & 3 & 2 & 2 & 3 & 16 & 2.116940 & 1 & 1.0270269\\\\\n",
       "\t111 & 20300005 & 20301455 & 430.6977 & 26.19107 & 425.234 & 411.305 & 453.992 & 354.508 & 387.558 & 431.585 & ⋯ & 3 &  2 & 2 & 2 & 3 & 1 & 16 & 2.116940 & 1 & 1.0270269\\\\\n",
       "\t112 & 20300005 & 20304521 & 430.6977 & 26.19107 & 518.790 & 516.235 & 530.350 & 524.128 & 520.170 & 480.256 & ⋯ & 3 &  2 & 2 & 1 & 2 & 2 & 16 & 2.116940 & 1 & 0.9729728\\\\\n",
       "\t113 & 20300005 & 20305689 & 430.6977 & 26.19107 & 368.754 & 365.148 & 422.034 & 419.482 & 444.519 & 398.081 & ⋯ & 3 &  1 & 2 & 2 & 2 & 2 & 16 & 2.116940 & 1 & 1.0270269\\\\\n",
       "\t114 & 20300005 & 20302792 & 430.6977 & 26.19107 & 567.901 & 610.994 & 564.835 & 606.401 & 592.503 & 634.901 & ⋯ & 1 &  1 & 1 & 1 & 1 & 1 & 16 & 2.116940 & 1 & 1.0270269\\\\\n",
       "\t115 & 20300005 & 20305323 & 430.6977 & 26.19107 & 477.402 & 479.891 & 457.933 & 460.891 & 477.054 & 502.946 & ⋯ & 3 &  3 & 3 & 3 & 3 & 3 & 16 & 2.116940 & 1 & 1.0270269\\\\\n",
       "\t117 & 20300005 & 20304582 & 430.6977 & 26.19107 & 367.614 & 490.383 & 408.437 & 443.409 & 391.804 & 451.536 & ⋯ & 4 &  3 & 3 & 3 & 3 & 4 & 16 & 2.116940 & 1 & 0.9729728\\\\\n",
       "\t118 & 20300005 & 20304547 & 430.6977 & 26.19107 & 509.984 & 469.159 & 502.385 & 466.284 & 499.004 & 531.722 & ⋯ & 1 &  1 & 1 & 1 & 1 & 1 & 16 & 2.116940 & 1 & 1.0270269\\\\\n",
       "\t119 & 20300005 & 20304853 & 430.6977 & 26.19107 & 437.009 & 502.426 & 468.533 & 550.869 & 554.576 & 471.710 & ⋯ & 3 &  3 & 1 & 2 & 1 & 2 & 16 & 2.116940 & 1 & 0.9729728\\\\\n",
       "\t120 & 20300005 & 20305556 & 430.6977 & 26.19107 & 452.085 & 521.372 & 484.040 & 434.299 & 524.517 & 459.182 & ⋯ & 4 &  3 & 3 & 3 & 2 & 2 & 16 & 2.116940 & 1 & 0.9729728\\\\\n",
       "\t121 & 20300005 & 20304050 & 430.6977 & 26.19107 & 588.038 & 600.999 & 626.487 & 553.607 & 572.256 & 560.831 & ⋯ & 3 &  3 & 1 & 2 & 1 & 1 & 16 & 2.116940 & 1 & 0.9729728\\\\\n",
       "\t⋮ & ⋮ & ⋮ & ⋮ & ⋮ & ⋮ & ⋮ & ⋮ & ⋮ & ⋮ & ⋮ & ⋱ & ⋮ & ⋮ & ⋮ & ⋮ & ⋮ & ⋮ & ⋮ & ⋮ & ⋮ & ⋮\\\\\n",
       "\t6795 & 20300323 & 20306437 & 146.7041 & 13.33673 & 541.004 & 530.641 & 512.933 & 559.324 & 461.780 & 505.634 & ⋯ & 2 & 2 & 3 & 4 & 3 & 1 & 10 & 1.0779652 & 1 & 0.9090906\\\\\n",
       "\t6796 & 20300323 & 20303922 & 146.7041 & 13.33673 & 469.263 & 481.638 & 463.408 & 543.445 & 526.239 & 552.085 & ⋯ & 3 & 1 & 3 & 4 & 4 & 1 & 10 & 1.0779652 & 1 & 0.9090906\\\\\n",
       "\t6797 & 20300323 & 20305140 & 146.7041 & 13.33673 & 435.174 & 377.991 & 407.662 & 457.934 & 366.751 & 471.871 & ⋯ & 1 & 1 & 2 & 2 & 2 & 1 & 10 & 1.0779652 & 1 & 0.9090906\\\\\n",
       "\t6798 & 20300323 & 20305533 & 146.7041 & 13.33673 & 451.757 & 353.276 & 508.231 & 382.276 & 451.985 & 472.620 & ⋯ & 4 & 2 & 3 & 3 & 3 & 3 & 10 & 1.0779652 & 1 & 0.9090906\\\\\n",
       "\t6799 & 20300323 & 20307239 & 146.7041 & 13.33673 & 555.644 & 507.783 & 516.802 & 499.344 & 580.309 & 491.284 & ⋯ & 2 & 1 & 3 & 3 & 2 & 2 & 10 & 1.0779652 & 1 & 0.9090906\\\\\n",
       "\t6837 & 20300326 & 20300048 & 284.2761 &  9.97579 & 371.946 & 473.209 & 414.562 & 275.307 & 359.728 & 419.392 & ⋯ & 3 & 3 & 2 & 3 & 2 & 2 & 12 & 0.8063112 & 1 & 0.4490433\\\\\n",
       "\t6839 & 20300326 & 20304926 & 284.2761 &  9.97579 & 729.285 & 676.289 & 712.422 & 703.679 & 692.348 & 635.581 & ⋯ & 1 & 1 & 1 & 1 & 1 & 1 & 12 & 0.8063112 & 1 & 0.4815305\\\\\n",
       "\t6842 & 20300326 & 20302287 & 284.2761 &  9.97579 & 460.623 & 463.812 & 456.721 & 400.586 & 400.088 & 392.886 & ⋯ & 2 & 1 & 1 & 3 & 1 & 1 & 12 & 0.8063112 & 1 & 0.4490433\\\\\n",
       "\t6843 & 20300326 & 20300885 & 284.2761 &  9.97579 & 498.092 & 458.457 & 477.510 & 487.054 & 465.278 & 461.688 & ⋯ & 2 & 2 & 2 & 3 & 1 & 1 & 12 & 0.8063112 & 1 & 0.4490433\\\\\n",
       "\t6845 & 20300326 & 20302554 & 284.2761 &  9.97579 & 456.691 & 489.133 & 460.651 & 542.388 & 403.321 & 471.708 & ⋯ & 1 & 1 & 1 & 1 & 1 & 1 & 12 & 0.8063112 & 1 & 0.4490433\\\\\n",
       "\t6847 & 20300326 & 20303057 & 284.2761 &  9.97579 & 521.886 & 478.266 & 494.841 & 440.481 & 475.311 & 446.657 & ⋯ & 2 & 2 & 3 & 3 & 1 & 2 & 12 & 0.8063112 & 1 & 0.4490433\\\\\n",
       "\t6849 & 20300326 & 20301887 & 284.2761 &  9.97579 & 599.274 & 596.924 & 543.970 & 527.985 & 562.703 & 559.846 & ⋯ & 1 & 1 & 1 & 1 & 1 & 1 & 12 & 0.8063112 & 1 & 0.4815305\\\\\n",
       "\t6851 & 20300326 & 20302354 & 284.2761 &  9.97579 & 451.071 & 364.034 & 355.449 & 390.367 & 320.508 & 279.340 & ⋯ & 2 & 2 & 1 & 3 & 1 & 2 & 12 & 0.8063112 & 1 & 0.4490433\\\\\n",
       "\t6857 & 20300326 & 20305367 & 284.2761 &  9.97579 & 359.007 & 367.247 & 390.676 & 381.468 & 407.498 & 328.512 & ⋯ & 3 & 3 & 3 & 3 & 2 & 2 & 12 & 0.8063112 & 1 & 0.4815305\\\\\n",
       "\t6858 & 20300326 & 20300840 & 284.2761 &  9.97579 & 448.694 & 439.445 & 514.539 & 470.788 & 492.270 & 429.309 & ⋯ & 4 & 3 & 3 & 3 & 2 & 4 & 12 & 0.8063112 & 1 & 0.4815305\\\\\n",
       "\t6859 & 20300326 & 20305372 & 284.2761 &  9.97579 & 578.180 & 557.577 & 546.866 & 543.044 & 583.625 & 547.634 & ⋯ & 2 & 2 & 2 & 2 & 1 & 1 & 12 & 0.8063112 & 1 & 0.4490433\\\\\n",
       "\t6862 & 20300326 & 20307320 & 284.2761 &  9.97579 & 428.683 & 391.019 & 419.132 & 455.671 & 428.014 & 395.665 & ⋯ & 1 & 2 & 1 & 2 & 1 & 1 & 12 & 0.8063112 & 1 & 0.4490433\\\\\n",
       "\t6901 & 20300329 & 20305911 & 146.2729 & 13.34809 & 516.094 & 527.811 & 496.712 & 455.866 & 517.285 & 505.622 & ⋯ & 3 & 2 & 3 & 2 & 2 & 2 &  9 & 1.0788834 & 1 & 1.0494297\\\\\n",
       "\t6902 & 20300329 & 20307643 & 146.2729 & 13.34809 & 538.448 & 621.049 & 549.190 & 566.571 & 571.157 & 523.327 & ⋯ & 1 & 1 & 1 & 1 & 1 & 1 &  9 & 1.0788834 & 1 & 0.9752850\\\\\n",
       "\t6903 & 20300329 & 20307748 & 146.2729 & 13.34809 & 572.965 & 491.839 & 636.316 & 518.741 & 434.458 & 474.677 & ⋯ & 2 & 2 & 2 & 1 & 1 & 2 &  9 & 1.0788834 & 1 & 0.9752850\\\\\n",
       "\t6904 & 20300329 & 20306589 & 146.2729 & 13.34809 & 483.599 & 381.171 & 563.445 & 445.798 & 512.391 & 497.693 & ⋯ & 4 & 4 & 3 & 3 & 4 & 2 &  9 & 1.0788834 & 1 & 1.0494297\\\\\n",
       "\t6905 & 20300329 & 20300051 & 146.2729 & 13.34809 & 656.568 & 649.147 & 685.402 & 646.644 & 622.583 & 643.779 & ⋯ & 1 & 1 & 1 & 1 & 1 & 1 &  9 & 1.0788834 & 1 & 1.0494297\\\\\n",
       "\t6906 & 20300329 & 20303515 & 146.2729 & 13.34809 & 512.676 & 534.338 & 505.220 & 468.499 & 537.967 & 506.458 & ⋯ & 4 & 4 & 3 & 3 & 2 & 3 &  9 & 1.0788834 & 1 & 0.9752850\\\\\n",
       "\t6907 & 20300329 & 20306167 & 146.2729 & 13.34809 & 342.684 & 273.659 & 309.454 & 325.993 & 372.607 & 402.881 & ⋯ & 4 & 4 & 4 & 3 & 3 & 3 &  9 & 1.0788834 & 1 & 0.9752850\\\\\n",
       "\t6908 & 20300329 & 20300691 & 146.2729 & 13.34809 & 453.690 & 546.338 & 491.588 & 477.807 & 502.182 & 522.826 & ⋯ & 2 & 2 & 2 & 1 & 2 & 2 &  9 & 1.0788834 & 1 & 0.9752850\\\\\n",
       "\t6909 & 20300329 & 20301545 & 146.2729 & 13.34809 & 498.462 & 585.943 & 519.089 & 543.072 & 521.008 & 530.078 & ⋯ & 2 & 2 & 2 & 1 & 1 & 1 &  9 & 1.0788834 & 1 & 0.9752850\\\\\n",
       "\t6912 & 20300330 & 20306606 & 340.1036 & 25.19286 & 611.329 & 594.386 & 537.736 & 588.418 & 630.010 & 618.271 & ⋯ & 1 & 1 & 1 & 1 & 1 & 1 &  5 & 2.0362583 & 1 & 0.3888889\\\\\n",
       "\t6916 & 20300330 & 20305848 & 340.1036 & 25.19286 & 493.570 & 596.691 & 554.302 & 555.987 & 457.146 & 632.316 & ⋯ & 1 & 1 & 1 & 1 & 1 & 1 &  5 & 2.0362583 & 1 & 0.3703704\\\\\n",
       "\t6921 & 20300330 & 20306604 & 340.1036 & 25.19286 & 472.649 & 489.407 & 470.550 & 443.889 & 527.957 & 442.437 & ⋯ & 1 & 1 & 1 & 1 & 1 & 1 &  5 & 2.0362583 & 1 & 0.3703704\\\\\n",
       "\t6922 & 20300330 & 20300657 & 340.1036 & 25.19286 & 472.112 & 467.346 & 518.795 & 430.645 & 468.834 & 460.816 & ⋯ & 3 & 3 & 3 & 3 & 3 & 3 &  5 & 2.0362583 & 1 & 0.3703704\\\\\n",
       "\\end{tabular}\n"
      ],
      "text/markdown": [
       "\n",
       "A light.edsurvey.data.frame: 1881 × 131\n",
       "\n",
       "| <!--/--> | cntschid &lt;int&gt; | cntstuid &lt;int&gt; | w_fstuwt_sch_sum &lt;dbl&gt; | w_schgrnrabwt &lt;dbl&gt; | pv1math &lt;dbl&gt; | pv2math &lt;dbl&gt; | pv3math &lt;dbl&gt; | pv4math &lt;dbl&gt; | pv5math &lt;dbl&gt; | pv6math &lt;dbl&gt; | ⋯ ⋯ | gr_ceskyjazyk &lt;dbl&gt; | gr_cizijazyk &lt;dbl&gt; | gr_fyzika &lt;dbl&gt; | gr_chemie &lt;dbl&gt; | gr_prirodopis &lt;dbl&gt; | gr_zemepis &lt;dbl&gt; | n &lt;int&gt; | w_schwt_norm &lt;dbl&gt; | ones &lt;dbl&gt; | w_fstuwt_norm &lt;dbl&gt; |\n",
       "|---|---|---|---|---|---|---|---|---|---|---|---|---|---|---|---|---|---|---|---|---|---|\n",
       "| 36 | 20300002 | 20307546 | 680.7528 | 24.29682 | 528.088 | 602.703 | 579.379 | 560.838 | 554.008 | 527.534 | ⋯ | 1 |  2 | 1 | 1 | 1 | 1 | 20 | 1.963834 | 1 | 0.7709280 |\n",
       "| 37 | 20300002 | 20301154 | 680.7528 | 24.29682 | 527.499 | 515.207 | 529.720 | 449.174 | 486.160 | 564.528 | ⋯ | 1 |  1 | 2 | 2 | 2 | 1 | 20 | 1.963834 | 1 | 0.8436081 |\n",
       "| 38 | 20300002 | 20306751 | 680.7528 | 24.29682 | 518.657 | 503.951 | 542.977 | 507.236 | 552.238 | 499.343 | ⋯ | 1 |  1 | 1 | 1 | 1 | 1 | 20 | 1.963834 | 1 | 0.7709280 |\n",
       "| 39 | 20300002 | 20306750 | 680.7528 | 24.29682 | 480.852 | 566.543 | 469.897 | 521.546 | 464.686 | 569.811 | ⋯ | 5 |  1 | 2 | 4 | 4 | 1 | 20 | 1.963834 | 1 | 0.7709280 |\n",
       "| 40 | 20300002 | 20304210 | 680.7528 | 24.29682 | 356.695 | 391.486 | 407.770 | 324.412 | 347.838 | 413.606 | ⋯ | 4 |  4 | 4 | 4 | 4 | 2 | 20 | 1.963834 | 1 | 0.7709280 |\n",
       "| 42 | 20300002 | 20304325 | 680.7528 | 24.29682 | 323.134 | 408.466 | 373.614 | 403.918 | 328.141 | 366.868 | ⋯ | 4 |  3 | 4 | 5 | 4 | 3 | 20 | 1.963834 | 1 | 0.8436081 |\n",
       "| 43 | 20300002 | 20301624 | 680.7528 | 24.29682 | 320.861 | 330.534 | 364.795 | 435.075 | 382.970 | 408.828 | ⋯ | 4 |  4 | 4 | 5 | 3 | 2 | 20 | 1.963834 | 1 | 0.7709280 |\n",
       "| 44 | 20300002 | 20300029 | 680.7528 | 24.29682 | 441.738 | 321.561 | 403.152 | 463.515 | 437.194 | 370.671 | ⋯ | 2 | NA | 2 | 2 | 2 | 1 | 20 | 1.963834 | 1 | 0.7709280 |\n",
       "| 45 | 20300002 | 20305517 | 680.7528 | 24.29682 | 395.750 | 443.252 | 443.987 | 455.610 | 443.194 | 445.008 | ⋯ | 4 |  3 | 4 | 4 | 3 | 3 | 20 | 1.963834 | 1 | 0.8436081 |\n",
       "| 48 | 20300002 | 20307274 | 680.7528 | 24.29682 | 423.909 | 502.231 | 433.365 | 464.155 | 441.623 | 531.185 | ⋯ | 2 |  2 | 3 | 3 | 3 | 1 | 20 | 1.963834 | 1 | 0.8436081 |\n",
       "| 49 | 20300002 | 20301012 | 680.7528 | 24.29682 | 506.421 | 544.268 | 529.403 | 554.132 | 560.064 | 531.830 | ⋯ | 4 |  3 | 4 | 5 | 3 | 3 | 20 | 1.963834 | 1 | 0.8436081 |\n",
       "| 50 | 20300002 | 20306363 | 680.7528 | 24.29682 | 472.081 | 474.995 | 439.024 | 471.867 | 496.175 | 487.164 | ⋯ | 3 |  3 | 3 | 4 | 3 | 2 | 20 | 1.963834 | 1 | 0.8436081 |\n",
       "| 51 | 20300002 | 20307698 | 680.7528 | 24.29682 | 448.326 | 467.449 | 461.996 | 482.813 | 474.960 | 449.667 | ⋯ | 2 |  2 | 3 | 4 | 4 | 3 | 20 | 1.963834 | 1 | 0.7709280 |\n",
       "| 52 | 20300002 | 20300521 | 680.7528 | 24.29682 | 450.704 | 505.256 | 482.443 | 524.667 | 523.310 | 488.492 | ⋯ | 1 |  1 | 1 | 1 | 1 | 1 | 20 | 1.963834 | 1 | 0.8436081 |\n",
       "| 53 | 20300002 | 20304307 | 680.7528 | 24.29682 | 484.924 | 455.489 | 368.334 | 422.220 | 426.966 | 419.310 | ⋯ | 3 |  2 | 3 | 3 | 2 | 1 | 20 | 1.963834 | 1 | 0.8436081 |\n",
       "| 56 | 20300002 | 20301159 | 680.7528 | 24.29682 | 415.832 | 415.735 | 446.192 | 469.982 | 469.005 | 480.107 | ⋯ | 3 |  2 | 3 | 4 | 4 | 1 | 20 | 1.963834 | 1 | 0.8436081 |\n",
       "| 57 | 20300002 | 20304622 | 680.7528 | 24.29682 | 415.054 | 448.371 | 474.116 | 464.793 | 452.333 | 497.501 | ⋯ | 2 |  1 | 3 | 2 | 2 | 2 | 20 | 1.963834 | 1 | 0.7709280 |\n",
       "| 107 | 20300005 | 20300409 | 430.6977 | 26.19107 | 408.974 | 443.748 | 354.228 | 470.672 | 441.497 | 484.695 | ⋯ | 2 |  1 | 2 | 1 | 1 | 1 | 16 | 2.116940 | 1 | 1.0270269 |\n",
       "| 109 | 20300005 | 20306703 | 430.6977 | 26.19107 | 452.684 | 416.512 | 467.204 | 387.355 | 473.623 | 496.453 | ⋯ | 4 |  3 | 3 | 4 | 3 | 2 | 16 | 2.116940 | 1 | 0.9729728 |\n",
       "| 110 | 20300005 | 20306682 | 430.6977 | 26.19107 | 447.147 | 379.475 | 415.334 | 440.282 | 425.980 | 346.047 | ⋯ | 3 |  3 | 3 | 2 | 2 | 3 | 16 | 2.116940 | 1 | 1.0270269 |\n",
       "| 111 | 20300005 | 20301455 | 430.6977 | 26.19107 | 425.234 | 411.305 | 453.992 | 354.508 | 387.558 | 431.585 | ⋯ | 3 |  2 | 2 | 2 | 3 | 1 | 16 | 2.116940 | 1 | 1.0270269 |\n",
       "| 112 | 20300005 | 20304521 | 430.6977 | 26.19107 | 518.790 | 516.235 | 530.350 | 524.128 | 520.170 | 480.256 | ⋯ | 3 |  2 | 2 | 1 | 2 | 2 | 16 | 2.116940 | 1 | 0.9729728 |\n",
       "| 113 | 20300005 | 20305689 | 430.6977 | 26.19107 | 368.754 | 365.148 | 422.034 | 419.482 | 444.519 | 398.081 | ⋯ | 3 |  1 | 2 | 2 | 2 | 2 | 16 | 2.116940 | 1 | 1.0270269 |\n",
       "| 114 | 20300005 | 20302792 | 430.6977 | 26.19107 | 567.901 | 610.994 | 564.835 | 606.401 | 592.503 | 634.901 | ⋯ | 1 |  1 | 1 | 1 | 1 | 1 | 16 | 2.116940 | 1 | 1.0270269 |\n",
       "| 115 | 20300005 | 20305323 | 430.6977 | 26.19107 | 477.402 | 479.891 | 457.933 | 460.891 | 477.054 | 502.946 | ⋯ | 3 |  3 | 3 | 3 | 3 | 3 | 16 | 2.116940 | 1 | 1.0270269 |\n",
       "| 117 | 20300005 | 20304582 | 430.6977 | 26.19107 | 367.614 | 490.383 | 408.437 | 443.409 | 391.804 | 451.536 | ⋯ | 4 |  3 | 3 | 3 | 3 | 4 | 16 | 2.116940 | 1 | 0.9729728 |\n",
       "| 118 | 20300005 | 20304547 | 430.6977 | 26.19107 | 509.984 | 469.159 | 502.385 | 466.284 | 499.004 | 531.722 | ⋯ | 1 |  1 | 1 | 1 | 1 | 1 | 16 | 2.116940 | 1 | 1.0270269 |\n",
       "| 119 | 20300005 | 20304853 | 430.6977 | 26.19107 | 437.009 | 502.426 | 468.533 | 550.869 | 554.576 | 471.710 | ⋯ | 3 |  3 | 1 | 2 | 1 | 2 | 16 | 2.116940 | 1 | 0.9729728 |\n",
       "| 120 | 20300005 | 20305556 | 430.6977 | 26.19107 | 452.085 | 521.372 | 484.040 | 434.299 | 524.517 | 459.182 | ⋯ | 4 |  3 | 3 | 3 | 2 | 2 | 16 | 2.116940 | 1 | 0.9729728 |\n",
       "| 121 | 20300005 | 20304050 | 430.6977 | 26.19107 | 588.038 | 600.999 | 626.487 | 553.607 | 572.256 | 560.831 | ⋯ | 3 |  3 | 1 | 2 | 1 | 1 | 16 | 2.116940 | 1 | 0.9729728 |\n",
       "| ⋮ | ⋮ | ⋮ | ⋮ | ⋮ | ⋮ | ⋮ | ⋮ | ⋮ | ⋮ | ⋮ | ⋱ | ⋮ | ⋮ | ⋮ | ⋮ | ⋮ | ⋮ | ⋮ | ⋮ | ⋮ | ⋮ |\n",
       "| 6795 | 20300323 | 20306437 | 146.7041 | 13.33673 | 541.004 | 530.641 | 512.933 | 559.324 | 461.780 | 505.634 | ⋯ | 2 | 2 | 3 | 4 | 3 | 1 | 10 | 1.0779652 | 1 | 0.9090906 |\n",
       "| 6796 | 20300323 | 20303922 | 146.7041 | 13.33673 | 469.263 | 481.638 | 463.408 | 543.445 | 526.239 | 552.085 | ⋯ | 3 | 1 | 3 | 4 | 4 | 1 | 10 | 1.0779652 | 1 | 0.9090906 |\n",
       "| 6797 | 20300323 | 20305140 | 146.7041 | 13.33673 | 435.174 | 377.991 | 407.662 | 457.934 | 366.751 | 471.871 | ⋯ | 1 | 1 | 2 | 2 | 2 | 1 | 10 | 1.0779652 | 1 | 0.9090906 |\n",
       "| 6798 | 20300323 | 20305533 | 146.7041 | 13.33673 | 451.757 | 353.276 | 508.231 | 382.276 | 451.985 | 472.620 | ⋯ | 4 | 2 | 3 | 3 | 3 | 3 | 10 | 1.0779652 | 1 | 0.9090906 |\n",
       "| 6799 | 20300323 | 20307239 | 146.7041 | 13.33673 | 555.644 | 507.783 | 516.802 | 499.344 | 580.309 | 491.284 | ⋯ | 2 | 1 | 3 | 3 | 2 | 2 | 10 | 1.0779652 | 1 | 0.9090906 |\n",
       "| 6837 | 20300326 | 20300048 | 284.2761 |  9.97579 | 371.946 | 473.209 | 414.562 | 275.307 | 359.728 | 419.392 | ⋯ | 3 | 3 | 2 | 3 | 2 | 2 | 12 | 0.8063112 | 1 | 0.4490433 |\n",
       "| 6839 | 20300326 | 20304926 | 284.2761 |  9.97579 | 729.285 | 676.289 | 712.422 | 703.679 | 692.348 | 635.581 | ⋯ | 1 | 1 | 1 | 1 | 1 | 1 | 12 | 0.8063112 | 1 | 0.4815305 |\n",
       "| 6842 | 20300326 | 20302287 | 284.2761 |  9.97579 | 460.623 | 463.812 | 456.721 | 400.586 | 400.088 | 392.886 | ⋯ | 2 | 1 | 1 | 3 | 1 | 1 | 12 | 0.8063112 | 1 | 0.4490433 |\n",
       "| 6843 | 20300326 | 20300885 | 284.2761 |  9.97579 | 498.092 | 458.457 | 477.510 | 487.054 | 465.278 | 461.688 | ⋯ | 2 | 2 | 2 | 3 | 1 | 1 | 12 | 0.8063112 | 1 | 0.4490433 |\n",
       "| 6845 | 20300326 | 20302554 | 284.2761 |  9.97579 | 456.691 | 489.133 | 460.651 | 542.388 | 403.321 | 471.708 | ⋯ | 1 | 1 | 1 | 1 | 1 | 1 | 12 | 0.8063112 | 1 | 0.4490433 |\n",
       "| 6847 | 20300326 | 20303057 | 284.2761 |  9.97579 | 521.886 | 478.266 | 494.841 | 440.481 | 475.311 | 446.657 | ⋯ | 2 | 2 | 3 | 3 | 1 | 2 | 12 | 0.8063112 | 1 | 0.4490433 |\n",
       "| 6849 | 20300326 | 20301887 | 284.2761 |  9.97579 | 599.274 | 596.924 | 543.970 | 527.985 | 562.703 | 559.846 | ⋯ | 1 | 1 | 1 | 1 | 1 | 1 | 12 | 0.8063112 | 1 | 0.4815305 |\n",
       "| 6851 | 20300326 | 20302354 | 284.2761 |  9.97579 | 451.071 | 364.034 | 355.449 | 390.367 | 320.508 | 279.340 | ⋯ | 2 | 2 | 1 | 3 | 1 | 2 | 12 | 0.8063112 | 1 | 0.4490433 |\n",
       "| 6857 | 20300326 | 20305367 | 284.2761 |  9.97579 | 359.007 | 367.247 | 390.676 | 381.468 | 407.498 | 328.512 | ⋯ | 3 | 3 | 3 | 3 | 2 | 2 | 12 | 0.8063112 | 1 | 0.4815305 |\n",
       "| 6858 | 20300326 | 20300840 | 284.2761 |  9.97579 | 448.694 | 439.445 | 514.539 | 470.788 | 492.270 | 429.309 | ⋯ | 4 | 3 | 3 | 3 | 2 | 4 | 12 | 0.8063112 | 1 | 0.4815305 |\n",
       "| 6859 | 20300326 | 20305372 | 284.2761 |  9.97579 | 578.180 | 557.577 | 546.866 | 543.044 | 583.625 | 547.634 | ⋯ | 2 | 2 | 2 | 2 | 1 | 1 | 12 | 0.8063112 | 1 | 0.4490433 |\n",
       "| 6862 | 20300326 | 20307320 | 284.2761 |  9.97579 | 428.683 | 391.019 | 419.132 | 455.671 | 428.014 | 395.665 | ⋯ | 1 | 2 | 1 | 2 | 1 | 1 | 12 | 0.8063112 | 1 | 0.4490433 |\n",
       "| 6901 | 20300329 | 20305911 | 146.2729 | 13.34809 | 516.094 | 527.811 | 496.712 | 455.866 | 517.285 | 505.622 | ⋯ | 3 | 2 | 3 | 2 | 2 | 2 |  9 | 1.0788834 | 1 | 1.0494297 |\n",
       "| 6902 | 20300329 | 20307643 | 146.2729 | 13.34809 | 538.448 | 621.049 | 549.190 | 566.571 | 571.157 | 523.327 | ⋯ | 1 | 1 | 1 | 1 | 1 | 1 |  9 | 1.0788834 | 1 | 0.9752850 |\n",
       "| 6903 | 20300329 | 20307748 | 146.2729 | 13.34809 | 572.965 | 491.839 | 636.316 | 518.741 | 434.458 | 474.677 | ⋯ | 2 | 2 | 2 | 1 | 1 | 2 |  9 | 1.0788834 | 1 | 0.9752850 |\n",
       "| 6904 | 20300329 | 20306589 | 146.2729 | 13.34809 | 483.599 | 381.171 | 563.445 | 445.798 | 512.391 | 497.693 | ⋯ | 4 | 4 | 3 | 3 | 4 | 2 |  9 | 1.0788834 | 1 | 1.0494297 |\n",
       "| 6905 | 20300329 | 20300051 | 146.2729 | 13.34809 | 656.568 | 649.147 | 685.402 | 646.644 | 622.583 | 643.779 | ⋯ | 1 | 1 | 1 | 1 | 1 | 1 |  9 | 1.0788834 | 1 | 1.0494297 |\n",
       "| 6906 | 20300329 | 20303515 | 146.2729 | 13.34809 | 512.676 | 534.338 | 505.220 | 468.499 | 537.967 | 506.458 | ⋯ | 4 | 4 | 3 | 3 | 2 | 3 |  9 | 1.0788834 | 1 | 0.9752850 |\n",
       "| 6907 | 20300329 | 20306167 | 146.2729 | 13.34809 | 342.684 | 273.659 | 309.454 | 325.993 | 372.607 | 402.881 | ⋯ | 4 | 4 | 4 | 3 | 3 | 3 |  9 | 1.0788834 | 1 | 0.9752850 |\n",
       "| 6908 | 20300329 | 20300691 | 146.2729 | 13.34809 | 453.690 | 546.338 | 491.588 | 477.807 | 502.182 | 522.826 | ⋯ | 2 | 2 | 2 | 1 | 2 | 2 |  9 | 1.0788834 | 1 | 0.9752850 |\n",
       "| 6909 | 20300329 | 20301545 | 146.2729 | 13.34809 | 498.462 | 585.943 | 519.089 | 543.072 | 521.008 | 530.078 | ⋯ | 2 | 2 | 2 | 1 | 1 | 1 |  9 | 1.0788834 | 1 | 0.9752850 |\n",
       "| 6912 | 20300330 | 20306606 | 340.1036 | 25.19286 | 611.329 | 594.386 | 537.736 | 588.418 | 630.010 | 618.271 | ⋯ | 1 | 1 | 1 | 1 | 1 | 1 |  5 | 2.0362583 | 1 | 0.3888889 |\n",
       "| 6916 | 20300330 | 20305848 | 340.1036 | 25.19286 | 493.570 | 596.691 | 554.302 | 555.987 | 457.146 | 632.316 | ⋯ | 1 | 1 | 1 | 1 | 1 | 1 |  5 | 2.0362583 | 1 | 0.3703704 |\n",
       "| 6921 | 20300330 | 20306604 | 340.1036 | 25.19286 | 472.649 | 489.407 | 470.550 | 443.889 | 527.957 | 442.437 | ⋯ | 1 | 1 | 1 | 1 | 1 | 1 |  5 | 2.0362583 | 1 | 0.3703704 |\n",
       "| 6922 | 20300330 | 20300657 | 340.1036 | 25.19286 | 472.112 | 467.346 | 518.795 | 430.645 | 468.834 | 460.816 | ⋯ | 3 | 3 | 3 | 3 | 3 | 3 |  5 | 2.0362583 | 1 | 0.3703704 |\n",
       "\n"
      ],
      "text/plain": [
       "     cntschid cntstuid w_fstuwt_sch_sum w_schgrnrabwt pv1math pv2math pv3math\n",
       "36   20300002 20307546 680.7528         24.29682      528.088 602.703 579.379\n",
       "37   20300002 20301154 680.7528         24.29682      527.499 515.207 529.720\n",
       "38   20300002 20306751 680.7528         24.29682      518.657 503.951 542.977\n",
       "39   20300002 20306750 680.7528         24.29682      480.852 566.543 469.897\n",
       "40   20300002 20304210 680.7528         24.29682      356.695 391.486 407.770\n",
       "42   20300002 20304325 680.7528         24.29682      323.134 408.466 373.614\n",
       "43   20300002 20301624 680.7528         24.29682      320.861 330.534 364.795\n",
       "44   20300002 20300029 680.7528         24.29682      441.738 321.561 403.152\n",
       "45   20300002 20305517 680.7528         24.29682      395.750 443.252 443.987\n",
       "48   20300002 20307274 680.7528         24.29682      423.909 502.231 433.365\n",
       "49   20300002 20301012 680.7528         24.29682      506.421 544.268 529.403\n",
       "50   20300002 20306363 680.7528         24.29682      472.081 474.995 439.024\n",
       "51   20300002 20307698 680.7528         24.29682      448.326 467.449 461.996\n",
       "52   20300002 20300521 680.7528         24.29682      450.704 505.256 482.443\n",
       "53   20300002 20304307 680.7528         24.29682      484.924 455.489 368.334\n",
       "56   20300002 20301159 680.7528         24.29682      415.832 415.735 446.192\n",
       "57   20300002 20304622 680.7528         24.29682      415.054 448.371 474.116\n",
       "107  20300005 20300409 430.6977         26.19107      408.974 443.748 354.228\n",
       "109  20300005 20306703 430.6977         26.19107      452.684 416.512 467.204\n",
       "110  20300005 20306682 430.6977         26.19107      447.147 379.475 415.334\n",
       "111  20300005 20301455 430.6977         26.19107      425.234 411.305 453.992\n",
       "112  20300005 20304521 430.6977         26.19107      518.790 516.235 530.350\n",
       "113  20300005 20305689 430.6977         26.19107      368.754 365.148 422.034\n",
       "114  20300005 20302792 430.6977         26.19107      567.901 610.994 564.835\n",
       "115  20300005 20305323 430.6977         26.19107      477.402 479.891 457.933\n",
       "117  20300005 20304582 430.6977         26.19107      367.614 490.383 408.437\n",
       "118  20300005 20304547 430.6977         26.19107      509.984 469.159 502.385\n",
       "119  20300005 20304853 430.6977         26.19107      437.009 502.426 468.533\n",
       "120  20300005 20305556 430.6977         26.19107      452.085 521.372 484.040\n",
       "121  20300005 20304050 430.6977         26.19107      588.038 600.999 626.487\n",
       "⋮    ⋮        ⋮        ⋮                ⋮             ⋮       ⋮       ⋮      \n",
       "6795 20300323 20306437 146.7041         13.33673      541.004 530.641 512.933\n",
       "6796 20300323 20303922 146.7041         13.33673      469.263 481.638 463.408\n",
       "6797 20300323 20305140 146.7041         13.33673      435.174 377.991 407.662\n",
       "6798 20300323 20305533 146.7041         13.33673      451.757 353.276 508.231\n",
       "6799 20300323 20307239 146.7041         13.33673      555.644 507.783 516.802\n",
       "6837 20300326 20300048 284.2761          9.97579      371.946 473.209 414.562\n",
       "6839 20300326 20304926 284.2761          9.97579      729.285 676.289 712.422\n",
       "6842 20300326 20302287 284.2761          9.97579      460.623 463.812 456.721\n",
       "6843 20300326 20300885 284.2761          9.97579      498.092 458.457 477.510\n",
       "6845 20300326 20302554 284.2761          9.97579      456.691 489.133 460.651\n",
       "6847 20300326 20303057 284.2761          9.97579      521.886 478.266 494.841\n",
       "6849 20300326 20301887 284.2761          9.97579      599.274 596.924 543.970\n",
       "6851 20300326 20302354 284.2761          9.97579      451.071 364.034 355.449\n",
       "6857 20300326 20305367 284.2761          9.97579      359.007 367.247 390.676\n",
       "6858 20300326 20300840 284.2761          9.97579      448.694 439.445 514.539\n",
       "6859 20300326 20305372 284.2761          9.97579      578.180 557.577 546.866\n",
       "6862 20300326 20307320 284.2761          9.97579      428.683 391.019 419.132\n",
       "6901 20300329 20305911 146.2729         13.34809      516.094 527.811 496.712\n",
       "6902 20300329 20307643 146.2729         13.34809      538.448 621.049 549.190\n",
       "6903 20300329 20307748 146.2729         13.34809      572.965 491.839 636.316\n",
       "6904 20300329 20306589 146.2729         13.34809      483.599 381.171 563.445\n",
       "6905 20300329 20300051 146.2729         13.34809      656.568 649.147 685.402\n",
       "6906 20300329 20303515 146.2729         13.34809      512.676 534.338 505.220\n",
       "6907 20300329 20306167 146.2729         13.34809      342.684 273.659 309.454\n",
       "6908 20300329 20300691 146.2729         13.34809      453.690 546.338 491.588\n",
       "6909 20300329 20301545 146.2729         13.34809      498.462 585.943 519.089\n",
       "6912 20300330 20306606 340.1036         25.19286      611.329 594.386 537.736\n",
       "6916 20300330 20305848 340.1036         25.19286      493.570 596.691 554.302\n",
       "6921 20300330 20306604 340.1036         25.19286      472.649 489.407 470.550\n",
       "6922 20300330 20300657 340.1036         25.19286      472.112 467.346 518.795\n",
       "     pv4math pv5math pv6math ⋯ gr_ceskyjazyk gr_cizijazyk gr_fyzika gr_chemie\n",
       "36   560.838 554.008 527.534 ⋯ 1              2           1         1        \n",
       "37   449.174 486.160 564.528 ⋯ 1              1           2         2        \n",
       "38   507.236 552.238 499.343 ⋯ 1              1           1         1        \n",
       "39   521.546 464.686 569.811 ⋯ 5              1           2         4        \n",
       "40   324.412 347.838 413.606 ⋯ 4              4           4         4        \n",
       "42   403.918 328.141 366.868 ⋯ 4              3           4         5        \n",
       "43   435.075 382.970 408.828 ⋯ 4              4           4         5        \n",
       "44   463.515 437.194 370.671 ⋯ 2             NA           2         2        \n",
       "45   455.610 443.194 445.008 ⋯ 4              3           4         4        \n",
       "48   464.155 441.623 531.185 ⋯ 2              2           3         3        \n",
       "49   554.132 560.064 531.830 ⋯ 4              3           4         5        \n",
       "50   471.867 496.175 487.164 ⋯ 3              3           3         4        \n",
       "51   482.813 474.960 449.667 ⋯ 2              2           3         4        \n",
       "52   524.667 523.310 488.492 ⋯ 1              1           1         1        \n",
       "53   422.220 426.966 419.310 ⋯ 3              2           3         3        \n",
       "56   469.982 469.005 480.107 ⋯ 3              2           3         4        \n",
       "57   464.793 452.333 497.501 ⋯ 2              1           3         2        \n",
       "107  470.672 441.497 484.695 ⋯ 2              1           2         1        \n",
       "109  387.355 473.623 496.453 ⋯ 4              3           3         4        \n",
       "110  440.282 425.980 346.047 ⋯ 3              3           3         2        \n",
       "111  354.508 387.558 431.585 ⋯ 3              2           2         2        \n",
       "112  524.128 520.170 480.256 ⋯ 3              2           2         1        \n",
       "113  419.482 444.519 398.081 ⋯ 3              1           2         2        \n",
       "114  606.401 592.503 634.901 ⋯ 1              1           1         1        \n",
       "115  460.891 477.054 502.946 ⋯ 3              3           3         3        \n",
       "117  443.409 391.804 451.536 ⋯ 4              3           3         3        \n",
       "118  466.284 499.004 531.722 ⋯ 1              1           1         1        \n",
       "119  550.869 554.576 471.710 ⋯ 3              3           1         2        \n",
       "120  434.299 524.517 459.182 ⋯ 4              3           3         3        \n",
       "121  553.607 572.256 560.831 ⋯ 3              3           1         2        \n",
       "⋮    ⋮       ⋮       ⋮       ⋱ ⋮             ⋮            ⋮         ⋮        \n",
       "6795 559.324 461.780 505.634 ⋯ 2             2            3         4        \n",
       "6796 543.445 526.239 552.085 ⋯ 3             1            3         4        \n",
       "6797 457.934 366.751 471.871 ⋯ 1             1            2         2        \n",
       "6798 382.276 451.985 472.620 ⋯ 4             2            3         3        \n",
       "6799 499.344 580.309 491.284 ⋯ 2             1            3         3        \n",
       "6837 275.307 359.728 419.392 ⋯ 3             3            2         3        \n",
       "6839 703.679 692.348 635.581 ⋯ 1             1            1         1        \n",
       "6842 400.586 400.088 392.886 ⋯ 2             1            1         3        \n",
       "6843 487.054 465.278 461.688 ⋯ 2             2            2         3        \n",
       "6845 542.388 403.321 471.708 ⋯ 1             1            1         1        \n",
       "6847 440.481 475.311 446.657 ⋯ 2             2            3         3        \n",
       "6849 527.985 562.703 559.846 ⋯ 1             1            1         1        \n",
       "6851 390.367 320.508 279.340 ⋯ 2             2            1         3        \n",
       "6857 381.468 407.498 328.512 ⋯ 3             3            3         3        \n",
       "6858 470.788 492.270 429.309 ⋯ 4             3            3         3        \n",
       "6859 543.044 583.625 547.634 ⋯ 2             2            2         2        \n",
       "6862 455.671 428.014 395.665 ⋯ 1             2            1         2        \n",
       "6901 455.866 517.285 505.622 ⋯ 3             2            3         2        \n",
       "6902 566.571 571.157 523.327 ⋯ 1             1            1         1        \n",
       "6903 518.741 434.458 474.677 ⋯ 2             2            2         1        \n",
       "6904 445.798 512.391 497.693 ⋯ 4             4            3         3        \n",
       "6905 646.644 622.583 643.779 ⋯ 1             1            1         1        \n",
       "6906 468.499 537.967 506.458 ⋯ 4             4            3         3        \n",
       "6907 325.993 372.607 402.881 ⋯ 4             4            4         3        \n",
       "6908 477.807 502.182 522.826 ⋯ 2             2            2         1        \n",
       "6909 543.072 521.008 530.078 ⋯ 2             2            2         1        \n",
       "6912 588.418 630.010 618.271 ⋯ 1             1            1         1        \n",
       "6916 555.987 457.146 632.316 ⋯ 1             1            1         1        \n",
       "6921 443.889 527.957 442.437 ⋯ 1             1            1         1        \n",
       "6922 430.645 468.834 460.816 ⋯ 3             3            3         3        \n",
       "     gr_prirodopis gr_zemepis n  w_schwt_norm ones w_fstuwt_norm\n",
       "36   1             1          20 1.963834     1    0.7709280    \n",
       "37   2             1          20 1.963834     1    0.8436081    \n",
       "38   1             1          20 1.963834     1    0.7709280    \n",
       "39   4             1          20 1.963834     1    0.7709280    \n",
       "40   4             2          20 1.963834     1    0.7709280    \n",
       "42   4             3          20 1.963834     1    0.8436081    \n",
       "43   3             2          20 1.963834     1    0.7709280    \n",
       "44   2             1          20 1.963834     1    0.7709280    \n",
       "45   3             3          20 1.963834     1    0.8436081    \n",
       "48   3             1          20 1.963834     1    0.8436081    \n",
       "49   3             3          20 1.963834     1    0.8436081    \n",
       "50   3             2          20 1.963834     1    0.8436081    \n",
       "51   4             3          20 1.963834     1    0.7709280    \n",
       "52   1             1          20 1.963834     1    0.8436081    \n",
       "53   2             1          20 1.963834     1    0.8436081    \n",
       "56   4             1          20 1.963834     1    0.8436081    \n",
       "57   2             2          20 1.963834     1    0.7709280    \n",
       "107  1             1          16 2.116940     1    1.0270269    \n",
       "109  3             2          16 2.116940     1    0.9729728    \n",
       "110  2             3          16 2.116940     1    1.0270269    \n",
       "111  3             1          16 2.116940     1    1.0270269    \n",
       "112  2             2          16 2.116940     1    0.9729728    \n",
       "113  2             2          16 2.116940     1    1.0270269    \n",
       "114  1             1          16 2.116940     1    1.0270269    \n",
       "115  3             3          16 2.116940     1    1.0270269    \n",
       "117  3             4          16 2.116940     1    0.9729728    \n",
       "118  1             1          16 2.116940     1    1.0270269    \n",
       "119  1             2          16 2.116940     1    0.9729728    \n",
       "120  2             2          16 2.116940     1    0.9729728    \n",
       "121  1             1          16 2.116940     1    0.9729728    \n",
       "⋮    ⋮             ⋮          ⋮  ⋮            ⋮    ⋮            \n",
       "6795 3             1          10 1.0779652    1    0.9090906    \n",
       "6796 4             1          10 1.0779652    1    0.9090906    \n",
       "6797 2             1          10 1.0779652    1    0.9090906    \n",
       "6798 3             3          10 1.0779652    1    0.9090906    \n",
       "6799 2             2          10 1.0779652    1    0.9090906    \n",
       "6837 2             2          12 0.8063112    1    0.4490433    \n",
       "6839 1             1          12 0.8063112    1    0.4815305    \n",
       "6842 1             1          12 0.8063112    1    0.4490433    \n",
       "6843 1             1          12 0.8063112    1    0.4490433    \n",
       "6845 1             1          12 0.8063112    1    0.4490433    \n",
       "6847 1             2          12 0.8063112    1    0.4490433    \n",
       "6849 1             1          12 0.8063112    1    0.4815305    \n",
       "6851 1             2          12 0.8063112    1    0.4490433    \n",
       "6857 2             2          12 0.8063112    1    0.4815305    \n",
       "6858 2             4          12 0.8063112    1    0.4815305    \n",
       "6859 1             1          12 0.8063112    1    0.4490433    \n",
       "6862 1             1          12 0.8063112    1    0.4490433    \n",
       "6901 2             2           9 1.0788834    1    1.0494297    \n",
       "6902 1             1           9 1.0788834    1    0.9752850    \n",
       "6903 1             2           9 1.0788834    1    0.9752850    \n",
       "6904 4             2           9 1.0788834    1    1.0494297    \n",
       "6905 1             1           9 1.0788834    1    1.0494297    \n",
       "6906 2             3           9 1.0788834    1    0.9752850    \n",
       "6907 3             3           9 1.0788834    1    0.9752850    \n",
       "6908 2             2           9 1.0788834    1    0.9752850    \n",
       "6909 1             1           9 1.0788834    1    0.9752850    \n",
       "6912 1             1           5 2.0362583    1    0.3888889    \n",
       "6916 1             1           5 2.0362583    1    0.3703704    \n",
       "6921 1             1           5 2.0362583    1    0.3703704    \n",
       "6922 3             3           5 2.0362583    1    0.3703704    "
      ]
     },
     "metadata": {},
     "output_type": "display_data"
    }
   ],
   "source": [
    "cze3"
   ]
  },
  {
   "cell_type": "markdown",
   "id": "d3cead9e-e024-4c64-be6c-d47a8a4a9e88",
   "metadata": {},
   "source": [
    "## LMERTest"
   ]
  },
  {
   "cell_type": "code",
   "execution_count": 85,
   "id": "5a0e81ff-e367-4a58-9748-d7111d0df9ea",
   "metadata": {},
   "outputs": [],
   "source": [
    "df18 <- read.csv('temp/df18.csv')"
   ]
  },
  {
   "cell_type": "code",
   "execution_count": 121,
   "id": "01bf561d-7f5e-4e0a-af12-ce43dbefc79c",
   "metadata": {},
   "outputs": [
    {
     "ename": "ERROR",
     "evalue": "Error in head(df18): object 'df18' not found\n",
     "output_type": "error",
     "traceback": [
      "Error in head(df18): object 'df18' not found\nTraceback:\n",
      "1. head(df18)"
     ]
    }
   ],
   "source": [
    "head(df18)"
   ]
  },
  {
   "cell_type": "code",
   "execution_count": 87,
   "id": "4edfa62a-5629-47a7-9e5d-a401dfee2f6f",
   "metadata": {
    "collapsed": true,
    "jupyter": {
     "outputs_hidden": true
    },
    "tags": []
   },
   "outputs": [
    {
     "name": "stderr",
     "output_type": "stream",
     "text": [
      "Loading required package: lme4\n",
      "\n",
      "Loading required package: Matrix\n",
      "\n",
      "\n",
      "Attaching package: ‘lme4’\n",
      "\n",
      "\n",
      "The following object is masked from ‘package:EdSurvey’:\n",
      "\n",
      "    getData\n",
      "\n",
      "\n",
      "\n",
      "Attaching package: ‘lmerTest’\n",
      "\n",
      "\n",
      "The following object is masked from ‘package:lme4’:\n",
      "\n",
      "    lmer\n",
      "\n",
      "\n",
      "The following object is masked from ‘package:stats’:\n",
      "\n",
      "    step\n",
      "\n",
      "\n"
     ]
    }
   ],
   "source": [
    "library(lmerTest)"
   ]
  },
  {
   "cell_type": "code",
   "execution_count": 88,
   "id": "70099a84-9080-4840-a74c-7d0171b4f519",
   "metadata": {},
   "outputs": [],
   "source": [
    "m1 <- lmer(math ~ gr_matematika + (1 | sch_id), data=df18, REML=FALSE)"
   ]
  },
  {
   "cell_type": "code",
   "execution_count": 89,
   "id": "55695b4c-2aaa-4761-ad09-c88194ec20ad",
   "metadata": {},
   "outputs": [
    {
     "data": {
      "text/plain": [
       "Linear mixed model fit by maximum likelihood . t-tests use Satterthwaite's\n",
       "  method [lmerModLmerTest]\n",
       "Formula: math ~ gr_matematika + (1 | sch_id)\n",
       "   Data: df18\n",
       "\n",
       "     AIC      BIC   logLik deviance df.resid \n",
       " 20855.5  20877.7 -10423.8  20847.5     1877 \n",
       "\n",
       "Scaled residuals: \n",
       "    Min      1Q  Median      3Q     Max \n",
       "-3.3544 -0.6484  0.0040  0.6527  3.0459 \n",
       "\n",
       "Random effects:\n",
       " Groups   Name        Variance Std.Dev.\n",
       " sch_id   (Intercept)  918.9   30.31   \n",
       " Residual             3442.8   58.68   \n",
       "Number of obs: 1881, groups:  sch_id, 128\n",
       "\n",
       "Fixed effects:\n",
       "               Estimate Std. Error        df t value Pr(>|t|)    \n",
       "(Intercept)    546.3759     4.2162  349.8092  129.59   <2e-16 ***\n",
       "gr_matematika  -22.4302     0.9093 1815.4386  -24.67   <2e-16 ***\n",
       "---\n",
       "Signif. codes:  0 ‘***’ 0.001 ‘**’ 0.01 ‘*’ 0.05 ‘.’ 0.1 ‘ ’ 1\n",
       "\n",
       "Correlation of Fixed Effects:\n",
       "            (Intr)\n",
       "gr_matematk -0.677"
      ]
     },
     "metadata": {},
     "output_type": "display_data"
    }
   ],
   "source": [
    "summary(m1)"
   ]
  },
  {
   "cell_type": "code",
   "execution_count": null,
   "id": "5b15cf0c-59cf-41f0-8e31-6d33ed618c27",
   "metadata": {},
   "outputs": [],
   "source": []
  },
  {
   "cell_type": "code",
   "execution_count": 94,
   "id": "0f78442b-b798-4af9-89c5-7a263cccf2a0",
   "metadata": {},
   "outputs": [],
   "source": [
    "mix2 <- lmer(pv1math ~ gr_matematika + (1|cntschid), data=cze3, REML=FALSE)"
   ]
  },
  {
   "cell_type": "code",
   "execution_count": 95,
   "id": "4207c6ab-fc0c-4882-b035-8e76b39cd35d",
   "metadata": {},
   "outputs": [
    {
     "data": {
      "text/plain": [
       "Linear mixed model fit by maximum likelihood . t-tests use Satterthwaite's\n",
       "  method [lmerModLmerTest]\n",
       "Formula: pv1math ~ gr_matematika + (1 | cntschid)\n",
       "   Data: cze3\n",
       "\n",
       "     AIC      BIC   logLik deviance df.resid \n",
       " 21383.8  21406.0 -10687.9  21375.8     1877 \n",
       "\n",
       "Scaled residuals: \n",
       "    Min      1Q  Median      3Q     Max \n",
       "-3.0512 -0.6291 -0.0112  0.6701  3.4884 \n",
       "\n",
       "Random effects:\n",
       " Groups   Name        Variance Std.Dev.\n",
       " cntschid (Intercept)  838.1   28.95   \n",
       " Residual             4646.2   68.16   \n",
       "Number of obs: 1881, groups:  cntschid, 128\n",
       "\n",
       "Fixed effects:\n",
       "              Estimate Std. Error       df t value Pr(>|t|)    \n",
       "(Intercept)    547.711      4.540  429.736  120.63   <2e-16 ***\n",
       "gr_matematika  -22.657      1.053 1833.650  -21.52   <2e-16 ***\n",
       "---\n",
       "Signif. codes:  0 ‘***’ 0.001 ‘**’ 0.01 ‘*’ 0.05 ‘.’ 0.1 ‘ ’ 1\n",
       "\n",
       "Correlation of Fixed Effects:\n",
       "            (Intr)\n",
       "gr_matematk -0.726"
      ]
     },
     "metadata": {},
     "output_type": "display_data"
    }
   ],
   "source": [
    "summary(mix2)"
   ]
  },
  {
   "cell_type": "code",
   "execution_count": 96,
   "id": "45bcf809-beb0-4943-8949-0c10382e963c",
   "metadata": {},
   "outputs": [],
   "source": [
    "mix3 <- lmer(pv1math ~ gr_matematika + (1|cntschid), data=cze3, weights=cze3$w_fstuwt, REML=FALSE)"
   ]
  },
  {
   "cell_type": "code",
   "execution_count": 97,
   "id": "8e20f9ae-97c6-4ae0-99c6-238baa7416a9",
   "metadata": {},
   "outputs": [
    {
     "data": {
      "text/plain": [
       "Linear mixed model fit by maximum likelihood . t-tests use Satterthwaite's\n",
       "  method [lmerModLmerTest]\n",
       "Formula: pv1math ~ gr_matematika + (1 | cntschid)\n",
       "   Data: cze3\n",
       "Weights: cze3$w_fstuwt\n",
       "\n",
       "     AIC      BIC   logLik deviance df.resid \n",
       " 21439.2  21461.3 -10715.6  21431.2     1877 \n",
       "\n",
       "Scaled residuals: \n",
       "    Min      1Q  Median      3Q     Max \n",
       "-3.2643 -0.6393 -0.0089  0.6613  3.5596 \n",
       "\n",
       "Random effects:\n",
       " Groups   Name        Variance Std.Dev.\n",
       " cntschid (Intercept)   982.1   31.34  \n",
       " Residual             75714.1  275.16  \n",
       "Number of obs: 1881, groups:  cntschid, 128\n",
       "\n",
       "Fixed effects:\n",
       "              Estimate Std. Error       df t value Pr(>|t|)    \n",
       "(Intercept)    546.126      4.635  424.974  117.82   <2e-16 ***\n",
       "gr_matematika  -22.495      1.049 1832.631  -21.45   <2e-16 ***\n",
       "---\n",
       "Signif. codes:  0 ‘***’ 0.001 ‘**’ 0.01 ‘*’ 0.05 ‘.’ 0.1 ‘ ’ 1\n",
       "\n",
       "Correlation of Fixed Effects:\n",
       "            (Intr)\n",
       "gr_matematk -0.713"
      ]
     },
     "metadata": {},
     "output_type": "display_data"
    }
   ],
   "source": [
    "summary(mix3)"
   ]
  },
  {
   "cell_type": "code",
   "execution_count": 92,
   "id": "e7c4bec7-f18b-47f2-869c-521df23eaee0",
   "metadata": {},
   "outputs": [
    {
     "data": {
      "text/html": [
       "\n",
       "<table width=\"100%\" summary=\"page for lmer {lme4}\"><tr><td>lmer {lme4}</td><td style=\"text-align: right;\">R Documentation</td></tr></table>\n",
       "\n",
       "<h2>Fit Linear Mixed-Effects Models</h2>\n",
       "\n",
       "<h3>Description</h3>\n",
       "\n",
       "<p>Fit a linear mixed-effects model (LMM) to data, via REML or maximum\n",
       "likelihood.\n",
       "</p>\n",
       "\n",
       "\n",
       "<h3>Usage</h3>\n",
       "\n",
       "<pre>\n",
       "lmer(formula, data = NULL, REML = TRUE, control = lmerControl(),\n",
       "     start = NULL, verbose = 0L, subset, weights, na.action,\n",
       "     offset, contrasts = NULL, devFunOnly = FALSE)\n",
       "</pre>\n",
       "\n",
       "\n",
       "<h3>Arguments</h3>\n",
       "\n",
       "<table summary=\"R argblock\">\n",
       "<tr valign=\"top\"><td><code>formula</code></td>\n",
       "<td>\n",
       "<p>a two-sided linear formula object describing both the\n",
       "fixed-effects and random-effects part of the model, with the\n",
       "response on the left of a <code>~</code> operator and the terms, separated\n",
       "by <code>+</code> operators, on the right.  Random-effects terms are\n",
       "distinguished by vertical bars (<code>|</code>) separating expressions\n",
       "for design matrices from grouping factors.  Two vertical bars\n",
       "(<code>||</code>) can be used to specify multiple uncorrelated random\n",
       "effects for the same grouping variable. \n",
       "(Because of the way it is implemented, the <code>||</code>-syntax <em>works\n",
       "only for design matrices containing numeric (continuous) predictors</em>;\n",
       "to fit models with independent categorical effects, see <code>dummy</code>\n",
       "or the <code>lmer_alt</code> function from the <a href=\"https://CRAN.R-project.org/package=afex\"><span class=\"pkg\">afex</span></a> package.)\n",
       "</p>\n",
       "</td></tr>\n",
       "<tr valign=\"top\"><td><code>data</code></td>\n",
       "<td>\n",
       "<p>an optional data frame containing the variables named in\n",
       "<code>formula</code>.  By default the variables are taken from the\n",
       "environment from which <code>lmer</code> is called. While <code>data</code> is\n",
       "optional, the package authors <em>strongly</em> recommend its use,\n",
       "especially when later applying methods such as <code>update</code> and\n",
       "<code>drop1</code> to the fitted model (<em>such methods are not\n",
       "guaranteed to work properly if <code>data</code> is omitted</em>). If\n",
       "<code>data</code> is omitted, variables will be taken from the environment\n",
       "of <code>formula</code> (if specified as a formula) or from the parent\n",
       "frame (if specified as a character vector).</p>\n",
       "</td></tr>\n",
       "<tr valign=\"top\"><td><code>REML</code></td>\n",
       "<td>\n",
       "<p>logical scalar - Should the estimates be chosen to\n",
       "optimize the REML criterion (as opposed to the log-likelihood)?</p>\n",
       "</td></tr>\n",
       "<tr valign=\"top\"><td><code>control</code></td>\n",
       "<td>\n",
       "<p>a list (of correct class, resulting from\n",
       "<code>lmerControl()</code> or <code>glmerControl()</code>\n",
       "respectively) containing control parameters, including the nonlinear\n",
       "optimizer to be used and parameters to be passed through to the\n",
       "nonlinear optimizer, see the <code>*lmerControl</code> documentation for\n",
       "details.</p>\n",
       "</td></tr>\n",
       "<tr valign=\"top\"><td><code>start</code></td>\n",
       "<td>\n",
       "<p>a named <code>list</code> of starting values for the\n",
       "parameters in the model.  For <code>lmer</code> this can be a numeric\n",
       "vector or a list with one component named <code>\"theta\"</code>.</p>\n",
       "</td></tr>\n",
       "<tr valign=\"top\"><td><code>verbose</code></td>\n",
       "<td>\n",
       "<p>integer scalar.  If <code>&gt; 0</code> verbose output is\n",
       "generated during the optimization of the parameter estimates.  If\n",
       "<code>&gt; 1</code> verbose output is generated during the individual\n",
       "penalized iteratively reweighted least squares (PIRLS) steps.</p>\n",
       "</td></tr>\n",
       "<tr valign=\"top\"><td><code>subset</code></td>\n",
       "<td>\n",
       "<p>an optional expression indicating the subset of the rows\n",
       "of <code>data</code> that should be used in the fit. This can be a logical\n",
       "vector, or a numeric vector indicating which observation numbers are\n",
       "to be included, or a character vector of the row names to be\n",
       "included.  All observations are included by default.</p>\n",
       "</td></tr>\n",
       "<tr valign=\"top\"><td><code>weights</code></td>\n",
       "<td>\n",
       "<p>an optional vector of &lsquo;prior weights&rsquo; to be used\n",
       "in the fitting process.  Should be <code>NULL</code> or a numeric vector.\n",
       "Prior <code>weights</code> are <em>not</em> normalized or standardized in\n",
       "any way.  In particular, the diagonal of the residual covariance\n",
       "matrix is the squared residual standard deviation parameter\n",
       "<code>sigma</code> times the vector of inverse <code>weights</code>.\n",
       "Therefore, if the <code>weights</code> have relatively large magnitudes,\n",
       "then in order to compensate, the <code>sigma</code> parameter will\n",
       "also need to have a relatively large magnitude.</p>\n",
       "</td></tr>\n",
       "<tr valign=\"top\"><td><code>na.action</code></td>\n",
       "<td>\n",
       "<p>a function that indicates what should happen when the\n",
       "data contain <code>NA</code>s.  The default action (<code>na.omit</code>,\n",
       "inherited from the 'factory fresh' value of\n",
       "<code>getOption(\"na.action\")</code>) strips any observations with any\n",
       "missing values in any variables.</p>\n",
       "</td></tr>\n",
       "<tr valign=\"top\"><td><code>offset</code></td>\n",
       "<td>\n",
       "<p>this can be used to specify an <em>a priori</em> known\n",
       "component to be included in the linear predictor during\n",
       "fitting. This should be <code>NULL</code> or a numeric vector of length\n",
       "equal to the number of cases.  One or more <code>offset</code>\n",
       "terms can be included in the formula instead or as well, and if more\n",
       "than one is specified their sum is used.  See\n",
       "<code>model.offset</code>.</p>\n",
       "</td></tr>\n",
       "<tr valign=\"top\"><td><code>contrasts</code></td>\n",
       "<td>\n",
       "<p>an optional list. See the <code>contrasts.arg</code> of\n",
       "<code>model.matrix.default</code>.</p>\n",
       "</td></tr>\n",
       "<tr valign=\"top\"><td><code>devFunOnly</code></td>\n",
       "<td>\n",
       "<p>logical - return only the deviance evaluation\n",
       "function. Note that because the deviance function operates on\n",
       "variables stored in its environment, it may not return\n",
       "<em>exactly</em> the same values on subsequent calls (but the results\n",
       "should always be within machine tolerance).</p>\n",
       "</td></tr>\n",
       "</table>\n",
       "\n",
       "\n",
       "<h3>Details</h3>\n",
       "\n",
       "\n",
       "<ul>\n",
       "<li><p>If the <code>formula</code> argument is specified as a character\n",
       "vector, the function will attempt to coerce it to a formula.\n",
       "However, this is not recommended (users who want to construct\n",
       "formulas by pasting together components are advised to use\n",
       "<code>as.formula</code> or <code>reformulate</code>); model fits\n",
       "will work but subsequent methods such as <code>drop1</code>,\n",
       "<code>update</code> may fail.\n",
       "</p>\n",
       "</li>\n",
       "<li><p>When handling perfectly collinear predictor variables\n",
       "(i.e. design matrices of less than full rank),\n",
       "<code>[gn]lmer</code> is not quite as sophisticated\n",
       "as some simpler modeling frameworks such as\n",
       "<code>lm</code> and <code>glm</code>. While it does\n",
       "automatically drop collinear variables (with a message\n",
       "rather than a warning), it does not automatically fill\n",
       "in <code>NA</code> values for the dropped coefficients;\n",
       "these can be added via\n",
       "<code>fixef(fitted.model,add.dropped=TRUE)</code>.\n",
       "This information can also be retrieved via\n",
       "<code>attr(getME(fitted.model,\"X\"),\"col.dropped\")</code>.\n",
       "\n",
       "</p>\n",
       "</li>\n",
       "<li><p>the deviance function returned when <code>devFunOnly</code> is\n",
       "<code>TRUE</code> takes a single numeric vector argument, representing\n",
       "the <code>theta</code> vector.  This vector defines the scaled\n",
       "variance-covariance matrices of the random effects, in the\n",
       "Cholesky parameterization.  For models with only simple\n",
       "(intercept-only) random effects, <code>theta</code> is a vector of the\n",
       "standard deviations of the random effects.  For more complex or\n",
       "multiple random effects, running <code>getME(.,\"theta\")</code> to\n",
       "retrieve the <code>theta</code> vector for a fitted model and examining\n",
       "the names of the vector is probably the easiest way to determine\n",
       "the correspondence between the elements of the <code>theta</code> vector\n",
       "and elements of the lower triangles of the Cholesky factors of the\n",
       "random effects.\n",
       "</p>\n",
       "</li></ul>\n",
       "\n",
       "\n",
       "\n",
       "<h3>Value</h3>\n",
       "\n",
       "<p>An object of class <code>merMod</code> (more specifically,\n",
       "an object of <em>subclass</em> <code>lmerMod</code>), for which many methods\n",
       "are available (e.g. <code>methods(class=\"merMod\")</code>)\n",
       "</p>\n",
       "\n",
       "\n",
       "<h3>Note</h3>\n",
       "\n",
       "<p>In earlier version of the <span class=\"pkg\">lme4</span> package, a <code>method</code> argument was\n",
       "used.  Its functionality has been replaced by the <code>REML</code> argument.\n",
       "</p>\n",
       "<p>Also, <code>lmer(.)</code> allowed a <code>family</code> argument (to effectively\n",
       "switch to <code>glmer(.)</code>).  This has been deprecated in summer 2013,\n",
       "and been disabled in spring 2019.\n",
       "</p>\n",
       "\n",
       "\n",
       "<h3>See Also</h3>\n",
       "\n",
       "<p><code>lm</code> for linear models;\n",
       "<code>glmer</code> for generalized linear; and\n",
       "<code>nlmer</code> for nonlinear mixed models.\n",
       "</p>\n",
       "\n",
       "\n",
       "<h3>Examples</h3>\n",
       "\n",
       "<pre>\n",
       "## linear mixed models - reference values from older code\n",
       "(fm1 &lt;- lmer(Reaction ~ Days + (Days | Subject), sleepstudy))\n",
       "summary(fm1)# (with its own print method; see class?merMod % ./merMod-class.Rd\n",
       "\n",
       "str(terms(fm1))\n",
       "stopifnot(identical(terms(fm1, fixed.only=FALSE),\n",
       "                    terms(model.frame(fm1))))\n",
       "attr(terms(fm1, FALSE), \"dataClasses\") # fixed.only=FALSE needed for dataCl.\n",
       "\n",
       "## Maximum Likelihood (ML), and \"monitor\" iterations via 'verbose':\n",
       "fm1_ML &lt;- update(fm1, REML=FALSE, verbose = 1)\n",
       "(fm2 &lt;- lmer(Reaction ~ Days + (Days || Subject), sleepstudy))\n",
       "anova(fm1, fm2)\n",
       "sm2 &lt;- summary(fm2)\n",
       "print(fm2, digits=7, ranef.comp=\"Var\") # the print.merMod()         method\n",
       "print(sm2, digits=3, corr=FALSE)       # the print.summary.merMod() method\n",
       "\n",
       "(vv &lt;- vcov.merMod(fm2, corr=TRUE))\n",
       "as(vv, \"corMatrix\")# extracts the (\"hidden\") 'correlation' entry in @factors\n",
       "\n",
       "## Fit sex-specific variances by constructing numeric dummy variables\n",
       "## for sex and sex:age; in this case the estimated variance differences\n",
       "## between groups in both intercept and slope are zero ...\n",
       "data(Orthodont,package=\"nlme\")\n",
       "Orthodont$nsex &lt;- as.numeric(Orthodont$Sex==\"Male\")\n",
       "Orthodont$nsexage &lt;- with(Orthodont, nsex*age)\n",
       "lmer(distance ~ age + (age|Subject) + (0+nsex|Subject) +\n",
       "     (0 + nsexage|Subject), data=Orthodont)\n",
       "</pre>\n",
       "\n",
       "<hr /><div style=\"text-align: center;\">[Package <em>lme4</em> version 1.1-28 ]</div>"
      ],
      "text/latex": [
       "\\inputencoding{utf8}\n",
       "\\HeaderA{lmer}{Fit Linear Mixed-Effects Models}{lmer}\n",
       "\\keyword{LMM}{lmer}\n",
       "\\keyword{models}{lmer}\n",
       "%\n",
       "\\begin{Description}\\relax\n",
       "Fit a linear mixed-effects model (LMM) to data, via REML or maximum\n",
       "likelihood.\n",
       "\\end{Description}\n",
       "%\n",
       "\\begin{Usage}\n",
       "\\begin{verbatim}\n",
       "lmer(formula, data = NULL, REML = TRUE, control = lmerControl(),\n",
       "     start = NULL, verbose = 0L, subset, weights, na.action,\n",
       "     offset, contrasts = NULL, devFunOnly = FALSE)\n",
       "\\end{verbatim}\n",
       "\\end{Usage}\n",
       "%\n",
       "\\begin{Arguments}\n",
       "\\begin{ldescription}\n",
       "\\item[\\code{formula}] a two-sided linear formula object describing both the\n",
       "fixed-effects and random-effects part of the model, with the\n",
       "response on the left of a \\code{\\textasciitilde{}} operator and the terms, separated\n",
       "by \\code{+} operators, on the right.  Random-effects terms are\n",
       "distinguished by vertical bars (\\code{|}) separating expressions\n",
       "for design matrices from grouping factors.  Two vertical bars\n",
       "(\\code{||}) can be used to specify multiple uncorrelated random\n",
       "effects for the same grouping variable. \n",
       "(Because of the way it is implemented, the \\code{||}-syntax \\emph{works\n",
       "only for design matrices containing numeric (continuous) predictors};\n",
       "to fit models with independent categorical effects, see \\code{\\LinkA{dummy}{dummy}}\n",
       "or the \\code{lmer\\_alt} function from the \\Rhref{https://CRAN.R-project.org/package=afex}{\\pkg{afex}} package.)\n",
       "\n",
       "\n",
       "\\item[\\code{data}] an optional data frame containing the variables named in\n",
       "\\code{formula}.  By default the variables are taken from the\n",
       "environment from which \\code{lmer} is called. While \\code{data} is\n",
       "optional, the package authors \\emph{strongly} recommend its use,\n",
       "especially when later applying methods such as \\code{update} and\n",
       "\\code{drop1} to the fitted model (\\emph{such methods are not\n",
       "guaranteed to work properly if \\code{data} is omitted}). If\n",
       "\\code{data} is omitted, variables will be taken from the environment\n",
       "of \\code{formula} (if specified as a formula) or from the parent\n",
       "frame (if specified as a character vector).\n",
       "\n",
       "\\item[\\code{REML}] logical scalar - Should the estimates be chosen to\n",
       "optimize the REML criterion (as opposed to the log-likelihood)?\n",
       "\n",
       "\\item[\\code{control}] a list (of correct class, resulting from\n",
       "\\code{\\LinkA{lmerControl}{lmerControl}()} or \\code{\\LinkA{glmerControl}{glmerControl}()}\n",
       "respectively) containing control parameters, including the nonlinear\n",
       "optimizer to be used and parameters to be passed through to the\n",
       "nonlinear optimizer, see the \\code{*lmerControl} documentation for\n",
       "details.\n",
       "\n",
       "\\item[\\code{start}] a named \\code{\\LinkA{list}{list}} of starting values for the\n",
       "parameters in the model.  For \\code{lmer} this can be a numeric\n",
       "vector or a list with one component named \\code{\"theta\"}.\n",
       "\n",
       "\\item[\\code{verbose}] integer scalar.  If \\code{> 0} verbose output is\n",
       "generated during the optimization of the parameter estimates.  If\n",
       "\\code{> 1} verbose output is generated during the individual\n",
       "penalized iteratively reweighted least squares (PIRLS) steps.\n",
       "\n",
       "\\item[\\code{subset}] an optional expression indicating the subset of the rows\n",
       "of \\code{data} that should be used in the fit. This can be a logical\n",
       "vector, or a numeric vector indicating which observation numbers are\n",
       "to be included, or a character vector of the row names to be\n",
       "included.  All observations are included by default.\n",
       "\n",
       "\\item[\\code{weights}] an optional vector of `prior weights' to be used\n",
       "in the fitting process.  Should be \\code{NULL} or a numeric vector.\n",
       "Prior \\code{weights} are \\emph{not} normalized or standardized in\n",
       "any way.  In particular, the diagonal of the residual covariance\n",
       "matrix is the squared residual standard deviation parameter\n",
       "\\code{\\LinkA{sigma}{sigma}} times the vector of inverse \\code{weights}.\n",
       "Therefore, if the \\code{weights} have relatively large magnitudes,\n",
       "then in order to compensate, the \\code{\\LinkA{sigma}{sigma}} parameter will\n",
       "also need to have a relatively large magnitude.\n",
       "\n",
       "\\item[\\code{na.action}] a function that indicates what should happen when the\n",
       "data contain \\code{NA}s.  The default action (\\code{na.omit},\n",
       "inherited from the 'factory fresh' value of\n",
       "\\code{getOption(\"na.action\")}) strips any observations with any\n",
       "missing values in any variables.\n",
       "\n",
       "\\item[\\code{offset}] this can be used to specify an \\emph{a priori} known\n",
       "component to be included in the linear predictor during\n",
       "fitting. This should be \\code{NULL} or a numeric vector of length\n",
       "equal to the number of cases.  One or more \\code{\\LinkA{offset}{offset}}\n",
       "terms can be included in the formula instead or as well, and if more\n",
       "than one is specified their sum is used.  See\n",
       "\\code{\\LinkA{model.offset}{model.offset}}.\n",
       "\n",
       "\\item[\\code{contrasts}] an optional list. See the \\code{contrasts.arg} of\n",
       "\\code{model.matrix.default}.\n",
       "\n",
       "\\item[\\code{devFunOnly}] logical - return only the deviance evaluation\n",
       "function. Note that because the deviance function operates on\n",
       "variables stored in its environment, it may not return\n",
       "\\emph{exactly} the same values on subsequent calls (but the results\n",
       "should always be within machine tolerance).\n",
       "\\end{ldescription}\n",
       "\\end{Arguments}\n",
       "%\n",
       "\\begin{Details}\\relax\n",
       "\\begin{itemize}\n",
       "\n",
       "\\item{} If the \\code{formula} argument is specified as a character\n",
       "vector, the function will attempt to coerce it to a formula.\n",
       "However, this is not recommended (users who want to construct\n",
       "formulas by pasting together components are advised to use\n",
       "\\code{\\LinkA{as.formula}{as.formula}} or \\code{\\LinkA{reformulate}{reformulate}}); model fits\n",
       "will work but subsequent methods such as \\code{\\LinkA{drop1}{drop1}},\n",
       "\\code{\\LinkA{update}{update}} may fail.\n",
       "\n",
       "\\item{} When handling perfectly collinear predictor variables\n",
       "(i.e. design matrices of less than full rank),\n",
       "\\code{[gn]lmer} is not quite as sophisticated\n",
       "as some simpler modeling frameworks such as\n",
       "\\code{\\LinkA{lm}{lm}} and \\code{\\LinkA{glm}{glm}}. While it does\n",
       "automatically drop collinear variables (with a message\n",
       "rather than a warning), it does not automatically fill\n",
       "in \\code{NA} values for the dropped coefficients;\n",
       "these can be added via\n",
       "\\code{fixef(fitted.model,add.dropped=TRUE)}.\n",
       "This information can also be retrieved via\n",
       "\\code{attr(getME(fitted.model,\"X\"),\"col.dropped\")}.\n",
       "\n",
       "\\item{} the deviance function returned when \\code{devFunOnly} is\n",
       "\\code{TRUE} takes a single numeric vector argument, representing\n",
       "the \\code{theta} vector.  This vector defines the scaled\n",
       "variance-covariance matrices of the random effects, in the\n",
       "Cholesky parameterization.  For models with only simple\n",
       "(intercept-only) random effects, \\code{theta} is a vector of the\n",
       "standard deviations of the random effects.  For more complex or\n",
       "multiple random effects, running \\code{getME(.,\"theta\")} to\n",
       "retrieve the \\code{theta} vector for a fitted model and examining\n",
       "the names of the vector is probably the easiest way to determine\n",
       "the correspondence between the elements of the \\code{theta} vector\n",
       "and elements of the lower triangles of the Cholesky factors of the\n",
       "random effects.\n",
       "\n",
       "\\end{itemize}\n",
       "\n",
       "\\end{Details}\n",
       "%\n",
       "\\begin{Value}\n",
       "An object of class \\code{\\LinkA{merMod}{merMod.Rdash.class}} (more specifically,\n",
       "an object of \\emph{subclass} \\code{lmerMod}), for which many methods\n",
       "are available (e.g. \\code{methods(class=\"merMod\")})\n",
       "\\end{Value}\n",
       "%\n",
       "\\begin{Note}\\relax\n",
       "In earlier version of the \\pkg{lme4} package, a \\code{method} argument was\n",
       "used.  Its functionality has been replaced by the \\code{REML} argument.\n",
       "\n",
       "Also, \\code{lmer(.)} allowed a \\code{family} argument (to effectively\n",
       "switch to \\code{glmer(.)}).  This has been deprecated in summer 2013,\n",
       "and been disabled in spring 2019.\n",
       "\\end{Note}\n",
       "%\n",
       "\\begin{SeeAlso}\\relax\n",
       "\\code{\\LinkA{lm}{lm}} for linear models;\n",
       "\\code{\\LinkA{glmer}{glmer}} for generalized linear; and\n",
       "\\code{\\LinkA{nlmer}{nlmer}} for nonlinear mixed models.\n",
       "\\end{SeeAlso}\n",
       "%\n",
       "\\begin{Examples}\n",
       "\\begin{ExampleCode}\n",
       "## linear mixed models - reference values from older code\n",
       "(fm1 <- lmer(Reaction ~ Days + (Days | Subject), sleepstudy))\n",
       "summary(fm1)# (with its own print method; see class?merMod % ./merMod-class.Rd\n",
       "\n",
       "str(terms(fm1))\n",
       "stopifnot(identical(terms(fm1, fixed.only=FALSE),\n",
       "                    terms(model.frame(fm1))))\n",
       "attr(terms(fm1, FALSE), \"dataClasses\") # fixed.only=FALSE needed for dataCl.\n",
       "\n",
       "## Maximum Likelihood (ML), and \"monitor\" iterations via 'verbose':\n",
       "fm1_ML <- update(fm1, REML=FALSE, verbose = 1)\n",
       "(fm2 <- lmer(Reaction ~ Days + (Days || Subject), sleepstudy))\n",
       "anova(fm1, fm2)\n",
       "sm2 <- summary(fm2)\n",
       "print(fm2, digits=7, ranef.comp=\"Var\") # the print.merMod()         method\n",
       "print(sm2, digits=3, corr=FALSE)       # the print.summary.merMod() method\n",
       "\n",
       "(vv <- vcov.merMod(fm2, corr=TRUE))\n",
       "as(vv, \"corMatrix\")# extracts the (\"hidden\") 'correlation' entry in @factors\n",
       "\n",
       "## Fit sex-specific variances by constructing numeric dummy variables\n",
       "## for sex and sex:age; in this case the estimated variance differences\n",
       "## between groups in both intercept and slope are zero ...\n",
       "data(Orthodont,package=\"nlme\")\n",
       "Orthodont$nsex <- as.numeric(Orthodont$Sex==\"Male\")\n",
       "Orthodont$nsexage <- with(Orthodont, nsex*age)\n",
       "lmer(distance ~ age + (age|Subject) + (0+nsex|Subject) +\n",
       "     (0 + nsexage|Subject), data=Orthodont)\n",
       "\\end{ExampleCode}\n",
       "\\end{Examples}"
      ],
      "text/plain": [
       "lmer                   package:lme4                    R Documentation\n",
       "\n",
       "_\bF_\bi_\bt _\bL_\bi_\bn_\be_\ba_\br _\bM_\bi_\bx_\be_\bd-_\bE_\bf_\bf_\be_\bc_\bt_\bs _\bM_\bo_\bd_\be_\bl_\bs\n",
       "\n",
       "_\bD_\be_\bs_\bc_\br_\bi_\bp_\bt_\bi_\bo_\bn:\n",
       "\n",
       "     Fit a linear mixed-effects model (LMM) to data, via REML or\n",
       "     maximum likelihood.\n",
       "\n",
       "_\bU_\bs_\ba_\bg_\be:\n",
       "\n",
       "     lmer(formula, data = NULL, REML = TRUE, control = lmerControl(),\n",
       "          start = NULL, verbose = 0L, subset, weights, na.action,\n",
       "          offset, contrasts = NULL, devFunOnly = FALSE)\n",
       "     \n",
       "_\bA_\br_\bg_\bu_\bm_\be_\bn_\bt_\bs:\n",
       "\n",
       " formula: a two-sided linear formula object describing both the\n",
       "          fixed-effects and random-effects part of the model, with the\n",
       "          response on the left of a ‘~’ operator and the terms,\n",
       "          separated by ‘+’ operators, on the right.  Random-effects\n",
       "          terms are distinguished by vertical bars (‘|’) separating\n",
       "          expressions for design matrices from grouping factors.  Two\n",
       "          vertical bars (‘||’) can be used to specify multiple\n",
       "          uncorrelated random effects for the same grouping variable.\n",
       "          (Because of the way it is implemented, the ‘||’-syntax _works\n",
       "          only for design matrices containing numeric (continuous)\n",
       "          predictors_; to fit models with independent categorical\n",
       "          effects, see ‘dummy’ or the ‘lmer_alt’ function from the\n",
       "          ‘afex’ package.)\n",
       "\n",
       "    data: an optional data frame containing the variables named in\n",
       "          ‘formula’.  By default the variables are taken from the\n",
       "          environment from which ‘lmer’ is called. While ‘data’ is\n",
       "          optional, the package authors _strongly_ recommend its use,\n",
       "          especially when later applying methods such as ‘update’ and\n",
       "          ‘drop1’ to the fitted model (_such methods are not guaranteed\n",
       "          to work properly if ‘data’ is omitted_). If ‘data’ is\n",
       "          omitted, variables will be taken from the environment of\n",
       "          ‘formula’ (if specified as a formula) or from the parent\n",
       "          frame (if specified as a character vector).\n",
       "\n",
       "    REML: logical scalar - Should the estimates be chosen to optimize\n",
       "          the REML criterion (as opposed to the log-likelihood)?\n",
       "\n",
       " control: a list (of correct class, resulting from ‘lmerControl()’ or\n",
       "          ‘glmerControl()’ respectively) containing control parameters,\n",
       "          including the nonlinear optimizer to be used and parameters\n",
       "          to be passed through to the nonlinear optimizer, see the\n",
       "          ‘*lmerControl’ documentation for details.\n",
       "\n",
       "   start: a named ‘list’ of starting values for the parameters in the\n",
       "          model.  For ‘lmer’ this can be a numeric vector or a list\n",
       "          with one component named ‘\"theta\"’.\n",
       "\n",
       " verbose: integer scalar.  If ‘> 0’ verbose output is generated during\n",
       "          the optimization of the parameter estimates.  If ‘> 1’\n",
       "          verbose output is generated during the individual penalized\n",
       "          iteratively reweighted least squares (PIRLS) steps.\n",
       "\n",
       "  subset: an optional expression indicating the subset of the rows of\n",
       "          ‘data’ that should be used in the fit. This can be a logical\n",
       "          vector, or a numeric vector indicating which observation\n",
       "          numbers are to be included, or a character vector of the row\n",
       "          names to be included.  All observations are included by\n",
       "          default.\n",
       "\n",
       " weights: an optional vector of ‘prior weights’ to be used in the\n",
       "          fitting process.  Should be ‘NULL’ or a numeric vector.\n",
       "          Prior ‘weights’ are _not_ normalized or standardized in any\n",
       "          way.  In particular, the diagonal of the residual covariance\n",
       "          matrix is the squared residual standard deviation parameter\n",
       "          ‘sigma’ times the vector of inverse ‘weights’.  Therefore, if\n",
       "          the ‘weights’ have relatively large magnitudes, then in order\n",
       "          to compensate, the ‘sigma’ parameter will also need to have a\n",
       "          relatively large magnitude.\n",
       "\n",
       "na.action: a function that indicates what should happen when the data\n",
       "          contain ‘NA’s.  The default action (‘na.omit’, inherited from\n",
       "          the 'factory fresh' value of ‘getOption(\"na.action\")’) strips\n",
       "          any observations with any missing values in any variables.\n",
       "\n",
       "  offset: this can be used to specify an _a priori_ known component to\n",
       "          be included in the linear predictor during fitting. This\n",
       "          should be ‘NULL’ or a numeric vector of length equal to the\n",
       "          number of cases.  One or more ‘offset’ terms can be included\n",
       "          in the formula instead or as well, and if more than one is\n",
       "          specified their sum is used.  See ‘model.offset’.\n",
       "\n",
       "contrasts: an optional list. See the ‘contrasts.arg’ of\n",
       "          ‘model.matrix.default’.\n",
       "\n",
       "devFunOnly: logical - return only the deviance evaluation function.\n",
       "          Note that because the deviance function operates on variables\n",
       "          stored in its environment, it may not return _exactly_ the\n",
       "          same values on subsequent calls (but the results should\n",
       "          always be within machine tolerance).\n",
       "\n",
       "_\bD_\be_\bt_\ba_\bi_\bl_\bs:\n",
       "\n",
       "        • If the ‘formula’ argument is specified as a character vector,\n",
       "          the function will attempt to coerce it to a formula.\n",
       "          However, this is not recommended (users who want to construct\n",
       "          formulas by pasting together components are advised to use\n",
       "          ‘as.formula’ or ‘reformulate’); model fits will work but\n",
       "          subsequent methods such as ‘drop1’, ‘update’ may fail.\n",
       "\n",
       "        • When handling perfectly collinear predictor variables (i.e.\n",
       "          design matrices of less than full rank), ‘[gn]lmer’ is not\n",
       "          quite as sophisticated as some simpler modeling frameworks\n",
       "          such as ‘lm’ and ‘glm’. While it does automatically drop\n",
       "          collinear variables (with a message rather than a warning),\n",
       "          it does not automatically fill in ‘NA’ values for the dropped\n",
       "          coefficients; these can be added via\n",
       "          ‘fixef(fitted.model,add.dropped=TRUE)’.  This information can\n",
       "          also be retrieved via\n",
       "          ‘attr(getME(fitted.model,\"X\"),\"col.dropped\")’.\n",
       "\n",
       "        • the deviance function returned when ‘devFunOnly’ is ‘TRUE’\n",
       "          takes a single numeric vector argument, representing the\n",
       "          ‘theta’ vector.  This vector defines the scaled\n",
       "          variance-covariance matrices of the random effects, in the\n",
       "          Cholesky parameterization.  For models with only simple\n",
       "          (intercept-only) random effects, ‘theta’ is a vector of the\n",
       "          standard deviations of the random effects.  For more complex\n",
       "          or multiple random effects, running ‘getME(.,\"theta\")’ to\n",
       "          retrieve the ‘theta’ vector for a fitted model and examining\n",
       "          the names of the vector is probably the easiest way to\n",
       "          determine the correspondence between the elements of the\n",
       "          ‘theta’ vector and elements of the lower triangles of the\n",
       "          Cholesky factors of the random effects.\n",
       "\n",
       "_\bV_\ba_\bl_\bu_\be:\n",
       "\n",
       "     An object of class ‘merMod’ (more specifically, an object of\n",
       "     _subclass_ ‘lmerMod’), for which many methods are available (e.g.\n",
       "     ‘methods(class=\"merMod\")’)\n",
       "\n",
       "_\bN_\bo_\bt_\be:\n",
       "\n",
       "     In earlier version of the ‘lme4’ package, a ‘method’ argument was\n",
       "     used.  Its functionality has been replaced by the ‘REML’ argument.\n",
       "\n",
       "     Also, ‘lmer(.)’ allowed a ‘family’ argument (to effectively switch\n",
       "     to ‘glmer(.)’).  This has been deprecated in summer 2013, and been\n",
       "     disabled in spring 2019.\n",
       "\n",
       "_\bS_\be_\be _\bA_\bl_\bs_\bo:\n",
       "\n",
       "     ‘lm’ for linear models; ‘glmer’ for generalized linear; and\n",
       "     ‘nlmer’ for nonlinear mixed models.\n",
       "\n",
       "_\bE_\bx_\ba_\bm_\bp_\bl_\be_\bs:\n",
       "\n",
       "     ## linear mixed models - reference values from older code\n",
       "     (fm1 <- lmer(Reaction ~ Days + (Days | Subject), sleepstudy))\n",
       "     summary(fm1)# (with its own print method; see class?merMod % ./merMod-class.Rd\n",
       "     \n",
       "     str(terms(fm1))\n",
       "     stopifnot(identical(terms(fm1, fixed.only=FALSE),\n",
       "                         terms(model.frame(fm1))))\n",
       "     attr(terms(fm1, FALSE), \"dataClasses\") # fixed.only=FALSE needed for dataCl.\n",
       "     \n",
       "     ## Maximum Likelihood (ML), and \"monitor\" iterations via 'verbose':\n",
       "     fm1_ML <- update(fm1, REML=FALSE, verbose = 1)\n",
       "     (fm2 <- lmer(Reaction ~ Days + (Days || Subject), sleepstudy))\n",
       "     anova(fm1, fm2)\n",
       "     sm2 <- summary(fm2)\n",
       "     print(fm2, digits=7, ranef.comp=\"Var\") # the print.merMod()         method\n",
       "     print(sm2, digits=3, corr=FALSE)       # the print.summary.merMod() method\n",
       "     \n",
       "     (vv <- vcov.merMod(fm2, corr=TRUE))\n",
       "     as(vv, \"corMatrix\")# extracts the (\"hidden\") 'correlation' entry in @factors\n",
       "     \n",
       "     ## Fit sex-specific variances by constructing numeric dummy variables\n",
       "     ## for sex and sex:age; in this case the estimated variance differences\n",
       "     ## between groups in both intercept and slope are zero ...\n",
       "     data(Orthodont,package=\"nlme\")\n",
       "     Orthodont$nsex <- as.numeric(Orthodont$Sex==\"Male\")\n",
       "     Orthodont$nsexage <- with(Orthodont, nsex*age)\n",
       "     lmer(distance ~ age + (age|Subject) + (0+nsex|Subject) +\n",
       "          (0 + nsexage|Subject), data=Orthodont)\n",
       "     "
      ]
     },
     "metadata": {},
     "output_type": "display_data"
    }
   ],
   "source": [
    "?lmer"
   ]
  },
  {
   "cell_type": "markdown",
   "id": "a8d20fab-c2f8-487b-b8b2-d3205eab946a",
   "metadata": {},
   "source": [
    "## CZ PISA datasets"
   ]
  },
  {
   "cell_type": "code",
   "execution_count": null,
   "id": "c7bea5e2-755b-4593-9f11-dad8dc404377",
   "metadata": {},
   "outputs": [],
   "source": []
  },
  {
   "cell_type": "code",
   "execution_count": null,
   "id": "77fdd289-74b9-4ca4-8743-6892831f7cce",
   "metadata": {},
   "outputs": [],
   "source": []
  },
  {
   "cell_type": "code",
   "execution_count": null,
   "id": "f194823b-7e40-4034-8a9f-0ec1f5b6e247",
   "metadata": {},
   "outputs": [],
   "source": []
  },
  {
   "cell_type": "code",
   "execution_count": null,
   "id": "35442e41-eeff-476d-8b0b-a35ab0326588",
   "metadata": {},
   "outputs": [],
   "source": []
  },
  {
   "cell_type": "code",
   "execution_count": null,
   "id": "4d9e8b8a-77b1-40aa-9f85-843456988aaf",
   "metadata": {},
   "outputs": [],
   "source": [
    "dim"
   ]
  },
  {
   "cell_type": "code",
   "execution_count": null,
   "id": "d59b8649-2c65-4f10-9a26-ce7b599e4b07",
   "metadata": {},
   "outputs": [],
   "source": []
  }
 ],
 "metadata": {
  "kernelspec": {
   "display_name": "R",
   "language": "R",
   "name": "ir"
  },
  "language_info": {
   "codemirror_mode": "r",
   "file_extension": ".r",
   "mimetype": "text/x-r-source",
   "name": "R",
   "pygments_lexer": "r",
   "version": "4.1.3"
  }
 },
 "nbformat": 4,
 "nbformat_minor": 5
}
