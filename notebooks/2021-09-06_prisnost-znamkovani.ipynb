{
 "cells": [
  {
   "cell_type": "markdown",
   "id": "c5d3d3fe-b47c-4440-9250-2689fc4c1cc7",
   "metadata": {},
   "source": [
    "# Přísnost známkování na TIMSS datech"
   ]
  },
  {
   "cell_type": "markdown",
   "id": "0e97e16f-5204-4f44-bdb9-7626f29c835d",
   "metadata": {},
   "source": [
    "Trends in International Mathematics and Science Study: https://en.wikipedia.org/wiki/Trends_in_International_Mathematics_and_Science_Study"
   ]
  },
  {
   "cell_type": "markdown",
   "id": "e9b582ae-eaa9-4b2d-a242-4befa12ba98c",
   "metadata": {},
   "source": [
    "Cílem je prozkoumat rozdíly v přísnosti známkování mezi školami na základě jejich různých charakteristik -- například kraj, velikost sídla apod. TIMSS data obsahují testové skóry a známky pro matematiku a přírodovědu (science), navíc lze dataset napojit s doplňujícími informacemi o škole.\n",
    "\n",
    "Testové skóry jsou v datasetu s pěti plausible values - žáci zpravidla vyplňují pouze část z celé testové baterie, plausible values jsou nutné pro správné odhady směrodatných chyb. Metodologie týkající se plausible values v TIMSS a dalších mezinárodních vzdělávacích studiích je někde určitě popsaná důkladněji, v analýze níže řeším pouze bodové odhady založené na průměru všech plausible values (což by mělo být metodologicky korektní).\n",
    "\n",
    "Odhady pro školy jsou založené na fixed effects modelu, který je v ekonometrii poměrně častý. Pokud si dobře vzpomínám, je v zásadě ekvivalentní s odlišnými intercepts pro jednotlivé školy v obyčejném lineárním modelu. Výhledově sem zkusím doplnit více matematiky. Nejsem si stoprocentně jistý, zdali je tento postup ideální pro analýzu rozdílů v přísnosti známkování, ale zatím jsem nevymyslel nic lepšího.\n",
    "\n",
    "Předběžné závěry naznačují, že rozdíly ve známkování jsou spíše menší."
   ]
  },
  {
   "cell_type": "markdown",
   "id": "7cba3017-7797-4079-a16a-6d98c697f176",
   "metadata": {},
   "source": [
    "## Analýza"
   ]
  },
  {
   "cell_type": "code",
   "execution_count": null,
   "id": "9a55e663-8a5e-4ad0-a995-7d9dfec208f7",
   "metadata": {},
   "outputs": [],
   "source": [
    "# nejake standardni importy\n",
    "\n",
    "import os\n",
    "import sys\n",
    "import pyreadstat\n",
    "import pandas as pd\n",
    "import numpy as np\n",
    "from statsmodels.stats.weightstats import DescrStatsW\n",
    "from sklearn.linear_model import LinearRegression\n",
    "import statsmodels.api as sm\n",
    "import statsmodels.formula.api as smf\n",
    "import seaborn as sns\n",
    "import matplotlib as mpl\n",
    "mpl.use('Agg')\n",
    "import matplotlib.pyplot as plt\n",
    "plt.ioff()"
   ]
  },
  {
   "cell_type": "code",
   "execution_count": null,
   "id": "e70243d2-0d28-44bc-8f8c-b93ba10c0fee",
   "metadata": {},
   "outputs": [],
   "source": [
    "# toto spravne importuje doplnujici knihovnu - muj kod, ktery pouzivam pro vytvareni html stranek z nekolika grafu\n",
    "# mozna je ale jednodussi pouzivat proste normalni grafy v notebooku\n",
    "cwd = os.getcwd()\n",
    "utils_dir = os.path.join(cwd, '..', 'python-utils')\n",
    "sys.path.append(utils_dir)\n",
    "\n",
    "from libs.utils import *\n",
    "from libs.plots import *\n",
    "from libs.extensions import *\n",
    "\n",
    "# cesty je nutne si upravit, podle toho kde se skutecne nachazi temp dir a data!\n",
    "os.environ['TEMP'] = '/mnt/d/temp'"
   ]
  },
  {
   "cell_type": "code",
   "execution_count": null,
   "id": "05acf245-7e1b-4e6b-b461-f8629fb65a04",
   "metadata": {},
   "outputs": [],
   "source": [
    "# cesta k datum\n",
    "data_root = '/mnt/d/projects/idea/data'"
   ]
  },
  {
   "cell_type": "code",
   "execution_count": null,
   "id": "1eba7357-fb6b-4fee-93e1-99aaea1585a2",
   "metadata": {},
   "outputs": [],
   "source": [
    "# nacteni dat - skoro vse k mezinarodnim vzdelavacim studiim je ve formatu .sav pro SPSS\n",
    "# zaroven pro SPSS existuje i plugin pro korektni praci s plausible values, nicmene pro nase ucely\n",
    "# se to tolik nehodi a navic nemam legalni SPSS...\n",
    "sg11, sg11_meta = pyreadstat.read_sav(f'{data_root}/TIMSS/2011/CZ/T11_dot_zak.sav')\n",
    "sg15, sg15_meta = pyreadstat.read_sav(f'{data_root}/TIMSS/2015/CZ/ASGCZEM6.sav')"
   ]
  },
  {
   "cell_type": "code",
   "execution_count": null,
   "id": "9db556c5-4bfa-4626-9eae-5a0e715c5149",
   "metadata": {},
   "outputs": [],
   "source": [
    "sg11"
   ]
  },
  {
   "cell_type": "code",
   "execution_count": null,
   "id": "0175f7a9-165b-4de8-bc6f-10a46ad6a903",
   "metadata": {},
   "outputs": [],
   "source": [
    "shared_cols = {\n",
    "    'IDSCHOOL': 'school',\n",
    "    'IDCLASS': 'class',\n",
    "    'IDSTUD': 'student',\n",
    "    'ITSEX': 'girl',\n",
    "    'TOTWGT': 'weight',\n",
    "    **{f'ASMMAT0{i}': f'mat_pv{i}' for i in range(1, 6)},\n",
    "    **{f'ASSSCI0{i}': f'sci_pv{i}' for i in range(1, 6)}\n",
    "}\n",
    "\n",
    "cols11 = {**shared_cols, 'o02c': 'mat_grade', 'o02d': 'sci_grade' }\n",
    "cols15 = {**shared_cols, 'ASXG20C': 'mat_grade', 'ASXG20D': 'sci_grade' }\n",
    "\n",
    "sg11 = sg11[cols11.keys()].rename(columns=cols11)\n",
    "sg15 = sg15[cols15.keys()].rename(columns=cols15)\n",
    "\n",
    "for c in ['school', 'class', 'student', 'girl']:\n",
    "    sg11[c] = pd.Series(sg11[c], dtype=np.int_)\n",
    "    sg15[c] = pd.Series(sg15[c], dtype=np.int_)\n",
    "\n",
    "sg11['girl'] = -sg11['girl'] + 2\n",
    "sg15['girl'] = -sg15['girl'] + 2\n",
    "\n",
    "for c in ['mat', 'sci']:\n",
    "    sg11[c + '_grade'] = np.where(sg11[c + '_grade'] > 5, np.nan, sg11[c + '_grade'])\n",
    "    sg15[c + '_grade'] = np.where(sg15[c + '_grade'] > 5, np.nan, sg15[c + '_grade'])\n",
    "    sg11[c] = np.mean(sg11[[f'{c}_pv{i}' for i in range(1, 6)]], axis=1)\n",
    "    sg15[c] = np.mean(sg15[[f'{c}_pv{i}' for i in range(1, 6)]], axis=1)\n",
    "\n",
    "sg11['unit'] = 1\n",
    "sg15['unit'] = 1"
   ]
  },
  {
   "cell_type": "code",
   "execution_count": null,
   "id": "741feb52-9fe1-47fa-96d7-8def6eb496bc",
   "metadata": {},
   "outputs": [],
   "source": [
    "sg11"
   ]
  },
  {
   "cell_type": "code",
   "execution_count": null,
   "id": "6dc6821c-d6de-4700-927d-120a246e0bcd",
   "metadata": {},
   "outputs": [],
   "source": [
    "cg15, cg15_meta = pyreadstat.read_sav(f'{data_root}/TIMSS/2015/CZ/ACGCZEM6.sav')\n",
    "cg11, cg11_meta = pyreadstat.read_sav(f'{data_root}/TIMSS/2011/CZ/T11_dot_skolni.sav')"
   ]
  },
  {
   "cell_type": "code",
   "execution_count": null,
   "id": "98f833de-b652-4104-967d-032d80547ffc",
   "metadata": {},
   "outputs": [],
   "source": [
    "# okomentuji nekdy pozdeji :)\n",
    "\n",
    "def get_weighted_means(frame, weight_col='weight', cols=None):\n",
    "    res = pd.Series(dtype='float64')\n",
    "    for c in cols or frame.columns[frame.columns != weight_col]:\n",
    "        res[c] = (frame[c] * frame[weight_col]).sum() / frame[weight_col].sum()\n",
    "    return res\n",
    "\n",
    "def get_fixed_effects(df, group_col, grade_col, score_col, girl_col='girl', weight_col='weight'):\n",
    "    df = df[[group_col, grade_col, score_col, girl_col, weight_col]].dropna().copy()\n",
    "    stats_grade = DescrStatsW(df[grade_col], weights=df[weight_col])\n",
    "    stats_score = DescrStatsW(df[score_col], weights=df[weight_col])\n",
    "\n",
    "    df[score_col] = (df[score_col] - stats_score.mean) / stats_score.std\n",
    "    df[grade_col] = -(df[grade_col] - stats_grade.mean) / stats_grade.std\n",
    "\n",
    "    cols = [grade_col, score_col, girl_col]\n",
    "    c_means = df.groupby(group_col).apply(get_weighted_means, weight_col=weight_col, cols=cols).reset_index()\n",
    "    df = pd.merge(df, c_means.rename(columns={c: c + '_cm' for c in cols}))\n",
    "    for c in cols:\n",
    "        df[c + '_adj'] = df[c] - df[c + '_cm'] + np.average(df[c], weights=df[weight_col])\n",
    "\n",
    "    model = sm.WLS(df[grade_col + '_adj'], sm.add_constant(df[[score_col + '_adj', girl_col + '_adj']]), weights=df[weight_col]).fit()\n",
    "\n",
    "    c_means['fe'] = c_means[grade_col] - model.params['const'] \\\n",
    "        - model.params[score_col + '_adj'] * c_means[score_col] \\\n",
    "        - model.params[girl_col + '_adj'] * c_means[girl_col]\n",
    "    c_means['count'] = df.groupby(group_col)[grade_col].count().values\n",
    "\n",
    "    return c_means[[group_col, 'fe', 'count']]"
   ]
  },
  {
   "cell_type": "code",
   "execution_count": null,
   "id": "fd39e36e-d064-41aa-9733-7f3b44034098",
   "metadata": {},
   "outputs": [],
   "source": [
    "fe15_mat = get_fixed_effects(sg15, 'school', 'mat_grade', 'mat')\n",
    "fe15_sci = get_fixed_effects(sg15, 'school', 'sci_grade', 'sci')\n",
    "fe11_mat = get_fixed_effects(sg11, 'school', 'mat_grade', 'mat')\n",
    "fe11_sci = get_fixed_effects(sg11, 'school', 'sci_grade', 'sci')\n",
    "\n",
    "fe15_mat_class = get_fixed_effects(sg15, 'class', 'mat_grade', 'mat')\n",
    "fe15_sci_class = get_fixed_effects(sg15, 'class', 'sci_grade', 'sci')\n",
    "fe11_mat_class = get_fixed_effects(sg11, 'class', 'mat_grade', 'mat')\n",
    "fe11_sci_class = get_fixed_effects(sg11, 'class', 'sci_grade', 'sci')\n",
    "\n",
    "foo = sg15[['mat_grade', 'weight']].dropna()\n",
    "stats_grade = DescrStatsW(foo['mat_grade'], weights=foo['weight'])\n",
    "stats_grade.std\n",
    "\n",
    "cg15['school'] = np.int_(cg15['IDSCHOOL'])\n",
    "cg11['school'] = np.int_(cg11['IDSCHOOL'])\n",
    "\n",
    "# what do I need for these plots? ---\n",
    "\n",
    "def compare_fe(cg, cg_meta, var, col, label, num_labels, left=0.16, title=None, fe_col='fe'):\n",
    "    labels = [cg_meta.value_labels[label][x] for x in range(1, num_labels + 1)]\n",
    "    cg[var] = pd.Categorical(cg[col].apply(lambda x: None if not np.isfinite(x)\n",
    "        else cg_meta.value_labels[label][x]), labels, ordered=True)\n",
    "    plt.rcParams['figure.figsize'] = 10, 6\n",
    "    plt.rcParams['figure.subplot.left'] = left\n",
    "    fig, ax = plt.subplots()\n",
    "    sns.boxplot(y=var, x=fe_col, data=cg)\n",
    "    if title is not None:\n",
    "        ax.set_title(title)\n",
    "    return ax\n",
    "\n",
    "vars = ['population', 'area', 'poor', 'affluent']\n",
    "cols = ['ACBG05A', 'ACBG05B', 'ACBG03A', 'ACBG03B']\n",
    "labels = ['labels{}'.format(i) for i in [5, 6, 2, 3]]\n",
    "num_labels15 = [7, 5, 4, 4]\n",
    "num_labels11 = [6, 5, 4, 4]\n",
    "lefts15 = [0.16, 0.33, 0.16, 0.16]\n",
    "lefts11 = [0.24, 0.16, 0.16, 0.16]\n",
    "\n",
    "def compare_fe_all(cg, cg_meta, vars, cols, labels, num_labels, lefts, title):\n",
    "    plots = []\n",
    "    for v, c, l, nl, left in zip(vars, cols, labels, num_labels, lefts):\n",
    "        ax = compare_fe(cg, cg_meta, v, c, l, nl, left=left)\n",
    "        ax.set_title(title.format(v))\n",
    "        plots.append(ax)\n",
    "    return plots\n",
    "\n",
    "\n",
    "plots15_mat = compare_fe_all(pd.merge(cg15, fe15_mat), cg15_meta, vars, cols, labels, num_labels15, lefts15,\n",
    "    title='TIMSS 2015, Maths, schools FE vs {}')\n",
    "plots15_sci = compare_fe_all(pd.merge(cg15, fe15_sci), cg15_meta, vars, cols, labels, num_labels15, lefts15,\n",
    "    title='TIMSS 2015, Science, schools FE vs {}')\n",
    "plots11_mat = compare_fe_all(pd.merge(cg11, fe11_mat), cg11_meta, vars, cols, labels, num_labels11, lefts11,\n",
    "    title='TIMSS 2011, Maths, schools FE vs {}')\n",
    "plots11_sci = compare_fe_all(pd.merge(cg11, fe11_sci), cg11_meta, vars, cols, labels, num_labels11, lefts11,\n",
    "    title='TIMSS 2011, Science, schools FE vs {}')\n",
    "\n",
    "_, size11_mat = plt.subplots()\n",
    "sns.scatterplot(x='ACBG01', y='fe', data=pd.merge(cg11, fe11_mat))\n",
    "size11_mat.set(xlabel='size of school', title='TIMSS 2011, Maths, schools FE vs size of school')\n",
    "plots11_mat.append(size11_mat)\n",
    "\n",
    "_, size11_sci = plt.subplots()\n",
    "sns.scatterplot(x='ACBG01', y='fe', data=pd.merge(cg11, fe11_sci))\n",
    "size11_sci.set(xlabel='size of school', title='TIMSS 2011, Science, schools FE vs size of school')\n",
    "plots11_sci.append(size11_sci)\n"
   ]
  },
  {
   "cell_type": "code",
   "execution_count": null,
   "id": "415e7204-e02f-4cea-9c14-8ea753f6e3dc",
   "metadata": {},
   "outputs": [],
   "source": [
    "# toto ve WSL ted nefunguje; pri jinem spusteni mozna ano, ale nemam vyzkousene v notebooku\n",
    "# navic je stejne potreba opravit cross-origin policy ve firefoxu, aby to fungovalo...\n",
    "\n",
    "Selector([\n",
    "    Chart(plots15_mat, title='Maths, 2015', cols=2),\n",
    "    Chart(plots15_sci, title='Science, 2015', cols=2),\n",
    "    Chart(plots11_mat, title='Maths, 2011', cols=2),\n",
    "    Chart(plots11_sci, title='Science, 2011', cols=2)\n",
    "], title='TIMSS, schools FE vs schools characteristics').show()"
   ]
  },
  {
   "cell_type": "code",
   "execution_count": null,
   "id": "903aba7e-6bcb-448d-bce7-21f4013eb2b5",
   "metadata": {},
   "outputs": [],
   "source": [
    "def hist_fe(fe, weights=False, title=''):\n",
    "    stat = DescrStatsW(fe['fe'], weights=(fe['count'] if weights else None))\n",
    "    fig, ax = plt.subplots()\n",
    "    ax.hist(fe['fe'], bins=20, rwidth=0.9, weights=(fe['count'] if weights else None))\n",
    "    ax.set_title('{} (std dev = {:.3g})'.format(title, stat.std))\n",
    "    return ax\n",
    "\n",
    "plt.rcParams['figure.figsize'] = 10, 6\n",
    "\n",
    "fe_hists = []\n",
    "for y in [15, 11]:\n",
    "    for c in ['mat', 'sci']:\n",
    "        for g in ['school', 'class']:\n",
    "            for w in [False, True]:\n",
    "                fe = eval('fe{}_{}{}'.format(y, c, ('' if g == 'school' else '_class')))\n",
    "                title = 'TIMSS, 20{}, {}, {} FE{}'.format(y, ('Maths' if c == 'mat' else 'Science'), g,\n",
    "                    (', by #students' if w else ''))\n",
    "                ax = hist_fe(fe, w, title)\n",
    "                fe_hists.append(ax)\n",
    "\n",
    "Chart(fe_hists, title='TIMSS, histograms of FE', cols=2).show()"
   ]
  },
  {
   "cell_type": "code",
   "execution_count": null,
   "id": "ad9cc5c0-df60-43b2-a198-8880fd2a9198",
   "metadata": {},
   "outputs": [],
   "source": []
  }
 ],
 "metadata": {
  "kernelspec": {
   "display_name": "Python 3 (ipykernel)",
   "language": "python",
   "name": "python3"
  },
  "language_info": {
   "codemirror_mode": {
    "name": "ipython",
    "version": 3
   },
   "file_extension": ".py",
   "mimetype": "text/x-python",
   "name": "python",
   "nbconvert_exporter": "python",
   "pygments_lexer": "ipython3",
   "version": "3.8.10"
  }
 },
 "nbformat": 4,
 "nbformat_minor": 5
}
