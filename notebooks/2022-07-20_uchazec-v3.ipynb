{
 "cells": [
  {
   "cell_type": "markdown",
   "id": "06e043c8-58f1-4f94-a030-c4a73ce0edda",
   "metadata": {},
   "source": [
    "# Uchazeč: data o uchazečích o studium na pedagogických fakultách"
   ]
  },
  {
   "cell_type": "markdown",
   "id": "29354e7e-cab9-4a1c-a8c4-a58c350c45e3",
   "metadata": {},
   "source": [
    "Od MŠMT máme dva soubory .dbf. Je trochu pain s nimi pracovat.\n",
    "- Stata mi to nenačte - nejspíš je to špatná verze\n",
    "- Excel také ne - akorát předstane reagovat\n",
    "- Python: pomocí balíku dbf lze data konvertovat do csv, potom lze načíst jako dataframe (jen je potřeba specifikovat kódování)"
   ]
  },
  {
   "cell_type": "markdown",
   "id": "c162435d-7c42-47e7-8a82-e275447c9841",
   "metadata": {},
   "source": [
    "Data jsou popsaná na https://dsia.msmt.cz/uch2022b.html - většina proměnných má vlastní číselníky, je potřeba to poprojovat.\n",
    "- Dokážu načítat číselníky přímo z webu? Na to byl nějaký jednoduchý mechanismus, ne?"
   ]
  },
  {
   "cell_type": "markdown",
   "id": "914876e6-3dd4-49f8-920c-45942f46ad8a",
   "metadata": {},
   "source": [
    "Co chci zkusit?\n",
    "- Převeď soubory do .csv\n",
    "- Stáhni .dbf číselníky\n",
    "- Načti číselníky z webových tabulek (nebo xml?)\n",
    "- Zmerguj všechno dohromady a vytvoř překonvertovaná data"
   ]
  },
  {
   "cell_type": "markdown",
   "id": "9124dfaa-b79a-4300-9354-78d4062d7a3f",
   "metadata": {
    "tags": []
   },
   "source": [
    "## Importy"
   ]
  },
  {
   "cell_type": "code",
   "execution_count": 1,
   "id": "6344f684-0135-4757-8098-c50cc41d700c",
   "metadata": {},
   "outputs": [
    {
     "name": "stdout",
     "output_type": "stream",
     "text": [
      "\n",
      "  ___  ____  ____  ____  ____ ®\n",
      " /__    /   ____/   /   ____/      17.0\n",
      "___/   /   /___/   /   /___/       BE—Basic Edition\n",
      "\n",
      " Statistics and Data Science       Copyright 1985-2021 StataCorp LLC\n",
      "                                   StataCorp\n",
      "                                   4905 Lakeway Drive\n",
      "                                   College Station, Texas 77845 USA\n",
      "                                   800-STATA-PC        https://www.stata.com\n",
      "                                   979-696-4600        stata@stata.com\n",
      "\n",
      "Stata license: Single-user , expiring  8 Jul 2023\n",
      "Serial number: 501709392641\n",
      "  Licensed to: Tomas Protivinsky\n",
      "               CERGE-EI\n",
      "\n",
      "Notes:\n",
      "      1. Unicode is supported; see help unicode_advice.\n"
     ]
    }
   ],
   "source": [
    "# nejake standardni importy\n",
    "import os\n",
    "import sys\n",
    "import pyreadstat\n",
    "import pandas as pd\n",
    "import numpy as np\n",
    "import re\n",
    "from statsmodels.stats.weightstats import DescrStatsW\n",
    "from sklearn.linear_model import LinearRegression\n",
    "import statsmodels.api as sm\n",
    "import statsmodels.formula.api as smf\n",
    "import scipy\n",
    "import seaborn as sns\n",
    "import matplotlib as mpl\n",
    "import matplotlib.pyplot as plt\n",
    "# aby grafy byly rozumně čitelné na obrazovce\n",
    "plt.rcParams['figure.dpi'] = 90\n",
    "plt.rcParams['axes.titlesize'] = 11\n",
    "plt.rcParams['figure.figsize'] = 10, 5\n",
    "#plt.ioff()\n",
    "import stata_setup\n",
    "stata_setup.config('/usr/local/stata17', 'be')\n",
    "from pystata import stata\n",
    "import dbf"
   ]
  },
  {
   "cell_type": "markdown",
   "id": "f7ed47b7-9ac9-40b3-92f1-832156fbe9f1",
   "metadata": {
    "tags": []
   },
   "source": [
    "## Načtení dat"
   ]
  },
  {
   "cell_type": "code",
   "execution_count": 2,
   "id": "0a23aa14-e0ae-4463-890e-72d77ae2f40a",
   "metadata": {},
   "outputs": [],
   "source": [
    "data_root = '/mnt/d/projects/idea/data'\n",
    "path17 = 'uchazec/0022MUCH17P'\n",
    "path21 = 'uchazec/0022MUCH21P'"
   ]
  },
  {
   "cell_type": "code",
   "execution_count": null,
   "id": "fa746d4d-2eaa-4723-bb8f-032a90bd4df1",
   "metadata": {},
   "outputs": [],
   "source": [
    "# konverze -- nějakou chvilu trvá\n",
    "\n",
    "# with dbf.Table(f'{data_root}/{path17}.dbf') as table:\n",
    "#     dbf.export(table, f'{data_root}/{path17}.csv')\n",
    "\n",
    "# with dbf.Table(f'{data_root}/{path21}.dbf') as table:\n",
    "#     dbf.export(table, f'{data_root}/{path21}.csv')"
   ]
  },
  {
   "cell_type": "code",
   "execution_count": 3,
   "id": "7f54b5a6-f404-4ef8-baf4-5e71d68ac65b",
   "metadata": {},
   "outputs": [
    {
     "name": "stderr",
     "output_type": "stream",
     "text": [
      "/tmp/ipykernel_356/2773192003.py:2: DtypeWarning: Columns (6) have mixed types. Specify dtype option on import or set low_memory=False.\n",
      "  df = pd.read_csv(f'{data_root}/{path17}.csv', encoding='cp1250')\n"
     ]
    }
   ],
   "source": [
    "# načti data z roku 2017\n",
    "df = pd.read_csv(f'{data_root}/{path17}.csv', encoding='cp1250')"
   ]
  },
  {
   "cell_type": "code",
   "execution_count": 6,
   "id": "f73e63e0-77bb-410d-84b9-782cf35742c2",
   "metadata": {},
   "outputs": [],
   "source": [
    "df.head(100).to_csv('temp/uch17.csv')"
   ]
  },
  {
   "cell_type": "markdown",
   "id": "5161b8cc-1b09-4869-a263-a6d4d939923c",
   "metadata": {},
   "source": [
    "## Číselníky"
   ]
  },
  {
   "cell_type": "code",
   "execution_count": 8,
   "id": "f4377a11-cb1f-485c-bb02-96f7d98a9eca",
   "metadata": {},
   "outputs": [
    {
     "data": {
      "text/plain": [
       "Index(['RDAT', 'RID', 'ROD_KOD', 'STATB', 'OBECB', 'PSCB', 'STAT', 'ODHL',\n",
       "       'IZOS', 'OBSS', 'RMAT', 'TYP_ST', 'FORMA_ST', 'PROGRAM', 'OBOR1',\n",
       "       'OBOR2', 'OBOR3', 'OBOR4', 'OBOR5', 'APRO1', 'APRO2', 'APRO3',\n",
       "       'DAT_REG', 'VYPR', 'DAT_VYPR', 'ZAPS', 'DAT_ZAPS', 'CHYV'],\n",
       "      dtype='object')"
      ]
     },
     "execution_count": 8,
     "metadata": {},
     "output_type": "execute_result"
    }
   ],
   "source": [
    "df.columns"
   ]
  },
  {
   "cell_type": "code",
   "execution_count": 10,
   "id": "3b4ab514-f902-4051-929a-d1926156486f",
   "metadata": {},
   "outputs": [],
   "source": [
    "foo = pd.read_html('https://dsia.msmt.cz/uch2022b.html')\n",
    "popis = foo[1].iloc[2:]\n",
    "popis.columns = foo[1].iloc[1]\n",
    "popis.to_csv(f'{data_root}/uchazec/popis.csv')\n",
    "popis.to_csv(f'temp/uchazec/popis.csv')"
   ]
  },
  {
   "cell_type": "code",
   "execution_count": 16,
   "id": "80a41825-611d-4df6-98d4-a460144c9c4e",
   "metadata": {},
   "outputs": [
    {
     "data": {
      "text/html": [
       "<div>\n",
       "<style scoped>\n",
       "    .dataframe tbody tr th:only-of-type {\n",
       "        vertical-align: middle;\n",
       "    }\n",
       "\n",
       "    .dataframe tbody tr th {\n",
       "        vertical-align: top;\n",
       "    }\n",
       "\n",
       "    .dataframe thead th {\n",
       "        text-align: right;\n",
       "    }\n",
       "</style>\n",
       "<table border=\"1\" class=\"dataframe\">\n",
       "  <thead>\n",
       "    <tr style=\"text-align: right;\">\n",
       "      <th>1</th>\n",
       "      <th>pořadové číslo</th>\n",
       "      <th>Název položky</th>\n",
       "      <th>typ</th>\n",
       "      <th>délka</th>\n",
       "      <th>Popis položky</th>\n",
       "      <th>kontrola</th>\n",
       "    </tr>\n",
       "  </thead>\n",
       "  <tbody>\n",
       "    <tr>\n",
       "      <th>2</th>\n",
       "      <td>1.</td>\n",
       "      <td>RDAT</td>\n",
       "      <td>C</td>\n",
       "      <td>8</td>\n",
       "      <td>rozhodné datum sběru</td>\n",
       "      <td>NaN</td>\n",
       "    </tr>\n",
       "    <tr>\n",
       "      <th>3</th>\n",
       "      <td>2.</td>\n",
       "      <td>RID</td>\n",
       "      <td>C</td>\n",
       "      <td>5</td>\n",
       "      <td>identifikátor fakulty</td>\n",
       "      <td>registrace</td>\n",
       "    </tr>\n",
       "    <tr>\n",
       "      <th>4</th>\n",
       "      <td>3.</td>\n",
       "      <td>RODC</td>\n",
       "      <td>C</td>\n",
       "      <td>10</td>\n",
       "      <td>rodné číslo</td>\n",
       "      <td>modulo, tvar,</td>\n",
       "    </tr>\n",
       "    <tr>\n",
       "      <th>5</th>\n",
       "      <td>4.</td>\n",
       "      <td>STATB</td>\n",
       "      <td>C</td>\n",
       "      <td>3</td>\n",
       "      <td>stát trvalého pobytu</td>\n",
       "      <td>číselníky</td>\n",
       "    </tr>\n",
       "    <tr>\n",
       "      <th>6</th>\n",
       "      <td>5.</td>\n",
       "      <td>OBECB</td>\n",
       "      <td>C</td>\n",
       "      <td>6</td>\n",
       "      <td>obec trvalého pobytu</td>\n",
       "      <td>číselníky</td>\n",
       "    </tr>\n",
       "    <tr>\n",
       "      <th>7</th>\n",
       "      <td>6.</td>\n",
       "      <td>PSCB</td>\n",
       "      <td>C</td>\n",
       "      <td>5</td>\n",
       "      <td>PSČ trvalého pobytu</td>\n",
       "      <td>číselník</td>\n",
       "    </tr>\n",
       "    <tr>\n",
       "      <th>8</th>\n",
       "      <td>7.</td>\n",
       "      <td>STAT</td>\n",
       "      <td>C</td>\n",
       "      <td>3</td>\n",
       "      <td>státní příslušnost uchazeče</td>\n",
       "      <td>číselník</td>\n",
       "    </tr>\n",
       "    <tr>\n",
       "      <th>9</th>\n",
       "      <td>8.</td>\n",
       "      <td>ODHL</td>\n",
       "      <td>C</td>\n",
       "      <td>1</td>\n",
       "      <td>odkud se uchazeč hlásí</td>\n",
       "      <td>číselník, RMAT</td>\n",
       "    </tr>\n",
       "    <tr>\n",
       "      <th>10</th>\n",
       "      <td>9.</td>\n",
       "      <td>IZOS</td>\n",
       "      <td>C</td>\n",
       "      <td>9</td>\n",
       "      <td>identifikátor střední školy</td>\n",
       "      <td>registrace, RMAT</td>\n",
       "    </tr>\n",
       "    <tr>\n",
       "      <th>11</th>\n",
       "      <td>10.</td>\n",
       "      <td>OBSS</td>\n",
       "      <td>C</td>\n",
       "      <td>8</td>\n",
       "      <td>obor studia na střední škole</td>\n",
       "      <td>registrace, IZOS, RMAT</td>\n",
       "    </tr>\n",
       "    <tr>\n",
       "      <th>12</th>\n",
       "      <td>11.</td>\n",
       "      <td>RMAT</td>\n",
       "      <td>C</td>\n",
       "      <td>4</td>\n",
       "      <td>rok maturity</td>\n",
       "      <td>registrace, IZOS, ODHL</td>\n",
       "    </tr>\n",
       "    <tr>\n",
       "      <th>13</th>\n",
       "      <td>12.</td>\n",
       "      <td>TYP_ST</td>\n",
       "      <td>C</td>\n",
       "      <td>1</td>\n",
       "      <td>typ studia</td>\n",
       "      <td>číselník, (SIMS)</td>\n",
       "    </tr>\n",
       "    <tr>\n",
       "      <th>14</th>\n",
       "      <td>13.</td>\n",
       "      <td>FORMA_ST</td>\n",
       "      <td>C</td>\n",
       "      <td>1</td>\n",
       "      <td>forma studia</td>\n",
       "      <td>číselník, (SIMS)</td>\n",
       "    </tr>\n",
       "    <tr>\n",
       "      <th>15</th>\n",
       "      <td>14.</td>\n",
       "      <td>PROGRAM</td>\n",
       "      <td>C</td>\n",
       "      <td>12</td>\n",
       "      <td>studijní program</td>\n",
       "      <td>číselník, (SIMS)</td>\n",
       "    </tr>\n",
       "    <tr>\n",
       "      <th>16</th>\n",
       "      <td>15.</td>\n",
       "      <td>OBOR1</td>\n",
       "      <td>C</td>\n",
       "      <td>8</td>\n",
       "      <td>studijní obor</td>\n",
       "      <td>číselník, (SIMS)</td>\n",
       "    </tr>\n",
       "    <tr>\n",
       "      <th>17</th>\n",
       "      <td>16.</td>\n",
       "      <td>OBOR2</td>\n",
       "      <td>C</td>\n",
       "      <td>8</td>\n",
       "      <td>studijní obor</td>\n",
       "      <td>číselník, (SIMS)</td>\n",
       "    </tr>\n",
       "    <tr>\n",
       "      <th>18</th>\n",
       "      <td>17.</td>\n",
       "      <td>OBOR3</td>\n",
       "      <td>C</td>\n",
       "      <td>8</td>\n",
       "      <td>studijní obor</td>\n",
       "      <td>číselník, (SIMS)</td>\n",
       "    </tr>\n",
       "    <tr>\n",
       "      <th>19</th>\n",
       "      <td>18.</td>\n",
       "      <td>OBOR4</td>\n",
       "      <td>C</td>\n",
       "      <td>8</td>\n",
       "      <td>studijní obor</td>\n",
       "      <td>číselník, (SIMS)</td>\n",
       "    </tr>\n",
       "    <tr>\n",
       "      <th>20</th>\n",
       "      <td>19.</td>\n",
       "      <td>OBOR5</td>\n",
       "      <td>C</td>\n",
       "      <td>8</td>\n",
       "      <td>studijní obor</td>\n",
       "      <td>číselník, (SIMS)</td>\n",
       "    </tr>\n",
       "    <tr>\n",
       "      <th>21</th>\n",
       "      <td>20.</td>\n",
       "      <td>APRO1</td>\n",
       "      <td>C</td>\n",
       "      <td>2</td>\n",
       "      <td>aprobace</td>\n",
       "      <td>číselník, OBORx, (SIMS)</td>\n",
       "    </tr>\n",
       "    <tr>\n",
       "      <th>22</th>\n",
       "      <td>21.</td>\n",
       "      <td>APRO2</td>\n",
       "      <td>C</td>\n",
       "      <td>2</td>\n",
       "      <td>aprobace</td>\n",
       "      <td>číselník, OBORx, (SIMS)</td>\n",
       "    </tr>\n",
       "    <tr>\n",
       "      <th>23</th>\n",
       "      <td>22.</td>\n",
       "      <td>APRO3</td>\n",
       "      <td>C</td>\n",
       "      <td>2</td>\n",
       "      <td>aprobace</td>\n",
       "      <td>číselník, OBORx, (SIMS)</td>\n",
       "    </tr>\n",
       "    <tr>\n",
       "      <th>24</th>\n",
       "      <td>23.</td>\n",
       "      <td>DAT_REG</td>\n",
       "      <td>C</td>\n",
       "      <td>8</td>\n",
       "      <td>datum podání (registrace) přihlášky</td>\n",
       "      <td>číselník</td>\n",
       "    </tr>\n",
       "    <tr>\n",
       "      <th>25</th>\n",
       "      <td>24.</td>\n",
       "      <td>VYPR</td>\n",
       "      <td>C</td>\n",
       "      <td>2</td>\n",
       "      <td>výsledek přijímacího řízení</td>\n",
       "      <td>číselník</td>\n",
       "    </tr>\n",
       "    <tr>\n",
       "      <th>26</th>\n",
       "      <td>25.</td>\n",
       "      <td>DAT_VYPR</td>\n",
       "      <td>C</td>\n",
       "      <td>8</td>\n",
       "      <td>datum rozhodnutí o výsledku přijímacího řízení</td>\n",
       "      <td>číselník, VYPR</td>\n",
       "    </tr>\n",
       "    <tr>\n",
       "      <th>27</th>\n",
       "      <td>26.</td>\n",
       "      <td>ZAPS</td>\n",
       "      <td>C</td>\n",
       "      <td>1</td>\n",
       "      <td>výsledek zápisu</td>\n",
       "      <td>číselník, VYPR, (SIMS)</td>\n",
       "    </tr>\n",
       "    <tr>\n",
       "      <th>28</th>\n",
       "      <td>27.</td>\n",
       "      <td>DAT_ZAPS</td>\n",
       "      <td>C</td>\n",
       "      <td>8</td>\n",
       "      <td>datum zápisu</td>\n",
       "      <td>číselník, ZAPS, (SIMS)</td>\n",
       "    </tr>\n",
       "  </tbody>\n",
       "</table>\n",
       "</div>"
      ],
      "text/plain": [
       "1  pořadové číslo Název položky typ délka  \\\n",
       "2              1.          RDAT   C     8   \n",
       "3              2.           RID   C     5   \n",
       "4              3.          RODC   C    10   \n",
       "5              4.         STATB   C     3   \n",
       "6              5.         OBECB   C     6   \n",
       "7              6.          PSCB   C     5   \n",
       "8              7.          STAT   C     3   \n",
       "9              8.          ODHL   C     1   \n",
       "10             9.          IZOS   C     9   \n",
       "11            10.          OBSS   C     8   \n",
       "12            11.          RMAT   C     4   \n",
       "13            12.        TYP_ST   C     1   \n",
       "14            13.      FORMA_ST   C     1   \n",
       "15            14.       PROGRAM   C    12   \n",
       "16            15.         OBOR1   C     8   \n",
       "17            16.         OBOR2   C     8   \n",
       "18            17.         OBOR3   C     8   \n",
       "19            18.         OBOR4   C     8   \n",
       "20            19.         OBOR5   C     8   \n",
       "21            20.         APRO1   C     2   \n",
       "22            21.         APRO2   C     2   \n",
       "23            22.         APRO3   C     2   \n",
       "24            23.       DAT_REG   C     8   \n",
       "25            24.          VYPR   C     2   \n",
       "26            25.      DAT_VYPR   C     8   \n",
       "27            26.          ZAPS   C     1   \n",
       "28            27.      DAT_ZAPS   C     8   \n",
       "\n",
       "1                                    Popis položky                 kontrola  \n",
       "2                             rozhodné datum sběru                      NaN  \n",
       "3                            identifikátor fakulty               registrace  \n",
       "4                                      rodné číslo            modulo, tvar,  \n",
       "5                             stát trvalého pobytu                číselníky  \n",
       "6                             obec trvalého pobytu                číselníky  \n",
       "7                              PSČ trvalého pobytu                 číselník  \n",
       "8                      státní příslušnost uchazeče                 číselník  \n",
       "9                           odkud se uchazeč hlásí           číselník, RMAT  \n",
       "10                     identifikátor střední školy         registrace, RMAT  \n",
       "11                    obor studia na střední škole   registrace, IZOS, RMAT  \n",
       "12                                    rok maturity   registrace, IZOS, ODHL  \n",
       "13                                      typ studia         číselník, (SIMS)  \n",
       "14                                    forma studia         číselník, (SIMS)  \n",
       "15                                studijní program         číselník, (SIMS)  \n",
       "16                                   studijní obor         číselník, (SIMS)  \n",
       "17                                   studijní obor         číselník, (SIMS)  \n",
       "18                                   studijní obor         číselník, (SIMS)  \n",
       "19                                   studijní obor         číselník, (SIMS)  \n",
       "20                                   studijní obor         číselník, (SIMS)  \n",
       "21                                        aprobace  číselník, OBORx, (SIMS)  \n",
       "22                                        aprobace  číselník, OBORx, (SIMS)  \n",
       "23                                        aprobace  číselník, OBORx, (SIMS)  \n",
       "24             datum podání (registrace) přihlášky                 číselník  \n",
       "25                     výsledek přijímacího řízení                 číselník  \n",
       "26  datum rozhodnutí o výsledku přijímacího řízení           číselník, VYPR  \n",
       "27                                 výsledek zápisu   číselník, VYPR, (SIMS)  \n",
       "28                                    datum zápisu   číselník, ZAPS, (SIMS)  "
      ]
     },
     "execution_count": 16,
     "metadata": {},
     "output_type": "execute_result"
    }
   ],
   "source": [
    "popis"
   ]
  },
  {
   "cell_type": "code",
   "execution_count": 12,
   "id": "34c1d4a7-5136-4786-86a7-25ce939bd126",
   "metadata": {},
   "outputs": [
    {
     "data": {
      "text/html": [
       "<div>\n",
       "<style scoped>\n",
       "    .dataframe tbody tr th:only-of-type {\n",
       "        vertical-align: middle;\n",
       "    }\n",
       "\n",
       "    .dataframe tbody tr th {\n",
       "        vertical-align: top;\n",
       "    }\n",
       "\n",
       "    .dataframe thead th {\n",
       "        text-align: right;\n",
       "    }\n",
       "</style>\n",
       "<table border=\"1\" class=\"dataframe\">\n",
       "  <thead>\n",
       "    <tr style=\"text-align: right;\">\n",
       "      <th></th>\n",
       "      <th>IDC</th>\n",
       "      <th>KOD</th>\n",
       "      <th>ZKR</th>\n",
       "      <th>TXT</th>\n",
       "      <th>DATZP</th>\n",
       "      <th>DATKP</th>\n",
       "      <th>SPC</th>\n",
       "      <th>POZN</th>\n",
       "    </tr>\n",
       "  </thead>\n",
       "  <tbody>\n",
       "    <tr>\n",
       "      <th>0</th>\n",
       "      <td>AAST</td>\n",
       "      <td>0</td>\n",
       "      <td>Zatím nezjištěno</td>\n",
       "      <td>Zatím nezjištěno</td>\n",
       "      <td>1.1.2000</td>\n",
       "      <td>31.12.2999</td>\n",
       "      <td>***************</td>\n",
       "      <td>pouze pro prezentaci</td>\n",
       "    </tr>\n",
       "    <tr>\n",
       "      <th>1</th>\n",
       "      <td>AAST</td>\n",
       "      <td>4</td>\n",
       "      <td>Afghánistán</td>\n",
       "      <td>Afghánská islámská republika</td>\n",
       "      <td>1.7.2014</td>\n",
       "      <td>31.12.2999</td>\n",
       "      <td>AFAFG601  5166020</td>\n",
       "      <td>None</td>\n",
       "    </tr>\n",
       "    <tr>\n",
       "      <th>2</th>\n",
       "      <td>AAST</td>\n",
       "      <td>8</td>\n",
       "      <td>Albánie</td>\n",
       "      <td>Albánská republika</td>\n",
       "      <td>5.5.2005</td>\n",
       "      <td>31.12.2999</td>\n",
       "      <td>ALALB111  4107015</td>\n",
       "      <td>None</td>\n",
       "    </tr>\n",
       "    <tr>\n",
       "      <th>3</th>\n",
       "      <td>AAST</td>\n",
       "      <td>10</td>\n",
       "      <td>Antarktida</td>\n",
       "      <td>Antarktida</td>\n",
       "      <td>5.5.2005</td>\n",
       "      <td>31.12.2999</td>\n",
       "      <td>AQATA961  5089150</td>\n",
       "      <td>None</td>\n",
       "    </tr>\n",
       "    <tr>\n",
       "      <th>4</th>\n",
       "      <td>AAST</td>\n",
       "      <td>12</td>\n",
       "      <td>Alžírsko</td>\n",
       "      <td>Alžírská demokratická a lidová republika</td>\n",
       "      <td>1.1.2011</td>\n",
       "      <td>31.12.2999</td>\n",
       "      <td>DZDZA701  5120830</td>\n",
       "      <td>None</td>\n",
       "    </tr>\n",
       "  </tbody>\n",
       "</table>\n",
       "</div>"
      ],
      "text/plain": [
       "    IDC  KOD               ZKR                                       TXT  \\\n",
       "0  AAST    0  Zatím nezjištěno                          Zatím nezjištěno   \n",
       "1  AAST    4       Afghánistán              Afghánská islámská republika   \n",
       "2  AAST    8           Albánie                        Albánská republika   \n",
       "3  AAST   10        Antarktida                                Antarktida   \n",
       "4  AAST   12          Alžírsko  Alžírská demokratická a lidová republika   \n",
       "\n",
       "      DATZP       DATKP                SPC                  POZN  \n",
       "0  1.1.2000  31.12.2999    ***************  pouze pro prezentaci  \n",
       "1  1.7.2014  31.12.2999  AFAFG601  5166020                  None  \n",
       "2  5.5.2005  31.12.2999  ALALB111  4107015                  None  \n",
       "3  5.5.2005  31.12.2999  AQATA961  5089150                  None  \n",
       "4  1.1.2011  31.12.2999  DZDZA701  5120830                  None  "
      ]
     },
     "execution_count": 12,
     "metadata": {},
     "output_type": "execute_result"
    }
   ],
   "source": [
    "# státy - číselník AAST - sloupce STATB, STAT\n",
    "aast_xml = 'http://stistko.uiv.cz/katalog/textdata/C213436AAST.xml'\n",
    "aast = pd.read_xml(aast_xml, encoding='cp1250', xpath='./veta')\n",
    "aast.head()"
   ]
  },
  {
   "cell_type": "code",
   "execution_count": 13,
   "id": "91819577-bd0d-4159-bc53-2d01f5262287",
   "metadata": {},
   "outputs": [
    {
     "data": {
      "text/html": [
       "<div>\n",
       "<style scoped>\n",
       "    .dataframe tbody tr th:only-of-type {\n",
       "        vertical-align: middle;\n",
       "    }\n",
       "\n",
       "    .dataframe tbody tr th {\n",
       "        vertical-align: top;\n",
       "    }\n",
       "\n",
       "    .dataframe thead th {\n",
       "        text-align: right;\n",
       "    }\n",
       "</style>\n",
       "<table border=\"1\" class=\"dataframe\">\n",
       "  <thead>\n",
       "    <tr style=\"text-align: right;\">\n",
       "      <th></th>\n",
       "      <th>KOD</th>\n",
       "      <th>NAZEV</th>\n",
       "      <th>OKRES</th>\n",
       "      <th>NAZOKRES</th>\n",
       "      <th>NAZKRAJ</th>\n",
       "      <th>PSC</th>\n",
       "      <th>POSTA</th>\n",
       "      <th>LAU1</th>\n",
       "    </tr>\n",
       "  </thead>\n",
       "  <tbody>\n",
       "    <tr>\n",
       "      <th>0</th>\n",
       "      <td>500011</td>\n",
       "      <td>Želechovice nad Dřevnicí</td>\n",
       "      <td>3705</td>\n",
       "      <td>Zlín</td>\n",
       "      <td>Zlínský kraj</td>\n",
       "      <td>76311</td>\n",
       "      <td>Želechovice nad Dřevnicí</td>\n",
       "      <td>CZ0724</td>\n",
       "    </tr>\n",
       "    <tr>\n",
       "      <th>1</th>\n",
       "      <td>500020</td>\n",
       "      <td>Petrov nad Desnou</td>\n",
       "      <td>3809</td>\n",
       "      <td>Šumperk</td>\n",
       "      <td>Olomoucký kraj</td>\n",
       "      <td>78814</td>\n",
       "      <td>Rapotín</td>\n",
       "      <td>CZ0715</td>\n",
       "    </tr>\n",
       "    <tr>\n",
       "      <th>2</th>\n",
       "      <td>500020</td>\n",
       "      <td>Petrov nad Desnou</td>\n",
       "      <td>3809</td>\n",
       "      <td>Šumperk</td>\n",
       "      <td>Olomoucký kraj</td>\n",
       "      <td>78816</td>\n",
       "      <td>Petrov nad Desnou</td>\n",
       "      <td>CZ0715</td>\n",
       "    </tr>\n",
       "    <tr>\n",
       "      <th>3</th>\n",
       "      <td>500046</td>\n",
       "      <td>Libhošť</td>\n",
       "      <td>3804</td>\n",
       "      <td>Nový Jičín</td>\n",
       "      <td>Moravskoslezský kraj</td>\n",
       "      <td>74257</td>\n",
       "      <td>Libhošť</td>\n",
       "      <td>CZ0804</td>\n",
       "    </tr>\n",
       "    <tr>\n",
       "      <th>4</th>\n",
       "      <td>500062</td>\n",
       "      <td>Krhová</td>\n",
       "      <td>3810</td>\n",
       "      <td>Vsetín</td>\n",
       "      <td>Zlínský kraj</td>\n",
       "      <td>75663</td>\n",
       "      <td>Krhová</td>\n",
       "      <td>CZ0723</td>\n",
       "    </tr>\n",
       "  </tbody>\n",
       "</table>\n",
       "</div>"
      ],
      "text/plain": [
       "      KOD                                          NAZEV  OKRES  \\\n",
       "0  500011  Želechovice nad Dřevnicí                        3705   \n",
       "1  500020  Petrov nad Desnou                               3809   \n",
       "2  500020  Petrov nad Desnou                               3809   \n",
       "3  500046  Libhošť                                         3804   \n",
       "4  500062  Krhová                                          3810   \n",
       "\n",
       "                                        NAZOKRES  \\\n",
       "0  Zlín                                            \n",
       "1  Šumperk                                         \n",
       "2  Šumperk                                         \n",
       "3  Nový Jičín                                      \n",
       "4  Vsetín                                          \n",
       "\n",
       "                                         NAZKRAJ    PSC  \\\n",
       "0  Zlínský kraj                                   76311   \n",
       "1  Olomoucký kraj                                 78814   \n",
       "2  Olomoucký kraj                                 78816   \n",
       "3  Moravskoslezský kraj                           74257   \n",
       "4  Zlínský kraj                                   75663   \n",
       "\n",
       "                                           POSTA    LAU1  \n",
       "0  Želechovice nad Dřevnicí                       CZ0724  \n",
       "1  Rapotín                                        CZ0715  \n",
       "2  Petrov nad Desnou                              CZ0715  \n",
       "3  Libhošť                                        CZ0804  \n",
       "4  Krhová                                         CZ0723  "
      ]
     },
     "execution_count": 13,
     "metadata": {},
     "output_type": "execute_result"
    }
   ],
   "source": [
    "# pscobec - sloupce OBECB, PSCB\n",
    "# reálně je nejspíš nepotřebujeme\n",
    "\n",
    "# with dbf.Table(f'{data_root}/uchazec/pscobec.dbf') as table:\n",
    "#     dbf.export(table, f'{data_root}/uchazec/pscobec.csv')\n",
    "    \n",
    "pscobec = pd.read_csv(f'{data_root}/uchazec/pscobec.csv', encoding='cp1250')\n",
    "pscobec.head()"
   ]
  },
  {
   "cell_type": "code",
   "execution_count": 15,
   "id": "43a684ed-3a9a-475e-a45f-644f72a6a10f",
   "metadata": {},
   "outputs": [
    {
     "data": {
      "text/html": [
       "<div>\n",
       "<style scoped>\n",
       "    .dataframe tbody tr th:only-of-type {\n",
       "        vertical-align: middle;\n",
       "    }\n",
       "\n",
       "    .dataframe tbody tr th {\n",
       "        vertical-align: top;\n",
       "    }\n",
       "\n",
       "    .dataframe thead th {\n",
       "        text-align: right;\n",
       "    }\n",
       "</style>\n",
       "<table border=\"1\" class=\"dataframe\">\n",
       "  <thead>\n",
       "    <tr style=\"text-align: right;\">\n",
       "      <th></th>\n",
       "      <th>IDC</th>\n",
       "      <th>KOD</th>\n",
       "      <th>ZKR</th>\n",
       "      <th>TXT</th>\n",
       "      <th>DATZP</th>\n",
       "      <th>DATKP</th>\n",
       "      <th>SPC</th>\n",
       "      <th>POZN</th>\n",
       "    </tr>\n",
       "  </thead>\n",
       "  <tbody>\n",
       "    <tr>\n",
       "      <th>0</th>\n",
       "      <td>MCPP</td>\n",
       "      <td>1</td>\n",
       "      <td>Základní škola</td>\n",
       "      <td>Základní škola</td>\n",
       "      <td>15.4.1993</td>\n",
       "      <td>31.12.2999</td>\n",
       "      <td>NaN</td>\n",
       "      <td>NaN</td>\n",
       "    </tr>\n",
       "    <tr>\n",
       "      <th>1</th>\n",
       "      <td>MCPP</td>\n",
       "      <td>2</td>\n",
       "      <td>Střední škola</td>\n",
       "      <td>Střední škola</td>\n",
       "      <td>15.4.1993</td>\n",
       "      <td>31.12.2999</td>\n",
       "      <td>NaN</td>\n",
       "      <td>NaN</td>\n",
       "    </tr>\n",
       "    <tr>\n",
       "      <th>2</th>\n",
       "      <td>MCPP</td>\n",
       "      <td>3</td>\n",
       "      <td>Zaměstnání</td>\n",
       "      <td>Zaměstnání</td>\n",
       "      <td>15.4.1993</td>\n",
       "      <td>31.12.2999</td>\n",
       "      <td>NaN</td>\n",
       "      <td>NaN</td>\n",
       "    </tr>\n",
       "    <tr>\n",
       "      <th>3</th>\n",
       "      <td>MCPP</td>\n",
       "      <td>4</td>\n",
       "      <td>Domácnost</td>\n",
       "      <td>Domácnost</td>\n",
       "      <td>15.4.1993</td>\n",
       "      <td>31.12.2999</td>\n",
       "      <td>NaN</td>\n",
       "      <td>NaN</td>\n",
       "    </tr>\n",
       "    <tr>\n",
       "      <th>4</th>\n",
       "      <td>MCPP</td>\n",
       "      <td>6</td>\n",
       "      <td>Vyšší odborná škola</td>\n",
       "      <td>Vyšší odborná škola</td>\n",
       "      <td>30.6.1997</td>\n",
       "      <td>31.12.2999</td>\n",
       "      <td>NaN</td>\n",
       "      <td>NaN</td>\n",
       "    </tr>\n",
       "    <tr>\n",
       "      <th>5</th>\n",
       "      <td>MCPP</td>\n",
       "      <td>7</td>\n",
       "      <td>Vysoká škola</td>\n",
       "      <td>Vysoká škola</td>\n",
       "      <td>1.7.1997</td>\n",
       "      <td>31.12.2999</td>\n",
       "      <td>NaN</td>\n",
       "      <td>NaN</td>\n",
       "    </tr>\n",
       "    <tr>\n",
       "      <th>6</th>\n",
       "      <td>MCPP</td>\n",
       "      <td>8</td>\n",
       "      <td>Přichází přes DZS</td>\n",
       "      <td>Přichází přes Dům zahraničních služeb</td>\n",
       "      <td>21.1.1994</td>\n",
       "      <td>31.12.2999</td>\n",
       "      <td>NaN</td>\n",
       "      <td>NaN</td>\n",
       "    </tr>\n",
       "    <tr>\n",
       "      <th>7</th>\n",
       "      <td>MCPP</td>\n",
       "      <td>9</td>\n",
       "      <td>Jiné</td>\n",
       "      <td>Jiné</td>\n",
       "      <td>15.4.1993</td>\n",
       "      <td>31.12.2999</td>\n",
       "      <td>NaN</td>\n",
       "      <td>NaN</td>\n",
       "    </tr>\n",
       "    <tr>\n",
       "      <th>8</th>\n",
       "      <td>MCPP</td>\n",
       "      <td>C</td>\n",
       "      <td>Celoživ.vzdělávání VŠ</td>\n",
       "      <td>Program celoživotního vzdělávání na VŠ</td>\n",
       "      <td>1.1.2013</td>\n",
       "      <td>31.12.2999</td>\n",
       "      <td>NaN</td>\n",
       "      <td>NaN</td>\n",
       "    </tr>\n",
       "  </tbody>\n",
       "</table>\n",
       "</div>"
      ],
      "text/plain": [
       "    IDC KOD                    ZKR                                     TXT  \\\n",
       "0  MCPP   1         Základní škola                          Základní škola   \n",
       "1  MCPP   2          Střední škola                           Střední škola   \n",
       "2  MCPP   3             Zaměstnání                              Zaměstnání   \n",
       "3  MCPP   4              Domácnost                               Domácnost   \n",
       "4  MCPP   6    Vyšší odborná škola                     Vyšší odborná škola   \n",
       "5  MCPP   7           Vysoká škola                            Vysoká škola   \n",
       "6  MCPP   8      Přichází přes DZS   Přichází přes Dům zahraničních služeb   \n",
       "7  MCPP   9                   Jiné                                    Jiné   \n",
       "8  MCPP   C  Celoživ.vzdělávání VŠ  Program celoživotního vzdělávání na VŠ   \n",
       "\n",
       "       DATZP       DATKP  SPC  POZN  \n",
       "0  15.4.1993  31.12.2999  NaN   NaN  \n",
       "1  15.4.1993  31.12.2999  NaN   NaN  \n",
       "2  15.4.1993  31.12.2999  NaN   NaN  \n",
       "3  15.4.1993  31.12.2999  NaN   NaN  \n",
       "4  30.6.1997  31.12.2999  NaN   NaN  \n",
       "5   1.7.1997  31.12.2999  NaN   NaN  \n",
       "6  21.1.1994  31.12.2999  NaN   NaN  \n",
       "7  15.4.1993  31.12.2999  NaN   NaN  \n",
       "8   1.1.2013  31.12.2999  NaN   NaN  "
      ]
     },
     "execution_count": 15,
     "metadata": {},
     "output_type": "execute_result"
    }
   ],
   "source": [
    "# odkud se uchazeč hlásí - číselník MCPP - sloupec ODHL\n",
    "mcpp_xml = 'http://stistko.uiv.cz/katalog/textdata/C213729MCPP.xml'\n",
    "mcpp = pd.read_xml(mcpp_xml, encoding='cp1250', xpath='./veta')\n",
    "mcpp"
   ]
  },
  {
   "cell_type": "code",
   "execution_count": 17,
   "id": "18f97d23-e731-441d-a9af-01f5d3d646b5",
   "metadata": {},
   "outputs": [
    {
     "data": {
      "text/html": [
       "<div>\n",
       "<style scoped>\n",
       "    .dataframe tbody tr th:only-of-type {\n",
       "        vertical-align: middle;\n",
       "    }\n",
       "\n",
       "    .dataframe tbody tr th {\n",
       "        vertical-align: top;\n",
       "    }\n",
       "\n",
       "    .dataframe thead th {\n",
       "        text-align: right;\n",
       "    }\n",
       "</style>\n",
       "<table border=\"1\" class=\"dataframe\">\n",
       "  <thead>\n",
       "    <tr style=\"text-align: right;\">\n",
       "      <th></th>\n",
       "      <th>IDC</th>\n",
       "      <th>KOD</th>\n",
       "      <th>ZKR</th>\n",
       "      <th>TXT</th>\n",
       "      <th>DATZP</th>\n",
       "      <th>DATKP</th>\n",
       "      <th>SPC</th>\n",
       "      <th>POZN</th>\n",
       "    </tr>\n",
       "  </thead>\n",
       "  <tbody>\n",
       "    <tr>\n",
       "      <th>0</th>\n",
       "      <td>PASP</td>\n",
       "      <td>B</td>\n",
       "      <td>Bakalářský</td>\n",
       "      <td>Bakalářský</td>\n",
       "      <td>1.9.1999</td>\n",
       "      <td>31.12.2999</td>\n",
       "      <td>NaN</td>\n",
       "      <td>NaN</td>\n",
       "    </tr>\n",
       "    <tr>\n",
       "      <th>1</th>\n",
       "      <td>PASP</td>\n",
       "      <td>D</td>\n",
       "      <td>Doktorský</td>\n",
       "      <td>Doktorský</td>\n",
       "      <td>1.9.1999</td>\n",
       "      <td>31.12.2999</td>\n",
       "      <td>NaN</td>\n",
       "      <td>NaN</td>\n",
       "    </tr>\n",
       "    <tr>\n",
       "      <th>2</th>\n",
       "      <td>PASP</td>\n",
       "      <td>M</td>\n",
       "      <td>Magisterský</td>\n",
       "      <td>Magisterský</td>\n",
       "      <td>1.9.1999</td>\n",
       "      <td>31.12.2999</td>\n",
       "      <td>NaN</td>\n",
       "      <td>NaN</td>\n",
       "    </tr>\n",
       "    <tr>\n",
       "      <th>3</th>\n",
       "      <td>PASP</td>\n",
       "      <td>N</td>\n",
       "      <td>Magist.navaz.na bakalář.</td>\n",
       "      <td>Magisterský navazující na bakalářský</td>\n",
       "      <td>1.9.1999</td>\n",
       "      <td>31.12.2999</td>\n",
       "      <td>NaN</td>\n",
       "      <td>NaN</td>\n",
       "    </tr>\n",
       "  </tbody>\n",
       "</table>\n",
       "</div>"
      ],
      "text/plain": [
       "    IDC KOD                       ZKR                                   TXT  \\\n",
       "0  PASP   B                Bakalářský                            Bakalářský   \n",
       "1  PASP   D                 Doktorský                             Doktorský   \n",
       "2  PASP   M               Magisterský                           Magisterský   \n",
       "3  PASP   N  Magist.navaz.na bakalář.  Magisterský navazující na bakalářský   \n",
       "\n",
       "      DATZP       DATKP  SPC  POZN  \n",
       "0  1.9.1999  31.12.2999  NaN   NaN  \n",
       "1  1.9.1999  31.12.2999  NaN   NaN  \n",
       "2  1.9.1999  31.12.2999  NaN   NaN  \n",
       "3  1.9.1999  31.12.2999  NaN   NaN  "
      ]
     },
     "execution_count": 17,
     "metadata": {},
     "output_type": "execute_result"
    }
   ],
   "source": [
    "# typ studia - číselník PASP - sloupec TYP_ST\n",
    "pasp_xml = 'http://stistko.uiv.cz/katalog/textdata/C214019PASP.xml'\n",
    "pasp = pd.read_xml(pasp_xml, encoding='cp1250', xpath='./veta')\n",
    "pasp"
   ]
  },
  {
   "cell_type": "code",
   "execution_count": 19,
   "id": "cff00dc4-205b-489f-ae34-0d73473dc300",
   "metadata": {},
   "outputs": [
    {
     "data": {
      "text/html": [
       "<div>\n",
       "<style scoped>\n",
       "    .dataframe tbody tr th:only-of-type {\n",
       "        vertical-align: middle;\n",
       "    }\n",
       "\n",
       "    .dataframe tbody tr th {\n",
       "        vertical-align: top;\n",
       "    }\n",
       "\n",
       "    .dataframe thead th {\n",
       "        text-align: right;\n",
       "    }\n",
       "</style>\n",
       "<table border=\"1\" class=\"dataframe\">\n",
       "  <thead>\n",
       "    <tr style=\"text-align: right;\">\n",
       "      <th></th>\n",
       "      <th>IDC</th>\n",
       "      <th>KOD</th>\n",
       "      <th>ZKR</th>\n",
       "      <th>TXT</th>\n",
       "      <th>DATZP</th>\n",
       "      <th>DATKP</th>\n",
       "      <th>SPC</th>\n",
       "      <th>POZN</th>\n",
       "    </tr>\n",
       "  </thead>\n",
       "  <tbody>\n",
       "    <tr>\n",
       "      <th>0</th>\n",
       "      <td>PAFS</td>\n",
       "      <td>D</td>\n",
       "      <td>Distanční</td>\n",
       "      <td>Distanční</td>\n",
       "      <td>1.9.1999</td>\n",
       "      <td>31.12.2999</td>\n",
       "      <td>NaN</td>\n",
       "      <td>NaN</td>\n",
       "    </tr>\n",
       "    <tr>\n",
       "      <th>1</th>\n",
       "      <td>PAFS</td>\n",
       "      <td>K</td>\n",
       "      <td>Kombinované</td>\n",
       "      <td>Kombinované</td>\n",
       "      <td>1.9.1999</td>\n",
       "      <td>31.12.2999</td>\n",
       "      <td>NaN</td>\n",
       "      <td>NaN</td>\n",
       "    </tr>\n",
       "    <tr>\n",
       "      <th>2</th>\n",
       "      <td>PAFS</td>\n",
       "      <td>P</td>\n",
       "      <td>Prezenční</td>\n",
       "      <td>Prezenční</td>\n",
       "      <td>1.9.1999</td>\n",
       "      <td>31.12.2999</td>\n",
       "      <td>NaN</td>\n",
       "      <td>NaN</td>\n",
       "    </tr>\n",
       "  </tbody>\n",
       "</table>\n",
       "</div>"
      ],
      "text/plain": [
       "    IDC KOD          ZKR          TXT     DATZP       DATKP  SPC  POZN\n",
       "0  PAFS   D    Distanční    Distanční  1.9.1999  31.12.2999  NaN   NaN\n",
       "1  PAFS   K  Kombinované  Kombinované  1.9.1999  31.12.2999  NaN   NaN\n",
       "2  PAFS   P    Prezenční    Prezenční  1.9.1999  31.12.2999  NaN   NaN"
      ]
     },
     "execution_count": 19,
     "metadata": {},
     "output_type": "execute_result"
    }
   ],
   "source": [
    "# forma studia - číselník PAFS - sloupec FORMA_ST\n",
    "pafs_xml = 'http://stistko.uiv.cz/katalog/textdata/C214048PAFS.xml'\n",
    "pafs = pd.read_xml(pafs_xml, encoding='cp1250', xpath='./veta')\n",
    "pafs"
   ]
  },
  {
   "cell_type": "code",
   "execution_count": 21,
   "id": "5dbd9272-d80c-44ee-a876-1e1d0682481b",
   "metadata": {},
   "outputs": [
    {
     "data": {
      "text/html": [
       "<div>\n",
       "<style scoped>\n",
       "    .dataframe tbody tr th:only-of-type {\n",
       "        vertical-align: middle;\n",
       "    }\n",
       "\n",
       "    .dataframe tbody tr th {\n",
       "        vertical-align: top;\n",
       "    }\n",
       "\n",
       "    .dataframe thead th {\n",
       "        text-align: right;\n",
       "    }\n",
       "</style>\n",
       "<table border=\"1\" class=\"dataframe\">\n",
       "  <thead>\n",
       "    <tr style=\"text-align: right;\">\n",
       "      <th></th>\n",
       "      <th>IDC</th>\n",
       "      <th>KOD</th>\n",
       "      <th>ZKR</th>\n",
       "      <th>TXT</th>\n",
       "      <th>DATZP</th>\n",
       "      <th>DATKP</th>\n",
       "      <th>SPC</th>\n",
       "      <th>POZN</th>\n",
       "    </tr>\n",
       "  </thead>\n",
       "  <tbody>\n",
       "    <tr>\n",
       "      <th>0</th>\n",
       "      <td>AKVO</td>\n",
       "      <td>1101R006</td>\n",
       "      <td>Deskriptivní geometrie</td>\n",
       "      <td>Deskriptivní geometrie</td>\n",
       "      <td>1.1.2003</td>\n",
       "      <td>31.12.2999</td>\n",
       "      <td>None</td>\n",
       "      <td>None</td>\n",
       "    </tr>\n",
       "    <tr>\n",
       "      <th>1</th>\n",
       "      <td>AKVO</td>\n",
       "      <td>1101R008</td>\n",
       "      <td>Diskrétní matematika</td>\n",
       "      <td>Diskrétní matematika</td>\n",
       "      <td>1.1.2003</td>\n",
       "      <td>31.12.2999</td>\n",
       "      <td>None</td>\n",
       "      <td>None</td>\n",
       "    </tr>\n",
       "    <tr>\n",
       "      <th>2</th>\n",
       "      <td>AKVO</td>\n",
       "      <td>1101R014</td>\n",
       "      <td>Matematická analýza</td>\n",
       "      <td>Matematická analýza</td>\n",
       "      <td>1.1.2003</td>\n",
       "      <td>31.12.2999</td>\n",
       "      <td>11047</td>\n",
       "      <td>None</td>\n",
       "    </tr>\n",
       "    <tr>\n",
       "      <th>3</th>\n",
       "      <td>AKVO</td>\n",
       "      <td>1101R016</td>\n",
       "      <td>Matematika</td>\n",
       "      <td>Matematika</td>\n",
       "      <td>1.1.2003</td>\n",
       "      <td>31.12.2999</td>\n",
       "      <td>11617</td>\n",
       "      <td>None</td>\n",
       "    </tr>\n",
       "    <tr>\n",
       "      <th>4</th>\n",
       "      <td>AKVO</td>\n",
       "      <td>1101R018</td>\n",
       "      <td>Matem.,aplikace(analýza)</td>\n",
       "      <td>Matematika a její aplikace (zaměření matematic...</td>\n",
       "      <td>1.1.2003</td>\n",
       "      <td>31.12.2999</td>\n",
       "      <td>None</td>\n",
       "      <td>None</td>\n",
       "    </tr>\n",
       "  </tbody>\n",
       "</table>\n",
       "</div>"
      ],
      "text/plain": [
       "    IDC       KOD                       ZKR  \\\n",
       "0  AKVO  1101R006    Deskriptivní geometrie   \n",
       "1  AKVO  1101R008      Diskrétní matematika   \n",
       "2  AKVO  1101R014       Matematická analýza   \n",
       "3  AKVO  1101R016                Matematika   \n",
       "4  AKVO  1101R018  Matem.,aplikace(analýza)   \n",
       "\n",
       "                                                 TXT     DATZP       DATKP  \\\n",
       "0                             Deskriptivní geometrie  1.1.2003  31.12.2999   \n",
       "1                               Diskrétní matematika  1.1.2003  31.12.2999   \n",
       "2                                Matematická analýza  1.1.2003  31.12.2999   \n",
       "3                                         Matematika  1.1.2003  31.12.2999   \n",
       "4  Matematika a její aplikace (zaměření matematic...  1.1.2003  31.12.2999   \n",
       "\n",
       "     SPC  POZN  \n",
       "0   None  None  \n",
       "1   None  None  \n",
       "2  11047  None  \n",
       "3  11617  None  \n",
       "4   None  None  "
      ]
     },
     "execution_count": 21,
     "metadata": {},
     "output_type": "execute_result"
    }
   ],
   "source": [
    "# obor - číselník AKVO - sloupce OBOR[1-5]\n",
    "akvo_xml = 'http://stistko.uiv.cz/katalog/textdata/C214117AKVO.xml'\n",
    "akvo = pd.read_xml(akvo_xml, encoding='cp1250', xpath='./veta')\n",
    "akvo.head()"
   ]
  },
  {
   "cell_type": "code",
   "execution_count": 105,
   "id": "78961681-9028-4144-8db1-60ee21f120ce",
   "metadata": {},
   "outputs": [
    {
     "data": {
      "text/plain": [
       "(6218, 8)"
      ]
     },
     "execution_count": 105,
     "metadata": {},
     "output_type": "execute_result"
    }
   ],
   "source": [
    "akvo.shape"
   ]
  },
  {
   "cell_type": "code",
   "execution_count": 23,
   "id": "ffbcc129-4049-4160-a767-a1686cbd7ebc",
   "metadata": {},
   "outputs": [
    {
     "data": {
      "text/html": [
       "<div>\n",
       "<style scoped>\n",
       "    .dataframe tbody tr th:only-of-type {\n",
       "        vertical-align: middle;\n",
       "    }\n",
       "\n",
       "    .dataframe tbody tr th {\n",
       "        vertical-align: top;\n",
       "    }\n",
       "\n",
       "    .dataframe thead th {\n",
       "        text-align: right;\n",
       "    }\n",
       "</style>\n",
       "<table border=\"1\" class=\"dataframe\">\n",
       "  <thead>\n",
       "    <tr style=\"text-align: right;\">\n",
       "      <th></th>\n",
       "      <th>IDC</th>\n",
       "      <th>KOD</th>\n",
       "      <th>ZKR</th>\n",
       "      <th>TXT</th>\n",
       "      <th>DATZP</th>\n",
       "      <th>DATKP</th>\n",
       "      <th>SPC</th>\n",
       "      <th>POZN</th>\n",
       "    </tr>\n",
       "  </thead>\n",
       "  <tbody>\n",
       "    <tr>\n",
       "      <th>0</th>\n",
       "      <td>MCPR</td>\n",
       "      <td>10</td>\n",
       "      <td>Přijat na zákl.přij.zk.</td>\n",
       "      <td>Přijat na základě přijímací zkoušky</td>\n",
       "      <td>1.1.2001</td>\n",
       "      <td>31.12.2999</td>\n",
       "      <td>NaN</td>\n",
       "      <td>NaN</td>\n",
       "    </tr>\n",
       "    <tr>\n",
       "      <th>1</th>\n",
       "      <td>MCPR</td>\n",
       "      <td>11</td>\n",
       "      <td>Přijat bez přij.zkoušky</td>\n",
       "      <td>Přijat bez přijímací zkoušky</td>\n",
       "      <td>1.1.2001</td>\n",
       "      <td>31.12.2999</td>\n",
       "      <td>NaN</td>\n",
       "      <td>NaN</td>\n",
       "    </tr>\n",
       "    <tr>\n",
       "      <th>2</th>\n",
       "      <td>MCPR</td>\n",
       "      <td>12</td>\n",
       "      <td>Přijat po odvol.,dodateč.</td>\n",
       "      <td>Přijat dodatečně (po odvolání, po přezkumném ř...</td>\n",
       "      <td>1.1.2001</td>\n",
       "      <td>31.12.2999</td>\n",
       "      <td>NaN</td>\n",
       "      <td>NaN</td>\n",
       "    </tr>\n",
       "    <tr>\n",
       "      <th>3</th>\n",
       "      <td>MCPR</td>\n",
       "      <td>14</td>\n",
       "      <td>Přijat přestupem</td>\n",
       "      <td>Přijat z předchozího vysokoškolského studia (p...</td>\n",
       "      <td>1.11.2019</td>\n",
       "      <td>31.12.2999</td>\n",
       "      <td>NaN</td>\n",
       "      <td>NaN</td>\n",
       "    </tr>\n",
       "    <tr>\n",
       "      <th>4</th>\n",
       "      <td>MCPR</td>\n",
       "      <td>15</td>\n",
       "      <td>Přijat z CŽV</td>\n",
       "      <td>Přijat z kurzů celoživotního vzdělávání</td>\n",
       "      <td>1.11.2019</td>\n",
       "      <td>31.12.2999</td>\n",
       "      <td>NaN</td>\n",
       "      <td>NaN</td>\n",
       "    </tr>\n",
       "    <tr>\n",
       "      <th>5</th>\n",
       "      <td>MCPR</td>\n",
       "      <td>20</td>\n",
       "      <td>Nepřijat-neprosp.přij.zk.</td>\n",
       "      <td>Nepřijat pro neprospěch u přijímací zkoušky</td>\n",
       "      <td>1.1.2001</td>\n",
       "      <td>31.12.2999</td>\n",
       "      <td>NaN</td>\n",
       "      <td>NaN</td>\n",
       "    </tr>\n",
       "    <tr>\n",
       "      <th>6</th>\n",
       "      <td>MCPR</td>\n",
       "      <td>22</td>\n",
       "      <td>Nepřijat-nedost.kapac.ob.</td>\n",
       "      <td>Nepřijat pro nedostačující kapacitu oboru/stud...</td>\n",
       "      <td>1.1.2001</td>\n",
       "      <td>31.12.2999</td>\n",
       "      <td>NaN</td>\n",
       "      <td>NaN</td>\n",
       "    </tr>\n",
       "    <tr>\n",
       "      <th>7</th>\n",
       "      <td>MCPR</td>\n",
       "      <td>23</td>\n",
       "      <td>Nepřijat-nedost.vzdělání</td>\n",
       "      <td>Nepřijat pro nedoložení požadovaného předchozí...</td>\n",
       "      <td>1.11.2019</td>\n",
       "      <td>31.12.2999</td>\n",
       "      <td>NaN</td>\n",
       "      <td>NaN</td>\n",
       "    </tr>\n",
       "    <tr>\n",
       "      <th>8</th>\n",
       "      <td>MCPR</td>\n",
       "      <td>24</td>\n",
       "      <td>Nepřijat-další podmínky</td>\n",
       "      <td>Nepřijat pro nesplnění dalších podmínek přijetí</td>\n",
       "      <td>1.11.2019</td>\n",
       "      <td>31.12.2999</td>\n",
       "      <td>NaN</td>\n",
       "      <td>NaN</td>\n",
       "    </tr>\n",
       "    <tr>\n",
       "      <th>9</th>\n",
       "      <td>MCPR</td>\n",
       "      <td>30</td>\n",
       "      <td>Př.řiz.zrušeno,nedost.uch</td>\n",
       "      <td>Přijímací řízení zrušeno pro nedostatek uchazečů</td>\n",
       "      <td>5.11.2009</td>\n",
       "      <td>31.12.2999</td>\n",
       "      <td>NaN</td>\n",
       "      <td>NaN</td>\n",
       "    </tr>\n",
       "    <tr>\n",
       "      <th>10</th>\n",
       "      <td>MCPR</td>\n",
       "      <td>32</td>\n",
       "      <td>Př.říz.zruš.-admin.důvody</td>\n",
       "      <td>Přijímací řízení zrušeno z administrativních d...</td>\n",
       "      <td>1.1.2013</td>\n",
       "      <td>31.12.2999</td>\n",
       "      <td>NaN</td>\n",
       "      <td>NaN</td>\n",
       "    </tr>\n",
       "    <tr>\n",
       "      <th>11</th>\n",
       "      <td>MCPR</td>\n",
       "      <td>90</td>\n",
       "      <td>Nedostavil se k přij.říz.</td>\n",
       "      <td>Nedostavil se k přijímacímu řízení</td>\n",
       "      <td>15.4.1993</td>\n",
       "      <td>31.12.2999</td>\n",
       "      <td>NaN</td>\n",
       "      <td>NaN</td>\n",
       "    </tr>\n",
       "  </tbody>\n",
       "</table>\n",
       "</div>"
      ],
      "text/plain": [
       "     IDC  KOD                        ZKR  \\\n",
       "0   MCPR   10    Přijat na zákl.přij.zk.   \n",
       "1   MCPR   11    Přijat bez přij.zkoušky   \n",
       "2   MCPR   12  Přijat po odvol.,dodateč.   \n",
       "3   MCPR   14           Přijat přestupem   \n",
       "4   MCPR   15               Přijat z CŽV   \n",
       "5   MCPR   20  Nepřijat-neprosp.přij.zk.   \n",
       "6   MCPR   22  Nepřijat-nedost.kapac.ob.   \n",
       "7   MCPR   23   Nepřijat-nedost.vzdělání   \n",
       "8   MCPR   24    Nepřijat-další podmínky   \n",
       "9   MCPR   30  Př.řiz.zrušeno,nedost.uch   \n",
       "10  MCPR   32  Př.říz.zruš.-admin.důvody   \n",
       "11  MCPR   90  Nedostavil se k přij.říz.   \n",
       "\n",
       "                                                  TXT      DATZP       DATKP  \\\n",
       "0                 Přijat na základě přijímací zkoušky   1.1.2001  31.12.2999   \n",
       "1                        Přijat bez přijímací zkoušky   1.1.2001  31.12.2999   \n",
       "2   Přijat dodatečně (po odvolání, po přezkumném ř...   1.1.2001  31.12.2999   \n",
       "3   Přijat z předchozího vysokoškolského studia (p...  1.11.2019  31.12.2999   \n",
       "4             Přijat z kurzů celoživotního vzdělávání  1.11.2019  31.12.2999   \n",
       "5         Nepřijat pro neprospěch u přijímací zkoušky   1.1.2001  31.12.2999   \n",
       "6   Nepřijat pro nedostačující kapacitu oboru/stud...   1.1.2001  31.12.2999   \n",
       "7   Nepřijat pro nedoložení požadovaného předchozí...  1.11.2019  31.12.2999   \n",
       "8     Nepřijat pro nesplnění dalších podmínek přijetí  1.11.2019  31.12.2999   \n",
       "9    Přijímací řízení zrušeno pro nedostatek uchazečů  5.11.2009  31.12.2999   \n",
       "10  Přijímací řízení zrušeno z administrativních d...   1.1.2013  31.12.2999   \n",
       "11                 Nedostavil se k přijímacímu řízení  15.4.1993  31.12.2999   \n",
       "\n",
       "    SPC  POZN  \n",
       "0   NaN   NaN  \n",
       "1   NaN   NaN  \n",
       "2   NaN   NaN  \n",
       "3   NaN   NaN  \n",
       "4   NaN   NaN  \n",
       "5   NaN   NaN  \n",
       "6   NaN   NaN  \n",
       "7   NaN   NaN  \n",
       "8   NaN   NaN  \n",
       "9   NaN   NaN  \n",
       "10  NaN   NaN  \n",
       "11  NaN   NaN  "
      ]
     },
     "execution_count": 23,
     "metadata": {},
     "output_type": "execute_result"
    }
   ],
   "source": [
    "# výsledek přijímacího řízení - číselník MCPR - sloupec VYPR\n",
    "mcpr_xml = 'http://stistko.uiv.cz/katalog/textdata/C214147MCPR.xml'\n",
    "mcpr = pd.read_xml(mcpr_xml, encoding='cp1250', xpath='./veta')\n",
    "mcpr"
   ]
  },
  {
   "cell_type": "code",
   "execution_count": 24,
   "id": "4ac58d5b-6fec-463e-9071-25af60a612d2",
   "metadata": {},
   "outputs": [
    {
     "data": {
      "text/html": [
       "<div>\n",
       "<style scoped>\n",
       "    .dataframe tbody tr th:only-of-type {\n",
       "        vertical-align: middle;\n",
       "    }\n",
       "\n",
       "    .dataframe tbody tr th {\n",
       "        vertical-align: top;\n",
       "    }\n",
       "\n",
       "    .dataframe thead th {\n",
       "        text-align: right;\n",
       "    }\n",
       "</style>\n",
       "<table border=\"1\" class=\"dataframe\">\n",
       "  <thead>\n",
       "    <tr style=\"text-align: right;\">\n",
       "      <th></th>\n",
       "      <th>IDC</th>\n",
       "      <th>KOD</th>\n",
       "      <th>ZKR</th>\n",
       "      <th>TXT</th>\n",
       "      <th>DATZP</th>\n",
       "      <th>DATKP</th>\n",
       "      <th>SPC</th>\n",
       "      <th>POZN</th>\n",
       "    </tr>\n",
       "  </thead>\n",
       "  <tbody>\n",
       "    <tr>\n",
       "      <th>0</th>\n",
       "      <td>MCZR</td>\n",
       "      <td>0</td>\n",
       "      <td>Uchazeč nebyl přijat</td>\n",
       "      <td>Uchazeč nebyl přijat</td>\n",
       "      <td>15.4.1993</td>\n",
       "      <td>31.12.2999</td>\n",
       "      <td>NaN</td>\n",
       "      <td>NaN</td>\n",
       "    </tr>\n",
       "    <tr>\n",
       "      <th>1</th>\n",
       "      <td>MCZR</td>\n",
       "      <td>1</td>\n",
       "      <td>Uchazeč se zapsal</td>\n",
       "      <td>Uchazeč se zapsal</td>\n",
       "      <td>15.4.1993</td>\n",
       "      <td>31.12.2999</td>\n",
       "      <td>NaN</td>\n",
       "      <td>NaN</td>\n",
       "    </tr>\n",
       "    <tr>\n",
       "      <th>2</th>\n",
       "      <td>MCZR</td>\n",
       "      <td>2</td>\n",
       "      <td>Uchazeč se nezapsal</td>\n",
       "      <td>Uchazeč se nezapsal</td>\n",
       "      <td>15.4.1993</td>\n",
       "      <td>31.12.2999</td>\n",
       "      <td>NaN</td>\n",
       "      <td>NaN</td>\n",
       "    </tr>\n",
       "  </tbody>\n",
       "</table>\n",
       "</div>"
      ],
      "text/plain": [
       "    IDC  KOD                   ZKR                   TXT      DATZP  \\\n",
       "0  MCZR    0  Uchazeč nebyl přijat  Uchazeč nebyl přijat  15.4.1993   \n",
       "1  MCZR    1     Uchazeč se zapsal     Uchazeč se zapsal  15.4.1993   \n",
       "2  MCZR    2   Uchazeč se nezapsal   Uchazeč se nezapsal  15.4.1993   \n",
       "\n",
       "        DATKP  SPC  POZN  \n",
       "0  31.12.2999  NaN   NaN  \n",
       "1  31.12.2999  NaN   NaN  \n",
       "2  31.12.2999  NaN   NaN  "
      ]
     },
     "execution_count": 24,
     "metadata": {},
     "output_type": "execute_result"
    }
   ],
   "source": [
    "# výsledek zápisu - číselník MCZR - sloupec ZAPS\n",
    "mczr_xml = 'http://stistko.uiv.cz/katalog/textdata/C21427MCZR.xml'\n",
    "mczr = pd.read_xml(mczr_xml, encoding='cp1250', xpath='./veta')\n",
    "mczr"
   ]
  },
  {
   "cell_type": "code",
   "execution_count": 25,
   "id": "a21978a4-852c-47a5-80d8-8ae7f737127b",
   "metadata": {},
   "outputs": [
    {
     "data": {
      "text/html": [
       "<div>\n",
       "<style scoped>\n",
       "    .dataframe tbody tr th:only-of-type {\n",
       "        vertical-align: middle;\n",
       "    }\n",
       "\n",
       "    .dataframe tbody tr th {\n",
       "        vertical-align: top;\n",
       "    }\n",
       "\n",
       "    .dataframe thead th {\n",
       "        text-align: right;\n",
       "    }\n",
       "</style>\n",
       "<table border=\"1\" class=\"dataframe\">\n",
       "  <thead>\n",
       "    <tr style=\"text-align: right;\">\n",
       "      <th></th>\n",
       "      <th>IDC</th>\n",
       "      <th>KOD</th>\n",
       "      <th>ZKR</th>\n",
       "      <th>TXT</th>\n",
       "      <th>DATZP</th>\n",
       "      <th>DATKP</th>\n",
       "      <th>SPC</th>\n",
       "      <th>POZN</th>\n",
       "    </tr>\n",
       "  </thead>\n",
       "  <tbody>\n",
       "    <tr>\n",
       "      <th>0</th>\n",
       "      <td>AAAP</td>\n",
       "      <td>1</td>\n",
       "      <td>Předměty pro 1.stupeň ZŠ</td>\n",
       "      <td>Předměty a metodiky předmětů pro 1. stupeň zák...</td>\n",
       "      <td>15.4.1993</td>\n",
       "      <td>31.12.2999</td>\n",
       "      <td>1ST</td>\n",
       "      <td>NaN</td>\n",
       "    </tr>\n",
       "    <tr>\n",
       "      <th>1</th>\n",
       "      <td>AAAP</td>\n",
       "      <td>2</td>\n",
       "      <td>Český jazyk</td>\n",
       "      <td>Český jazyk</td>\n",
       "      <td>15.4.1993</td>\n",
       "      <td>31.12.2999</td>\n",
       "      <td>CJ</td>\n",
       "      <td>NaN</td>\n",
       "    </tr>\n",
       "    <tr>\n",
       "      <th>2</th>\n",
       "      <td>AAAP</td>\n",
       "      <td>3</td>\n",
       "      <td>Slovenský jazyk</td>\n",
       "      <td>Slovenský jazyk</td>\n",
       "      <td>15.4.1993</td>\n",
       "      <td>31.12.2999</td>\n",
       "      <td>SJ</td>\n",
       "      <td>NaN</td>\n",
       "    </tr>\n",
       "    <tr>\n",
       "      <th>3</th>\n",
       "      <td>AAAP</td>\n",
       "      <td>4</td>\n",
       "      <td>Maďarský jazyk</td>\n",
       "      <td>Maďarský jazyk</td>\n",
       "      <td>15.4.1993</td>\n",
       "      <td>31.12.2999</td>\n",
       "      <td>MJ</td>\n",
       "      <td>NaN</td>\n",
       "    </tr>\n",
       "    <tr>\n",
       "      <th>4</th>\n",
       "      <td>AAAP</td>\n",
       "      <td>5</td>\n",
       "      <td>Polský jazyk</td>\n",
       "      <td>Polský jazyk</td>\n",
       "      <td>15.4.1993</td>\n",
       "      <td>31.12.2999</td>\n",
       "      <td>PJ</td>\n",
       "      <td>NaN</td>\n",
       "    </tr>\n",
       "  </tbody>\n",
       "</table>\n",
       "</div>"
      ],
      "text/plain": [
       "    IDC  KOD                       ZKR  \\\n",
       "0  AAAP    1  Předměty pro 1.stupeň ZŠ   \n",
       "1  AAAP    2               Český jazyk   \n",
       "2  AAAP    3           Slovenský jazyk   \n",
       "3  AAAP    4            Maďarský jazyk   \n",
       "4  AAAP    5              Polský jazyk   \n",
       "\n",
       "                                                 TXT      DATZP       DATKP  \\\n",
       "0  Předměty a metodiky předmětů pro 1. stupeň zák...  15.4.1993  31.12.2999   \n",
       "1                                        Český jazyk  15.4.1993  31.12.2999   \n",
       "2                                    Slovenský jazyk  15.4.1993  31.12.2999   \n",
       "3                                     Maďarský jazyk  15.4.1993  31.12.2999   \n",
       "4                                       Polský jazyk  15.4.1993  31.12.2999   \n",
       "\n",
       "   SPC  POZN  \n",
       "0  1ST   NaN  \n",
       "1   CJ   NaN  \n",
       "2   SJ   NaN  \n",
       "3   MJ   NaN  \n",
       "4   PJ   NaN  "
      ]
     },
     "execution_count": 25,
     "metadata": {},
     "output_type": "execute_result"
    }
   ],
   "source": [
    "# aprobace - číselník AAAP - sloupce APRO[1-3]\n",
    "aaap_xml = 'http://stistko.uiv.cz/katalog/textdata/C214234AAAP.xml'\n",
    "aaap = pd.read_xml(aaap_xml, encoding='cp1250', xpath='./veta')\n",
    "aaap.head()"
   ]
  },
  {
   "cell_type": "code",
   "execution_count": 26,
   "id": "0e66a9d2-b790-4b63-888f-d7052573871d",
   "metadata": {},
   "outputs": [
    {
     "data": {
      "text/plain": [
       "array(['   ', '07 ', '23 ', '32 ', '02 ', '45 ', '80 ', '09 ', '37 ',\n",
       "       '33 ', '30 ', '26 ', '08 ', '29 ', '50 ', '06 ', '12 ', '22 ',\n",
       "       '16 ', '21 ', '62 ', '05 ', '35 ', '15 ', '11 '], dtype=object)"
      ]
     },
     "execution_count": 26,
     "metadata": {},
     "output_type": "execute_result"
    }
   ],
   "source": [
    "# ok, toto vypadá dobře\n",
    "df['APRO1'].unique()"
   ]
  },
  {
   "cell_type": "markdown",
   "id": "ba9ad6cc-0be4-4928-abfd-34bab4bfec66",
   "metadata": {},
   "source": [
    "## Číselníky z programů..."
   ]
  },
  {
   "cell_type": "markdown",
   "id": "fb4534ec-994e-43fc-b7d5-1c089008ac12",
   "metadata": {},
   "source": [
    "Lze stáhnout kontrolní program z https://dsia.msmt.cz/program.html - ten obsahuje složku \"cisel\", v ní jsou ty chybějící .dbf číselníky..."
   ]
  },
  {
   "cell_type": "code",
   "execution_count": 27,
   "id": "ee3c8dd9-507b-4d8f-8504-985cc81453d1",
   "metadata": {},
   "outputs": [
    {
     "data": {
      "text/html": [
       "<div>\n",
       "<style scoped>\n",
       "    .dataframe tbody tr th:only-of-type {\n",
       "        vertical-align: middle;\n",
       "    }\n",
       "\n",
       "    .dataframe tbody tr th {\n",
       "        vertical-align: top;\n",
       "    }\n",
       "\n",
       "    .dataframe thead th {\n",
       "        text-align: right;\n",
       "    }\n",
       "</style>\n",
       "<table border=\"1\" class=\"dataframe\">\n",
       "  <thead>\n",
       "    <tr style=\"text-align: right;\">\n",
       "      <th></th>\n",
       "      <th>RID</th>\n",
       "      <th>ZAR_PLN</th>\n",
       "      <th>VS_PLN</th>\n",
       "      <th>ZAR_NAZ</th>\n",
       "      <th>PSC</th>\n",
       "      <th>MISTO</th>\n",
       "      <th>ULICE</th>\n",
       "      <th>CP</th>\n",
       "      <th>SUZEMI</th>\n",
       "      <th>UZEMI</th>\n",
       "      <th>VS_ZKR</th>\n",
       "      <th>DAT_VZN</th>\n",
       "      <th>DAT_ZAH</th>\n",
       "      <th>DAT_AKT</th>\n",
       "      <th>DAT_KON</th>\n",
       "      <th>ID_FNAM</th>\n",
       "      <th>ID_SUCH</th>\n",
       "    </tr>\n",
       "  </thead>\n",
       "  <tbody>\n",
       "    <tr>\n",
       "      <th>0</th>\n",
       "      <td>12520</td>\n",
       "      <td>Fakulta rybářství a ochrany vod               ...</td>\n",
       "      <td>Jihočeská univerzita v Českých Budějovicích   ...</td>\n",
       "      <td>Fakulta rybářství a ochrany vod</td>\n",
       "      <td>389 25</td>\n",
       "      <td>Vodňany</td>\n",
       "      <td>Zátiší 728/II</td>\n",
       "      <td></td>\n",
       "      <td>3307</td>\n",
       "      <td>CZ0316</td>\n",
       "      <td>JU v Českých Budějovicích</td>\n",
       "      <td>2009-09-01</td>\n",
       "      <td>2009-09-01</td>\n",
       "      <td>None</td>\n",
       "      <td>None</td>\n",
       "      <td>BP0</td>\n",
       "      <td>1252</td>\n",
       "    </tr>\n",
       "    <tr>\n",
       "      <th>1</th>\n",
       "      <td>19510</td>\n",
       "      <td>Fakulta veřejných politik v Opavě             ...</td>\n",
       "      <td>Slezská univerzita v Opavě                    ...</td>\n",
       "      <td>Fakulta veřejných politik v Opavě</td>\n",
       "      <td>746 01</td>\n",
       "      <td>Opava</td>\n",
       "      <td>Olbrichova 625/25</td>\n",
       "      <td></td>\n",
       "      <td>3806</td>\n",
       "      <td>CZ0815</td>\n",
       "      <td>SU v Opavě</td>\n",
       "      <td>2008-10-01</td>\n",
       "      <td>2008-10-01</td>\n",
       "      <td>2010-06-21</td>\n",
       "      <td>None</td>\n",
       "      <td>IC0</td>\n",
       "      <td>1951</td>\n",
       "    </tr>\n",
       "    <tr>\n",
       "      <th>2</th>\n",
       "      <td>41320</td>\n",
       "      <td>Fakulta lesnická a dřevařská                  ...</td>\n",
       "      <td>Česká zemědělská univerzita v Praze           ...</td>\n",
       "      <td>Fakulta lesnická a dřevařská</td>\n",
       "      <td>165 21</td>\n",
       "      <td>Praha 6 - Suchdol</td>\n",
       "      <td>Kamýcká 1176</td>\n",
       "      <td></td>\n",
       "      <td>3106</td>\n",
       "      <td>CZ0116</td>\n",
       "      <td>ČZU v Praze</td>\n",
       "      <td>2007-07-01</td>\n",
       "      <td>None</td>\n",
       "      <td>2009-04-21</td>\n",
       "      <td>None</td>\n",
       "      <td>RF0</td>\n",
       "      <td>4132</td>\n",
       "    </tr>\n",
       "    <tr>\n",
       "      <th>3</th>\n",
       "      <td>15120</td>\n",
       "      <td>Fakulta zdravotnických věd                    ...</td>\n",
       "      <td>Univerzita Palackého v Olomouci               ...</td>\n",
       "      <td>Fakulta zdravotnických věd</td>\n",
       "      <td>771 26</td>\n",
       "      <td>Olomouc 1</td>\n",
       "      <td>tř. Svobody 8</td>\n",
       "      <td></td>\n",
       "      <td>3805</td>\n",
       "      <td>CZ0712</td>\n",
       "      <td>UP v Olomouci</td>\n",
       "      <td>None</td>\n",
       "      <td>None</td>\n",
       "      <td>None</td>\n",
       "      <td>None</td>\n",
       "      <td>ER0</td>\n",
       "      <td>1512</td>\n",
       "    </tr>\n",
       "    <tr>\n",
       "      <th>4</th>\n",
       "      <td>23310</td>\n",
       "      <td>Fakulta zdravotnických studií                 ...</td>\n",
       "      <td>Západočeská univerzita v Plzni                ...</td>\n",
       "      <td>Fakulta zdravotnických studií</td>\n",
       "      <td>306 14</td>\n",
       "      <td>Plzeň</td>\n",
       "      <td>Univerzitní 8</td>\n",
       "      <td></td>\n",
       "      <td>3405</td>\n",
       "      <td>CZ0323</td>\n",
       "      <td>ZČU v Plzni</td>\n",
       "      <td>2008-07-08</td>\n",
       "      <td>2008-07-08</td>\n",
       "      <td>None</td>\n",
       "      <td>None</td>\n",
       "      <td>LY0</td>\n",
       "      <td>2331</td>\n",
       "    </tr>\n",
       "  </tbody>\n",
       "</table>\n",
       "</div>"
      ],
      "text/plain": [
       "     RID                                            ZAR_PLN  \\\n",
       "0  12520  Fakulta rybářství a ochrany vod               ...   \n",
       "1  19510  Fakulta veřejných politik v Opavě             ...   \n",
       "2  41320  Fakulta lesnická a dřevařská                  ...   \n",
       "3  15120  Fakulta zdravotnických věd                    ...   \n",
       "4  23310  Fakulta zdravotnických studií                 ...   \n",
       "\n",
       "                                              VS_PLN  \\\n",
       "0  Jihočeská univerzita v Českých Budějovicích   ...   \n",
       "1  Slezská univerzita v Opavě                    ...   \n",
       "2  Česká zemědělská univerzita v Praze           ...   \n",
       "3  Univerzita Palackého v Olomouci               ...   \n",
       "4  Západočeská univerzita v Plzni                ...   \n",
       "\n",
       "                                    ZAR_NAZ     PSC  \\\n",
       "0  Fakulta rybářství a ochrany vod           389 25   \n",
       "1  Fakulta veřejných politik v Opavě         746 01   \n",
       "2  Fakulta lesnická a dřevařská              165 21   \n",
       "3  Fakulta zdravotnických věd                771 26   \n",
       "4  Fakulta zdravotnických studií             306 14   \n",
       "\n",
       "                                      MISTO  \\\n",
       "0  Vodňany                                    \n",
       "1  Opava                                      \n",
       "2  Praha 6 - Suchdol                          \n",
       "3  Olomouc 1                                  \n",
       "4  Plzeň                                      \n",
       "\n",
       "                                      ULICE     CP  SUZEMI   UZEMI  \\\n",
       "0  Zátiší 728/II                                      3307  CZ0316   \n",
       "1  Olbrichova 625/25                                  3806  CZ0815   \n",
       "2  Kamýcká 1176                                       3106  CZ0116   \n",
       "3  tř. Svobody 8                                      3805  CZ0712   \n",
       "4  Univerzitní 8                                      3405  CZ0323   \n",
       "\n",
       "                      VS_ZKR     DAT_VZN     DAT_ZAH     DAT_AKT DAT_KON  \\\n",
       "0  JU v Českých Budějovicích  2009-09-01  2009-09-01        None    None   \n",
       "1  SU v Opavě                 2008-10-01  2008-10-01  2010-06-21    None   \n",
       "2  ČZU v Praze                2007-07-01        None  2009-04-21    None   \n",
       "3  UP v Olomouci                    None        None        None    None   \n",
       "4  ZČU v Plzni                2008-07-08  2008-07-08        None    None   \n",
       "\n",
       "  ID_FNAM ID_SUCH  \n",
       "0     BP0    1252  \n",
       "1     IC0    1951  \n",
       "2     RF0    4132  \n",
       "3     ER0    1512  \n",
       "4     LY0    2331  "
      ]
     },
     "execution_count": 27,
     "metadata": {},
     "output_type": "execute_result"
    }
   ],
   "source": [
    "# fakulty - číselník regpro.dbf - sloupec RID\n",
    "\n",
    "# with dbf.Table(f'{data_root}/uchazec/uch3-03-6/cisel/regpro.dbf') as table:\n",
    "#     dbf.export(table, f'{data_root}/uchazec/uch3-03-6/cisel/regpro.csv')\n",
    "    \n",
    "regpro = pd.read_csv(f'{data_root}/uchazec/uch3-03-6/cisel/regpro.csv', encoding='cp1250')\n",
    "regpro.head()"
   ]
  },
  {
   "cell_type": "code",
   "execution_count": 28,
   "id": "77d059bc-67cc-471b-bf9a-d251264791e2",
   "metadata": {},
   "outputs": [
    {
     "data": {
      "text/plain": [
       "(210, 17)"
      ]
     },
     "execution_count": 28,
     "metadata": {},
     "output_type": "execute_result"
    }
   ],
   "source": [
    "regpro.shape"
   ]
  },
  {
   "cell_type": "code",
   "execution_count": 29,
   "id": "8b25344a-4c1a-4f2b-9c71-c39930c1c474",
   "metadata": {},
   "outputs": [
    {
     "data": {
      "text/html": [
       "<div>\n",
       "<style scoped>\n",
       "    .dataframe tbody tr th:only-of-type {\n",
       "        vertical-align: middle;\n",
       "    }\n",
       "\n",
       "    .dataframe tbody tr th {\n",
       "        vertical-align: top;\n",
       "    }\n",
       "\n",
       "    .dataframe thead th {\n",
       "        text-align: right;\n",
       "    }\n",
       "</style>\n",
       "<table border=\"1\" class=\"dataframe\">\n",
       "  <thead>\n",
       "    <tr style=\"text-align: right;\">\n",
       "      <th></th>\n",
       "      <th>KOD</th>\n",
       "      <th>NAZEV</th>\n",
       "      <th>RID</th>\n",
       "    </tr>\n",
       "  </thead>\n",
       "  <tbody>\n",
       "    <tr>\n",
       "      <th>0</th>\n",
       "      <td>B0111A190001</td>\n",
       "      <td>Pedagogika                                    ...</td>\n",
       "      <td>14210</td>\n",
       "    </tr>\n",
       "    <tr>\n",
       "      <th>1</th>\n",
       "      <td>B0111A190002</td>\n",
       "      <td>Sociální pedagogika a volný čas               ...</td>\n",
       "      <td>14410</td>\n",
       "    </tr>\n",
       "    <tr>\n",
       "      <th>2</th>\n",
       "      <td>B0111A190003</td>\n",
       "      <td>Andragogika                                   ...</td>\n",
       "      <td>15210</td>\n",
       "    </tr>\n",
       "    <tr>\n",
       "      <th>3</th>\n",
       "      <td>B0111A190004</td>\n",
       "      <td>Andragogika a personální řízení               ...</td>\n",
       "      <td>11210</td>\n",
       "    </tr>\n",
       "    <tr>\n",
       "      <th>4</th>\n",
       "      <td>B0111A190005</td>\n",
       "      <td>Sociální pedagogika a poradenství             ...</td>\n",
       "      <td>14210</td>\n",
       "    </tr>\n",
       "  </tbody>\n",
       "</table>\n",
       "</div>"
      ],
      "text/plain": [
       "            KOD                                              NAZEV    RID\n",
       "0  B0111A190001  Pedagogika                                    ...  14210\n",
       "1  B0111A190002  Sociální pedagogika a volný čas               ...  14410\n",
       "2  B0111A190003  Andragogika                                   ...  15210\n",
       "3  B0111A190004  Andragogika a personální řízení               ...  11210\n",
       "4  B0111A190005  Sociální pedagogika a poradenství             ...  14210"
      ]
     },
     "execution_count": 29,
     "metadata": {},
     "output_type": "execute_result"
    }
   ],
   "source": [
    "# studijní program - číselník program.dbf - sloupec PROGRAM\n",
    "# toto je taky trochu mess, ale jde to spojit\n",
    "\n",
    "# with dbf.Table(f'{data_root}/uchazec/uch3-03-6/cisel/program.dbf') as table:\n",
    "#     dbf.export(table, f'{data_root}/uchazec/uch3-03-6/cisel/program.csv')\n",
    "    \n",
    "program = pd.read_csv(f'{data_root}/uchazec/uch3-03-6/cisel/program.csv', encoding='cp1250')\n",
    "program.head()"
   ]
  },
  {
   "cell_type": "code",
   "execution_count": 147,
   "id": "d0cecb9a-fefb-4fa9-9b91-8a5cbe7c7d52",
   "metadata": {},
   "outputs": [
    {
     "data": {
      "text/plain": [
       "(2144, 3)"
      ]
     },
     "execution_count": 147,
     "metadata": {},
     "output_type": "execute_result"
    }
   ],
   "source": [
    "program.shape"
   ]
  },
  {
   "cell_type": "code",
   "execution_count": 30,
   "id": "5a3294b0-4826-42e4-9057-cf2cb7c5b903",
   "metadata": {},
   "outputs": [
    {
     "data": {
      "text/plain": [
       "0       B0111\n",
       "1       B0111\n",
       "2       B0111\n",
       "3       B0111\n",
       "4       B0111\n",
       "        ...  \n",
       "2139    B0923\n",
       "2140    B0715\n",
       "2141    B0715\n",
       "2142    B0716\n",
       "2143    B0114\n",
       "Name: KOD, Length: 2144, dtype: object"
      ]
     },
     "execution_count": 30,
     "metadata": {},
     "output_type": "execute_result"
    }
   ],
   "source": [
    "program['KOD'].str[:5]"
   ]
  },
  {
   "cell_type": "code",
   "execution_count": 151,
   "id": "183d2f56-ca1c-4ade-b825-4be7cb4bc3ad",
   "metadata": {},
   "outputs": [
    {
     "data": {
      "text/plain": [
       "0         True\n",
       "1         True\n",
       "2         True\n",
       "3         True\n",
       "19        True\n",
       "          ... \n",
       "60817     True\n",
       "66911     True\n",
       "111461    True\n",
       "177473    True\n",
       "202108    True\n",
       "Name: PROGRAM, Length: 223, dtype: bool"
      ]
     },
     "execution_count": 151,
     "metadata": {},
     "output_type": "execute_result"
    }
   ],
   "source": [
    "df['PROGRAM'].drop_duplicates().isin(program['KOD'].str[:5])"
   ]
  },
  {
   "cell_type": "code",
   "execution_count": 158,
   "id": "bdcdc5df-c65a-4386-978e-29f5e35bb3e0",
   "metadata": {},
   "outputs": [
    {
     "data": {
      "text/plain": [
       "223"
      ]
     },
     "execution_count": 158,
     "metadata": {},
     "output_type": "execute_result"
    }
   ],
   "source": [
    "df['PROGRAM'].drop_duplicates().isin(program['KOD'].str.replace(' ', '')).sum()"
   ]
  },
  {
   "cell_type": "code",
   "execution_count": 154,
   "id": "4bd40d88-70f4-4464-b3dc-812bd98a98b2",
   "metadata": {},
   "outputs": [
    {
     "data": {
      "text/plain": [
       "0         B6708\n",
       "1         B6107\n",
       "2         M5103\n",
       "3         M5111\n",
       "19        B2612\n",
       "          ...  \n",
       "60817     B3973\n",
       "66911     B2831\n",
       "111461    M2301\n",
       "177473    B1513\n",
       "202108    B3964\n",
       "Name: PROGRAM, Length: 223, dtype: object"
      ]
     },
     "execution_count": 154,
     "metadata": {},
     "output_type": "execute_result"
    }
   ],
   "source": [
    "df['PROGRAM'].drop_duplicates()"
   ]
  },
  {
   "cell_type": "code",
   "execution_count": 153,
   "id": "253e037f-bae8-4d86-a007-b8a761402869",
   "metadata": {},
   "outputs": [],
   "source": [
    "program.to_csv('temp/program.csv')"
   ]
  },
  {
   "cell_type": "code",
   "execution_count": 159,
   "id": "d39bbf51-2440-49df-8b89-f8ed8f82a61a",
   "metadata": {},
   "outputs": [
    {
     "data": {
      "text/html": [
       "<div>\n",
       "<style scoped>\n",
       "    .dataframe tbody tr th:only-of-type {\n",
       "        vertical-align: middle;\n",
       "    }\n",
       "\n",
       "    .dataframe tbody tr th {\n",
       "        vertical-align: top;\n",
       "    }\n",
       "\n",
       "    .dataframe thead th {\n",
       "        text-align: right;\n",
       "    }\n",
       "</style>\n",
       "<table border=\"1\" class=\"dataframe\">\n",
       "  <thead>\n",
       "    <tr style=\"text-align: right;\">\n",
       "      <th></th>\n",
       "      <th>IZO</th>\n",
       "      <th>OBOR</th>\n",
       "      <th>RMAT</th>\n",
       "    </tr>\n",
       "  </thead>\n",
       "  <tbody>\n",
       "    <tr>\n",
       "      <th>0</th>\n",
       "      <td>10189</td>\n",
       "      <td>2343L506</td>\n",
       "      <td>1999</td>\n",
       "    </tr>\n",
       "    <tr>\n",
       "      <th>1</th>\n",
       "      <td>10189</td>\n",
       "      <td>2343L506</td>\n",
       "      <td>2000</td>\n",
       "    </tr>\n",
       "    <tr>\n",
       "      <th>2</th>\n",
       "      <td>10189</td>\n",
       "      <td>2343L506</td>\n",
       "      <td>2002</td>\n",
       "    </tr>\n",
       "    <tr>\n",
       "      <th>3</th>\n",
       "      <td>10189</td>\n",
       "      <td>2343L506</td>\n",
       "      <td>2003</td>\n",
       "    </tr>\n",
       "    <tr>\n",
       "      <th>4</th>\n",
       "      <td>10189</td>\n",
       "      <td>2345L001</td>\n",
       "      <td>2001</td>\n",
       "    </tr>\n",
       "  </tbody>\n",
       "</table>\n",
       "</div>"
      ],
      "text/plain": [
       "     IZO      OBOR  RMAT\n",
       "0  10189  2343L506  1999\n",
       "1  10189  2343L506  2000\n",
       "2  10189  2343L506  2002\n",
       "3  10189  2343L506  2003\n",
       "4  10189  2345L001  2001"
      ]
     },
     "execution_count": 159,
     "metadata": {},
     "output_type": "execute_result"
    }
   ],
   "source": [
    "# střední školy - číselník izobrmat.dbf - sloupce IZOS, OBSS\n",
    "\n",
    "with dbf.Table(f'{data_root}/uchazec/uch3-03-6/cisel/izobrmat.dbf') as table:\n",
    "    dbf.export(table, f'{data_root}/uchazec/uch3-03-6/cisel/izobrmat.csv')\n",
    "    \n",
    "izobrmat = pd.read_csv(f'{data_root}/uchazec/uch3-03-6/cisel/izobrmat.csv', encoding='cp1250')\n",
    "izobrmat.head()"
   ]
  },
  {
   "cell_type": "code",
   "execution_count": 160,
   "id": "ff5c4c2f-a449-4c77-9f2e-a3d8aa824d98",
   "metadata": {},
   "outputs": [
    {
     "data": {
      "text/plain": [
       "(117926, 3)"
      ]
     },
     "execution_count": 160,
     "metadata": {},
     "output_type": "execute_result"
    }
   ],
   "source": [
    "izobrmat.shape"
   ]
  },
  {
   "cell_type": "code",
   "execution_count": 165,
   "id": "6323d87c-e589-48d7-8689-8684f53708c5",
   "metadata": {},
   "outputs": [
    {
     "data": {
      "text/html": [
       "<div>\n",
       "<style scoped>\n",
       "    .dataframe tbody tr th:only-of-type {\n",
       "        vertical-align: middle;\n",
       "    }\n",
       "\n",
       "    .dataframe tbody tr th {\n",
       "        vertical-align: top;\n",
       "    }\n",
       "\n",
       "    .dataframe thead th {\n",
       "        text-align: right;\n",
       "    }\n",
       "</style>\n",
       "<table border=\"1\" class=\"dataframe\">\n",
       "  <thead>\n",
       "    <tr style=\"text-align: right;\">\n",
       "      <th></th>\n",
       "      <th>IZO</th>\n",
       "      <th>ZARIZENI</th>\n",
       "      <th>MISTO</th>\n",
       "      <th>ULICE</th>\n",
       "      <th>CP</th>\n",
       "      <th>PSC</th>\n",
       "      <th>TYP</th>\n",
       "      <th>ZRIZ</th>\n",
       "      <th>AKT</th>\n",
       "    </tr>\n",
       "  </thead>\n",
       "  <tbody>\n",
       "    <tr>\n",
       "      <th>0</th>\n",
       "      <td>333333333</td>\n",
       "      <td>ISŠ</td>\n",
       "      <td></td>\n",
       "      <td></td>\n",
       "      <td></td>\n",
       "      <td></td>\n",
       "      <td>311</td>\n",
       "      <td></td>\n",
       "      <td>3</td>\n",
       "    </tr>\n",
       "    <tr>\n",
       "      <th>1</th>\n",
       "      <td>444444444</td>\n",
       "      <td>SOU</td>\n",
       "      <td></td>\n",
       "      <td></td>\n",
       "      <td></td>\n",
       "      <td></td>\n",
       "      <td>311</td>\n",
       "      <td></td>\n",
       "      <td>3</td>\n",
       "    </tr>\n",
       "    <tr>\n",
       "      <th>2</th>\n",
       "      <td>555555555</td>\n",
       "      <td>gymnázia</td>\n",
       "      <td></td>\n",
       "      <td></td>\n",
       "      <td></td>\n",
       "      <td></td>\n",
       "      <td>321</td>\n",
       "      <td></td>\n",
       "      <td>3</td>\n",
       "    </tr>\n",
       "    <tr>\n",
       "      <th>3</th>\n",
       "      <td>666666666</td>\n",
       "      <td>SOŠ</td>\n",
       "      <td></td>\n",
       "      <td></td>\n",
       "      <td></td>\n",
       "      <td></td>\n",
       "      <td>331</td>\n",
       "      <td></td>\n",
       "      <td>3</td>\n",
       "    </tr>\n",
       "    <tr>\n",
       "      <th>4</th>\n",
       "      <td>777777777</td>\n",
       "      <td>školy ministerstva obrany</td>\n",
       "      <td></td>\n",
       "      <td></td>\n",
       "      <td></td>\n",
       "      <td></td>\n",
       "      <td></td>\n",
       "      <td></td>\n",
       "      <td>3</td>\n",
       "    </tr>\n",
       "    <tr>\n",
       "      <th>5</th>\n",
       "      <td>888888888</td>\n",
       "      <td>školy ministerstva vnitra</td>\n",
       "      <td></td>\n",
       "      <td></td>\n",
       "      <td></td>\n",
       "      <td></td>\n",
       "      <td></td>\n",
       "      <td></td>\n",
       "      <td>3</td>\n",
       "    </tr>\n",
       "    <tr>\n",
       "      <th>6</th>\n",
       "      <td>999999999</td>\n",
       "      <td>zahraniční školy</td>\n",
       "      <td></td>\n",
       "      <td></td>\n",
       "      <td></td>\n",
       "      <td></td>\n",
       "      <td></td>\n",
       "      <td></td>\n",
       "      <td>3</td>\n",
       "    </tr>\n",
       "  </tbody>\n",
       "</table>\n",
       "</div>"
      ],
      "text/plain": [
       "         IZO                       ZARIZENI                      MISTO  \\\n",
       "0  333333333  ISŠ                                                        \n",
       "1  444444444  SOU                                                        \n",
       "2  555555555  gymnázia                                                   \n",
       "3  666666666  SOŠ                                                        \n",
       "4  777777777  školy ministerstva obrany                                  \n",
       "5  888888888  školy ministerstva vnitra                                  \n",
       "6  999999999  zahraniční školy                                           \n",
       "\n",
       "                      ULICE       CP    PSC  TYP ZRIZ  AKT  \n",
       "0                                            311         3  \n",
       "1                                            311         3  \n",
       "2                                            321         3  \n",
       "3                                            331         3  \n",
       "4                                                        3  \n",
       "5                                                        3  \n",
       "6                                                        3  "
      ]
     },
     "execution_count": 165,
     "metadata": {},
     "output_type": "execute_result"
    }
   ],
   "source": [
    "# střední školy - číselník typss.dbf - k čemu to je?\n",
    "\n",
    "# with dbf.Table(f'{data_root}/uchazec/uch3-03-6/cisel/typss.dbf') as table:\n",
    "#     dbf.export(table, f'{data_root}/uchazec/uch3-03-6/cisel/typss.csv')\n",
    "    \n",
    "typss = pd.read_csv(f'{data_root}/uchazec/uch3-03-6/cisel/typss.csv', encoding='cp1250')\n",
    "typss"
   ]
  },
  {
   "cell_type": "code",
   "execution_count": 164,
   "id": "5ba6637e-7544-4e03-97c7-f49edd6102ed",
   "metadata": {},
   "outputs": [
    {
     "data": {
      "text/plain": [
       "(7, 9)"
      ]
     },
     "execution_count": 164,
     "metadata": {},
     "output_type": "execute_result"
    }
   ],
   "source": [
    "typss.shape"
   ]
  },
  {
   "cell_type": "markdown",
   "id": "7ee7c01a-67e9-4b00-a379-04766a2cffe3",
   "metadata": {},
   "source": [
    "## Střední školy -- mess..."
   ]
  },
  {
   "cell_type": "code",
   "execution_count": 33,
   "id": "f372d12d-250e-4f23-9cc7-f4c39764a597",
   "metadata": {},
   "outputs": [],
   "source": [
    "# střední školy -- to je mess\n",
    "\n",
    "# for y in range(1999, 2023):\n",
    "#     with dbf.Table(f'{data_root}/uchazec/stredni-skoly/m{y}.dbf') as table:\n",
    "#         dbf.export(table, f'{data_root}/uchazec/stredni-skoly/m{y}.csv')"
   ]
  },
  {
   "cell_type": "code",
   "execution_count": 34,
   "id": "b179b0a2-66a2-4adf-9d95-68770d4814ab",
   "metadata": {},
   "outputs": [],
   "source": [
    "foo = pd.read_csv(f'{data_root}/uchazec/stredni-skoly/m2017.csv', encoding='cp1250')"
   ]
  },
  {
   "cell_type": "code",
   "execution_count": 35,
   "id": "de68b19e-f4b5-44cc-b803-71049d6e0295",
   "metadata": {},
   "outputs": [
    {
     "data": {
      "text/html": [
       "<div>\n",
       "<style scoped>\n",
       "    .dataframe tbody tr th:only-of-type {\n",
       "        vertical-align: middle;\n",
       "    }\n",
       "\n",
       "    .dataframe tbody tr th {\n",
       "        vertical-align: top;\n",
       "    }\n",
       "\n",
       "    .dataframe thead th {\n",
       "        text-align: right;\n",
       "    }\n",
       "</style>\n",
       "<table border=\"1\" class=\"dataframe\">\n",
       "  <thead>\n",
       "    <tr style=\"text-align: right;\">\n",
       "      <th></th>\n",
       "      <th>RED_IZO</th>\n",
       "      <th>IZO</th>\n",
       "      <th>ZAR_PLN</th>\n",
       "      <th>ZAR_ZKR</th>\n",
       "      <th>MISTO</th>\n",
       "      <th>ULICE</th>\n",
       "      <th>CP</th>\n",
       "      <th>PSC</th>\n",
       "      <th>VUSC</th>\n",
       "      <th>OBOR</th>\n",
       "      <th>OBOR_NAZ</th>\n",
       "      <th>PLN_NAZ</th>\n",
       "    </tr>\n",
       "  </thead>\n",
       "  <tbody>\n",
       "    <tr>\n",
       "      <th>0</th>\n",
       "      <td>600006654</td>\n",
       "      <td>13757</td>\n",
       "      <td>Střední škola mediální grafiky a tisku, s.r.o....</td>\n",
       "      <td>SŠ mediální grafiky a tisku, s.r.o.</td>\n",
       "      <td>Praha 9</td>\n",
       "      <td>Beranových 695</td>\n",
       "      <td></td>\n",
       "      <td>19900</td>\n",
       "      <td>CZ0109</td>\n",
       "      <td>3452L01</td>\n",
       "      <td>Tiskař na polygr.strojích</td>\n",
       "      <td>Tiskař na polygrafických strojích             ...</td>\n",
       "    </tr>\n",
       "    <tr>\n",
       "      <th>1</th>\n",
       "      <td>600006654</td>\n",
       "      <td>13757</td>\n",
       "      <td>Střední škola mediální grafiky a tisku, s.r.o....</td>\n",
       "      <td>SŠ mediální grafiky a tisku, s.r.o.</td>\n",
       "      <td>Praha 9</td>\n",
       "      <td>Beranových 695</td>\n",
       "      <td></td>\n",
       "      <td>19900</td>\n",
       "      <td>CZ0109</td>\n",
       "      <td>3453L01</td>\n",
       "      <td>Reprod.grafik pro média</td>\n",
       "      <td>Reprodukční grafik pro média                  ...</td>\n",
       "    </tr>\n",
       "    <tr>\n",
       "      <th>2</th>\n",
       "      <td>600014614</td>\n",
       "      <td>53155</td>\n",
       "      <td>Střední škola gastronomie, hotelnictví a lesni...</td>\n",
       "      <td>SŠ gastronomie hotelnictví a lesnictví</td>\n",
       "      <td>Bzenec</td>\n",
       "      <td>náměstí Svobody 318</td>\n",
       "      <td></td>\n",
       "      <td>69681</td>\n",
       "      <td>CZ0645</td>\n",
       "      <td>1601M01</td>\n",
       "      <td>Ekologie a životní prost.</td>\n",
       "      <td>Ekologie a životní prostředí                  ...</td>\n",
       "    </tr>\n",
       "    <tr>\n",
       "      <th>3</th>\n",
       "      <td>600014614</td>\n",
       "      <td>53155</td>\n",
       "      <td>Střední škola gastronomie, hotelnictví a lesni...</td>\n",
       "      <td>SŠ gastronomie hotelnictví a lesnictví</td>\n",
       "      <td>Bzenec</td>\n",
       "      <td>náměstí Svobody 318</td>\n",
       "      <td></td>\n",
       "      <td>69681</td>\n",
       "      <td>CZ0645</td>\n",
       "      <td>2942M01</td>\n",
       "      <td>Analýza potravin</td>\n",
       "      <td>Analýza potravin                              ...</td>\n",
       "    </tr>\n",
       "    <tr>\n",
       "      <th>4</th>\n",
       "      <td>600014614</td>\n",
       "      <td>53155</td>\n",
       "      <td>Střední škola gastronomie, hotelnictví a lesni...</td>\n",
       "      <td>SŠ gastronomie hotelnictví a lesnictví</td>\n",
       "      <td>Bzenec</td>\n",
       "      <td>náměstí Svobody 318</td>\n",
       "      <td></td>\n",
       "      <td>69681</td>\n",
       "      <td>CZ0645</td>\n",
       "      <td>4145L51</td>\n",
       "      <td>Mechanizace zemědělství</td>\n",
       "      <td>Mechanizace zemědělství a lesního hospodářství...</td>\n",
       "    </tr>\n",
       "  </tbody>\n",
       "</table>\n",
       "</div>"
      ],
      "text/plain": [
       "     RED_IZO    IZO                                            ZAR_PLN  \\\n",
       "0  600006654  13757  Střední škola mediální grafiky a tisku, s.r.o....   \n",
       "1  600006654  13757  Střední škola mediální grafiky a tisku, s.r.o....   \n",
       "2  600014614  53155  Střední škola gastronomie, hotelnictví a lesni...   \n",
       "3  600014614  53155  Střední škola gastronomie, hotelnictví a lesni...   \n",
       "4  600014614  53155  Střední škola gastronomie, hotelnictví a lesni...   \n",
       "\n",
       "                                    ZAR_ZKR  \\\n",
       "0  SŠ mediální grafiky a tisku, s.r.o.        \n",
       "1  SŠ mediální grafiky a tisku, s.r.o.        \n",
       "2  SŠ gastronomie hotelnictví a lesnictví     \n",
       "3  SŠ gastronomie hotelnictví a lesnictví     \n",
       "4  SŠ gastronomie hotelnictví a lesnictví     \n",
       "\n",
       "                                      MISTO  \\\n",
       "0  Praha 9                                    \n",
       "1  Praha 9                                    \n",
       "2  Bzenec                                     \n",
       "3  Bzenec                                     \n",
       "4  Bzenec                                     \n",
       "\n",
       "                                      ULICE     CP    PSC    VUSC      OBOR  \\\n",
       "0  Beranových 695                                   19900  CZ0109  3452L01    \n",
       "1  Beranových 695                                   19900  CZ0109  3453L01    \n",
       "2  náměstí Svobody 318                              69681  CZ0645  1601M01    \n",
       "3  náměstí Svobody 318                              69681  CZ0645  2942M01    \n",
       "4  náměstí Svobody 318                              69681  CZ0645  4145L51    \n",
       "\n",
       "                                   OBOR_NAZ  \\\n",
       "0  Tiskař na polygr.strojích                  \n",
       "1  Reprod.grafik pro média                    \n",
       "2  Ekologie a životní prost.                  \n",
       "3  Analýza potravin                           \n",
       "4  Mechanizace zemědělství                    \n",
       "\n",
       "                                             PLN_NAZ  \n",
       "0  Tiskař na polygrafických strojích             ...  \n",
       "1  Reprodukční grafik pro média                  ...  \n",
       "2  Ekologie a životní prostředí                  ...  \n",
       "3  Analýza potravin                              ...  \n",
       "4  Mechanizace zemědělství a lesního hospodářství...  "
      ]
     },
     "execution_count": 35,
     "metadata": {},
     "output_type": "execute_result"
    }
   ],
   "source": [
    "foo.head()"
   ]
  },
  {
   "cell_type": "code",
   "execution_count": 36,
   "id": "f640e057-6104-4c9f-ac14-c7b79b4a5f37",
   "metadata": {},
   "outputs": [
    {
     "data": {
      "text/plain": [
       "(3211, 12)"
      ]
     },
     "execution_count": 36,
     "metadata": {},
     "output_type": "execute_result"
    }
   ],
   "source": [
    "foo.shape"
   ]
  },
  {
   "cell_type": "code",
   "execution_count": null,
   "id": "56f316e1-7ddb-4c36-ad98-13298ab194d0",
   "metadata": {},
   "outputs": [],
   "source": [
    "# mám zde všechny školy z dat?"
   ]
  },
  {
   "cell_type": "code",
   "execution_count": 135,
   "id": "053de460-4e82-419f-b560-3c8b9f659370",
   "metadata": {},
   "outputs": [
    {
     "data": {
      "text/plain": [
       "(253584, 28)"
      ]
     },
     "execution_count": 135,
     "metadata": {},
     "output_type": "execute_result"
    }
   ],
   "source": [
    "df.shape"
   ]
  },
  {
   "cell_type": "code",
   "execution_count": 142,
   "id": "d2b80888-910b-4981-bd79-928f4f8244e7",
   "metadata": {},
   "outputs": [
    {
     "data": {
      "text/plain": [
       "36323"
      ]
     },
     "execution_count": 142,
     "metadata": {},
     "output_type": "execute_result"
    }
   ],
   "source": [
    "# kolik máme cizinců?\n",
    "(pd.to_numeric(df['STATB'], errors='coerce') != 203).sum()"
   ]
  },
  {
   "cell_type": "code",
   "execution_count": 143,
   "id": "2fd5f51f-7cc6-443d-bbc0-39e2eb1c5520",
   "metadata": {},
   "outputs": [
    {
     "data": {
      "text/plain": [
       "38223"
      ]
     },
     "execution_count": 143,
     "metadata": {},
     "output_type": "execute_result"
    }
   ],
   "source": [
    "df['IZOS'].str.contains('999999').sum()"
   ]
  },
  {
   "cell_type": "code",
   "execution_count": 39,
   "id": "8127be7a-6cd7-4be9-a02b-2e5824077752",
   "metadata": {},
   "outputs": [
    {
     "data": {
      "text/plain": [
       "array(['999999840', '999999368', '999999112', ..., '999999136',\n",
       "       '999999408', '999999162'], dtype=object)"
      ]
     },
     "execution_count": 39,
     "metadata": {},
     "output_type": "execute_result"
    }
   ],
   "source": [
    "df['IZOS'].unique()"
   ]
  },
  {
   "cell_type": "code",
   "execution_count": 130,
   "id": "17795ab0-4208-4611-895b-1cab8067d24d",
   "metadata": {},
   "outputs": [],
   "source": [
    "cz_izos = pd.to_numeric(df['IZOS'][~df['IZOS'].str.contains('999999')].drop_duplicates().sort_values()[1:]).reset_index(drop=True)"
   ]
  },
  {
   "cell_type": "code",
   "execution_count": 131,
   "id": "d92e93ac-7275-4cd4-8e9c-da62e73e50e7",
   "metadata": {},
   "outputs": [
    {
     "data": {
      "text/plain": [
       "0               0\n",
       "1             203\n",
       "2           10189\n",
       "3           13757\n",
       "4           43001\n",
       "          ...    \n",
       "2588       848956\n",
       "2589        87700\n",
       "2590        87904\n",
       "2591    888888888\n",
       "2592     99999398\n",
       "Name: IZOS, Length: 2593, dtype: int64"
      ]
     },
     "execution_count": 131,
     "metadata": {},
     "output_type": "execute_result"
    }
   ],
   "source": [
    "cz_izos"
   ]
  },
  {
   "cell_type": "code",
   "execution_count": 125,
   "id": "a3e1af4e-c3e2-4808-b51b-a426c5cc8140",
   "metadata": {},
   "outputs": [
    {
     "data": {
      "text/plain": [
       "183"
      ]
     },
     "execution_count": 125,
     "metadata": {},
     "output_type": "execute_result"
    }
   ],
   "source": [
    "df['IZOS'].drop_duplicates().str.contains('999999').sum()"
   ]
  },
  {
   "cell_type": "code",
   "execution_count": 117,
   "id": "906589a2-c33d-4b3f-805b-4558ab06f1ce",
   "metadata": {},
   "outputs": [],
   "source": [
    "izos = pd.to_numeric(df['IZOS'].drop_duplicates().sort_values().iloc[1:])"
   ]
  },
  {
   "cell_type": "code",
   "execution_count": 119,
   "id": "200e5681-d550-4f1a-b79f-a9b3126616ae",
   "metadata": {},
   "outputs": [
    {
     "data": {
      "text/plain": [
       "(2776,)"
      ]
     },
     "execution_count": 119,
     "metadata": {},
     "output_type": "execute_result"
    }
   ],
   "source": [
    "izos.shape"
   ]
  },
  {
   "cell_type": "code",
   "execution_count": 123,
   "id": "35478b02-deb7-46e3-ac56-abe7771986f5",
   "metadata": {},
   "outputs": [],
   "source": [
    "izos = izos[izos < 999999000]"
   ]
  },
  {
   "cell_type": "code",
   "execution_count": 124,
   "id": "282556ff-553c-4fa1-aa04-cccccc036277",
   "metadata": {},
   "outputs": [
    {
     "data": {
      "text/plain": [
       "7516             0\n",
       "967            203\n",
       "36956        10189\n",
       "940          13757\n",
       "4076         43001\n",
       "            ...   \n",
       "29208     99999931\n",
       "115365    99999940\n",
       "198279    99999950\n",
       "35761     99999951\n",
       "53897     99999970\n",
       "Name: IZOS, Length: 2598, dtype: int64"
      ]
     },
     "execution_count": 124,
     "metadata": {},
     "output_type": "execute_result"
    }
   ],
   "source": [
    "izos"
   ]
  },
  {
   "cell_type": "code",
   "execution_count": 41,
   "id": "3b76a758-8f59-45c5-86af-9581851b7e0f",
   "metadata": {},
   "outputs": [
    {
     "data": {
      "text/plain": [
       "2015    600001431\n",
       "2896    600001873\n",
       "706     600004520\n",
       "705     600004520\n",
       "704     600004520\n",
       "          ...    \n",
       "536     691007551\n",
       "1222    691009619\n",
       "1221    691009619\n",
       "1220    691009619\n",
       "1219    691009619\n",
       "Name: RED_IZO, Length: 3211, dtype: int64"
      ]
     },
     "execution_count": 41,
     "metadata": {},
     "output_type": "execute_result"
    }
   ],
   "source": [
    "foo['RED_IZO'].sort_values()"
   ]
  },
  {
   "cell_type": "code",
   "execution_count": 42,
   "id": "782ed5a0-c8f8-4300-a299-fdf82a0f6594",
   "metadata": {},
   "outputs": [
    {
     "data": {
      "text/plain": [
       "0           13757\n",
       "1           13757\n",
       "2           53155\n",
       "3           53155\n",
       "4           53155\n",
       "          ...    \n",
       "3088    200000071\n",
       "2910    250000016\n",
       "2911    250000016\n",
       "2909    250000016\n",
       "3210    250000059\n",
       "Name: IZO, Length: 3211, dtype: int64"
      ]
     },
     "execution_count": 42,
     "metadata": {},
     "output_type": "execute_result"
    }
   ],
   "source": [
    "foo['IZO'].sort_values()"
   ]
  },
  {
   "cell_type": "code",
   "execution_count": 47,
   "id": "7159c59d-5688-4bff-b915-b7df2d8c16f9",
   "metadata": {},
   "outputs": [
    {
     "data": {
      "text/plain": [
       "0"
      ]
     },
     "execution_count": 47,
     "metadata": {},
     "output_type": "execute_result"
    }
   ],
   "source": [
    "pd.Series(df['IZOS'].unique()).isin(foo['RED_IZO']).sum()"
   ]
  },
  {
   "cell_type": "code",
   "execution_count": 65,
   "id": "771c8aac-f3db-4ee0-b9a7-94ecb15168d0",
   "metadata": {},
   "outputs": [],
   "source": [
    "num_izos = pd.to_numeric(df['IZOS'], errors='coerce')"
   ]
  },
  {
   "cell_type": "code",
   "execution_count": 68,
   "id": "99e538f6-42ec-42b7-af95-9bc083c1531e",
   "metadata": {},
   "outputs": [
    {
     "data": {
      "text/plain": [
       "0         False\n",
       "1         False\n",
       "2         False\n",
       "3         False\n",
       "4         False\n",
       "          ...  \n",
       "253579    False\n",
       "253580    False\n",
       "253581    False\n",
       "253582    False\n",
       "253583    False\n",
       "Name: IZOS, Length: 253584, dtype: bool"
      ]
     },
     "execution_count": 68,
     "metadata": {},
     "output_type": "execute_result"
    }
   ],
   "source": [
    "num_izos.isin(foo['RED_IZO'])"
   ]
  },
  {
   "cell_type": "code",
   "execution_count": 67,
   "id": "3600b339-fe1a-4e4f-a580-6acc99ec6b76",
   "metadata": {},
   "outputs": [
    {
     "data": {
      "text/plain": [
       "225"
      ]
     },
     "execution_count": 67,
     "metadata": {},
     "output_type": "execute_result"
    }
   ],
   "source": [
    "num_izos.isin(foo['RED_IZO']).sum()"
   ]
  },
  {
   "cell_type": "code",
   "execution_count": 70,
   "id": "db1bd567-3aac-4cba-96ce-b6ba2b984d91",
   "metadata": {},
   "outputs": [
    {
     "data": {
      "text/plain": [
       "array(['        ', '7941K801', '1601M002', ..., '  6324 M', '53-01-6 ',\n",
       "       '646103  '], dtype=object)"
      ]
     },
     "execution_count": 70,
     "metadata": {},
     "output_type": "execute_result"
    }
   ],
   "source": [
    "df['OBSS'].unique()"
   ]
  },
  {
   "cell_type": "code",
   "execution_count": 78,
   "id": "8189744d-d425-49e2-807f-84fa3c17beab",
   "metadata": {},
   "outputs": [
    {
     "data": {
      "text/plain": [
       "(1398,)"
      ]
     },
     "execution_count": 78,
     "metadata": {},
     "output_type": "execute_result"
    }
   ],
   "source": [
    "df['OBSS'].unique().shape"
   ]
  },
  {
   "cell_type": "code",
   "execution_count": 75,
   "id": "81f6e123-084e-4262-9ffa-2b0dcd3171b2",
   "metadata": {},
   "outputs": [
    {
     "data": {
      "text/plain": [
       "array(['1601M01 ', '1601N01 ', '1602M01 ', '1820M01 ', '2142M01 ',\n",
       "       '2143L01 ', '2143M01 ', '2144L01 ', '2341M01 ', '2341N02 ',\n",
       "       '2341N03 ', '2341N06 ', '2341N07 ', '2341N08 ', '2343L51 ',\n",
       "       '2344L01 ', '2345L01 ', '2345L02 ', '2345M01 ', '2345N01 ',\n",
       "       '2345N02 ', '2345N03 ', '2362L01 ', '2369L01 ', '2641L01 ',\n",
       "       '2641L51 ', '2641L52 ', '2641M01 ', '2641N01 ', '2641N02 ',\n",
       "       '2641N03 ', '2641N06 ', '2645M01 ', '2647N02 ', '2647N03 ',\n",
       "       '2647N04 ', '2647N06 ', '2647N07 ', '2647N09 ', '2647N13 ',\n",
       "       '2647N14 ', '2647N15 ', '2647N16 ', '2647N17 ', '2647N18 ',\n",
       "       '2647N19 ', '2832N01 ', '2842L01 ', '2844M01 ', '2846M01 ',\n",
       "       '2941L51 ', '2941M01 ', '2941N01 ', '2941N03 ', '2942M001',\n",
       "       '2942M01 ', '3141M004', '3141M01 ', '3143L01 ', '3143M01 ',\n",
       "       '3241M01 ', '3331N01 ', '3341L01 ', '3342L51 ', '3342M01 ',\n",
       "       '3441M01 ', '3442M01 ', '3452L01 ', '3453L01 ', '3456L01 ',\n",
       "       '3457L01 ', '3641N03 ', '3641N04 ', '3641N05 ', '3641N07 ',\n",
       "       '3643M01 ', '3644L51 ', '3645L52 ', '3645M01 ', '3646M01 ',\n",
       "       '3647M01 ', '3741M01 ', '3741N01 ', '3741N03 ', '3741N04 ',\n",
       "       '3742L51 ', '3742M01 ', '3908M01 ', '3908N01 ', '3908N02 ',\n",
       "       '3941L01 ', '3941L02 ', '3941L51 ', '3941N02 ', '3943N02 ',\n",
       "       '4131N01 ', '4131N02 ', '4131N04 ', '4131N06 ', '4132N01 ',\n",
       "       '4141M01 ', '4142M01 ', '4143L01 ', '4143L51 ', '4143L52 ',\n",
       "       '4143M002', '4143M01 ', '4143M02 ', '4144L51 ', '4144M01 ',\n",
       "       '4144N01 ', '4145L51 ', '4145M01 ', '4146M01 ', '4341M01 ',\n",
       "       '5341L51 ', '5341M007', '5341M01 ', '5341M02 ', '5341N11 ',\n",
       "       '5341N21 ', '5341N31 ', '5341N41 ', '5343M01 ', '5343N11 ',\n",
       "       '5343N21 ', '5344M01 ', '5344M03 ', '5344N11 ', '6141N01 ',\n",
       "       '6141N03 ', '6141N04 ', '6341M004', '6341M01 ', '6341M02 ',\n",
       "       '6341N01 ', '6341N03 ', '6341N04 ', '6341N05 ', '6341N07 ',\n",
       "       '6341N08 ', '6341N11 ', '6341N12 ', '6341N14 ', '6341N15 ',\n",
       "       '6341N16 ', '6341N18 ', '6341N20 ', '6341N21 ', '6341N22 ',\n",
       "       '6341N24 ', '6341N25 ', '6341N26 ', '6342N01 ', '6342N04 ',\n",
       "       '6343N03 ', '6343N05 ', '6343N06 ', '6343N07 ', '6343N11 ',\n",
       "       '6343N12 ', '6343N13 ', '6343N14 ', '6431N02 ', '6431N03 ',\n",
       "       '6431N05 ', '6431N06 ', '6431N07 ', '6431N09 ', '6431N10 ',\n",
       "       '6431N14 ', '6431N15 ', '6441L51 ', '6441L524', '6541L01 ',\n",
       "       '6541L51 ', '6542M01 ', '6542M02 ', '6542N01 ', '6542N02 ',\n",
       "       '6542N03 ', '6542N04 ', '6543N01 ', '6543N02 ', '6641L01 ',\n",
       "       '6641L501', '6641L51 ', '6641N02 ', '6641N03 ', '6642L51 ',\n",
       "       '6643M002', '6643M01 ', '6841N01 ', '6841N03 ', '6841N04 ',\n",
       "       '6841N05 ', '6842L51 ', '6842M01 ', '6842N01 ', '6842N02 ',\n",
       "       '6842N06 ', '6842N07 ', '6842N08 ', '6843M01 ', '6843N01 ',\n",
       "       '6843N02 ', '6843N03 ', '6843N04 ', '6843N05 ', '6843N10 ',\n",
       "       '6941L004', '6941L01 ', '6941L02 ', '6941L52 ', '6942M01 ',\n",
       "       '7241M01 ', '7241N01 ', '7241N02 ', '7242N01 ', '7242N02 ',\n",
       "       '7242N03 ', '7531M005', '7531M01 ', '7531M02 ', '7531N02 ',\n",
       "       '7531N03 ', '7532N01 ', '7532N02 ', '7532N03 ', '7532N04 ',\n",
       "       '7532N05 ', '7532N06 ', '7532N07 ', '7532N08 ', '7541M005',\n",
       "       '7541M009', '7541M01 ', '7842M003', '7842M005', '7842M01 ',\n",
       "       '7842M02 ', '7842M03 ', '7842M04 ', '7842M05 ', '7842M06 ',\n",
       "       '7941K41 ', '7941K61 ', '7941K610', '7941K81 ', '7942K41 ',\n",
       "       '7942K61 ', '7942K81 ', '8241M01 ', '8241M02 ', '8241M03 ',\n",
       "       '8241M04 ', '8241M05 ', '8241M06 ', '8241M07 ', '8241M08 ',\n",
       "       '8241M09 ', '8241M10 ', '8241M11 ', '8241M12 ', '8241M13 ',\n",
       "       '8241M14 ', '8241M15 ', '8241M16 ', '8241M17 ', '8241M18 ',\n",
       "       '8241N03 ', '8241N05 ', '8241N06 ', '8241N07 ', '8241N08 ',\n",
       "       '8241N09 ', '8241N11 ', '8241N12 ', '8241N13 ', '8241N14 ',\n",
       "       '8241N16 ', '8242M01 ', '8242N05 ', '8242N06 ', '8242N07 ',\n",
       "       '8242N08 ', '8243N06 ', '8243N07 ', '8243N08 ', '8244M01 ',\n",
       "       '8244M02 ', '8244N01 ', '8245M01 ', '8246M001', '8246M02 ',\n",
       "       '8247M01 ', '8247N01 ', '8247N02 ', '8247N04 ', '8248L01 ',\n",
       "       '8251L01 ', '8251L02 ', '8251L03 ', '8251L04 ', '8251L05 ',\n",
       "       '8251L06 ', '8251L51 ', '9111N01 '], dtype=object)"
      ]
     },
     "execution_count": 75,
     "metadata": {},
     "output_type": "execute_result"
    }
   ],
   "source": [
    "np.sort(foo['OBOR'].unique())"
   ]
  },
  {
   "cell_type": "code",
   "execution_count": 77,
   "id": "716d9a00-25d1-4e28-a260-77ab2b033bd1",
   "metadata": {},
   "outputs": [
    {
     "data": {
      "text/plain": [
       "293"
      ]
     },
     "execution_count": 77,
     "metadata": {},
     "output_type": "execute_result"
    }
   ],
   "source": [
    "pd.Series(df['OBSS'].unique()).isin(foo['OBOR']).sum()"
   ]
  },
  {
   "cell_type": "code",
   "execution_count": 81,
   "id": "14b72cd1-4a2d-441c-8c18-c4581998a1d0",
   "metadata": {},
   "outputs": [
    {
     "data": {
      "text/plain": [
       "array(['', '7941K801', '1601M002', ..., '6324M', '53-01-6', '646103'],\n",
       "      dtype=object)"
      ]
     },
     "execution_count": 81,
     "metadata": {},
     "output_type": "execute_result"
    }
   ],
   "source": [
    "pd.Series(df['OBSS'].unique()).str.replace(' ', '').values"
   ]
  },
  {
   "cell_type": "code",
   "execution_count": 84,
   "id": "47fbda16-a9a7-48a2-bba2-b4edc7c8fd2b",
   "metadata": {},
   "outputs": [
    {
     "data": {
      "text/plain": [
       "(1389,)"
      ]
     },
     "execution_count": 84,
     "metadata": {},
     "output_type": "execute_result"
    }
   ],
   "source": [
    "pd.Series(df['OBSS'].unique()).str.replace(' ', '').unique().shape"
   ]
  },
  {
   "cell_type": "code",
   "execution_count": 82,
   "id": "9fb07d0d-5b83-4d53-b291-4a1406872da3",
   "metadata": {},
   "outputs": [
    {
     "data": {
      "text/plain": [
       "16"
      ]
     },
     "execution_count": 82,
     "metadata": {},
     "output_type": "execute_result"
    }
   ],
   "source": [
    "pd.Series(df['OBSS'].unique()).str.replace(' ', '').isin(foo['OBOR']).sum()"
   ]
  },
  {
   "cell_type": "code",
   "execution_count": 85,
   "id": "33283906-2ed8-4050-a04a-9525abe0597c",
   "metadata": {},
   "outputs": [
    {
     "data": {
      "text/plain": [
       "297"
      ]
     },
     "execution_count": 85,
     "metadata": {},
     "output_type": "execute_result"
    }
   ],
   "source": [
    "pd.Series(df['OBSS'].unique()).str.replace(' ', '').isin(foo['OBOR'].str.replace(' ', '')).sum()"
   ]
  },
  {
   "cell_type": "markdown",
   "id": "84b4cf85-095b-4874-976b-0598f525f4e3",
   "metadata": {},
   "source": [
    "Ok, toto je mess -> většina škol v číselníku není (všechny začínající 999999...), ani většina oborů tam není. Chci zkusit mergovat všechny roky dohromady?"
   ]
  },
  {
   "cell_type": "code",
   "execution_count": 86,
   "id": "2b1ffada-c598-48e4-b596-87de089eda7d",
   "metadata": {},
   "outputs": [],
   "source": [
    "li = []\n",
    "\n",
    "for y in range(1999, 2023):\n",
    "    pdf = pd.read_csv(f'{data_root}/uchazec/stredni-skoly/m{y}.csv', encoding='cp1250')\n",
    "    li.append(pdf)"
   ]
  },
  {
   "cell_type": "code",
   "execution_count": 91,
   "id": "8ad32fb4-17da-4d37-9341-4fd8fc8e56e1",
   "metadata": {},
   "outputs": [],
   "source": [
    "foo = pd.concat(li, axis=0, ignore_index=True).drop_duplicates().reset_index(drop=True)"
   ]
  },
  {
   "cell_type": "code",
   "execution_count": 92,
   "id": "86585639-2ecc-47f4-8663-97de7435a5ac",
   "metadata": {},
   "outputs": [
    {
     "data": {
      "text/plain": [
       "(34994, 13)"
      ]
     },
     "execution_count": 92,
     "metadata": {},
     "output_type": "execute_result"
    }
   ],
   "source": [
    "foo.shape"
   ]
  },
  {
   "cell_type": "code",
   "execution_count": 132,
   "id": "882d66ba-23b1-4654-8c91-c751afba159d",
   "metadata": {},
   "outputs": [
    {
     "data": {
      "text/plain": [
       "0            10189\n",
       "1            10189\n",
       "2            13757\n",
       "3            13757\n",
       "4            53155\n",
       "           ...    \n",
       "34989    181078988\n",
       "34990    181088231\n",
       "34991    181096790\n",
       "34992    181113601\n",
       "34993    181120585\n",
       "Name: IZO, Length: 34994, dtype: int64"
      ]
     },
     "execution_count": 132,
     "metadata": {},
     "output_type": "execute_result"
    }
   ],
   "source": [
    "foo['IZO']"
   ]
  },
  {
   "cell_type": "code",
   "execution_count": 100,
   "id": "c872d852-c86b-4008-88f8-56bb449c27f5",
   "metadata": {},
   "outputs": [
    {
     "data": {
      "text/plain": [
       "0    False\n",
       "1    False\n",
       "2    False\n",
       "3    False\n",
       "4    False\n",
       "Name: IZOS, dtype: bool"
      ]
     },
     "execution_count": 100,
     "metadata": {},
     "output_type": "execute_result"
    }
   ],
   "source": [
    "pd.to_numeric(df['IZOS'][:5]).isin(foo['IZO'])"
   ]
  },
  {
   "cell_type": "code",
   "execution_count": 133,
   "id": "b79a4aaf-368e-497f-855d-f9196b6c5bea",
   "metadata": {},
   "outputs": [
    {
     "data": {
      "text/plain": [
       "0       False\n",
       "1       False\n",
       "2        True\n",
       "3        True\n",
       "4       False\n",
       "        ...  \n",
       "2588     True\n",
       "2589    False\n",
       "2590     True\n",
       "2591    False\n",
       "2592    False\n",
       "Name: IZOS, Length: 2593, dtype: bool"
      ]
     },
     "execution_count": 133,
     "metadata": {},
     "output_type": "execute_result"
    }
   ],
   "source": [
    "cz_izos.isin(foo['IZO'])"
   ]
  },
  {
   "cell_type": "code",
   "execution_count": 134,
   "id": "ecef27af-628a-4dd0-b384-cd2040149514",
   "metadata": {},
   "outputs": [
    {
     "data": {
      "text/plain": [
       "1919"
      ]
     },
     "execution_count": 134,
     "metadata": {},
     "output_type": "execute_result"
    }
   ],
   "source": [
    "cz_izos.isin(foo['IZO']).sum()"
   ]
  },
  {
   "cell_type": "markdown",
   "id": "b3c0a2c1-2059-4340-b348-4b96e13e82b5",
   "metadata": {},
   "source": [
    "Ok, toto je nakonec docela slušné -> jsem schopen identifikovat 1919 z 2593 SŠ, které nejsou zahraniční (těch je asi 200)"
   ]
  },
  {
   "cell_type": "code",
   "execution_count": 162,
   "id": "a40f9714-f78f-41a1-a9d9-2d6a3d0e11a8",
   "metadata": {},
   "outputs": [
    {
     "data": {
      "text/plain": [
       "2083"
      ]
     },
     "execution_count": 162,
     "metadata": {},
     "output_type": "execute_result"
    }
   ],
   "source": [
    "cz_izos.isin(izobrmat['IZO']).sum()"
   ]
  },
  {
   "cell_type": "markdown",
   "id": "82551cb1-9170-40be-8d16-3c1c8d6e907f",
   "metadata": {},
   "source": [
    "A s jejich číselníkem je to ještě o kousek lepší - 2083 z 2593 SŠ."
   ]
  },
  {
   "cell_type": "markdown",
   "id": "854a9cd0-66c0-4936-9e6d-bb7be92ecf25",
   "metadata": {
    "tags": []
   },
   "source": [
    "## Misc"
   ]
  },
  {
   "cell_type": "code",
   "execution_count": null,
   "id": "1479f447-985b-4558-b3de-3eacfa29d112",
   "metadata": {},
   "outputs": [],
   "source": []
  },
  {
   "cell_type": "code",
   "execution_count": null,
   "id": "76eef7d3-326e-4fce-8855-a3ad486d22df",
   "metadata": {},
   "outputs": [],
   "source": [
    "pd.read_html('https://dsia.msmt.cz/uch2022b.html')"
   ]
  },
  {
   "cell_type": "code",
   "execution_count": null,
   "id": "556c5696-67f1-40e8-81d6-4db67a8029c7",
   "metadata": {},
   "outputs": [],
   "source": [
    "!pip install lxml"
   ]
  },
  {
   "cell_type": "code",
   "execution_count": null,
   "id": "8271f6ef-e0eb-4709-abe5-77adb8486cd6",
   "metadata": {},
   "outputs": [],
   "source": []
  },
  {
   "cell_type": "code",
   "execution_count": null,
   "id": "a50efed0-28d7-4161-a396-28e8328fc13f",
   "metadata": {},
   "outputs": [],
   "source": []
  },
  {
   "cell_type": "code",
   "execution_count": null,
   "id": "81e7eefd-7736-4aec-8c0d-ecca1031f655",
   "metadata": {},
   "outputs": [],
   "source": []
  },
  {
   "cell_type": "code",
   "execution_count": null,
   "id": "4ca4c702-e1d7-4fe6-8543-3c8ec6db2743",
   "metadata": {},
   "outputs": [],
   "source": [
    "!pip install simpledbf"
   ]
  },
  {
   "cell_type": "code",
   "execution_count": null,
   "id": "873652d0-ba1d-4765-9aa3-8cd917b95e16",
   "metadata": {},
   "outputs": [],
   "source": [
    "import pandas as pd\n",
    "from simpledbf import Dbf5"
   ]
  },
  {
   "cell_type": "code",
   "execution_count": null,
   "id": "a33ac4aa-0968-462f-84b5-9ac34c7c1103",
   "metadata": {},
   "outputs": [],
   "source": [
    "# nejake standardni importy\n",
    "import os\n",
    "import sys\n",
    "import pyreadstat\n",
    "import pandas as pd\n",
    "import numpy as np\n",
    "import re\n",
    "from statsmodels.stats.weightstats import DescrStatsW\n",
    "from sklearn.linear_model import LinearRegression\n",
    "import statsmodels.api as sm\n",
    "import statsmodels.formula.api as smf\n",
    "import scipy\n",
    "import seaborn as sns\n",
    "import matplotlib as mpl\n",
    "import matplotlib.pyplot as plt\n",
    "# aby grafy byly rozumně čitelné na obrazovce\n",
    "plt.rcParams['figure.dpi'] = 90\n",
    "plt.rcParams['axes.titlesize'] = 11\n",
    "plt.rcParams['figure.figsize'] = 10, 5\n",
    "#plt.ioff()\n",
    "import stata_setup\n",
    "stata_setup.config('/usr/local/stata17', 'be')\n",
    "from pystata import stata"
   ]
  },
  {
   "cell_type": "code",
   "execution_count": null,
   "id": "b996d70a-cea7-40e3-9655-cc915c56622d",
   "metadata": {},
   "outputs": [],
   "source": [
    "root = '/mnt/d/projects/idea/data'"
   ]
  },
  {
   "cell_type": "code",
   "execution_count": null,
   "id": "3c9acc49-8b38-4ef8-915a-91e408949737",
   "metadata": {},
   "outputs": [],
   "source": [
    "dbf_file = '/mnt/d/projects/idea/data/uchazec/0022MUCH21P.dbf'"
   ]
  },
  {
   "cell_type": "code",
   "execution_count": null,
   "id": "e7adbbbb-f5fd-4cfe-9132-e79f690f7e7e",
   "metadata": {},
   "outputs": [],
   "source": [
    "dbf = Dbf5('/mnt/d/projects/idea/data/uchazec/0022MUCH21P.dbf')"
   ]
  },
  {
   "cell_type": "code",
   "execution_count": null,
   "id": "5f5cd4e3-9a4d-43f9-b475-5e74d863bdff",
   "metadata": {},
   "outputs": [],
   "source": [
    "dbf"
   ]
  },
  {
   "cell_type": "code",
   "execution_count": null,
   "id": "9bdf80cf-57e5-4a58-a7bd-cc17bcada3ad",
   "metadata": {},
   "outputs": [],
   "source": [
    "dbf.numrec"
   ]
  },
  {
   "cell_type": "code",
   "execution_count": null,
   "id": "ce6e659f-9b11-45b8-8688-f8df48e5aa87",
   "metadata": {},
   "outputs": [],
   "source": [
    "dbf.fields"
   ]
  },
  {
   "cell_type": "code",
   "execution_count": null,
   "id": "227e78ae-0d27-4243-a321-306703cd792b",
   "metadata": {},
   "outputs": [],
   "source": [
    "df = dbf.to_dataframe()"
   ]
  },
  {
   "cell_type": "code",
   "execution_count": null,
   "id": "32bd522f-fbcb-47da-8448-3d47224601ee",
   "metadata": {},
   "outputs": [],
   "source": [
    "df"
   ]
  },
  {
   "cell_type": "code",
   "execution_count": null,
   "id": "df50bee9-411f-446d-9bfd-067120c81c03",
   "metadata": {},
   "outputs": [],
   "source": [
    "!ls /mnt/d/projects/idea/data/uchazec/"
   ]
  },
  {
   "cell_type": "code",
   "execution_count": null,
   "id": "68d2728d-f0f2-46a5-bdba-2ae6a3774ee5",
   "metadata": {},
   "outputs": [],
   "source": [
    "!pip install dbf"
   ]
  },
  {
   "cell_type": "code",
   "execution_count": null,
   "id": "bdaf493b-83a0-4b4e-813c-aafa5f3d6c09",
   "metadata": {},
   "outputs": [],
   "source": [
    "import dbf"
   ]
  },
  {
   "cell_type": "code",
   "execution_count": null,
   "id": "c7d321cb-7e83-4b2f-880f-a4be5e18f185",
   "metadata": {},
   "outputs": [],
   "source": [
    "foo = dbf.Table(dbf_file)"
   ]
  },
  {
   "cell_type": "code",
   "execution_count": null,
   "id": "1dd23c0e-5b07-4565-8cf0-0a2912a51b30",
   "metadata": {},
   "outputs": [],
   "source": [
    "foo"
   ]
  },
  {
   "cell_type": "code",
   "execution_count": null,
   "id": "31075182-6f74-4387-a514-3395ec1ccf62",
   "metadata": {},
   "outputs": [],
   "source": []
  },
  {
   "cell_type": "code",
   "execution_count": null,
   "id": "c9fd7fe4-ee77-475b-9aad-e644b48aff34",
   "metadata": {},
   "outputs": [],
   "source": []
  },
  {
   "cell_type": "code",
   "execution_count": null,
   "id": "2a39e93c-55c8-4e0c-9551-e5ff99e8fd46",
   "metadata": {},
   "outputs": [],
   "source": [
    "with dbf.Table(dbf_file) as table:\n",
    "    dbf.export(table, '/mnt/d/projects/idea/data/uchazec/0022MUCH21P.csv')"
   ]
  },
  {
   "cell_type": "code",
   "execution_count": null,
   "id": "35ed90eb-fa66-48f4-a3b8-fe0411fdeb73",
   "metadata": {},
   "outputs": [],
   "source": [
    "import pandas as pd"
   ]
  },
  {
   "cell_type": "code",
   "execution_count": null,
   "id": "e84e0724-333d-4c31-8c2e-b6834346aca7",
   "metadata": {},
   "outputs": [],
   "source": [
    "df = pd.read_csv('/mnt/d/projects/idea/data/uchazec/0022MUCH17P.csv', encoding='cp1250')"
   ]
  },
  {
   "cell_type": "code",
   "execution_count": null,
   "id": "98e8985f-8224-46cc-abf6-7be81f801e08",
   "metadata": {},
   "outputs": [],
   "source": [
    "df.head()"
   ]
  },
  {
   "cell_type": "code",
   "execution_count": null,
   "id": "ad8d80bc-4fbf-40b5-86a1-31e82557ce94",
   "metadata": {},
   "outputs": [],
   "source": [
    "df.columns"
   ]
  },
  {
   "cell_type": "code",
   "execution_count": null,
   "id": "354060d7-c068-4b23-bb99-8a9c064e26cd",
   "metadata": {},
   "outputs": [],
   "source": [
    "df.shape"
   ]
  },
  {
   "cell_type": "code",
   "execution_count": null,
   "id": "d1029ea4-6dc6-416e-96dc-d5b0d4902255",
   "metadata": {},
   "outputs": [],
   "source": [
    "df[:1000].to_csv('temp/uchazec.csv')"
   ]
  },
  {
   "cell_type": "code",
   "execution_count": null,
   "id": "2e9e3a91-65e7-4caa-9158-0aebeda5c4bc",
   "metadata": {},
   "outputs": [],
   "source": []
  },
  {
   "cell_type": "code",
   "execution_count": null,
   "id": "016197fb-205f-4f76-998c-89790c927b5d",
   "metadata": {},
   "outputs": [],
   "source": [
    "foo"
   ]
  },
  {
   "cell_type": "code",
   "execution_count": null,
   "id": "e51d347e-0dd8-46f4-8a78-18c11bf240b1",
   "metadata": {},
   "outputs": [],
   "source": [
    "df,"
   ]
  }
 ],
 "metadata": {
  "kernelspec": {
   "display_name": "Python 3 (ipykernel)",
   "language": "python",
   "name": "python3"
  },
  "language_info": {
   "codemirror_mode": {
    "name": "ipython",
    "version": 3
   },
   "file_extension": ".py",
   "mimetype": "text/x-python",
   "name": "python",
   "nbconvert_exporter": "python",
   "pygments_lexer": "ipython3",
   "version": "3.10.4"
  }
 },
 "nbformat": 4,
 "nbformat_minor": 5
}
