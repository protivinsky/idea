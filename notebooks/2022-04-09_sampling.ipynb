{
 "cells": [
  {
   "cell_type": "markdown",
   "id": "9c27eef6-4fcd-4127-8c16-3ad448563ac5",
   "metadata": {},
   "source": [
    "# Weights and sampling probabilities"
   ]
  },
  {
   "cell_type": "markdown",
   "id": "3aab3cec-d7e6-47ae-8902-1c55ad538ee5",
   "metadata": {},
   "source": [
    "Test Horvitz-Thomson estimator"
   ]
  },
  {
   "cell_type": "code",
   "execution_count": 3,
   "id": "b1564b31-e759-4a10-aea7-217185725ea6",
   "metadata": {},
   "outputs": [],
   "source": [
    "# nejake standardni importy\n",
    "import os\n",
    "import sys\n",
    "import pyreadstat\n",
    "import pandas as pd\n",
    "import numpy as np\n",
    "import re\n",
    "from statsmodels.stats.weightstats import DescrStatsW\n",
    "from sklearn.linear_model import LinearRegression\n",
    "import statsmodels.api as sm\n",
    "import statsmodels.formula.api as smf\n",
    "import seaborn as sns\n",
    "#import matplotlib as mpl\n",
    "#mpl.use('Agg')\n",
    "import matplotlib.pyplot as plt\n",
    "# aby grafy byly rozumně čitelné na obrazovce\n",
    "plt.rcParams['figure.dpi'] = 90\n",
    "plt.rcParams['axes.titlesize'] = 11\n",
    "#plt.ioff()"
   ]
  },
  {
   "cell_type": "code",
   "execution_count": 22,
   "id": "96e336d0-0bf3-4bfe-b69f-36e90eb26e1a",
   "metadata": {},
   "outputs": [],
   "source": [
    "num_groups = 100"
   ]
  },
  {
   "cell_type": "code",
   "execution_count": 23,
   "id": "45fd479d-869d-44c9-8f0d-de46ff3704a9",
   "metadata": {},
   "outputs": [],
   "source": [
    "group_sizes = np.int_(100 ** np.random.rand(num_groups))"
   ]
  },
  {
   "cell_type": "code",
   "execution_count": 27,
   "id": "cd50edca-5efb-4cbb-a2a6-cc0daf532f83",
   "metadata": {},
   "outputs": [],
   "source": [
    "group_means = 100 * np.random.rand(num_groups)\n",
    "# how about when group mean is correlated with the size"
   ]
  },
  {
   "cell_type": "code",
   "execution_count": 28,
   "id": "4787f41c-ecec-4f05-9765-7b7e3e674ccf",
   "metadata": {},
   "outputs": [],
   "source": [
    "total_size = np.sum(group_sizes)"
   ]
  },
  {
   "cell_type": "code",
   "execution_count": 29,
   "id": "0e8612fa-b652-4eb9-b977-56f03de98030",
   "metadata": {},
   "outputs": [
    {
     "data": {
      "text/plain": [
       "2089"
      ]
     },
     "execution_count": 29,
     "metadata": {},
     "output_type": "execute_result"
    }
   ],
   "source": [
    "total_size"
   ]
  },
  {
   "cell_type": "code",
   "execution_count": 34,
   "id": "9f0fd980-6298-43c5-bbea-c75f10834edc",
   "metadata": {},
   "outputs": [],
   "source": [
    "group_selector = np.cumsum(group_sizes) / total_size"
   ]
  },
  {
   "cell_type": "code",
   "execution_count": 35,
   "id": "1160e05a-3c51-454a-a600-231c1a43608b",
   "metadata": {},
   "outputs": [
    {
     "data": {
      "text/plain": [
       "array([0.00191479, 0.00287219, 0.01244615, 0.01483964, 0.05313547,\n",
       "       0.05552896, 0.07132599, 0.08042125, 0.12015318, 0.12924844,\n",
       "       0.14600287, 0.15222595, 0.17807563, 0.17903303, 0.1866922 ,\n",
       "       0.19435136, 0.19865965, 0.19913834, 0.20392532, 0.20440402,\n",
       "       0.22259454, 0.23791288, 0.24317855, 0.26041168, 0.26376257,\n",
       "       0.2786022 , 0.31785543, 0.33365247, 0.33460986, 0.35040689,\n",
       "       0.35280038, 0.35375778, 0.35806606, 0.40449976, 0.40641455,\n",
       "       0.42077549, 0.42364768, 0.42460507, 0.43370034, 0.43465773,\n",
       "       0.4413595 , 0.44518909, 0.45093346, 0.45284825, 0.45380565,\n",
       "       0.47630445, 0.47726185, 0.47965534, 0.48013404, 0.50885591,\n",
       "       0.51555768, 0.51603638, 0.52225945, 0.52752513, 0.53709909,\n",
       "       0.53757779, 0.53805649, 0.54236477, 0.55050263, 0.5591192 ,\n",
       "       0.55959789, 0.57539493, 0.59837243, 0.61129727, 0.61177597,\n",
       "       0.64384873, 0.68693155, 0.70607946, 0.72666348, 0.72714217,\n",
       "       0.73623743, 0.76208712, 0.77692676, 0.77788416, 0.78793681,\n",
       "       0.83006223, 0.83197702, 0.8362853 , 0.85112494, 0.85734801,\n",
       "       0.85878411, 0.86165629, 0.86692197, 0.89516515, 0.92053614,\n",
       "       0.92101484, 0.92340833, 0.92723791, 0.94016276, 0.94494974,\n",
       "       0.97989469, 0.98133078, 0.98180948, 0.98228818, 0.99329823,\n",
       "       0.99377693, 0.99521302, 0.99569172, 0.99808521, 1.        ])"
      ]
     },
     "execution_count": 35,
     "metadata": {},
     "output_type": "execute_result"
    }
   ],
   "source": [
    "group_selector"
   ]
  },
  {
   "cell_type": "code",
   "execution_count": 32,
   "id": "3f617138-ce0e-4830-b588-9a38a7ee5c63",
   "metadata": {},
   "outputs": [],
   "source": [
    "sel_groups = 10\n",
    "group_seeds = np.random.rand(sel_groups)"
   ]
  },
  {
   "cell_type": "code",
   "execution_count": 33,
   "id": "c63eb388-63f0-4607-a9f9-20bf9d4dfba9",
   "metadata": {},
   "outputs": [
    {
     "data": {
      "text/plain": [
       "array([0.77252456, 0.74055356, 0.74749729, 0.85215161, 0.07923879,\n",
       "       0.86838181, 0.28656175, 0.56926673, 0.35667757, 0.75427442])"
      ]
     },
     "execution_count": 33,
     "metadata": {},
     "output_type": "execute_result"
    }
   ],
   "source": [
    "\n",
    "group_seeds"
   ]
  },
  {
   "cell_type": "code",
   "execution_count": 42,
   "id": "c1544b02-25e1-4ddf-822d-54237d5adf1f",
   "metadata": {},
   "outputs": [],
   "source": [
    "selected_groups = np.unique(np.searchsorted(group_selector, group_seeds))"
   ]
  },
  {
   "cell_type": "code",
   "execution_count": null,
   "id": "0cef85d0-7096-441f-bb25-46f41cd30697",
   "metadata": {},
   "outputs": [],
   "source": []
  }
 ],
 "metadata": {
  "kernelspec": {
   "display_name": "Python 3 (ipykernel)",
   "language": "python",
   "name": "python3"
  },
  "language_info": {
   "codemirror_mode": {
    "name": "ipython",
    "version": 3
   },
   "file_extension": ".py",
   "mimetype": "text/x-python",
   "name": "python",
   "nbconvert_exporter": "python",
   "pygments_lexer": "ipython3",
   "version": "3.9.7"
  }
 },
 "nbformat": 4,
 "nbformat_minor": 5
}
