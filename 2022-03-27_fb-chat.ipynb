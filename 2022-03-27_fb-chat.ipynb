{
 "cells": [
  {
   "cell_type": "code",
   "execution_count": 1,
   "id": "b9160ffc-55c8-40ab-bf2b-6bb6ad210f88",
   "metadata": {},
   "outputs": [
    {
     "name": "stdout",
     "output_type": "stream",
     "text": [
      "The history saving thread hit an unexpected error (DatabaseError('database disk image is malformed')).History will not be written to the database.\n"
     ]
    }
   ],
   "source": [
    "import fbchat\n",
    "from getpass import getpass"
   ]
  },
  {
   "cell_type": "code",
   "execution_count": null,
   "id": "f01f637a-1b58-4db5-bd72-ce1d3d9e3238",
   "metadata": {},
   "outputs": [
    {
     "name": "stdin",
     "output_type": "stream",
     "text": [
      " ··········\n"
     ]
    },
    {
     "name": "stderr",
     "output_type": "stream",
     "text": [
      "Logging in protivinsky@email.cz...\n",
      "Attempt #1 failed, retrying\n",
      "Traceback (most recent call last):\n",
      "  File \"/mnt/d/projects/idea/code/venv/lib/python3.9/site-packages/fbchat/_client.py\", line 205, in login\n",
      "    self._state = State.login(\n",
      "  File \"/mnt/d/projects/idea/code/venv/lib/python3.9/site-packages/fbchat/_state.py\", line 151, in login\n",
      "    return cls.from_session(session=session)\n",
      "  File \"/mnt/d/projects/idea/code/venv/lib/python3.9/site-packages/fbchat/_state.py\", line 190, in from_session\n",
      "    revision = int(r.text.split('\"client_revision\":', 1)[1].split(\",\", 1)[0])\n",
      "IndexError: list index out of range\n"
     ]
    }
   ],
   "source": [
    "client = fbchat.Client('protivinsky@email.cz', getpass())"
   ]
  },
  {
   "cell_type": "code",
   "execution_count": null,
   "id": "800dcd50-0460-4a01-b040-b449bd7eedf6",
   "metadata": {},
   "outputs": [],
   "source": []
  }
 ],
 "metadata": {
  "kernelspec": {
   "display_name": "Python 3 (ipykernel)",
   "language": "python",
   "name": "python3"
  },
  "language_info": {
   "codemirror_mode": {
    "name": "ipython",
    "version": 3
   },
   "file_extension": ".py",
   "mimetype": "text/x-python",
   "name": "python",
   "nbconvert_exporter": "python",
   "pygments_lexer": "ipython3",
   "version": "3.9.7"
  }
 },
 "nbformat": 4,
 "nbformat_minor": 5
}
