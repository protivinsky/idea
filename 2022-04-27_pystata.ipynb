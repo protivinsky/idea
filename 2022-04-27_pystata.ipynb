{
 "cells": [
  {
   "cell_type": "code",
   "execution_count": 1,
   "id": "53cddf14-31b4-4334-b826-4c8da55bdee9",
   "metadata": {},
   "outputs": [
    {
     "name": "stdout",
     "output_type": "stream",
     "text": [
      "The history saving thread hit an unexpected error (DatabaseError('database disk image is malformed')).History will not be written to the database.\n"
     ]
    }
   ],
   "source": [
    "import stata_setup"
   ]
  },
  {
   "cell_type": "code",
   "execution_count": 2,
   "id": "aa8feb91-3901-4925-9acd-003b546910ae",
   "metadata": {},
   "outputs": [
    {
     "name": "stdout",
     "output_type": "stream",
     "text": [
      "\n",
      "  ___  ____  ____  ____  ____ ®\n",
      " /__    /   ____/   /   ____/      17.0\n",
      "___/   /   /___/   /   /___/       BE—Basic Edition\n",
      "\n",
      " Statistics and Data Science       Copyright 1985-2021 StataCorp LLC\n",
      "                                   StataCorp\n",
      "                                   4905 Lakeway Drive\n",
      "                                   College Station, Texas 77845 USA\n",
      "                                   800-STATA-PC        https://www.stata.com\n",
      "                                   979-696-4600        stata@stata.com\n",
      "\n",
      "Stata license: Single-user , expiring 16 Apr 2023\n",
      "Serial number: 301709041865\n",
      "  Licensed to: Tomas Protivinsky\n",
      "               CERGE-EI\n",
      "\n",
      "Notes:\n",
      "      1. Unicode is supported; see help unicode_advice.\n"
     ]
    }
   ],
   "source": [
    "stata_setup.config('/usr/local/stata17', 'be')"
   ]
  },
  {
   "cell_type": "code",
   "execution_count": 18,
   "id": "e49028c0-0c9f-470d-9d07-250985b395f3",
   "metadata": {},
   "outputs": [
    {
     "name": "stdout",
     "output_type": "stream",
     "text": [
      "\n",
      ". // kod\n",
      ". clear all\n",
      "\n",
      ". version 17\n",
      "\n",
      ". set more off\n",
      "\n",
      ". // global path to data\n",
      ". global PATHD=\"/mnt/d/projects/idea/data\"\n",
      "\n",
      ". \n",
      ". quiet import spss ${PATHD}/PISA/2018/CZ/CY07_MSU_STU_QQQ_FINAL_CZ.sav, clear\n",
      "\n",
      ". \n",
      ". // 1. PŘÍPRAVA DAT\n",
      ". // zde spoléhám na to, že pohlaví mám u všech - v datasetu to platí\n",
      ". gen girl = (ST004D01T == 1)\n",
      "\n",
      ". keep if (ST001D01T == \"Grade 9\":labels3 & STRATUMID_rec == \"ZŠ\":labels2)\n",
      "(4,832 observations deleted)\n",
      "\n",
      ". \n",
      ". gen gr_matematika = ST800C01HA_CZ\n",
      "(290 missing values generated)\n",
      "\n",
      ". gen gr_cestina = ST800C02HA_CZ\n",
      "(293 missing values generated)\n",
      "\n",
      ". \n",
      ". // recode gr_matematika 1=1 2=2 3=5 4=4 5=3 6 .=.\n",
      ". // recode gr_cestina 1=1 2=2 3=5 4=4 5=3 6 .=.\n",
      ". recode gr_matematika 3=5 5=3 6=.\n",
      "(592 changes made to gr_matematika)\n",
      "\n",
      ". recode gr_cestina 6=.\n",
      "(15 changes made to gr_cestina)\n",
      "\n",
      ". \n",
      ". // podívejme se ještě na přírodovědu\n",
      ". recode ST800C04HA_CZ 6=.\n",
      "(12 changes made to ST800C04HA_CZ)\n",
      "\n",
      ". recode ST800C05HA_CZ 6=.\n",
      "(13 changes made to ST800C05HA_CZ)\n",
      "\n",
      ". recode ST800C06HA_CZ 6=.\n",
      "(13 changes made to ST800C06HA_CZ)\n",
      "\n",
      ". \n",
      ". egen gr_science = rowmean(ST800C04HA_CZ ST800C05HA_CZ ST800C06HA_CZ)\n",
      "(301 missing values generated)\n",
      "\n",
      ". \n",
      ". egen gr_matematika_z = std(gr_matematika)\n",
      "(306 missing values generated)\n",
      "\n",
      ". egen gr_cestina_z = std(gr_cestina)\n",
      "(308 missing values generated)\n",
      "\n",
      ". egen gr_science_z = std(gr_science)\n",
      "(301 missing values generated)\n",
      "\n",
      ". \n",
      ". \n",
      ". \n",
      ". // all this stuff has to be run at once\n",
      ". tempfile stu18\n",
      "\n",
      ". save `stu18'\n",
      "file /tmp/St20476.00000f saved as .dta format\n",
      "\n",
      ". \n",
      ". quiet import spss ${PATHD}/PISA/2018/CZ/CY07_MSU_SCH_QQQ_FINAL_CZ.sav, clear\n",
      "\n",
      ". keep CNTSCHID W_SCHGRNRABWT\n",
      "\n",
      ". tempfile sch18\n",
      "\n",
      ". save `sch18'\n",
      "file /tmp/St20476.00000g saved as .dta format\n",
      "\n",
      ". \n",
      ". use `stu18'\n",
      "\n",
      ". merge m:1 CNTSCHID using `sch18'\n",
      "\n",
      "    Result                      Number of obs\n",
      "    -----------------------------------------\n",
      "    Not matched                           204\n",
      "        from master                         0  (_merge==1)\n",
      "        from using                        204  (_merge==2)\n",
      "\n",
      "    Matched                             2,187  (_merge==3)\n",
      "    -----------------------------------------\n",
      "\n",
      ". // je dobré zkontrolovat, že je to v pořádku namergované\n",
      ". drop if _merge==2 \n",
      "(204 observations deleted)\n",
      "\n",
      ". \n",
      ". // 2. ANALÝZA\n",
      ". gen math=1/0\n",
      "(2,187 missing values generated)\n",
      "\n",
      ". gen read=1/0\n",
      "(2,187 missing values generated)\n",
      "\n",
      ". gen scie=1/0\n",
      "(2,187 missing values generated)\n",
      "\n",
      ". mi import wide, imputed(math=PV*MATH read=PV*READ scie=PV*SCIE) clear\n",
      "\n",
      ". \n",
      ". qui mi passive: egen mathz = std(math)\n",
      "\n",
      ". qui mi passive: egen readz = std(read)\n",
      "\n",
      ". qui mi passive: egen sciez = std(scie)\n",
      "\n",
      ". egen ESCSz = std(ESCS)\n",
      "(19 missing values generated)\n",
      "\n",
      ". \n"
     ]
    }
   ],
   "source": [
    "%%stata\n",
    "// kod\n",
    "clear all\n",
    "version 17\n",
    "set more off\n",
    "// global path to data\n",
    "global PATHD=\"/mnt/d/projects/idea/data\"\n",
    "\n",
    "quiet import spss ${PATHD}/PISA/2018/CZ/CY07_MSU_STU_QQQ_FINAL_CZ.sav, clear\n",
    "\n",
    "// 1. PŘÍPRAVA DAT\n",
    "// zde spoléhám na to, že pohlaví mám u všech - v datasetu to platí\n",
    "gen girl = (ST004D01T == 1)\n",
    "keep if (ST001D01T == \"Grade 9\":labels3 & STRATUMID_rec == \"ZŠ\":labels2)\n",
    "\n",
    "gen gr_matematika = ST800C01HA_CZ\n",
    "gen gr_cestina = ST800C02HA_CZ\n",
    "\n",
    "// recode gr_matematika 1=1 2=2 3=5 4=4 5=3 6 .=.\n",
    "// recode gr_cestina 1=1 2=2 3=5 4=4 5=3 6 .=.\n",
    "recode gr_matematika 3=5 5=3 6=.\n",
    "recode gr_cestina 6=.\n",
    "\n",
    "// podívejme se ještě na přírodovědu\n",
    "recode ST800C04HA_CZ 6=.\n",
    "recode ST800C05HA_CZ 6=.\n",
    "recode ST800C06HA_CZ 6=.\n",
    "\n",
    "egen gr_science = rowmean(ST800C04HA_CZ ST800C05HA_CZ ST800C06HA_CZ)\n",
    "\n",
    "egen gr_matematika_z = std(gr_matematika)\n",
    "egen gr_cestina_z = std(gr_cestina)\n",
    "egen gr_science_z = std(gr_science)\n",
    "\n",
    "\n",
    "\n",
    "// all this stuff has to be run at once\n",
    "tempfile stu18\n",
    "save `stu18'\n",
    "\n",
    "quiet import spss ${PATHD}/PISA/2018/CZ/CY07_MSU_SCH_QQQ_FINAL_CZ.sav, clear\n",
    "keep CNTSCHID W_SCHGRNRABWT\n",
    "tempfile sch18\n",
    "save `sch18'\n",
    "\n",
    "use `stu18'\n",
    "merge m:1 CNTSCHID using `sch18'\n",
    "// je dobré zkontrolovat, že je to v pořádku namergované\n",
    "drop if _merge==2 \n",
    "\n",
    "// 2. ANALÝZA\n",
    "gen math=1/0\n",
    "gen read=1/0\n",
    "gen scie=1/0\n",
    "mi import wide, imputed(math=PV*MATH read=PV*READ scie=PV*SCIE) clear\n",
    "\n",
    "qui mi passive: egen mathz = std(math)\n",
    "qui mi passive: egen readz = std(read)\n",
    "qui mi passive: egen sciez = std(scie)\n",
    "egen ESCSz = std(ESCS)\n"
   ]
  },
  {
   "cell_type": "code",
   "execution_count": 9,
   "id": "c8e5f9be-0d69-4021-903a-072062d848de",
   "metadata": {},
   "outputs": [],
   "source": [
    "%%stata\n",
    "preserve"
   ]
  },
  {
   "cell_type": "code",
   "execution_count": 12,
   "id": "9ee7915a-4d4b-44ff-a639-df459f9a9314",
   "metadata": {},
   "outputs": [],
   "source": [
    "from pystata import stata"
   ]
  },
  {
   "cell_type": "code",
   "execution_count": 22,
   "id": "b64a3c35-5887-4360-a42c-4b596673e092",
   "metadata": {},
   "outputs": [
    {
     "name": "stdout",
     "output_type": "stream",
     "text": [
      "\n"
     ]
    },
    {
     "data": {
      "text/plain": [
       "409.78710021972654"
      ]
     },
     "execution_count": 22,
     "metadata": {},
     "output_type": "execute_result"
    }
   ],
   "source": [
    "gr = 1\n",
    "q = 0.05\n",
    "\n",
    "stata.run(f'''\n",
    "    preserve\n",
    "    keep if gr_matematika == {gr}\n",
    "    mi estimate, dots: qreg math [pw = W_FSTUWT], q({q})\n",
    "    restore\n",
    "''', quietly=True)\n",
    "stata.get_ereturn()['e(b_mi)'][0][0]"
   ]
  },
  {
   "cell_type": "code",
   "execution_count": 16,
   "id": "3e226859-e43d-495f-9c14-f7571696119d",
   "metadata": {},
   "outputs": [
    {
     "data": {
      "text/plain": [
       "409.78710021972654"
      ]
     },
     "execution_count": 16,
     "metadata": {},
     "output_type": "execute_result"
    }
   ],
   "source": [
    "stata.get_ereturn()['e(b_mi)'][0][0]"
   ]
  },
  {
   "cell_type": "code",
   "execution_count": 29,
   "id": "d0bd4f46-87be-49e1-92a7-e92c8f57f778",
   "metadata": {},
   "outputs": [
    {
     "name": "stdout",
     "output_type": "stream",
     "text": [
      "a\n"
     ]
    }
   ],
   "source": [
    "dd = {1: 'a'}\n",
    "for k in dd.items():\n",
    "    print(k[1])"
   ]
  },
  {
   "cell_type": "code",
   "execution_count": 30,
   "id": "037b861a-ccb7-4b9b-a072-7b77af800eb1",
   "metadata": {},
   "outputs": [
    {
     "name": "stdout",
     "output_type": "stream",
     "text": [
      "running 1\n",
      "\n",
      "\n",
      "\n",
      "\n",
      "\n",
      "running 2\n",
      "\n",
      "\n",
      "\n",
      "\n",
      "\n",
      "running 3\n",
      "\n",
      "\n",
      "\n",
      "\n",
      "\n",
      "running 4\n",
      "\n",
      "\n",
      "\n",
      "\n",
      "\n",
      "running 5\n",
      "\n",
      "\n",
      "\n",
      "\n",
      "\n"
     ]
    }
   ],
   "source": [
    "boxplots = []\n",
    "\n",
    "bxp_def = {\n",
    "    'med': 0.5,\n",
    "    'q1': 0.25,\n",
    "    'q3': 0.75,\n",
    "    'whislo': 0.05,\n",
    "    'whishi': 0.95\n",
    "}\n",
    "\n",
    "\n",
    "for gr in range(1, 6):\n",
    "    print(f'running {gr}')\n",
    "    inner = {}\n",
    "    inner['label'] = gr\n",
    "    inner['fliers'] = []\n",
    "    if gr < 5:\n",
    "        cmd = 'qreg math [pw = W_FSTUWT]'\n",
    "    else:\n",
    "        cmd = 'bsqreg math'\n",
    "    for lbl, q in bxp_def.items():        \n",
    "        stata.run(f'''\n",
    "            preserve\n",
    "            keep if gr_matematika == {gr}\n",
    "            mi estimate, dots: {cmd}, q({q})\n",
    "            restore\n",
    "        ''', quietly=True)\n",
    "        inner[lbl] = stata.get_ereturn()['e(b_mi)'][0][0]\n",
    "    boxplots.append(inner)"
   ]
  },
  {
   "cell_type": "code",
   "execution_count": 33,
   "id": "e50bf22a-686d-4f3b-83d2-1772a0387463",
   "metadata": {},
   "outputs": [],
   "source": [
    "import matplotlib.pyplot as plt\n",
    "# aby grafy byly rozumně čitelné na obrazovce\n",
    "plt.rcParams['figure.dpi'] = 90\n",
    "plt.rcParams['axes.titlesize'] = 11\n",
    "plt.rcParams['figure.figsize'] = 10, 5"
   ]
  },
  {
   "cell_type": "code",
   "execution_count": null,
   "id": "d5445f74-b93a-4ff4-8349-1eaf6e338285",
   "metadata": {},
   "outputs": [],
   "source": [
    "seaborn.palette"
   ]
  },
  {
   "cell_type": "code",
   "execution_count": 53,
   "id": "a22898c2-0f8a-4c40-8ad1-41d4648e650a",
   "metadata": {},
   "outputs": [],
   "source": [
    "import seaborn as sns"
   ]
  },
  {
   "cell_type": "code",
   "execution_count": 56,
   "id": "46afa915-3fc7-4df4-ba06-f248334be796",
   "metadata": {},
   "outputs": [
    {
     "data": {
      "text/plain": [
       "(0.12156862745098039, 0.4666666666666667, 0.7058823529411765)"
      ]
     },
     "execution_count": 56,
     "metadata": {},
     "output_type": "execute_result"
    }
   ],
   "source": []
  },
  {
   "cell_type": "code",
   "execution_count": 109,
   "id": "7f50778a-14fd-4559-9fc9-d0467cd9c1aa",
   "metadata": {},
   "outputs": [
    {
     "data": {
      "image/png": "[encoded data removed]",
      "text/plain": [
       "<Figure size 900x450 with 1 Axes>"
      ]
     },
     "metadata": {
      "needs_background": "light"
     },
     "output_type": "display_data"
    }
   ],
   "source": [
    "fig, ax = plt.subplots()\n",
    "\n",
    "props = dict(linewidth=0.6, color='black')\n",
    "pal = sns.color_palette(n_colors=5)\n",
    "\n",
    "boxes = ax.bxp(boxplots, vert=False, positions=range(6, 1, -1), widths=0.8, patch_artist=True, medianprops=props, boxprops=dict(linewidth=0.6, edgecolor='black'), whiskerprops=props, capprops=props)\n",
    "for i, bx in enumerate(boxes['boxes']):\n",
    "    bx.set_facecolor([*pal[i], 0.85])\n",
    "None"
   ]
  },
  {
   "cell_type": "code",
   "execution_count": 110,
   "id": "ac2427d0-da09-4fb1-9f69-3d5320595636",
   "metadata": {},
   "outputs": [
    {
     "data": {
      "text/plain": [
       "[{'label': 1,\n",
       "  'fliers': [],\n",
       "  'med': 542.6102966308594,\n",
       "  'q1': 495.2695037841797,\n",
       "  'q3': 588.41728515625,\n",
       "  'whislo': 409.78710021972654,\n",
       "  'whishi': 656.9621887207031},\n",
       " {'label': 2,\n",
       "  'fliers': [],\n",
       "  'med': 508.4195953369141,\n",
       "  'q1': 459.66139831542966,\n",
       "  'q3': 554.3580871582031,\n",
       "  'whislo': 389.07439575195315,\n",
       "  'whishi': 617.1900085449219},\n",
       " {'label': 3,\n",
       "  'fliers': [],\n",
       "  'med': 452.7486968994141,\n",
       "  'q1': 408.0041015625,\n",
       "  'q3': 503.0759002685547,\n",
       "  'whislo': 339.9404998779297,\n",
       "  'whishi': 567.0766967773437},\n",
       " {'label': 4,\n",
       "  'fliers': [],\n",
       "  'med': 423.2319000244141,\n",
       "  'q1': 376.51520080566405,\n",
       "  'q3': 471.8629974365234,\n",
       "  'whislo': 312.0891998291016,\n",
       "  'whishi': 531.4715942382812},\n",
       " {'label': 5,\n",
       "  'fliers': [],\n",
       "  'med': 404.86570129394534,\n",
       "  'q1': 367.9947967529297,\n",
       "  'q3': 445.3336975097656,\n",
       "  'whislo': 293.4135986328125,\n",
       "  'whishi': 519.075894165039}]"
      ]
     },
     "execution_count": 110,
     "metadata": {},
     "output_type": "execute_result"
    }
   ],
   "source": [
    "boxplots"
   ]
  },
  {
   "cell_type": "code",
   "execution_count": 89,
   "id": "f4976706-f319-4026-9156-d413eb1a8218",
   "metadata": {},
   "outputs": [
    {
     "data": {
      "text/plain": [
       "(0.12156862745098039, 0.4666666666666667, 0.7058823529411765)"
      ]
     },
     "execution_count": 89,
     "metadata": {},
     "output_type": "execute_result"
    }
   ],
   "source": [
    "pal[0]"
   ]
  },
  {
   "cell_type": "code",
   "execution_count": 51,
   "id": "0b8cc004-0ca4-4e34-bb14-6c1360142669",
   "metadata": {},
   "outputs": [
    {
     "data": {
      "text/plain": [
       "[<matplotlib.patches.PathPatch at 0x7f051c1a47c0>,\n",
       " <matplotlib.patches.PathPatch at 0x7f051c1b2a90>,\n",
       " <matplotlib.patches.PathPatch at 0x7f051c1bbdf0>,\n",
       " <matplotlib.patches.PathPatch at 0x7f051c157190>,\n",
       " <matplotlib.patches.PathPatch at 0x7f051c1634f0>]"
      ]
     },
     "execution_count": 51,
     "metadata": {},
     "output_type": "execute_result"
    }
   ],
   "source": [
    "foo['boxes']"
   ]
  },
  {
   "cell_type": "code",
   "execution_count": 2,
   "id": "7fb357b0-1c56-4860-8ef5-f9d466895e80",
   "metadata": {},
   "outputs": [
    {
     "ename": "TypeError",
     "evalue": "config() got an unexpected keyword argument 'os_system'",
     "output_type": "error",
     "traceback": [
      "\u001b[0;31m---------------------------------------------------------------------------\u001b[0m",
      "\u001b[0;31mTypeError\u001b[0m                                 Traceback (most recent call last)",
      "Input \u001b[0;32mIn [2]\u001b[0m, in \u001b[0;36m<cell line: 1>\u001b[0;34m()\u001b[0m\n\u001b[0;32m----> 1\u001b[0m \u001b[43mstata_setup\u001b[49m\u001b[38;5;241;43m.\u001b[39;49m\u001b[43mconfig\u001b[49m\u001b[43m(\u001b[49m\u001b[38;5;124;43m'\u001b[39;49m\u001b[38;5;124;43m/mnt/c/Program Files/Stata17/\u001b[39;49m\u001b[38;5;124;43m'\u001b[39;49m\u001b[43m,\u001b[49m\u001b[43m \u001b[49m\u001b[38;5;124;43m'\u001b[39;49m\u001b[38;5;124;43mbe\u001b[39;49m\u001b[38;5;124;43m'\u001b[39;49m\u001b[43m,\u001b[49m\u001b[43m \u001b[49m\u001b[43mos_system\u001b[49m\u001b[38;5;241;43m=\u001b[39;49m\u001b[38;5;124;43m'\u001b[39;49m\u001b[38;5;124;43mWindows\u001b[39;49m\u001b[38;5;124;43m'\u001b[39;49m\u001b[43m)\u001b[49m\n",
      "\u001b[0;31mTypeError\u001b[0m: config() got an unexpected keyword argument 'os_system'"
     ]
    }
   ],
   "source": [
    "stata_setup.config('/mnt/c/Program Files/Stata17/', 'be', os_system='Windows')"
   ]
  },
  {
   "cell_type": "code",
   "execution_count": 4,
   "id": "bf0c3fd3-5e94-4640-aae2-7864ae9fa584",
   "metadata": {},
   "outputs": [],
   "source": [
    "import sys\n",
    "import os"
   ]
  },
  {
   "cell_type": "code",
   "execution_count": 18,
   "id": "d56c8631-418c-4c45-9877-4e1f58d89f91",
   "metadata": {},
   "outputs": [],
   "source": [
    "import platform"
   ]
  },
  {
   "cell_type": "code",
   "execution_count": 20,
   "id": "c24e077b-9637-4323-ad6a-838693461e5d",
   "metadata": {},
   "outputs": [
    {
     "data": {
      "text/plain": [
       "'Linux'"
      ]
     },
     "execution_count": 20,
     "metadata": {},
     "output_type": "execute_result"
    }
   ],
   "source": [
    "platform.system()"
   ]
  },
  {
   "cell_type": "code",
   "execution_count": 14,
   "id": "2e499192-3cd0-45fe-a9f7-1e40cbcb4673",
   "metadata": {},
   "outputs": [
    {
     "data": {
      "text/plain": [
       "['DLXAPI64.DLL',\n",
       " 'icudt54l.dat',\n",
       " 'jar',\n",
       " 'java',\n",
       " 'openmp',\n",
       " 'pystata',\n",
       " 'StataAdministrativeTools-64.exe',\n",
       " 'std2dlib-x64.dll',\n",
       " 'theme-x64.dll',\n",
       " 'update']"
      ]
     },
     "execution_count": 14,
     "metadata": {},
     "output_type": "execute_result"
    }
   ],
   "source": [
    "os.listdir('/mnt/c/Program Files/Stata17/utilities')"
   ]
  },
  {
   "cell_type": "code",
   "execution_count": 5,
   "id": "a86937e9-746c-454a-9ca1-218ebf704611",
   "metadata": {},
   "outputs": [],
   "source": [
    "sys.path.append('/mnt/c/Program Files/Stata17/utilities')"
   ]
  },
  {
   "cell_type": "code",
   "execution_count": 6,
   "id": "f91d95df-e711-4d2e-a71e-a8b6993d3b9f",
   "metadata": {},
   "outputs": [],
   "source": [
    "from pystata import config"
   ]
  },
  {
   "cell_type": "code",
   "execution_count": 7,
   "id": "8427d2ae-c646-456e-9a54-f1f0064ba84d",
   "metadata": {},
   "outputs": [
    {
     "ename": "SystemError",
     "evalue": "failed to load Stata's shared library",
     "output_type": "error",
     "traceback": [
      "\u001b[0;31m---------------------------------------------------------------------------\u001b[0m",
      "\u001b[0;31mOSError\u001b[0m                                   Traceback (most recent call last)",
      "File \u001b[0;32m/mnt/c/Program Files/Stata17/utilities/pystata/config.py:239\u001b[0m, in \u001b[0;36minit\u001b[0;34m(edition, splash, os_system)\u001b[0m\n\u001b[1;32m    238\u001b[0m \u001b[38;5;28;01mtry\u001b[39;00m:\n\u001b[0;32m--> 239\u001b[0m     stlib \u001b[38;5;241m=\u001b[39m \u001b[43mcdll\u001b[49m\u001b[38;5;241;43m.\u001b[39;49m\u001b[43mLoadLibrary\u001b[49m\u001b[43m(\u001b[49m\u001b[43mlib_path\u001b[49m\u001b[43m)\u001b[49m\n\u001b[1;32m    240\u001b[0m \u001b[38;5;28;01mexcept\u001b[39;00m:\n",
      "File \u001b[0;32m/usr/lib/python3.9/ctypes/__init__.py:452\u001b[0m, in \u001b[0;36mLibraryLoader.LoadLibrary\u001b[0;34m(self, name)\u001b[0m\n\u001b[1;32m    451\u001b[0m \u001b[38;5;28;01mdef\u001b[39;00m \u001b[38;5;21mLoadLibrary\u001b[39m(\u001b[38;5;28mself\u001b[39m, name):\n\u001b[0;32m--> 452\u001b[0m     \u001b[38;5;28;01mreturn\u001b[39;00m \u001b[38;5;28;43mself\u001b[39;49m\u001b[38;5;241;43m.\u001b[39;49m\u001b[43m_dlltype\u001b[49m\u001b[43m(\u001b[49m\u001b[43mname\u001b[49m\u001b[43m)\u001b[49m\n",
      "File \u001b[0;32m/usr/lib/python3.9/ctypes/__init__.py:374\u001b[0m, in \u001b[0;36mCDLL.__init__\u001b[0;34m(self, name, mode, handle, use_errno, use_last_error, winmode)\u001b[0m\n\u001b[1;32m    373\u001b[0m \u001b[38;5;28;01mif\u001b[39;00m handle \u001b[38;5;129;01mis\u001b[39;00m \u001b[38;5;28;01mNone\u001b[39;00m:\n\u001b[0;32m--> 374\u001b[0m     \u001b[38;5;28mself\u001b[39m\u001b[38;5;241m.\u001b[39m_handle \u001b[38;5;241m=\u001b[39m \u001b[43m_dlopen\u001b[49m\u001b[43m(\u001b[49m\u001b[38;5;28;43mself\u001b[39;49m\u001b[38;5;241;43m.\u001b[39;49m\u001b[43m_name\u001b[49m\u001b[43m,\u001b[49m\u001b[43m \u001b[49m\u001b[43mmode\u001b[49m\u001b[43m)\u001b[49m\n\u001b[1;32m    375\u001b[0m \u001b[38;5;28;01melse\u001b[39;00m:\n",
      "\u001b[0;31mOSError\u001b[0m: /mnt/c/Program Files/Stata17/be-64.dll: invalid ELF header",
      "\nDuring handling of the above exception, another exception occurred:\n",
      "\u001b[0;31mSystemError\u001b[0m                               Traceback (most recent call last)",
      "Input \u001b[0;32mIn [7]\u001b[0m, in \u001b[0;36m<cell line: 1>\u001b[0;34m()\u001b[0m\n\u001b[0;32m----> 1\u001b[0m \u001b[43mconfig\u001b[49m\u001b[38;5;241;43m.\u001b[39;49m\u001b[43minit\u001b[49m\u001b[43m(\u001b[49m\u001b[38;5;124;43m'\u001b[39;49m\u001b[38;5;124;43mbe\u001b[39;49m\u001b[38;5;124;43m'\u001b[39;49m\u001b[43m,\u001b[49m\u001b[43m \u001b[49m\u001b[43mos_system\u001b[49m\u001b[38;5;241;43m=\u001b[39;49m\u001b[38;5;124;43m'\u001b[39;49m\u001b[38;5;124;43mWindows\u001b[39;49m\u001b[38;5;124;43m'\u001b[39;49m\u001b[43m)\u001b[49m\n",
      "File \u001b[0;32m/mnt/c/Program Files/Stata17/utilities/pystata/config.py:241\u001b[0m, in \u001b[0;36minit\u001b[0;34m(edition, splash, os_system)\u001b[0m\n\u001b[1;32m    239\u001b[0m     stlib \u001b[38;5;241m=\u001b[39m cdll\u001b[38;5;241m.\u001b[39mLoadLibrary(lib_path)\n\u001b[1;32m    240\u001b[0m \u001b[38;5;28;01mexcept\u001b[39;00m:\n\u001b[0;32m--> 241\u001b[0m     \u001b[43m_RaiseSystemException\u001b[49m\u001b[43m(\u001b[49m\u001b[38;5;124;43m\"\u001b[39;49m\u001b[38;5;124;43mfailed to load Stata\u001b[39;49m\u001b[38;5;124;43m'\u001b[39;49m\u001b[38;5;124;43ms shared library\u001b[39;49m\u001b[38;5;124;43m\"\u001b[39;49m\u001b[43m)\u001b[49m\n\u001b[1;32m    243\u001b[0m \u001b[38;5;28;01mif\u001b[39;00m stlib \u001b[38;5;129;01mis\u001b[39;00m \u001b[38;5;28;01mNone\u001b[39;00m:\n\u001b[1;32m    244\u001b[0m     _RaiseSystemException(\u001b[38;5;124m\"\u001b[39m\u001b[38;5;124mfailed to load Stata\u001b[39m\u001b[38;5;124m'\u001b[39m\u001b[38;5;124ms shared library\u001b[39m\u001b[38;5;124m\"\u001b[39m)\t\t\n",
      "File \u001b[0;32m/mnt/c/Program Files/Stata17/utilities/pystata/config.py:86\u001b[0m, in \u001b[0;36m_RaiseSystemException\u001b[0;34m(msg)\u001b[0m\n\u001b[1;32m     85\u001b[0m \u001b[38;5;28;01mdef\u001b[39;00m \u001b[38;5;21m_RaiseSystemException\u001b[39m(msg):\n\u001b[0;32m---> 86\u001b[0m     \u001b[38;5;28;01mraise\u001b[39;00m \u001b[38;5;167;01mSystemError\u001b[39;00m(msg)\n",
      "\u001b[0;31mSystemError\u001b[0m: failed to load Stata's shared library"
     ]
    }
   ],
   "source": [
    "config.init('be', os_system='Windows')"
   ]
  },
  {
   "cell_type": "code",
   "execution_count": null,
   "id": "3f4bcc85-f50b-40aa-8955-ad1d4f90004f",
   "metadata": {},
   "outputs": [],
   "source": []
  }
 ],
 "metadata": {
  "kernelspec": {
   "display_name": "Python 3 (ipykernel)",
   "language": "python",
   "name": "python3"
  },
  "language_info": {
   "codemirror_mode": {
    "name": "ipython",
    "version": 3
   },
   "file_extension": ".py",
   "mimetype": "text/x-python",
   "name": "python",
   "nbconvert_exporter": "python",
   "pygments_lexer": "ipython3",
   "version": "3.9.7"
  }
 },
 "nbformat": 4,
 "nbformat_minor": 5
}
