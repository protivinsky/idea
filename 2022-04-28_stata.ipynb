{
 "cells": [
  {
   "cell_type": "code",
   "execution_count": 1,
   "id": "7ce92493-84e7-4ab8-a691-c904710eac23",
   "metadata": {},
   "outputs": [
    {
     "name": "stdout",
     "output_type": "stream",
     "text": [
      "5\n"
     ]
    }
   ],
   "source": [
    "di 2 + 3"
   ]
  },
  {
   "cell_type": "code",
   "execution_count": 3,
   "id": "32015775-e6b3-4557-9c1b-31091cf27722",
   "metadata": {},
   "outputs": [
    {
     "name": "stdout",
     "output_type": "stream",
     "text": [
      "\n",
      "\n",
      "\n",
      "\n",
      "\n",
      "\n",
      "\n",
      "(4,832 observations deleted)\n",
      "\n",
      "(290 missing values generated)\n",
      "\n",
      "(293 missing values generated)\n",
      "\n",
      "(592 changes made to gr_matematika)\n",
      "\n",
      "(15 changes made to gr_cestina)\n",
      "\n",
      "(12 changes made to ST800C04HA_CZ)\n",
      "\n",
      "(13 changes made to ST800C05HA_CZ)\n",
      "\n",
      "(13 changes made to ST800C06HA_CZ)\n",
      "\n",
      "(301 missing values generated)\n",
      "\n",
      "(306 missing values generated)\n",
      "\n",
      "(308 missing values generated)\n",
      "\n",
      "(301 missing values generated)\n",
      "\n",
      "\n",
      "file /tmp/St22570.000001 saved as .dta format\n",
      "\n",
      "\n",
      "\n",
      "\n",
      "file /tmp/St22570.000002 saved as .dta format\n",
      "\n",
      "\n",
      "\n",
      "    Result                      Number of obs\n",
      "    -----------------------------------------\n",
      "    Not matched                           204\n",
      "        from master                         0  (_merge==1)\n",
      "        from using                        204  (_merge==2)\n",
      "\n",
      "    Matched                             2,187  (_merge==3)\n",
      "    -----------------------------------------\n",
      "\n",
      "(204 observations deleted)\n",
      "\n",
      "(2,187 missing values generated)\n",
      "\n",
      "(2,187 missing values generated)\n",
      "\n",
      "(2,187 missing values generated)\n",
      "\n",
      "\n",
      "\n",
      "\n",
      "\n",
      "(19 missing values generated)\n"
     ]
    }
   ],
   "source": [
    "// kod\n",
    "clear all\n",
    "version 17\n",
    "set more off\n",
    "// global path to data\n",
    "global PATHD=\"/mnt/d/projects/idea/data\"\n",
    "\n",
    "quiet import spss ${PATHD}/PISA/2018/CZ/CY07_MSU_STU_QQQ_FINAL_CZ.sav, clear\n",
    "\n",
    "// 1. PŘÍPRAVA DAT\n",
    "// zde spoléhám na to, že pohlaví mám u všech - v datasetu to platí\n",
    "gen girl = (ST004D01T == 1)\n",
    "keep if (ST001D01T == \"Grade 9\":labels3 & STRATUMID_rec == \"ZŠ\":labels2)\n",
    "\n",
    "gen gr_matematika = ST800C01HA_CZ\n",
    "gen gr_cestina = ST800C02HA_CZ\n",
    "\n",
    "// recode gr_matematika 1=1 2=2 3=5 4=4 5=3 6 .=.\n",
    "// recode gr_cestina 1=1 2=2 3=5 4=4 5=3 6 .=.\n",
    "recode gr_matematika 3=5 5=3 6=.\n",
    "recode gr_cestina 6=.\n",
    "\n",
    "// podívejme se ještě na přírodovědu\n",
    "recode ST800C04HA_CZ 6=.\n",
    "recode ST800C05HA_CZ 6=.\n",
    "recode ST800C06HA_CZ 6=.\n",
    "\n",
    "egen gr_science = rowmean(ST800C04HA_CZ ST800C05HA_CZ ST800C06HA_CZ)\n",
    "\n",
    "egen gr_matematika_z = std(gr_matematika)\n",
    "egen gr_cestina_z = std(gr_cestina)\n",
    "egen gr_science_z = std(gr_science)\n",
    "\n",
    "\n",
    "\n",
    "// all this stuff has to be run at once\n",
    "tempfile stu18\n",
    "save `stu18'\n",
    "\n",
    "quiet import spss ${PATHD}/PISA/2018/CZ/CY07_MSU_SCH_QQQ_FINAL_CZ.sav, clear\n",
    "keep CNTSCHID W_SCHGRNRABWT\n",
    "tempfile sch18\n",
    "save `sch18'\n",
    "\n",
    "use `stu18'\n",
    "merge m:1 CNTSCHID using `sch18'\n",
    "// je dobré zkontrolovat, že je to v pořádku namergované\n",
    "drop if _merge==2 \n",
    "\n",
    "// 2. ANALÝZA\n",
    "gen math=1/0\n",
    "gen read=1/0\n",
    "gen scie=1/0\n",
    "mi import wide, imputed(math=PV*MATH read=PV*READ scie=PV*SCIE) clear\n",
    "\n",
    "qui mi passive: egen mathz = std(math)\n",
    "qui mi passive: egen readz = std(read)\n",
    "qui mi passive: egen sciez = std(scie)\n",
    "egen ESCSz = std(ESCS)\n"
   ]
  },
  {
   "cell_type": "code",
   "execution_count": 4,
   "id": "1767987b-6b3a-4e55-93eb-27213de9a7ad",
   "metadata": {},
   "outputs": [
    {
     "name": "stdout",
     "output_type": "stream",
     "text": [
      "\n",
      "    Variable |        Obs        Mean    Std. dev.       Min        Max\n",
      "-------------+---------------------------------------------------------\n",
      "        girl |      2,187    .4439872    .4969663          0          1\n"
     ]
    }
   ],
   "source": [
    "su girl"
   ]
  },
  {
   "cell_type": "code",
   "execution_count": null,
   "id": "7f16a269-6ca8-40e1-ab29-e3cd4691ad64",
   "metadata": {},
   "outputs": [],
   "source": []
  }
 ],
 "metadata": {
  "kernelspec": {
   "display_name": "Stata",
   "language": "stata",
   "name": "stata"
  },
  "language_info": {
   "codemirror_mode": "stata",
   "file_extension": ".do",
   "mimetype": "text/x-stata",
   "name": "stata",
   "version": "15.1"
  }
 },
 "nbformat": 4,
 "nbformat_minor": 5
}
